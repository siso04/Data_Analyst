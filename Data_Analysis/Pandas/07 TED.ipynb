{
 "cells": [
  {
   "cell_type": "code",
   "execution_count": 1,
   "id": "3f5682db",
   "metadata": {},
   "outputs": [],
   "source": [
    "import pandas as pd\n",
    "import numpy as np\n",
    "import matplotlib.pyplot as plt"
   ]
  },
  {
   "cell_type": "code",
   "execution_count": 2,
   "id": "f4137883",
   "metadata": {},
   "outputs": [],
   "source": [
    "pd.set_option('display.precision', 2)"
   ]
  },
  {
   "cell_type": "code",
   "execution_count": 3,
   "id": "02d52c03",
   "metadata": {},
   "outputs": [
    {
     "data": {
      "text/html": [
       "<div>\n",
       "<style scoped>\n",
       "    .dataframe tbody tr th:only-of-type {\n",
       "        vertical-align: middle;\n",
       "    }\n",
       "\n",
       "    .dataframe tbody tr th {\n",
       "        vertical-align: top;\n",
       "    }\n",
       "\n",
       "    .dataframe thead th {\n",
       "        text-align: right;\n",
       "    }\n",
       "</style>\n",
       "<table border=\"1\" class=\"dataframe\">\n",
       "  <thead>\n",
       "    <tr style=\"text-align: right;\">\n",
       "      <th></th>\n",
       "      <th>comments</th>\n",
       "      <th>description</th>\n",
       "      <th>duration</th>\n",
       "      <th>event</th>\n",
       "      <th>film_date</th>\n",
       "      <th>languages</th>\n",
       "      <th>main_speaker</th>\n",
       "      <th>name</th>\n",
       "      <th>num_speaker</th>\n",
       "      <th>published_date</th>\n",
       "      <th>ratings</th>\n",
       "      <th>related_talks</th>\n",
       "      <th>speaker_occupation</th>\n",
       "      <th>tags</th>\n",
       "      <th>title</th>\n",
       "      <th>url</th>\n",
       "      <th>views</th>\n",
       "    </tr>\n",
       "  </thead>\n",
       "  <tbody>\n",
       "    <tr>\n",
       "      <th>0</th>\n",
       "      <td>4553</td>\n",
       "      <td>Sir Ken Robinson makes an entertaining and pro...</td>\n",
       "      <td>1164</td>\n",
       "      <td>TED2006</td>\n",
       "      <td>1140825600</td>\n",
       "      <td>60</td>\n",
       "      <td>Ken Robinson</td>\n",
       "      <td>Ken Robinson: Do schools kill creativity?</td>\n",
       "      <td>1</td>\n",
       "      <td>1151367060</td>\n",
       "      <td>[{'id': 7, 'name': 'Funny', 'count': 19645}, {...</td>\n",
       "      <td>[{'id': 865, 'hero': 'https://pe.tedcdn.com/im...</td>\n",
       "      <td>Author/educator</td>\n",
       "      <td>['children', 'creativity', 'culture', 'dance',...</td>\n",
       "      <td>Do schools kill creativity?</td>\n",
       "      <td>https://www.ted.com/talks/ken_robinson_says_sc...</td>\n",
       "      <td>47227110</td>\n",
       "    </tr>\n",
       "    <tr>\n",
       "      <th>1</th>\n",
       "      <td>265</td>\n",
       "      <td>With the same humor and humanity he exuded in ...</td>\n",
       "      <td>977</td>\n",
       "      <td>TED2006</td>\n",
       "      <td>1140825600</td>\n",
       "      <td>43</td>\n",
       "      <td>Al Gore</td>\n",
       "      <td>Al Gore: Averting the climate crisis</td>\n",
       "      <td>1</td>\n",
       "      <td>1151367060</td>\n",
       "      <td>[{'id': 7, 'name': 'Funny', 'count': 544}, {'i...</td>\n",
       "      <td>[{'id': 243, 'hero': 'https://pe.tedcdn.com/im...</td>\n",
       "      <td>Climate advocate</td>\n",
       "      <td>['alternative energy', 'cars', 'climate change...</td>\n",
       "      <td>Averting the climate crisis</td>\n",
       "      <td>https://www.ted.com/talks/al_gore_on_averting_...</td>\n",
       "      <td>3200520</td>\n",
       "    </tr>\n",
       "    <tr>\n",
       "      <th>2</th>\n",
       "      <td>124</td>\n",
       "      <td>New York Times columnist David Pogue takes aim...</td>\n",
       "      <td>1286</td>\n",
       "      <td>TED2006</td>\n",
       "      <td>1140739200</td>\n",
       "      <td>26</td>\n",
       "      <td>David Pogue</td>\n",
       "      <td>David Pogue: Simplicity sells</td>\n",
       "      <td>1</td>\n",
       "      <td>1151367060</td>\n",
       "      <td>[{'id': 7, 'name': 'Funny', 'count': 964}, {'i...</td>\n",
       "      <td>[{'id': 1725, 'hero': 'https://pe.tedcdn.com/i...</td>\n",
       "      <td>Technology columnist</td>\n",
       "      <td>['computers', 'entertainment', 'interface desi...</td>\n",
       "      <td>Simplicity sells</td>\n",
       "      <td>https://www.ted.com/talks/david_pogue_says_sim...</td>\n",
       "      <td>1636292</td>\n",
       "    </tr>\n",
       "    <tr>\n",
       "      <th>3</th>\n",
       "      <td>200</td>\n",
       "      <td>In an emotionally charged talk, MacArthur-winn...</td>\n",
       "      <td>1116</td>\n",
       "      <td>TED2006</td>\n",
       "      <td>1140912000</td>\n",
       "      <td>35</td>\n",
       "      <td>Majora Carter</td>\n",
       "      <td>Majora Carter: Greening the ghetto</td>\n",
       "      <td>1</td>\n",
       "      <td>1151367060</td>\n",
       "      <td>[{'id': 3, 'name': 'Courageous', 'count': 760}...</td>\n",
       "      <td>[{'id': 1041, 'hero': 'https://pe.tedcdn.com/i...</td>\n",
       "      <td>Activist for environmental justice</td>\n",
       "      <td>['MacArthur grant', 'activism', 'business', 'c...</td>\n",
       "      <td>Greening the ghetto</td>\n",
       "      <td>https://www.ted.com/talks/majora_carter_s_tale...</td>\n",
       "      <td>1697550</td>\n",
       "    </tr>\n",
       "    <tr>\n",
       "      <th>4</th>\n",
       "      <td>593</td>\n",
       "      <td>You've never seen data presented like this. Wi...</td>\n",
       "      <td>1190</td>\n",
       "      <td>TED2006</td>\n",
       "      <td>1140566400</td>\n",
       "      <td>48</td>\n",
       "      <td>Hans Rosling</td>\n",
       "      <td>Hans Rosling: The best stats you've ever seen</td>\n",
       "      <td>1</td>\n",
       "      <td>1151440680</td>\n",
       "      <td>[{'id': 9, 'name': 'Ingenious', 'count': 3202}...</td>\n",
       "      <td>[{'id': 2056, 'hero': 'https://pe.tedcdn.com/i...</td>\n",
       "      <td>Global health expert; data visionary</td>\n",
       "      <td>['Africa', 'Asia', 'Google', 'demo', 'economic...</td>\n",
       "      <td>The best stats you've ever seen</td>\n",
       "      <td>https://www.ted.com/talks/hans_rosling_shows_t...</td>\n",
       "      <td>12005869</td>\n",
       "    </tr>\n",
       "  </tbody>\n",
       "</table>\n",
       "</div>"
      ],
      "text/plain": [
       "   comments                                        description  duration  \\\n",
       "0      4553  Sir Ken Robinson makes an entertaining and pro...      1164   \n",
       "1       265  With the same humor and humanity he exuded in ...       977   \n",
       "2       124  New York Times columnist David Pogue takes aim...      1286   \n",
       "3       200  In an emotionally charged talk, MacArthur-winn...      1116   \n",
       "4       593  You've never seen data presented like this. Wi...      1190   \n",
       "\n",
       "     event   film_date  languages   main_speaker  \\\n",
       "0  TED2006  1140825600         60   Ken Robinson   \n",
       "1  TED2006  1140825600         43        Al Gore   \n",
       "2  TED2006  1140739200         26    David Pogue   \n",
       "3  TED2006  1140912000         35  Majora Carter   \n",
       "4  TED2006  1140566400         48   Hans Rosling   \n",
       "\n",
       "                                            name  num_speaker  published_date  \\\n",
       "0      Ken Robinson: Do schools kill creativity?            1      1151367060   \n",
       "1           Al Gore: Averting the climate crisis            1      1151367060   \n",
       "2                  David Pogue: Simplicity sells            1      1151367060   \n",
       "3             Majora Carter: Greening the ghetto            1      1151367060   \n",
       "4  Hans Rosling: The best stats you've ever seen            1      1151440680   \n",
       "\n",
       "                                             ratings  \\\n",
       "0  [{'id': 7, 'name': 'Funny', 'count': 19645}, {...   \n",
       "1  [{'id': 7, 'name': 'Funny', 'count': 544}, {'i...   \n",
       "2  [{'id': 7, 'name': 'Funny', 'count': 964}, {'i...   \n",
       "3  [{'id': 3, 'name': 'Courageous', 'count': 760}...   \n",
       "4  [{'id': 9, 'name': 'Ingenious', 'count': 3202}...   \n",
       "\n",
       "                                       related_talks  \\\n",
       "0  [{'id': 865, 'hero': 'https://pe.tedcdn.com/im...   \n",
       "1  [{'id': 243, 'hero': 'https://pe.tedcdn.com/im...   \n",
       "2  [{'id': 1725, 'hero': 'https://pe.tedcdn.com/i...   \n",
       "3  [{'id': 1041, 'hero': 'https://pe.tedcdn.com/i...   \n",
       "4  [{'id': 2056, 'hero': 'https://pe.tedcdn.com/i...   \n",
       "\n",
       "                     speaker_occupation  \\\n",
       "0                       Author/educator   \n",
       "1                      Climate advocate   \n",
       "2                  Technology columnist   \n",
       "3    Activist for environmental justice   \n",
       "4  Global health expert; data visionary   \n",
       "\n",
       "                                                tags  \\\n",
       "0  ['children', 'creativity', 'culture', 'dance',...   \n",
       "1  ['alternative energy', 'cars', 'climate change...   \n",
       "2  ['computers', 'entertainment', 'interface desi...   \n",
       "3  ['MacArthur grant', 'activism', 'business', 'c...   \n",
       "4  ['Africa', 'Asia', 'Google', 'demo', 'economic...   \n",
       "\n",
       "                             title  \\\n",
       "0      Do schools kill creativity?   \n",
       "1      Averting the climate crisis   \n",
       "2                 Simplicity sells   \n",
       "3              Greening the ghetto   \n",
       "4  The best stats you've ever seen   \n",
       "\n",
       "                                                 url     views  \n",
       "0  https://www.ted.com/talks/ken_robinson_says_sc...  47227110  \n",
       "1  https://www.ted.com/talks/al_gore_on_averting_...   3200520  \n",
       "2  https://www.ted.com/talks/david_pogue_says_sim...   1636292  \n",
       "3  https://www.ted.com/talks/majora_carter_s_tale...   1697550  \n",
       "4  https://www.ted.com/talks/hans_rosling_shows_t...  12005869  "
      ]
     },
     "execution_count": 3,
     "metadata": {},
     "output_type": "execute_result"
    }
   ],
   "source": [
    "ted = pd.read_csv('https://raw.githubusercontent.com/justmarkham/pycon-2019-tutorial/master/ted.csv')\n",
    "ted.head()"
   ]
  },
  {
   "cell_type": "markdown",
   "id": "9f1fd5cb",
   "metadata": {},
   "source": [
    "## 1. Data overview"
   ]
  },
  {
   "cell_type": "code",
   "execution_count": 4,
   "id": "d01686d6",
   "metadata": {},
   "outputs": [
    {
     "data": {
      "text/plain": [
       "(2550, 17)"
      ]
     },
     "execution_count": 4,
     "metadata": {},
     "output_type": "execute_result"
    }
   ],
   "source": [
    "ted.shape"
   ]
  },
  {
   "cell_type": "code",
   "execution_count": 5,
   "id": "4973c1db",
   "metadata": {},
   "outputs": [
    {
     "data": {
      "text/plain": [
       "Index(['comments', 'description', 'duration', 'event', 'film_date',\n",
       "       'languages', 'main_speaker', 'name', 'num_speaker', 'published_date',\n",
       "       'ratings', 'related_talks', 'speaker_occupation', 'tags', 'title',\n",
       "       'url', 'views'],\n",
       "      dtype='object')"
      ]
     },
     "execution_count": 5,
     "metadata": {},
     "output_type": "execute_result"
    }
   ],
   "source": [
    "ted.columns"
   ]
  },
  {
   "cell_type": "code",
   "execution_count": 6,
   "id": "e7fe3339",
   "metadata": {},
   "outputs": [
    {
     "data": {
      "text/plain": [
       "comments               int64\n",
       "description           object\n",
       "duration               int64\n",
       "event                 object\n",
       "film_date              int64\n",
       "languages              int64\n",
       "main_speaker          object\n",
       "name                  object\n",
       "num_speaker            int64\n",
       "published_date         int64\n",
       "ratings               object\n",
       "related_talks         object\n",
       "speaker_occupation    object\n",
       "tags                  object\n",
       "title                 object\n",
       "url                   object\n",
       "views                  int64\n",
       "dtype: object"
      ]
     },
     "execution_count": 6,
     "metadata": {},
     "output_type": "execute_result"
    }
   ],
   "source": [
    "ted.dtypes"
   ]
  },
  {
   "cell_type": "code",
   "execution_count": 7,
   "id": "d5ecdbad",
   "metadata": {},
   "outputs": [
    {
     "name": "stdout",
     "output_type": "stream",
     "text": [
      "<class 'pandas.core.frame.DataFrame'>\n",
      "RangeIndex: 2550 entries, 0 to 2549\n",
      "Data columns (total 17 columns):\n",
      " #   Column              Non-Null Count  Dtype \n",
      "---  ------              --------------  ----- \n",
      " 0   comments            2550 non-null   int64 \n",
      " 1   description         2550 non-null   object\n",
      " 2   duration            2550 non-null   int64 \n",
      " 3   event               2550 non-null   object\n",
      " 4   film_date           2550 non-null   int64 \n",
      " 5   languages           2550 non-null   int64 \n",
      " 6   main_speaker        2550 non-null   object\n",
      " 7   name                2550 non-null   object\n",
      " 8   num_speaker         2550 non-null   int64 \n",
      " 9   published_date      2550 non-null   int64 \n",
      " 10  ratings             2550 non-null   object\n",
      " 11  related_talks       2550 non-null   object\n",
      " 12  speaker_occupation  2544 non-null   object\n",
      " 13  tags                2550 non-null   object\n",
      " 14  title               2550 non-null   object\n",
      " 15  url                 2550 non-null   object\n",
      " 16  views               2550 non-null   int64 \n",
      "dtypes: int64(7), object(10)\n",
      "memory usage: 338.8+ KB\n"
     ]
    }
   ],
   "source": [
    "ted.info()"
   ]
  },
  {
   "cell_type": "code",
   "execution_count": 8,
   "id": "357eb4da",
   "metadata": {},
   "outputs": [
    {
     "data": {
      "text/html": [
       "<div>\n",
       "<style scoped>\n",
       "    .dataframe tbody tr th:only-of-type {\n",
       "        vertical-align: middle;\n",
       "    }\n",
       "\n",
       "    .dataframe tbody tr th {\n",
       "        vertical-align: top;\n",
       "    }\n",
       "\n",
       "    .dataframe thead th {\n",
       "        text-align: right;\n",
       "    }\n",
       "</style>\n",
       "<table border=\"1\" class=\"dataframe\">\n",
       "  <thead>\n",
       "    <tr style=\"text-align: right;\">\n",
       "      <th></th>\n",
       "      <th>comments</th>\n",
       "      <th>description</th>\n",
       "      <th>duration</th>\n",
       "      <th>event</th>\n",
       "      <th>film_date</th>\n",
       "      <th>languages</th>\n",
       "      <th>main_speaker</th>\n",
       "      <th>name</th>\n",
       "      <th>num_speaker</th>\n",
       "      <th>published_date</th>\n",
       "      <th>ratings</th>\n",
       "      <th>related_talks</th>\n",
       "      <th>speaker_occupation</th>\n",
       "      <th>tags</th>\n",
       "      <th>title</th>\n",
       "      <th>url</th>\n",
       "      <th>views</th>\n",
       "    </tr>\n",
       "  </thead>\n",
       "  <tbody>\n",
       "    <tr>\n",
       "      <th>count</th>\n",
       "      <td>2550.00</td>\n",
       "      <td>2550</td>\n",
       "      <td>2550.00</td>\n",
       "      <td>2550</td>\n",
       "      <td>2.55e+03</td>\n",
       "      <td>2550.00</td>\n",
       "      <td>2550</td>\n",
       "      <td>2550</td>\n",
       "      <td>2550.00</td>\n",
       "      <td>2.55e+03</td>\n",
       "      <td>2550</td>\n",
       "      <td>2550</td>\n",
       "      <td>2544</td>\n",
       "      <td>2550</td>\n",
       "      <td>2550</td>\n",
       "      <td>2550</td>\n",
       "      <td>2.55e+03</td>\n",
       "    </tr>\n",
       "    <tr>\n",
       "      <th>unique</th>\n",
       "      <td>NaN</td>\n",
       "      <td>2550</td>\n",
       "      <td>NaN</td>\n",
       "      <td>355</td>\n",
       "      <td>NaN</td>\n",
       "      <td>NaN</td>\n",
       "      <td>2156</td>\n",
       "      <td>2550</td>\n",
       "      <td>NaN</td>\n",
       "      <td>NaN</td>\n",
       "      <td>2550</td>\n",
       "      <td>2550</td>\n",
       "      <td>1458</td>\n",
       "      <td>2530</td>\n",
       "      <td>2550</td>\n",
       "      <td>2550</td>\n",
       "      <td>NaN</td>\n",
       "    </tr>\n",
       "    <tr>\n",
       "      <th>top</th>\n",
       "      <td>NaN</td>\n",
       "      <td>Sir Ken Robinson makes an entertaining and pro...</td>\n",
       "      <td>NaN</td>\n",
       "      <td>TED2014</td>\n",
       "      <td>NaN</td>\n",
       "      <td>NaN</td>\n",
       "      <td>Hans Rosling</td>\n",
       "      <td>Ken Robinson: Do schools kill creativity?</td>\n",
       "      <td>NaN</td>\n",
       "      <td>NaN</td>\n",
       "      <td>[{'id': 7, 'name': 'Funny', 'count': 19645}, {...</td>\n",
       "      <td>[{'id': 865, 'hero': 'https://pe.tedcdn.com/im...</td>\n",
       "      <td>Writer</td>\n",
       "      <td>['live music', 'music', 'performance']</td>\n",
       "      <td>Do schools kill creativity?</td>\n",
       "      <td>https://www.ted.com/talks/ken_robinson_says_sc...</td>\n",
       "      <td>NaN</td>\n",
       "    </tr>\n",
       "    <tr>\n",
       "      <th>freq</th>\n",
       "      <td>NaN</td>\n",
       "      <td>1</td>\n",
       "      <td>NaN</td>\n",
       "      <td>84</td>\n",
       "      <td>NaN</td>\n",
       "      <td>NaN</td>\n",
       "      <td>9</td>\n",
       "      <td>1</td>\n",
       "      <td>NaN</td>\n",
       "      <td>NaN</td>\n",
       "      <td>1</td>\n",
       "      <td>1</td>\n",
       "      <td>45</td>\n",
       "      <td>3</td>\n",
       "      <td>1</td>\n",
       "      <td>1</td>\n",
       "      <td>NaN</td>\n",
       "    </tr>\n",
       "    <tr>\n",
       "      <th>mean</th>\n",
       "      <td>191.56</td>\n",
       "      <td>NaN</td>\n",
       "      <td>826.51</td>\n",
       "      <td>NaN</td>\n",
       "      <td>1.32e+09</td>\n",
       "      <td>27.33</td>\n",
       "      <td>NaN</td>\n",
       "      <td>NaN</td>\n",
       "      <td>1.03</td>\n",
       "      <td>1.34e+09</td>\n",
       "      <td>NaN</td>\n",
       "      <td>NaN</td>\n",
       "      <td>NaN</td>\n",
       "      <td>NaN</td>\n",
       "      <td>NaN</td>\n",
       "      <td>NaN</td>\n",
       "      <td>1.70e+06</td>\n",
       "    </tr>\n",
       "    <tr>\n",
       "      <th>std</th>\n",
       "      <td>282.32</td>\n",
       "      <td>NaN</td>\n",
       "      <td>374.01</td>\n",
       "      <td>NaN</td>\n",
       "      <td>1.20e+08</td>\n",
       "      <td>9.56</td>\n",
       "      <td>NaN</td>\n",
       "      <td>NaN</td>\n",
       "      <td>0.21</td>\n",
       "      <td>9.46e+07</td>\n",
       "      <td>NaN</td>\n",
       "      <td>NaN</td>\n",
       "      <td>NaN</td>\n",
       "      <td>NaN</td>\n",
       "      <td>NaN</td>\n",
       "      <td>NaN</td>\n",
       "      <td>2.50e+06</td>\n",
       "    </tr>\n",
       "    <tr>\n",
       "      <th>min</th>\n",
       "      <td>2.00</td>\n",
       "      <td>NaN</td>\n",
       "      <td>135.00</td>\n",
       "      <td>NaN</td>\n",
       "      <td>7.46e+07</td>\n",
       "      <td>0.00</td>\n",
       "      <td>NaN</td>\n",
       "      <td>NaN</td>\n",
       "      <td>1.00</td>\n",
       "      <td>1.15e+09</td>\n",
       "      <td>NaN</td>\n",
       "      <td>NaN</td>\n",
       "      <td>NaN</td>\n",
       "      <td>NaN</td>\n",
       "      <td>NaN</td>\n",
       "      <td>NaN</td>\n",
       "      <td>5.04e+04</td>\n",
       "    </tr>\n",
       "    <tr>\n",
       "      <th>25%</th>\n",
       "      <td>63.00</td>\n",
       "      <td>NaN</td>\n",
       "      <td>577.00</td>\n",
       "      <td>NaN</td>\n",
       "      <td>1.26e+09</td>\n",
       "      <td>23.00</td>\n",
       "      <td>NaN</td>\n",
       "      <td>NaN</td>\n",
       "      <td>1.00</td>\n",
       "      <td>1.27e+09</td>\n",
       "      <td>NaN</td>\n",
       "      <td>NaN</td>\n",
       "      <td>NaN</td>\n",
       "      <td>NaN</td>\n",
       "      <td>NaN</td>\n",
       "      <td>NaN</td>\n",
       "      <td>7.56e+05</td>\n",
       "    </tr>\n",
       "    <tr>\n",
       "      <th>50%</th>\n",
       "      <td>118.00</td>\n",
       "      <td>NaN</td>\n",
       "      <td>848.00</td>\n",
       "      <td>NaN</td>\n",
       "      <td>1.33e+09</td>\n",
       "      <td>28.00</td>\n",
       "      <td>NaN</td>\n",
       "      <td>NaN</td>\n",
       "      <td>1.00</td>\n",
       "      <td>1.34e+09</td>\n",
       "      <td>NaN</td>\n",
       "      <td>NaN</td>\n",
       "      <td>NaN</td>\n",
       "      <td>NaN</td>\n",
       "      <td>NaN</td>\n",
       "      <td>NaN</td>\n",
       "      <td>1.12e+06</td>\n",
       "    </tr>\n",
       "    <tr>\n",
       "      <th>75%</th>\n",
       "      <td>221.75</td>\n",
       "      <td>NaN</td>\n",
       "      <td>1046.75</td>\n",
       "      <td>NaN</td>\n",
       "      <td>1.41e+09</td>\n",
       "      <td>33.00</td>\n",
       "      <td>NaN</td>\n",
       "      <td>NaN</td>\n",
       "      <td>1.00</td>\n",
       "      <td>1.42e+09</td>\n",
       "      <td>NaN</td>\n",
       "      <td>NaN</td>\n",
       "      <td>NaN</td>\n",
       "      <td>NaN</td>\n",
       "      <td>NaN</td>\n",
       "      <td>NaN</td>\n",
       "      <td>1.70e+06</td>\n",
       "    </tr>\n",
       "    <tr>\n",
       "      <th>max</th>\n",
       "      <td>6404.00</td>\n",
       "      <td>NaN</td>\n",
       "      <td>5256.00</td>\n",
       "      <td>NaN</td>\n",
       "      <td>1.50e+09</td>\n",
       "      <td>72.00</td>\n",
       "      <td>NaN</td>\n",
       "      <td>NaN</td>\n",
       "      <td>5.00</td>\n",
       "      <td>1.51e+09</td>\n",
       "      <td>NaN</td>\n",
       "      <td>NaN</td>\n",
       "      <td>NaN</td>\n",
       "      <td>NaN</td>\n",
       "      <td>NaN</td>\n",
       "      <td>NaN</td>\n",
       "      <td>4.72e+07</td>\n",
       "    </tr>\n",
       "  </tbody>\n",
       "</table>\n",
       "</div>"
      ],
      "text/plain": [
       "        comments                                        description  duration  \\\n",
       "count    2550.00                                               2550   2550.00   \n",
       "unique       NaN                                               2550       NaN   \n",
       "top          NaN  Sir Ken Robinson makes an entertaining and pro...       NaN   \n",
       "freq         NaN                                                  1       NaN   \n",
       "mean      191.56                                                NaN    826.51   \n",
       "std       282.32                                                NaN    374.01   \n",
       "min         2.00                                                NaN    135.00   \n",
       "25%        63.00                                                NaN    577.00   \n",
       "50%       118.00                                                NaN    848.00   \n",
       "75%       221.75                                                NaN   1046.75   \n",
       "max      6404.00                                                NaN   5256.00   \n",
       "\n",
       "          event  film_date  languages  main_speaker  \\\n",
       "count      2550   2.55e+03    2550.00          2550   \n",
       "unique      355        NaN        NaN          2156   \n",
       "top     TED2014        NaN        NaN  Hans Rosling   \n",
       "freq         84        NaN        NaN             9   \n",
       "mean        NaN   1.32e+09      27.33           NaN   \n",
       "std         NaN   1.20e+08       9.56           NaN   \n",
       "min         NaN   7.46e+07       0.00           NaN   \n",
       "25%         NaN   1.26e+09      23.00           NaN   \n",
       "50%         NaN   1.33e+09      28.00           NaN   \n",
       "75%         NaN   1.41e+09      33.00           NaN   \n",
       "max         NaN   1.50e+09      72.00           NaN   \n",
       "\n",
       "                                             name  num_speaker  \\\n",
       "count                                        2550      2550.00   \n",
       "unique                                       2550          NaN   \n",
       "top     Ken Robinson: Do schools kill creativity?          NaN   \n",
       "freq                                            1          NaN   \n",
       "mean                                          NaN         1.03   \n",
       "std                                           NaN         0.21   \n",
       "min                                           NaN         1.00   \n",
       "25%                                           NaN         1.00   \n",
       "50%                                           NaN         1.00   \n",
       "75%                                           NaN         1.00   \n",
       "max                                           NaN         5.00   \n",
       "\n",
       "        published_date                                            ratings  \\\n",
       "count         2.55e+03                                               2550   \n",
       "unique             NaN                                               2550   \n",
       "top                NaN  [{'id': 7, 'name': 'Funny', 'count': 19645}, {...   \n",
       "freq               NaN                                                  1   \n",
       "mean          1.34e+09                                                NaN   \n",
       "std           9.46e+07                                                NaN   \n",
       "min           1.15e+09                                                NaN   \n",
       "25%           1.27e+09                                                NaN   \n",
       "50%           1.34e+09                                                NaN   \n",
       "75%           1.42e+09                                                NaN   \n",
       "max           1.51e+09                                                NaN   \n",
       "\n",
       "                                            related_talks speaker_occupation  \\\n",
       "count                                                2550               2544   \n",
       "unique                                               2550               1458   \n",
       "top     [{'id': 865, 'hero': 'https://pe.tedcdn.com/im...             Writer   \n",
       "freq                                                    1                 45   \n",
       "mean                                                  NaN                NaN   \n",
       "std                                                   NaN                NaN   \n",
       "min                                                   NaN                NaN   \n",
       "25%                                                   NaN                NaN   \n",
       "50%                                                   NaN                NaN   \n",
       "75%                                                   NaN                NaN   \n",
       "max                                                   NaN                NaN   \n",
       "\n",
       "                                          tags                        title  \\\n",
       "count                                     2550                         2550   \n",
       "unique                                    2530                         2550   \n",
       "top     ['live music', 'music', 'performance']  Do schools kill creativity?   \n",
       "freq                                         3                            1   \n",
       "mean                                       NaN                          NaN   \n",
       "std                                        NaN                          NaN   \n",
       "min                                        NaN                          NaN   \n",
       "25%                                        NaN                          NaN   \n",
       "50%                                        NaN                          NaN   \n",
       "75%                                        NaN                          NaN   \n",
       "max                                        NaN                          NaN   \n",
       "\n",
       "                                                      url     views  \n",
       "count                                                2550  2.55e+03  \n",
       "unique                                               2550       NaN  \n",
       "top     https://www.ted.com/talks/ken_robinson_says_sc...       NaN  \n",
       "freq                                                    1       NaN  \n",
       "mean                                                  NaN  1.70e+06  \n",
       "std                                                   NaN  2.50e+06  \n",
       "min                                                   NaN  5.04e+04  \n",
       "25%                                                   NaN  7.56e+05  \n",
       "50%                                                   NaN  1.12e+06  \n",
       "75%                                                   NaN  1.70e+06  \n",
       "max                                                   NaN  4.72e+07  "
      ]
     },
     "execution_count": 8,
     "metadata": {},
     "output_type": "execute_result"
    }
   ],
   "source": [
    "ted.describe(include = 'all')"
   ]
  },
  {
   "cell_type": "code",
   "execution_count": 9,
   "id": "d2bc4856",
   "metadata": {},
   "outputs": [
    {
     "data": {
      "text/plain": [
       "comments               559\n",
       "description           2550\n",
       "duration              1083\n",
       "event                  355\n",
       "film_date              735\n",
       "languages               66\n",
       "main_speaker          2156\n",
       "name                  2550\n",
       "num_speaker              5\n",
       "published_date        2490\n",
       "ratings               2550\n",
       "related_talks         2550\n",
       "speaker_occupation    1458\n",
       "tags                  2530\n",
       "title                 2550\n",
       "url                   2550\n",
       "views                 2550\n",
       "dtype: int64"
      ]
     },
     "execution_count": 9,
     "metadata": {},
     "output_type": "execute_result"
    }
   ],
   "source": [
    "ted.nunique()"
   ]
  },
  {
   "cell_type": "code",
   "execution_count": 10,
   "id": "a1841180",
   "metadata": {},
   "outputs": [
    {
     "data": {
      "text/plain": [
       "comments              0\n",
       "description           0\n",
       "duration              0\n",
       "event                 0\n",
       "film_date             0\n",
       "languages             0\n",
       "main_speaker          0\n",
       "name                  0\n",
       "num_speaker           0\n",
       "published_date        0\n",
       "ratings               0\n",
       "related_talks         0\n",
       "speaker_occupation    6\n",
       "tags                  0\n",
       "title                 0\n",
       "url                   0\n",
       "views                 0\n",
       "dtype: int64"
      ]
     },
     "execution_count": 10,
     "metadata": {},
     "output_type": "execute_result"
    }
   ],
   "source": [
    "ted.isnull().sum()"
   ]
  },
  {
   "cell_type": "markdown",
   "id": "fb668e17",
   "metadata": {},
   "source": [
    "## 2. What talks provoke the most online discussion?"
   ]
  },
  {
   "cell_type": "code",
   "execution_count": 11,
   "id": "c4f41b4b",
   "metadata": {},
   "outputs": [
    {
     "data": {
      "text/html": [
       "<div>\n",
       "<style scoped>\n",
       "    .dataframe tbody tr th:only-of-type {\n",
       "        vertical-align: middle;\n",
       "    }\n",
       "\n",
       "    .dataframe tbody tr th {\n",
       "        vertical-align: top;\n",
       "    }\n",
       "\n",
       "    .dataframe thead th {\n",
       "        text-align: right;\n",
       "    }\n",
       "</style>\n",
       "<table border=\"1\" class=\"dataframe\">\n",
       "  <thead>\n",
       "    <tr style=\"text-align: right;\">\n",
       "      <th></th>\n",
       "      <th>comments</th>\n",
       "      <th>views</th>\n",
       "    </tr>\n",
       "  </thead>\n",
       "  <tbody>\n",
       "    <tr>\n",
       "      <th>96</th>\n",
       "      <td>6404</td>\n",
       "      <td>4374792</td>\n",
       "    </tr>\n",
       "    <tr>\n",
       "      <th>0</th>\n",
       "      <td>4553</td>\n",
       "      <td>47227110</td>\n",
       "    </tr>\n",
       "    <tr>\n",
       "      <th>644</th>\n",
       "      <td>3356</td>\n",
       "      <td>3433437</td>\n",
       "    </tr>\n",
       "    <tr>\n",
       "      <th>201</th>\n",
       "      <td>2877</td>\n",
       "      <td>21190883</td>\n",
       "    </tr>\n",
       "    <tr>\n",
       "      <th>1787</th>\n",
       "      <td>2673</td>\n",
       "      <td>2162764</td>\n",
       "    </tr>\n",
       "    <tr>\n",
       "      <th>...</th>\n",
       "      <td>...</td>\n",
       "      <td>...</td>\n",
       "    </tr>\n",
       "    <tr>\n",
       "      <th>2407</th>\n",
       "      <td>5</td>\n",
       "      <td>640734</td>\n",
       "    </tr>\n",
       "    <tr>\n",
       "      <th>2528</th>\n",
       "      <td>3</td>\n",
       "      <td>539207</td>\n",
       "    </tr>\n",
       "    <tr>\n",
       "      <th>2542</th>\n",
       "      <td>3</td>\n",
       "      <td>542088</td>\n",
       "    </tr>\n",
       "    <tr>\n",
       "      <th>2501</th>\n",
       "      <td>3</td>\n",
       "      <td>839040</td>\n",
       "    </tr>\n",
       "    <tr>\n",
       "      <th>2534</th>\n",
       "      <td>2</td>\n",
       "      <td>646174</td>\n",
       "    </tr>\n",
       "  </tbody>\n",
       "</table>\n",
       "<p>2550 rows × 2 columns</p>\n",
       "</div>"
      ],
      "text/plain": [
       "      comments     views\n",
       "96        6404   4374792\n",
       "0         4553  47227110\n",
       "644       3356   3433437\n",
       "201       2877  21190883\n",
       "1787      2673   2162764\n",
       "...        ...       ...\n",
       "2407         5    640734\n",
       "2528         3    539207\n",
       "2542         3    542088\n",
       "2501         3    839040\n",
       "2534         2    646174\n",
       "\n",
       "[2550 rows x 2 columns]"
      ]
     },
     "execution_count": 11,
     "metadata": {},
     "output_type": "execute_result"
    }
   ],
   "source": [
    "ted[['comments', 'views']].sort_values(by = 'comments', ascending = False)"
   ]
  },
  {
   "cell_type": "code",
   "execution_count": 12,
   "id": "cff3a75d",
   "metadata": {},
   "outputs": [],
   "source": [
    "# We should know the relationship between comments and views, because that let us know, how provokative was the talk\n",
    "# We will create a new column call \"comments_per_views\"\n",
    "ted['comments_per_view'] = ted['comments']/ted['views']"
   ]
  },
  {
   "cell_type": "code",
   "execution_count": 13,
   "id": "5a08996e",
   "metadata": {},
   "outputs": [
    {
     "data": {
      "text/plain": [
       "744     2.22e-03\n",
       "803     1.53e-03\n",
       "96      1.46e-03\n",
       "694     1.42e-03\n",
       "954     1.36e-03\n",
       "          ...   \n",
       "2494    6.96e-06\n",
       "2528    5.56e-06\n",
       "2542    5.53e-06\n",
       "2501    3.58e-06\n",
       "2534    3.10e-06\n",
       "Name: comments_per_view, Length: 2550, dtype: float64"
      ]
     },
     "execution_count": 13,
     "metadata": {},
     "output_type": "execute_result"
    }
   ],
   "source": [
    "ted['comments_per_view'].sort_values(ascending = False)"
   ]
  },
  {
   "cell_type": "code",
   "execution_count": 14,
   "id": "8dabb25e",
   "metadata": {},
   "outputs": [
    {
     "data": {
      "text/html": [
       "<div>\n",
       "<style scoped>\n",
       "    .dataframe tbody tr th:only-of-type {\n",
       "        vertical-align: middle;\n",
       "    }\n",
       "\n",
       "    .dataframe tbody tr th {\n",
       "        vertical-align: top;\n",
       "    }\n",
       "\n",
       "    .dataframe thead th {\n",
       "        text-align: right;\n",
       "    }\n",
       "</style>\n",
       "<table border=\"1\" class=\"dataframe\">\n",
       "  <thead>\n",
       "    <tr style=\"text-align: right;\">\n",
       "      <th></th>\n",
       "      <th>comments</th>\n",
       "      <th>description</th>\n",
       "      <th>duration</th>\n",
       "      <th>event</th>\n",
       "      <th>film_date</th>\n",
       "      <th>languages</th>\n",
       "      <th>main_speaker</th>\n",
       "      <th>name</th>\n",
       "      <th>num_speaker</th>\n",
       "      <th>published_date</th>\n",
       "      <th>ratings</th>\n",
       "      <th>related_talks</th>\n",
       "      <th>speaker_occupation</th>\n",
       "      <th>tags</th>\n",
       "      <th>title</th>\n",
       "      <th>url</th>\n",
       "      <th>views</th>\n",
       "      <th>comments_per_view</th>\n",
       "    </tr>\n",
       "  </thead>\n",
       "  <tbody>\n",
       "    <tr>\n",
       "      <th>744</th>\n",
       "      <td>649</td>\n",
       "      <td>Hours before New York lawmakers rejected a key...</td>\n",
       "      <td>453</td>\n",
       "      <td>New York State Senate</td>\n",
       "      <td>1259712000</td>\n",
       "      <td>0</td>\n",
       "      <td>Diane J. Savino</td>\n",
       "      <td>Diane J. Savino: The case for same-sex marriage</td>\n",
       "      <td>1</td>\n",
       "      <td>1282062180</td>\n",
       "      <td>[{'id': 25, 'name': 'OK', 'count': 100}, {'id'...</td>\n",
       "      <td>[{'id': 217, 'hero': 'https://pe.tedcdn.com/im...</td>\n",
       "      <td>Senator</td>\n",
       "      <td>['God', 'LGBT', 'culture', 'government', 'law'...</td>\n",
       "      <td>The case for same-sex marriage</td>\n",
       "      <td>https://www.ted.com/talks/diane_j_savino_the_c...</td>\n",
       "      <td>292395</td>\n",
       "      <td>2.22e-03</td>\n",
       "    </tr>\n",
       "    <tr>\n",
       "      <th>803</th>\n",
       "      <td>834</td>\n",
       "      <td>David Bismark demos a new system for voting th...</td>\n",
       "      <td>422</td>\n",
       "      <td>TEDGlobal 2010</td>\n",
       "      <td>1279065600</td>\n",
       "      <td>36</td>\n",
       "      <td>David Bismark</td>\n",
       "      <td>David Bismark: E-voting without fraud</td>\n",
       "      <td>1</td>\n",
       "      <td>1288685640</td>\n",
       "      <td>[{'id': 25, 'name': 'OK', 'count': 111}, {'id'...</td>\n",
       "      <td>[{'id': 803, 'hero': 'https://pe.tedcdn.com/im...</td>\n",
       "      <td>Voting system designer</td>\n",
       "      <td>['culture', 'democracy', 'design', 'global iss...</td>\n",
       "      <td>E-voting without fraud</td>\n",
       "      <td>https://www.ted.com/talks/david_bismark_e_voti...</td>\n",
       "      <td>543551</td>\n",
       "      <td>1.53e-03</td>\n",
       "    </tr>\n",
       "    <tr>\n",
       "      <th>96</th>\n",
       "      <td>6404</td>\n",
       "      <td>Richard Dawkins urges all atheists to openly s...</td>\n",
       "      <td>1750</td>\n",
       "      <td>TED2002</td>\n",
       "      <td>1012608000</td>\n",
       "      <td>42</td>\n",
       "      <td>Richard Dawkins</td>\n",
       "      <td>Richard Dawkins: Militant atheism</td>\n",
       "      <td>1</td>\n",
       "      <td>1176689220</td>\n",
       "      <td>[{'id': 3, 'name': 'Courageous', 'count': 3236...</td>\n",
       "      <td>[{'id': 86, 'hero': 'https://pe.tedcdn.com/ima...</td>\n",
       "      <td>Evolutionary biologist</td>\n",
       "      <td>['God', 'atheism', 'culture', 'religion', 'sci...</td>\n",
       "      <td>Militant atheism</td>\n",
       "      <td>https://www.ted.com/talks/richard_dawkins_on_m...</td>\n",
       "      <td>4374792</td>\n",
       "      <td>1.46e-03</td>\n",
       "    </tr>\n",
       "    <tr>\n",
       "      <th>694</th>\n",
       "      <td>1502</td>\n",
       "      <td>Filmmaker Sharmeen Obaid-Chinoy takes on a ter...</td>\n",
       "      <td>489</td>\n",
       "      <td>TED2010</td>\n",
       "      <td>1265760000</td>\n",
       "      <td>32</td>\n",
       "      <td>Sharmeen Obaid-Chinoy</td>\n",
       "      <td>Sharmeen Obaid-Chinoy: Inside a school for sui...</td>\n",
       "      <td>1</td>\n",
       "      <td>1274865960</td>\n",
       "      <td>[{'id': 23, 'name': 'Jaw-dropping', 'count': 3...</td>\n",
       "      <td>[{'id': 171, 'hero': 'https://pe.tedcdn.com/im...</td>\n",
       "      <td>Filmmaker</td>\n",
       "      <td>['TED Fellows', 'children', 'culture', 'film',...</td>\n",
       "      <td>Inside a school for suicide bombers</td>\n",
       "      <td>https://www.ted.com/talks/sharmeen_obaid_chino...</td>\n",
       "      <td>1057238</td>\n",
       "      <td>1.42e-03</td>\n",
       "    </tr>\n",
       "    <tr>\n",
       "      <th>954</th>\n",
       "      <td>2492</td>\n",
       "      <td>Janet Echelman found her true voice as an arti...</td>\n",
       "      <td>566</td>\n",
       "      <td>TED2011</td>\n",
       "      <td>1299110400</td>\n",
       "      <td>35</td>\n",
       "      <td>Janet Echelman</td>\n",
       "      <td>Janet Echelman: Taking imagination seriously</td>\n",
       "      <td>1</td>\n",
       "      <td>1307489760</td>\n",
       "      <td>[{'id': 23, 'name': 'Jaw-dropping', 'count': 3...</td>\n",
       "      <td>[{'id': 453, 'hero': 'https://pe.tedcdn.com/im...</td>\n",
       "      <td>Artist</td>\n",
       "      <td>['art', 'cities', 'culture', 'data', 'design',...</td>\n",
       "      <td>Taking imagination seriously</td>\n",
       "      <td>https://www.ted.com/talks/janet_echelman</td>\n",
       "      <td>1832930</td>\n",
       "      <td>1.36e-03</td>\n",
       "    </tr>\n",
       "  </tbody>\n",
       "</table>\n",
       "</div>"
      ],
      "text/plain": [
       "     comments                                        description  duration  \\\n",
       "744       649  Hours before New York lawmakers rejected a key...       453   \n",
       "803       834  David Bismark demos a new system for voting th...       422   \n",
       "96       6404  Richard Dawkins urges all atheists to openly s...      1750   \n",
       "694      1502  Filmmaker Sharmeen Obaid-Chinoy takes on a ter...       489   \n",
       "954      2492  Janet Echelman found her true voice as an arti...       566   \n",
       "\n",
       "                     event   film_date  languages           main_speaker  \\\n",
       "744  New York State Senate  1259712000          0        Diane J. Savino   \n",
       "803         TEDGlobal 2010  1279065600         36          David Bismark   \n",
       "96                 TED2002  1012608000         42        Richard Dawkins   \n",
       "694                TED2010  1265760000         32  Sharmeen Obaid-Chinoy   \n",
       "954                TED2011  1299110400         35         Janet Echelman   \n",
       "\n",
       "                                                  name  num_speaker  \\\n",
       "744    Diane J. Savino: The case for same-sex marriage            1   \n",
       "803              David Bismark: E-voting without fraud            1   \n",
       "96                   Richard Dawkins: Militant atheism            1   \n",
       "694  Sharmeen Obaid-Chinoy: Inside a school for sui...            1   \n",
       "954       Janet Echelman: Taking imagination seriously            1   \n",
       "\n",
       "     published_date                                            ratings  \\\n",
       "744      1282062180  [{'id': 25, 'name': 'OK', 'count': 100}, {'id'...   \n",
       "803      1288685640  [{'id': 25, 'name': 'OK', 'count': 111}, {'id'...   \n",
       "96       1176689220  [{'id': 3, 'name': 'Courageous', 'count': 3236...   \n",
       "694      1274865960  [{'id': 23, 'name': 'Jaw-dropping', 'count': 3...   \n",
       "954      1307489760  [{'id': 23, 'name': 'Jaw-dropping', 'count': 3...   \n",
       "\n",
       "                                         related_talks  \\\n",
       "744  [{'id': 217, 'hero': 'https://pe.tedcdn.com/im...   \n",
       "803  [{'id': 803, 'hero': 'https://pe.tedcdn.com/im...   \n",
       "96   [{'id': 86, 'hero': 'https://pe.tedcdn.com/ima...   \n",
       "694  [{'id': 171, 'hero': 'https://pe.tedcdn.com/im...   \n",
       "954  [{'id': 453, 'hero': 'https://pe.tedcdn.com/im...   \n",
       "\n",
       "         speaker_occupation  \\\n",
       "744                 Senator   \n",
       "803  Voting system designer   \n",
       "96   Evolutionary biologist   \n",
       "694               Filmmaker   \n",
       "954                  Artist   \n",
       "\n",
       "                                                  tags  \\\n",
       "744  ['God', 'LGBT', 'culture', 'government', 'law'...   \n",
       "803  ['culture', 'democracy', 'design', 'global iss...   \n",
       "96   ['God', 'atheism', 'culture', 'religion', 'sci...   \n",
       "694  ['TED Fellows', 'children', 'culture', 'film',...   \n",
       "954  ['art', 'cities', 'culture', 'data', 'design',...   \n",
       "\n",
       "                                   title  \\\n",
       "744       The case for same-sex marriage   \n",
       "803               E-voting without fraud   \n",
       "96                      Militant atheism   \n",
       "694  Inside a school for suicide bombers   \n",
       "954         Taking imagination seriously   \n",
       "\n",
       "                                                   url    views  \\\n",
       "744  https://www.ted.com/talks/diane_j_savino_the_c...   292395   \n",
       "803  https://www.ted.com/talks/david_bismark_e_voti...   543551   \n",
       "96   https://www.ted.com/talks/richard_dawkins_on_m...  4374792   \n",
       "694  https://www.ted.com/talks/sharmeen_obaid_chino...  1057238   \n",
       "954           https://www.ted.com/talks/janet_echelman  1832930   \n",
       "\n",
       "     comments_per_view  \n",
       "744           2.22e-03  \n",
       "803           1.53e-03  \n",
       "96            1.46e-03  \n",
       "694           1.42e-03  \n",
       "954           1.36e-03  "
      ]
     },
     "execution_count": 14,
     "metadata": {},
     "output_type": "execute_result"
    }
   ],
   "source": [
    "# Now we apply sort_values and put the new variable inside, that show us what was the most commented talk\n",
    "ted.sort_values('comments_per_view', ascending = False).head()"
   ]
  },
  {
   "cell_type": "code",
   "execution_count": 15,
   "id": "6040cfed",
   "metadata": {},
   "outputs": [
    {
     "data": {
      "text/plain": [
       "\"Hours before New York lawmakers rejected a key marriage equality bill (38-24), State Senator Diane J. Savino made the passionate case for a government that recognizes and administers same-sex marriages. Here's her fresh, thought-provoking perspective on one of the most contentious issues in US culture, religion and government.\""
      ]
     },
     "execution_count": 15,
     "metadata": {},
     "output_type": "execute_result"
    }
   ],
   "source": [
    "ted.loc[744, 'description']"
   ]
  },
  {
   "cell_type": "code",
   "execution_count": 16,
   "id": "082d4e09",
   "metadata": {},
   "outputs": [],
   "source": [
    "# The problem is the number of the column 'comments_per_view' can be a little tricky to intepreted, so \n",
    "# we are going to change the calculation a make a new column call: 'views_per_comment'\n",
    "ted['views_per_comment'] = ted['views']/ted['comments']"
   ]
  },
  {
   "cell_type": "code",
   "execution_count": 17,
   "id": "e029ea55",
   "metadata": {},
   "outputs": [
    {
     "data": {
      "text/html": [
       "<div>\n",
       "<style scoped>\n",
       "    .dataframe tbody tr th:only-of-type {\n",
       "        vertical-align: middle;\n",
       "    }\n",
       "\n",
       "    .dataframe tbody tr th {\n",
       "        vertical-align: top;\n",
       "    }\n",
       "\n",
       "    .dataframe thead th {\n",
       "        text-align: right;\n",
       "    }\n",
       "</style>\n",
       "<table border=\"1\" class=\"dataframe\">\n",
       "  <thead>\n",
       "    <tr style=\"text-align: right;\">\n",
       "      <th></th>\n",
       "      <th>comments</th>\n",
       "      <th>description</th>\n",
       "      <th>duration</th>\n",
       "      <th>event</th>\n",
       "      <th>film_date</th>\n",
       "      <th>languages</th>\n",
       "      <th>main_speaker</th>\n",
       "      <th>name</th>\n",
       "      <th>num_speaker</th>\n",
       "      <th>published_date</th>\n",
       "      <th>ratings</th>\n",
       "      <th>related_talks</th>\n",
       "      <th>speaker_occupation</th>\n",
       "      <th>tags</th>\n",
       "      <th>title</th>\n",
       "      <th>url</th>\n",
       "      <th>views</th>\n",
       "      <th>comments_per_view</th>\n",
       "      <th>views_per_comment</th>\n",
       "    </tr>\n",
       "  </thead>\n",
       "  <tbody>\n",
       "    <tr>\n",
       "      <th>744</th>\n",
       "      <td>649</td>\n",
       "      <td>Hours before New York lawmakers rejected a key...</td>\n",
       "      <td>453</td>\n",
       "      <td>New York State Senate</td>\n",
       "      <td>1259712000</td>\n",
       "      <td>0</td>\n",
       "      <td>Diane J. Savino</td>\n",
       "      <td>Diane J. Savino: The case for same-sex marriage</td>\n",
       "      <td>1</td>\n",
       "      <td>1282062180</td>\n",
       "      <td>[{'id': 25, 'name': 'OK', 'count': 100}, {'id'...</td>\n",
       "      <td>[{'id': 217, 'hero': 'https://pe.tedcdn.com/im...</td>\n",
       "      <td>Senator</td>\n",
       "      <td>['God', 'LGBT', 'culture', 'government', 'law'...</td>\n",
       "      <td>The case for same-sex marriage</td>\n",
       "      <td>https://www.ted.com/talks/diane_j_savino_the_c...</td>\n",
       "      <td>292395</td>\n",
       "      <td>2.22e-03</td>\n",
       "      <td>450.53</td>\n",
       "    </tr>\n",
       "    <tr>\n",
       "      <th>803</th>\n",
       "      <td>834</td>\n",
       "      <td>David Bismark demos a new system for voting th...</td>\n",
       "      <td>422</td>\n",
       "      <td>TEDGlobal 2010</td>\n",
       "      <td>1279065600</td>\n",
       "      <td>36</td>\n",
       "      <td>David Bismark</td>\n",
       "      <td>David Bismark: E-voting without fraud</td>\n",
       "      <td>1</td>\n",
       "      <td>1288685640</td>\n",
       "      <td>[{'id': 25, 'name': 'OK', 'count': 111}, {'id'...</td>\n",
       "      <td>[{'id': 803, 'hero': 'https://pe.tedcdn.com/im...</td>\n",
       "      <td>Voting system designer</td>\n",
       "      <td>['culture', 'democracy', 'design', 'global iss...</td>\n",
       "      <td>E-voting without fraud</td>\n",
       "      <td>https://www.ted.com/talks/david_bismark_e_voti...</td>\n",
       "      <td>543551</td>\n",
       "      <td>1.53e-03</td>\n",
       "      <td>651.74</td>\n",
       "    </tr>\n",
       "    <tr>\n",
       "      <th>96</th>\n",
       "      <td>6404</td>\n",
       "      <td>Richard Dawkins urges all atheists to openly s...</td>\n",
       "      <td>1750</td>\n",
       "      <td>TED2002</td>\n",
       "      <td>1012608000</td>\n",
       "      <td>42</td>\n",
       "      <td>Richard Dawkins</td>\n",
       "      <td>Richard Dawkins: Militant atheism</td>\n",
       "      <td>1</td>\n",
       "      <td>1176689220</td>\n",
       "      <td>[{'id': 3, 'name': 'Courageous', 'count': 3236...</td>\n",
       "      <td>[{'id': 86, 'hero': 'https://pe.tedcdn.com/ima...</td>\n",
       "      <td>Evolutionary biologist</td>\n",
       "      <td>['God', 'atheism', 'culture', 'religion', 'sci...</td>\n",
       "      <td>Militant atheism</td>\n",
       "      <td>https://www.ted.com/talks/richard_dawkins_on_m...</td>\n",
       "      <td>4374792</td>\n",
       "      <td>1.46e-03</td>\n",
       "      <td>683.13</td>\n",
       "    </tr>\n",
       "    <tr>\n",
       "      <th>694</th>\n",
       "      <td>1502</td>\n",
       "      <td>Filmmaker Sharmeen Obaid-Chinoy takes on a ter...</td>\n",
       "      <td>489</td>\n",
       "      <td>TED2010</td>\n",
       "      <td>1265760000</td>\n",
       "      <td>32</td>\n",
       "      <td>Sharmeen Obaid-Chinoy</td>\n",
       "      <td>Sharmeen Obaid-Chinoy: Inside a school for sui...</td>\n",
       "      <td>1</td>\n",
       "      <td>1274865960</td>\n",
       "      <td>[{'id': 23, 'name': 'Jaw-dropping', 'count': 3...</td>\n",
       "      <td>[{'id': 171, 'hero': 'https://pe.tedcdn.com/im...</td>\n",
       "      <td>Filmmaker</td>\n",
       "      <td>['TED Fellows', 'children', 'culture', 'film',...</td>\n",
       "      <td>Inside a school for suicide bombers</td>\n",
       "      <td>https://www.ted.com/talks/sharmeen_obaid_chino...</td>\n",
       "      <td>1057238</td>\n",
       "      <td>1.42e-03</td>\n",
       "      <td>703.89</td>\n",
       "    </tr>\n",
       "    <tr>\n",
       "      <th>954</th>\n",
       "      <td>2492</td>\n",
       "      <td>Janet Echelman found her true voice as an arti...</td>\n",
       "      <td>566</td>\n",
       "      <td>TED2011</td>\n",
       "      <td>1299110400</td>\n",
       "      <td>35</td>\n",
       "      <td>Janet Echelman</td>\n",
       "      <td>Janet Echelman: Taking imagination seriously</td>\n",
       "      <td>1</td>\n",
       "      <td>1307489760</td>\n",
       "      <td>[{'id': 23, 'name': 'Jaw-dropping', 'count': 3...</td>\n",
       "      <td>[{'id': 453, 'hero': 'https://pe.tedcdn.com/im...</td>\n",
       "      <td>Artist</td>\n",
       "      <td>['art', 'cities', 'culture', 'data', 'design',...</td>\n",
       "      <td>Taking imagination seriously</td>\n",
       "      <td>https://www.ted.com/talks/janet_echelman</td>\n",
       "      <td>1832930</td>\n",
       "      <td>1.36e-03</td>\n",
       "      <td>735.53</td>\n",
       "    </tr>\n",
       "  </tbody>\n",
       "</table>\n",
       "</div>"
      ],
      "text/plain": [
       "     comments                                        description  duration  \\\n",
       "744       649  Hours before New York lawmakers rejected a key...       453   \n",
       "803       834  David Bismark demos a new system for voting th...       422   \n",
       "96       6404  Richard Dawkins urges all atheists to openly s...      1750   \n",
       "694      1502  Filmmaker Sharmeen Obaid-Chinoy takes on a ter...       489   \n",
       "954      2492  Janet Echelman found her true voice as an arti...       566   \n",
       "\n",
       "                     event   film_date  languages           main_speaker  \\\n",
       "744  New York State Senate  1259712000          0        Diane J. Savino   \n",
       "803         TEDGlobal 2010  1279065600         36          David Bismark   \n",
       "96                 TED2002  1012608000         42        Richard Dawkins   \n",
       "694                TED2010  1265760000         32  Sharmeen Obaid-Chinoy   \n",
       "954                TED2011  1299110400         35         Janet Echelman   \n",
       "\n",
       "                                                  name  num_speaker  \\\n",
       "744    Diane J. Savino: The case for same-sex marriage            1   \n",
       "803              David Bismark: E-voting without fraud            1   \n",
       "96                   Richard Dawkins: Militant atheism            1   \n",
       "694  Sharmeen Obaid-Chinoy: Inside a school for sui...            1   \n",
       "954       Janet Echelman: Taking imagination seriously            1   \n",
       "\n",
       "     published_date                                            ratings  \\\n",
       "744      1282062180  [{'id': 25, 'name': 'OK', 'count': 100}, {'id'...   \n",
       "803      1288685640  [{'id': 25, 'name': 'OK', 'count': 111}, {'id'...   \n",
       "96       1176689220  [{'id': 3, 'name': 'Courageous', 'count': 3236...   \n",
       "694      1274865960  [{'id': 23, 'name': 'Jaw-dropping', 'count': 3...   \n",
       "954      1307489760  [{'id': 23, 'name': 'Jaw-dropping', 'count': 3...   \n",
       "\n",
       "                                         related_talks  \\\n",
       "744  [{'id': 217, 'hero': 'https://pe.tedcdn.com/im...   \n",
       "803  [{'id': 803, 'hero': 'https://pe.tedcdn.com/im...   \n",
       "96   [{'id': 86, 'hero': 'https://pe.tedcdn.com/ima...   \n",
       "694  [{'id': 171, 'hero': 'https://pe.tedcdn.com/im...   \n",
       "954  [{'id': 453, 'hero': 'https://pe.tedcdn.com/im...   \n",
       "\n",
       "         speaker_occupation  \\\n",
       "744                 Senator   \n",
       "803  Voting system designer   \n",
       "96   Evolutionary biologist   \n",
       "694               Filmmaker   \n",
       "954                  Artist   \n",
       "\n",
       "                                                  tags  \\\n",
       "744  ['God', 'LGBT', 'culture', 'government', 'law'...   \n",
       "803  ['culture', 'democracy', 'design', 'global iss...   \n",
       "96   ['God', 'atheism', 'culture', 'religion', 'sci...   \n",
       "694  ['TED Fellows', 'children', 'culture', 'film',...   \n",
       "954  ['art', 'cities', 'culture', 'data', 'design',...   \n",
       "\n",
       "                                   title  \\\n",
       "744       The case for same-sex marriage   \n",
       "803               E-voting without fraud   \n",
       "96                      Militant atheism   \n",
       "694  Inside a school for suicide bombers   \n",
       "954         Taking imagination seriously   \n",
       "\n",
       "                                                   url    views  \\\n",
       "744  https://www.ted.com/talks/diane_j_savino_the_c...   292395   \n",
       "803  https://www.ted.com/talks/david_bismark_e_voti...   543551   \n",
       "96   https://www.ted.com/talks/richard_dawkins_on_m...  4374792   \n",
       "694  https://www.ted.com/talks/sharmeen_obaid_chino...  1057238   \n",
       "954           https://www.ted.com/talks/janet_echelman  1832930   \n",
       "\n",
       "     comments_per_view  views_per_comment  \n",
       "744           2.22e-03             450.53  \n",
       "803           1.53e-03             651.74  \n",
       "96            1.46e-03             683.13  \n",
       "694           1.42e-03             703.89  \n",
       "954           1.36e-03             735.53  "
      ]
     },
     "execution_count": 17,
     "metadata": {},
     "output_type": "execute_result"
    }
   ],
   "source": [
    "# This is a most interpretable number, because tell us that every 450 of views, the talk generate a comment\n",
    "ted.sort_values('views_per_comment').head()"
   ]
  },
  {
   "cell_type": "markdown",
   "id": "36b832f7",
   "metadata": {},
   "source": [
    "## 3. Visualize the distribution of comments"
   ]
  },
  {
   "cell_type": "code",
   "execution_count": 18,
   "id": "b3e1d070",
   "metadata": {},
   "outputs": [
    {
     "data": {
      "text/plain": [
       "<AxesSubplot:>"
      ]
     },
     "execution_count": 18,
     "metadata": {},
     "output_type": "execute_result"
    },
    {
     "data": {
      "image/png": "[encoded data removed]",
      "text/plain": [
       "<Figure size 432x288 with 1 Axes>"
      ]
     },
     "metadata": {
      "needs_background": "light"
     },
     "output_type": "display_data"
    }
   ],
   "source": [
    "# Let's make a plot of the column comments\n",
    "ted['comments'].plot(color = 'red')"
   ]
  },
  {
   "cell_type": "code",
   "execution_count": 19,
   "id": "34149b64",
   "metadata": {},
   "outputs": [
    {
     "data": {
      "text/plain": [
       "<AxesSubplot:ylabel='Frequency'>"
      ]
     },
     "execution_count": 19,
     "metadata": {},
     "output_type": "execute_result"
    },
    {
     "data": {
      "image/png": "[encoded data removed]",
      "text/plain": [
       "<Figure size 432x288 with 1 Axes>"
      ]
     },
     "metadata": {
      "needs_background": "light"
     },
     "output_type": "display_data"
    }
   ],
   "source": [
    "# Let's make a hustogram to see the frequency distribution\n",
    "ted['comments'].plot(kind = 'hist', bins = 5)"
   ]
  },
  {
   "cell_type": "code",
   "execution_count": 20,
   "id": "75c071aa",
   "metadata": {},
   "outputs": [
    {
     "data": {
      "text/plain": [
       "<AxesSubplot:ylabel='Frequency'>"
      ]
     },
     "execution_count": 20,
     "metadata": {},
     "output_type": "execute_result"
    },
    {
     "data": {
      "image/png": "[encoded data removed]",
      "text/plain": [
       "<Figure size 432x288 with 1 Axes>"
      ]
     },
     "metadata": {
      "needs_background": "light"
     },
     "output_type": "display_data"
    }
   ],
   "source": [
    "# We can apply a filter to the hist, to determine what happen with first group of comments, bewteen 0 and 1200\n",
    "ted[ted.comments < 1200].comments.plot.hist()"
   ]
  },
  {
   "cell_type": "code",
   "execution_count": 21,
   "id": "5d56f2f0",
   "metadata": {},
   "outputs": [
    {
     "data": {
      "text/plain": [
       "<AxesSubplot:ylabel='Frequency'>"
      ]
     },
     "execution_count": 21,
     "metadata": {},
     "output_type": "execute_result"
    },
    {
     "data": {
      "image/png": "[encoded data removed]",
      "text/plain": [
       "<Figure size 432x288 with 1 Axes>"
      ]
     },
     "metadata": {
      "needs_background": "light"
     },
     "output_type": "display_data"
    }
   ],
   "source": [
    "# There is a different way to write the code above with \"query\"\n",
    "ted.query('comments < 1200')['comments'].plot.hist(color = 'red')"
   ]
  },
  {
   "cell_type": "code",
   "execution_count": 22,
   "id": "b943f84c",
   "metadata": {},
   "outputs": [
    {
     "data": {
      "text/plain": [
       "<AxesSubplot:ylabel='Frequency'>"
      ]
     },
     "execution_count": 22,
     "metadata": {},
     "output_type": "execute_result"
    },
    {
     "data": {
      "image/png": "[encoded data removed]",
      "text/plain": [
       "<Figure size 432x288 with 1 Axes>"
      ]
     },
     "metadata": {
      "needs_background": "light"
     },
     "output_type": "display_data"
    }
   ],
   "source": [
    "# And also with .loc\n",
    "ted.loc[ted['comments'] < 1200, 'comments'].plot.hist(color = 'green')"
   ]
  },
  {
   "cell_type": "markdown",
   "id": "280649ff",
   "metadata": {},
   "source": [
    "## 4. Plot the number of talks that take place each year"
   ]
  },
  {
   "cell_type": "code",
   "execution_count": 23,
   "id": "9fbda111",
   "metadata": {},
   "outputs": [
    {
     "data": {
      "text/html": [
       "<div>\n",
       "<style scoped>\n",
       "    .dataframe tbody tr th:only-of-type {\n",
       "        vertical-align: middle;\n",
       "    }\n",
       "\n",
       "    .dataframe tbody tr th {\n",
       "        vertical-align: top;\n",
       "    }\n",
       "\n",
       "    .dataframe thead th {\n",
       "        text-align: right;\n",
       "    }\n",
       "</style>\n",
       "<table border=\"1\" class=\"dataframe\">\n",
       "  <thead>\n",
       "    <tr style=\"text-align: right;\">\n",
       "      <th></th>\n",
       "      <th>comments</th>\n",
       "      <th>description</th>\n",
       "      <th>duration</th>\n",
       "      <th>event</th>\n",
       "      <th>film_date</th>\n",
       "      <th>languages</th>\n",
       "      <th>main_speaker</th>\n",
       "      <th>name</th>\n",
       "      <th>num_speaker</th>\n",
       "      <th>published_date</th>\n",
       "      <th>ratings</th>\n",
       "      <th>related_talks</th>\n",
       "      <th>speaker_occupation</th>\n",
       "      <th>tags</th>\n",
       "      <th>title</th>\n",
       "      <th>url</th>\n",
       "      <th>views</th>\n",
       "      <th>comments_per_view</th>\n",
       "      <th>views_per_comment</th>\n",
       "    </tr>\n",
       "  </thead>\n",
       "  <tbody>\n",
       "    <tr>\n",
       "      <th>0</th>\n",
       "      <td>4553</td>\n",
       "      <td>Sir Ken Robinson makes an entertaining and pro...</td>\n",
       "      <td>1164</td>\n",
       "      <td>TED2006</td>\n",
       "      <td>1140825600</td>\n",
       "      <td>60</td>\n",
       "      <td>Ken Robinson</td>\n",
       "      <td>Ken Robinson: Do schools kill creativity?</td>\n",
       "      <td>1</td>\n",
       "      <td>1151367060</td>\n",
       "      <td>[{'id': 7, 'name': 'Funny', 'count': 19645}, {...</td>\n",
       "      <td>[{'id': 865, 'hero': 'https://pe.tedcdn.com/im...</td>\n",
       "      <td>Author/educator</td>\n",
       "      <td>['children', 'creativity', 'culture', 'dance',...</td>\n",
       "      <td>Do schools kill creativity?</td>\n",
       "      <td>https://www.ted.com/talks/ken_robinson_says_sc...</td>\n",
       "      <td>47227110</td>\n",
       "      <td>9.64e-05</td>\n",
       "      <td>10372.75</td>\n",
       "    </tr>\n",
       "    <tr>\n",
       "      <th>1</th>\n",
       "      <td>265</td>\n",
       "      <td>With the same humor and humanity he exuded in ...</td>\n",
       "      <td>977</td>\n",
       "      <td>TED2006</td>\n",
       "      <td>1140825600</td>\n",
       "      <td>43</td>\n",
       "      <td>Al Gore</td>\n",
       "      <td>Al Gore: Averting the climate crisis</td>\n",
       "      <td>1</td>\n",
       "      <td>1151367060</td>\n",
       "      <td>[{'id': 7, 'name': 'Funny', 'count': 544}, {'i...</td>\n",
       "      <td>[{'id': 243, 'hero': 'https://pe.tedcdn.com/im...</td>\n",
       "      <td>Climate advocate</td>\n",
       "      <td>['alternative energy', 'cars', 'climate change...</td>\n",
       "      <td>Averting the climate crisis</td>\n",
       "      <td>https://www.ted.com/talks/al_gore_on_averting_...</td>\n",
       "      <td>3200520</td>\n",
       "      <td>8.28e-05</td>\n",
       "      <td>12077.43</td>\n",
       "    </tr>\n",
       "    <tr>\n",
       "      <th>2</th>\n",
       "      <td>124</td>\n",
       "      <td>New York Times columnist David Pogue takes aim...</td>\n",
       "      <td>1286</td>\n",
       "      <td>TED2006</td>\n",
       "      <td>1140739200</td>\n",
       "      <td>26</td>\n",
       "      <td>David Pogue</td>\n",
       "      <td>David Pogue: Simplicity sells</td>\n",
       "      <td>1</td>\n",
       "      <td>1151367060</td>\n",
       "      <td>[{'id': 7, 'name': 'Funny', 'count': 964}, {'i...</td>\n",
       "      <td>[{'id': 1725, 'hero': 'https://pe.tedcdn.com/i...</td>\n",
       "      <td>Technology columnist</td>\n",
       "      <td>['computers', 'entertainment', 'interface desi...</td>\n",
       "      <td>Simplicity sells</td>\n",
       "      <td>https://www.ted.com/talks/david_pogue_says_sim...</td>\n",
       "      <td>1636292</td>\n",
       "      <td>7.58e-05</td>\n",
       "      <td>13195.90</td>\n",
       "    </tr>\n",
       "    <tr>\n",
       "      <th>3</th>\n",
       "      <td>200</td>\n",
       "      <td>In an emotionally charged talk, MacArthur-winn...</td>\n",
       "      <td>1116</td>\n",
       "      <td>TED2006</td>\n",
       "      <td>1140912000</td>\n",
       "      <td>35</td>\n",
       "      <td>Majora Carter</td>\n",
       "      <td>Majora Carter: Greening the ghetto</td>\n",
       "      <td>1</td>\n",
       "      <td>1151367060</td>\n",
       "      <td>[{'id': 3, 'name': 'Courageous', 'count': 760}...</td>\n",
       "      <td>[{'id': 1041, 'hero': 'https://pe.tedcdn.com/i...</td>\n",
       "      <td>Activist for environmental justice</td>\n",
       "      <td>['MacArthur grant', 'activism', 'business', 'c...</td>\n",
       "      <td>Greening the ghetto</td>\n",
       "      <td>https://www.ted.com/talks/majora_carter_s_tale...</td>\n",
       "      <td>1697550</td>\n",
       "      <td>1.18e-04</td>\n",
       "      <td>8487.75</td>\n",
       "    </tr>\n",
       "    <tr>\n",
       "      <th>4</th>\n",
       "      <td>593</td>\n",
       "      <td>You've never seen data presented like this. Wi...</td>\n",
       "      <td>1190</td>\n",
       "      <td>TED2006</td>\n",
       "      <td>1140566400</td>\n",
       "      <td>48</td>\n",
       "      <td>Hans Rosling</td>\n",
       "      <td>Hans Rosling: The best stats you've ever seen</td>\n",
       "      <td>1</td>\n",
       "      <td>1151440680</td>\n",
       "      <td>[{'id': 9, 'name': 'Ingenious', 'count': 3202}...</td>\n",
       "      <td>[{'id': 2056, 'hero': 'https://pe.tedcdn.com/i...</td>\n",
       "      <td>Global health expert; data visionary</td>\n",
       "      <td>['Africa', 'Asia', 'Google', 'demo', 'economic...</td>\n",
       "      <td>The best stats you've ever seen</td>\n",
       "      <td>https://www.ted.com/talks/hans_rosling_shows_t...</td>\n",
       "      <td>12005869</td>\n",
       "      <td>4.94e-05</td>\n",
       "      <td>20245.98</td>\n",
       "    </tr>\n",
       "  </tbody>\n",
       "</table>\n",
       "</div>"
      ],
      "text/plain": [
       "   comments                                        description  duration  \\\n",
       "0      4553  Sir Ken Robinson makes an entertaining and pro...      1164   \n",
       "1       265  With the same humor and humanity he exuded in ...       977   \n",
       "2       124  New York Times columnist David Pogue takes aim...      1286   \n",
       "3       200  In an emotionally charged talk, MacArthur-winn...      1116   \n",
       "4       593  You've never seen data presented like this. Wi...      1190   \n",
       "\n",
       "     event   film_date  languages   main_speaker  \\\n",
       "0  TED2006  1140825600         60   Ken Robinson   \n",
       "1  TED2006  1140825600         43        Al Gore   \n",
       "2  TED2006  1140739200         26    David Pogue   \n",
       "3  TED2006  1140912000         35  Majora Carter   \n",
       "4  TED2006  1140566400         48   Hans Rosling   \n",
       "\n",
       "                                            name  num_speaker  published_date  \\\n",
       "0      Ken Robinson: Do schools kill creativity?            1      1151367060   \n",
       "1           Al Gore: Averting the climate crisis            1      1151367060   \n",
       "2                  David Pogue: Simplicity sells            1      1151367060   \n",
       "3             Majora Carter: Greening the ghetto            1      1151367060   \n",
       "4  Hans Rosling: The best stats you've ever seen            1      1151440680   \n",
       "\n",
       "                                             ratings  \\\n",
       "0  [{'id': 7, 'name': 'Funny', 'count': 19645}, {...   \n",
       "1  [{'id': 7, 'name': 'Funny', 'count': 544}, {'i...   \n",
       "2  [{'id': 7, 'name': 'Funny', 'count': 964}, {'i...   \n",
       "3  [{'id': 3, 'name': 'Courageous', 'count': 760}...   \n",
       "4  [{'id': 9, 'name': 'Ingenious', 'count': 3202}...   \n",
       "\n",
       "                                       related_talks  \\\n",
       "0  [{'id': 865, 'hero': 'https://pe.tedcdn.com/im...   \n",
       "1  [{'id': 243, 'hero': 'https://pe.tedcdn.com/im...   \n",
       "2  [{'id': 1725, 'hero': 'https://pe.tedcdn.com/i...   \n",
       "3  [{'id': 1041, 'hero': 'https://pe.tedcdn.com/i...   \n",
       "4  [{'id': 2056, 'hero': 'https://pe.tedcdn.com/i...   \n",
       "\n",
       "                     speaker_occupation  \\\n",
       "0                       Author/educator   \n",
       "1                      Climate advocate   \n",
       "2                  Technology columnist   \n",
       "3    Activist for environmental justice   \n",
       "4  Global health expert; data visionary   \n",
       "\n",
       "                                                tags  \\\n",
       "0  ['children', 'creativity', 'culture', 'dance',...   \n",
       "1  ['alternative energy', 'cars', 'climate change...   \n",
       "2  ['computers', 'entertainment', 'interface desi...   \n",
       "3  ['MacArthur grant', 'activism', 'business', 'c...   \n",
       "4  ['Africa', 'Asia', 'Google', 'demo', 'economic...   \n",
       "\n",
       "                             title  \\\n",
       "0      Do schools kill creativity?   \n",
       "1      Averting the climate crisis   \n",
       "2                 Simplicity sells   \n",
       "3              Greening the ghetto   \n",
       "4  The best stats you've ever seen   \n",
       "\n",
       "                                                 url     views  \\\n",
       "0  https://www.ted.com/talks/ken_robinson_says_sc...  47227110   \n",
       "1  https://www.ted.com/talks/al_gore_on_averting_...   3200520   \n",
       "2  https://www.ted.com/talks/david_pogue_says_sim...   1636292   \n",
       "3  https://www.ted.com/talks/majora_carter_s_tale...   1697550   \n",
       "4  https://www.ted.com/talks/hans_rosling_shows_t...  12005869   \n",
       "\n",
       "   comments_per_view  views_per_comment  \n",
       "0           9.64e-05           10372.75  \n",
       "1           8.28e-05           12077.43  \n",
       "2           7.58e-05           13195.90  \n",
       "3           1.18e-04            8487.75  \n",
       "4           4.94e-05           20245.98  "
      ]
     },
     "execution_count": 23,
     "metadata": {},
     "output_type": "execute_result"
    }
   ],
   "source": [
    "ted.head()"
   ]
  },
  {
   "cell_type": "code",
   "execution_count": 24,
   "id": "b099e1aa",
   "metadata": {},
   "outputs": [
    {
     "data": {
      "text/plain": [
       "array(['TED2006', 'TED2004', 'TED2005', 'TEDGlobal 2005', 'TEDSalon 2006',\n",
       "       'TED2003', 'TED2007', 'TED2002', 'TEDGlobal 2007',\n",
       "       'TEDSalon 2007 Hot Science', 'Skoll World Forum 2007', 'TED2008',\n",
       "       'TED1984', 'TED1990', 'DLD 2007', 'EG 2007', 'TED1998',\n",
       "       'LIFT 2007', 'TED Prize Wish', 'TEDSalon 2009 Compassion',\n",
       "       'Chautauqua Institution', 'Serious Play 2008', 'Taste3 2008',\n",
       "       'TED2001', 'TED in the Field', 'TED2009', 'EG 2008',\n",
       "       'Elizabeth G. Anderson School', 'TEDxUSC', 'TED@State',\n",
       "       'TEDGlobal 2009', 'TEDxKC', 'TEDIndia 2009',\n",
       "       'TEDSalon London 2009', 'Justice with Michael Sandel',\n",
       "       'Business Innovation Factory', 'TEDxTC',\n",
       "       'Carnegie Mellon University', 'Stanford University',\n",
       "       'AORN Congress', 'University of California', 'TEDMED 2009',\n",
       "       'Royal Institution', 'Bowery Poetry Club', 'TEDxSMU',\n",
       "       'Harvard University', 'TEDxBoston 2009', 'TEDxBerlin', 'TED2010',\n",
       "       'TEDxAmsterdam', 'World Science Festival', 'BBC TV',\n",
       "       'Arbejdsglaede Live', 'Web 2.0 Expo 2008', 'TEDxNASA',\n",
       "       'Michael Howard Studios', 'DICE Summit 2010',\n",
       "       \"Eric Whitacre's Virtual Choir\", 'Mission Blue Voyage',\n",
       "       'TEDxPuget Sound ', 'TEDxNYED', 'Toronto Youth Corps',\n",
       "       'TEDSalon London 2010', 'TEDxEdmonton', 'TED@Cannes',\n",
       "       'TEDxAtlanta', 'TEDxEast', 'TEDxOilSpill', 'TEDGlobal 2010',\n",
       "       'Princeton University', 'New York State Senate', 'TEDxBoston 2010',\n",
       "       'RSA Animate', 'TEDxYYC', 'Gel Conference', 'The Do Lectures',\n",
       "       'TEDxChange', 'TED Senior Fellows at TEDGlobal 2010',\n",
       "       'Fort Worth City Council', 'TEDxTelAviv 2010', 'TEDxDU 2010',\n",
       "       'TEDxMidwest', 'TEDxHouston', 'TEDxNextGenerationAsheville',\n",
       "       'TEDxRotterdam 2010', 'TEDWomen 2010', 'TEDxMidAtlantic',\n",
       "       'TEDxSydney', 'TEDSalon NY2011', 'TEDxRainier', 'TEDxToronto 2010',\n",
       "       'TEDxPSU', 'TEDMED 2010', 'TEDxGreatPacificGarbagePatch',\n",
       "       'TEDxGöteborg 2010', 'TEDxToronto 2011', 'TED@MotorCity',\n",
       "       'TEDxPennQuarter', 'TEDPrize@UN', 'TED2011', 'TEDxPeachtree',\n",
       "       'TEDxDubai', 'TEDActive 2011', 'INK Conference', 'TEDxCaltech',\n",
       "       'TEDxWarwick', 'Handheld Learning', 'TEDxSiliconValley',\n",
       "       'TEDxNorthwesternU', 'TEDxMaastricht', 'TEDxBG',\n",
       "       'Full Spectrum Auditions', 'TEDSalon London Spring 2011',\n",
       "       'TEDxSanMigueldeAllende', 'TEDGlobal 2011', 'TEDxBoston 2011',\n",
       "       'TEDxParis 2010', 'NextGen:Charity', 'TEDxUIUC',\n",
       "       'TEDxThessaloniki', \"TEDxO'Porto\", 'TEDxBloomington',\n",
       "       'TEDxSantaCruz', 'TEDxWaterloo', 'TEDxManhattanBeach',\n",
       "       'TEDxKids@Brussels', 'TEDxTeen', 'TEDxBoulder 2011',\n",
       "       'TEDxManhattan', 'TEDxOrangeCoast', 'TEDxBrussels', 'TEDMED 2011',\n",
       "       'TEDxKrakow', 'TEDxCMU', 'TEDxVienna', 'TEDxDU 2011', 'TEDxDirigo',\n",
       "       'TEDxCanberra', 'TEDxRC2', 'TEDxWomen 2011', 'TEDxZurich 2011',\n",
       "       'TEDSalon NY2012', 'TEDxMIA', 'TEDxNASA@SiliconValley',\n",
       "       'TEDxYouth@Manchester', 'TED1994', 'TEDxVancouver',\n",
       "       'TEDSalon London Fall 2011', 'TEDxIslay', 'TEDxAmericanRiviera',\n",
       "       'TEDxDublin', 'TEDxVictoria', 'TEDxPhoenix', 'TEDxAsheville',\n",
       "       'TEDYouth 2011', 'TED2012', 'TEDxUW', 'TED-Ed', 'TEDxCambridge',\n",
       "       'TEDxPortofSpain', 'TEDxNewy', 'TEDxPittsburgh', 'TEDxObserver',\n",
       "       'TEDxConcordiaUPortland', 'TEDxAthens', 'TED@SXSWi', 'TEDxAustin',\n",
       "       'TEDxMonterey', 'TEDxSummit', 'TEDxBerkeley',\n",
       "       'TEDxHogeschoolUtrecht', 'TEDxSanJoseCA', 'TEDxSussexUniversity',\n",
       "       'TEDMED 2012', 'TEDSalon London Spring 2012', 'TEDxGrandRapids',\n",
       "       'TEDxABQ', 'TEDxSanDiego', 'TEDxLondonBusinessSchool',\n",
       "       'TEDGlobal 2012', 'TEDxStanford', 'TEDxImperialCollege',\n",
       "       'TEDxBoston 2012', 'TEDxUCL', 'TEDxExeter', 'TEDxMaui',\n",
       "       'TEDxHousesOfParliament', 'TED@London', 'TEDxWinnipeg',\n",
       "       'TED@Bangalore', 'TED@New York', 'TEDxCHUV', 'TEDxSF',\n",
       "       'TEDxEQChCh', 'TEDxHelvetia', 'TED@Nairobi', 'TEDxGeorgetown',\n",
       "       'TED@Johannesburg', 'TEDxZurich 2012', 'TEDSalon London Fall 2012',\n",
       "       'TEDxWitsUniversity', 'TEDxJaffa 2012', 'TEDxWomen 2012',\n",
       "       'TEDxHampshireCollege', 'TEDxGoodenoughCollege', 'TEDxGlasgow',\n",
       "       'TEDxBeaconStreet', 'SoulPancake', 'TEDxDelft', 'TEDSalon NY2013',\n",
       "       'TEDxSeoul', 'TEDxConcorde', 'TED2013', 'TEDYouth 2012',\n",
       "       'TEDxSeattleU', 'TEDxRiodelaPlata', 'TED@Intel',\n",
       "       'TED Talks Education', 'TEDxMiamiUniversity', 'TEDxFiDiWomen',\n",
       "       'TEDxDeExtinction', 'TEDMED 2013', 'TEDGlobal 2013', 'TEDxCERN',\n",
       "       'TEDxNijmegen', 'TEDxColbyCollege', 'TEDxDanubia', 'TEDxTokyo',\n",
       "       'TEDxBoston', 'TEDxKids@Ambleside', 'TEDCity2.0', 'TEDxUdeM',\n",
       "       'TED@BCG Singapore', 'TED@NYC', 'TEDWomen 2013', 'TEDYouth 2013',\n",
       "       'TEDxBratislava', 'TED@BCG San Francisco', 'TEDxMet', 'TEDxMarin',\n",
       "       'TEDxBeirut', 'TED@State Street Boston', 'TEDxCaFoscariU',\n",
       "       'TEDxJaffa 2013', 'TEDxZurich 2013', 'TED Fellows Retreat 2013',\n",
       "       'TEDxParis 2012', 'TEDxBoulder', 'TED2014', 'TEDxMidAtlantic 2013',\n",
       "       'TEDxPerth', 'TEDxUMKC', 'TEDxLeuvenSalon', 'TEDActive 2014',\n",
       "       'TEDSalon NY2014', 'TEDxUofM', 'TEDxColumbus',\n",
       "       'TEDSalon Berlin 2014', 'TEDxKyoto', 'TEDxClaremontColleges',\n",
       "       'TEDxMonroeCorrectionalComplex', 'TEDxBrighton',\n",
       "       'TEDxSonomaCounty', 'TEDxAmazonia', 'TED@Unilever', 'TEDMED 2014',\n",
       "       'TEDGlobal 2014', 'TED@IBM', 'TEDxNewYork', 'TED@BCG Berlin',\n",
       "       'TEDxArendal', 'TEDxNorrkoping', 'TEDYouth 2014',\n",
       "       'TED@State Street London', 'TEDxPlaceDesNations',\n",
       "       'TEDxBinghamtonUniversity', 'TEDxLinnaeusUniversity', 'TEDxSBU',\n",
       "       'TED2015', 'TEDxMuncyStatePrison', 'TEDxSouthBank',\n",
       "       'TEDWomen 2015', 'TEDSalon NY2015', 'TEDGlobalLondon',\n",
       "       'TEDxIndianapolis', 'TED@BCG London', 'TEDxChapmanU',\n",
       "       'TEDxGoldenGatePark 2012', 'TEDxUF', 'TEDxBend',\n",
       "       'TEDGlobal>London', 'TEDxPenn', 'TEDxProvidence',\n",
       "       'TED Fellows Retreat 2015', 'TED Fellows 2015', 'TEDxOslo',\n",
       "       'TEDxCannes', 'Mission Blue II', 'TED@UPS', 'TEDxToulouse',\n",
       "       'TEDYouth 2015', 'TEDxGroningen', 'TEDGlobal>Geneva',\n",
       "       'TEDxYouth@Sydney', 'TEDxAmoskeagMillyard', 'TEDMED 2015',\n",
       "       'TEDxUM', 'TEDxCreativeCoast', 'TED2016', 'TED@StateStreet Boston',\n",
       "       'TED Talks Live', 'Global Witness HQ', 'TED Studio',\n",
       "       'TEDActive 2015', 'TEDxGatewayWomen', 'TEDxEastEnd',\n",
       "       'TED@BCG Paris', 'TEDSummit', 'TEDxDesMoines',\n",
       "       'TEDxColoradoSprings', 'TEDNYC', 'TEDxUniversityofNevada',\n",
       "       'TEDxMontreal', 'TEDxIndianaUniversity', 'TEDWomen 2016',\n",
       "       'TED Residency', 'TEDxToronto', 'TEDxMtHood', 'TEDxGhent',\n",
       "       'TEDxSaltLakeCity', 'TEDxOmaha', 'TEDxSFU', 'TEDMED 2016',\n",
       "       'TEDxPortland', 'TEDxManchester', 'TEDxMileHigh', 'TED Dialogues',\n",
       "       'TEDxNatick', 'TEDxFrankfurt', 'TED-Ed Weekend',\n",
       "       'TEDxColumbusWomen', 'TEDxEuston', 'TEDxSanQuentin',\n",
       "       'TEDLagos Ideas Search', 'TEDxVirginiaTech', 'TED2017',\n",
       "       'TEDxSkoll', 'TEDNairobi Ideas Search', 'TEDxFulbrightDublin',\n",
       "       'TEDxOrcasIsland', 'TEDxPennsylvaniaAvenue', 'TEDxCrenshaw',\n",
       "       'TEDxHamburg', 'TEDGlobal 2017', 'TEDxZurich'], dtype=object)"
      ]
     },
     "execution_count": 24,
     "metadata": {},
     "output_type": "execute_result"
    }
   ],
   "source": [
    "ted['event'].unique()"
   ]
  },
  {
   "cell_type": "code",
   "execution_count": 25,
   "id": "8982bb67",
   "metadata": {},
   "outputs": [
    {
     "data": {
      "text/plain": [
       "<AxesSubplot:>"
      ]
     },
     "execution_count": 25,
     "metadata": {},
     "output_type": "execute_result"
    },
    {
     "data": {
      "image/png": "[encoded data removed]",
      "text/plain": [
       "<Figure size 432x288 with 1 Axes>"
      ]
     },
     "metadata": {
      "needs_background": "light"
     },
     "output_type": "display_data"
    }
   ],
   "source": [
    "ted['event'].value_counts().head(10).plot(kind = 'bar')"
   ]
  },
  {
   "cell_type": "code",
   "execution_count": 26,
   "id": "6e142448",
   "metadata": {},
   "outputs": [
    {
     "data": {
      "text/plain": [
       "0    1140825600\n",
       "1    1140825600\n",
       "2    1140739200\n",
       "3    1140912000\n",
       "4    1140566400\n",
       "Name: film_date, dtype: int64"
      ]
     },
     "execution_count": 26,
     "metadata": {},
     "output_type": "execute_result"
    }
   ],
   "source": [
    "ted['film_date'].head()"
   ]
  },
  {
   "cell_type": "code",
   "execution_count": 27,
   "id": "d376e275",
   "metadata": {},
   "outputs": [
    {
     "data": {
      "text/plain": [
       "0      1970-01-01 00:00:01.140825600\n",
       "1      1970-01-01 00:00:01.140825600\n",
       "2      1970-01-01 00:00:01.140739200\n",
       "3      1970-01-01 00:00:01.140912000\n",
       "4      1970-01-01 00:00:01.140566400\n",
       "                    ...             \n",
       "2545   1970-01-01 00:00:01.496707200\n",
       "2546   1970-01-01 00:00:01.492992000\n",
       "2547   1970-01-01 00:00:01.492992000\n",
       "2548   1970-01-01 00:00:01.499472000\n",
       "2549   1970-01-01 00:00:01.492992000\n",
       "Name: film_date, Length: 2550, dtype: datetime64[ns]"
      ]
     },
     "execution_count": 27,
     "metadata": {},
     "output_type": "execute_result"
    }
   ],
   "source": [
    "# First we should convert the column film_date to datetime\n",
    "# But the function alone does not work\n",
    "pd.to_datetime(ted['film_date'])"
   ]
  },
  {
   "cell_type": "code",
   "execution_count": 28,
   "id": "71dd88f4",
   "metadata": {},
   "outputs": [
    {
     "data": {
      "text/plain": [
       "0      2006-02-25\n",
       "1      2006-02-25\n",
       "2      2006-02-24\n",
       "3      2006-02-26\n",
       "4      2006-02-22\n",
       "          ...    \n",
       "2545   2017-06-06\n",
       "2546   2017-04-24\n",
       "2547   2017-04-24\n",
       "2548   2017-07-08\n",
       "2549   2017-04-24\n",
       "Name: film_date, Length: 2550, dtype: datetime64[ns]"
      ]
     },
     "execution_count": 28,
     "metadata": {},
     "output_type": "execute_result"
    }
   ],
   "source": [
    "# We should add the argument unit='s', to pandas to recognize the data format \n",
    "# pd.to_datetime(1490195805, unit='s')\n",
    "# https://pandas.pydata.org/docs/reference/api/pandas.to_datetime.html\n",
    "pd.to_datetime(ted['film_date'], unit = 's')"
   ]
  },
  {
   "cell_type": "code",
   "execution_count": 29,
   "id": "28ac13ee",
   "metadata": {},
   "outputs": [],
   "source": [
    "# Now we can create a new column with the correct format\n",
    "ted['film_datetime'] = pd.to_datetime(ted['film_date'], unit = 's')"
   ]
  },
  {
   "cell_type": "code",
   "execution_count": 30,
   "id": "f7c92a32",
   "metadata": {},
   "outputs": [
    {
     "data": {
      "text/plain": [
       "0      2006-02-25\n",
       "1      2006-02-25\n",
       "2      2006-02-24\n",
       "3      2006-02-26\n",
       "4      2006-02-22\n",
       "          ...    \n",
       "2545   2017-06-06\n",
       "2546   2017-04-24\n",
       "2547   2017-04-24\n",
       "2548   2017-07-08\n",
       "2549   2017-04-24\n",
       "Name: film_datetime, Length: 2550, dtype: datetime64[ns]"
      ]
     },
     "execution_count": 30,
     "metadata": {},
     "output_type": "execute_result"
    }
   ],
   "source": [
    "ted['film_datetime']"
   ]
  },
  {
   "cell_type": "code",
   "execution_count": 31,
   "id": "24a7b841",
   "metadata": {},
   "outputs": [
    {
     "data": {
      "text/plain": [
       "comments                       int64\n",
       "description                   object\n",
       "duration                       int64\n",
       "event                         object\n",
       "film_date                      int64\n",
       "languages                      int64\n",
       "main_speaker                  object\n",
       "name                          object\n",
       "num_speaker                    int64\n",
       "published_date                 int64\n",
       "ratings                       object\n",
       "related_talks                 object\n",
       "speaker_occupation            object\n",
       "tags                          object\n",
       "title                         object\n",
       "url                           object\n",
       "views                          int64\n",
       "comments_per_view            float64\n",
       "views_per_comment            float64\n",
       "film_datetime         datetime64[ns]\n",
       "dtype: object"
      ]
     },
     "execution_count": 31,
     "metadata": {},
     "output_type": "execute_result"
    }
   ],
   "source": [
    "# We can confirm the data type again, to see the new column\n",
    "ted.dtypes"
   ]
  },
  {
   "cell_type": "code",
   "execution_count": 32,
   "id": "8c5611a8",
   "metadata": {},
   "outputs": [
    {
     "data": {
      "text/plain": [
       "2013    270\n",
       "2011    270\n",
       "2010    267\n",
       "2012    267\n",
       "2016    246\n",
       "2015    239\n",
       "2014    237\n",
       "2009    232\n",
       "2007    114\n",
       "2017     98\n",
       "2008     84\n",
       "2005     66\n",
       "2006     50\n",
       "2004     33\n",
       "2003     33\n",
       "2002     27\n",
       "1998      6\n",
       "2001      5\n",
       "1983      1\n",
       "1972      1\n",
       "1990      1\n",
       "1994      1\n",
       "1984      1\n",
       "1991      1\n",
       "Name: film_datetime, dtype: int64"
      ]
     },
     "execution_count": 32,
     "metadata": {},
     "output_type": "execute_result"
    }
   ],
   "source": [
    "# Now for the analysis we can use the selector \"dt\"\n",
    "ted['film_datetime'].dt.year.value_counts()"
   ]
  },
  {
   "cell_type": "code",
   "execution_count": 33,
   "id": "2a12f844",
   "metadata": {},
   "outputs": [
    {
     "data": {
      "text/plain": [
       "<AxesSubplot:>"
      ]
     },
     "execution_count": 33,
     "metadata": {},
     "output_type": "execute_result"
    },
    {
     "data": {
      "image/png": "[encoded data removed]",
      "text/plain": [
       "<Figure size 432x288 with 1 Axes>"
      ]
     },
     "metadata": {
      "needs_background": "light"
     },
     "output_type": "display_data"
    }
   ],
   "source": [
    "# We can make a line plot\n",
    "ted['film_datetime'].dt.year.value_counts().plot()\n",
    "# But the index and the data are not in the right order"
   ]
  },
  {
   "cell_type": "code",
   "execution_count": 34,
   "id": "a9733cc9",
   "metadata": {},
   "outputs": [
    {
     "data": {
      "text/plain": [
       "<AxesSubplot:>"
      ]
     },
     "execution_count": 34,
     "metadata": {},
     "output_type": "execute_result"
    },
    {
     "data": {
      "image/png": "[encoded data removed]",
      "text/plain": [
       "<Figure size 432x288 with 1 Axes>"
      ]
     },
     "metadata": {
      "needs_background": "light"
     },
     "output_type": "display_data"
    }
   ],
   "source": [
    "# To fix this problem, we should add the function sort_index() before the plot\n",
    "ted['film_datetime'].dt.year.value_counts().sort_index().plot(color = 'red')"
   ]
  },
  {
   "cell_type": "markdown",
   "id": "fcac301a",
   "metadata": {},
   "source": [
    "## 5. What were the best events in TED history to attend?"
   ]
  },
  {
   "cell_type": "code",
   "execution_count": 35,
   "id": "6df7ea65",
   "metadata": {},
   "outputs": [
    {
     "data": {
      "text/html": [
       "<div>\n",
       "<style scoped>\n",
       "    .dataframe tbody tr th:only-of-type {\n",
       "        vertical-align: middle;\n",
       "    }\n",
       "\n",
       "    .dataframe tbody tr th {\n",
       "        vertical-align: top;\n",
       "    }\n",
       "\n",
       "    .dataframe thead th {\n",
       "        text-align: right;\n",
       "    }\n",
       "</style>\n",
       "<table border=\"1\" class=\"dataframe\">\n",
       "  <thead>\n",
       "    <tr style=\"text-align: right;\">\n",
       "      <th></th>\n",
       "      <th>comments</th>\n",
       "      <th>description</th>\n",
       "      <th>duration</th>\n",
       "      <th>event</th>\n",
       "      <th>film_date</th>\n",
       "      <th>languages</th>\n",
       "      <th>main_speaker</th>\n",
       "      <th>name</th>\n",
       "      <th>num_speaker</th>\n",
       "      <th>published_date</th>\n",
       "      <th>ratings</th>\n",
       "      <th>related_talks</th>\n",
       "      <th>speaker_occupation</th>\n",
       "      <th>tags</th>\n",
       "      <th>title</th>\n",
       "      <th>url</th>\n",
       "      <th>views</th>\n",
       "      <th>comments_per_view</th>\n",
       "      <th>views_per_comment</th>\n",
       "      <th>film_datetime</th>\n",
       "    </tr>\n",
       "  </thead>\n",
       "  <tbody>\n",
       "    <tr>\n",
       "      <th>0</th>\n",
       "      <td>4553</td>\n",
       "      <td>Sir Ken Robinson makes an entertaining and pro...</td>\n",
       "      <td>1164</td>\n",
       "      <td>TED2006</td>\n",
       "      <td>1140825600</td>\n",
       "      <td>60</td>\n",
       "      <td>Ken Robinson</td>\n",
       "      <td>Ken Robinson: Do schools kill creativity?</td>\n",
       "      <td>1</td>\n",
       "      <td>1151367060</td>\n",
       "      <td>[{'id': 7, 'name': 'Funny', 'count': 19645}, {...</td>\n",
       "      <td>[{'id': 865, 'hero': 'https://pe.tedcdn.com/im...</td>\n",
       "      <td>Author/educator</td>\n",
       "      <td>['children', 'creativity', 'culture', 'dance',...</td>\n",
       "      <td>Do schools kill creativity?</td>\n",
       "      <td>https://www.ted.com/talks/ken_robinson_says_sc...</td>\n",
       "      <td>47227110</td>\n",
       "      <td>9.64e-05</td>\n",
       "      <td>10372.75</td>\n",
       "      <td>2006-02-25</td>\n",
       "    </tr>\n",
       "    <tr>\n",
       "      <th>1</th>\n",
       "      <td>265</td>\n",
       "      <td>With the same humor and humanity he exuded in ...</td>\n",
       "      <td>977</td>\n",
       "      <td>TED2006</td>\n",
       "      <td>1140825600</td>\n",
       "      <td>43</td>\n",
       "      <td>Al Gore</td>\n",
       "      <td>Al Gore: Averting the climate crisis</td>\n",
       "      <td>1</td>\n",
       "      <td>1151367060</td>\n",
       "      <td>[{'id': 7, 'name': 'Funny', 'count': 544}, {'i...</td>\n",
       "      <td>[{'id': 243, 'hero': 'https://pe.tedcdn.com/im...</td>\n",
       "      <td>Climate advocate</td>\n",
       "      <td>['alternative energy', 'cars', 'climate change...</td>\n",
       "      <td>Averting the climate crisis</td>\n",
       "      <td>https://www.ted.com/talks/al_gore_on_averting_...</td>\n",
       "      <td>3200520</td>\n",
       "      <td>8.28e-05</td>\n",
       "      <td>12077.43</td>\n",
       "      <td>2006-02-25</td>\n",
       "    </tr>\n",
       "    <tr>\n",
       "      <th>2</th>\n",
       "      <td>124</td>\n",
       "      <td>New York Times columnist David Pogue takes aim...</td>\n",
       "      <td>1286</td>\n",
       "      <td>TED2006</td>\n",
       "      <td>1140739200</td>\n",
       "      <td>26</td>\n",
       "      <td>David Pogue</td>\n",
       "      <td>David Pogue: Simplicity sells</td>\n",
       "      <td>1</td>\n",
       "      <td>1151367060</td>\n",
       "      <td>[{'id': 7, 'name': 'Funny', 'count': 964}, {'i...</td>\n",
       "      <td>[{'id': 1725, 'hero': 'https://pe.tedcdn.com/i...</td>\n",
       "      <td>Technology columnist</td>\n",
       "      <td>['computers', 'entertainment', 'interface desi...</td>\n",
       "      <td>Simplicity sells</td>\n",
       "      <td>https://www.ted.com/talks/david_pogue_says_sim...</td>\n",
       "      <td>1636292</td>\n",
       "      <td>7.58e-05</td>\n",
       "      <td>13195.90</td>\n",
       "      <td>2006-02-24</td>\n",
       "    </tr>\n",
       "    <tr>\n",
       "      <th>3</th>\n",
       "      <td>200</td>\n",
       "      <td>In an emotionally charged talk, MacArthur-winn...</td>\n",
       "      <td>1116</td>\n",
       "      <td>TED2006</td>\n",
       "      <td>1140912000</td>\n",
       "      <td>35</td>\n",
       "      <td>Majora Carter</td>\n",
       "      <td>Majora Carter: Greening the ghetto</td>\n",
       "      <td>1</td>\n",
       "      <td>1151367060</td>\n",
       "      <td>[{'id': 3, 'name': 'Courageous', 'count': 760}...</td>\n",
       "      <td>[{'id': 1041, 'hero': 'https://pe.tedcdn.com/i...</td>\n",
       "      <td>Activist for environmental justice</td>\n",
       "      <td>['MacArthur grant', 'activism', 'business', 'c...</td>\n",
       "      <td>Greening the ghetto</td>\n",
       "      <td>https://www.ted.com/talks/majora_carter_s_tale...</td>\n",
       "      <td>1697550</td>\n",
       "      <td>1.18e-04</td>\n",
       "      <td>8487.75</td>\n",
       "      <td>2006-02-26</td>\n",
       "    </tr>\n",
       "    <tr>\n",
       "      <th>4</th>\n",
       "      <td>593</td>\n",
       "      <td>You've never seen data presented like this. Wi...</td>\n",
       "      <td>1190</td>\n",
       "      <td>TED2006</td>\n",
       "      <td>1140566400</td>\n",
       "      <td>48</td>\n",
       "      <td>Hans Rosling</td>\n",
       "      <td>Hans Rosling: The best stats you've ever seen</td>\n",
       "      <td>1</td>\n",
       "      <td>1151440680</td>\n",
       "      <td>[{'id': 9, 'name': 'Ingenious', 'count': 3202}...</td>\n",
       "      <td>[{'id': 2056, 'hero': 'https://pe.tedcdn.com/i...</td>\n",
       "      <td>Global health expert; data visionary</td>\n",
       "      <td>['Africa', 'Asia', 'Google', 'demo', 'economic...</td>\n",
       "      <td>The best stats you've ever seen</td>\n",
       "      <td>https://www.ted.com/talks/hans_rosling_shows_t...</td>\n",
       "      <td>12005869</td>\n",
       "      <td>4.94e-05</td>\n",
       "      <td>20245.98</td>\n",
       "      <td>2006-02-22</td>\n",
       "    </tr>\n",
       "  </tbody>\n",
       "</table>\n",
       "</div>"
      ],
      "text/plain": [
       "   comments                                        description  duration  \\\n",
       "0      4553  Sir Ken Robinson makes an entertaining and pro...      1164   \n",
       "1       265  With the same humor and humanity he exuded in ...       977   \n",
       "2       124  New York Times columnist David Pogue takes aim...      1286   \n",
       "3       200  In an emotionally charged talk, MacArthur-winn...      1116   \n",
       "4       593  You've never seen data presented like this. Wi...      1190   \n",
       "\n",
       "     event   film_date  languages   main_speaker  \\\n",
       "0  TED2006  1140825600         60   Ken Robinson   \n",
       "1  TED2006  1140825600         43        Al Gore   \n",
       "2  TED2006  1140739200         26    David Pogue   \n",
       "3  TED2006  1140912000         35  Majora Carter   \n",
       "4  TED2006  1140566400         48   Hans Rosling   \n",
       "\n",
       "                                            name  num_speaker  published_date  \\\n",
       "0      Ken Robinson: Do schools kill creativity?            1      1151367060   \n",
       "1           Al Gore: Averting the climate crisis            1      1151367060   \n",
       "2                  David Pogue: Simplicity sells            1      1151367060   \n",
       "3             Majora Carter: Greening the ghetto            1      1151367060   \n",
       "4  Hans Rosling: The best stats you've ever seen            1      1151440680   \n",
       "\n",
       "                                             ratings  \\\n",
       "0  [{'id': 7, 'name': 'Funny', 'count': 19645}, {...   \n",
       "1  [{'id': 7, 'name': 'Funny', 'count': 544}, {'i...   \n",
       "2  [{'id': 7, 'name': 'Funny', 'count': 964}, {'i...   \n",
       "3  [{'id': 3, 'name': 'Courageous', 'count': 760}...   \n",
       "4  [{'id': 9, 'name': 'Ingenious', 'count': 3202}...   \n",
       "\n",
       "                                       related_talks  \\\n",
       "0  [{'id': 865, 'hero': 'https://pe.tedcdn.com/im...   \n",
       "1  [{'id': 243, 'hero': 'https://pe.tedcdn.com/im...   \n",
       "2  [{'id': 1725, 'hero': 'https://pe.tedcdn.com/i...   \n",
       "3  [{'id': 1041, 'hero': 'https://pe.tedcdn.com/i...   \n",
       "4  [{'id': 2056, 'hero': 'https://pe.tedcdn.com/i...   \n",
       "\n",
       "                     speaker_occupation  \\\n",
       "0                       Author/educator   \n",
       "1                      Climate advocate   \n",
       "2                  Technology columnist   \n",
       "3    Activist for environmental justice   \n",
       "4  Global health expert; data visionary   \n",
       "\n",
       "                                                tags  \\\n",
       "0  ['children', 'creativity', 'culture', 'dance',...   \n",
       "1  ['alternative energy', 'cars', 'climate change...   \n",
       "2  ['computers', 'entertainment', 'interface desi...   \n",
       "3  ['MacArthur grant', 'activism', 'business', 'c...   \n",
       "4  ['Africa', 'Asia', 'Google', 'demo', 'economic...   \n",
       "\n",
       "                             title  \\\n",
       "0      Do schools kill creativity?   \n",
       "1      Averting the climate crisis   \n",
       "2                 Simplicity sells   \n",
       "3              Greening the ghetto   \n",
       "4  The best stats you've ever seen   \n",
       "\n",
       "                                                 url     views  \\\n",
       "0  https://www.ted.com/talks/ken_robinson_says_sc...  47227110   \n",
       "1  https://www.ted.com/talks/al_gore_on_averting_...   3200520   \n",
       "2  https://www.ted.com/talks/david_pogue_says_sim...   1636292   \n",
       "3  https://www.ted.com/talks/majora_carter_s_tale...   1697550   \n",
       "4  https://www.ted.com/talks/hans_rosling_shows_t...  12005869   \n",
       "\n",
       "   comments_per_view  views_per_comment film_datetime  \n",
       "0           9.64e-05           10372.75    2006-02-25  \n",
       "1           8.28e-05           12077.43    2006-02-25  \n",
       "2           7.58e-05           13195.90    2006-02-24  \n",
       "3           1.18e-04            8487.75    2006-02-26  \n",
       "4           4.94e-05           20245.98    2006-02-22  "
      ]
     },
     "execution_count": 35,
     "metadata": {},
     "output_type": "execute_result"
    }
   ],
   "source": [
    "ted.head()"
   ]
  },
  {
   "cell_type": "code",
   "execution_count": 36,
   "id": "06acf97c",
   "metadata": {},
   "outputs": [
    {
     "data": {
      "text/plain": [
       "array(['TED2006', 'TED2004', 'TED2005', 'TEDGlobal 2005', 'TEDSalon 2006',\n",
       "       'TED2003', 'TED2007', 'TED2002', 'TEDGlobal 2007',\n",
       "       'TEDSalon 2007 Hot Science', 'Skoll World Forum 2007', 'TED2008',\n",
       "       'TED1984', 'TED1990', 'DLD 2007', 'EG 2007', 'TED1998',\n",
       "       'LIFT 2007', 'TED Prize Wish', 'TEDSalon 2009 Compassion',\n",
       "       'Chautauqua Institution', 'Serious Play 2008', 'Taste3 2008',\n",
       "       'TED2001', 'TED in the Field', 'TED2009', 'EG 2008',\n",
       "       'Elizabeth G. Anderson School', 'TEDxUSC', 'TED@State',\n",
       "       'TEDGlobal 2009', 'TEDxKC', 'TEDIndia 2009',\n",
       "       'TEDSalon London 2009', 'Justice with Michael Sandel',\n",
       "       'Business Innovation Factory', 'TEDxTC',\n",
       "       'Carnegie Mellon University', 'Stanford University',\n",
       "       'AORN Congress', 'University of California', 'TEDMED 2009',\n",
       "       'Royal Institution', 'Bowery Poetry Club', 'TEDxSMU',\n",
       "       'Harvard University', 'TEDxBoston 2009', 'TEDxBerlin', 'TED2010',\n",
       "       'TEDxAmsterdam', 'World Science Festival', 'BBC TV',\n",
       "       'Arbejdsglaede Live', 'Web 2.0 Expo 2008', 'TEDxNASA',\n",
       "       'Michael Howard Studios', 'DICE Summit 2010',\n",
       "       \"Eric Whitacre's Virtual Choir\", 'Mission Blue Voyage',\n",
       "       'TEDxPuget Sound ', 'TEDxNYED', 'Toronto Youth Corps',\n",
       "       'TEDSalon London 2010', 'TEDxEdmonton', 'TED@Cannes',\n",
       "       'TEDxAtlanta', 'TEDxEast', 'TEDxOilSpill', 'TEDGlobal 2010',\n",
       "       'Princeton University', 'New York State Senate', 'TEDxBoston 2010',\n",
       "       'RSA Animate', 'TEDxYYC', 'Gel Conference', 'The Do Lectures',\n",
       "       'TEDxChange', 'TED Senior Fellows at TEDGlobal 2010',\n",
       "       'Fort Worth City Council', 'TEDxTelAviv 2010', 'TEDxDU 2010',\n",
       "       'TEDxMidwest', 'TEDxHouston', 'TEDxNextGenerationAsheville',\n",
       "       'TEDxRotterdam 2010', 'TEDWomen 2010', 'TEDxMidAtlantic',\n",
       "       'TEDxSydney', 'TEDSalon NY2011', 'TEDxRainier', 'TEDxToronto 2010',\n",
       "       'TEDxPSU', 'TEDMED 2010', 'TEDxGreatPacificGarbagePatch',\n",
       "       'TEDxGöteborg 2010', 'TEDxToronto 2011', 'TED@MotorCity',\n",
       "       'TEDxPennQuarter', 'TEDPrize@UN', 'TED2011', 'TEDxPeachtree',\n",
       "       'TEDxDubai', 'TEDActive 2011', 'INK Conference', 'TEDxCaltech',\n",
       "       'TEDxWarwick', 'Handheld Learning', 'TEDxSiliconValley',\n",
       "       'TEDxNorthwesternU', 'TEDxMaastricht', 'TEDxBG',\n",
       "       'Full Spectrum Auditions', 'TEDSalon London Spring 2011',\n",
       "       'TEDxSanMigueldeAllende', 'TEDGlobal 2011', 'TEDxBoston 2011',\n",
       "       'TEDxParis 2010', 'NextGen:Charity', 'TEDxUIUC',\n",
       "       'TEDxThessaloniki', \"TEDxO'Porto\", 'TEDxBloomington',\n",
       "       'TEDxSantaCruz', 'TEDxWaterloo', 'TEDxManhattanBeach',\n",
       "       'TEDxKids@Brussels', 'TEDxTeen', 'TEDxBoulder 2011',\n",
       "       'TEDxManhattan', 'TEDxOrangeCoast', 'TEDxBrussels', 'TEDMED 2011',\n",
       "       'TEDxKrakow', 'TEDxCMU', 'TEDxVienna', 'TEDxDU 2011', 'TEDxDirigo',\n",
       "       'TEDxCanberra', 'TEDxRC2', 'TEDxWomen 2011', 'TEDxZurich 2011',\n",
       "       'TEDSalon NY2012', 'TEDxMIA', 'TEDxNASA@SiliconValley',\n",
       "       'TEDxYouth@Manchester', 'TED1994', 'TEDxVancouver',\n",
       "       'TEDSalon London Fall 2011', 'TEDxIslay', 'TEDxAmericanRiviera',\n",
       "       'TEDxDublin', 'TEDxVictoria', 'TEDxPhoenix', 'TEDxAsheville',\n",
       "       'TEDYouth 2011', 'TED2012', 'TEDxUW', 'TED-Ed', 'TEDxCambridge',\n",
       "       'TEDxPortofSpain', 'TEDxNewy', 'TEDxPittsburgh', 'TEDxObserver',\n",
       "       'TEDxConcordiaUPortland', 'TEDxAthens', 'TED@SXSWi', 'TEDxAustin',\n",
       "       'TEDxMonterey', 'TEDxSummit', 'TEDxBerkeley',\n",
       "       'TEDxHogeschoolUtrecht', 'TEDxSanJoseCA', 'TEDxSussexUniversity',\n",
       "       'TEDMED 2012', 'TEDSalon London Spring 2012', 'TEDxGrandRapids',\n",
       "       'TEDxABQ', 'TEDxSanDiego', 'TEDxLondonBusinessSchool',\n",
       "       'TEDGlobal 2012', 'TEDxStanford', 'TEDxImperialCollege',\n",
       "       'TEDxBoston 2012', 'TEDxUCL', 'TEDxExeter', 'TEDxMaui',\n",
       "       'TEDxHousesOfParliament', 'TED@London', 'TEDxWinnipeg',\n",
       "       'TED@Bangalore', 'TED@New York', 'TEDxCHUV', 'TEDxSF',\n",
       "       'TEDxEQChCh', 'TEDxHelvetia', 'TED@Nairobi', 'TEDxGeorgetown',\n",
       "       'TED@Johannesburg', 'TEDxZurich 2012', 'TEDSalon London Fall 2012',\n",
       "       'TEDxWitsUniversity', 'TEDxJaffa 2012', 'TEDxWomen 2012',\n",
       "       'TEDxHampshireCollege', 'TEDxGoodenoughCollege', 'TEDxGlasgow',\n",
       "       'TEDxBeaconStreet', 'SoulPancake', 'TEDxDelft', 'TEDSalon NY2013',\n",
       "       'TEDxSeoul', 'TEDxConcorde', 'TED2013', 'TEDYouth 2012',\n",
       "       'TEDxSeattleU', 'TEDxRiodelaPlata', 'TED@Intel',\n",
       "       'TED Talks Education', 'TEDxMiamiUniversity', 'TEDxFiDiWomen',\n",
       "       'TEDxDeExtinction', 'TEDMED 2013', 'TEDGlobal 2013', 'TEDxCERN',\n",
       "       'TEDxNijmegen', 'TEDxColbyCollege', 'TEDxDanubia', 'TEDxTokyo',\n",
       "       'TEDxBoston', 'TEDxKids@Ambleside', 'TEDCity2.0', 'TEDxUdeM',\n",
       "       'TED@BCG Singapore', 'TED@NYC', 'TEDWomen 2013', 'TEDYouth 2013',\n",
       "       'TEDxBratislava', 'TED@BCG San Francisco', 'TEDxMet', 'TEDxMarin',\n",
       "       'TEDxBeirut', 'TED@State Street Boston', 'TEDxCaFoscariU',\n",
       "       'TEDxJaffa 2013', 'TEDxZurich 2013', 'TED Fellows Retreat 2013',\n",
       "       'TEDxParis 2012', 'TEDxBoulder', 'TED2014', 'TEDxMidAtlantic 2013',\n",
       "       'TEDxPerth', 'TEDxUMKC', 'TEDxLeuvenSalon', 'TEDActive 2014',\n",
       "       'TEDSalon NY2014', 'TEDxUofM', 'TEDxColumbus',\n",
       "       'TEDSalon Berlin 2014', 'TEDxKyoto', 'TEDxClaremontColleges',\n",
       "       'TEDxMonroeCorrectionalComplex', 'TEDxBrighton',\n",
       "       'TEDxSonomaCounty', 'TEDxAmazonia', 'TED@Unilever', 'TEDMED 2014',\n",
       "       'TEDGlobal 2014', 'TED@IBM', 'TEDxNewYork', 'TED@BCG Berlin',\n",
       "       'TEDxArendal', 'TEDxNorrkoping', 'TEDYouth 2014',\n",
       "       'TED@State Street London', 'TEDxPlaceDesNations',\n",
       "       'TEDxBinghamtonUniversity', 'TEDxLinnaeusUniversity', 'TEDxSBU',\n",
       "       'TED2015', 'TEDxMuncyStatePrison', 'TEDxSouthBank',\n",
       "       'TEDWomen 2015', 'TEDSalon NY2015', 'TEDGlobalLondon',\n",
       "       'TEDxIndianapolis', 'TED@BCG London', 'TEDxChapmanU',\n",
       "       'TEDxGoldenGatePark 2012', 'TEDxUF', 'TEDxBend',\n",
       "       'TEDGlobal>London', 'TEDxPenn', 'TEDxProvidence',\n",
       "       'TED Fellows Retreat 2015', 'TED Fellows 2015', 'TEDxOslo',\n",
       "       'TEDxCannes', 'Mission Blue II', 'TED@UPS', 'TEDxToulouse',\n",
       "       'TEDYouth 2015', 'TEDxGroningen', 'TEDGlobal>Geneva',\n",
       "       'TEDxYouth@Sydney', 'TEDxAmoskeagMillyard', 'TEDMED 2015',\n",
       "       'TEDxUM', 'TEDxCreativeCoast', 'TED2016', 'TED@StateStreet Boston',\n",
       "       'TED Talks Live', 'Global Witness HQ', 'TED Studio',\n",
       "       'TEDActive 2015', 'TEDxGatewayWomen', 'TEDxEastEnd',\n",
       "       'TED@BCG Paris', 'TEDSummit', 'TEDxDesMoines',\n",
       "       'TEDxColoradoSprings', 'TEDNYC', 'TEDxUniversityofNevada',\n",
       "       'TEDxMontreal', 'TEDxIndianaUniversity', 'TEDWomen 2016',\n",
       "       'TED Residency', 'TEDxToronto', 'TEDxMtHood', 'TEDxGhent',\n",
       "       'TEDxSaltLakeCity', 'TEDxOmaha', 'TEDxSFU', 'TEDMED 2016',\n",
       "       'TEDxPortland', 'TEDxManchester', 'TEDxMileHigh', 'TED Dialogues',\n",
       "       'TEDxNatick', 'TEDxFrankfurt', 'TED-Ed Weekend',\n",
       "       'TEDxColumbusWomen', 'TEDxEuston', 'TEDxSanQuentin',\n",
       "       'TEDLagos Ideas Search', 'TEDxVirginiaTech', 'TED2017',\n",
       "       'TEDxSkoll', 'TEDNairobi Ideas Search', 'TEDxFulbrightDublin',\n",
       "       'TEDxOrcasIsland', 'TEDxPennsylvaniaAvenue', 'TEDxCrenshaw',\n",
       "       'TEDxHamburg', 'TEDGlobal 2017', 'TEDxZurich'], dtype=object)"
      ]
     },
     "execution_count": 36,
     "metadata": {},
     "output_type": "execute_result"
    }
   ],
   "source": [
    "ted['event'].unique()"
   ]
  },
  {
   "cell_type": "code",
   "execution_count": 37,
   "id": "15717340",
   "metadata": {},
   "outputs": [
    {
     "data": {
      "text/plain": [
       "TED2014              84\n",
       "TED2009              83\n",
       "TED2016              77\n",
       "TED2013              77\n",
       "TED2015              75\n",
       "                     ..\n",
       "NextGen:Charity       1\n",
       "TEDxBG                1\n",
       "TEDxNorthwesternU     1\n",
       "TEDxSiliconValley     1\n",
       "TEDxZurich            1\n",
       "Name: event, Length: 355, dtype: int64"
      ]
     },
     "execution_count": 37,
     "metadata": {},
     "output_type": "execute_result"
    }
   ],
   "source": [
    "ted['event'].value_counts()"
   ]
  },
  {
   "cell_type": "code",
   "execution_count": 38,
   "id": "56d91794",
   "metadata": {},
   "outputs": [
    {
     "data": {
      "text/plain": [
       "event\n",
       "TEDxPuget Sound           3.43e+07\n",
       "TEDxHouston               1.61e+07\n",
       "TEDxBloomington           9.48e+06\n",
       "TEDxCreativeCoast         8.44e+06\n",
       "TEDxNorrkoping            6.57e+06\n",
       "                            ...   \n",
       "TEDxNASA@SiliconValley    1.56e+05\n",
       "AORN Congress             1.50e+05\n",
       "TEDxWaterloo              1.39e+05\n",
       "TEDxIslay                 1.20e+05\n",
       "The Do Lectures           1.12e+05\n",
       "Name: views, Length: 355, dtype: float64"
      ]
     },
     "execution_count": 38,
     "metadata": {},
     "output_type": "execute_result"
    }
   ],
   "source": [
    "# We can answer this question, grouping by event and calculating the number of views\n",
    "ted.groupby('event')['views'].mean().sort_values(ascending = False)\n",
    "# The problem with this approximation is that we don't have the number of talks, maybe we can overlook some data"
   ]
  },
  {
   "cell_type": "code",
   "execution_count": 39,
   "id": "46dfa64e",
   "metadata": {},
   "outputs": [
    {
     "data": {
      "text/html": [
       "<div>\n",
       "<style scoped>\n",
       "    .dataframe tbody tr th:only-of-type {\n",
       "        vertical-align: middle;\n",
       "    }\n",
       "\n",
       "    .dataframe tbody tr th {\n",
       "        vertical-align: top;\n",
       "    }\n",
       "\n",
       "    .dataframe thead th {\n",
       "        text-align: right;\n",
       "    }\n",
       "</style>\n",
       "<table border=\"1\" class=\"dataframe\">\n",
       "  <thead>\n",
       "    <tr style=\"text-align: right;\">\n",
       "      <th></th>\n",
       "      <th>count</th>\n",
       "      <th>mean</th>\n",
       "      <th>sum</th>\n",
       "    </tr>\n",
       "    <tr>\n",
       "      <th>event</th>\n",
       "      <th></th>\n",
       "      <th></th>\n",
       "      <th></th>\n",
       "    </tr>\n",
       "  </thead>\n",
       "  <tbody>\n",
       "    <tr>\n",
       "      <th>TED2013</th>\n",
       "      <td>77</td>\n",
       "      <td>2.30e+06</td>\n",
       "      <td>177307937</td>\n",
       "    </tr>\n",
       "    <tr>\n",
       "      <th>TED2014</th>\n",
       "      <td>84</td>\n",
       "      <td>2.07e+06</td>\n",
       "      <td>174121423</td>\n",
       "    </tr>\n",
       "    <tr>\n",
       "      <th>TEDGlobal 2013</th>\n",
       "      <td>66</td>\n",
       "      <td>2.58e+06</td>\n",
       "      <td>170554736</td>\n",
       "    </tr>\n",
       "    <tr>\n",
       "      <th>TED2015</th>\n",
       "      <td>75</td>\n",
       "      <td>2.01e+06</td>\n",
       "      <td>150826305</td>\n",
       "    </tr>\n",
       "    <tr>\n",
       "      <th>TED2006</th>\n",
       "      <td>45</td>\n",
       "      <td>3.27e+06</td>\n",
       "      <td>147345533</td>\n",
       "    </tr>\n",
       "    <tr>\n",
       "      <th>...</th>\n",
       "      <td>...</td>\n",
       "      <td>...</td>\n",
       "      <td>...</td>\n",
       "    </tr>\n",
       "    <tr>\n",
       "      <th>TEDxNASA@SiliconValley</th>\n",
       "      <td>1</td>\n",
       "      <td>1.56e+05</td>\n",
       "      <td>155895</td>\n",
       "    </tr>\n",
       "    <tr>\n",
       "      <th>AORN Congress</th>\n",
       "      <td>1</td>\n",
       "      <td>1.50e+05</td>\n",
       "      <td>149818</td>\n",
       "    </tr>\n",
       "    <tr>\n",
       "      <th>TEDxWaterloo</th>\n",
       "      <td>1</td>\n",
       "      <td>1.39e+05</td>\n",
       "      <td>138812</td>\n",
       "    </tr>\n",
       "    <tr>\n",
       "      <th>TEDxIslay</th>\n",
       "      <td>1</td>\n",
       "      <td>1.20e+05</td>\n",
       "      <td>120274</td>\n",
       "    </tr>\n",
       "    <tr>\n",
       "      <th>The Do Lectures</th>\n",
       "      <td>1</td>\n",
       "      <td>1.12e+05</td>\n",
       "      <td>112321</td>\n",
       "    </tr>\n",
       "  </tbody>\n",
       "</table>\n",
       "<p>355 rows × 3 columns</p>\n",
       "</div>"
      ],
      "text/plain": [
       "                        count      mean        sum\n",
       "event                                             \n",
       "TED2013                    77  2.30e+06  177307937\n",
       "TED2014                    84  2.07e+06  174121423\n",
       "TEDGlobal 2013             66  2.58e+06  170554736\n",
       "TED2015                    75  2.01e+06  150826305\n",
       "TED2006                    45  3.27e+06  147345533\n",
       "...                       ...       ...        ...\n",
       "TEDxNASA@SiliconValley      1  1.56e+05     155895\n",
       "AORN Congress               1  1.50e+05     149818\n",
       "TEDxWaterloo                1  1.39e+05     138812\n",
       "TEDxIslay                   1  1.20e+05     120274\n",
       "The Do Lectures             1  1.12e+05     112321\n",
       "\n",
       "[355 rows x 3 columns]"
      ]
     },
     "execution_count": 39,
     "metadata": {},
     "output_type": "execute_result"
    }
   ],
   "source": [
    "# A better approximation could be, use agregation function to count and sum the numbers of talks and the number of views\n",
    "ted.groupby('event')['views'].agg(['count', 'mean', 'sum']).sort_values('sum', ascending = False)"
   ]
  },
  {
   "cell_type": "markdown",
   "id": "ccbe6aa4",
   "metadata": {},
   "source": [
    "## 6. Unpack the ratings data"
   ]
  },
  {
   "cell_type": "code",
   "execution_count": 40,
   "id": "5540d6dc",
   "metadata": {},
   "outputs": [
    {
     "data": {
      "text/plain": [
       "\"[{'id': 7, 'name': 'Funny', 'count': 19645}, {'id': 1, 'name': 'Beautiful', 'count': 4573}, {'id': 9, 'name': 'Ingenious', 'count': 6073}, {'id': 3, 'name': 'Courageous', 'count': 3253}, {'id': 11, 'name': 'Longwinded', 'count': 387}, {'id': 2, 'name': 'Confusing', 'count': 242}, {'id': 8, 'name': 'Informative', 'count': 7346}, {'id': 22, 'name': 'Fascinating', 'count': 10581}, {'id': 21, 'name': 'Unconvincing', 'count': 300}, {'id': 24, 'name': 'Persuasive', 'count': 10704}, {'id': 23, 'name': 'Jaw-dropping', 'count': 4439}, {'id': 25, 'name': 'OK', 'count': 1174}, {'id': 26, 'name': 'Obnoxious', 'count': 209}, {'id': 10, 'name': 'Inspiring', 'count': 24924}]\""
      ]
     },
     "execution_count": 40,
     "metadata": {},
     "output_type": "execute_result"
    }
   ],
   "source": [
    "ted.loc[0, 'ratings']"
   ]
  },
  {
   "cell_type": "code",
   "execution_count": 41,
   "id": "5bb3f0a9",
   "metadata": {},
   "outputs": [
    {
     "data": {
      "text/plain": [
       "str"
      ]
     },
     "execution_count": 41,
     "metadata": {},
     "output_type": "execute_result"
    }
   ],
   "source": [
    "# The type of object is a string of dictionaries\n",
    "type(ted.loc[0, 'ratings'])"
   ]
  },
  {
   "cell_type": "code",
   "execution_count": 42,
   "id": "7274823e",
   "metadata": {},
   "outputs": [],
   "source": [
    "# To separate the data we should convert the string to a list, importing the module \"ast\" and using the function\n",
    "# ast.literal_eval()\n",
    "import ast"
   ]
  },
  {
   "cell_type": "code",
   "execution_count": 43,
   "id": "7108c555",
   "metadata": {},
   "outputs": [
    {
     "data": {
      "text/plain": [
       "[{'id': 7, 'name': 'Funny', 'count': 19645},\n",
       " {'id': 1, 'name': 'Beautiful', 'count': 4573},\n",
       " {'id': 9, 'name': 'Ingenious', 'count': 6073},\n",
       " {'id': 3, 'name': 'Courageous', 'count': 3253},\n",
       " {'id': 11, 'name': 'Longwinded', 'count': 387},\n",
       " {'id': 2, 'name': 'Confusing', 'count': 242},\n",
       " {'id': 8, 'name': 'Informative', 'count': 7346},\n",
       " {'id': 22, 'name': 'Fascinating', 'count': 10581},\n",
       " {'id': 21, 'name': 'Unconvincing', 'count': 300},\n",
       " {'id': 24, 'name': 'Persuasive', 'count': 10704},\n",
       " {'id': 23, 'name': 'Jaw-dropping', 'count': 4439},\n",
       " {'id': 25, 'name': 'OK', 'count': 1174},\n",
       " {'id': 26, 'name': 'Obnoxious', 'count': 209},\n",
       " {'id': 10, 'name': 'Inspiring', 'count': 24924}]"
      ]
     },
     "execution_count": 43,
     "metadata": {},
     "output_type": "execute_result"
    }
   ],
   "source": [
    "# Using the funtion we don't see a string of dictionaires, now we can see a list\n",
    "ast.literal_eval(ted.loc[0, 'ratings'])"
   ]
  },
  {
   "cell_type": "code",
   "execution_count": 44,
   "id": "ab2e4e3d",
   "metadata": {},
   "outputs": [],
   "source": [
    "# To apply this to all the data frame we must define a custom function or use a lambda function\n",
    "def str_to_list(ratings_str):\n",
    "    return ast.literal_eval(ratings_str)"
   ]
  },
  {
   "cell_type": "code",
   "execution_count": 45,
   "id": "8e4e7f79",
   "metadata": {},
   "outputs": [
    {
     "data": {
      "text/plain": [
       "[{'id': 7, 'name': 'Funny', 'count': 19645},\n",
       " {'id': 1, 'name': 'Beautiful', 'count': 4573},\n",
       " {'id': 9, 'name': 'Ingenious', 'count': 6073},\n",
       " {'id': 3, 'name': 'Courageous', 'count': 3253},\n",
       " {'id': 11, 'name': 'Longwinded', 'count': 387},\n",
       " {'id': 2, 'name': 'Confusing', 'count': 242},\n",
       " {'id': 8, 'name': 'Informative', 'count': 7346},\n",
       " {'id': 22, 'name': 'Fascinating', 'count': 10581},\n",
       " {'id': 21, 'name': 'Unconvincing', 'count': 300},\n",
       " {'id': 24, 'name': 'Persuasive', 'count': 10704},\n",
       " {'id': 23, 'name': 'Jaw-dropping', 'count': 4439},\n",
       " {'id': 25, 'name': 'OK', 'count': 1174},\n",
       " {'id': 26, 'name': 'Obnoxious', 'count': 209},\n",
       " {'id': 10, 'name': 'Inspiring', 'count': 24924}]"
      ]
     },
     "execution_count": 45,
     "metadata": {},
     "output_type": "execute_result"
    }
   ],
   "source": [
    "str_to_list(ted.loc[0, 'ratings'])"
   ]
  },
  {
   "cell_type": "code",
   "execution_count": 46,
   "id": "1997d8f5",
   "metadata": {},
   "outputs": [
    {
     "data": {
      "text/plain": [
       "0       [{'id': 7, 'name': 'Funny', 'count': 19645}, {...\n",
       "1       [{'id': 7, 'name': 'Funny', 'count': 544}, {'i...\n",
       "2       [{'id': 7, 'name': 'Funny', 'count': 964}, {'i...\n",
       "3       [{'id': 3, 'name': 'Courageous', 'count': 760}...\n",
       "4       [{'id': 9, 'name': 'Ingenious', 'count': 3202}...\n",
       "                              ...                        \n",
       "2545    [{'id': 3, 'name': 'Courageous', 'count': 24},...\n",
       "2546    [{'id': 22, 'name': 'Fascinating', 'count': 32...\n",
       "2547    [{'id': 1, 'name': 'Beautiful', 'count': 14}, ...\n",
       "2548    [{'id': 11, 'name': 'Longwinded', 'count': 3},...\n",
       "2549    [{'id': 21, 'name': 'Unconvincing', 'count': 2...\n",
       "Name: ratings, Length: 2550, dtype: object"
      ]
     },
     "execution_count": 46,
     "metadata": {},
     "output_type": "execute_result"
    }
   ],
   "source": [
    "# Now we have to use the function apply() to pass the function to all the Series\n",
    "ted['ratings'].apply(str_to_list)"
   ]
  },
  {
   "cell_type": "code",
   "execution_count": 47,
   "id": "6b3160c5",
   "metadata": {},
   "outputs": [
    {
     "data": {
      "text/plain": [
       "0       [{'id': 7, 'name': 'Funny', 'count': 19645}, {...\n",
       "1       [{'id': 7, 'name': 'Funny', 'count': 544}, {'i...\n",
       "2       [{'id': 7, 'name': 'Funny', 'count': 964}, {'i...\n",
       "3       [{'id': 3, 'name': 'Courageous', 'count': 760}...\n",
       "4       [{'id': 9, 'name': 'Ingenious', 'count': 3202}...\n",
       "                              ...                        \n",
       "2545    [{'id': 3, 'name': 'Courageous', 'count': 24},...\n",
       "2546    [{'id': 22, 'name': 'Fascinating', 'count': 32...\n",
       "2547    [{'id': 1, 'name': 'Beautiful', 'count': 14}, ...\n",
       "2548    [{'id': 11, 'name': 'Longwinded', 'count': 3},...\n",
       "2549    [{'id': 21, 'name': 'Unconvincing', 'count': 2...\n",
       "Name: ratings, Length: 2550, dtype: object"
      ]
     },
     "execution_count": 47,
     "metadata": {},
     "output_type": "execute_result"
    }
   ],
   "source": [
    "# We can use the function ast.literal_eval directly with apply, like this\n",
    "ted['ratings'].apply(ast.literal_eval)"
   ]
  },
  {
   "cell_type": "code",
   "execution_count": 48,
   "id": "bf0b1c76",
   "metadata": {},
   "outputs": [],
   "source": [
    "# Now we can create a new column with the list of ratings\n",
    "ted['rating_list'] = ted['ratings'].apply(ast.literal_eval)"
   ]
  },
  {
   "cell_type": "code",
   "execution_count": 49,
   "id": "f195bfe2",
   "metadata": {},
   "outputs": [
    {
     "data": {
      "text/plain": [
       "0       [{'id': 7, 'name': 'Funny', 'count': 19645}, {...\n",
       "1       [{'id': 7, 'name': 'Funny', 'count': 544}, {'i...\n",
       "2       [{'id': 7, 'name': 'Funny', 'count': 964}, {'i...\n",
       "3       [{'id': 3, 'name': 'Courageous', 'count': 760}...\n",
       "4       [{'id': 9, 'name': 'Ingenious', 'count': 3202}...\n",
       "                              ...                        \n",
       "2545    [{'id': 3, 'name': 'Courageous', 'count': 24},...\n",
       "2546    [{'id': 22, 'name': 'Fascinating', 'count': 32...\n",
       "2547    [{'id': 1, 'name': 'Beautiful', 'count': 14}, ...\n",
       "2548    [{'id': 11, 'name': 'Longwinded', 'count': 3},...\n",
       "2549    [{'id': 21, 'name': 'Unconvincing', 'count': 2...\n",
       "Name: rating_list, Length: 2550, dtype: object"
      ]
     },
     "execution_count": 49,
     "metadata": {},
     "output_type": "execute_result"
    }
   ],
   "source": [
    "ted['rating_list'] "
   ]
  },
  {
   "cell_type": "code",
   "execution_count": 50,
   "id": "19f4c7c5",
   "metadata": {
    "scrolled": true
   },
   "outputs": [
    {
     "data": {
      "text/plain": [
       "[{'id': 7, 'name': 'Funny', 'count': 19645},\n",
       " {'id': 1, 'name': 'Beautiful', 'count': 4573},\n",
       " {'id': 9, 'name': 'Ingenious', 'count': 6073},\n",
       " {'id': 3, 'name': 'Courageous', 'count': 3253},\n",
       " {'id': 11, 'name': 'Longwinded', 'count': 387},\n",
       " {'id': 2, 'name': 'Confusing', 'count': 242},\n",
       " {'id': 8, 'name': 'Informative', 'count': 7346},\n",
       " {'id': 22, 'name': 'Fascinating', 'count': 10581},\n",
       " {'id': 21, 'name': 'Unconvincing', 'count': 300},\n",
       " {'id': 24, 'name': 'Persuasive', 'count': 10704},\n",
       " {'id': 23, 'name': 'Jaw-dropping', 'count': 4439},\n",
       " {'id': 25, 'name': 'OK', 'count': 1174},\n",
       " {'id': 26, 'name': 'Obnoxious', 'count': 209},\n",
       " {'id': 10, 'name': 'Inspiring', 'count': 24924}]"
      ]
     },
     "execution_count": 50,
     "metadata": {},
     "output_type": "execute_result"
    }
   ],
   "source": [
    "ted.loc[0, 'rating_list'] "
   ]
  },
  {
   "cell_type": "code",
   "execution_count": 51,
   "id": "6d6dffb8",
   "metadata": {},
   "outputs": [],
   "source": [
    "# How to split a pandas column with a list of dicts into separate columns for each key\n",
    "# https://stackoverflow.com/questions/65621510/how-to-split-a-pandas-column-with-a-list-of-dicts-into-separate-columns-for-each"
   ]
  },
  {
   "cell_type": "markdown",
   "id": "fb77efb8",
   "metadata": {},
   "source": [
    "## 7. Count the total number of rating received by each talk"
   ]
  },
  {
   "cell_type": "code",
   "execution_count": 52,
   "id": "24fc12ed",
   "metadata": {},
   "outputs": [
    {
     "data": {
      "text/plain": [
       "[{'id': 7, 'name': 'Funny', 'count': 19645},\n",
       " {'id': 1, 'name': 'Beautiful', 'count': 4573},\n",
       " {'id': 9, 'name': 'Ingenious', 'count': 6073},\n",
       " {'id': 3, 'name': 'Courageous', 'count': 3253},\n",
       " {'id': 11, 'name': 'Longwinded', 'count': 387},\n",
       " {'id': 2, 'name': 'Confusing', 'count': 242},\n",
       " {'id': 8, 'name': 'Informative', 'count': 7346},\n",
       " {'id': 22, 'name': 'Fascinating', 'count': 10581},\n",
       " {'id': 21, 'name': 'Unconvincing', 'count': 300},\n",
       " {'id': 24, 'name': 'Persuasive', 'count': 10704},\n",
       " {'id': 23, 'name': 'Jaw-dropping', 'count': 4439},\n",
       " {'id': 25, 'name': 'OK', 'count': 1174},\n",
       " {'id': 26, 'name': 'Obnoxious', 'count': 209},\n",
       " {'id': 10, 'name': 'Inspiring', 'count': 24924}]"
      ]
     },
     "execution_count": 52,
     "metadata": {},
     "output_type": "execute_result"
    }
   ],
   "source": [
    "# This is what we have\n",
    "ted.loc[0, 'rating_list'] "
   ]
  },
  {
   "cell_type": "code",
   "execution_count": 53,
   "id": "101a4e11",
   "metadata": {},
   "outputs": [],
   "source": [
    "# To catch the values of one of the elements of the dict, we should use a function\n",
    "def get_num_ratings(list_of_dicts):\n",
    "    return list_of_dicts[0]['count']"
   ]
  },
  {
   "cell_type": "code",
   "execution_count": 54,
   "id": "47ed1dd1",
   "metadata": {},
   "outputs": [
    {
     "data": {
      "text/plain": [
       "19645"
      ]
     },
     "execution_count": 54,
     "metadata": {},
     "output_type": "execute_result"
    }
   ],
   "source": [
    "# Now we pass the function to one element of the Series to see if it works\n",
    "# but this only give us one element of the list\n",
    "get_num_ratings(ted.loc[0, 'rating_list'])"
   ]
  },
  {
   "cell_type": "code",
   "execution_count": 55,
   "id": "a88e6d2f",
   "metadata": {},
   "outputs": [],
   "source": [
    "# We have to customize the function, to iterate through all the list of dicts. We'll do this using a for loop\n",
    "def get_num_ratings(list_of_dicts):\n",
    "    num = 0 #Empieza en 0\n",
    "    for d in list_of_dicts:\n",
    "        num = num + d['count'] # Itera a traves de la lista, y va extrayendo y sumando los valores de 'count'\n",
    "    return num"
   ]
  },
  {
   "cell_type": "code",
   "execution_count": 56,
   "id": "00081651",
   "metadata": {},
   "outputs": [
    {
     "data": {
      "text/plain": [
       "93850"
      ]
     },
     "execution_count": 56,
     "metadata": {},
     "output_type": "execute_result"
    }
   ],
   "source": [
    "# Now we pass the function again, and we'll see the total count of that list of dictionaries in the variable 'count'\n",
    "get_num_ratings(ted.loc[0, 'rating_list'])"
   ]
  },
  {
   "cell_type": "code",
   "execution_count": 57,
   "id": "7f0a808e",
   "metadata": {},
   "outputs": [
    {
     "data": {
      "text/plain": [
       "2936"
      ]
     },
     "execution_count": 57,
     "metadata": {},
     "output_type": "execute_result"
    }
   ],
   "source": [
    "get_num_ratings(ted.loc[1, 'rating_list'])"
   ]
  },
  {
   "cell_type": "code",
   "execution_count": 58,
   "id": "75c916db",
   "metadata": {},
   "outputs": [
    {
     "data": {
      "text/plain": [
       "0       93850\n",
       "1        2936\n",
       "2        2824\n",
       "3        3728\n",
       "4       25620\n",
       "        ...  \n",
       "2545      192\n",
       "2546      151\n",
       "2547      136\n",
       "2548      583\n",
       "2549      142\n",
       "Name: rating_list, Length: 2550, dtype: int64"
      ]
     },
     "execution_count": 58,
     "metadata": {},
     "output_type": "execute_result"
    }
   ],
   "source": [
    "# Usinga apply() we can apply this function to the Series\n",
    "ted['rating_list'].apply(get_num_ratings)"
   ]
  },
  {
   "cell_type": "code",
   "execution_count": 59,
   "id": "f634b721",
   "metadata": {},
   "outputs": [],
   "source": [
    "# Now we can create a new column with the total of 'count'\n",
    "ted['num_rating'] = ted['rating_list'].apply(get_num_ratings)"
   ]
  },
  {
   "cell_type": "code",
   "execution_count": 60,
   "id": "aa3359f1",
   "metadata": {},
   "outputs": [
    {
     "data": {
      "text/plain": [
       "0       93850\n",
       "1        2936\n",
       "2        2824\n",
       "3        3728\n",
       "4       25620\n",
       "        ...  \n",
       "2545      192\n",
       "2546      151\n",
       "2547      136\n",
       "2548      583\n",
       "2549      142\n",
       "Name: num_rating, Length: 2550, dtype: int64"
      ]
     },
     "execution_count": 60,
     "metadata": {},
     "output_type": "execute_result"
    }
   ],
   "source": [
    "ted['num_rating']"
   ]
  },
  {
   "cell_type": "code",
   "execution_count": 61,
   "id": "9d3a81e7",
   "metadata": {},
   "outputs": [
    {
     "data": {
      "text/html": [
       "<div>\n",
       "<style scoped>\n",
       "    .dataframe tbody tr th:only-of-type {\n",
       "        vertical-align: middle;\n",
       "    }\n",
       "\n",
       "    .dataframe tbody tr th {\n",
       "        vertical-align: top;\n",
       "    }\n",
       "\n",
       "    .dataframe thead th {\n",
       "        text-align: right;\n",
       "    }\n",
       "</style>\n",
       "<table border=\"1\" class=\"dataframe\">\n",
       "  <thead>\n",
       "    <tr style=\"text-align: right;\">\n",
       "      <th></th>\n",
       "      <th>id</th>\n",
       "      <th>name</th>\n",
       "      <th>count</th>\n",
       "    </tr>\n",
       "  </thead>\n",
       "  <tbody>\n",
       "    <tr>\n",
       "      <th>0</th>\n",
       "      <td>7</td>\n",
       "      <td>Funny</td>\n",
       "      <td>544</td>\n",
       "    </tr>\n",
       "    <tr>\n",
       "      <th>1</th>\n",
       "      <td>3</td>\n",
       "      <td>Courageous</td>\n",
       "      <td>139</td>\n",
       "    </tr>\n",
       "    <tr>\n",
       "      <th>2</th>\n",
       "      <td>2</td>\n",
       "      <td>Confusing</td>\n",
       "      <td>62</td>\n",
       "    </tr>\n",
       "    <tr>\n",
       "      <th>3</th>\n",
       "      <td>1</td>\n",
       "      <td>Beautiful</td>\n",
       "      <td>58</td>\n",
       "    </tr>\n",
       "    <tr>\n",
       "      <th>4</th>\n",
       "      <td>21</td>\n",
       "      <td>Unconvincing</td>\n",
       "      <td>258</td>\n",
       "    </tr>\n",
       "    <tr>\n",
       "      <th>5</th>\n",
       "      <td>11</td>\n",
       "      <td>Longwinded</td>\n",
       "      <td>113</td>\n",
       "    </tr>\n",
       "    <tr>\n",
       "      <th>6</th>\n",
       "      <td>8</td>\n",
       "      <td>Informative</td>\n",
       "      <td>443</td>\n",
       "    </tr>\n",
       "    <tr>\n",
       "      <th>7</th>\n",
       "      <td>10</td>\n",
       "      <td>Inspiring</td>\n",
       "      <td>413</td>\n",
       "    </tr>\n",
       "    <tr>\n",
       "      <th>8</th>\n",
       "      <td>22</td>\n",
       "      <td>Fascinating</td>\n",
       "      <td>132</td>\n",
       "    </tr>\n",
       "    <tr>\n",
       "      <th>9</th>\n",
       "      <td>9</td>\n",
       "      <td>Ingenious</td>\n",
       "      <td>56</td>\n",
       "    </tr>\n",
       "    <tr>\n",
       "      <th>10</th>\n",
       "      <td>24</td>\n",
       "      <td>Persuasive</td>\n",
       "      <td>268</td>\n",
       "    </tr>\n",
       "    <tr>\n",
       "      <th>11</th>\n",
       "      <td>23</td>\n",
       "      <td>Jaw-dropping</td>\n",
       "      <td>116</td>\n",
       "    </tr>\n",
       "    <tr>\n",
       "      <th>12</th>\n",
       "      <td>26</td>\n",
       "      <td>Obnoxious</td>\n",
       "      <td>131</td>\n",
       "    </tr>\n",
       "    <tr>\n",
       "      <th>13</th>\n",
       "      <td>25</td>\n",
       "      <td>OK</td>\n",
       "      <td>203</td>\n",
       "    </tr>\n",
       "  </tbody>\n",
       "</table>\n",
       "</div>"
      ],
      "text/plain": [
       "    id          name  count\n",
       "0    7         Funny    544\n",
       "1    3    Courageous    139\n",
       "2    2     Confusing     62\n",
       "3    1     Beautiful     58\n",
       "4   21  Unconvincing    258\n",
       "5   11    Longwinded    113\n",
       "6    8   Informative    443\n",
       "7   10     Inspiring    413\n",
       "8   22   Fascinating    132\n",
       "9    9     Ingenious     56\n",
       "10  24    Persuasive    268\n",
       "11  23  Jaw-dropping    116\n",
       "12  26     Obnoxious    131\n",
       "13  25            OK    203"
      ]
     },
     "execution_count": 61,
     "metadata": {},
     "output_type": "execute_result"
    }
   ],
   "source": [
    "# Another option to do this, it is create a data frame and put inside the column and the element\n",
    "# this will transform the list in a data frame we all the elements separated\n",
    "pd.DataFrame(ted.loc[1,'rating_list'])"
   ]
  },
  {
   "cell_type": "markdown",
   "id": "a044a235",
   "metadata": {},
   "source": [
    "## 8. Which occupations deliver the funniest the talks on average? "
   ]
  },
  {
   "cell_type": "code",
   "execution_count": 62,
   "id": "13a182c3",
   "metadata": {},
   "outputs": [
    {
     "data": {
      "text/html": [
       "<div>\n",
       "<style scoped>\n",
       "    .dataframe tbody tr th:only-of-type {\n",
       "        vertical-align: middle;\n",
       "    }\n",
       "\n",
       "    .dataframe tbody tr th {\n",
       "        vertical-align: top;\n",
       "    }\n",
       "\n",
       "    .dataframe thead th {\n",
       "        text-align: right;\n",
       "    }\n",
       "</style>\n",
       "<table border=\"1\" class=\"dataframe\">\n",
       "  <thead>\n",
       "    <tr style=\"text-align: right;\">\n",
       "      <th></th>\n",
       "      <th>comments</th>\n",
       "      <th>description</th>\n",
       "      <th>duration</th>\n",
       "      <th>event</th>\n",
       "      <th>film_date</th>\n",
       "      <th>languages</th>\n",
       "      <th>main_speaker</th>\n",
       "      <th>name</th>\n",
       "      <th>num_speaker</th>\n",
       "      <th>published_date</th>\n",
       "      <th>...</th>\n",
       "      <th>speaker_occupation</th>\n",
       "      <th>tags</th>\n",
       "      <th>title</th>\n",
       "      <th>url</th>\n",
       "      <th>views</th>\n",
       "      <th>comments_per_view</th>\n",
       "      <th>views_per_comment</th>\n",
       "      <th>film_datetime</th>\n",
       "      <th>rating_list</th>\n",
       "      <th>num_rating</th>\n",
       "    </tr>\n",
       "  </thead>\n",
       "  <tbody>\n",
       "    <tr>\n",
       "      <th>0</th>\n",
       "      <td>4553</td>\n",
       "      <td>Sir Ken Robinson makes an entertaining and pro...</td>\n",
       "      <td>1164</td>\n",
       "      <td>TED2006</td>\n",
       "      <td>1140825600</td>\n",
       "      <td>60</td>\n",
       "      <td>Ken Robinson</td>\n",
       "      <td>Ken Robinson: Do schools kill creativity?</td>\n",
       "      <td>1</td>\n",
       "      <td>1151367060</td>\n",
       "      <td>...</td>\n",
       "      <td>Author/educator</td>\n",
       "      <td>['children', 'creativity', 'culture', 'dance',...</td>\n",
       "      <td>Do schools kill creativity?</td>\n",
       "      <td>https://www.ted.com/talks/ken_robinson_says_sc...</td>\n",
       "      <td>47227110</td>\n",
       "      <td>9.64e-05</td>\n",
       "      <td>10372.75</td>\n",
       "      <td>2006-02-25</td>\n",
       "      <td>[{'id': 7, 'name': 'Funny', 'count': 19645}, {...</td>\n",
       "      <td>93850</td>\n",
       "    </tr>\n",
       "    <tr>\n",
       "      <th>1</th>\n",
       "      <td>265</td>\n",
       "      <td>With the same humor and humanity he exuded in ...</td>\n",
       "      <td>977</td>\n",
       "      <td>TED2006</td>\n",
       "      <td>1140825600</td>\n",
       "      <td>43</td>\n",
       "      <td>Al Gore</td>\n",
       "      <td>Al Gore: Averting the climate crisis</td>\n",
       "      <td>1</td>\n",
       "      <td>1151367060</td>\n",
       "      <td>...</td>\n",
       "      <td>Climate advocate</td>\n",
       "      <td>['alternative energy', 'cars', 'climate change...</td>\n",
       "      <td>Averting the climate crisis</td>\n",
       "      <td>https://www.ted.com/talks/al_gore_on_averting_...</td>\n",
       "      <td>3200520</td>\n",
       "      <td>8.28e-05</td>\n",
       "      <td>12077.43</td>\n",
       "      <td>2006-02-25</td>\n",
       "      <td>[{'id': 7, 'name': 'Funny', 'count': 544}, {'i...</td>\n",
       "      <td>2936</td>\n",
       "    </tr>\n",
       "    <tr>\n",
       "      <th>2</th>\n",
       "      <td>124</td>\n",
       "      <td>New York Times columnist David Pogue takes aim...</td>\n",
       "      <td>1286</td>\n",
       "      <td>TED2006</td>\n",
       "      <td>1140739200</td>\n",
       "      <td>26</td>\n",
       "      <td>David Pogue</td>\n",
       "      <td>David Pogue: Simplicity sells</td>\n",
       "      <td>1</td>\n",
       "      <td>1151367060</td>\n",
       "      <td>...</td>\n",
       "      <td>Technology columnist</td>\n",
       "      <td>['computers', 'entertainment', 'interface desi...</td>\n",
       "      <td>Simplicity sells</td>\n",
       "      <td>https://www.ted.com/talks/david_pogue_says_sim...</td>\n",
       "      <td>1636292</td>\n",
       "      <td>7.58e-05</td>\n",
       "      <td>13195.90</td>\n",
       "      <td>2006-02-24</td>\n",
       "      <td>[{'id': 7, 'name': 'Funny', 'count': 964}, {'i...</td>\n",
       "      <td>2824</td>\n",
       "    </tr>\n",
       "    <tr>\n",
       "      <th>3</th>\n",
       "      <td>200</td>\n",
       "      <td>In an emotionally charged talk, MacArthur-winn...</td>\n",
       "      <td>1116</td>\n",
       "      <td>TED2006</td>\n",
       "      <td>1140912000</td>\n",
       "      <td>35</td>\n",
       "      <td>Majora Carter</td>\n",
       "      <td>Majora Carter: Greening the ghetto</td>\n",
       "      <td>1</td>\n",
       "      <td>1151367060</td>\n",
       "      <td>...</td>\n",
       "      <td>Activist for environmental justice</td>\n",
       "      <td>['MacArthur grant', 'activism', 'business', 'c...</td>\n",
       "      <td>Greening the ghetto</td>\n",
       "      <td>https://www.ted.com/talks/majora_carter_s_tale...</td>\n",
       "      <td>1697550</td>\n",
       "      <td>1.18e-04</td>\n",
       "      <td>8487.75</td>\n",
       "      <td>2006-02-26</td>\n",
       "      <td>[{'id': 3, 'name': 'Courageous', 'count': 760}...</td>\n",
       "      <td>3728</td>\n",
       "    </tr>\n",
       "    <tr>\n",
       "      <th>4</th>\n",
       "      <td>593</td>\n",
       "      <td>You've never seen data presented like this. Wi...</td>\n",
       "      <td>1190</td>\n",
       "      <td>TED2006</td>\n",
       "      <td>1140566400</td>\n",
       "      <td>48</td>\n",
       "      <td>Hans Rosling</td>\n",
       "      <td>Hans Rosling: The best stats you've ever seen</td>\n",
       "      <td>1</td>\n",
       "      <td>1151440680</td>\n",
       "      <td>...</td>\n",
       "      <td>Global health expert; data visionary</td>\n",
       "      <td>['Africa', 'Asia', 'Google', 'demo', 'economic...</td>\n",
       "      <td>The best stats you've ever seen</td>\n",
       "      <td>https://www.ted.com/talks/hans_rosling_shows_t...</td>\n",
       "      <td>12005869</td>\n",
       "      <td>4.94e-05</td>\n",
       "      <td>20245.98</td>\n",
       "      <td>2006-02-22</td>\n",
       "      <td>[{'id': 9, 'name': 'Ingenious', 'count': 3202}...</td>\n",
       "      <td>25620</td>\n",
       "    </tr>\n",
       "  </tbody>\n",
       "</table>\n",
       "<p>5 rows × 22 columns</p>\n",
       "</div>"
      ],
      "text/plain": [
       "   comments                                        description  duration  \\\n",
       "0      4553  Sir Ken Robinson makes an entertaining and pro...      1164   \n",
       "1       265  With the same humor and humanity he exuded in ...       977   \n",
       "2       124  New York Times columnist David Pogue takes aim...      1286   \n",
       "3       200  In an emotionally charged talk, MacArthur-winn...      1116   \n",
       "4       593  You've never seen data presented like this. Wi...      1190   \n",
       "\n",
       "     event   film_date  languages   main_speaker  \\\n",
       "0  TED2006  1140825600         60   Ken Robinson   \n",
       "1  TED2006  1140825600         43        Al Gore   \n",
       "2  TED2006  1140739200         26    David Pogue   \n",
       "3  TED2006  1140912000         35  Majora Carter   \n",
       "4  TED2006  1140566400         48   Hans Rosling   \n",
       "\n",
       "                                            name  num_speaker  published_date  \\\n",
       "0      Ken Robinson: Do schools kill creativity?            1      1151367060   \n",
       "1           Al Gore: Averting the climate crisis            1      1151367060   \n",
       "2                  David Pogue: Simplicity sells            1      1151367060   \n",
       "3             Majora Carter: Greening the ghetto            1      1151367060   \n",
       "4  Hans Rosling: The best stats you've ever seen            1      1151440680   \n",
       "\n",
       "   ...                    speaker_occupation  \\\n",
       "0  ...                       Author/educator   \n",
       "1  ...                      Climate advocate   \n",
       "2  ...                  Technology columnist   \n",
       "3  ...    Activist for environmental justice   \n",
       "4  ...  Global health expert; data visionary   \n",
       "\n",
       "                                                tags  \\\n",
       "0  ['children', 'creativity', 'culture', 'dance',...   \n",
       "1  ['alternative energy', 'cars', 'climate change...   \n",
       "2  ['computers', 'entertainment', 'interface desi...   \n",
       "3  ['MacArthur grant', 'activism', 'business', 'c...   \n",
       "4  ['Africa', 'Asia', 'Google', 'demo', 'economic...   \n",
       "\n",
       "                             title  \\\n",
       "0      Do schools kill creativity?   \n",
       "1      Averting the climate crisis   \n",
       "2                 Simplicity sells   \n",
       "3              Greening the ghetto   \n",
       "4  The best stats you've ever seen   \n",
       "\n",
       "                                                 url     views  \\\n",
       "0  https://www.ted.com/talks/ken_robinson_says_sc...  47227110   \n",
       "1  https://www.ted.com/talks/al_gore_on_averting_...   3200520   \n",
       "2  https://www.ted.com/talks/david_pogue_says_sim...   1636292   \n",
       "3  https://www.ted.com/talks/majora_carter_s_tale...   1697550   \n",
       "4  https://www.ted.com/talks/hans_rosling_shows_t...  12005869   \n",
       "\n",
       "  comments_per_view  views_per_comment  film_datetime  \\\n",
       "0          9.64e-05           10372.75     2006-02-25   \n",
       "1          8.28e-05           12077.43     2006-02-25   \n",
       "2          7.58e-05           13195.90     2006-02-24   \n",
       "3          1.18e-04            8487.75     2006-02-26   \n",
       "4          4.94e-05           20245.98     2006-02-22   \n",
       "\n",
       "                                         rating_list num_rating  \n",
       "0  [{'id': 7, 'name': 'Funny', 'count': 19645}, {...      93850  \n",
       "1  [{'id': 7, 'name': 'Funny', 'count': 544}, {'i...       2936  \n",
       "2  [{'id': 7, 'name': 'Funny', 'count': 964}, {'i...       2824  \n",
       "3  [{'id': 3, 'name': 'Courageous', 'count': 760}...       3728  \n",
       "4  [{'id': 9, 'name': 'Ingenious', 'count': 3202}...      25620  \n",
       "\n",
       "[5 rows x 22 columns]"
      ]
     },
     "execution_count": 62,
     "metadata": {},
     "output_type": "execute_result"
    }
   ],
   "source": [
    "ted.head()"
   ]
  },
  {
   "cell_type": "markdown",
   "id": "aa7e5fec",
   "metadata": {},
   "source": [
    "## Step 1: Count the number of funny ratings"
   ]
  },
  {
   "cell_type": "code",
   "execution_count": 63,
   "id": "cc2f86b0",
   "metadata": {
    "scrolled": true
   },
   "outputs": [
    {
     "data": {
      "text/plain": [
       "[{'id': 7, 'name': 'Funny', 'count': 19645},\n",
       " {'id': 1, 'name': 'Beautiful', 'count': 4573},\n",
       " {'id': 9, 'name': 'Ingenious', 'count': 6073},\n",
       " {'id': 3, 'name': 'Courageous', 'count': 3253},\n",
       " {'id': 11, 'name': 'Longwinded', 'count': 387},\n",
       " {'id': 2, 'name': 'Confusing', 'count': 242},\n",
       " {'id': 8, 'name': 'Informative', 'count': 7346},\n",
       " {'id': 22, 'name': 'Fascinating', 'count': 10581},\n",
       " {'id': 21, 'name': 'Unconvincing', 'count': 300},\n",
       " {'id': 24, 'name': 'Persuasive', 'count': 10704},\n",
       " {'id': 23, 'name': 'Jaw-dropping', 'count': 4439},\n",
       " {'id': 25, 'name': 'OK', 'count': 1174},\n",
       " {'id': 26, 'name': 'Obnoxious', 'count': 209},\n",
       " {'id': 10, 'name': 'Inspiring', 'count': 24924}]"
      ]
     },
     "execution_count": 63,
     "metadata": {},
     "output_type": "execute_result"
    }
   ],
   "source": [
    "ted['rating_list'][0]"
   ]
  },
  {
   "cell_type": "code",
   "execution_count": 64,
   "id": "2b7f49f5",
   "metadata": {},
   "outputs": [
    {
     "data": {
      "text/plain": [
       "True    2550\n",
       "Name: ratings, dtype: int64"
      ]
     },
     "execution_count": 64,
     "metadata": {},
     "output_type": "execute_result"
    }
   ],
   "source": [
    "# First we need to check is every row has a value of the funny condition\n",
    "# and the result shows, that every row has the value\n",
    "ted['ratings'].str.contains('Funny').value_counts()"
   ]
  },
  {
   "cell_type": "code",
   "execution_count": 65,
   "id": "278e94da",
   "metadata": {},
   "outputs": [],
   "source": [
    "# Now we should create a function to iterate in the dictionary, and extract the values of the name 'Funny'\n",
    "def get_funny_ratings(list_of_dicts):\n",
    "    for d in list_of_dicts:\n",
    "        if d['name'] == 'Funny':\n",
    "            return d['count']"
   ]
  },
  {
   "cell_type": "code",
   "execution_count": 66,
   "id": "2590c53c",
   "metadata": {},
   "outputs": [
    {
     "data": {
      "text/plain": [
       "0       19645\n",
       "1         544\n",
       "2         964\n",
       "3          59\n",
       "4        1390\n",
       "        ...  \n",
       "2545        1\n",
       "2546       20\n",
       "2547        1\n",
       "2548       63\n",
       "2549        0\n",
       "Name: rating_list, Length: 2550, dtype: int64"
      ]
     },
     "execution_count": 66,
     "metadata": {},
     "output_type": "execute_result"
    }
   ],
   "source": [
    "# Now we should use the apply() method to apply this function to all the Series\n",
    "ted['rating_list'].apply(get_funny_ratings)"
   ]
  },
  {
   "cell_type": "code",
   "execution_count": 67,
   "id": "13b658cc",
   "metadata": {},
   "outputs": [],
   "source": [
    "# Now we can create a new column called funny_ratings\n",
    "ted['funny_ratings'] = ted['rating_list'].apply(get_funny_ratings)"
   ]
  },
  {
   "cell_type": "code",
   "execution_count": 68,
   "id": "1c93247d",
   "metadata": {},
   "outputs": [
    {
     "data": {
      "text/plain": [
       "0    19645\n",
       "1      544\n",
       "2      964\n",
       "3       59\n",
       "4     1390\n",
       "Name: funny_ratings, dtype: int64"
      ]
     },
     "execution_count": 68,
     "metadata": {},
     "output_type": "execute_result"
    }
   ],
   "source": [
    "ted['funny_ratings'].head()"
   ]
  },
  {
   "cell_type": "markdown",
   "id": "23fd6126",
   "metadata": {},
   "source": [
    "## Step 2: Determine the funny rate"
   ]
  },
  {
   "cell_type": "code",
   "execution_count": 69,
   "id": "9807f4c0",
   "metadata": {},
   "outputs": [],
   "source": [
    "# To determine the funny rate, we should create a variable diving 'funny_ratings'/num_rating *100\n",
    "ted['funny_rate'] = ted['funny_ratings']/ted['num_rating']*100"
   ]
  },
  {
   "cell_type": "code",
   "execution_count": 70,
   "id": "8be95b41",
   "metadata": {},
   "outputs": [
    {
     "data": {
      "text/plain": [
       "0       20.93\n",
       "1       18.53\n",
       "2       34.14\n",
       "3        1.58\n",
       "4        5.43\n",
       "        ...  \n",
       "2545     0.52\n",
       "2546    13.25\n",
       "2547     0.74\n",
       "2548    10.81\n",
       "2549     0.00\n",
       "Name: funny_rate, Length: 2550, dtype: float64"
      ]
     },
     "execution_count": 70,
     "metadata": {},
     "output_type": "execute_result"
    }
   ],
   "source": [
    "ted['funny_rate']"
   ]
  },
  {
   "cell_type": "code",
   "execution_count": 71,
   "id": "f3dbe020",
   "metadata": {},
   "outputs": [
    {
     "data": {
      "text/plain": [
       "685     Actor, comedian, playwright\n",
       "1398                       Comedian\n",
       "747                        Comedian\n",
       "173                        Investor\n",
       "2114            Comedian and writer\n",
       "2273            Comedian and writer\n",
       "194                        Jugglers\n",
       "21             Humorist, web artist\n",
       "675                  Data scientist\n",
       "568                        Comedian\n",
       "Name: speaker_occupation, dtype: object"
      ]
     },
     "execution_count": 71,
     "metadata": {},
     "output_type": "execute_result"
    }
   ],
   "source": [
    "# Now we can try to reveale the relationship funny rate and speaker occupation\n",
    "ted.sort_values('funny_rate', ascending = False)['speaker_occupation'].head(10)\n",
    "# The relationship tell us, that most funniest talk were made for comedians and writers"
   ]
  },
  {
   "cell_type": "markdown",
   "id": "e8257a82",
   "metadata": {},
   "source": [
    "### Step 3: Analyze the funny rate by occupation"
   ]
  },
  {
   "cell_type": "code",
   "execution_count": 72,
   "id": "43587b90",
   "metadata": {
    "scrolled": true
   },
   "outputs": [
    {
     "data": {
      "text/plain": [
       "speaker_occupation\n",
       "Comedian and writer            60.21\n",
       "Jugglers                       56.68\n",
       "Actor, comedian, playwright    55.81\n",
       "Actor, writer                  51.52\n",
       "Comedian                       51.25\n",
       "Satirist                       51.24\n",
       "Cartoon editor                 51.16\n",
       "Comedian, voice artist         50.35\n",
       "Social energy entrepreneur     50.21\n",
       "Science humorist               46.84\n",
       "Name: funny_rate, dtype: float64"
      ]
     },
     "execution_count": 72,
     "metadata": {},
     "output_type": "execute_result"
    }
   ],
   "source": [
    "# To analyze each occupation individually, we can use groupby and ordering by occupation\n",
    "ted.groupby('speaker_occupation')['funny_rate'].mean().sort_values(ascending = False).head(10)"
   ]
  },
  {
   "cell_type": "code",
   "execution_count": 73,
   "id": "9b26f73c",
   "metadata": {},
   "outputs": [],
   "source": [
    "occupation = ted.groupby('speaker_occupation')"
   ]
  },
  {
   "cell_type": "code",
   "execution_count": 74,
   "id": "4dfe7637",
   "metadata": {},
   "outputs": [
    {
     "data": {
      "text/html": [
       "<div>\n",
       "<style scoped>\n",
       "    .dataframe tbody tr th:only-of-type {\n",
       "        vertical-align: middle;\n",
       "    }\n",
       "\n",
       "    .dataframe tbody tr th {\n",
       "        vertical-align: top;\n",
       "    }\n",
       "\n",
       "    .dataframe thead th {\n",
       "        text-align: right;\n",
       "    }\n",
       "</style>\n",
       "<table border=\"1\" class=\"dataframe\">\n",
       "  <thead>\n",
       "    <tr style=\"text-align: right;\">\n",
       "      <th></th>\n",
       "      <th>comments</th>\n",
       "      <th>description</th>\n",
       "      <th>duration</th>\n",
       "      <th>event</th>\n",
       "      <th>film_date</th>\n",
       "      <th>languages</th>\n",
       "      <th>main_speaker</th>\n",
       "      <th>name</th>\n",
       "      <th>num_speaker</th>\n",
       "      <th>published_date</th>\n",
       "      <th>...</th>\n",
       "      <th>title</th>\n",
       "      <th>url</th>\n",
       "      <th>views</th>\n",
       "      <th>comments_per_view</th>\n",
       "      <th>views_per_comment</th>\n",
       "      <th>film_datetime</th>\n",
       "      <th>rating_list</th>\n",
       "      <th>num_rating</th>\n",
       "      <th>funny_ratings</th>\n",
       "      <th>funny_rate</th>\n",
       "    </tr>\n",
       "  </thead>\n",
       "  <tbody>\n",
       "    <tr>\n",
       "      <th>2114</th>\n",
       "      <td>150</td>\n",
       "      <td>Suspicious emails: unclaimed insurance bonds, ...</td>\n",
       "      <td>588</td>\n",
       "      <td>TEDGlobal&gt;Geneva</td>\n",
       "      <td>1449532800</td>\n",
       "      <td>43</td>\n",
       "      <td>James Veitch</td>\n",
       "      <td>James Veitch: This is what happens when you re...</td>\n",
       "      <td>1</td>\n",
       "      <td>1452269020</td>\n",
       "      <td>...</td>\n",
       "      <td>This is what happens when you reply to spam email</td>\n",
       "      <td>https://www.ted.com/talks/james_veitch_this_is...</td>\n",
       "      <td>20475972</td>\n",
       "      <td>7.33e-06</td>\n",
       "      <td>136506.48</td>\n",
       "      <td>2015-12-08</td>\n",
       "      <td>[{'id': 7, 'name': 'Funny', 'count': 7731}, {'...</td>\n",
       "      <td>12366</td>\n",
       "      <td>7731</td>\n",
       "      <td>62.52</td>\n",
       "    </tr>\n",
       "    <tr>\n",
       "      <th>2273</th>\n",
       "      <td>46</td>\n",
       "      <td>It happens to all of us: you unsubscribe from ...</td>\n",
       "      <td>460</td>\n",
       "      <td>TEDSummit</td>\n",
       "      <td>1467158400</td>\n",
       "      <td>37</td>\n",
       "      <td>James Veitch</td>\n",
       "      <td>James Veitch: The agony of trying to unsubscribe</td>\n",
       "      <td>1</td>\n",
       "      <td>1472828989</td>\n",
       "      <td>...</td>\n",
       "      <td>The agony of trying to unsubscribe</td>\n",
       "      <td>https://www.ted.com/talks/james_veitch_the_ago...</td>\n",
       "      <td>5711833</td>\n",
       "      <td>8.05e-06</td>\n",
       "      <td>124170.28</td>\n",
       "      <td>2016-06-29</td>\n",
       "      <td>[{'id': 7, 'name': 'Funny', 'count': 2210}, {'...</td>\n",
       "      <td>3817</td>\n",
       "      <td>2210</td>\n",
       "      <td>57.90</td>\n",
       "    </tr>\n",
       "  </tbody>\n",
       "</table>\n",
       "<p>2 rows × 24 columns</p>\n",
       "</div>"
      ],
      "text/plain": [
       "      comments                                        description  duration  \\\n",
       "2114       150  Suspicious emails: unclaimed insurance bonds, ...       588   \n",
       "2273        46  It happens to all of us: you unsubscribe from ...       460   \n",
       "\n",
       "                 event   film_date  languages  main_speaker  \\\n",
       "2114  TEDGlobal>Geneva  1449532800         43  James Veitch   \n",
       "2273         TEDSummit  1467158400         37  James Veitch   \n",
       "\n",
       "                                                   name  num_speaker  \\\n",
       "2114  James Veitch: This is what happens when you re...            1   \n",
       "2273   James Veitch: The agony of trying to unsubscribe            1   \n",
       "\n",
       "      published_date  ...                                              title  \\\n",
       "2114      1452269020  ...  This is what happens when you reply to spam email   \n",
       "2273      1472828989  ...                 The agony of trying to unsubscribe   \n",
       "\n",
       "                                                    url     views  \\\n",
       "2114  https://www.ted.com/talks/james_veitch_this_is...  20475972   \n",
       "2273  https://www.ted.com/talks/james_veitch_the_ago...   5711833   \n",
       "\n",
       "     comments_per_view views_per_comment film_datetime  \\\n",
       "2114          7.33e-06         136506.48    2015-12-08   \n",
       "2273          8.05e-06         124170.28    2016-06-29   \n",
       "\n",
       "                                            rating_list  num_rating  \\\n",
       "2114  [{'id': 7, 'name': 'Funny', 'count': 7731}, {'...       12366   \n",
       "2273  [{'id': 7, 'name': 'Funny', 'count': 2210}, {'...        3817   \n",
       "\n",
       "      funny_ratings funny_rate  \n",
       "2114           7731      62.52  \n",
       "2273           2210      57.90  \n",
       "\n",
       "[2 rows x 24 columns]"
      ]
     },
     "execution_count": 74,
     "metadata": {},
     "output_type": "execute_result"
    }
   ],
   "source": [
    "occupation.get_group('Comedian and writer')"
   ]
  },
  {
   "cell_type": "code",
   "execution_count": 75,
   "id": "cdae984c",
   "metadata": {},
   "outputs": [
    {
     "data": {
      "text/plain": [
       "count       2544\n",
       "unique      1458\n",
       "top       Writer\n",
       "freq          45\n",
       "Name: speaker_occupation, dtype: object"
      ]
     },
     "execution_count": 75,
     "metadata": {},
     "output_type": "execute_result"
    }
   ],
   "source": [
    "ted['speaker_occupation'].describe()"
   ]
  },
  {
   "cell_type": "markdown",
   "id": "5f006b77",
   "metadata": {},
   "source": [
    "## Step 4: Focus on occupation that are well represented in the data"
   ]
  },
  {
   "cell_type": "code",
   "execution_count": 76,
   "id": "17930ba3",
   "metadata": {},
   "outputs": [
    {
     "data": {
      "text/plain": [
       "Writer                  45\n",
       "Artist                  34\n",
       "Designer                34\n",
       "Journalist              33\n",
       "Entrepreneur            31\n",
       "                        ..\n",
       "Science author           1\n",
       "Pro snowboarder          1\n",
       "Artist, urban farmer     1\n",
       "Entrepreneur, author     1\n",
       " Robotics engineer       1\n",
       "Name: speaker_occupation, Length: 1458, dtype: int64"
      ]
     },
     "execution_count": 76,
     "metadata": {},
     "output_type": "execute_result"
    }
   ],
   "source": [
    "# If we check the unique values of the column 'speaker_occupation', we will see that are many thare represented just once\n",
    "ted['speaker_occupation'].value_counts()\n",
    "# This can be misleading to our analysis. Because of that, we will create filter to count only the occupation that have a least\n",
    "# five talks"
   ]
  },
  {
   "cell_type": "code",
   "execution_count": 77,
   "id": "fff4ef71",
   "metadata": {},
   "outputs": [],
   "source": [
    "occupation_counts = ted['speaker_occupation'].value_counts()"
   ]
  },
  {
   "cell_type": "code",
   "execution_count": 78,
   "id": "e193cf6c",
   "metadata": {},
   "outputs": [
    {
     "data": {
      "text/plain": [
       "Index(['Writer', 'Artist', 'Designer', 'Journalist', 'Entrepreneur',\n",
       "       'Architect', 'Inventor', 'Psychologist', 'Photographer', 'Filmmaker',\n",
       "       'Economist', 'Author', 'Neuroscientist', 'Educator', 'Roboticist',\n",
       "       'Philosopher', 'Biologist', 'Physicist', 'Musician', 'Marine biologist',\n",
       "       'Activist', 'Global health expert; data visionary', 'Technologist',\n",
       "       'Graphic designer', 'Historian', 'Philanthropist', 'Astronomer',\n",
       "       'Behavioral economist', 'Oceanographer', 'Singer/songwriter', 'Poet',\n",
       "       'Futurist', 'Engineer', 'Computer scientist', 'Social psychologist',\n",
       "       'Novelist', 'Mathematician', 'Astrophysicist', 'Social entrepreneur',\n",
       "       'Photojournalist', 'Writer, activist', 'Evolutionary biologist',\n",
       "       'Legal activist', 'Climate advocate', 'Techno-illusionist',\n",
       "       'Singer-songwriter', 'Comedian', 'Performance poet, multimedia artist',\n",
       "       'Reporter', 'Paleontologist', 'Chemist', 'Cartoonist',\n",
       "       'Investor and advocate for moral leadership', 'Violinist',\n",
       "       'Tech visionary', 'Producer', 'Sound consultant', 'Game designer',\n",
       "       'Physician', 'Surgeon', 'Sculptor', 'Researcher', 'Science writer',\n",
       "       'Data scientist', 'Musician, activist', 'Social Media Theorist',\n",
       "       'Environmentalist, futurist', 'Chef'],\n",
       "      dtype='object')"
      ]
     },
     "execution_count": 78,
     "metadata": {},
     "output_type": "execute_result"
    }
   ],
   "source": [
    "# Now we can filter this variable and catch the index (which say the name of the occupation)\n",
    "occupation_counts[occupation_counts >= 5].index"
   ]
  },
  {
   "cell_type": "code",
   "execution_count": 79,
   "id": "8efccb2b",
   "metadata": {},
   "outputs": [],
   "source": [
    "# Now we can create a new variable with the indexes, as a result we will have an index\n",
    "top_occupations = occupation_counts[occupation_counts >= 5].index"
   ]
  },
  {
   "cell_type": "code",
   "execution_count": 80,
   "id": "c10105f5",
   "metadata": {},
   "outputs": [
    {
     "data": {
      "text/html": [
       "<div>\n",
       "<style scoped>\n",
       "    .dataframe tbody tr th:only-of-type {\n",
       "        vertical-align: middle;\n",
       "    }\n",
       "\n",
       "    .dataframe tbody tr th {\n",
       "        vertical-align: top;\n",
       "    }\n",
       "\n",
       "    .dataframe thead th {\n",
       "        text-align: right;\n",
       "    }\n",
       "</style>\n",
       "<table border=\"1\" class=\"dataframe\">\n",
       "  <thead>\n",
       "    <tr style=\"text-align: right;\">\n",
       "      <th></th>\n",
       "      <th>comments</th>\n",
       "      <th>description</th>\n",
       "      <th>duration</th>\n",
       "      <th>event</th>\n",
       "      <th>film_date</th>\n",
       "      <th>languages</th>\n",
       "      <th>main_speaker</th>\n",
       "      <th>name</th>\n",
       "      <th>num_speaker</th>\n",
       "      <th>published_date</th>\n",
       "      <th>...</th>\n",
       "      <th>title</th>\n",
       "      <th>url</th>\n",
       "      <th>views</th>\n",
       "      <th>comments_per_view</th>\n",
       "      <th>views_per_comment</th>\n",
       "      <th>film_datetime</th>\n",
       "      <th>rating_list</th>\n",
       "      <th>num_rating</th>\n",
       "      <th>funny_ratings</th>\n",
       "      <th>funny_rate</th>\n",
       "    </tr>\n",
       "  </thead>\n",
       "  <tbody>\n",
       "    <tr>\n",
       "      <th>1</th>\n",
       "      <td>265</td>\n",
       "      <td>With the same humor and humanity he exuded in ...</td>\n",
       "      <td>977</td>\n",
       "      <td>TED2006</td>\n",
       "      <td>1140825600</td>\n",
       "      <td>43</td>\n",
       "      <td>Al Gore</td>\n",
       "      <td>Al Gore: Averting the climate crisis</td>\n",
       "      <td>1</td>\n",
       "      <td>1151367060</td>\n",
       "      <td>...</td>\n",
       "      <td>Averting the climate crisis</td>\n",
       "      <td>https://www.ted.com/talks/al_gore_on_averting_...</td>\n",
       "      <td>3200520</td>\n",
       "      <td>8.28e-05</td>\n",
       "      <td>12077.43</td>\n",
       "      <td>2006-02-25</td>\n",
       "      <td>[{'id': 7, 'name': 'Funny', 'count': 544}, {'i...</td>\n",
       "      <td>2936</td>\n",
       "      <td>544</td>\n",
       "      <td>18.53</td>\n",
       "    </tr>\n",
       "    <tr>\n",
       "      <th>4</th>\n",
       "      <td>593</td>\n",
       "      <td>You've never seen data presented like this. Wi...</td>\n",
       "      <td>1190</td>\n",
       "      <td>TED2006</td>\n",
       "      <td>1140566400</td>\n",
       "      <td>48</td>\n",
       "      <td>Hans Rosling</td>\n",
       "      <td>Hans Rosling: The best stats you've ever seen</td>\n",
       "      <td>1</td>\n",
       "      <td>1151440680</td>\n",
       "      <td>...</td>\n",
       "      <td>The best stats you've ever seen</td>\n",
       "      <td>https://www.ted.com/talks/hans_rosling_shows_t...</td>\n",
       "      <td>12005869</td>\n",
       "      <td>4.94e-05</td>\n",
       "      <td>20245.98</td>\n",
       "      <td>2006-02-22</td>\n",
       "      <td>[{'id': 9, 'name': 'Ingenious', 'count': 3202}...</td>\n",
       "      <td>25620</td>\n",
       "      <td>1390</td>\n",
       "      <td>5.43</td>\n",
       "    </tr>\n",
       "    <tr>\n",
       "      <th>7</th>\n",
       "      <td>46</td>\n",
       "      <td>Architect Joshua Prince-Ramus takes the audien...</td>\n",
       "      <td>1198</td>\n",
       "      <td>TED2006</td>\n",
       "      <td>1140652800</td>\n",
       "      <td>19</td>\n",
       "      <td>Joshua Prince-Ramus</td>\n",
       "      <td>Joshua Prince-Ramus: Behind the design of Seat...</td>\n",
       "      <td>1</td>\n",
       "      <td>1152490260</td>\n",
       "      <td>...</td>\n",
       "      <td>Behind the design of Seattle's library</td>\n",
       "      <td>https://www.ted.com/talks/joshua_prince_ramus_...</td>\n",
       "      <td>967741</td>\n",
       "      <td>4.75e-05</td>\n",
       "      <td>21037.85</td>\n",
       "      <td>2006-02-23</td>\n",
       "      <td>[{'id': 9, 'name': 'Ingenious', 'count': 195},...</td>\n",
       "      <td>1024</td>\n",
       "      <td>9</td>\n",
       "      <td>0.88</td>\n",
       "    </tr>\n",
       "    <tr>\n",
       "      <th>11</th>\n",
       "      <td>55</td>\n",
       "      <td>Jehane Noujaim unveils her 2006 TED Prize wish...</td>\n",
       "      <td>1538</td>\n",
       "      <td>TED2006</td>\n",
       "      <td>1140912000</td>\n",
       "      <td>20</td>\n",
       "      <td>Jehane Noujaim</td>\n",
       "      <td>Jehane Noujaim: My wish: A global day of film</td>\n",
       "      <td>1</td>\n",
       "      <td>1153786260</td>\n",
       "      <td>...</td>\n",
       "      <td>My wish: A global day of film</td>\n",
       "      <td>https://www.ted.com/talks/jehane_noujaim_inspi...</td>\n",
       "      <td>387877</td>\n",
       "      <td>1.42e-04</td>\n",
       "      <td>7052.31</td>\n",
       "      <td>2006-02-26</td>\n",
       "      <td>[{'id': 1, 'name': 'Beautiful', 'count': 70}, ...</td>\n",
       "      <td>592</td>\n",
       "      <td>5</td>\n",
       "      <td>0.84</td>\n",
       "    </tr>\n",
       "    <tr>\n",
       "      <th>14</th>\n",
       "      <td>99</td>\n",
       "      <td>Nicholas Negroponte, founder of the MIT Media ...</td>\n",
       "      <td>1057</td>\n",
       "      <td>TED2006</td>\n",
       "      <td>1140652800</td>\n",
       "      <td>25</td>\n",
       "      <td>Nicholas Negroponte</td>\n",
       "      <td>Nicholas Negroponte: One Laptop per Child</td>\n",
       "      <td>1</td>\n",
       "      <td>1154391060</td>\n",
       "      <td>...</td>\n",
       "      <td>One Laptop per Child</td>\n",
       "      <td>https://www.ted.com/talks/nicholas_negroponte_...</td>\n",
       "      <td>358304</td>\n",
       "      <td>2.76e-04</td>\n",
       "      <td>3619.23</td>\n",
       "      <td>2006-02-23</td>\n",
       "      <td>[{'id': 3, 'name': 'Courageous', 'count': 83},...</td>\n",
       "      <td>781</td>\n",
       "      <td>14</td>\n",
       "      <td>1.79</td>\n",
       "    </tr>\n",
       "  </tbody>\n",
       "</table>\n",
       "<p>5 rows × 24 columns</p>\n",
       "</div>"
      ],
      "text/plain": [
       "    comments                                        description  duration  \\\n",
       "1        265  With the same humor and humanity he exuded in ...       977   \n",
       "4        593  You've never seen data presented like this. Wi...      1190   \n",
       "7         46  Architect Joshua Prince-Ramus takes the audien...      1198   \n",
       "11        55  Jehane Noujaim unveils her 2006 TED Prize wish...      1538   \n",
       "14        99  Nicholas Negroponte, founder of the MIT Media ...      1057   \n",
       "\n",
       "      event   film_date  languages         main_speaker  \\\n",
       "1   TED2006  1140825600         43              Al Gore   \n",
       "4   TED2006  1140566400         48         Hans Rosling   \n",
       "7   TED2006  1140652800         19  Joshua Prince-Ramus   \n",
       "11  TED2006  1140912000         20       Jehane Noujaim   \n",
       "14  TED2006  1140652800         25  Nicholas Negroponte   \n",
       "\n",
       "                                                 name  num_speaker  \\\n",
       "1                Al Gore: Averting the climate crisis            1   \n",
       "4       Hans Rosling: The best stats you've ever seen            1   \n",
       "7   Joshua Prince-Ramus: Behind the design of Seat...            1   \n",
       "11      Jehane Noujaim: My wish: A global day of film            1   \n",
       "14          Nicholas Negroponte: One Laptop per Child            1   \n",
       "\n",
       "    published_date  ...                                   title  \\\n",
       "1       1151367060  ...             Averting the climate crisis   \n",
       "4       1151440680  ...         The best stats you've ever seen   \n",
       "7       1152490260  ...  Behind the design of Seattle's library   \n",
       "11      1153786260  ...           My wish: A global day of film   \n",
       "14      1154391060  ...                    One Laptop per Child   \n",
       "\n",
       "                                                  url     views  \\\n",
       "1   https://www.ted.com/talks/al_gore_on_averting_...   3200520   \n",
       "4   https://www.ted.com/talks/hans_rosling_shows_t...  12005869   \n",
       "7   https://www.ted.com/talks/joshua_prince_ramus_...    967741   \n",
       "11  https://www.ted.com/talks/jehane_noujaim_inspi...    387877   \n",
       "14  https://www.ted.com/talks/nicholas_negroponte_...    358304   \n",
       "\n",
       "   comments_per_view views_per_comment film_datetime  \\\n",
       "1           8.28e-05          12077.43    2006-02-25   \n",
       "4           4.94e-05          20245.98    2006-02-22   \n",
       "7           4.75e-05          21037.85    2006-02-23   \n",
       "11          1.42e-04           7052.31    2006-02-26   \n",
       "14          2.76e-04           3619.23    2006-02-23   \n",
       "\n",
       "                                          rating_list  num_rating  \\\n",
       "1   [{'id': 7, 'name': 'Funny', 'count': 544}, {'i...        2936   \n",
       "4   [{'id': 9, 'name': 'Ingenious', 'count': 3202}...       25620   \n",
       "7   [{'id': 9, 'name': 'Ingenious', 'count': 195},...        1024   \n",
       "11  [{'id': 1, 'name': 'Beautiful', 'count': 70}, ...         592   \n",
       "14  [{'id': 3, 'name': 'Courageous', 'count': 83},...         781   \n",
       "\n",
       "    funny_ratings funny_rate  \n",
       "1             544      18.53  \n",
       "4            1390       5.43  \n",
       "7               9       0.88  \n",
       "11              5       0.84  \n",
       "14             14       1.79  \n",
       "\n",
       "[5 rows x 24 columns]"
      ]
     },
     "execution_count": 80,
     "metadata": {},
     "output_type": "execute_result"
    }
   ],
   "source": [
    "# Using the new variable 'top_occupations' and the funcion \"isin()\", we can check where are the most common ocuppations\n",
    "# in the data frame\n",
    "ted[ted['speaker_occupation'].isin(top_occupations)].head()"
   ]
  },
  {
   "cell_type": "code",
   "execution_count": 81,
   "id": "7f324b25",
   "metadata": {},
   "outputs": [],
   "source": [
    "# Using the last filter, we create a new variable\n",
    "ted_top_occupations = ted[ted['speaker_occupation'].isin(top_occupations)]"
   ]
  },
  {
   "cell_type": "code",
   "execution_count": 82,
   "id": "1cd307ec",
   "metadata": {},
   "outputs": [
    {
     "data": {
      "text/plain": [
       "(786, 24)"
      ]
     },
     "execution_count": 82,
     "metadata": {},
     "output_type": "execute_result"
    }
   ],
   "source": [
    "ted_top_occupations.shape"
   ]
  },
  {
   "cell_type": "code",
   "execution_count": 83,
   "id": "9f59db25",
   "metadata": {},
   "outputs": [
    {
     "data": {
      "text/plain": [
       "speaker_occupation\n",
       "Comedian                                51.25\n",
       "Performance poet, multimedia artist     30.65\n",
       "Singer/songwriter                       25.22\n",
       "Producer                                20.25\n",
       "Data scientist                          18.41\n",
       "Cartoonist                              16.21\n",
       "Techno-illusionist                      15.22\n",
       "Graphic designer                        13.57\n",
       "Poet                                    10.74\n",
       "Global health expert; data visionary     9.03\n",
       "Artist                                   7.89\n",
       "Author                                   7.55\n",
       "Entrepreneur                             7.33\n",
       "Novelist                                 7.09\n",
       "Evolutionary biologist                   6.92\n",
       "Reporter                                 6.62\n",
       "Game designer                            6.23\n",
       "Writer                                   6.07\n",
       "Designer                                 5.93\n",
       "Science writer                           5.60\n",
       "Name: funny_rate, dtype: float64"
      ]
     },
     "execution_count": 83,
     "metadata": {},
     "output_type": "execute_result"
    }
   ],
   "source": [
    "ted_top_occupations.groupby('speaker_occupation').funny_rate.mean().sort_values(ascending = False).head(20)"
   ]
  },
  {
   "cell_type": "code",
   "execution_count": null,
   "id": "fb848317",
   "metadata": {},
   "outputs": [],
   "source": []
  }
 ],
 "metadata": {
  "kernelspec": {
   "display_name": "Python 3 (ipykernel)",
   "language": "python",
   "name": "python3"
  },
  "language_info": {
   "codemirror_mode": {
    "name": "ipython",
    "version": 3
   },
   "file_extension": ".py",
   "mimetype": "text/x-python",
   "name": "python",
   "nbconvert_exporter": "python",
   "pygments_lexer": "ipython3",
   "version": "3.9.12"
  }
 },
 "nbformat": 4,
 "nbformat_minor": 5
}
