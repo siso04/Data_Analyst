{
 "cells": [
  {
   "cell_type": "code",
   "execution_count": 1,
   "id": "313dab54",
   "metadata": {},
   "outputs": [
    {
     "data": {
      "text/html": [
       "        <script type=\"text/javascript\">\n",
       "        window.PlotlyConfig = {MathJaxConfig: 'local'};\n",
       "        if (window.MathJax) {MathJax.Hub.Config({SVG: {font: \"STIX-Web\"}});}\n",
       "        if (typeof require !== 'undefined') {\n",
       "        require.undef(\"plotly\");\n",
       "        requirejs.config({\n",
       "            paths: {\n",
       "                'plotly': ['https://cdn.plot.ly/plotly-2.9.0.min']\n",
       "            }\n",
       "        });\n",
       "        require(['plotly'], function(Plotly) {\n",
       "            window._Plotly = Plotly;\n",
       "        });\n",
       "        }\n",
       "        </script>\n",
       "        "
      ]
     },
     "metadata": {},
     "output_type": "display_data"
    }
   ],
   "source": [
    "import pandas as pd\n",
    "import matplotlib.pyplot as plt\n",
    "import seaborn as sns\n",
    "import plotly.express as px\n",
    "import plotly.graph_objs as go\n",
    "from plotly.offline import iplot, init_notebook_mode\n",
    "init_notebook_mode(connected=True)\n",
    "plt.style.use('fivethirtyeight')\n",
    "plt.rcParams['figure.figsize'] = (10,6)\n",
    "pd.set_option('display.precision', 2)\n",
    "pd.set_option('display.max_columns', 100)\n",
    "pd.set_option('display.max_colwidth', 60)"
   ]
  },
  {
   "cell_type": "markdown",
   "id": "934a2450",
   "metadata": {},
   "source": [
    "### 1. Dataset"
   ]
  },
  {
   "cell_type": "code",
   "execution_count": 2,
   "id": "1413b4ce",
   "metadata": {},
   "outputs": [
    {
     "data": {
      "text/html": [
       "<div>\n",
       "<style scoped>\n",
       "    .dataframe tbody tr th:only-of-type {\n",
       "        vertical-align: middle;\n",
       "    }\n",
       "\n",
       "    .dataframe tbody tr th {\n",
       "        vertical-align: top;\n",
       "    }\n",
       "\n",
       "    .dataframe thead th {\n",
       "        text-align: right;\n",
       "    }\n",
       "</style>\n",
       "<table border=\"1\" class=\"dataframe\">\n",
       "  <thead>\n",
       "    <tr style=\"text-align: right;\">\n",
       "      <th></th>\n",
       "      <th>index</th>\n",
       "      <th>movie_name</th>\n",
       "      <th>year_of_release</th>\n",
       "      <th>category</th>\n",
       "      <th>run_time</th>\n",
       "      <th>genre</th>\n",
       "      <th>imdb_rating</th>\n",
       "      <th>votes</th>\n",
       "      <th>gross_total</th>\n",
       "    </tr>\n",
       "  </thead>\n",
       "  <tbody>\n",
       "    <tr>\n",
       "      <th>0</th>\n",
       "      <td>1.0</td>\n",
       "      <td>The Godfather</td>\n",
       "      <td>(1972)</td>\n",
       "      <td>R</td>\n",
       "      <td>175 min</td>\n",
       "      <td>Crime, Drama</td>\n",
       "      <td>9.2</td>\n",
       "      <td>1,860,471</td>\n",
       "      <td>$134.97M</td>\n",
       "    </tr>\n",
       "    <tr>\n",
       "      <th>1</th>\n",
       "      <td>2.0</td>\n",
       "      <td>The Silence of the Lambs</td>\n",
       "      <td>(1991)</td>\n",
       "      <td>R</td>\n",
       "      <td>118 min</td>\n",
       "      <td>Crime, Drama, Thriller</td>\n",
       "      <td>8.6</td>\n",
       "      <td>1,435,344</td>\n",
       "      <td>$130.74M</td>\n",
       "    </tr>\n",
       "    <tr>\n",
       "      <th>2</th>\n",
       "      <td>3.0</td>\n",
       "      <td>Star Wars: Episode V - The Empire Strikes Back</td>\n",
       "      <td>(1980)</td>\n",
       "      <td>PG</td>\n",
       "      <td>124 min</td>\n",
       "      <td>Action, Adventure, Fantasy</td>\n",
       "      <td>8.7</td>\n",
       "      <td>1,294,805</td>\n",
       "      <td>$290.48M</td>\n",
       "    </tr>\n",
       "    <tr>\n",
       "      <th>3</th>\n",
       "      <td>4.0</td>\n",
       "      <td>The Shawshank Redemption</td>\n",
       "      <td>(1994)</td>\n",
       "      <td>R</td>\n",
       "      <td>142 min</td>\n",
       "      <td>Drama</td>\n",
       "      <td>9.3</td>\n",
       "      <td>2,683,302</td>\n",
       "      <td>$28.34M</td>\n",
       "    </tr>\n",
       "    <tr>\n",
       "      <th>4</th>\n",
       "      <td>5.0</td>\n",
       "      <td>The Shining</td>\n",
       "      <td>(1980)</td>\n",
       "      <td>R</td>\n",
       "      <td>146 min</td>\n",
       "      <td>Drama, Horror</td>\n",
       "      <td>8.4</td>\n",
       "      <td>1,025,560</td>\n",
       "      <td>$44.02M</td>\n",
       "    </tr>\n",
       "    <tr>\n",
       "      <th>...</th>\n",
       "      <td>...</td>\n",
       "      <td>...</td>\n",
       "      <td>...</td>\n",
       "      <td>...</td>\n",
       "      <td>...</td>\n",
       "      <td>...</td>\n",
       "      <td>...</td>\n",
       "      <td>...</td>\n",
       "      <td>...</td>\n",
       "    </tr>\n",
       "    <tr>\n",
       "      <th>94</th>\n",
       "      <td>95.0</td>\n",
       "      <td>The Usual Suspects</td>\n",
       "      <td>(1995)</td>\n",
       "      <td>R</td>\n",
       "      <td>106 min</td>\n",
       "      <td>Crime, Drama, Mystery</td>\n",
       "      <td>8.5</td>\n",
       "      <td>1,087,832</td>\n",
       "      <td>$23.34M</td>\n",
       "    </tr>\n",
       "    <tr>\n",
       "      <th>95</th>\n",
       "      <td>96.0</td>\n",
       "      <td>Cool Hand Luke</td>\n",
       "      <td>(1967)</td>\n",
       "      <td>GP</td>\n",
       "      <td>127 min</td>\n",
       "      <td>Crime, Drama</td>\n",
       "      <td>8.1</td>\n",
       "      <td>178,888</td>\n",
       "      <td>$16.22M</td>\n",
       "    </tr>\n",
       "    <tr>\n",
       "      <th>96</th>\n",
       "      <td>97.0</td>\n",
       "      <td>Eternal Sunshine of the Spotless Mind</td>\n",
       "      <td>(2004)</td>\n",
       "      <td>R</td>\n",
       "      <td>108 min</td>\n",
       "      <td>Drama, Romance, Sci-Fi</td>\n",
       "      <td>8.3</td>\n",
       "      <td>1,011,004</td>\n",
       "      <td>$34.40M</td>\n",
       "    </tr>\n",
       "    <tr>\n",
       "      <th>97</th>\n",
       "      <td>98.0</td>\n",
       "      <td>City Lights</td>\n",
       "      <td>(1931)</td>\n",
       "      <td>G</td>\n",
       "      <td>87 min</td>\n",
       "      <td>Comedy, Drama, Romance</td>\n",
       "      <td>8.5</td>\n",
       "      <td>186,059</td>\n",
       "      <td>$0.02M</td>\n",
       "    </tr>\n",
       "    <tr>\n",
       "      <th>98</th>\n",
       "      <td>99.0</td>\n",
       "      <td>The Matrix</td>\n",
       "      <td>(1999)</td>\n",
       "      <td>R</td>\n",
       "      <td>136 min</td>\n",
       "      <td>Action, Sci-Fi</td>\n",
       "      <td>8.7</td>\n",
       "      <td>1,916,083</td>\n",
       "      <td>$171.48M</td>\n",
       "    </tr>\n",
       "  </tbody>\n",
       "</table>\n",
       "<p>99 rows × 9 columns</p>\n",
       "</div>"
      ],
      "text/plain": [
       "    index                                      movie_name year_of_release  \\\n",
       "0     1.0                                   The Godfather          (1972)   \n",
       "1     2.0                        The Silence of the Lambs          (1991)   \n",
       "2     3.0  Star Wars: Episode V - The Empire Strikes Back          (1980)   \n",
       "3     4.0                        The Shawshank Redemption          (1994)   \n",
       "4     5.0                                     The Shining          (1980)   \n",
       "..    ...                                             ...             ...   \n",
       "94   95.0                              The Usual Suspects          (1995)   \n",
       "95   96.0                                  Cool Hand Luke          (1967)   \n",
       "96   97.0           Eternal Sunshine of the Spotless Mind          (2004)   \n",
       "97   98.0                                     City Lights          (1931)   \n",
       "98   99.0                                      The Matrix          (1999)   \n",
       "\n",
       "   category run_time                       genre  imdb_rating      votes  \\\n",
       "0         R  175 min                Crime, Drama          9.2  1,860,471   \n",
       "1         R  118 min      Crime, Drama, Thriller          8.6  1,435,344   \n",
       "2        PG  124 min  Action, Adventure, Fantasy          8.7  1,294,805   \n",
       "3         R  142 min                       Drama          9.3  2,683,302   \n",
       "4         R  146 min               Drama, Horror          8.4  1,025,560   \n",
       "..      ...      ...                         ...          ...        ...   \n",
       "94        R  106 min       Crime, Drama, Mystery          8.5  1,087,832   \n",
       "95       GP  127 min                Crime, Drama          8.1    178,888   \n",
       "96        R  108 min      Drama, Romance, Sci-Fi          8.3  1,011,004   \n",
       "97        G   87 min      Comedy, Drama, Romance          8.5    186,059   \n",
       "98        R  136 min              Action, Sci-Fi          8.7  1,916,083   \n",
       "\n",
       "   gross_total  \n",
       "0     $134.97M  \n",
       "1     $130.74M  \n",
       "2     $290.48M  \n",
       "3      $28.34M  \n",
       "4      $44.02M  \n",
       "..         ...  \n",
       "94     $23.34M  \n",
       "95     $16.22M  \n",
       "96     $34.40M  \n",
       "97      $0.02M  \n",
       "98    $171.48M  \n",
       "\n",
       "[99 rows x 9 columns]"
      ]
     },
     "execution_count": 2,
     "metadata": {},
     "output_type": "execute_result"
    }
   ],
   "source": [
    "movies = pd.read_csv('movies.csv')\n",
    "movies"
   ]
  },
  {
   "cell_type": "markdown",
   "id": "13c1f068",
   "metadata": {},
   "source": [
    "### 2. Data overview"
   ]
  },
  {
   "cell_type": "code",
   "execution_count": 3,
   "id": "c71f0809",
   "metadata": {},
   "outputs": [
    {
     "name": "stdout",
     "output_type": "stream",
     "text": [
      "<class 'pandas.core.frame.DataFrame'>\n",
      "RangeIndex: 99 entries, 0 to 98\n",
      "Data columns (total 9 columns):\n",
      " #   Column           Non-Null Count  Dtype  \n",
      "---  ------           --------------  -----  \n",
      " 0   index            99 non-null     float64\n",
      " 1   movie_name       99 non-null     object \n",
      " 2   year_of_release  99 non-null     object \n",
      " 3   category         99 non-null     object \n",
      " 4   run_time         99 non-null     object \n",
      " 5   genre            99 non-null     object \n",
      " 6   imdb_rating      99 non-null     float64\n",
      " 7   votes            99 non-null     object \n",
      " 8   gross_total      98 non-null     object \n",
      "dtypes: float64(2), object(7)\n",
      "memory usage: 7.1+ KB\n"
     ]
    }
   ],
   "source": [
    "# Check for data types\n",
    "movies.info()"
   ]
  },
  {
   "cell_type": "code",
   "execution_count": 4,
   "id": "ac21dda5",
   "metadata": {},
   "outputs": [
    {
     "data": {
      "text/html": [
       "<div>\n",
       "<style scoped>\n",
       "    .dataframe tbody tr th:only-of-type {\n",
       "        vertical-align: middle;\n",
       "    }\n",
       "\n",
       "    .dataframe tbody tr th {\n",
       "        vertical-align: top;\n",
       "    }\n",
       "\n",
       "    .dataframe thead th {\n",
       "        text-align: right;\n",
       "    }\n",
       "</style>\n",
       "<table border=\"1\" class=\"dataframe\">\n",
       "  <thead>\n",
       "    <tr style=\"text-align: right;\">\n",
       "      <th></th>\n",
       "      <th>index</th>\n",
       "      <th>imdb_rating</th>\n",
       "    </tr>\n",
       "  </thead>\n",
       "  <tbody>\n",
       "    <tr>\n",
       "      <th>count</th>\n",
       "      <td>99.00</td>\n",
       "      <td>99.00</td>\n",
       "    </tr>\n",
       "    <tr>\n",
       "      <th>mean</th>\n",
       "      <td>50.00</td>\n",
       "      <td>8.35</td>\n",
       "    </tr>\n",
       "    <tr>\n",
       "      <th>std</th>\n",
       "      <td>28.72</td>\n",
       "      <td>0.37</td>\n",
       "    </tr>\n",
       "    <tr>\n",
       "      <th>min</th>\n",
       "      <td>1.00</td>\n",
       "      <td>7.20</td>\n",
       "    </tr>\n",
       "    <tr>\n",
       "      <th>25%</th>\n",
       "      <td>25.50</td>\n",
       "      <td>8.10</td>\n",
       "    </tr>\n",
       "    <tr>\n",
       "      <th>50%</th>\n",
       "      <td>50.00</td>\n",
       "      <td>8.30</td>\n",
       "    </tr>\n",
       "    <tr>\n",
       "      <th>75%</th>\n",
       "      <td>74.50</td>\n",
       "      <td>8.60</td>\n",
       "    </tr>\n",
       "    <tr>\n",
       "      <th>max</th>\n",
       "      <td>99.00</td>\n",
       "      <td>9.30</td>\n",
       "    </tr>\n",
       "  </tbody>\n",
       "</table>\n",
       "</div>"
      ],
      "text/plain": [
       "       index  imdb_rating\n",
       "count  99.00        99.00\n",
       "mean   50.00         8.35\n",
       "std    28.72         0.37\n",
       "min     1.00         7.20\n",
       "25%    25.50         8.10\n",
       "50%    50.00         8.30\n",
       "75%    74.50         8.60\n",
       "max    99.00         9.30"
      ]
     },
     "execution_count": 4,
     "metadata": {},
     "output_type": "execute_result"
    }
   ],
   "source": [
    "# Description of numerical variables\n",
    "movies.describe()"
   ]
  },
  {
   "cell_type": "code",
   "execution_count": 5,
   "id": "a7a3bcc1",
   "metadata": {
    "scrolled": true
   },
   "outputs": [
    {
     "data": {
      "text/plain": [
       "index              0\n",
       "movie_name         0\n",
       "year_of_release    0\n",
       "category           0\n",
       "run_time           0\n",
       "genre              0\n",
       "imdb_rating        0\n",
       "votes              0\n",
       "gross_total        1\n",
       "dtype: int64"
      ]
     },
     "execution_count": 5,
     "metadata": {},
     "output_type": "execute_result"
    }
   ],
   "source": [
    "# Check for null values\n",
    "movies.isna().sum()"
   ]
  },
  {
   "cell_type": "code",
   "execution_count": 9,
   "id": "c484782c",
   "metadata": {},
   "outputs": [
    {
     "data": {
      "text/html": [
       "<div>\n",
       "<style scoped>\n",
       "    .dataframe tbody tr th:only-of-type {\n",
       "        vertical-align: middle;\n",
       "    }\n",
       "\n",
       "    .dataframe tbody tr th {\n",
       "        vertical-align: top;\n",
       "    }\n",
       "\n",
       "    .dataframe thead th {\n",
       "        text-align: right;\n",
       "    }\n",
       "</style>\n",
       "<table border=\"1\" class=\"dataframe\">\n",
       "  <thead>\n",
       "    <tr style=\"text-align: right;\">\n",
       "      <th></th>\n",
       "      <th>index</th>\n",
       "      <th>movie_name</th>\n",
       "      <th>year_of_release</th>\n",
       "      <th>category</th>\n",
       "      <th>run_time</th>\n",
       "      <th>genre</th>\n",
       "      <th>imdb_rating</th>\n",
       "      <th>votes</th>\n",
       "      <th>gross_total</th>\n",
       "    </tr>\n",
       "  </thead>\n",
       "  <tbody>\n",
       "    <tr>\n",
       "      <th>65</th>\n",
       "      <td>66.0</td>\n",
       "      <td>To Have and Have Not</td>\n",
       "      <td>(1944)</td>\n",
       "      <td>Passed</td>\n",
       "      <td>100 min</td>\n",
       "      <td>Adventure, Comedy, Film-Noir</td>\n",
       "      <td>7.8</td>\n",
       "      <td>35,528</td>\n",
       "      <td>NaN</td>\n",
       "    </tr>\n",
       "  </tbody>\n",
       "</table>\n",
       "</div>"
      ],
      "text/plain": [
       "    index            movie_name year_of_release category run_time  \\\n",
       "65   66.0  To Have and Have Not          (1944)   Passed  100 min   \n",
       "\n",
       "                           genre  imdb_rating   votes gross_total  \n",
       "65  Adventure, Comedy, Film-Noir          7.8  35,528         NaN  "
      ]
     },
     "execution_count": 9,
     "metadata": {},
     "output_type": "execute_result"
    }
   ],
   "source": [
    "# This function help us to determine where is/are the na\n",
    "movies.query('gross_total.isna()')"
   ]
  },
  {
   "cell_type": "code",
   "execution_count": 8,
   "id": "267538bb",
   "metadata": {},
   "outputs": [
    {
     "data": {
      "text/plain": [
       "0"
      ]
     },
     "execution_count": 8,
     "metadata": {},
     "output_type": "execute_result"
    }
   ],
   "source": [
    "# Check for duplicated values\n",
    "movies.duplicated().sum()"
   ]
  },
  {
   "cell_type": "code",
   "execution_count": 6,
   "id": "0550a458",
   "metadata": {},
   "outputs": [
    {
     "data": {
      "text/html": [
       "<div>\n",
       "<style scoped>\n",
       "    .dataframe tbody tr th:only-of-type {\n",
       "        vertical-align: middle;\n",
       "    }\n",
       "\n",
       "    .dataframe tbody tr th {\n",
       "        vertical-align: top;\n",
       "    }\n",
       "\n",
       "    .dataframe thead th {\n",
       "        text-align: right;\n",
       "    }\n",
       "</style>\n",
       "<table border=\"1\" class=\"dataframe\">\n",
       "  <thead>\n",
       "    <tr style=\"text-align: right;\">\n",
       "      <th></th>\n",
       "      <th>index</th>\n",
       "      <th>movie_name</th>\n",
       "      <th>year_of_release</th>\n",
       "      <th>category</th>\n",
       "      <th>run_time</th>\n",
       "      <th>genre</th>\n",
       "      <th>imdb_rating</th>\n",
       "      <th>votes</th>\n",
       "      <th>gross_total</th>\n",
       "    </tr>\n",
       "  </thead>\n",
       "  <tbody>\n",
       "    <tr>\n",
       "      <th>0</th>\n",
       "      <td>1.0</td>\n",
       "      <td>The Godfather</td>\n",
       "      <td>(1972)</td>\n",
       "      <td>R</td>\n",
       "      <td>175 min</td>\n",
       "      <td>Crime, Drama</td>\n",
       "      <td>9.2</td>\n",
       "      <td>1,860,471</td>\n",
       "      <td>$134.97M</td>\n",
       "    </tr>\n",
       "    <tr>\n",
       "      <th>1</th>\n",
       "      <td>2.0</td>\n",
       "      <td>The Silence of the Lambs</td>\n",
       "      <td>(1991)</td>\n",
       "      <td>R</td>\n",
       "      <td>118 min</td>\n",
       "      <td>Crime, Drama, Thriller</td>\n",
       "      <td>8.6</td>\n",
       "      <td>1,435,344</td>\n",
       "      <td>$130.74M</td>\n",
       "    </tr>\n",
       "    <tr>\n",
       "      <th>2</th>\n",
       "      <td>3.0</td>\n",
       "      <td>Star Wars: Episode V - The Empire Strikes Back</td>\n",
       "      <td>(1980)</td>\n",
       "      <td>PG</td>\n",
       "      <td>124 min</td>\n",
       "      <td>Action, Adventure, Fantasy</td>\n",
       "      <td>8.7</td>\n",
       "      <td>1,294,805</td>\n",
       "      <td>$290.48M</td>\n",
       "    </tr>\n",
       "    <tr>\n",
       "      <th>3</th>\n",
       "      <td>4.0</td>\n",
       "      <td>The Shawshank Redemption</td>\n",
       "      <td>(1994)</td>\n",
       "      <td>R</td>\n",
       "      <td>142 min</td>\n",
       "      <td>Drama</td>\n",
       "      <td>9.3</td>\n",
       "      <td>2,683,302</td>\n",
       "      <td>$28.34M</td>\n",
       "    </tr>\n",
       "    <tr>\n",
       "      <th>4</th>\n",
       "      <td>5.0</td>\n",
       "      <td>The Shining</td>\n",
       "      <td>(1980)</td>\n",
       "      <td>R</td>\n",
       "      <td>146 min</td>\n",
       "      <td>Drama, Horror</td>\n",
       "      <td>8.4</td>\n",
       "      <td>1,025,560</td>\n",
       "      <td>$44.02M</td>\n",
       "    </tr>\n",
       "    <tr>\n",
       "      <th>...</th>\n",
       "      <td>...</td>\n",
       "      <td>...</td>\n",
       "      <td>...</td>\n",
       "      <td>...</td>\n",
       "      <td>...</td>\n",
       "      <td>...</td>\n",
       "      <td>...</td>\n",
       "      <td>...</td>\n",
       "      <td>...</td>\n",
       "    </tr>\n",
       "    <tr>\n",
       "      <th>94</th>\n",
       "      <td>95.0</td>\n",
       "      <td>The Usual Suspects</td>\n",
       "      <td>(1995)</td>\n",
       "      <td>R</td>\n",
       "      <td>106 min</td>\n",
       "      <td>Crime, Drama, Mystery</td>\n",
       "      <td>8.5</td>\n",
       "      <td>1,087,832</td>\n",
       "      <td>$23.34M</td>\n",
       "    </tr>\n",
       "    <tr>\n",
       "      <th>95</th>\n",
       "      <td>96.0</td>\n",
       "      <td>Cool Hand Luke</td>\n",
       "      <td>(1967)</td>\n",
       "      <td>GP</td>\n",
       "      <td>127 min</td>\n",
       "      <td>Crime, Drama</td>\n",
       "      <td>8.1</td>\n",
       "      <td>178,888</td>\n",
       "      <td>$16.22M</td>\n",
       "    </tr>\n",
       "    <tr>\n",
       "      <th>96</th>\n",
       "      <td>97.0</td>\n",
       "      <td>Eternal Sunshine of the Spotless Mind</td>\n",
       "      <td>(2004)</td>\n",
       "      <td>R</td>\n",
       "      <td>108 min</td>\n",
       "      <td>Drama, Romance, Sci-Fi</td>\n",
       "      <td>8.3</td>\n",
       "      <td>1,011,004</td>\n",
       "      <td>$34.40M</td>\n",
       "    </tr>\n",
       "    <tr>\n",
       "      <th>97</th>\n",
       "      <td>98.0</td>\n",
       "      <td>City Lights</td>\n",
       "      <td>(1931)</td>\n",
       "      <td>G</td>\n",
       "      <td>87 min</td>\n",
       "      <td>Comedy, Drama, Romance</td>\n",
       "      <td>8.5</td>\n",
       "      <td>186,059</td>\n",
       "      <td>$0.02M</td>\n",
       "    </tr>\n",
       "    <tr>\n",
       "      <th>98</th>\n",
       "      <td>99.0</td>\n",
       "      <td>The Matrix</td>\n",
       "      <td>(1999)</td>\n",
       "      <td>R</td>\n",
       "      <td>136 min</td>\n",
       "      <td>Action, Sci-Fi</td>\n",
       "      <td>8.7</td>\n",
       "      <td>1,916,083</td>\n",
       "      <td>$171.48M</td>\n",
       "    </tr>\n",
       "  </tbody>\n",
       "</table>\n",
       "<p>99 rows × 9 columns</p>\n",
       "</div>"
      ],
      "text/plain": [
       "    index                                      movie_name year_of_release  \\\n",
       "0     1.0                                   The Godfather          (1972)   \n",
       "1     2.0                        The Silence of the Lambs          (1991)   \n",
       "2     3.0  Star Wars: Episode V - The Empire Strikes Back          (1980)   \n",
       "3     4.0                        The Shawshank Redemption          (1994)   \n",
       "4     5.0                                     The Shining          (1980)   \n",
       "..    ...                                             ...             ...   \n",
       "94   95.0                              The Usual Suspects          (1995)   \n",
       "95   96.0                                  Cool Hand Luke          (1967)   \n",
       "96   97.0           Eternal Sunshine of the Spotless Mind          (2004)   \n",
       "97   98.0                                     City Lights          (1931)   \n",
       "98   99.0                                      The Matrix          (1999)   \n",
       "\n",
       "   category run_time                       genre  imdb_rating      votes  \\\n",
       "0         R  175 min                Crime, Drama          9.2  1,860,471   \n",
       "1         R  118 min      Crime, Drama, Thriller          8.6  1,435,344   \n",
       "2        PG  124 min  Action, Adventure, Fantasy          8.7  1,294,805   \n",
       "3         R  142 min                       Drama          9.3  2,683,302   \n",
       "4         R  146 min               Drama, Horror          8.4  1,025,560   \n",
       "..      ...      ...                         ...          ...        ...   \n",
       "94        R  106 min       Crime, Drama, Mystery          8.5  1,087,832   \n",
       "95       GP  127 min                Crime, Drama          8.1    178,888   \n",
       "96        R  108 min      Drama, Romance, Sci-Fi          8.3  1,011,004   \n",
       "97        G   87 min      Comedy, Drama, Romance          8.5    186,059   \n",
       "98        R  136 min              Action, Sci-Fi          8.7  1,916,083   \n",
       "\n",
       "   gross_total  \n",
       "0     $134.97M  \n",
       "1     $130.74M  \n",
       "2     $290.48M  \n",
       "3      $28.34M  \n",
       "4      $44.02M  \n",
       "..         ...  \n",
       "94     $23.34M  \n",
       "95     $16.22M  \n",
       "96     $34.40M  \n",
       "97      $0.02M  \n",
       "98    $171.48M  \n",
       "\n",
       "[99 rows x 9 columns]"
      ]
     },
     "execution_count": 6,
     "metadata": {},
     "output_type": "execute_result"
    }
   ],
   "source": [
    "movies"
   ]
  },
  {
   "cell_type": "markdown",
   "id": "b1e050aa",
   "metadata": {},
   "source": [
    "### 3. Transforming and adjusting data"
   ]
  },
  {
   "cell_type": "code",
   "execution_count": 17,
   "id": "e1584424",
   "metadata": {},
   "outputs": [
    {
     "data": {
      "text/html": [
       "<div>\n",
       "<style scoped>\n",
       "    .dataframe tbody tr th:only-of-type {\n",
       "        vertical-align: middle;\n",
       "    }\n",
       "\n",
       "    .dataframe tbody tr th {\n",
       "        vertical-align: top;\n",
       "    }\n",
       "\n",
       "    .dataframe thead th {\n",
       "        text-align: right;\n",
       "    }\n",
       "</style>\n",
       "<table border=\"1\" class=\"dataframe\">\n",
       "  <thead>\n",
       "    <tr style=\"text-align: right;\">\n",
       "      <th></th>\n",
       "      <th>movie_name</th>\n",
       "      <th>year_of_release</th>\n",
       "      <th>category</th>\n",
       "      <th>run_time</th>\n",
       "      <th>genre</th>\n",
       "      <th>imdb_rating</th>\n",
       "      <th>votes</th>\n",
       "      <th>gross_total</th>\n",
       "    </tr>\n",
       "  </thead>\n",
       "  <tbody>\n",
       "    <tr>\n",
       "      <th>0</th>\n",
       "      <td>The Godfather</td>\n",
       "      <td>1972</td>\n",
       "      <td>R</td>\n",
       "      <td>175</td>\n",
       "      <td>Crime, Drama</td>\n",
       "      <td>9.2</td>\n",
       "      <td>1860471</td>\n",
       "      <td>134.97</td>\n",
       "    </tr>\n",
       "    <tr>\n",
       "      <th>1</th>\n",
       "      <td>The Silence of the Lambs</td>\n",
       "      <td>1991</td>\n",
       "      <td>R</td>\n",
       "      <td>118</td>\n",
       "      <td>Crime, Drama, Thriller</td>\n",
       "      <td>8.6</td>\n",
       "      <td>1435344</td>\n",
       "      <td>130.74</td>\n",
       "    </tr>\n",
       "    <tr>\n",
       "      <th>2</th>\n",
       "      <td>Star Wars: Episode V - The Empire Strikes Back</td>\n",
       "      <td>1980</td>\n",
       "      <td>PG</td>\n",
       "      <td>124</td>\n",
       "      <td>Action, Adventure, Fantasy</td>\n",
       "      <td>8.7</td>\n",
       "      <td>1294805</td>\n",
       "      <td>290.48</td>\n",
       "    </tr>\n",
       "    <tr>\n",
       "      <th>3</th>\n",
       "      <td>The Shawshank Redemption</td>\n",
       "      <td>1994</td>\n",
       "      <td>R</td>\n",
       "      <td>142</td>\n",
       "      <td>Drama</td>\n",
       "      <td>9.3</td>\n",
       "      <td>2683302</td>\n",
       "      <td>28.34</td>\n",
       "    </tr>\n",
       "    <tr>\n",
       "      <th>4</th>\n",
       "      <td>The Shining</td>\n",
       "      <td>1980</td>\n",
       "      <td>R</td>\n",
       "      <td>146</td>\n",
       "      <td>Drama, Horror</td>\n",
       "      <td>8.4</td>\n",
       "      <td>1025560</td>\n",
       "      <td>44.02</td>\n",
       "    </tr>\n",
       "    <tr>\n",
       "      <th>...</th>\n",
       "      <td>...</td>\n",
       "      <td>...</td>\n",
       "      <td>...</td>\n",
       "      <td>...</td>\n",
       "      <td>...</td>\n",
       "      <td>...</td>\n",
       "      <td>...</td>\n",
       "      <td>...</td>\n",
       "    </tr>\n",
       "    <tr>\n",
       "      <th>94</th>\n",
       "      <td>The Usual Suspects</td>\n",
       "      <td>1995</td>\n",
       "      <td>R</td>\n",
       "      <td>106</td>\n",
       "      <td>Crime, Drama, Mystery</td>\n",
       "      <td>8.5</td>\n",
       "      <td>1087832</td>\n",
       "      <td>23.34</td>\n",
       "    </tr>\n",
       "    <tr>\n",
       "      <th>95</th>\n",
       "      <td>Cool Hand Luke</td>\n",
       "      <td>1967</td>\n",
       "      <td>GP</td>\n",
       "      <td>127</td>\n",
       "      <td>Crime, Drama</td>\n",
       "      <td>8.1</td>\n",
       "      <td>178888</td>\n",
       "      <td>16.22</td>\n",
       "    </tr>\n",
       "    <tr>\n",
       "      <th>96</th>\n",
       "      <td>Eternal Sunshine of the Spotless Mind</td>\n",
       "      <td>2004</td>\n",
       "      <td>R</td>\n",
       "      <td>108</td>\n",
       "      <td>Drama, Romance, Sci-Fi</td>\n",
       "      <td>8.3</td>\n",
       "      <td>1011004</td>\n",
       "      <td>34.40</td>\n",
       "    </tr>\n",
       "    <tr>\n",
       "      <th>97</th>\n",
       "      <td>City Lights</td>\n",
       "      <td>1931</td>\n",
       "      <td>G</td>\n",
       "      <td>87</td>\n",
       "      <td>Comedy, Drama, Romance</td>\n",
       "      <td>8.5</td>\n",
       "      <td>186059</td>\n",
       "      <td>0.02</td>\n",
       "    </tr>\n",
       "    <tr>\n",
       "      <th>98</th>\n",
       "      <td>The Matrix</td>\n",
       "      <td>1999</td>\n",
       "      <td>R</td>\n",
       "      <td>136</td>\n",
       "      <td>Action, Sci-Fi</td>\n",
       "      <td>8.7</td>\n",
       "      <td>1916083</td>\n",
       "      <td>171.48</td>\n",
       "    </tr>\n",
       "  </tbody>\n",
       "</table>\n",
       "<p>99 rows × 8 columns</p>\n",
       "</div>"
      ],
      "text/plain": [
       "                                        movie_name year_of_release category  \\\n",
       "0                                    The Godfather            1972        R   \n",
       "1                         The Silence of the Lambs            1991        R   \n",
       "2   Star Wars: Episode V - The Empire Strikes Back            1980       PG   \n",
       "3                         The Shawshank Redemption            1994        R   \n",
       "4                                      The Shining            1980        R   \n",
       "..                                             ...             ...      ...   \n",
       "94                              The Usual Suspects            1995        R   \n",
       "95                                  Cool Hand Luke            1967       GP   \n",
       "96           Eternal Sunshine of the Spotless Mind            2004        R   \n",
       "97                                     City Lights            1931        G   \n",
       "98                                      The Matrix            1999        R   \n",
       "\n",
       "    run_time                       genre  imdb_rating    votes  gross_total  \n",
       "0        175                Crime, Drama          9.2  1860471       134.97  \n",
       "1        118      Crime, Drama, Thriller          8.6  1435344       130.74  \n",
       "2        124  Action, Adventure, Fantasy          8.7  1294805       290.48  \n",
       "3        142                       Drama          9.3  2683302        28.34  \n",
       "4        146               Drama, Horror          8.4  1025560        44.02  \n",
       "..       ...                         ...          ...      ...          ...  \n",
       "94       106       Crime, Drama, Mystery          8.5  1087832        23.34  \n",
       "95       127                Crime, Drama          8.1   178888        16.22  \n",
       "96       108      Drama, Romance, Sci-Fi          8.3  1011004        34.40  \n",
       "97        87      Comedy, Drama, Romance          8.5   186059         0.02  \n",
       "98       136              Action, Sci-Fi          8.7  1916083       171.48  \n",
       "\n",
       "[99 rows x 8 columns]"
      ]
     },
     "execution_count": 17,
     "metadata": {},
     "output_type": "execute_result"
    }
   ],
   "source": [
    "# We can remove the index column and the parentheses from the 'year_of_release' column. \n",
    "# Additionally, we need to remove the word 'min' from the 'run_time' column, convert year_of_realese to date\n",
    "# and convert the 'votes' and 'gross' columns from characters to numbers.\n",
    "movies.drop(columns='index', inplace=True)\n",
    "movies['year_of_release'] = (movies['year_of_release']\n",
    "                             .str.replace(\"(\", \"\", regex=True)\n",
    "                             .str.replace(\")\", \"\", regex=True))\n",
    "movies['run_time'] = (movies['run_time']\n",
    "                      .str.replace(' min', \"\", regex=True)\n",
    "                      .astype(int))\n",
    "movies['year_of_release'] = pd.to_datetime(movies['year_of_release'])       \n",
    "movies['gross_total'] = (movies['gross_total']\n",
    "                         .str.replace('$', \"\", regex=True)\n",
    "                         .str.replace('M', \"\", regex=True)\n",
    "                         .astype(float) )\n",
    "movies['votes'] = movies['votes'].str.replace(',', \"\").astype(int)\n",
    "    \n",
    "movies"
   ]
  },
  {
   "cell_type": "code",
   "execution_count": 19,
   "id": "b06622c4",
   "metadata": {},
   "outputs": [],
   "source": [
    "# This is step is not absolutely necessary, but we can convert the years to datetime\n",
    "movies['year_of_release'] = pd.to_datetime(movies['year_of_release'])"
   ]
  },
  {
   "cell_type": "code",
   "execution_count": 21,
   "id": "8b4f9990",
   "metadata": {},
   "outputs": [
    {
     "data": {
      "text/plain": [
       "movie_name                 object\n",
       "year_of_release    datetime64[ns]\n",
       "category                   object\n",
       "run_time                    int32\n",
       "genre                      object\n",
       "imdb_rating               float64\n",
       "votes                       int32\n",
       "gross_total               float64\n",
       "dtype: object"
      ]
     },
     "execution_count": 21,
     "metadata": {},
     "output_type": "execute_result"
    }
   ],
   "source": [
    "# Now we can check the data types again\n",
    "movies.dtypes"
   ]
  },
  {
   "cell_type": "markdown",
   "id": "582ac319",
   "metadata": {},
   "source": [
    "### 4. Data Analisys"
   ]
  },
  {
   "cell_type": "code",
   "execution_count": 22,
   "id": "4d3514b1",
   "metadata": {},
   "outputs": [
    {
     "data": {
      "text/html": [
       "<div>\n",
       "<style scoped>\n",
       "    .dataframe tbody tr th:only-of-type {\n",
       "        vertical-align: middle;\n",
       "    }\n",
       "\n",
       "    .dataframe tbody tr th {\n",
       "        vertical-align: top;\n",
       "    }\n",
       "\n",
       "    .dataframe thead th {\n",
       "        text-align: right;\n",
       "    }\n",
       "</style>\n",
       "<table border=\"1\" class=\"dataframe\">\n",
       "  <thead>\n",
       "    <tr style=\"text-align: right;\">\n",
       "      <th></th>\n",
       "      <th>run_time</th>\n",
       "      <th>imdb_rating</th>\n",
       "      <th>votes</th>\n",
       "      <th>gross_total</th>\n",
       "    </tr>\n",
       "  </thead>\n",
       "  <tbody>\n",
       "    <tr>\n",
       "      <th>run_time</th>\n",
       "      <td>1.00</td>\n",
       "      <td>0.29</td>\n",
       "      <td>0.33</td>\n",
       "      <td>0.26</td>\n",
       "    </tr>\n",
       "    <tr>\n",
       "      <th>imdb_rating</th>\n",
       "      <td>0.29</td>\n",
       "      <td>1.00</td>\n",
       "      <td>0.73</td>\n",
       "      <td>0.13</td>\n",
       "    </tr>\n",
       "    <tr>\n",
       "      <th>votes</th>\n",
       "      <td>0.33</td>\n",
       "      <td>0.73</td>\n",
       "      <td>1.00</td>\n",
       "      <td>0.46</td>\n",
       "    </tr>\n",
       "    <tr>\n",
       "      <th>gross_total</th>\n",
       "      <td>0.26</td>\n",
       "      <td>0.13</td>\n",
       "      <td>0.46</td>\n",
       "      <td>1.00</td>\n",
       "    </tr>\n",
       "  </tbody>\n",
       "</table>\n",
       "</div>"
      ],
      "text/plain": [
       "             run_time  imdb_rating  votes  gross_total\n",
       "run_time         1.00         0.29   0.33         0.26\n",
       "imdb_rating      0.29         1.00   0.73         0.13\n",
       "votes            0.33         0.73   1.00         0.46\n",
       "gross_total      0.26         0.13   0.46         1.00"
      ]
     },
     "execution_count": 22,
     "metadata": {},
     "output_type": "execute_result"
    }
   ],
   "source": [
    "# Let's check the variables correlation\n",
    "movies_corr = movies.corr()\n",
    "movies_corr"
   ]
  },
  {
   "cell_type": "code",
   "execution_count": 29,
   "id": "be132b6b",
   "metadata": {},
   "outputs": [
    {
     "data": {
      "image/png": "[encoded data removed]",
      "text/plain": [
       "<Figure size 720x432 with 2 Axes>"
      ]
     },
     "metadata": {},
     "output_type": "display_data"
    }
   ],
   "source": [
    "sns.heatmap(movies_corr, annot=True, cmap=\"flare\");\n",
    "# The higher correlation is between imdb_rating and votes. The other correlations are very weak"
   ]
  },
  {
   "cell_type": "markdown",
   "id": "fc80c12a",
   "metadata": {},
   "source": [
    "### 4.1 Rating and votes"
   ]
  },
  {
   "cell_type": "code",
   "execution_count": 32,
   "id": "7b169ef9",
   "metadata": {},
   "outputs": [
    {
     "data": {
      "text/html": [
       "<div>\n",
       "<style scoped>\n",
       "    .dataframe tbody tr th:only-of-type {\n",
       "        vertical-align: middle;\n",
       "    }\n",
       "\n",
       "    .dataframe tbody tr th {\n",
       "        vertical-align: top;\n",
       "    }\n",
       "\n",
       "    .dataframe thead th {\n",
       "        text-align: right;\n",
       "    }\n",
       "</style>\n",
       "<table border=\"1\" class=\"dataframe\">\n",
       "  <thead>\n",
       "    <tr style=\"text-align: right;\">\n",
       "      <th></th>\n",
       "      <th>movie_name</th>\n",
       "      <th>year_of_release</th>\n",
       "      <th>category</th>\n",
       "      <th>run_time</th>\n",
       "      <th>genre</th>\n",
       "      <th>imdb_rating</th>\n",
       "      <th>votes</th>\n",
       "      <th>gross_total</th>\n",
       "    </tr>\n",
       "  </thead>\n",
       "  <tbody>\n",
       "    <tr>\n",
       "      <th>3</th>\n",
       "      <td>The Shawshank Redemption</td>\n",
       "      <td>1994-01-01</td>\n",
       "      <td>R</td>\n",
       "      <td>142</td>\n",
       "      <td>Drama</td>\n",
       "      <td>9.3</td>\n",
       "      <td>2683302</td>\n",
       "      <td>28.34</td>\n",
       "    </tr>\n",
       "    <tr>\n",
       "      <th>0</th>\n",
       "      <td>The Godfather</td>\n",
       "      <td>1972-01-01</td>\n",
       "      <td>R</td>\n",
       "      <td>175</td>\n",
       "      <td>Crime, Drama</td>\n",
       "      <td>9.2</td>\n",
       "      <td>1860471</td>\n",
       "      <td>134.97</td>\n",
       "    </tr>\n",
       "    <tr>\n",
       "      <th>10</th>\n",
       "      <td>The Dark Knight</td>\n",
       "      <td>2008-01-01</td>\n",
       "      <td>PG-13</td>\n",
       "      <td>152</td>\n",
       "      <td>Action, Crime, Drama</td>\n",
       "      <td>9.0</td>\n",
       "      <td>2656768</td>\n",
       "      <td>534.86</td>\n",
       "    </tr>\n",
       "    <tr>\n",
       "      <th>8</th>\n",
       "      <td>The Lord of the Rings: The Return of the King</td>\n",
       "      <td>2003-01-01</td>\n",
       "      <td>PG-13</td>\n",
       "      <td>201</td>\n",
       "      <td>Action, Adventure, Drama</td>\n",
       "      <td>9.0</td>\n",
       "      <td>1849082</td>\n",
       "      <td>377.85</td>\n",
       "    </tr>\n",
       "    <tr>\n",
       "      <th>13</th>\n",
       "      <td>Schindler's List</td>\n",
       "      <td>1993-01-01</td>\n",
       "      <td>R</td>\n",
       "      <td>195</td>\n",
       "      <td>Biography, Drama, History</td>\n",
       "      <td>9.0</td>\n",
       "      <td>1357621</td>\n",
       "      <td>96.90</td>\n",
       "    </tr>\n",
       "    <tr>\n",
       "      <th>11</th>\n",
       "      <td>The Godfather: Part II</td>\n",
       "      <td>1974-01-01</td>\n",
       "      <td>R</td>\n",
       "      <td>202</td>\n",
       "      <td>Crime, Drama</td>\n",
       "      <td>9.0</td>\n",
       "      <td>1273349</td>\n",
       "      <td>57.30</td>\n",
       "    </tr>\n",
       "    <tr>\n",
       "      <th>21</th>\n",
       "      <td>12 Angry Men</td>\n",
       "      <td>1957-01-01</td>\n",
       "      <td>Approved</td>\n",
       "      <td>96</td>\n",
       "      <td>Crime, Drama</td>\n",
       "      <td>9.0</td>\n",
       "      <td>792729</td>\n",
       "      <td>4.36</td>\n",
       "    </tr>\n",
       "    <tr>\n",
       "      <th>28</th>\n",
       "      <td>Pulp Fiction</td>\n",
       "      <td>1994-01-01</td>\n",
       "      <td>R</td>\n",
       "      <td>154</td>\n",
       "      <td>Crime, Drama</td>\n",
       "      <td>8.9</td>\n",
       "      <td>2058574</td>\n",
       "      <td>107.93</td>\n",
       "    </tr>\n",
       "    <tr>\n",
       "      <th>14</th>\n",
       "      <td>Inception</td>\n",
       "      <td>2010-01-01</td>\n",
       "      <td>PG-13</td>\n",
       "      <td>148</td>\n",
       "      <td>Action, Adventure, Sci-Fi</td>\n",
       "      <td>8.8</td>\n",
       "      <td>2356293</td>\n",
       "      <td>292.58</td>\n",
       "    </tr>\n",
       "    <tr>\n",
       "      <th>55</th>\n",
       "      <td>Fight Club</td>\n",
       "      <td>1999-01-01</td>\n",
       "      <td>R</td>\n",
       "      <td>139</td>\n",
       "      <td>Drama</td>\n",
       "      <td>8.8</td>\n",
       "      <td>2128902</td>\n",
       "      <td>37.03</td>\n",
       "    </tr>\n",
       "    <tr>\n",
       "      <th>40</th>\n",
       "      <td>Forrest Gump</td>\n",
       "      <td>1994-01-01</td>\n",
       "      <td>PG-13</td>\n",
       "      <td>142</td>\n",
       "      <td>Drama, Romance</td>\n",
       "      <td>8.8</td>\n",
       "      <td>2082477</td>\n",
       "      <td>330.25</td>\n",
       "    </tr>\n",
       "    <tr>\n",
       "      <th>15</th>\n",
       "      <td>The Lord of the Rings: The Fellowship of the Ring</td>\n",
       "      <td>2001-01-01</td>\n",
       "      <td>PG-13</td>\n",
       "      <td>178</td>\n",
       "      <td>Action, Adventure, Drama</td>\n",
       "      <td>8.8</td>\n",
       "      <td>1878557</td>\n",
       "      <td>315.54</td>\n",
       "    </tr>\n",
       "    <tr>\n",
       "      <th>22</th>\n",
       "      <td>The Lord of the Rings: The Two Towers</td>\n",
       "      <td>2002-01-01</td>\n",
       "      <td>PG-13</td>\n",
       "      <td>179</td>\n",
       "      <td>Action, Adventure, Drama</td>\n",
       "      <td>8.8</td>\n",
       "      <td>1669715</td>\n",
       "      <td>342.55</td>\n",
       "    </tr>\n",
       "    <tr>\n",
       "      <th>49</th>\n",
       "      <td>The Good, the Bad and the Ugly</td>\n",
       "      <td>1966-01-01</td>\n",
       "      <td>Approved</td>\n",
       "      <td>178</td>\n",
       "      <td>Adventure, Western</td>\n",
       "      <td>8.8</td>\n",
       "      <td>763678</td>\n",
       "      <td>6.10</td>\n",
       "    </tr>\n",
       "    <tr>\n",
       "      <th>98</th>\n",
       "      <td>The Matrix</td>\n",
       "      <td>1999-01-01</td>\n",
       "      <td>R</td>\n",
       "      <td>136</td>\n",
       "      <td>Action, Sci-Fi</td>\n",
       "      <td>8.7</td>\n",
       "      <td>1916083</td>\n",
       "      <td>171.48</td>\n",
       "    </tr>\n",
       "  </tbody>\n",
       "</table>\n",
       "</div>"
      ],
      "text/plain": [
       "                                           movie_name year_of_release  \\\n",
       "3                            The Shawshank Redemption      1994-01-01   \n",
       "0                                       The Godfather      1972-01-01   \n",
       "10                                    The Dark Knight      2008-01-01   \n",
       "8       The Lord of the Rings: The Return of the King      2003-01-01   \n",
       "13                                   Schindler's List      1993-01-01   \n",
       "11                             The Godfather: Part II      1974-01-01   \n",
       "21                                       12 Angry Men      1957-01-01   \n",
       "28                                       Pulp Fiction      1994-01-01   \n",
       "14                                          Inception      2010-01-01   \n",
       "55                                         Fight Club      1999-01-01   \n",
       "40                                       Forrest Gump      1994-01-01   \n",
       "15  The Lord of the Rings: The Fellowship of the Ring      2001-01-01   \n",
       "22              The Lord of the Rings: The Two Towers      2002-01-01   \n",
       "49                     The Good, the Bad and the Ugly      1966-01-01   \n",
       "98                                         The Matrix      1999-01-01   \n",
       "\n",
       "    category  run_time                      genre  imdb_rating    votes  \\\n",
       "3          R       142                      Drama          9.3  2683302   \n",
       "0          R       175               Crime, Drama          9.2  1860471   \n",
       "10     PG-13       152       Action, Crime, Drama          9.0  2656768   \n",
       "8      PG-13       201   Action, Adventure, Drama          9.0  1849082   \n",
       "13         R       195  Biography, Drama, History          9.0  1357621   \n",
       "11         R       202               Crime, Drama          9.0  1273349   \n",
       "21  Approved        96               Crime, Drama          9.0   792729   \n",
       "28         R       154               Crime, Drama          8.9  2058574   \n",
       "14     PG-13       148  Action, Adventure, Sci-Fi          8.8  2356293   \n",
       "55         R       139                      Drama          8.8  2128902   \n",
       "40     PG-13       142             Drama, Romance          8.8  2082477   \n",
       "15     PG-13       178   Action, Adventure, Drama          8.8  1878557   \n",
       "22     PG-13       179   Action, Adventure, Drama          8.8  1669715   \n",
       "49  Approved       178         Adventure, Western          8.8   763678   \n",
       "98         R       136             Action, Sci-Fi          8.7  1916083   \n",
       "\n",
       "    gross_total  \n",
       "3         28.34  \n",
       "0        134.97  \n",
       "10       534.86  \n",
       "8        377.85  \n",
       "13        96.90  \n",
       "11        57.30  \n",
       "21         4.36  \n",
       "28       107.93  \n",
       "14       292.58  \n",
       "55        37.03  \n",
       "40       330.25  \n",
       "15       315.54  \n",
       "22       342.55  \n",
       "49         6.10  \n",
       "98       171.48  "
      ]
     },
     "execution_count": 32,
     "metadata": {},
     "output_type": "execute_result"
    }
   ],
   "source": [
    "# Let's check the movies by imdb_rating and votes\n",
    "(movies\n",
    "     .sort_values(by=['imdb_rating', 'votes'], \n",
    "                  ascending=False)\n",
    "                 .head(15))"
   ]
  },
  {
   "cell_type": "code",
   "execution_count": 34,
   "id": "6ed0cd9b",
   "metadata": {},
   "outputs": [
    {
     "data": {
      "text/plain": [
       "8.5    13\n",
       "8.2    13\n",
       "8.3    12\n",
       "8.4     9\n",
       "8.1     8\n",
       "8.6     8\n",
       "8.8     6\n",
       "9.0     5\n",
       "8.0     5\n",
       "8.7     4\n",
       "7.8     4\n",
       "7.9     4\n",
       "7.7     3\n",
       "7.2     1\n",
       "9.2     1\n",
       "8.9     1\n",
       "9.3     1\n",
       "7.5     1\n",
       "Name: imdb_rating, dtype: int64"
      ]
     },
     "execution_count": 34,
     "metadata": {},
     "output_type": "execute_result"
    }
   ],
   "source": [
    "# The most common rating are 8.5, 8.2 and 8.3\n",
    "movies['imdb_rating'].value_counts()"
   ]
  },
  {
   "cell_type": "code",
   "execution_count": 38,
   "id": "6d6c6b27",
   "metadata": {},
   "outputs": [
    {
     "data": {
      "text/html": [
       "<div>\n",
       "<style scoped>\n",
       "    .dataframe tbody tr th:only-of-type {\n",
       "        vertical-align: middle;\n",
       "    }\n",
       "\n",
       "    .dataframe tbody tr th {\n",
       "        vertical-align: top;\n",
       "    }\n",
       "\n",
       "    .dataframe thead th {\n",
       "        text-align: right;\n",
       "    }\n",
       "</style>\n",
       "<table border=\"1\" class=\"dataframe\">\n",
       "  <thead>\n",
       "    <tr style=\"text-align: right;\">\n",
       "      <th></th>\n",
       "      <th>movie_name</th>\n",
       "      <th>year_of_release</th>\n",
       "      <th>category</th>\n",
       "      <th>run_time</th>\n",
       "      <th>genre</th>\n",
       "      <th>imdb_rating</th>\n",
       "      <th>votes</th>\n",
       "      <th>gross_total</th>\n",
       "    </tr>\n",
       "  </thead>\n",
       "  <tbody>\n",
       "    <tr>\n",
       "      <th>79</th>\n",
       "      <td>Star Wars: Episode VII - The Force Awakens</td>\n",
       "      <td>2015-01-01</td>\n",
       "      <td>PG-13</td>\n",
       "      <td>138</td>\n",
       "      <td>Action, Adventure, Sci-Fi</td>\n",
       "      <td>7.8</td>\n",
       "      <td>933771</td>\n",
       "      <td>936.66</td>\n",
       "    </tr>\n",
       "    <tr>\n",
       "      <th>10</th>\n",
       "      <td>The Dark Knight</td>\n",
       "      <td>2008-01-01</td>\n",
       "      <td>PG-13</td>\n",
       "      <td>152</td>\n",
       "      <td>Action, Crime, Drama</td>\n",
       "      <td>9.0</td>\n",
       "      <td>2656768</td>\n",
       "      <td>534.86</td>\n",
       "    </tr>\n",
       "    <tr>\n",
       "      <th>78</th>\n",
       "      <td>The Dark Knight Rises</td>\n",
       "      <td>2012-01-01</td>\n",
       "      <td>PG-13</td>\n",
       "      <td>164</td>\n",
       "      <td>Action, Drama</td>\n",
       "      <td>8.4</td>\n",
       "      <td>1708002</td>\n",
       "      <td>448.14</td>\n",
       "    </tr>\n",
       "    <tr>\n",
       "      <th>30</th>\n",
       "      <td>The Lion King</td>\n",
       "      <td>1994-01-01</td>\n",
       "      <td>G</td>\n",
       "      <td>88</td>\n",
       "      <td>Animation, Adventure, Drama</td>\n",
       "      <td>8.5</td>\n",
       "      <td>1060900</td>\n",
       "      <td>422.78</td>\n",
       "    </tr>\n",
       "    <tr>\n",
       "      <th>8</th>\n",
       "      <td>The Lord of the Rings: The Return of the King</td>\n",
       "      <td>2003-01-01</td>\n",
       "      <td>PG-13</td>\n",
       "      <td>201</td>\n",
       "      <td>Action, Adventure, Drama</td>\n",
       "      <td>9.0</td>\n",
       "      <td>1849082</td>\n",
       "      <td>377.85</td>\n",
       "    </tr>\n",
       "    <tr>\n",
       "      <th>22</th>\n",
       "      <td>The Lord of the Rings: The Two Towers</td>\n",
       "      <td>2002-01-01</td>\n",
       "      <td>PG-13</td>\n",
       "      <td>179</td>\n",
       "      <td>Action, Adventure, Drama</td>\n",
       "      <td>8.8</td>\n",
       "      <td>1669715</td>\n",
       "      <td>342.55</td>\n",
       "    </tr>\n",
       "    <tr>\n",
       "      <th>40</th>\n",
       "      <td>Forrest Gump</td>\n",
       "      <td>1994-01-01</td>\n",
       "      <td>PG-13</td>\n",
       "      <td>142</td>\n",
       "      <td>Drama, Romance</td>\n",
       "      <td>8.8</td>\n",
       "      <td>2082477</td>\n",
       "      <td>330.25</td>\n",
       "    </tr>\n",
       "    <tr>\n",
       "      <th>9</th>\n",
       "      <td>Star Wars: Episode IV - A New Hope</td>\n",
       "      <td>1977-01-01</td>\n",
       "      <td>PG</td>\n",
       "      <td>121</td>\n",
       "      <td>Action, Adventure, Fantasy</td>\n",
       "      <td>8.6</td>\n",
       "      <td>1367430</td>\n",
       "      <td>322.74</td>\n",
       "    </tr>\n",
       "    <tr>\n",
       "      <th>15</th>\n",
       "      <td>The Lord of the Rings: The Fellowship of the Ring</td>\n",
       "      <td>2001-01-01</td>\n",
       "      <td>PG-13</td>\n",
       "      <td>178</td>\n",
       "      <td>Action, Adventure, Drama</td>\n",
       "      <td>8.8</td>\n",
       "      <td>1878557</td>\n",
       "      <td>315.54</td>\n",
       "    </tr>\n",
       "    <tr>\n",
       "      <th>24</th>\n",
       "      <td>Star Wars: Episode VI - Return of the Jedi</td>\n",
       "      <td>1983-01-01</td>\n",
       "      <td>PG</td>\n",
       "      <td>131</td>\n",
       "      <td>Action, Adventure, Fantasy</td>\n",
       "      <td>8.3</td>\n",
       "      <td>1056750</td>\n",
       "      <td>309.13</td>\n",
       "    </tr>\n",
       "    <tr>\n",
       "      <th>14</th>\n",
       "      <td>Inception</td>\n",
       "      <td>2010-01-01</td>\n",
       "      <td>PG-13</td>\n",
       "      <td>148</td>\n",
       "      <td>Action, Adventure, Sci-Fi</td>\n",
       "      <td>8.8</td>\n",
       "      <td>2356293</td>\n",
       "      <td>292.58</td>\n",
       "    </tr>\n",
       "    <tr>\n",
       "      <th>2</th>\n",
       "      <td>Star Wars: Episode V - The Empire Strikes Back</td>\n",
       "      <td>1980-01-01</td>\n",
       "      <td>PG</td>\n",
       "      <td>124</td>\n",
       "      <td>Action, Adventure, Fantasy</td>\n",
       "      <td>8.7</td>\n",
       "      <td>1294805</td>\n",
       "      <td>290.48</td>\n",
       "    </tr>\n",
       "    <tr>\n",
       "      <th>80</th>\n",
       "      <td>The Hobbit: The Desolation of Smaug</td>\n",
       "      <td>2013-01-01</td>\n",
       "      <td>PG-13</td>\n",
       "      <td>161</td>\n",
       "      <td>Adventure, Fantasy</td>\n",
       "      <td>7.8</td>\n",
       "      <td>667864</td>\n",
       "      <td>258.37</td>\n",
       "    </tr>\n",
       "    <tr>\n",
       "      <th>7</th>\n",
       "      <td>Indiana Jones and the Raiders of the Lost Ark</td>\n",
       "      <td>1981-01-01</td>\n",
       "      <td>PG</td>\n",
       "      <td>115</td>\n",
       "      <td>Action, Adventure</td>\n",
       "      <td>8.4</td>\n",
       "      <td>969143</td>\n",
       "      <td>248.16</td>\n",
       "    </tr>\n",
       "    <tr>\n",
       "      <th>43</th>\n",
       "      <td>Saving Private Ryan</td>\n",
       "      <td>1998-01-01</td>\n",
       "      <td>R</td>\n",
       "      <td>169</td>\n",
       "      <td>Drama, War</td>\n",
       "      <td>8.6</td>\n",
       "      <td>1394262</td>\n",
       "      <td>216.54</td>\n",
       "    </tr>\n",
       "  </tbody>\n",
       "</table>\n",
       "</div>"
      ],
      "text/plain": [
       "                                           movie_name year_of_release  \\\n",
       "79         Star Wars: Episode VII - The Force Awakens      2015-01-01   \n",
       "10                                    The Dark Knight      2008-01-01   \n",
       "78                              The Dark Knight Rises      2012-01-01   \n",
       "30                                      The Lion King      1994-01-01   \n",
       "8       The Lord of the Rings: The Return of the King      2003-01-01   \n",
       "22              The Lord of the Rings: The Two Towers      2002-01-01   \n",
       "40                                       Forrest Gump      1994-01-01   \n",
       "9                  Star Wars: Episode IV - A New Hope      1977-01-01   \n",
       "15  The Lord of the Rings: The Fellowship of the Ring      2001-01-01   \n",
       "24         Star Wars: Episode VI - Return of the Jedi      1983-01-01   \n",
       "14                                          Inception      2010-01-01   \n",
       "2      Star Wars: Episode V - The Empire Strikes Back      1980-01-01   \n",
       "80                The Hobbit: The Desolation of Smaug      2013-01-01   \n",
       "7       Indiana Jones and the Raiders of the Lost Ark      1981-01-01   \n",
       "43                                Saving Private Ryan      1998-01-01   \n",
       "\n",
       "   category  run_time                        genre  imdb_rating    votes  \\\n",
       "79    PG-13       138    Action, Adventure, Sci-Fi          7.8   933771   \n",
       "10    PG-13       152         Action, Crime, Drama          9.0  2656768   \n",
       "78    PG-13       164                Action, Drama          8.4  1708002   \n",
       "30        G        88  Animation, Adventure, Drama          8.5  1060900   \n",
       "8     PG-13       201     Action, Adventure, Drama          9.0  1849082   \n",
       "22    PG-13       179     Action, Adventure, Drama          8.8  1669715   \n",
       "40    PG-13       142               Drama, Romance          8.8  2082477   \n",
       "9        PG       121   Action, Adventure, Fantasy          8.6  1367430   \n",
       "15    PG-13       178     Action, Adventure, Drama          8.8  1878557   \n",
       "24       PG       131   Action, Adventure, Fantasy          8.3  1056750   \n",
       "14    PG-13       148    Action, Adventure, Sci-Fi          8.8  2356293   \n",
       "2        PG       124   Action, Adventure, Fantasy          8.7  1294805   \n",
       "80    PG-13       161           Adventure, Fantasy          7.8   667864   \n",
       "7        PG       115            Action, Adventure          8.4   969143   \n",
       "43        R       169                   Drama, War          8.6  1394262   \n",
       "\n",
       "    gross_total  \n",
       "79       936.66  \n",
       "10       534.86  \n",
       "78       448.14  \n",
       "30       422.78  \n",
       "8        377.85  \n",
       "22       342.55  \n",
       "40       330.25  \n",
       "9        322.74  \n",
       "15       315.54  \n",
       "24       309.13  \n",
       "14       292.58  \n",
       "2        290.48  \n",
       "80       258.37  \n",
       "7        248.16  \n",
       "43       216.54  "
      ]
     },
     "execution_count": 38,
     "metadata": {},
     "output_type": "execute_result"
    }
   ],
   "source": [
    "# There is an interesting information about gross total. It seems that not the best rating movies have a \n",
    "# big gross total\n",
    "movies.sort_values(by='gross_total', ascending=False).head(15)"
   ]
  },
  {
   "cell_type": "code",
   "execution_count": 48,
   "id": "95f8a7b2",
   "metadata": {},
   "outputs": [
    {
     "data": {
      "text/plain": [
       "8.527777777777779"
      ]
     },
     "execution_count": 48,
     "metadata": {},
     "output_type": "execute_result"
    }
   ],
   "source": [
    "# Now we can calculate the mean of rating for the movies with a gross total higher than 200.0 millions\n",
    "movies.query('gross_total > 200.0')['imdb_rating'].mean()"
   ]
  },
  {
   "cell_type": "markdown",
   "id": "e016976a",
   "metadata": {},
   "source": [
    "### 4.2 Movies Category"
   ]
  },
  {
   "cell_type": "code",
   "execution_count": 50,
   "id": "7be5017b",
   "metadata": {},
   "outputs": [
    {
     "data": {
      "image/png": "[encoded data removed]",
      "text/plain": [
       "<Figure size 360x360 with 1 Axes>"
      ]
     },
     "metadata": {},
     "output_type": "display_data"
    }
   ],
   "source": [
    "# Let's see what happen with the movies category\n",
    "# Most of the movies are in the R category\n",
    "sns.catplot(data=movies, \n",
    "            y='category', \n",
    "            kind='count',\n",
    "           order=movies['category'].value_counts().index);"
   ]
  },
  {
   "cell_type": "code",
   "execution_count": 56,
   "id": "e65c8774",
   "metadata": {},
   "outputs": [
    {
     "data": {
      "text/html": [
       "<div>\n",
       "<style scoped>\n",
       "    .dataframe tbody tr th:only-of-type {\n",
       "        vertical-align: middle;\n",
       "    }\n",
       "\n",
       "    .dataframe tbody tr th {\n",
       "        vertical-align: top;\n",
       "    }\n",
       "\n",
       "    .dataframe thead th {\n",
       "        text-align: right;\n",
       "    }\n",
       "</style>\n",
       "<table border=\"1\" class=\"dataframe\">\n",
       "  <thead>\n",
       "    <tr style=\"text-align: right;\">\n",
       "      <th></th>\n",
       "      <th>movie_name</th>\n",
       "      <th>year_of_release</th>\n",
       "      <th>category</th>\n",
       "      <th>run_time</th>\n",
       "      <th>genre</th>\n",
       "      <th>imdb_rating</th>\n",
       "      <th>votes</th>\n",
       "      <th>gross_total</th>\n",
       "    </tr>\n",
       "  </thead>\n",
       "  <tbody>\n",
       "    <tr>\n",
       "      <th>3</th>\n",
       "      <td>The Shawshank Redemption</td>\n",
       "      <td>1994-01-01</td>\n",
       "      <td>R</td>\n",
       "      <td>142</td>\n",
       "      <td>Drama</td>\n",
       "      <td>9.3</td>\n",
       "      <td>2683302</td>\n",
       "      <td>28.34</td>\n",
       "    </tr>\n",
       "    <tr>\n",
       "      <th>0</th>\n",
       "      <td>The Godfather</td>\n",
       "      <td>1972-01-01</td>\n",
       "      <td>R</td>\n",
       "      <td>175</td>\n",
       "      <td>Crime, Drama</td>\n",
       "      <td>9.2</td>\n",
       "      <td>1860471</td>\n",
       "      <td>134.97</td>\n",
       "    </tr>\n",
       "    <tr>\n",
       "      <th>13</th>\n",
       "      <td>Schindler's List</td>\n",
       "      <td>1993-01-01</td>\n",
       "      <td>R</td>\n",
       "      <td>195</td>\n",
       "      <td>Biography, Drama, History</td>\n",
       "      <td>9.0</td>\n",
       "      <td>1357621</td>\n",
       "      <td>96.90</td>\n",
       "    </tr>\n",
       "    <tr>\n",
       "      <th>11</th>\n",
       "      <td>The Godfather: Part II</td>\n",
       "      <td>1974-01-01</td>\n",
       "      <td>R</td>\n",
       "      <td>202</td>\n",
       "      <td>Crime, Drama</td>\n",
       "      <td>9.0</td>\n",
       "      <td>1273349</td>\n",
       "      <td>57.30</td>\n",
       "    </tr>\n",
       "    <tr>\n",
       "      <th>28</th>\n",
       "      <td>Pulp Fiction</td>\n",
       "      <td>1994-01-01</td>\n",
       "      <td>R</td>\n",
       "      <td>154</td>\n",
       "      <td>Crime, Drama</td>\n",
       "      <td>8.9</td>\n",
       "      <td>2058574</td>\n",
       "      <td>107.93</td>\n",
       "    </tr>\n",
       "    <tr>\n",
       "      <th>55</th>\n",
       "      <td>Fight Club</td>\n",
       "      <td>1999-01-01</td>\n",
       "      <td>R</td>\n",
       "      <td>139</td>\n",
       "      <td>Drama</td>\n",
       "      <td>8.8</td>\n",
       "      <td>2128902</td>\n",
       "      <td>37.03</td>\n",
       "    </tr>\n",
       "    <tr>\n",
       "      <th>36</th>\n",
       "      <td>Goodfellas</td>\n",
       "      <td>1990-01-01</td>\n",
       "      <td>R</td>\n",
       "      <td>145</td>\n",
       "      <td>Biography, Crime, Drama</td>\n",
       "      <td>8.7</td>\n",
       "      <td>1164128</td>\n",
       "      <td>46.84</td>\n",
       "    </tr>\n",
       "    <tr>\n",
       "      <th>98</th>\n",
       "      <td>The Matrix</td>\n",
       "      <td>1999-01-01</td>\n",
       "      <td>R</td>\n",
       "      <td>136</td>\n",
       "      <td>Action, Sci-Fi</td>\n",
       "      <td>8.7</td>\n",
       "      <td>1916083</td>\n",
       "      <td>171.48</td>\n",
       "    </tr>\n",
       "    <tr>\n",
       "      <th>6</th>\n",
       "      <td>One Flew Over the Cuckoo's Nest</td>\n",
       "      <td>1975-01-01</td>\n",
       "      <td>R</td>\n",
       "      <td>133</td>\n",
       "      <td>Drama</td>\n",
       "      <td>8.7</td>\n",
       "      <td>1010102</td>\n",
       "      <td>112.00</td>\n",
       "    </tr>\n",
       "    <tr>\n",
       "      <th>1</th>\n",
       "      <td>The Silence of the Lambs</td>\n",
       "      <td>1991-01-01</td>\n",
       "      <td>R</td>\n",
       "      <td>118</td>\n",
       "      <td>Crime, Drama, Thriller</td>\n",
       "      <td>8.6</td>\n",
       "      <td>1435344</td>\n",
       "      <td>130.74</td>\n",
       "    </tr>\n",
       "  </tbody>\n",
       "</table>\n",
       "</div>"
      ],
      "text/plain": [
       "                         movie_name year_of_release category  run_time  \\\n",
       "3          The Shawshank Redemption      1994-01-01        R       142   \n",
       "0                     The Godfather      1972-01-01        R       175   \n",
       "13                 Schindler's List      1993-01-01        R       195   \n",
       "11           The Godfather: Part II      1974-01-01        R       202   \n",
       "28                     Pulp Fiction      1994-01-01        R       154   \n",
       "55                       Fight Club      1999-01-01        R       139   \n",
       "36                       Goodfellas      1990-01-01        R       145   \n",
       "98                       The Matrix      1999-01-01        R       136   \n",
       "6   One Flew Over the Cuckoo's Nest      1975-01-01        R       133   \n",
       "1          The Silence of the Lambs      1991-01-01        R       118   \n",
       "\n",
       "                        genre  imdb_rating    votes  gross_total  \n",
       "3                       Drama          9.3  2683302        28.34  \n",
       "0                Crime, Drama          9.2  1860471       134.97  \n",
       "13  Biography, Drama, History          9.0  1357621        96.90  \n",
       "11               Crime, Drama          9.0  1273349        57.30  \n",
       "28               Crime, Drama          8.9  2058574       107.93  \n",
       "55                      Drama          8.8  2128902        37.03  \n",
       "36    Biography, Crime, Drama          8.7  1164128        46.84  \n",
       "98             Action, Sci-Fi          8.7  1916083       171.48  \n",
       "6                       Drama          8.7  1010102       112.00  \n",
       "1      Crime, Drama, Thriller          8.6  1435344       130.74  "
      ]
     },
     "execution_count": 56,
     "metadata": {},
     "output_type": "execute_result"
    }
   ],
   "source": [
    "# It seems that movies with R category have good ratings\n",
    "(movies[movies['category'] == \"R\"]\n",
    "     .sort_values(by='imdb_rating', \n",
    "                  ascending=False)\n",
    "     .head(10))"
   ]
  },
  {
   "cell_type": "code",
   "execution_count": 65,
   "id": "60f52907",
   "metadata": {},
   "outputs": [
    {
     "data": {
      "text/html": [
       "<div>\n",
       "<style scoped>\n",
       "    .dataframe tbody tr th:only-of-type {\n",
       "        vertical-align: middle;\n",
       "    }\n",
       "\n",
       "    .dataframe tbody tr th {\n",
       "        vertical-align: top;\n",
       "    }\n",
       "\n",
       "    .dataframe thead th {\n",
       "        text-align: right;\n",
       "    }\n",
       "</style>\n",
       "<table border=\"1\" class=\"dataframe\">\n",
       "  <thead>\n",
       "    <tr style=\"text-align: right;\">\n",
       "      <th></th>\n",
       "      <th>run_time</th>\n",
       "      <th>imdb_rating</th>\n",
       "      <th>votes</th>\n",
       "      <th>gross_total</th>\n",
       "    </tr>\n",
       "    <tr>\n",
       "      <th>category</th>\n",
       "      <th></th>\n",
       "      <th></th>\n",
       "      <th></th>\n",
       "      <th></th>\n",
       "    </tr>\n",
       "  </thead>\n",
       "  <tbody>\n",
       "    <tr>\n",
       "      <th>Approved</th>\n",
       "      <td>125.75</td>\n",
       "      <td>8.55</td>\n",
       "      <td>5.15e+05</td>\n",
       "      <td>6.05</td>\n",
       "    </tr>\n",
       "    <tr>\n",
       "      <th>PG-13</th>\n",
       "      <td>149.12</td>\n",
       "      <td>8.42</td>\n",
       "      <td>1.37e+06</td>\n",
       "      <td>293.59</td>\n",
       "    </tr>\n",
       "    <tr>\n",
       "      <th>PG</th>\n",
       "      <td>123.27</td>\n",
       "      <td>8.38</td>\n",
       "      <td>7.88e+05</td>\n",
       "      <td>144.87</td>\n",
       "    </tr>\n",
       "    <tr>\n",
       "      <th>G</th>\n",
       "      <td>104.17</td>\n",
       "      <td>8.37</td>\n",
       "      <td>5.25e+05</td>\n",
       "      <td>115.86</td>\n",
       "    </tr>\n",
       "    <tr>\n",
       "      <th>R</th>\n",
       "      <td>134.02</td>\n",
       "      <td>8.33</td>\n",
       "      <td>9.64e+05</td>\n",
       "      <td>73.41</td>\n",
       "    </tr>\n",
       "    <tr>\n",
       "      <th>GP</th>\n",
       "      <td>127.00</td>\n",
       "      <td>8.10</td>\n",
       "      <td>1.79e+05</td>\n",
       "      <td>16.22</td>\n",
       "    </tr>\n",
       "    <tr>\n",
       "      <th>Passed</th>\n",
       "      <td>153.00</td>\n",
       "      <td>8.07</td>\n",
       "      <td>2.07e+05</td>\n",
       "      <td>111.84</td>\n",
       "    </tr>\n",
       "  </tbody>\n",
       "</table>\n",
       "</div>"
      ],
      "text/plain": [
       "          run_time  imdb_rating     votes  gross_total\n",
       "category                                              \n",
       "Approved    125.75         8.55  5.15e+05         6.05\n",
       "PG-13       149.12         8.42  1.37e+06       293.59\n",
       "PG          123.27         8.38  7.88e+05       144.87\n",
       "G           104.17         8.37  5.25e+05       115.86\n",
       "R           134.02         8.33  9.64e+05        73.41\n",
       "GP          127.00         8.10  1.79e+05        16.22\n",
       "Passed      153.00         8.07  2.07e+05       111.84"
      ]
     },
     "execution_count": 65,
     "metadata": {},
     "output_type": "execute_result"
    }
   ],
   "source": [
    "# To be sure, we can calculte the mean of all categories\n",
    "# and the data shows that Approved category has the higher mean rating\n",
    "(movies\n",
    "     .groupby('category')\n",
    "     .mean()\n",
    "     .sort_values(by='imdb_rating', \n",
    "                  ascending=False))"
   ]
  },
  {
   "cell_type": "markdown",
   "id": "e9dc94d9",
   "metadata": {},
   "source": [
    "### 4.3 Movies run time"
   ]
  },
  {
   "cell_type": "code",
   "execution_count": 68,
   "id": "927ea034",
   "metadata": {
    "scrolled": true
   },
   "outputs": [
    {
     "data": {
      "text/html": [
       "<div>\n",
       "<style scoped>\n",
       "    .dataframe tbody tr th:only-of-type {\n",
       "        vertical-align: middle;\n",
       "    }\n",
       "\n",
       "    .dataframe tbody tr th {\n",
       "        vertical-align: top;\n",
       "    }\n",
       "\n",
       "    .dataframe thead th {\n",
       "        text-align: right;\n",
       "    }\n",
       "</style>\n",
       "<table border=\"1\" class=\"dataframe\">\n",
       "  <thead>\n",
       "    <tr style=\"text-align: right;\">\n",
       "      <th></th>\n",
       "      <th>movie_name</th>\n",
       "      <th>year_of_release</th>\n",
       "      <th>category</th>\n",
       "      <th>run_time</th>\n",
       "      <th>genre</th>\n",
       "      <th>imdb_rating</th>\n",
       "      <th>votes</th>\n",
       "      <th>gross_total</th>\n",
       "    </tr>\n",
       "  </thead>\n",
       "  <tbody>\n",
       "    <tr>\n",
       "      <th>26</th>\n",
       "      <td>Gone with the Wind</td>\n",
       "      <td>1939-01-01</td>\n",
       "      <td>Passed</td>\n",
       "      <td>238</td>\n",
       "      <td>Drama, Romance, War</td>\n",
       "      <td>8.2</td>\n",
       "      <td>317621</td>\n",
       "      <td>198.68</td>\n",
       "    </tr>\n",
       "    <tr>\n",
       "      <th>11</th>\n",
       "      <td>The Godfather: Part II</td>\n",
       "      <td>1974-01-01</td>\n",
       "      <td>R</td>\n",
       "      <td>202</td>\n",
       "      <td>Crime, Drama</td>\n",
       "      <td>9.0</td>\n",
       "      <td>1273349</td>\n",
       "      <td>57.30</td>\n",
       "    </tr>\n",
       "    <tr>\n",
       "      <th>8</th>\n",
       "      <td>The Lord of the Rings: The Return of the King</td>\n",
       "      <td>2003-01-01</td>\n",
       "      <td>PG-13</td>\n",
       "      <td>201</td>\n",
       "      <td>Action, Adventure, Drama</td>\n",
       "      <td>9.0</td>\n",
       "      <td>1849082</td>\n",
       "      <td>377.85</td>\n",
       "    </tr>\n",
       "    <tr>\n",
       "      <th>13</th>\n",
       "      <td>Schindler's List</td>\n",
       "      <td>1993-01-01</td>\n",
       "      <td>R</td>\n",
       "      <td>195</td>\n",
       "      <td>Biography, Drama, History</td>\n",
       "      <td>9.0</td>\n",
       "      <td>1357621</td>\n",
       "      <td>96.90</td>\n",
       "    </tr>\n",
       "    <tr>\n",
       "      <th>77</th>\n",
       "      <td>Magnolia</td>\n",
       "      <td>1999-01-01</td>\n",
       "      <td>R</td>\n",
       "      <td>188</td>\n",
       "      <td>Drama</td>\n",
       "      <td>8.0</td>\n",
       "      <td>315037</td>\n",
       "      <td>22.46</td>\n",
       "    </tr>\n",
       "    <tr>\n",
       "      <th>22</th>\n",
       "      <td>The Lord of the Rings: The Two Towers</td>\n",
       "      <td>2002-01-01</td>\n",
       "      <td>PG-13</td>\n",
       "      <td>179</td>\n",
       "      <td>Action, Adventure, Drama</td>\n",
       "      <td>8.8</td>\n",
       "      <td>1669715</td>\n",
       "      <td>342.55</td>\n",
       "    </tr>\n",
       "    <tr>\n",
       "      <th>49</th>\n",
       "      <td>The Good, the Bad and the Ugly</td>\n",
       "      <td>1966-01-01</td>\n",
       "      <td>Approved</td>\n",
       "      <td>178</td>\n",
       "      <td>Adventure, Western</td>\n",
       "      <td>8.8</td>\n",
       "      <td>763678</td>\n",
       "      <td>6.10</td>\n",
       "    </tr>\n",
       "    <tr>\n",
       "      <th>42</th>\n",
       "      <td>Braveheart</td>\n",
       "      <td>1995-01-01</td>\n",
       "      <td>R</td>\n",
       "      <td>178</td>\n",
       "      <td>Biography, Drama, History</td>\n",
       "      <td>8.4</td>\n",
       "      <td>1040416</td>\n",
       "      <td>75.60</td>\n",
       "    </tr>\n",
       "    <tr>\n",
       "      <th>15</th>\n",
       "      <td>The Lord of the Rings: The Fellowship of the Ring</td>\n",
       "      <td>2001-01-01</td>\n",
       "      <td>PG-13</td>\n",
       "      <td>178</td>\n",
       "      <td>Action, Adventure, Drama</td>\n",
       "      <td>8.8</td>\n",
       "      <td>1878557</td>\n",
       "      <td>315.54</td>\n",
       "    </tr>\n",
       "    <tr>\n",
       "      <th>0</th>\n",
       "      <td>The Godfather</td>\n",
       "      <td>1972-01-01</td>\n",
       "      <td>R</td>\n",
       "      <td>175</td>\n",
       "      <td>Crime, Drama</td>\n",
       "      <td>9.2</td>\n",
       "      <td>1860471</td>\n",
       "      <td>134.97</td>\n",
       "    </tr>\n",
       "  </tbody>\n",
       "</table>\n",
       "</div>"
      ],
      "text/plain": [
       "                                           movie_name year_of_release  \\\n",
       "26                                 Gone with the Wind      1939-01-01   \n",
       "11                             The Godfather: Part II      1974-01-01   \n",
       "8       The Lord of the Rings: The Return of the King      2003-01-01   \n",
       "13                                   Schindler's List      1993-01-01   \n",
       "77                                           Magnolia      1999-01-01   \n",
       "22              The Lord of the Rings: The Two Towers      2002-01-01   \n",
       "49                     The Good, the Bad and the Ugly      1966-01-01   \n",
       "42                                         Braveheart      1995-01-01   \n",
       "15  The Lord of the Rings: The Fellowship of the Ring      2001-01-01   \n",
       "0                                       The Godfather      1972-01-01   \n",
       "\n",
       "    category  run_time                      genre  imdb_rating    votes  \\\n",
       "26    Passed       238        Drama, Romance, War          8.2   317621   \n",
       "11         R       202               Crime, Drama          9.0  1273349   \n",
       "8      PG-13       201   Action, Adventure, Drama          9.0  1849082   \n",
       "13         R       195  Biography, Drama, History          9.0  1357621   \n",
       "77         R       188                      Drama          8.0   315037   \n",
       "22     PG-13       179   Action, Adventure, Drama          8.8  1669715   \n",
       "49  Approved       178         Adventure, Western          8.8   763678   \n",
       "42         R       178  Biography, Drama, History          8.4  1040416   \n",
       "15     PG-13       178   Action, Adventure, Drama          8.8  1878557   \n",
       "0          R       175               Crime, Drama          9.2  1860471   \n",
       "\n",
       "    gross_total  \n",
       "26       198.68  \n",
       "11        57.30  \n",
       "8        377.85  \n",
       "13        96.90  \n",
       "77        22.46  \n",
       "22       342.55  \n",
       "49         6.10  \n",
       "42        75.60  \n",
       "15       315.54  \n",
       "0        134.97  "
      ]
     },
     "execution_count": 68,
     "metadata": {},
     "output_type": "execute_result"
    }
   ],
   "source": [
    "# Let's check the movies by run time\n",
    "movies.sort_values(by='run_time', ascending=False).head(10)"
   ]
  },
  {
   "cell_type": "code",
   "execution_count": 71,
   "id": "579496a6",
   "metadata": {},
   "outputs": [
    {
     "data": {
      "text/plain": [
       "movie_name         23\n",
       "year_of_release    23\n",
       "category           23\n",
       "run_time           23\n",
       "genre              23\n",
       "imdb_rating        23\n",
       "votes              23\n",
       "gross_total        23\n",
       "dtype: int64"
      ]
     },
     "execution_count": 71,
     "metadata": {},
     "output_type": "execute_result"
    }
   ],
   "source": [
    "# We can consider a movie as long if it has a duration of more than 150 minutes. \n",
    "# Let's see how many of this type are in the dataset\n",
    "# We have 23 movies\n",
    "movies.query('run_time >= 150').count()"
   ]
  },
  {
   "cell_type": "code",
   "execution_count": 76,
   "id": "b2c6c6ea",
   "metadata": {},
   "outputs": [
    {
     "data": {
      "text/plain": [
       "genre\n",
       "Crime, Drama                  9.03\n",
       "Action, Adventure, Drama      8.87\n",
       "Adventure, Western            8.80\n",
       "Biography, Drama, History     8.70\n",
       "Action, Crime, Drama          8.65\n",
       "Adventure, Drama, Sci-Fi      8.60\n",
       "Drama, War                    8.60\n",
       "Biography, Drama, Music       8.50\n",
       "Crime, Drama, Thriller        8.50\n",
       "Action, Drama                 8.40\n",
       "Drama, Western                8.40\n",
       "Adventure, Drama, War         8.25\n",
       "Drama, Romance, War           8.20\n",
       "Drama                         8.00\n",
       "Adventure, Fantasy            7.80\n",
       "Biography, Drama, Thriller    7.80\n",
       "Name: imdb_rating, dtype: float64"
      ]
     },
     "execution_count": 76,
     "metadata": {},
     "output_type": "execute_result"
    }
   ],
   "source": [
    "# These are the movies and we can check their rating\n",
    "(movies\n",
    "     .query('run_time >= 150')\n",
    "     .groupby('genre')['imdb_rating']\n",
    "     .mean()\n",
    "     .sort_values(ascending=False))"
   ]
  },
  {
   "cell_type": "code",
   "execution_count": 77,
   "id": "7ac1803e",
   "metadata": {
    "scrolled": true
   },
   "outputs": [
    {
     "data": {
      "text/plain": [
       "genre\n",
       "Action, Drama                 448.14\n",
       "Action, Adventure, Drama      345.31\n",
       "Action, Crime, Drama          301.15\n",
       "Adventure, Fantasy            258.37\n",
       "Drama, War                    216.54\n",
       "Drama, Romance, War           198.68\n",
       "Adventure, Drama, Sci-Fi      188.02\n",
       "Drama, Western                162.81\n",
       "Crime, Drama, Thriller        132.38\n",
       "Crime, Drama                  100.07\n",
       "Biography, Drama, History      86.25\n",
       "Adventure, Drama, War          82.72\n",
       "Biography, Drama, Music        32.57\n",
       "Biography, Drama, Thriller     28.97\n",
       "Drama                          22.46\n",
       "Adventure, Western              6.10\n",
       "Name: gross_total, dtype: float64"
      ]
     },
     "execution_count": 77,
     "metadata": {},
     "output_type": "execute_result"
    }
   ],
   "source": [
    "# And their gross total\n",
    "(movies\n",
    "     .query('run_time >= 150')\n",
    "     .groupby('genre')['gross_total']\n",
    "     .mean()\n",
    "     .sort_values(ascending=False))"
   ]
  },
  {
   "cell_type": "code",
   "execution_count": 112,
   "id": "86c2dfdd",
   "metadata": {},
   "outputs": [
    {
     "data": {
      "image/png": "[encoded data removed]",
      "text/plain": [
       "<Figure size 720x432 with 1 Axes>"
      ]
     },
     "metadata": {},
     "output_type": "display_data"
    }
   ],
   "source": [
    "# We can plot the information here\n",
    "(movies\n",
    "     .query('run_time >= 150')\n",
    "     .groupby('genre')['gross_total']\n",
    "     .mean()\n",
    "     .sort_values()\n",
    "     .plot.barh());"
   ]
  },
  {
   "cell_type": "markdown",
   "id": "3f43d9c8",
   "metadata": {},
   "source": [
    "### 4.4 Movies genre"
   ]
  },
  {
   "cell_type": "code",
   "execution_count": 109,
   "id": "18c47995",
   "metadata": {},
   "outputs": [
    {
     "data": {
      "text/plain": [
       "0                   Crime, Drama\n",
       "1         Crime, Drama, Thriller\n",
       "2     Action, Adventure, Fantasy\n",
       "3                          Drama\n",
       "4                  Drama, Horror\n",
       "                 ...            \n",
       "94         Crime, Drama, Mystery\n",
       "95                  Crime, Drama\n",
       "96        Drama, Romance, Sci-Fi\n",
       "97        Comedy, Drama, Romance\n",
       "98                Action, Sci-Fi\n",
       "Name: genre, Length: 99, dtype: object"
      ]
     },
     "execution_count": 109,
     "metadata": {},
     "output_type": "execute_result"
    }
   ],
   "source": [
    "# Let's the movies by genre, this column is quite interesting\n",
    "# Because almost all movies combine a mininum of two types of genres\n",
    "movies['genre']"
   ]
  },
  {
   "cell_type": "code",
   "execution_count": 92,
   "id": "29b7254b",
   "metadata": {},
   "outputs": [
    {
     "data": {
      "text/plain": [
       "99"
      ]
     },
     "execution_count": 92,
     "metadata": {},
     "output_type": "execute_result"
    }
   ],
   "source": [
    "# We have 99 different combinations, and this is not useful for analysis\n",
    "movies['genre'].count()"
   ]
  },
  {
   "cell_type": "code",
   "execution_count": 108,
   "id": "a3278533",
   "metadata": {},
   "outputs": [
    {
     "data": {
      "text/plain": [
       "66"
      ]
     },
     "execution_count": 108,
     "metadata": {},
     "output_type": "execute_result"
    }
   ],
   "source": [
    "# We can count for example how many times appears the Drama genre\n",
    "movies['genre'].str.count('Drama').sum()"
   ]
  },
  {
   "cell_type": "code",
   "execution_count": 100,
   "id": "0804e491",
   "metadata": {},
   "outputs": [
    {
     "data": {
      "text/html": [
       "<div>\n",
       "<style scoped>\n",
       "    .dataframe tbody tr th:only-of-type {\n",
       "        vertical-align: middle;\n",
       "    }\n",
       "\n",
       "    .dataframe tbody tr th {\n",
       "        vertical-align: top;\n",
       "    }\n",
       "\n",
       "    .dataframe thead th {\n",
       "        text-align: right;\n",
       "    }\n",
       "</style>\n",
       "<table border=\"1\" class=\"dataframe\">\n",
       "  <thead>\n",
       "    <tr style=\"text-align: right;\">\n",
       "      <th></th>\n",
       "      <th>movie_name</th>\n",
       "      <th>year_of_release</th>\n",
       "      <th>category</th>\n",
       "      <th>run_time</th>\n",
       "      <th>genre</th>\n",
       "      <th>imdb_rating</th>\n",
       "      <th>votes</th>\n",
       "      <th>gross_total</th>\n",
       "    </tr>\n",
       "  </thead>\n",
       "  <tbody>\n",
       "    <tr>\n",
       "      <th>0</th>\n",
       "      <td>The Godfather</td>\n",
       "      <td>1972-01-01</td>\n",
       "      <td>R</td>\n",
       "      <td>175</td>\n",
       "      <td>Crime, Drama</td>\n",
       "      <td>9.2</td>\n",
       "      <td>1860471</td>\n",
       "      <td>134.97</td>\n",
       "    </tr>\n",
       "    <tr>\n",
       "      <th>1</th>\n",
       "      <td>The Silence of the Lambs</td>\n",
       "      <td>1991-01-01</td>\n",
       "      <td>R</td>\n",
       "      <td>118</td>\n",
       "      <td>Crime, Drama, Thriller</td>\n",
       "      <td>8.6</td>\n",
       "      <td>1435344</td>\n",
       "      <td>130.74</td>\n",
       "    </tr>\n",
       "    <tr>\n",
       "      <th>3</th>\n",
       "      <td>The Shawshank Redemption</td>\n",
       "      <td>1994-01-01</td>\n",
       "      <td>R</td>\n",
       "      <td>142</td>\n",
       "      <td>Drama</td>\n",
       "      <td>9.3</td>\n",
       "      <td>2683302</td>\n",
       "      <td>28.34</td>\n",
       "    </tr>\n",
       "    <tr>\n",
       "      <th>4</th>\n",
       "      <td>The Shining</td>\n",
       "      <td>1980-01-01</td>\n",
       "      <td>R</td>\n",
       "      <td>146</td>\n",
       "      <td>Drama, Horror</td>\n",
       "      <td>8.4</td>\n",
       "      <td>1025560</td>\n",
       "      <td>44.02</td>\n",
       "    </tr>\n",
       "    <tr>\n",
       "      <th>5</th>\n",
       "      <td>Casablanca</td>\n",
       "      <td>1942-01-01</td>\n",
       "      <td>PG</td>\n",
       "      <td>102</td>\n",
       "      <td>Drama, Romance, War</td>\n",
       "      <td>8.5</td>\n",
       "      <td>574092</td>\n",
       "      <td>1.02</td>\n",
       "    </tr>\n",
       "    <tr>\n",
       "      <th>...</th>\n",
       "      <td>...</td>\n",
       "      <td>...</td>\n",
       "      <td>...</td>\n",
       "      <td>...</td>\n",
       "      <td>...</td>\n",
       "      <td>...</td>\n",
       "      <td>...</td>\n",
       "      <td>...</td>\n",
       "    </tr>\n",
       "    <tr>\n",
       "      <th>93</th>\n",
       "      <td>Heat</td>\n",
       "      <td>1995-01-01</td>\n",
       "      <td>R</td>\n",
       "      <td>170</td>\n",
       "      <td>Action, Crime, Drama</td>\n",
       "      <td>8.3</td>\n",
       "      <td>658033</td>\n",
       "      <td>67.44</td>\n",
       "    </tr>\n",
       "    <tr>\n",
       "      <th>94</th>\n",
       "      <td>The Usual Suspects</td>\n",
       "      <td>1995-01-01</td>\n",
       "      <td>R</td>\n",
       "      <td>106</td>\n",
       "      <td>Crime, Drama, Mystery</td>\n",
       "      <td>8.5</td>\n",
       "      <td>1087832</td>\n",
       "      <td>23.34</td>\n",
       "    </tr>\n",
       "    <tr>\n",
       "      <th>95</th>\n",
       "      <td>Cool Hand Luke</td>\n",
       "      <td>1967-01-01</td>\n",
       "      <td>GP</td>\n",
       "      <td>127</td>\n",
       "      <td>Crime, Drama</td>\n",
       "      <td>8.1</td>\n",
       "      <td>178888</td>\n",
       "      <td>16.22</td>\n",
       "    </tr>\n",
       "    <tr>\n",
       "      <th>96</th>\n",
       "      <td>Eternal Sunshine of the Spotless Mind</td>\n",
       "      <td>2004-01-01</td>\n",
       "      <td>R</td>\n",
       "      <td>108</td>\n",
       "      <td>Drama, Romance, Sci-Fi</td>\n",
       "      <td>8.3</td>\n",
       "      <td>1011004</td>\n",
       "      <td>34.40</td>\n",
       "    </tr>\n",
       "    <tr>\n",
       "      <th>97</th>\n",
       "      <td>City Lights</td>\n",
       "      <td>1931-01-01</td>\n",
       "      <td>G</td>\n",
       "      <td>87</td>\n",
       "      <td>Comedy, Drama, Romance</td>\n",
       "      <td>8.5</td>\n",
       "      <td>186059</td>\n",
       "      <td>0.02</td>\n",
       "    </tr>\n",
       "  </tbody>\n",
       "</table>\n",
       "<p>66 rows × 8 columns</p>\n",
       "</div>"
      ],
      "text/plain": [
       "                               movie_name year_of_release category  run_time  \\\n",
       "0                           The Godfather      1972-01-01        R       175   \n",
       "1                The Silence of the Lambs      1991-01-01        R       118   \n",
       "3                The Shawshank Redemption      1994-01-01        R       142   \n",
       "4                             The Shining      1980-01-01        R       146   \n",
       "5                              Casablanca      1942-01-01       PG       102   \n",
       "..                                    ...             ...      ...       ...   \n",
       "93                                   Heat      1995-01-01        R       170   \n",
       "94                     The Usual Suspects      1995-01-01        R       106   \n",
       "95                         Cool Hand Luke      1967-01-01       GP       127   \n",
       "96  Eternal Sunshine of the Spotless Mind      2004-01-01        R       108   \n",
       "97                            City Lights      1931-01-01        G        87   \n",
       "\n",
       "                     genre  imdb_rating    votes  gross_total  \n",
       "0             Crime, Drama          9.2  1860471       134.97  \n",
       "1   Crime, Drama, Thriller          8.6  1435344       130.74  \n",
       "3                    Drama          9.3  2683302        28.34  \n",
       "4            Drama, Horror          8.4  1025560        44.02  \n",
       "5      Drama, Romance, War          8.5   574092         1.02  \n",
       "..                     ...          ...      ...          ...  \n",
       "93    Action, Crime, Drama          8.3   658033        67.44  \n",
       "94   Crime, Drama, Mystery          8.5  1087832        23.34  \n",
       "95            Crime, Drama          8.1   178888        16.22  \n",
       "96  Drama, Romance, Sci-Fi          8.3  1011004        34.40  \n",
       "97  Comedy, Drama, Romance          8.5   186059         0.02  \n",
       "\n",
       "[66 rows x 8 columns]"
      ]
     },
     "execution_count": 100,
     "metadata": {},
     "output_type": "execute_result"
    }
   ],
   "source": [
    "# A better approach could be use the function str.contains() with the specific genre\n",
    "# This allows to see all the rows where the Drama genre appears\n",
    "movies[movies['genre'].str.contains('Drama')]"
   ]
  },
  {
   "cell_type": "code",
   "execution_count": 114,
   "id": "ca2ee524",
   "metadata": {},
   "outputs": [
    {
     "data": {
      "text/html": [
       "<div>\n",
       "<style scoped>\n",
       "    .dataframe tbody tr th:only-of-type {\n",
       "        vertical-align: middle;\n",
       "    }\n",
       "\n",
       "    .dataframe tbody tr th {\n",
       "        vertical-align: top;\n",
       "    }\n",
       "\n",
       "    .dataframe thead th {\n",
       "        text-align: right;\n",
       "    }\n",
       "</style>\n",
       "<table border=\"1\" class=\"dataframe\">\n",
       "  <thead>\n",
       "    <tr style=\"text-align: right;\">\n",
       "      <th></th>\n",
       "      <th>movie_name</th>\n",
       "      <th>year_of_release</th>\n",
       "      <th>category</th>\n",
       "      <th>run_time</th>\n",
       "      <th>genre</th>\n",
       "      <th>imdb_rating</th>\n",
       "      <th>votes</th>\n",
       "      <th>gross_total</th>\n",
       "    </tr>\n",
       "  </thead>\n",
       "  <tbody>\n",
       "    <tr>\n",
       "      <th>0</th>\n",
       "      <td>The Godfather</td>\n",
       "      <td>1972-01-01</td>\n",
       "      <td>R</td>\n",
       "      <td>175</td>\n",
       "      <td>Crime, Drama</td>\n",
       "      <td>9.2</td>\n",
       "      <td>1860471</td>\n",
       "      <td>134.97</td>\n",
       "    </tr>\n",
       "    <tr>\n",
       "      <th>1</th>\n",
       "      <td>The Silence of the Lambs</td>\n",
       "      <td>1991-01-01</td>\n",
       "      <td>R</td>\n",
       "      <td>118</td>\n",
       "      <td>Crime, Drama, Thriller</td>\n",
       "      <td>8.6</td>\n",
       "      <td>1435344</td>\n",
       "      <td>130.74</td>\n",
       "    </tr>\n",
       "    <tr>\n",
       "      <th>2</th>\n",
       "      <td>Star Wars: Episode V - The Empire Strikes Back</td>\n",
       "      <td>1980-01-01</td>\n",
       "      <td>PG</td>\n",
       "      <td>124</td>\n",
       "      <td>Action, Adventure, Fantasy</td>\n",
       "      <td>8.7</td>\n",
       "      <td>1294805</td>\n",
       "      <td>290.48</td>\n",
       "    </tr>\n",
       "    <tr>\n",
       "      <th>3</th>\n",
       "      <td>The Shawshank Redemption</td>\n",
       "      <td>1994-01-01</td>\n",
       "      <td>R</td>\n",
       "      <td>142</td>\n",
       "      <td>Drama</td>\n",
       "      <td>9.3</td>\n",
       "      <td>2683302</td>\n",
       "      <td>28.34</td>\n",
       "    </tr>\n",
       "    <tr>\n",
       "      <th>4</th>\n",
       "      <td>The Shining</td>\n",
       "      <td>1980-01-01</td>\n",
       "      <td>R</td>\n",
       "      <td>146</td>\n",
       "      <td>Drama, Horror</td>\n",
       "      <td>8.4</td>\n",
       "      <td>1025560</td>\n",
       "      <td>44.02</td>\n",
       "    </tr>\n",
       "    <tr>\n",
       "      <th>...</th>\n",
       "      <td>...</td>\n",
       "      <td>...</td>\n",
       "      <td>...</td>\n",
       "      <td>...</td>\n",
       "      <td>...</td>\n",
       "      <td>...</td>\n",
       "      <td>...</td>\n",
       "      <td>...</td>\n",
       "    </tr>\n",
       "    <tr>\n",
       "      <th>94</th>\n",
       "      <td>The Usual Suspects</td>\n",
       "      <td>1995-01-01</td>\n",
       "      <td>R</td>\n",
       "      <td>106</td>\n",
       "      <td>Crime, Drama, Mystery</td>\n",
       "      <td>8.5</td>\n",
       "      <td>1087832</td>\n",
       "      <td>23.34</td>\n",
       "    </tr>\n",
       "    <tr>\n",
       "      <th>95</th>\n",
       "      <td>Cool Hand Luke</td>\n",
       "      <td>1967-01-01</td>\n",
       "      <td>GP</td>\n",
       "      <td>127</td>\n",
       "      <td>Crime, Drama</td>\n",
       "      <td>8.1</td>\n",
       "      <td>178888</td>\n",
       "      <td>16.22</td>\n",
       "    </tr>\n",
       "    <tr>\n",
       "      <th>96</th>\n",
       "      <td>Eternal Sunshine of the Spotless Mind</td>\n",
       "      <td>2004-01-01</td>\n",
       "      <td>R</td>\n",
       "      <td>108</td>\n",
       "      <td>Drama, Romance, Sci-Fi</td>\n",
       "      <td>8.3</td>\n",
       "      <td>1011004</td>\n",
       "      <td>34.40</td>\n",
       "    </tr>\n",
       "    <tr>\n",
       "      <th>97</th>\n",
       "      <td>City Lights</td>\n",
       "      <td>1931-01-01</td>\n",
       "      <td>G</td>\n",
       "      <td>87</td>\n",
       "      <td>Comedy, Drama, Romance</td>\n",
       "      <td>8.5</td>\n",
       "      <td>186059</td>\n",
       "      <td>0.02</td>\n",
       "    </tr>\n",
       "    <tr>\n",
       "      <th>98</th>\n",
       "      <td>The Matrix</td>\n",
       "      <td>1999-01-01</td>\n",
       "      <td>R</td>\n",
       "      <td>136</td>\n",
       "      <td>Action, Sci-Fi</td>\n",
       "      <td>8.7</td>\n",
       "      <td>1916083</td>\n",
       "      <td>171.48</td>\n",
       "    </tr>\n",
       "  </tbody>\n",
       "</table>\n",
       "<p>87 rows × 8 columns</p>\n",
       "</div>"
      ],
      "text/plain": [
       "                                        movie_name year_of_release category  \\\n",
       "0                                    The Godfather      1972-01-01        R   \n",
       "1                         The Silence of the Lambs      1991-01-01        R   \n",
       "2   Star Wars: Episode V - The Empire Strikes Back      1980-01-01       PG   \n",
       "3                         The Shawshank Redemption      1994-01-01        R   \n",
       "4                                      The Shining      1980-01-01        R   \n",
       "..                                             ...             ...      ...   \n",
       "94                              The Usual Suspects      1995-01-01        R   \n",
       "95                                  Cool Hand Luke      1967-01-01       GP   \n",
       "96           Eternal Sunshine of the Spotless Mind      2004-01-01        R   \n",
       "97                                     City Lights      1931-01-01        G   \n",
       "98                                      The Matrix      1999-01-01        R   \n",
       "\n",
       "    run_time                       genre  imdb_rating    votes  gross_total  \n",
       "0        175                Crime, Drama          9.2  1860471       134.97  \n",
       "1        118      Crime, Drama, Thriller          8.6  1435344       130.74  \n",
       "2        124  Action, Adventure, Fantasy          8.7  1294805       290.48  \n",
       "3        142                       Drama          9.3  2683302        28.34  \n",
       "4        146               Drama, Horror          8.4  1025560        44.02  \n",
       "..       ...                         ...          ...      ...          ...  \n",
       "94       106       Crime, Drama, Mystery          8.5  1087832        23.34  \n",
       "95       127                Crime, Drama          8.1   178888        16.22  \n",
       "96       108      Drama, Romance, Sci-Fi          8.3  1011004        34.40  \n",
       "97        87      Comedy, Drama, Romance          8.5   186059         0.02  \n",
       "98       136              Action, Sci-Fi          8.7  1916083       171.48  \n",
       "\n",
       "[87 rows x 8 columns]"
      ]
     },
     "execution_count": 114,
     "metadata": {},
     "output_type": "execute_result"
    }
   ],
   "source": [
    "# Or maybe we could use three genres: Drama or Action or Adventure\n",
    "movies[movies['genre'].str.contains('Drama|Action|Adventure')]"
   ]
  },
  {
   "cell_type": "code",
   "execution_count": 131,
   "id": "ee7e0404",
   "metadata": {},
   "outputs": [
    {
     "data": {
      "image/png": "[encoded data removed]",
      "text/plain": [
       "<Figure size 720x432 with 1 Axes>"
      ]
     },
     "metadata": {},
     "output_type": "display_data"
    }
   ],
   "source": [
    "# The plot indicates the percentage of movies that contains the genres: Drama|Action|Adventure\n",
    "(movies['genre'].str.contains('Drama|Action|Adventure')\n",
    "                .value_counts(ascending=False, normalize=True)\n",
    "                .rename({True: 'Drama|Action|Adventure', False: 'Others'})\n",
    "                * 100).plot.barh(color='red');"
   ]
  },
  {
   "cell_type": "markdown",
   "id": "dd8d8b53",
   "metadata": {},
   "source": [
    "### 4.5 Cluster Analysis - KMeans"
   ]
  },
  {
   "cell_type": "code",
   "execution_count": 141,
   "id": "3a4afdb1",
   "metadata": {},
   "outputs": [],
   "source": [
    "# Let's perform a cluster analysis to see how data is divided based on numerical variables\n",
    "from sklearn.cluster import KMeans"
   ]
  },
  {
   "cell_type": "code",
   "execution_count": 143,
   "id": "ac8ea58d",
   "metadata": {},
   "outputs": [],
   "source": [
    "# select the variables that you want to use for clustering\n",
    "features = ['run_time', 'imdb_rating', 'votes', 'gross_total']\n",
    "X = movies[features]"
   ]
  },
  {
   "cell_type": "code",
   "execution_count": 144,
   "id": "0b34df0f",
   "metadata": {},
   "outputs": [],
   "source": [
    "# perform k-means clustering with 3 clusters\n",
    "kmeans = KMeans(n_clusters=3, random_state=0).fit(X)\n",
    "\n",
    "# add the cluster labels to your dataset\n",
    "movies['cluster'] = kmeans.labels_"
   ]
  },
  {
   "cell_type": "code",
   "execution_count": 145,
   "id": "e10b2572",
   "metadata": {},
   "outputs": [
    {
     "data": {
      "text/plain": [
       "1    49\n",
       "0    36\n",
       "2    14\n",
       "Name: cluster, dtype: int64"
      ]
     },
     "execution_count": 145,
     "metadata": {},
     "output_type": "execute_result"
    }
   ],
   "source": [
    "#print the number of observations in each cluster\n",
    "movies['cluster'].value_counts()"
   ]
  },
  {
   "cell_type": "code",
   "execution_count": 168,
   "id": "4ae7488e",
   "metadata": {},
   "outputs": [
    {
     "data": {
      "image/png": "[encoded data removed]",
      "text/plain": [
       "<Figure size 720x432 with 1 Axes>"
      ]
     },
     "metadata": {},
     "output_type": "display_data"
    }
   ],
   "source": [
    "movies['cluster'].value_counts().plot.bar();"
   ]
  },
  {
   "cell_type": "code",
   "execution_count": 154,
   "id": "639da0d5",
   "metadata": {},
   "outputs": [
    {
     "data": {
      "text/html": [
       "<div>\n",
       "<style scoped>\n",
       "    .dataframe tbody tr th:only-of-type {\n",
       "        vertical-align: middle;\n",
       "    }\n",
       "\n",
       "    .dataframe tbody tr th {\n",
       "        vertical-align: top;\n",
       "    }\n",
       "\n",
       "    .dataframe thead th {\n",
       "        text-align: right;\n",
       "    }\n",
       "</style>\n",
       "<table border=\"1\" class=\"dataframe\">\n",
       "  <thead>\n",
       "    <tr style=\"text-align: right;\">\n",
       "      <th></th>\n",
       "      <th>movie_name</th>\n",
       "      <th>year_of_release</th>\n",
       "      <th>category</th>\n",
       "      <th>run_time</th>\n",
       "      <th>genre</th>\n",
       "      <th>imdb_rating</th>\n",
       "      <th>votes</th>\n",
       "      <th>gross_total</th>\n",
       "      <th>cluster</th>\n",
       "    </tr>\n",
       "  </thead>\n",
       "  <tbody>\n",
       "    <tr>\n",
       "      <th>0</th>\n",
       "      <td>The Godfather</td>\n",
       "      <td>1972-01-01</td>\n",
       "      <td>R</td>\n",
       "      <td>175</td>\n",
       "      <td>Crime, Drama</td>\n",
       "      <td>9.2</td>\n",
       "      <td>1860471</td>\n",
       "      <td>134.97</td>\n",
       "      <td>2</td>\n",
       "    </tr>\n",
       "    <tr>\n",
       "      <th>3</th>\n",
       "      <td>The Shawshank Redemption</td>\n",
       "      <td>1994-01-01</td>\n",
       "      <td>R</td>\n",
       "      <td>142</td>\n",
       "      <td>Drama</td>\n",
       "      <td>9.3</td>\n",
       "      <td>2683302</td>\n",
       "      <td>28.34</td>\n",
       "      <td>2</td>\n",
       "    </tr>\n",
       "    <tr>\n",
       "      <th>8</th>\n",
       "      <td>The Lord of the Rings: The Return of the King</td>\n",
       "      <td>2003-01-01</td>\n",
       "      <td>PG-13</td>\n",
       "      <td>201</td>\n",
       "      <td>Action, Adventure, Drama</td>\n",
       "      <td>9.0</td>\n",
       "      <td>1849082</td>\n",
       "      <td>377.85</td>\n",
       "      <td>2</td>\n",
       "    </tr>\n",
       "    <tr>\n",
       "      <th>10</th>\n",
       "      <td>The Dark Knight</td>\n",
       "      <td>2008-01-01</td>\n",
       "      <td>PG-13</td>\n",
       "      <td>152</td>\n",
       "      <td>Action, Crime, Drama</td>\n",
       "      <td>9.0</td>\n",
       "      <td>2656768</td>\n",
       "      <td>534.86</td>\n",
       "      <td>2</td>\n",
       "    </tr>\n",
       "    <tr>\n",
       "      <th>14</th>\n",
       "      <td>Inception</td>\n",
       "      <td>2010-01-01</td>\n",
       "      <td>PG-13</td>\n",
       "      <td>148</td>\n",
       "      <td>Action, Adventure, Sci-Fi</td>\n",
       "      <td>8.8</td>\n",
       "      <td>2356293</td>\n",
       "      <td>292.58</td>\n",
       "      <td>2</td>\n",
       "    </tr>\n",
       "    <tr>\n",
       "      <th>15</th>\n",
       "      <td>The Lord of the Rings: The Fellowship of the Ring</td>\n",
       "      <td>2001-01-01</td>\n",
       "      <td>PG-13</td>\n",
       "      <td>178</td>\n",
       "      <td>Action, Adventure, Drama</td>\n",
       "      <td>8.8</td>\n",
       "      <td>1878557</td>\n",
       "      <td>315.54</td>\n",
       "      <td>2</td>\n",
       "    </tr>\n",
       "    <tr>\n",
       "      <th>19</th>\n",
       "      <td>Se7en</td>\n",
       "      <td>1995-01-01</td>\n",
       "      <td>R</td>\n",
       "      <td>127</td>\n",
       "      <td>Crime, Drama, Mystery</td>\n",
       "      <td>8.6</td>\n",
       "      <td>1655745</td>\n",
       "      <td>100.13</td>\n",
       "      <td>2</td>\n",
       "    </tr>\n",
       "    <tr>\n",
       "      <th>22</th>\n",
       "      <td>The Lord of the Rings: The Two Towers</td>\n",
       "      <td>2002-01-01</td>\n",
       "      <td>PG-13</td>\n",
       "      <td>179</td>\n",
       "      <td>Action, Adventure, Drama</td>\n",
       "      <td>8.8</td>\n",
       "      <td>1669715</td>\n",
       "      <td>342.55</td>\n",
       "      <td>2</td>\n",
       "    </tr>\n",
       "    <tr>\n",
       "      <th>28</th>\n",
       "      <td>Pulp Fiction</td>\n",
       "      <td>1994-01-01</td>\n",
       "      <td>R</td>\n",
       "      <td>154</td>\n",
       "      <td>Crime, Drama</td>\n",
       "      <td>8.9</td>\n",
       "      <td>2058574</td>\n",
       "      <td>107.93</td>\n",
       "      <td>2</td>\n",
       "    </tr>\n",
       "    <tr>\n",
       "      <th>40</th>\n",
       "      <td>Forrest Gump</td>\n",
       "      <td>1994-01-01</td>\n",
       "      <td>PG-13</td>\n",
       "      <td>142</td>\n",
       "      <td>Drama, Romance</td>\n",
       "      <td>8.8</td>\n",
       "      <td>2082477</td>\n",
       "      <td>330.25</td>\n",
       "      <td>2</td>\n",
       "    </tr>\n",
       "    <tr>\n",
       "      <th>55</th>\n",
       "      <td>Fight Club</td>\n",
       "      <td>1999-01-01</td>\n",
       "      <td>R</td>\n",
       "      <td>139</td>\n",
       "      <td>Drama</td>\n",
       "      <td>8.8</td>\n",
       "      <td>2128902</td>\n",
       "      <td>37.03</td>\n",
       "      <td>2</td>\n",
       "    </tr>\n",
       "    <tr>\n",
       "      <th>71</th>\n",
       "      <td>Interstellar</td>\n",
       "      <td>2014-01-01</td>\n",
       "      <td>PG-13</td>\n",
       "      <td>169</td>\n",
       "      <td>Adventure, Drama, Sci-Fi</td>\n",
       "      <td>8.6</td>\n",
       "      <td>1835790</td>\n",
       "      <td>188.02</td>\n",
       "      <td>2</td>\n",
       "    </tr>\n",
       "    <tr>\n",
       "      <th>78</th>\n",
       "      <td>The Dark Knight Rises</td>\n",
       "      <td>2012-01-01</td>\n",
       "      <td>PG-13</td>\n",
       "      <td>164</td>\n",
       "      <td>Action, Drama</td>\n",
       "      <td>8.4</td>\n",
       "      <td>1708002</td>\n",
       "      <td>448.14</td>\n",
       "      <td>2</td>\n",
       "    </tr>\n",
       "    <tr>\n",
       "      <th>98</th>\n",
       "      <td>The Matrix</td>\n",
       "      <td>1999-01-01</td>\n",
       "      <td>R</td>\n",
       "      <td>136</td>\n",
       "      <td>Action, Sci-Fi</td>\n",
       "      <td>8.7</td>\n",
       "      <td>1916083</td>\n",
       "      <td>171.48</td>\n",
       "      <td>2</td>\n",
       "    </tr>\n",
       "  </tbody>\n",
       "</table>\n",
       "</div>"
      ],
      "text/plain": [
       "                                           movie_name year_of_release  \\\n",
       "0                                       The Godfather      1972-01-01   \n",
       "3                            The Shawshank Redemption      1994-01-01   \n",
       "8       The Lord of the Rings: The Return of the King      2003-01-01   \n",
       "10                                    The Dark Knight      2008-01-01   \n",
       "14                                          Inception      2010-01-01   \n",
       "15  The Lord of the Rings: The Fellowship of the Ring      2001-01-01   \n",
       "19                                              Se7en      1995-01-01   \n",
       "22              The Lord of the Rings: The Two Towers      2002-01-01   \n",
       "28                                       Pulp Fiction      1994-01-01   \n",
       "40                                       Forrest Gump      1994-01-01   \n",
       "55                                         Fight Club      1999-01-01   \n",
       "71                                       Interstellar      2014-01-01   \n",
       "78                              The Dark Knight Rises      2012-01-01   \n",
       "98                                         The Matrix      1999-01-01   \n",
       "\n",
       "   category  run_time                      genre  imdb_rating    votes  \\\n",
       "0         R       175               Crime, Drama          9.2  1860471   \n",
       "3         R       142                      Drama          9.3  2683302   \n",
       "8     PG-13       201   Action, Adventure, Drama          9.0  1849082   \n",
       "10    PG-13       152       Action, Crime, Drama          9.0  2656768   \n",
       "14    PG-13       148  Action, Adventure, Sci-Fi          8.8  2356293   \n",
       "15    PG-13       178   Action, Adventure, Drama          8.8  1878557   \n",
       "19        R       127      Crime, Drama, Mystery          8.6  1655745   \n",
       "22    PG-13       179   Action, Adventure, Drama          8.8  1669715   \n",
       "28        R       154               Crime, Drama          8.9  2058574   \n",
       "40    PG-13       142             Drama, Romance          8.8  2082477   \n",
       "55        R       139                      Drama          8.8  2128902   \n",
       "71    PG-13       169   Adventure, Drama, Sci-Fi          8.6  1835790   \n",
       "78    PG-13       164              Action, Drama          8.4  1708002   \n",
       "98        R       136             Action, Sci-Fi          8.7  1916083   \n",
       "\n",
       "    gross_total  cluster  \n",
       "0        134.97        2  \n",
       "3         28.34        2  \n",
       "8        377.85        2  \n",
       "10       534.86        2  \n",
       "14       292.58        2  \n",
       "15       315.54        2  \n",
       "19       100.13        2  \n",
       "22       342.55        2  \n",
       "28       107.93        2  \n",
       "40       330.25        2  \n",
       "55        37.03        2  \n",
       "71       188.02        2  \n",
       "78       448.14        2  \n",
       "98       171.48        2  "
      ]
     },
     "execution_count": 154,
     "metadata": {},
     "output_type": "execute_result"
    }
   ],
   "source": [
    "# Let's try to find out which variable defines the cluster\n",
    "movies[movies['cluster'] == 2]"
   ]
  },
  {
   "cell_type": "code",
   "execution_count": 156,
   "id": "d1cca894",
   "metadata": {},
   "outputs": [
    {
     "data": {
      "text/html": [
       "<div>\n",
       "<style scoped>\n",
       "    .dataframe tbody tr th:only-of-type {\n",
       "        vertical-align: middle;\n",
       "    }\n",
       "\n",
       "    .dataframe tbody tr th {\n",
       "        vertical-align: top;\n",
       "    }\n",
       "\n",
       "    .dataframe thead th {\n",
       "        text-align: right;\n",
       "    }\n",
       "</style>\n",
       "<table border=\"1\" class=\"dataframe\">\n",
       "  <thead>\n",
       "    <tr style=\"text-align: right;\">\n",
       "      <th></th>\n",
       "      <th>movie_name</th>\n",
       "      <th>year_of_release</th>\n",
       "      <th>category</th>\n",
       "      <th>run_time</th>\n",
       "      <th>genre</th>\n",
       "      <th>imdb_rating</th>\n",
       "      <th>votes</th>\n",
       "      <th>gross_total</th>\n",
       "      <th>cluster</th>\n",
       "    </tr>\n",
       "  </thead>\n",
       "  <tbody>\n",
       "    <tr>\n",
       "      <th>5</th>\n",
       "      <td>Casablanca</td>\n",
       "      <td>1942-01-01</td>\n",
       "      <td>PG</td>\n",
       "      <td>102</td>\n",
       "      <td>Drama, Romance, War</td>\n",
       "      <td>8.5</td>\n",
       "      <td>574092</td>\n",
       "      <td>1.02</td>\n",
       "      <td>1</td>\n",
       "    </tr>\n",
       "    <tr>\n",
       "      <th>12</th>\n",
       "      <td>Aliens</td>\n",
       "      <td>1986-01-01</td>\n",
       "      <td>R</td>\n",
       "      <td>137</td>\n",
       "      <td>Action, Adventure, Sci-Fi</td>\n",
       "      <td>8.4</td>\n",
       "      <td>720623</td>\n",
       "      <td>85.16</td>\n",
       "      <td>1</td>\n",
       "    </tr>\n",
       "    <tr>\n",
       "      <th>17</th>\n",
       "      <td>Some Like It Hot</td>\n",
       "      <td>1959-01-01</td>\n",
       "      <td>Passed</td>\n",
       "      <td>121</td>\n",
       "      <td>Comedy, Music, Romance</td>\n",
       "      <td>8.2</td>\n",
       "      <td>269346</td>\n",
       "      <td>25.00</td>\n",
       "      <td>1</td>\n",
       "    </tr>\n",
       "    <tr>\n",
       "      <th>18</th>\n",
       "      <td>Blade Runner</td>\n",
       "      <td>1982-01-01</td>\n",
       "      <td>R</td>\n",
       "      <td>117</td>\n",
       "      <td>Action, Drama, Sci-Fi</td>\n",
       "      <td>8.1</td>\n",
       "      <td>773425</td>\n",
       "      <td>32.87</td>\n",
       "      <td>1</td>\n",
       "    </tr>\n",
       "    <tr>\n",
       "      <th>20</th>\n",
       "      <td>Apocalypse Now</td>\n",
       "      <td>1979-01-01</td>\n",
       "      <td>R</td>\n",
       "      <td>147</td>\n",
       "      <td>Drama, Mystery, War</td>\n",
       "      <td>8.5</td>\n",
       "      <td>669994</td>\n",
       "      <td>83.47</td>\n",
       "      <td>1</td>\n",
       "    </tr>\n",
       "    <tr>\n",
       "      <th>21</th>\n",
       "      <td>12 Angry Men</td>\n",
       "      <td>1957-01-01</td>\n",
       "      <td>Approved</td>\n",
       "      <td>96</td>\n",
       "      <td>Crime, Drama</td>\n",
       "      <td>9.0</td>\n",
       "      <td>792729</td>\n",
       "      <td>4.36</td>\n",
       "      <td>1</td>\n",
       "    </tr>\n",
       "    <tr>\n",
       "      <th>26</th>\n",
       "      <td>Gone with the Wind</td>\n",
       "      <td>1939-01-01</td>\n",
       "      <td>Passed</td>\n",
       "      <td>238</td>\n",
       "      <td>Drama, Romance, War</td>\n",
       "      <td>8.2</td>\n",
       "      <td>317621</td>\n",
       "      <td>198.68</td>\n",
       "      <td>1</td>\n",
       "    </tr>\n",
       "    <tr>\n",
       "      <th>29</th>\n",
       "      <td>The Bridge on the River Kwai</td>\n",
       "      <td>1957-01-01</td>\n",
       "      <td>PG</td>\n",
       "      <td>161</td>\n",
       "      <td>Adventure, Drama, War</td>\n",
       "      <td>8.2</td>\n",
       "      <td>222540</td>\n",
       "      <td>44.91</td>\n",
       "      <td>1</td>\n",
       "    </tr>\n",
       "    <tr>\n",
       "      <th>31</th>\n",
       "      <td>North by Northwest</td>\n",
       "      <td>1959-01-01</td>\n",
       "      <td>Approved</td>\n",
       "      <td>136</td>\n",
       "      <td>Action, Adventure, Mystery</td>\n",
       "      <td>8.3</td>\n",
       "      <td>330232</td>\n",
       "      <td>13.28</td>\n",
       "      <td>1</td>\n",
       "    </tr>\n",
       "    <tr>\n",
       "      <th>32</th>\n",
       "      <td>Rear Window</td>\n",
       "      <td>1954-01-01</td>\n",
       "      <td>PG</td>\n",
       "      <td>112</td>\n",
       "      <td>Mystery, Thriller</td>\n",
       "      <td>8.5</td>\n",
       "      <td>493926</td>\n",
       "      <td>36.76</td>\n",
       "      <td>1</td>\n",
       "    </tr>\n",
       "  </tbody>\n",
       "</table>\n",
       "</div>"
      ],
      "text/plain": [
       "                      movie_name year_of_release  category  run_time  \\\n",
       "5                     Casablanca      1942-01-01        PG       102   \n",
       "12                        Aliens      1986-01-01         R       137   \n",
       "17              Some Like It Hot      1959-01-01    Passed       121   \n",
       "18                  Blade Runner      1982-01-01         R       117   \n",
       "20                Apocalypse Now      1979-01-01         R       147   \n",
       "21                  12 Angry Men      1957-01-01  Approved        96   \n",
       "26            Gone with the Wind      1939-01-01    Passed       238   \n",
       "29  The Bridge on the River Kwai      1957-01-01        PG       161   \n",
       "31            North by Northwest      1959-01-01  Approved       136   \n",
       "32                   Rear Window      1954-01-01        PG       112   \n",
       "\n",
       "                         genre  imdb_rating   votes  gross_total  cluster  \n",
       "5          Drama, Romance, War          8.5  574092         1.02        1  \n",
       "12   Action, Adventure, Sci-Fi          8.4  720623        85.16        1  \n",
       "17      Comedy, Music, Romance          8.2  269346        25.00        1  \n",
       "18       Action, Drama, Sci-Fi          8.1  773425        32.87        1  \n",
       "20         Drama, Mystery, War          8.5  669994        83.47        1  \n",
       "21                Crime, Drama          9.0  792729         4.36        1  \n",
       "26         Drama, Romance, War          8.2  317621       198.68        1  \n",
       "29       Adventure, Drama, War          8.2  222540        44.91        1  \n",
       "31  Action, Adventure, Mystery          8.3  330232        13.28        1  \n",
       "32           Mystery, Thriller          8.5  493926        36.76        1  "
      ]
     },
     "execution_count": 156,
     "metadata": {},
     "output_type": "execute_result"
    }
   ],
   "source": [
    "movies[movies['cluster'] == 1].head(10)"
   ]
  },
  {
   "cell_type": "code",
   "execution_count": 157,
   "id": "51288cd5",
   "metadata": {
    "scrolled": true
   },
   "outputs": [
    {
     "data": {
      "text/html": [
       "<div>\n",
       "<style scoped>\n",
       "    .dataframe tbody tr th:only-of-type {\n",
       "        vertical-align: middle;\n",
       "    }\n",
       "\n",
       "    .dataframe tbody tr th {\n",
       "        vertical-align: top;\n",
       "    }\n",
       "\n",
       "    .dataframe thead th {\n",
       "        text-align: right;\n",
       "    }\n",
       "</style>\n",
       "<table border=\"1\" class=\"dataframe\">\n",
       "  <thead>\n",
       "    <tr style=\"text-align: right;\">\n",
       "      <th></th>\n",
       "      <th>movie_name</th>\n",
       "      <th>year_of_release</th>\n",
       "      <th>category</th>\n",
       "      <th>run_time</th>\n",
       "      <th>genre</th>\n",
       "      <th>imdb_rating</th>\n",
       "      <th>votes</th>\n",
       "      <th>gross_total</th>\n",
       "      <th>cluster</th>\n",
       "    </tr>\n",
       "  </thead>\n",
       "  <tbody>\n",
       "    <tr>\n",
       "      <th>1</th>\n",
       "      <td>The Silence of the Lambs</td>\n",
       "      <td>1991-01-01</td>\n",
       "      <td>R</td>\n",
       "      <td>118</td>\n",
       "      <td>Crime, Drama, Thriller</td>\n",
       "      <td>8.6</td>\n",
       "      <td>1435344</td>\n",
       "      <td>130.74</td>\n",
       "      <td>0</td>\n",
       "    </tr>\n",
       "    <tr>\n",
       "      <th>2</th>\n",
       "      <td>Star Wars: Episode V - The Empire Strikes Back</td>\n",
       "      <td>1980-01-01</td>\n",
       "      <td>PG</td>\n",
       "      <td>124</td>\n",
       "      <td>Action, Adventure, Fantasy</td>\n",
       "      <td>8.7</td>\n",
       "      <td>1294805</td>\n",
       "      <td>290.48</td>\n",
       "      <td>0</td>\n",
       "    </tr>\n",
       "    <tr>\n",
       "      <th>4</th>\n",
       "      <td>The Shining</td>\n",
       "      <td>1980-01-01</td>\n",
       "      <td>R</td>\n",
       "      <td>146</td>\n",
       "      <td>Drama, Horror</td>\n",
       "      <td>8.4</td>\n",
       "      <td>1025560</td>\n",
       "      <td>44.02</td>\n",
       "      <td>0</td>\n",
       "    </tr>\n",
       "    <tr>\n",
       "      <th>6</th>\n",
       "      <td>One Flew Over the Cuckoo's Nest</td>\n",
       "      <td>1975-01-01</td>\n",
       "      <td>R</td>\n",
       "      <td>133</td>\n",
       "      <td>Drama</td>\n",
       "      <td>8.7</td>\n",
       "      <td>1010102</td>\n",
       "      <td>112.00</td>\n",
       "      <td>0</td>\n",
       "    </tr>\n",
       "    <tr>\n",
       "      <th>7</th>\n",
       "      <td>Indiana Jones and the Raiders of the Lost Ark</td>\n",
       "      <td>1981-01-01</td>\n",
       "      <td>PG</td>\n",
       "      <td>115</td>\n",
       "      <td>Action, Adventure</td>\n",
       "      <td>8.4</td>\n",
       "      <td>969143</td>\n",
       "      <td>248.16</td>\n",
       "      <td>0</td>\n",
       "    </tr>\n",
       "    <tr>\n",
       "      <th>9</th>\n",
       "      <td>Star Wars: Episode IV - A New Hope</td>\n",
       "      <td>1977-01-01</td>\n",
       "      <td>PG</td>\n",
       "      <td>121</td>\n",
       "      <td>Action, Adventure, Fantasy</td>\n",
       "      <td>8.6</td>\n",
       "      <td>1367430</td>\n",
       "      <td>322.74</td>\n",
       "      <td>0</td>\n",
       "    </tr>\n",
       "    <tr>\n",
       "      <th>11</th>\n",
       "      <td>The Godfather: Part II</td>\n",
       "      <td>1974-01-01</td>\n",
       "      <td>R</td>\n",
       "      <td>202</td>\n",
       "      <td>Crime, Drama</td>\n",
       "      <td>9.0</td>\n",
       "      <td>1273349</td>\n",
       "      <td>57.30</td>\n",
       "      <td>0</td>\n",
       "    </tr>\n",
       "    <tr>\n",
       "      <th>13</th>\n",
       "      <td>Schindler's List</td>\n",
       "      <td>1993-01-01</td>\n",
       "      <td>R</td>\n",
       "      <td>195</td>\n",
       "      <td>Biography, Drama, History</td>\n",
       "      <td>9.0</td>\n",
       "      <td>1357621</td>\n",
       "      <td>96.90</td>\n",
       "      <td>0</td>\n",
       "    </tr>\n",
       "    <tr>\n",
       "      <th>16</th>\n",
       "      <td>Alien</td>\n",
       "      <td>1979-01-01</td>\n",
       "      <td>R</td>\n",
       "      <td>117</td>\n",
       "      <td>Horror, Sci-Fi</td>\n",
       "      <td>8.5</td>\n",
       "      <td>885635</td>\n",
       "      <td>78.90</td>\n",
       "      <td>0</td>\n",
       "    </tr>\n",
       "    <tr>\n",
       "      <th>23</th>\n",
       "      <td>Terminator 2: Judgment Day</td>\n",
       "      <td>1991-01-01</td>\n",
       "      <td>R</td>\n",
       "      <td>137</td>\n",
       "      <td>Action, Sci-Fi</td>\n",
       "      <td>8.6</td>\n",
       "      <td>1101850</td>\n",
       "      <td>204.84</td>\n",
       "      <td>0</td>\n",
       "    </tr>\n",
       "  </tbody>\n",
       "</table>\n",
       "</div>"
      ],
      "text/plain": [
       "                                        movie_name year_of_release category  \\\n",
       "1                         The Silence of the Lambs      1991-01-01        R   \n",
       "2   Star Wars: Episode V - The Empire Strikes Back      1980-01-01       PG   \n",
       "4                                      The Shining      1980-01-01        R   \n",
       "6                  One Flew Over the Cuckoo's Nest      1975-01-01        R   \n",
       "7    Indiana Jones and the Raiders of the Lost Ark      1981-01-01       PG   \n",
       "9               Star Wars: Episode IV - A New Hope      1977-01-01       PG   \n",
       "11                          The Godfather: Part II      1974-01-01        R   \n",
       "13                                Schindler's List      1993-01-01        R   \n",
       "16                                           Alien      1979-01-01        R   \n",
       "23                      Terminator 2: Judgment Day      1991-01-01        R   \n",
       "\n",
       "    run_time                       genre  imdb_rating    votes  gross_total  \\\n",
       "1        118      Crime, Drama, Thriller          8.6  1435344       130.74   \n",
       "2        124  Action, Adventure, Fantasy          8.7  1294805       290.48   \n",
       "4        146               Drama, Horror          8.4  1025560        44.02   \n",
       "6        133                       Drama          8.7  1010102       112.00   \n",
       "7        115           Action, Adventure          8.4   969143       248.16   \n",
       "9        121  Action, Adventure, Fantasy          8.6  1367430       322.74   \n",
       "11       202                Crime, Drama          9.0  1273349        57.30   \n",
       "13       195   Biography, Drama, History          9.0  1357621        96.90   \n",
       "16       117              Horror, Sci-Fi          8.5   885635        78.90   \n",
       "23       137              Action, Sci-Fi          8.6  1101850       204.84   \n",
       "\n",
       "    cluster  \n",
       "1         0  \n",
       "2         0  \n",
       "4         0  \n",
       "6         0  \n",
       "7         0  \n",
       "9         0  \n",
       "11        0  \n",
       "13        0  \n",
       "16        0  \n",
       "23        0  "
      ]
     },
     "execution_count": 157,
     "metadata": {},
     "output_type": "execute_result"
    }
   ],
   "source": [
    "movies[movies['cluster'] == 0].head(10)"
   ]
  },
  {
   "cell_type": "code",
   "execution_count": 160,
   "id": "a0cfbd23",
   "metadata": {},
   "outputs": [
    {
     "data": {
      "text/plain": [
       "cluster\n",
       "0    8.42\n",
       "1    8.16\n",
       "2    8.84\n",
       "Name: imdb_rating, dtype: float64"
      ]
     },
     "execution_count": 160,
     "metadata": {},
     "output_type": "execute_result"
    }
   ],
   "source": [
    "movies.groupby('cluster')['imdb_rating'].mean()"
   ]
  },
  {
   "cell_type": "code",
   "execution_count": 161,
   "id": "a6c9cc56",
   "metadata": {},
   "outputs": [
    {
     "data": {
      "application/vnd.plotly.v1+json": {
       "config": {
        "plotlyServerURL": "https://plot.ly"
       },
       "data": [
        {
         "hovertemplate": "imdb_rating=%{x}<br>votes=%{y}<br>cluster=%{marker.color}<extra></extra>",
         "legendgroup": "",
         "marker": {
          "color": [
           2,
           0,
           0,
           2,
           0,
           1,
           0,
           0,
           2,
           0,
           2,
           0,
           1,
           0,
           2,
           2,
           0,
           1,
           1,
           2,
           1,
           1,
           2,
           0,
           0,
           0,
           1,
           0,
           2,
           1,
           0,
           1,
           1,
           0,
           0,
           1,
           0,
           0,
           0,
           1,
           2,
           1,
           0,
           0,
           1,
           1,
           1,
           0,
           1,
           1,
           1,
           1,
           1,
           1,
           0,
           2,
           0,
           0,
           1,
           1,
           1,
           0,
           0,
           1,
           1,
           1,
           1,
           1,
           0,
           1,
           1,
           2,
           1,
           1,
           1,
           1,
           0,
           1,
           2,
           0,
           1,
           0,
           1,
           1,
           1,
           0,
           0,
           0,
           1,
           1,
           1,
           1,
           1,
           1,
           0,
           1,
           0,
           1,
           2
          ],
          "coloraxis": "coloraxis",
          "symbol": "circle"
         },
         "mode": "markers",
         "name": "",
         "orientation": "v",
         "showlegend": false,
         "type": "scatter",
         "x": [
          9.2,
          8.6,
          8.7,
          9.3,
          8.4,
          8.5,
          8.7,
          8.4,
          9,
          8.6,
          9,
          9,
          8.4,
          9,
          8.8,
          8.8,
          8.5,
          8.2,
          8.1,
          8.6,
          8.5,
          9,
          8.8,
          8.6,
          8.3,
          8.2,
          8.2,
          8.2,
          8.9,
          8.2,
          8.5,
          8.3,
          8.5,
          8.5,
          8.5,
          8.3,
          8.7,
          8.4,
          8.4,
          7.7,
          8.8,
          8.3,
          8.4,
          8.6,
          8,
          8,
          8.3,
          8.2,
          7.2,
          8.8,
          8.3,
          8.5,
          7.7,
          8.3,
          8.3,
          8.8,
          8.2,
          8.4,
          7.9,
          8.1,
          8.4,
          8.5,
          8.2,
          8.2,
          8.6,
          7.8,
          8.1,
          7.9,
          8,
          8.3,
          8.1,
          8.6,
          8.2,
          8.1,
          8,
          8.6,
          8.5,
          8,
          8.4,
          7.8,
          7.8,
          8.1,
          8.1,
          8.2,
          7.7,
          8.3,
          8.5,
          8.2,
          7.9,
          7.5,
          7.9,
          7.8,
          8.2,
          8.3,
          8.5,
          8.1,
          8.3,
          8.5,
          8.7
         ],
         "xaxis": "x",
         "y": [
          1860471,
          1435344,
          1294805,
          2683302,
          1025560,
          574092,
          1010102,
          969143,
          1849082,
          1367430,
          2656768,
          1273349,
          720623,
          1357621,
          2356293,
          1878557,
          885635,
          269346,
          773425,
          1655745,
          669994,
          792729,
          1669715,
          1101850,
          1056750,
          887967,
          317621,
          836871,
          2058574,
          222540,
          1060900,
          330232,
          493926,
          1164087,
          1208582,
          444359,
          1164128,
          1241252,
          1157536,
          301756,
          2082477,
          244548,
          1040416,
          1394262,
          517528,
          683379,
          671980,
          1119120,
          10748,
          763678,
          759411,
          244162,
          458613,
          745546,
          845362,
          2128902,
          977336,
          1557890,
          503642,
          741322,
          391480,
          1336235,
          1125038,
          329110,
          758914,
          35528,
          681256,
          634357,
          848344,
          404626,
          690138,
          1835790,
          428474,
          173206,
          621205,
          697226,
          834842,
          315037,
          1708002,
          933771,
          667864,
          1006158,
          703824,
          758057,
          315173,
          1453288,
          1328252,
          935549,
          685403,
          89819,
          459918,
          172759,
          585555,
          658033,
          1087832,
          178888,
          1011004,
          186059,
          1916083
         ],
         "yaxis": "y"
        }
       ],
       "layout": {
        "coloraxis": {
         "colorbar": {
          "title": {
           "text": "cluster"
          }
         },
         "colorscale": [
          [
           0,
           "#0d0887"
          ],
          [
           0.1111111111111111,
           "#46039f"
          ],
          [
           0.2222222222222222,
           "#7201a8"
          ],
          [
           0.3333333333333333,
           "#9c179e"
          ],
          [
           0.4444444444444444,
           "#bd3786"
          ],
          [
           0.5555555555555556,
           "#d8576b"
          ],
          [
           0.6666666666666666,
           "#ed7953"
          ],
          [
           0.7777777777777778,
           "#fb9f3a"
          ],
          [
           0.8888888888888888,
           "#fdca26"
          ],
          [
           1,
           "#f0f921"
          ]
         ]
        },
        "legend": {
         "tracegroupgap": 0
        },
        "margin": {
         "t": 60
        },
        "template": {
         "data": {
          "bar": [
           {
            "error_x": {
             "color": "#2a3f5f"
            },
            "error_y": {
             "color": "#2a3f5f"
            },
            "marker": {
             "line": {
              "color": "#E5ECF6",
              "width": 0.5
             },
             "pattern": {
              "fillmode": "overlay",
              "size": 10,
              "solidity": 0.2
             }
            },
            "type": "bar"
           }
          ],
          "barpolar": [
           {
            "marker": {
             "line": {
              "color": "#E5ECF6",
              "width": 0.5
             },
             "pattern": {
              "fillmode": "overlay",
              "size": 10,
              "solidity": 0.2
             }
            },
            "type": "barpolar"
           }
          ],
          "carpet": [
           {
            "aaxis": {
             "endlinecolor": "#2a3f5f",
             "gridcolor": "white",
             "linecolor": "white",
             "minorgridcolor": "white",
             "startlinecolor": "#2a3f5f"
            },
            "baxis": {
             "endlinecolor": "#2a3f5f",
             "gridcolor": "white",
             "linecolor": "white",
             "minorgridcolor": "white",
             "startlinecolor": "#2a3f5f"
            },
            "type": "carpet"
           }
          ],
          "choropleth": [
           {
            "colorbar": {
             "outlinewidth": 0,
             "ticks": ""
            },
            "type": "choropleth"
           }
          ],
          "contour": [
           {
            "colorbar": {
             "outlinewidth": 0,
             "ticks": ""
            },
            "colorscale": [
             [
              0,
              "#0d0887"
             ],
             [
              0.1111111111111111,
              "#46039f"
             ],
             [
              0.2222222222222222,
              "#7201a8"
             ],
             [
              0.3333333333333333,
              "#9c179e"
             ],
             [
              0.4444444444444444,
              "#bd3786"
             ],
             [
              0.5555555555555556,
              "#d8576b"
             ],
             [
              0.6666666666666666,
              "#ed7953"
             ],
             [
              0.7777777777777778,
              "#fb9f3a"
             ],
             [
              0.8888888888888888,
              "#fdca26"
             ],
             [
              1,
              "#f0f921"
             ]
            ],
            "type": "contour"
           }
          ],
          "contourcarpet": [
           {
            "colorbar": {
             "outlinewidth": 0,
             "ticks": ""
            },
            "type": "contourcarpet"
           }
          ],
          "heatmap": [
           {
            "colorbar": {
             "outlinewidth": 0,
             "ticks": ""
            },
            "colorscale": [
             [
              0,
              "#0d0887"
             ],
             [
              0.1111111111111111,
              "#46039f"
             ],
             [
              0.2222222222222222,
              "#7201a8"
             ],
             [
              0.3333333333333333,
              "#9c179e"
             ],
             [
              0.4444444444444444,
              "#bd3786"
             ],
             [
              0.5555555555555556,
              "#d8576b"
             ],
             [
              0.6666666666666666,
              "#ed7953"
             ],
             [
              0.7777777777777778,
              "#fb9f3a"
             ],
             [
              0.8888888888888888,
              "#fdca26"
             ],
             [
              1,
              "#f0f921"
             ]
            ],
            "type": "heatmap"
           }
          ],
          "heatmapgl": [
           {
            "colorbar": {
             "outlinewidth": 0,
             "ticks": ""
            },
            "colorscale": [
             [
              0,
              "#0d0887"
             ],
             [
              0.1111111111111111,
              "#46039f"
             ],
             [
              0.2222222222222222,
              "#7201a8"
             ],
             [
              0.3333333333333333,
              "#9c179e"
             ],
             [
              0.4444444444444444,
              "#bd3786"
             ],
             [
              0.5555555555555556,
              "#d8576b"
             ],
             [
              0.6666666666666666,
              "#ed7953"
             ],
             [
              0.7777777777777778,
              "#fb9f3a"
             ],
             [
              0.8888888888888888,
              "#fdca26"
             ],
             [
              1,
              "#f0f921"
             ]
            ],
            "type": "heatmapgl"
           }
          ],
          "histogram": [
           {
            "marker": {
             "pattern": {
              "fillmode": "overlay",
              "size": 10,
              "solidity": 0.2
             }
            },
            "type": "histogram"
           }
          ],
          "histogram2d": [
           {
            "colorbar": {
             "outlinewidth": 0,
             "ticks": ""
            },
            "colorscale": [
             [
              0,
              "#0d0887"
             ],
             [
              0.1111111111111111,
              "#46039f"
             ],
             [
              0.2222222222222222,
              "#7201a8"
             ],
             [
              0.3333333333333333,
              "#9c179e"
             ],
             [
              0.4444444444444444,
              "#bd3786"
             ],
             [
              0.5555555555555556,
              "#d8576b"
             ],
             [
              0.6666666666666666,
              "#ed7953"
             ],
             [
              0.7777777777777778,
              "#fb9f3a"
             ],
             [
              0.8888888888888888,
              "#fdca26"
             ],
             [
              1,
              "#f0f921"
             ]
            ],
            "type": "histogram2d"
           }
          ],
          "histogram2dcontour": [
           {
            "colorbar": {
             "outlinewidth": 0,
             "ticks": ""
            },
            "colorscale": [
             [
              0,
              "#0d0887"
             ],
             [
              0.1111111111111111,
              "#46039f"
             ],
             [
              0.2222222222222222,
              "#7201a8"
             ],
             [
              0.3333333333333333,
              "#9c179e"
             ],
             [
              0.4444444444444444,
              "#bd3786"
             ],
             [
              0.5555555555555556,
              "#d8576b"
             ],
             [
              0.6666666666666666,
              "#ed7953"
             ],
             [
              0.7777777777777778,
              "#fb9f3a"
             ],
             [
              0.8888888888888888,
              "#fdca26"
             ],
             [
              1,
              "#f0f921"
             ]
            ],
            "type": "histogram2dcontour"
           }
          ],
          "mesh3d": [
           {
            "colorbar": {
             "outlinewidth": 0,
             "ticks": ""
            },
            "type": "mesh3d"
           }
          ],
          "parcoords": [
           {
            "line": {
             "colorbar": {
              "outlinewidth": 0,
              "ticks": ""
             }
            },
            "type": "parcoords"
           }
          ],
          "pie": [
           {
            "automargin": true,
            "type": "pie"
           }
          ],
          "scatter": [
           {
            "marker": {
             "colorbar": {
              "outlinewidth": 0,
              "ticks": ""
             }
            },
            "type": "scatter"
           }
          ],
          "scatter3d": [
           {
            "line": {
             "colorbar": {
              "outlinewidth": 0,
              "ticks": ""
             }
            },
            "marker": {
             "colorbar": {
              "outlinewidth": 0,
              "ticks": ""
             }
            },
            "type": "scatter3d"
           }
          ],
          "scattercarpet": [
           {
            "marker": {
             "colorbar": {
              "outlinewidth": 0,
              "ticks": ""
             }
            },
            "type": "scattercarpet"
           }
          ],
          "scattergeo": [
           {
            "marker": {
             "colorbar": {
              "outlinewidth": 0,
              "ticks": ""
             }
            },
            "type": "scattergeo"
           }
          ],
          "scattergl": [
           {
            "marker": {
             "colorbar": {
              "outlinewidth": 0,
              "ticks": ""
             }
            },
            "type": "scattergl"
           }
          ],
          "scattermapbox": [
           {
            "marker": {
             "colorbar": {
              "outlinewidth": 0,
              "ticks": ""
             }
            },
            "type": "scattermapbox"
           }
          ],
          "scatterpolar": [
           {
            "marker": {
             "colorbar": {
              "outlinewidth": 0,
              "ticks": ""
             }
            },
            "type": "scatterpolar"
           }
          ],
          "scatterpolargl": [
           {
            "marker": {
             "colorbar": {
              "outlinewidth": 0,
              "ticks": ""
             }
            },
            "type": "scatterpolargl"
           }
          ],
          "scatterternary": [
           {
            "marker": {
             "colorbar": {
              "outlinewidth": 0,
              "ticks": ""
             }
            },
            "type": "scatterternary"
           }
          ],
          "surface": [
           {
            "colorbar": {
             "outlinewidth": 0,
             "ticks": ""
            },
            "colorscale": [
             [
              0,
              "#0d0887"
             ],
             [
              0.1111111111111111,
              "#46039f"
             ],
             [
              0.2222222222222222,
              "#7201a8"
             ],
             [
              0.3333333333333333,
              "#9c179e"
             ],
             [
              0.4444444444444444,
              "#bd3786"
             ],
             [
              0.5555555555555556,
              "#d8576b"
             ],
             [
              0.6666666666666666,
              "#ed7953"
             ],
             [
              0.7777777777777778,
              "#fb9f3a"
             ],
             [
              0.8888888888888888,
              "#fdca26"
             ],
             [
              1,
              "#f0f921"
             ]
            ],
            "type": "surface"
           }
          ],
          "table": [
           {
            "cells": {
             "fill": {
              "color": "#EBF0F8"
             },
             "line": {
              "color": "white"
             }
            },
            "header": {
             "fill": {
              "color": "#C8D4E3"
             },
             "line": {
              "color": "white"
             }
            },
            "type": "table"
           }
          ]
         },
         "layout": {
          "annotationdefaults": {
           "arrowcolor": "#2a3f5f",
           "arrowhead": 0,
           "arrowwidth": 1
          },
          "autotypenumbers": "strict",
          "coloraxis": {
           "colorbar": {
            "outlinewidth": 0,
            "ticks": ""
           }
          },
          "colorscale": {
           "diverging": [
            [
             0,
             "#8e0152"
            ],
            [
             0.1,
             "#c51b7d"
            ],
            [
             0.2,
             "#de77ae"
            ],
            [
             0.3,
             "#f1b6da"
            ],
            [
             0.4,
             "#fde0ef"
            ],
            [
             0.5,
             "#f7f7f7"
            ],
            [
             0.6,
             "#e6f5d0"
            ],
            [
             0.7,
             "#b8e186"
            ],
            [
             0.8,
             "#7fbc41"
            ],
            [
             0.9,
             "#4d9221"
            ],
            [
             1,
             "#276419"
            ]
           ],
           "sequential": [
            [
             0,
             "#0d0887"
            ],
            [
             0.1111111111111111,
             "#46039f"
            ],
            [
             0.2222222222222222,
             "#7201a8"
            ],
            [
             0.3333333333333333,
             "#9c179e"
            ],
            [
             0.4444444444444444,
             "#bd3786"
            ],
            [
             0.5555555555555556,
             "#d8576b"
            ],
            [
             0.6666666666666666,
             "#ed7953"
            ],
            [
             0.7777777777777778,
             "#fb9f3a"
            ],
            [
             0.8888888888888888,
             "#fdca26"
            ],
            [
             1,
             "#f0f921"
            ]
           ],
           "sequentialminus": [
            [
             0,
             "#0d0887"
            ],
            [
             0.1111111111111111,
             "#46039f"
            ],
            [
             0.2222222222222222,
             "#7201a8"
            ],
            [
             0.3333333333333333,
             "#9c179e"
            ],
            [
             0.4444444444444444,
             "#bd3786"
            ],
            [
             0.5555555555555556,
             "#d8576b"
            ],
            [
             0.6666666666666666,
             "#ed7953"
            ],
            [
             0.7777777777777778,
             "#fb9f3a"
            ],
            [
             0.8888888888888888,
             "#fdca26"
            ],
            [
             1,
             "#f0f921"
            ]
           ]
          },
          "colorway": [
           "#636efa",
           "#EF553B",
           "#00cc96",
           "#ab63fa",
           "#FFA15A",
           "#19d3f3",
           "#FF6692",
           "#B6E880",
           "#FF97FF",
           "#FECB52"
          ],
          "font": {
           "color": "#2a3f5f"
          },
          "geo": {
           "bgcolor": "white",
           "lakecolor": "white",
           "landcolor": "#E5ECF6",
           "showlakes": true,
           "showland": true,
           "subunitcolor": "white"
          },
          "hoverlabel": {
           "align": "left"
          },
          "hovermode": "closest",
          "mapbox": {
           "style": "light"
          },
          "paper_bgcolor": "white",
          "plot_bgcolor": "#E5ECF6",
          "polar": {
           "angularaxis": {
            "gridcolor": "white",
            "linecolor": "white",
            "ticks": ""
           },
           "bgcolor": "#E5ECF6",
           "radialaxis": {
            "gridcolor": "white",
            "linecolor": "white",
            "ticks": ""
           }
          },
          "scene": {
           "xaxis": {
            "backgroundcolor": "#E5ECF6",
            "gridcolor": "white",
            "gridwidth": 2,
            "linecolor": "white",
            "showbackground": true,
            "ticks": "",
            "zerolinecolor": "white"
           },
           "yaxis": {
            "backgroundcolor": "#E5ECF6",
            "gridcolor": "white",
            "gridwidth": 2,
            "linecolor": "white",
            "showbackground": true,
            "ticks": "",
            "zerolinecolor": "white"
           },
           "zaxis": {
            "backgroundcolor": "#E5ECF6",
            "gridcolor": "white",
            "gridwidth": 2,
            "linecolor": "white",
            "showbackground": true,
            "ticks": "",
            "zerolinecolor": "white"
           }
          },
          "shapedefaults": {
           "line": {
            "color": "#2a3f5f"
           }
          },
          "ternary": {
           "aaxis": {
            "gridcolor": "white",
            "linecolor": "white",
            "ticks": ""
           },
           "baxis": {
            "gridcolor": "white",
            "linecolor": "white",
            "ticks": ""
           },
           "bgcolor": "#E5ECF6",
           "caxis": {
            "gridcolor": "white",
            "linecolor": "white",
            "ticks": ""
           }
          },
          "title": {
           "x": 0.05
          },
          "xaxis": {
           "automargin": true,
           "gridcolor": "white",
           "linecolor": "white",
           "ticks": "",
           "title": {
            "standoff": 15
           },
           "zerolinecolor": "white",
           "zerolinewidth": 2
          },
          "yaxis": {
           "automargin": true,
           "gridcolor": "white",
           "linecolor": "white",
           "ticks": "",
           "title": {
            "standoff": 15
           },
           "zerolinecolor": "white",
           "zerolinewidth": 2
          }
         }
        },
        "xaxis": {
         "anchor": "y",
         "domain": [
          0,
          1
         ],
         "title": {
          "text": "imdb_rating"
         }
        },
        "yaxis": {
         "anchor": "x",
         "domain": [
          0,
          1
         ],
         "title": {
          "text": "votes"
         }
        }
       }
      },
      "text/html": [
       "<div>                            <div id=\"a97f7a8b-87e0-48d5-8cd7-988ea1e860f1\" class=\"plotly-graph-div\" style=\"height:525px; width:100%;\"></div>            <script type=\"text/javascript\">                require([\"plotly\"], function(Plotly) {                    window.PLOTLYENV=window.PLOTLYENV || {};                                    if (document.getElementById(\"a97f7a8b-87e0-48d5-8cd7-988ea1e860f1\")) {                    Plotly.newPlot(                        \"a97f7a8b-87e0-48d5-8cd7-988ea1e860f1\",                        [{\"hovertemplate\":\"imdb_rating=%{x}<br>votes=%{y}<br>cluster=%{marker.color}<extra></extra>\",\"legendgroup\":\"\",\"marker\":{\"color\":[2,0,0,2,0,1,0,0,2,0,2,0,1,0,2,2,0,1,1,2,1,1,2,0,0,0,1,0,2,1,0,1,1,0,0,1,0,0,0,1,2,1,0,0,1,1,1,0,1,1,1,1,1,1,0,2,0,0,1,1,1,0,0,1,1,1,1,1,0,1,1,2,1,1,1,1,0,1,2,0,1,0,1,1,1,0,0,0,1,1,1,1,1,1,0,1,0,1,2],\"coloraxis\":\"coloraxis\",\"symbol\":\"circle\"},\"mode\":\"markers\",\"name\":\"\",\"orientation\":\"v\",\"showlegend\":false,\"x\":[9.2,8.6,8.7,9.3,8.4,8.5,8.7,8.4,9.0,8.6,9.0,9.0,8.4,9.0,8.8,8.8,8.5,8.2,8.1,8.6,8.5,9.0,8.8,8.6,8.3,8.2,8.2,8.2,8.9,8.2,8.5,8.3,8.5,8.5,8.5,8.3,8.7,8.4,8.4,7.7,8.8,8.3,8.4,8.6,8.0,8.0,8.3,8.2,7.2,8.8,8.3,8.5,7.7,8.3,8.3,8.8,8.2,8.4,7.9,8.1,8.4,8.5,8.2,8.2,8.6,7.8,8.1,7.9,8.0,8.3,8.1,8.6,8.2,8.1,8.0,8.6,8.5,8.0,8.4,7.8,7.8,8.1,8.1,8.2,7.7,8.3,8.5,8.2,7.9,7.5,7.9,7.8,8.2,8.3,8.5,8.1,8.3,8.5,8.7],\"xaxis\":\"x\",\"y\":[1860471,1435344,1294805,2683302,1025560,574092,1010102,969143,1849082,1367430,2656768,1273349,720623,1357621,2356293,1878557,885635,269346,773425,1655745,669994,792729,1669715,1101850,1056750,887967,317621,836871,2058574,222540,1060900,330232,493926,1164087,1208582,444359,1164128,1241252,1157536,301756,2082477,244548,1040416,1394262,517528,683379,671980,1119120,10748,763678,759411,244162,458613,745546,845362,2128902,977336,1557890,503642,741322,391480,1336235,1125038,329110,758914,35528,681256,634357,848344,404626,690138,1835790,428474,173206,621205,697226,834842,315037,1708002,933771,667864,1006158,703824,758057,315173,1453288,1328252,935549,685403,89819,459918,172759,585555,658033,1087832,178888,1011004,186059,1916083],\"yaxis\":\"y\",\"type\":\"scatter\"}],                        {\"template\":{\"data\":{\"bar\":[{\"error_x\":{\"color\":\"#2a3f5f\"},\"error_y\":{\"color\":\"#2a3f5f\"},\"marker\":{\"line\":{\"color\":\"#E5ECF6\",\"width\":0.5},\"pattern\":{\"fillmode\":\"overlay\",\"size\":10,\"solidity\":0.2}},\"type\":\"bar\"}],\"barpolar\":[{\"marker\":{\"line\":{\"color\":\"#E5ECF6\",\"width\":0.5},\"pattern\":{\"fillmode\":\"overlay\",\"size\":10,\"solidity\":0.2}},\"type\":\"barpolar\"}],\"carpet\":[{\"aaxis\":{\"endlinecolor\":\"#2a3f5f\",\"gridcolor\":\"white\",\"linecolor\":\"white\",\"minorgridcolor\":\"white\",\"startlinecolor\":\"#2a3f5f\"},\"baxis\":{\"endlinecolor\":\"#2a3f5f\",\"gridcolor\":\"white\",\"linecolor\":\"white\",\"minorgridcolor\":\"white\",\"startlinecolor\":\"#2a3f5f\"},\"type\":\"carpet\"}],\"choropleth\":[{\"colorbar\":{\"outlinewidth\":0,\"ticks\":\"\"},\"type\":\"choropleth\"}],\"contour\":[{\"colorbar\":{\"outlinewidth\":0,\"ticks\":\"\"},\"colorscale\":[[0.0,\"#0d0887\"],[0.1111111111111111,\"#46039f\"],[0.2222222222222222,\"#7201a8\"],[0.3333333333333333,\"#9c179e\"],[0.4444444444444444,\"#bd3786\"],[0.5555555555555556,\"#d8576b\"],[0.6666666666666666,\"#ed7953\"],[0.7777777777777778,\"#fb9f3a\"],[0.8888888888888888,\"#fdca26\"],[1.0,\"#f0f921\"]],\"type\":\"contour\"}],\"contourcarpet\":[{\"colorbar\":{\"outlinewidth\":0,\"ticks\":\"\"},\"type\":\"contourcarpet\"}],\"heatmap\":[{\"colorbar\":{\"outlinewidth\":0,\"ticks\":\"\"},\"colorscale\":[[0.0,\"#0d0887\"],[0.1111111111111111,\"#46039f\"],[0.2222222222222222,\"#7201a8\"],[0.3333333333333333,\"#9c179e\"],[0.4444444444444444,\"#bd3786\"],[0.5555555555555556,\"#d8576b\"],[0.6666666666666666,\"#ed7953\"],[0.7777777777777778,\"#fb9f3a\"],[0.8888888888888888,\"#fdca26\"],[1.0,\"#f0f921\"]],\"type\":\"heatmap\"}],\"heatmapgl\":[{\"colorbar\":{\"outlinewidth\":0,\"ticks\":\"\"},\"colorscale\":[[0.0,\"#0d0887\"],[0.1111111111111111,\"#46039f\"],[0.2222222222222222,\"#7201a8\"],[0.3333333333333333,\"#9c179e\"],[0.4444444444444444,\"#bd3786\"],[0.5555555555555556,\"#d8576b\"],[0.6666666666666666,\"#ed7953\"],[0.7777777777777778,\"#fb9f3a\"],[0.8888888888888888,\"#fdca26\"],[1.0,\"#f0f921\"]],\"type\":\"heatmapgl\"}],\"histogram\":[{\"marker\":{\"pattern\":{\"fillmode\":\"overlay\",\"size\":10,\"solidity\":0.2}},\"type\":\"histogram\"}],\"histogram2d\":[{\"colorbar\":{\"outlinewidth\":0,\"ticks\":\"\"},\"colorscale\":[[0.0,\"#0d0887\"],[0.1111111111111111,\"#46039f\"],[0.2222222222222222,\"#7201a8\"],[0.3333333333333333,\"#9c179e\"],[0.4444444444444444,\"#bd3786\"],[0.5555555555555556,\"#d8576b\"],[0.6666666666666666,\"#ed7953\"],[0.7777777777777778,\"#fb9f3a\"],[0.8888888888888888,\"#fdca26\"],[1.0,\"#f0f921\"]],\"type\":\"histogram2d\"}],\"histogram2dcontour\":[{\"colorbar\":{\"outlinewidth\":0,\"ticks\":\"\"},\"colorscale\":[[0.0,\"#0d0887\"],[0.1111111111111111,\"#46039f\"],[0.2222222222222222,\"#7201a8\"],[0.3333333333333333,\"#9c179e\"],[0.4444444444444444,\"#bd3786\"],[0.5555555555555556,\"#d8576b\"],[0.6666666666666666,\"#ed7953\"],[0.7777777777777778,\"#fb9f3a\"],[0.8888888888888888,\"#fdca26\"],[1.0,\"#f0f921\"]],\"type\":\"histogram2dcontour\"}],\"mesh3d\":[{\"colorbar\":{\"outlinewidth\":0,\"ticks\":\"\"},\"type\":\"mesh3d\"}],\"parcoords\":[{\"line\":{\"colorbar\":{\"outlinewidth\":0,\"ticks\":\"\"}},\"type\":\"parcoords\"}],\"pie\":[{\"automargin\":true,\"type\":\"pie\"}],\"scatter\":[{\"marker\":{\"colorbar\":{\"outlinewidth\":0,\"ticks\":\"\"}},\"type\":\"scatter\"}],\"scatter3d\":[{\"line\":{\"colorbar\":{\"outlinewidth\":0,\"ticks\":\"\"}},\"marker\":{\"colorbar\":{\"outlinewidth\":0,\"ticks\":\"\"}},\"type\":\"scatter3d\"}],\"scattercarpet\":[{\"marker\":{\"colorbar\":{\"outlinewidth\":0,\"ticks\":\"\"}},\"type\":\"scattercarpet\"}],\"scattergeo\":[{\"marker\":{\"colorbar\":{\"outlinewidth\":0,\"ticks\":\"\"}},\"type\":\"scattergeo\"}],\"scattergl\":[{\"marker\":{\"colorbar\":{\"outlinewidth\":0,\"ticks\":\"\"}},\"type\":\"scattergl\"}],\"scattermapbox\":[{\"marker\":{\"colorbar\":{\"outlinewidth\":0,\"ticks\":\"\"}},\"type\":\"scattermapbox\"}],\"scatterpolar\":[{\"marker\":{\"colorbar\":{\"outlinewidth\":0,\"ticks\":\"\"}},\"type\":\"scatterpolar\"}],\"scatterpolargl\":[{\"marker\":{\"colorbar\":{\"outlinewidth\":0,\"ticks\":\"\"}},\"type\":\"scatterpolargl\"}],\"scatterternary\":[{\"marker\":{\"colorbar\":{\"outlinewidth\":0,\"ticks\":\"\"}},\"type\":\"scatterternary\"}],\"surface\":[{\"colorbar\":{\"outlinewidth\":0,\"ticks\":\"\"},\"colorscale\":[[0.0,\"#0d0887\"],[0.1111111111111111,\"#46039f\"],[0.2222222222222222,\"#7201a8\"],[0.3333333333333333,\"#9c179e\"],[0.4444444444444444,\"#bd3786\"],[0.5555555555555556,\"#d8576b\"],[0.6666666666666666,\"#ed7953\"],[0.7777777777777778,\"#fb9f3a\"],[0.8888888888888888,\"#fdca26\"],[1.0,\"#f0f921\"]],\"type\":\"surface\"}],\"table\":[{\"cells\":{\"fill\":{\"color\":\"#EBF0F8\"},\"line\":{\"color\":\"white\"}},\"header\":{\"fill\":{\"color\":\"#C8D4E3\"},\"line\":{\"color\":\"white\"}},\"type\":\"table\"}]},\"layout\":{\"annotationdefaults\":{\"arrowcolor\":\"#2a3f5f\",\"arrowhead\":0,\"arrowwidth\":1},\"autotypenumbers\":\"strict\",\"coloraxis\":{\"colorbar\":{\"outlinewidth\":0,\"ticks\":\"\"}},\"colorscale\":{\"diverging\":[[0,\"#8e0152\"],[0.1,\"#c51b7d\"],[0.2,\"#de77ae\"],[0.3,\"#f1b6da\"],[0.4,\"#fde0ef\"],[0.5,\"#f7f7f7\"],[0.6,\"#e6f5d0\"],[0.7,\"#b8e186\"],[0.8,\"#7fbc41\"],[0.9,\"#4d9221\"],[1,\"#276419\"]],\"sequential\":[[0.0,\"#0d0887\"],[0.1111111111111111,\"#46039f\"],[0.2222222222222222,\"#7201a8\"],[0.3333333333333333,\"#9c179e\"],[0.4444444444444444,\"#bd3786\"],[0.5555555555555556,\"#d8576b\"],[0.6666666666666666,\"#ed7953\"],[0.7777777777777778,\"#fb9f3a\"],[0.8888888888888888,\"#fdca26\"],[1.0,\"#f0f921\"]],\"sequentialminus\":[[0.0,\"#0d0887\"],[0.1111111111111111,\"#46039f\"],[0.2222222222222222,\"#7201a8\"],[0.3333333333333333,\"#9c179e\"],[0.4444444444444444,\"#bd3786\"],[0.5555555555555556,\"#d8576b\"],[0.6666666666666666,\"#ed7953\"],[0.7777777777777778,\"#fb9f3a\"],[0.8888888888888888,\"#fdca26\"],[1.0,\"#f0f921\"]]},\"colorway\":[\"#636efa\",\"#EF553B\",\"#00cc96\",\"#ab63fa\",\"#FFA15A\",\"#19d3f3\",\"#FF6692\",\"#B6E880\",\"#FF97FF\",\"#FECB52\"],\"font\":{\"color\":\"#2a3f5f\"},\"geo\":{\"bgcolor\":\"white\",\"lakecolor\":\"white\",\"landcolor\":\"#E5ECF6\",\"showlakes\":true,\"showland\":true,\"subunitcolor\":\"white\"},\"hoverlabel\":{\"align\":\"left\"},\"hovermode\":\"closest\",\"mapbox\":{\"style\":\"light\"},\"paper_bgcolor\":\"white\",\"plot_bgcolor\":\"#E5ECF6\",\"polar\":{\"angularaxis\":{\"gridcolor\":\"white\",\"linecolor\":\"white\",\"ticks\":\"\"},\"bgcolor\":\"#E5ECF6\",\"radialaxis\":{\"gridcolor\":\"white\",\"linecolor\":\"white\",\"ticks\":\"\"}},\"scene\":{\"xaxis\":{\"backgroundcolor\":\"#E5ECF6\",\"gridcolor\":\"white\",\"gridwidth\":2,\"linecolor\":\"white\",\"showbackground\":true,\"ticks\":\"\",\"zerolinecolor\":\"white\"},\"yaxis\":{\"backgroundcolor\":\"#E5ECF6\",\"gridcolor\":\"white\",\"gridwidth\":2,\"linecolor\":\"white\",\"showbackground\":true,\"ticks\":\"\",\"zerolinecolor\":\"white\"},\"zaxis\":{\"backgroundcolor\":\"#E5ECF6\",\"gridcolor\":\"white\",\"gridwidth\":2,\"linecolor\":\"white\",\"showbackground\":true,\"ticks\":\"\",\"zerolinecolor\":\"white\"}},\"shapedefaults\":{\"line\":{\"color\":\"#2a3f5f\"}},\"ternary\":{\"aaxis\":{\"gridcolor\":\"white\",\"linecolor\":\"white\",\"ticks\":\"\"},\"baxis\":{\"gridcolor\":\"white\",\"linecolor\":\"white\",\"ticks\":\"\"},\"bgcolor\":\"#E5ECF6\",\"caxis\":{\"gridcolor\":\"white\",\"linecolor\":\"white\",\"ticks\":\"\"}},\"title\":{\"x\":0.05},\"xaxis\":{\"automargin\":true,\"gridcolor\":\"white\",\"linecolor\":\"white\",\"ticks\":\"\",\"title\":{\"standoff\":15},\"zerolinecolor\":\"white\",\"zerolinewidth\":2},\"yaxis\":{\"automargin\":true,\"gridcolor\":\"white\",\"linecolor\":\"white\",\"ticks\":\"\",\"title\":{\"standoff\":15},\"zerolinecolor\":\"white\",\"zerolinewidth\":2}}},\"xaxis\":{\"anchor\":\"y\",\"domain\":[0.0,1.0],\"title\":{\"text\":\"imdb_rating\"}},\"yaxis\":{\"anchor\":\"x\",\"domain\":[0.0,1.0],\"title\":{\"text\":\"votes\"}},\"coloraxis\":{\"colorbar\":{\"title\":{\"text\":\"cluster\"}},\"colorscale\":[[0.0,\"#0d0887\"],[0.1111111111111111,\"#46039f\"],[0.2222222222222222,\"#7201a8\"],[0.3333333333333333,\"#9c179e\"],[0.4444444444444444,\"#bd3786\"],[0.5555555555555556,\"#d8576b\"],[0.6666666666666666,\"#ed7953\"],[0.7777777777777778,\"#fb9f3a\"],[0.8888888888888888,\"#fdca26\"],[1.0,\"#f0f921\"]]},\"legend\":{\"tracegroupgap\":0},\"margin\":{\"t\":60}},                        {\"responsive\": true}                    ).then(function(){\n",
       "                            \n",
       "var gd = document.getElementById('a97f7a8b-87e0-48d5-8cd7-988ea1e860f1');\n",
       "var x = new MutationObserver(function (mutations, observer) {{\n",
       "        var display = window.getComputedStyle(gd).display;\n",
       "        if (!display || display === 'none') {{\n",
       "            console.log([gd, 'removed!']);\n",
       "            Plotly.purge(gd);\n",
       "            observer.disconnect();\n",
       "        }}\n",
       "}});\n",
       "\n",
       "// Listen for the removal of the full notebook cells\n",
       "var notebookContainer = gd.closest('#notebook-container');\n",
       "if (notebookContainer) {{\n",
       "    x.observe(notebookContainer, {childList: true});\n",
       "}}\n",
       "\n",
       "// Listen for the clearing of the current output cell\n",
       "var outputEl = gd.closest('.output');\n",
       "if (outputEl) {{\n",
       "    x.observe(outputEl, {childList: true});\n",
       "}}\n",
       "\n",
       "                        })                };                });            </script>        </div>"
      ]
     },
     "metadata": {},
     "output_type": "display_data"
    }
   ],
   "source": [
    "# It seems that votes and imdb_rating are the variables who defines the clusters\n",
    "# Plot the clusters with plotly\n",
    "# create a scatter plot with color-coded clusters\n",
    "fig = px.scatter(movies, x='imdb_rating', y='votes', color='cluster')\n",
    "fig\n",
    "\n",
    "# We have three levels: high votes, medium votes and low votes"
   ]
  },
  {
   "cell_type": "code",
   "execution_count": 165,
   "id": "04339a98",
   "metadata": {},
   "outputs": [
    {
     "data": {
      "image/png": "[encoded data removed]",
      "text/plain": [
       "<Figure size 720x432 with 1 Axes>"
      ]
     },
     "metadata": {},
     "output_type": "display_data"
    }
   ],
   "source": [
    "# This is easier to see with a scatter in matplotlib\n",
    "# create a scatter plot with color-coded clusters\n",
    "scatter = plt.scatter(movies['imdb_rating'], movies['votes'], c=movies['cluster'])\n",
    "\n",
    "# add legend\n",
    "legend = plt.legend(*scatter.legend_elements(), title=\"Clusters\", loc=\"upper left\")\n",
    "\n",
    "# set legend labels\n",
    "legend.get_texts()[2].set_text('Cluster 2 = High votes')\n",
    "legend.get_texts()[0].set_text('Cluster 0 = Medium votes')\n",
    "legend.get_texts()[1].set_text('Cluster 1 = Low votes')\n",
    "\n",
    "\n",
    "# add axis labels and title\n",
    "plt.xlabel('Rating')\n",
    "plt.ylabel('Votes')\n",
    "plt.title('Cluster Plot');"
   ]
  },
  {
   "cell_type": "markdown",
   "id": "e194d7ef",
   "metadata": {},
   "source": [
    "### 4.7 Cluster Analysis DBSCAN"
   ]
  },
  {
   "cell_type": "code",
   "execution_count": 175,
   "id": "15b1b439",
   "metadata": {},
   "outputs": [],
   "source": [
    "import numpy as np\n",
    "from sklearn.preprocessing import StandardScaler\n",
    "from sklearn.cluster import DBSCAN\n",
    "\n",
    "# Select the variables to cluster\n",
    "X = movies[['run_time', 'imdb_rating', 'votes', 'gross_total']]\n",
    "\n",
    "# Standardize the data\n",
    "scaler = StandardScaler()\n",
    "X_std = scaler.fit_transform(X)\n",
    "\n",
    "# Create a DBSCAN object\n",
    "dbscan = DBSCAN(eps=0.5, min_samples=5)\n",
    "\n",
    "# Fit the data to the DBSCAN object\n",
    "dbscan.fit(X_std)\n",
    "\n",
    "# Extract the labels and core samples\n",
    "labels = dbscan.labels_\n",
    "core_samples_mask = np.zeros_like(labels, dtype=bool)\n",
    "core_samples_mask[dbscan.core_sample_indices_] = True"
   ]
  },
  {
   "cell_type": "code",
   "execution_count": 187,
   "id": "4bf4578a",
   "metadata": {},
   "outputs": [
    {
     "data": {
      "image/png": "[encoded data removed]",
      "text/plain": [
       "<Figure size 720x432 with 1 Axes>"
      ]
     },
     "metadata": {},
     "output_type": "display_data"
    }
   ],
   "source": [
    "# We can plot the results of DBSCAN\n",
    "# which are unlike the Kmeans method\n",
    "\n",
    "plt.scatter(X['run_time'], X['votes'], c=labels)\n",
    "plt.xlabel('Run time')\n",
    "plt.ylabel('Votes')\n",
    "plt.show()"
   ]
  },
  {
   "cell_type": "code",
   "execution_count": 182,
   "id": "f1195b93",
   "metadata": {},
   "outputs": [],
   "source": [
    "# Let's add the DSCAN labels to our dataset\n",
    "movies['dbscan'] = labels"
   ]
  },
  {
   "cell_type": "code",
   "execution_count": 194,
   "id": "f12fd0e1",
   "metadata": {},
   "outputs": [
    {
     "data": {
      "text/plain": [
       "-1    87\n",
       " 0     7\n",
       " 1     5\n",
       "Name: dbscan, dtype: int64"
      ]
     },
     "execution_count": 194,
     "metadata": {},
     "output_type": "execute_result"
    }
   ],
   "source": [
    "# By default the method create three groups\n",
    "# The problem here is that we have a very big group and two very small ones\n",
    "movies['dbscan'].value_counts()"
   ]
  },
  {
   "cell_type": "code",
   "execution_count": 185,
   "id": "5cb3bae2",
   "metadata": {},
   "outputs": [
    {
     "data": {
      "text/html": [
       "<div>\n",
       "<style scoped>\n",
       "    .dataframe tbody tr th:only-of-type {\n",
       "        vertical-align: middle;\n",
       "    }\n",
       "\n",
       "    .dataframe tbody tr th {\n",
       "        vertical-align: top;\n",
       "    }\n",
       "\n",
       "    .dataframe thead th {\n",
       "        text-align: right;\n",
       "    }\n",
       "</style>\n",
       "<table border=\"1\" class=\"dataframe\">\n",
       "  <thead>\n",
       "    <tr style=\"text-align: right;\">\n",
       "      <th></th>\n",
       "      <th>movie_name</th>\n",
       "      <th>year_of_release</th>\n",
       "      <th>category</th>\n",
       "      <th>run_time</th>\n",
       "      <th>genre</th>\n",
       "      <th>imdb_rating</th>\n",
       "      <th>votes</th>\n",
       "      <th>gross_total</th>\n",
       "      <th>cluster</th>\n",
       "      <th>dbscan</th>\n",
       "    </tr>\n",
       "  </thead>\n",
       "  <tbody>\n",
       "    <tr>\n",
       "      <th>17</th>\n",
       "      <td>Some Like It Hot</td>\n",
       "      <td>1959-01-01</td>\n",
       "      <td>Passed</td>\n",
       "      <td>121</td>\n",
       "      <td>Comedy, Music, Romance</td>\n",
       "      <td>8.2</td>\n",
       "      <td>269346</td>\n",
       "      <td>25.00</td>\n",
       "      <td>-1</td>\n",
       "      <td>0</td>\n",
       "    </tr>\n",
       "    <tr>\n",
       "      <th>31</th>\n",
       "      <td>North by Northwest</td>\n",
       "      <td>1959-01-01</td>\n",
       "      <td>Approved</td>\n",
       "      <td>136</td>\n",
       "      <td>Action, Adventure, Mystery</td>\n",
       "      <td>8.3</td>\n",
       "      <td>330232</td>\n",
       "      <td>13.28</td>\n",
       "      <td>-1</td>\n",
       "      <td>0</td>\n",
       "    </tr>\n",
       "    <tr>\n",
       "      <th>35</th>\n",
       "      <td>Citizen Kane</td>\n",
       "      <td>1941-01-01</td>\n",
       "      <td>PG</td>\n",
       "      <td>119</td>\n",
       "      <td>Drama, Mystery</td>\n",
       "      <td>8.3</td>\n",
       "      <td>444359</td>\n",
       "      <td>1.59</td>\n",
       "      <td>-1</td>\n",
       "      <td>0</td>\n",
       "    </tr>\n",
       "    <tr>\n",
       "      <th>60</th>\n",
       "      <td>The Lives of Others</td>\n",
       "      <td>2006-01-01</td>\n",
       "      <td>R</td>\n",
       "      <td>137</td>\n",
       "      <td>Drama, Mystery, Thriller</td>\n",
       "      <td>8.4</td>\n",
       "      <td>391480</td>\n",
       "      <td>11.29</td>\n",
       "      <td>-1</td>\n",
       "      <td>0</td>\n",
       "    </tr>\n",
       "    <tr>\n",
       "      <th>63</th>\n",
       "      <td>Chinatown</td>\n",
       "      <td>1974-01-01</td>\n",
       "      <td>R</td>\n",
       "      <td>130</td>\n",
       "      <td>Drama, Mystery, Thriller</td>\n",
       "      <td>8.2</td>\n",
       "      <td>329110</td>\n",
       "      <td>8.49</td>\n",
       "      <td>-1</td>\n",
       "      <td>0</td>\n",
       "    </tr>\n",
       "    <tr>\n",
       "      <th>69</th>\n",
       "      <td>Vertigo</td>\n",
       "      <td>1958-01-01</td>\n",
       "      <td>PG</td>\n",
       "      <td>128</td>\n",
       "      <td>Mystery, Romance, Thriller</td>\n",
       "      <td>8.3</td>\n",
       "      <td>404626</td>\n",
       "      <td>3.20</td>\n",
       "      <td>-1</td>\n",
       "      <td>0</td>\n",
       "    </tr>\n",
       "    <tr>\n",
       "      <th>95</th>\n",
       "      <td>Cool Hand Luke</td>\n",
       "      <td>1967-01-01</td>\n",
       "      <td>GP</td>\n",
       "      <td>127</td>\n",
       "      <td>Crime, Drama</td>\n",
       "      <td>8.1</td>\n",
       "      <td>178888</td>\n",
       "      <td>16.22</td>\n",
       "      <td>-1</td>\n",
       "      <td>0</td>\n",
       "    </tr>\n",
       "  </tbody>\n",
       "</table>\n",
       "</div>"
      ],
      "text/plain": [
       "             movie_name year_of_release  category  run_time  \\\n",
       "17     Some Like It Hot      1959-01-01    Passed       121   \n",
       "31   North by Northwest      1959-01-01  Approved       136   \n",
       "35         Citizen Kane      1941-01-01        PG       119   \n",
       "60  The Lives of Others      2006-01-01         R       137   \n",
       "63            Chinatown      1974-01-01         R       130   \n",
       "69              Vertigo      1958-01-01        PG       128   \n",
       "95       Cool Hand Luke      1967-01-01        GP       127   \n",
       "\n",
       "                         genre  imdb_rating   votes  gross_total  cluster  \\\n",
       "17      Comedy, Music, Romance          8.2  269346        25.00       -1   \n",
       "31  Action, Adventure, Mystery          8.3  330232        13.28       -1   \n",
       "35              Drama, Mystery          8.3  444359         1.59       -1   \n",
       "60    Drama, Mystery, Thriller          8.4  391480        11.29       -1   \n",
       "63    Drama, Mystery, Thriller          8.2  329110         8.49       -1   \n",
       "69  Mystery, Romance, Thriller          8.3  404626         3.20       -1   \n",
       "95                Crime, Drama          8.1  178888        16.22       -1   \n",
       "\n",
       "    dbscan  \n",
       "17       0  \n",
       "31       0  \n",
       "35       0  \n",
       "60       0  \n",
       "63       0  \n",
       "69       0  \n",
       "95       0  "
      ]
     },
     "execution_count": 185,
     "metadata": {},
     "output_type": "execute_result"
    }
   ],
   "source": [
    "# Going a little deeper into the data, we can see that both groups have a low gross total and almost the same rating\n",
    "movies[movies['dbscan'] == 0]"
   ]
  },
  {
   "cell_type": "code",
   "execution_count": 190,
   "id": "3bcf3d36",
   "metadata": {},
   "outputs": [
    {
     "data": {
      "text/html": [
       "<div>\n",
       "<style scoped>\n",
       "    .dataframe tbody tr th:only-of-type {\n",
       "        vertical-align: middle;\n",
       "    }\n",
       "\n",
       "    .dataframe tbody tr th {\n",
       "        vertical-align: top;\n",
       "    }\n",
       "\n",
       "    .dataframe thead th {\n",
       "        text-align: right;\n",
       "    }\n",
       "</style>\n",
       "<table border=\"1\" class=\"dataframe\">\n",
       "  <thead>\n",
       "    <tr style=\"text-align: right;\">\n",
       "      <th></th>\n",
       "      <th>movie_name</th>\n",
       "      <th>year_of_release</th>\n",
       "      <th>category</th>\n",
       "      <th>run_time</th>\n",
       "      <th>genre</th>\n",
       "      <th>imdb_rating</th>\n",
       "      <th>votes</th>\n",
       "      <th>gross_total</th>\n",
       "      <th>cluster</th>\n",
       "      <th>dbscan</th>\n",
       "    </tr>\n",
       "  </thead>\n",
       "  <tbody>\n",
       "    <tr>\n",
       "      <th>18</th>\n",
       "      <td>Blade Runner</td>\n",
       "      <td>1982-01-01</td>\n",
       "      <td>R</td>\n",
       "      <td>117</td>\n",
       "      <td>Action, Drama, Sci-Fi</td>\n",
       "      <td>8.1</td>\n",
       "      <td>773425</td>\n",
       "      <td>32.87</td>\n",
       "      <td>-1</td>\n",
       "      <td>1</td>\n",
       "    </tr>\n",
       "    <tr>\n",
       "      <th>27</th>\n",
       "      <td>Taxi Driver</td>\n",
       "      <td>1976-01-01</td>\n",
       "      <td>R</td>\n",
       "      <td>114</td>\n",
       "      <td>Crime, Drama</td>\n",
       "      <td>8.2</td>\n",
       "      <td>836871</td>\n",
       "      <td>28.26</td>\n",
       "      <td>-1</td>\n",
       "      <td>1</td>\n",
       "    </tr>\n",
       "    <tr>\n",
       "      <th>50</th>\n",
       "      <td>Amélie</td>\n",
       "      <td>2001-01-01</td>\n",
       "      <td>R</td>\n",
       "      <td>122</td>\n",
       "      <td>Comedy, Romance</td>\n",
       "      <td>8.3</td>\n",
       "      <td>759411</td>\n",
       "      <td>33.23</td>\n",
       "      <td>-1</td>\n",
       "      <td>1</td>\n",
       "    </tr>\n",
       "    <tr>\n",
       "      <th>53</th>\n",
       "      <td>Full Metal Jacket</td>\n",
       "      <td>1987-01-01</td>\n",
       "      <td>R</td>\n",
       "      <td>116</td>\n",
       "      <td>Drama, War</td>\n",
       "      <td>8.3</td>\n",
       "      <td>745546</td>\n",
       "      <td>46.36</td>\n",
       "      <td>-1</td>\n",
       "      <td>1</td>\n",
       "    </tr>\n",
       "    <tr>\n",
       "      <th>96</th>\n",
       "      <td>Eternal Sunshine of the Spotless Mind</td>\n",
       "      <td>2004-01-01</td>\n",
       "      <td>R</td>\n",
       "      <td>108</td>\n",
       "      <td>Drama, Romance, Sci-Fi</td>\n",
       "      <td>8.3</td>\n",
       "      <td>1011004</td>\n",
       "      <td>34.40</td>\n",
       "      <td>-1</td>\n",
       "      <td>1</td>\n",
       "    </tr>\n",
       "  </tbody>\n",
       "</table>\n",
       "</div>"
      ],
      "text/plain": [
       "                               movie_name year_of_release category  run_time  \\\n",
       "18                           Blade Runner      1982-01-01        R       117   \n",
       "27                            Taxi Driver      1976-01-01        R       114   \n",
       "50                                 Amélie      2001-01-01        R       122   \n",
       "53                      Full Metal Jacket      1987-01-01        R       116   \n",
       "96  Eternal Sunshine of the Spotless Mind      2004-01-01        R       108   \n",
       "\n",
       "                     genre  imdb_rating    votes  gross_total  cluster  dbscan  \n",
       "18   Action, Drama, Sci-Fi          8.1   773425        32.87       -1       1  \n",
       "27            Crime, Drama          8.2   836871        28.26       -1       1  \n",
       "50         Comedy, Romance          8.3   759411        33.23       -1       1  \n",
       "53              Drama, War          8.3   745546        46.36       -1       1  \n",
       "96  Drama, Romance, Sci-Fi          8.3  1011004        34.40       -1       1  "
      ]
     },
     "execution_count": 190,
     "metadata": {},
     "output_type": "execute_result"
    }
   ],
   "source": [
    "movies[movies['dbscan'] == 1]"
   ]
  },
  {
   "cell_type": "markdown",
   "id": "ee3be6b4",
   "metadata": {},
   "source": [
    "### 4.8 Agglomerative Clustering"
   ]
  },
  {
   "cell_type": "code",
   "execution_count": 203,
   "id": "b42db38e",
   "metadata": {},
   "outputs": [
    {
     "data": {
      "image/png": "[encoded data removed]",
      "text/plain": [
       "<Figure size 720x432 with 1 Axes>"
      ]
     },
     "metadata": {},
     "output_type": "display_data"
    }
   ],
   "source": [
    "from sklearn.cluster import AgglomerativeClustering\n",
    "\n",
    "# Select the variables to cluster\n",
    "X = movies[['run_time', 'imdb_rating', 'votes', 'gross_total']]\n",
    "\n",
    "# Create an Agglomerative Clustering object\n",
    "agg_clustering = AgglomerativeClustering(n_clusters=3)\n",
    "\n",
    "# Fit the data to the Agglomerative Clustering object\n",
    "agg_clustering.fit(X)\n",
    "\n",
    "# Extract the labels\n",
    "labelsagg = agg_clustering.labels_\n",
    "\n",
    "# Plot the results\n",
    "plt.scatter(X.iloc[:, 0], X.iloc[:, 1], c=labelsagg)\n",
    "plt.xlabel('Run Time')\n",
    "plt.ylabel('IMDB Rating')\n",
    "plt.show()\n",
    "\n",
    "# This method is not very useful, because it mix almost all the categories"
   ]
  },
  {
   "cell_type": "code",
   "execution_count": 204,
   "id": "e8be2bea",
   "metadata": {},
   "outputs": [],
   "source": [
    "movies['Agglomerative'] = labelsagg"
   ]
  },
  {
   "cell_type": "code",
   "execution_count": 205,
   "id": "915d8f1b",
   "metadata": {},
   "outputs": [
    {
     "data": {
      "text/plain": [
       "0    55\n",
       "1    33\n",
       "2    11\n",
       "Name: Agglomerative, dtype: int64"
      ]
     },
     "execution_count": 205,
     "metadata": {},
     "output_type": "execute_result"
    }
   ],
   "source": [
    "movies['Agglomerative'].value_counts()"
   ]
  }
 ],
 "metadata": {
  "kernelspec": {
   "display_name": "Python 3 (ipykernel)",
   "language": "python",
   "name": "python3"
  },
  "language_info": {
   "codemirror_mode": {
    "name": "ipython",
    "version": 3
   },
   "file_extension": ".py",
   "mimetype": "text/x-python",
   "name": "python",
   "nbconvert_exporter": "python",
   "pygments_lexer": "ipython3",
   "version": "3.9.12"
  }
 },
 "nbformat": 4,
 "nbformat_minor": 5
}
