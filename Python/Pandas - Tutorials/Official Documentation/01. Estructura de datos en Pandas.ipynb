{
 "cells": [
  {
   "cell_type": "markdown",
   "id": "d370feba",
   "metadata": {},
   "source": [
    "# Estructura de datos en Pandas\n",
    "## Series y Data Frame"
   ]
  },
  {
   "cell_type": "code",
   "execution_count": 2,
   "id": "b9d5ef6f",
   "metadata": {},
   "outputs": [],
   "source": [
    "#importar librerias\n",
    "\n",
    "import numpy as np\n",
    "import pandas as pd"
   ]
  },
  {
   "cell_type": "markdown",
   "id": "18756e54",
   "metadata": {},
   "source": [
    "## Las Series"
   ]
  },
  {
   "cell_type": "markdown",
   "id": "5927f6e2",
   "metadata": {},
   "source": [
    "#### La serie es una matriz etiquetada unidimensional capaz de contener cualquier tipo de datos (integers, strings, floating point numbers, Python objects, etc). Las etiquetas de los ejes se conocen colectivamente como el índice. Para que se más fácil de entender, una Serie es un registro de filas (rows) de una base de datos"
   ]
  },
  {
   "cell_type": "code",
   "execution_count": 3,
   "id": "5d4e2cb0",
   "metadata": {},
   "outputs": [],
   "source": [
    "# Para construir una serie, debemos utilizar la estructura: s = pd.Series(data, index=index)\n",
    "# Data en este caso puede ser: un diccionario, una tabla de datos, un nrray, un escalar"
   ]
  },
  {
   "cell_type": "markdown",
   "id": "81922174",
   "metadata": {},
   "source": [
    "### Serie desde un \"nrray\""
   ]
  },
  {
   "cell_type": "code",
   "execution_count": 5,
   "id": "cb2f740b",
   "metadata": {},
   "outputs": [],
   "source": [
    "# Si los datos son un ndarray, el índice debe tener la misma longitud que los datos. \n",
    "# Si no se pasa ningún índice, se creará uno con valores númericos"
   ]
  },
  {
   "cell_type": "code",
   "execution_count": 6,
   "id": "903ac789",
   "metadata": {},
   "outputs": [],
   "source": [
    "s = pd.Series(np.random.randn(5), index=[\"a\", \"b\", \"c\", \"d\", \"e\"])"
   ]
  },
  {
   "cell_type": "code",
   "execution_count": 7,
   "id": "0edbe9f7",
   "metadata": {},
   "outputs": [
    {
     "data": {
      "text/plain": [
       "a   -0.873581\n",
       "b    0.212376\n",
       "c   -0.586822\n",
       "d   -0.561992\n",
       "e    1.297139\n",
       "dtype: float64"
      ]
     },
     "execution_count": 7,
     "metadata": {},
     "output_type": "execute_result"
    }
   ],
   "source": [
    "s"
   ]
  },
  {
   "cell_type": "code",
   "execution_count": 8,
   "id": "a5c80a93",
   "metadata": {},
   "outputs": [
    {
     "data": {
      "text/plain": [
       "Index(['a', 'b', 'c', 'd', 'e'], dtype='object')"
      ]
     },
     "execution_count": 8,
     "metadata": {},
     "output_type": "execute_result"
    }
   ],
   "source": [
    "s.index #Podemos ver el índice de la serie (si es un ndarray) utilizando el método: serie.index"
   ]
  },
  {
   "cell_type": "code",
   "execution_count": 9,
   "id": "a26d2dc9",
   "metadata": {},
   "outputs": [
    {
     "data": {
      "text/plain": [
       "0    0.886380\n",
       "1    1.514235\n",
       "2    0.849940\n",
       "3   -2.900079\n",
       "4   -0.630388\n",
       "dtype: float64"
      ]
     },
     "execution_count": 9,
     "metadata": {},
     "output_type": "execute_result"
    }
   ],
   "source": [
    "pd.Series(np.random.randn(5)) #En este ejemplo, se crearán índices númericos de forma automática"
   ]
  },
  {
   "cell_type": "markdown",
   "id": "cba079da",
   "metadata": {},
   "source": [
    "### Serie desde un diccionario"
   ]
  },
  {
   "cell_type": "code",
   "execution_count": 14,
   "id": "d6bde71e",
   "metadata": {},
   "outputs": [],
   "source": [
    "# Cuando los datos son un diccionario y no se pasa un índice, \n",
    "# el índice de la serie se ordenará según el orden de inserción de los elementos del diccionario\n",
    "\n",
    "d = {\"b\": 1, \"a\": 0, \"c\": 2}"
   ]
  },
  {
   "cell_type": "code",
   "execution_count": 15,
   "id": "e8477ea8",
   "metadata": {},
   "outputs": [
    {
     "data": {
      "text/plain": [
       "b    1\n",
       "a    0\n",
       "c    2\n",
       "dtype: int64"
      ]
     },
     "execution_count": 15,
     "metadata": {},
     "output_type": "execute_result"
    }
   ],
   "source": [
    "pd.Series(d) #Para ver los índices, debemos utilizar la función: pd.Series()"
   ]
  },
  {
   "cell_type": "markdown",
   "id": "0103967d",
   "metadata": {},
   "source": [
    "### Serie desde un valor escalar"
   ]
  },
  {
   "cell_type": "code",
   "execution_count": 16,
   "id": "c07c2740",
   "metadata": {},
   "outputs": [],
   "source": [
    "# Si los datos son un valor escalar, se debe proporcionar un índice. \n",
    "# El valor se repetirá para coincidir con la longitud del índice."
   ]
  },
  {
   "cell_type": "code",
   "execution_count": 17,
   "id": "a73cd781",
   "metadata": {},
   "outputs": [
    {
     "data": {
      "text/plain": [
       "a    5.0\n",
       "b    5.0\n",
       "c    5.0\n",
       "d    5.0\n",
       "e    5.0\n",
       "dtype: float64"
      ]
     },
     "execution_count": 17,
     "metadata": {},
     "output_type": "execute_result"
    }
   ],
   "source": [
    "pd.Series(5.0, index=[\"a\", \"b\", \"c\", \"d\", \"e\"])"
   ]
  },
  {
   "cell_type": "markdown",
   "id": "ffdda331",
   "metadata": {},
   "source": [
    "### Una diferencia clave entre Series y ndarray es que las operaciones entre Series alinean automáticamente los datos según la etiqueta."
   ]
  },
  {
   "cell_type": "code",
   "execution_count": 18,
   "id": "844c1bf8",
   "metadata": {},
   "outputs": [
    {
     "data": {
      "text/plain": [
       "a         NaN\n",
       "b    0.424753\n",
       "c   -1.173644\n",
       "d   -1.123984\n",
       "e         NaN\n",
       "dtype: float64"
      ]
     },
     "execution_count": 18,
     "metadata": {},
     "output_type": "execute_result"
    }
   ],
   "source": [
    "s[1:] + s[:-1]"
   ]
  },
  {
   "cell_type": "markdown",
   "id": "34562ab9",
   "metadata": {},
   "source": [
    "## Los Data Frame"
   ]
  },
  {
   "cell_type": "markdown",
   "id": "fd8b2edf",
   "metadata": {},
   "source": [
    "#### Los Data Frame son una estructura de datos etiquetada bidimensional con columnas de tipos potencialmente diferentes. Puede pensar en ello como una hoja de cálculo o una tabla SQL, o un diccionario de objetos. Generalmente es el objeto pandas más utilizado. Junto con los datos, puede pasar opcionalmente argumentos de índice (etiquetas de fila) y columnas (etiquetas de columna). Si pasas un índice y/o columnas, estás garantizando el índice y/o columnas del DataFrame resultante\n",
    "\n",
    "#### La función es pd.DataFrame()"
   ]
  },
  {
   "cell_type": "markdown",
   "id": "ee4286f9",
   "metadata": {},
   "source": [
    "### Data Frame desde un diccionario"
   ]
  },
  {
   "cell_type": "code",
   "execution_count": 20,
   "id": "bd0611b4",
   "metadata": {},
   "outputs": [],
   "source": [
    "d = {\n",
    "    \"one\": pd.Series([1.0, 2.0, 3.0], index=[\"a\", \"b\", \"c\"]),\n",
    "    \"two\": pd.Series([1.0, 2.0, 3.0, 4.0], index=[\"a\", \"b\", \"c\", \"d\"]),\n",
    "}\n"
   ]
  },
  {
   "cell_type": "code",
   "execution_count": 23,
   "id": "b3471e24",
   "metadata": {},
   "outputs": [],
   "source": [
    "df = pd.DataFrame(d)"
   ]
  },
  {
   "cell_type": "code",
   "execution_count": 24,
   "id": "6ff139d7",
   "metadata": {},
   "outputs": [
    {
     "data": {
      "text/html": [
       "<div>\n",
       "<style scoped>\n",
       "    .dataframe tbody tr th:only-of-type {\n",
       "        vertical-align: middle;\n",
       "    }\n",
       "\n",
       "    .dataframe tbody tr th {\n",
       "        vertical-align: top;\n",
       "    }\n",
       "\n",
       "    .dataframe thead th {\n",
       "        text-align: right;\n",
       "    }\n",
       "</style>\n",
       "<table border=\"1\" class=\"dataframe\">\n",
       "  <thead>\n",
       "    <tr style=\"text-align: right;\">\n",
       "      <th></th>\n",
       "      <th>one</th>\n",
       "      <th>two</th>\n",
       "    </tr>\n",
       "  </thead>\n",
       "  <tbody>\n",
       "    <tr>\n",
       "      <th>a</th>\n",
       "      <td>1.0</td>\n",
       "      <td>1.0</td>\n",
       "    </tr>\n",
       "    <tr>\n",
       "      <th>b</th>\n",
       "      <td>2.0</td>\n",
       "      <td>2.0</td>\n",
       "    </tr>\n",
       "    <tr>\n",
       "      <th>c</th>\n",
       "      <td>3.0</td>\n",
       "      <td>3.0</td>\n",
       "    </tr>\n",
       "    <tr>\n",
       "      <th>d</th>\n",
       "      <td>NaN</td>\n",
       "      <td>4.0</td>\n",
       "    </tr>\n",
       "  </tbody>\n",
       "</table>\n",
       "</div>"
      ],
      "text/plain": [
       "   one  two\n",
       "a  1.0  1.0\n",
       "b  2.0  2.0\n",
       "c  3.0  3.0\n",
       "d  NaN  4.0"
      ]
     },
     "execution_count": 24,
     "metadata": {},
     "output_type": "execute_result"
    }
   ],
   "source": [
    "df"
   ]
  },
  {
   "cell_type": "code",
   "execution_count": 25,
   "id": "c0afe1fa",
   "metadata": {},
   "outputs": [
    {
     "data": {
      "text/html": [
       "<div>\n",
       "<style scoped>\n",
       "    .dataframe tbody tr th:only-of-type {\n",
       "        vertical-align: middle;\n",
       "    }\n",
       "\n",
       "    .dataframe tbody tr th {\n",
       "        vertical-align: top;\n",
       "    }\n",
       "\n",
       "    .dataframe thead th {\n",
       "        text-align: right;\n",
       "    }\n",
       "</style>\n",
       "<table border=\"1\" class=\"dataframe\">\n",
       "  <thead>\n",
       "    <tr style=\"text-align: right;\">\n",
       "      <th></th>\n",
       "      <th>one</th>\n",
       "      <th>two</th>\n",
       "    </tr>\n",
       "  </thead>\n",
       "  <tbody>\n",
       "    <tr>\n",
       "      <th>d</th>\n",
       "      <td>NaN</td>\n",
       "      <td>4.0</td>\n",
       "    </tr>\n",
       "    <tr>\n",
       "      <th>b</th>\n",
       "      <td>2.0</td>\n",
       "      <td>2.0</td>\n",
       "    </tr>\n",
       "    <tr>\n",
       "      <th>a</th>\n",
       "      <td>1.0</td>\n",
       "      <td>1.0</td>\n",
       "    </tr>\n",
       "  </tbody>\n",
       "</table>\n",
       "</div>"
      ],
      "text/plain": [
       "   one  two\n",
       "d  NaN  4.0\n",
       "b  2.0  2.0\n",
       "a  1.0  1.0"
      ]
     },
     "execution_count": 25,
     "metadata": {},
     "output_type": "execute_result"
    }
   ],
   "source": [
    "pd.DataFrame(d, index=[\"d\", \"b\", \"a\"])"
   ]
  },
  {
   "cell_type": "code",
   "execution_count": 27,
   "id": "58f59b45",
   "metadata": {},
   "outputs": [
    {
     "data": {
      "text/html": [
       "<div>\n",
       "<style scoped>\n",
       "    .dataframe tbody tr th:only-of-type {\n",
       "        vertical-align: middle;\n",
       "    }\n",
       "\n",
       "    .dataframe tbody tr th {\n",
       "        vertical-align: top;\n",
       "    }\n",
       "\n",
       "    .dataframe thead th {\n",
       "        text-align: right;\n",
       "    }\n",
       "</style>\n",
       "<table border=\"1\" class=\"dataframe\">\n",
       "  <thead>\n",
       "    <tr style=\"text-align: right;\">\n",
       "      <th></th>\n",
       "      <th>two</th>\n",
       "      <th>three</th>\n",
       "    </tr>\n",
       "  </thead>\n",
       "  <tbody>\n",
       "    <tr>\n",
       "      <th>d</th>\n",
       "      <td>4.0</td>\n",
       "      <td>NaN</td>\n",
       "    </tr>\n",
       "    <tr>\n",
       "      <th>b</th>\n",
       "      <td>2.0</td>\n",
       "      <td>NaN</td>\n",
       "    </tr>\n",
       "    <tr>\n",
       "      <th>a</th>\n",
       "      <td>1.0</td>\n",
       "      <td>NaN</td>\n",
       "    </tr>\n",
       "  </tbody>\n",
       "</table>\n",
       "</div>"
      ],
      "text/plain": [
       "   two three\n",
       "d  4.0   NaN\n",
       "b  2.0   NaN\n",
       "a  1.0   NaN"
      ]
     },
     "execution_count": 27,
     "metadata": {},
     "output_type": "execute_result"
    }
   ],
   "source": [
    "pd.DataFrame(d, index=[\"d\", \"b\", \"a\"], columns=[\"two\", \"three\"]) #Renombrar columnas"
   ]
  },
  {
   "cell_type": "markdown",
   "id": "e24cdb5b",
   "metadata": {},
   "source": [
    "### Data Frame desde un diccionario que contenga ndarrays o listas"
   ]
  },
  {
   "cell_type": "code",
   "execution_count": 28,
   "id": "34fff434",
   "metadata": {},
   "outputs": [],
   "source": [
    "# Los ndarrays deben tener todos la misma longitud. Si se pasa un índice, claramente \n",
    "# también debe tener la misma longitud que las matrices. Si no se pasa ningún índice, \n",
    "# el resultado será range (n), donde n es la longitud de la matriz"
   ]
  },
  {
   "cell_type": "code",
   "execution_count": 29,
   "id": "be1ad835",
   "metadata": {},
   "outputs": [],
   "source": [
    "d = {\"one\": [1.0, 2.0, 3.0, 4.0], \"two\": [4.0, 3.0, 2.0, 1.0]}"
   ]
  },
  {
   "cell_type": "code",
   "execution_count": 30,
   "id": "0d4378d8",
   "metadata": {},
   "outputs": [
    {
     "data": {
      "text/html": [
       "<div>\n",
       "<style scoped>\n",
       "    .dataframe tbody tr th:only-of-type {\n",
       "        vertical-align: middle;\n",
       "    }\n",
       "\n",
       "    .dataframe tbody tr th {\n",
       "        vertical-align: top;\n",
       "    }\n",
       "\n",
       "    .dataframe thead th {\n",
       "        text-align: right;\n",
       "    }\n",
       "</style>\n",
       "<table border=\"1\" class=\"dataframe\">\n",
       "  <thead>\n",
       "    <tr style=\"text-align: right;\">\n",
       "      <th></th>\n",
       "      <th>one</th>\n",
       "      <th>two</th>\n",
       "    </tr>\n",
       "  </thead>\n",
       "  <tbody>\n",
       "    <tr>\n",
       "      <th>0</th>\n",
       "      <td>1.0</td>\n",
       "      <td>4.0</td>\n",
       "    </tr>\n",
       "    <tr>\n",
       "      <th>1</th>\n",
       "      <td>2.0</td>\n",
       "      <td>3.0</td>\n",
       "    </tr>\n",
       "    <tr>\n",
       "      <th>2</th>\n",
       "      <td>3.0</td>\n",
       "      <td>2.0</td>\n",
       "    </tr>\n",
       "    <tr>\n",
       "      <th>3</th>\n",
       "      <td>4.0</td>\n",
       "      <td>1.0</td>\n",
       "    </tr>\n",
       "  </tbody>\n",
       "</table>\n",
       "</div>"
      ],
      "text/plain": [
       "   one  two\n",
       "0  1.0  4.0\n",
       "1  2.0  3.0\n",
       "2  3.0  2.0\n",
       "3  4.0  1.0"
      ]
     },
     "execution_count": 30,
     "metadata": {},
     "output_type": "execute_result"
    }
   ],
   "source": [
    "pd.DataFrame(d)"
   ]
  },
  {
   "cell_type": "code",
   "execution_count": 32,
   "id": "794895cb",
   "metadata": {},
   "outputs": [
    {
     "data": {
      "text/html": [
       "<div>\n",
       "<style scoped>\n",
       "    .dataframe tbody tr th:only-of-type {\n",
       "        vertical-align: middle;\n",
       "    }\n",
       "\n",
       "    .dataframe tbody tr th {\n",
       "        vertical-align: top;\n",
       "    }\n",
       "\n",
       "    .dataframe thead th {\n",
       "        text-align: right;\n",
       "    }\n",
       "</style>\n",
       "<table border=\"1\" class=\"dataframe\">\n",
       "  <thead>\n",
       "    <tr style=\"text-align: right;\">\n",
       "      <th></th>\n",
       "      <th>one</th>\n",
       "      <th>two</th>\n",
       "    </tr>\n",
       "  </thead>\n",
       "  <tbody>\n",
       "    <tr>\n",
       "      <th>a</th>\n",
       "      <td>1.0</td>\n",
       "      <td>4.0</td>\n",
       "    </tr>\n",
       "    <tr>\n",
       "      <th>b</th>\n",
       "      <td>2.0</td>\n",
       "      <td>3.0</td>\n",
       "    </tr>\n",
       "    <tr>\n",
       "      <th>c</th>\n",
       "      <td>3.0</td>\n",
       "      <td>2.0</td>\n",
       "    </tr>\n",
       "    <tr>\n",
       "      <th>d</th>\n",
       "      <td>4.0</td>\n",
       "      <td>1.0</td>\n",
       "    </tr>\n",
       "  </tbody>\n",
       "</table>\n",
       "</div>"
      ],
      "text/plain": [
       "   one  two\n",
       "a  1.0  4.0\n",
       "b  2.0  3.0\n",
       "c  3.0  2.0\n",
       "d  4.0  1.0"
      ]
     },
     "execution_count": 32,
     "metadata": {},
     "output_type": "execute_result"
    }
   ],
   "source": [
    "pd.DataFrame(d, index=[\"a\", \"b\", \"c\", \"d\"]) # Se sobrescribe el índice, pasa a ser letras en lugar de números"
   ]
  },
  {
   "cell_type": "markdown",
   "id": "7028b4c8",
   "metadata": {},
   "source": [
    "### Data Frame desde una matriz estructurada o de registros"
   ]
  },
  {
   "cell_type": "code",
   "execution_count": 33,
   "id": "a463cfd5",
   "metadata": {},
   "outputs": [],
   "source": [
    "data = np.zeros((2,), dtype=[(\"A\", \"i4\"), (\"B\", \"f4\"), (\"C\", \"a10\")])"
   ]
  },
  {
   "cell_type": "code",
   "execution_count": 34,
   "id": "81779fdb",
   "metadata": {},
   "outputs": [],
   "source": [
    "data[:] = [(1, 2.0, \"Hello\"), (2, 3.0, \"World\")]"
   ]
  },
  {
   "cell_type": "code",
   "execution_count": 35,
   "id": "7738ccc5",
   "metadata": {},
   "outputs": [
    {
     "data": {
      "text/html": [
       "<div>\n",
       "<style scoped>\n",
       "    .dataframe tbody tr th:only-of-type {\n",
       "        vertical-align: middle;\n",
       "    }\n",
       "\n",
       "    .dataframe tbody tr th {\n",
       "        vertical-align: top;\n",
       "    }\n",
       "\n",
       "    .dataframe thead th {\n",
       "        text-align: right;\n",
       "    }\n",
       "</style>\n",
       "<table border=\"1\" class=\"dataframe\">\n",
       "  <thead>\n",
       "    <tr style=\"text-align: right;\">\n",
       "      <th></th>\n",
       "      <th>A</th>\n",
       "      <th>B</th>\n",
       "      <th>C</th>\n",
       "    </tr>\n",
       "  </thead>\n",
       "  <tbody>\n",
       "    <tr>\n",
       "      <th>0</th>\n",
       "      <td>1</td>\n",
       "      <td>2.0</td>\n",
       "      <td>b'Hello'</td>\n",
       "    </tr>\n",
       "    <tr>\n",
       "      <th>1</th>\n",
       "      <td>2</td>\n",
       "      <td>3.0</td>\n",
       "      <td>b'World'</td>\n",
       "    </tr>\n",
       "  </tbody>\n",
       "</table>\n",
       "</div>"
      ],
      "text/plain": [
       "   A    B         C\n",
       "0  1  2.0  b'Hello'\n",
       "1  2  3.0  b'World'"
      ]
     },
     "execution_count": 35,
     "metadata": {},
     "output_type": "execute_result"
    }
   ],
   "source": [
    "pd.DataFrame(data)"
   ]
  },
  {
   "cell_type": "code",
   "execution_count": 36,
   "id": "83f63608",
   "metadata": {},
   "outputs": [
    {
     "data": {
      "text/html": [
       "<div>\n",
       "<style scoped>\n",
       "    .dataframe tbody tr th:only-of-type {\n",
       "        vertical-align: middle;\n",
       "    }\n",
       "\n",
       "    .dataframe tbody tr th {\n",
       "        vertical-align: top;\n",
       "    }\n",
       "\n",
       "    .dataframe thead th {\n",
       "        text-align: right;\n",
       "    }\n",
       "</style>\n",
       "<table border=\"1\" class=\"dataframe\">\n",
       "  <thead>\n",
       "    <tr style=\"text-align: right;\">\n",
       "      <th></th>\n",
       "      <th>A</th>\n",
       "      <th>B</th>\n",
       "      <th>C</th>\n",
       "    </tr>\n",
       "  </thead>\n",
       "  <tbody>\n",
       "    <tr>\n",
       "      <th>first</th>\n",
       "      <td>1</td>\n",
       "      <td>2.0</td>\n",
       "      <td>b'Hello'</td>\n",
       "    </tr>\n",
       "    <tr>\n",
       "      <th>second</th>\n",
       "      <td>2</td>\n",
       "      <td>3.0</td>\n",
       "      <td>b'World'</td>\n",
       "    </tr>\n",
       "  </tbody>\n",
       "</table>\n",
       "</div>"
      ],
      "text/plain": [
       "        A    B         C\n",
       "first   1  2.0  b'Hello'\n",
       "second  2  3.0  b'World'"
      ]
     },
     "execution_count": 36,
     "metadata": {},
     "output_type": "execute_result"
    }
   ],
   "source": [
    "pd.DataFrame(data, index=[\"first\", \"second\"]) #Se sustituyen los nombres de los índices"
   ]
  },
  {
   "cell_type": "code",
   "execution_count": 37,
   "id": "ff4cc8cd",
   "metadata": {},
   "outputs": [
    {
     "data": {
      "text/html": [
       "<div>\n",
       "<style scoped>\n",
       "    .dataframe tbody tr th:only-of-type {\n",
       "        vertical-align: middle;\n",
       "    }\n",
       "\n",
       "    .dataframe tbody tr th {\n",
       "        vertical-align: top;\n",
       "    }\n",
       "\n",
       "    .dataframe thead th {\n",
       "        text-align: right;\n",
       "    }\n",
       "</style>\n",
       "<table border=\"1\" class=\"dataframe\">\n",
       "  <thead>\n",
       "    <tr style=\"text-align: right;\">\n",
       "      <th></th>\n",
       "      <th>C</th>\n",
       "      <th>A</th>\n",
       "      <th>B</th>\n",
       "    </tr>\n",
       "  </thead>\n",
       "  <tbody>\n",
       "    <tr>\n",
       "      <th>0</th>\n",
       "      <td>b'Hello'</td>\n",
       "      <td>1</td>\n",
       "      <td>2.0</td>\n",
       "    </tr>\n",
       "    <tr>\n",
       "      <th>1</th>\n",
       "      <td>b'World'</td>\n",
       "      <td>2</td>\n",
       "      <td>3.0</td>\n",
       "    </tr>\n",
       "  </tbody>\n",
       "</table>\n",
       "</div>"
      ],
      "text/plain": [
       "          C  A    B\n",
       "0  b'Hello'  1  2.0\n",
       "1  b'World'  2  3.0"
      ]
     },
     "execution_count": 37,
     "metadata": {},
     "output_type": "execute_result"
    }
   ],
   "source": [
    "pd.DataFrame(data, columns=[\"C\", \"A\", \"B\"])"
   ]
  },
  {
   "cell_type": "markdown",
   "id": "a5255899",
   "metadata": {},
   "source": [
    "### Data Frame desde una lista de diccionarios"
   ]
  },
  {
   "cell_type": "code",
   "execution_count": 38,
   "id": "40dfbb26",
   "metadata": {},
   "outputs": [],
   "source": [
    "data2 = [{\"a\": 1, \"b\": 2}, {\"a\": 5, \"b\": 10, \"c\": 20}]"
   ]
  },
  {
   "cell_type": "code",
   "execution_count": 39,
   "id": "61e7b069",
   "metadata": {},
   "outputs": [
    {
     "data": {
      "text/plain": [
       "[{'a': 1, 'b': 2}, {'a': 5, 'b': 10, 'c': 20}]"
      ]
     },
     "execution_count": 39,
     "metadata": {},
     "output_type": "execute_result"
    }
   ],
   "source": [
    "data2"
   ]
  },
  {
   "cell_type": "code",
   "execution_count": 40,
   "id": "88643c1b",
   "metadata": {},
   "outputs": [
    {
     "data": {
      "text/html": [
       "<div>\n",
       "<style scoped>\n",
       "    .dataframe tbody tr th:only-of-type {\n",
       "        vertical-align: middle;\n",
       "    }\n",
       "\n",
       "    .dataframe tbody tr th {\n",
       "        vertical-align: top;\n",
       "    }\n",
       "\n",
       "    .dataframe thead th {\n",
       "        text-align: right;\n",
       "    }\n",
       "</style>\n",
       "<table border=\"1\" class=\"dataframe\">\n",
       "  <thead>\n",
       "    <tr style=\"text-align: right;\">\n",
       "      <th></th>\n",
       "      <th>a</th>\n",
       "      <th>b</th>\n",
       "      <th>c</th>\n",
       "    </tr>\n",
       "  </thead>\n",
       "  <tbody>\n",
       "    <tr>\n",
       "      <th>0</th>\n",
       "      <td>1</td>\n",
       "      <td>2</td>\n",
       "      <td>NaN</td>\n",
       "    </tr>\n",
       "    <tr>\n",
       "      <th>1</th>\n",
       "      <td>5</td>\n",
       "      <td>10</td>\n",
       "      <td>20.0</td>\n",
       "    </tr>\n",
       "  </tbody>\n",
       "</table>\n",
       "</div>"
      ],
      "text/plain": [
       "   a   b     c\n",
       "0  1   2   NaN\n",
       "1  5  10  20.0"
      ]
     },
     "execution_count": 40,
     "metadata": {},
     "output_type": "execute_result"
    }
   ],
   "source": [
    "pd.DataFrame(data2)"
   ]
  },
  {
   "cell_type": "code",
   "execution_count": 42,
   "id": "04cee03c",
   "metadata": {},
   "outputs": [
    {
     "data": {
      "text/html": [
       "<div>\n",
       "<style scoped>\n",
       "    .dataframe tbody tr th:only-of-type {\n",
       "        vertical-align: middle;\n",
       "    }\n",
       "\n",
       "    .dataframe tbody tr th {\n",
       "        vertical-align: top;\n",
       "    }\n",
       "\n",
       "    .dataframe thead th {\n",
       "        text-align: right;\n",
       "    }\n",
       "</style>\n",
       "<table border=\"1\" class=\"dataframe\">\n",
       "  <thead>\n",
       "    <tr style=\"text-align: right;\">\n",
       "      <th></th>\n",
       "      <th>a</th>\n",
       "      <th>b</th>\n",
       "    </tr>\n",
       "  </thead>\n",
       "  <tbody>\n",
       "    <tr>\n",
       "      <th>0</th>\n",
       "      <td>1</td>\n",
       "      <td>2</td>\n",
       "    </tr>\n",
       "    <tr>\n",
       "      <th>1</th>\n",
       "      <td>5</td>\n",
       "      <td>10</td>\n",
       "    </tr>\n",
       "  </tbody>\n",
       "</table>\n",
       "</div>"
      ],
      "text/plain": [
       "   a   b\n",
       "0  1   2\n",
       "1  5  10"
      ]
     },
     "execution_count": 42,
     "metadata": {},
     "output_type": "execute_result"
    }
   ],
   "source": [
    "pd.DataFrame(data2, columns=[\"a\", \"b\"]) #Selección de las columas a y b"
   ]
  },
  {
   "cell_type": "markdown",
   "id": "6a00684d",
   "metadata": {},
   "source": [
    "### Data Frame de una tupla que contenga un diccionario"
   ]
  },
  {
   "cell_type": "code",
   "execution_count": 43,
   "id": "12115a0d",
   "metadata": {},
   "outputs": [
    {
     "data": {
      "text/html": [
       "<div>\n",
       "<style scoped>\n",
       "    .dataframe tbody tr th:only-of-type {\n",
       "        vertical-align: middle;\n",
       "    }\n",
       "\n",
       "    .dataframe tbody tr th {\n",
       "        vertical-align: top;\n",
       "    }\n",
       "\n",
       "    .dataframe thead tr th {\n",
       "        text-align: left;\n",
       "    }\n",
       "</style>\n",
       "<table border=\"1\" class=\"dataframe\">\n",
       "  <thead>\n",
       "    <tr>\n",
       "      <th></th>\n",
       "      <th></th>\n",
       "      <th colspan=\"3\" halign=\"left\">a</th>\n",
       "      <th colspan=\"2\" halign=\"left\">b</th>\n",
       "    </tr>\n",
       "    <tr>\n",
       "      <th></th>\n",
       "      <th></th>\n",
       "      <th>b</th>\n",
       "      <th>a</th>\n",
       "      <th>c</th>\n",
       "      <th>a</th>\n",
       "      <th>b</th>\n",
       "    </tr>\n",
       "  </thead>\n",
       "  <tbody>\n",
       "    <tr>\n",
       "      <th rowspan=\"3\" valign=\"top\">A</th>\n",
       "      <th>B</th>\n",
       "      <td>1.0</td>\n",
       "      <td>4.0</td>\n",
       "      <td>5.0</td>\n",
       "      <td>8.0</td>\n",
       "      <td>10.0</td>\n",
       "    </tr>\n",
       "    <tr>\n",
       "      <th>C</th>\n",
       "      <td>2.0</td>\n",
       "      <td>3.0</td>\n",
       "      <td>6.0</td>\n",
       "      <td>7.0</td>\n",
       "      <td>NaN</td>\n",
       "    </tr>\n",
       "    <tr>\n",
       "      <th>D</th>\n",
       "      <td>NaN</td>\n",
       "      <td>NaN</td>\n",
       "      <td>NaN</td>\n",
       "      <td>NaN</td>\n",
       "      <td>9.0</td>\n",
       "    </tr>\n",
       "  </tbody>\n",
       "</table>\n",
       "</div>"
      ],
      "text/plain": [
       "       a              b      \n",
       "       b    a    c    a     b\n",
       "A B  1.0  4.0  5.0  8.0  10.0\n",
       "  C  2.0  3.0  6.0  7.0   NaN\n",
       "  D  NaN  NaN  NaN  NaN   9.0"
      ]
     },
     "execution_count": 43,
     "metadata": {},
     "output_type": "execute_result"
    }
   ],
   "source": [
    "pd.DataFrame(\n",
    "    {\n",
    "        (\"a\", \"b\"): {(\"A\", \"B\"): 1, (\"A\", \"C\"): 2},\n",
    "        (\"a\", \"a\"): {(\"A\", \"C\"): 3, (\"A\", \"B\"): 4},\n",
    "        (\"a\", \"c\"): {(\"A\", \"B\"): 5, (\"A\", \"C\"): 6},\n",
    "        (\"b\", \"a\"): {(\"A\", \"C\"): 7, (\"A\", \"B\"): 8},\n",
    "        (\"b\", \"b\"): {(\"A\", \"D\"): 9, (\"A\", \"B\"): 10},\n",
    "    }\n",
    ")"
   ]
  },
  {
   "cell_type": "markdown",
   "id": "20952cb3",
   "metadata": {},
   "source": [
    "## Seleccionar, sumar y borrar elementos de un data frame"
   ]
  },
  {
   "cell_type": "markdown",
   "id": "c49d4292",
   "metadata": {},
   "source": [
    "#### Puede tratar un DataFrame semánticamente como un dicccionario de objetos en Serie indexados. Obtener, configurar y eliminar columnas funciona con la misma sintaxis que las operaciones de diccionarios, típicas de python"
   ]
  },
  {
   "cell_type": "markdown",
   "id": "d8e76df0",
   "metadata": {},
   "source": [
    "### Selección por etiqueta/nombre de la columna"
   ]
  },
  {
   "cell_type": "code",
   "execution_count": 45,
   "id": "3096ad75",
   "metadata": {},
   "outputs": [
    {
     "data": {
      "text/plain": [
       "a    1.0\n",
       "b    2.0\n",
       "c    3.0\n",
       "d    NaN\n",
       "Name: one, dtype: float64"
      ]
     },
     "execution_count": 45,
     "metadata": {},
     "output_type": "execute_result"
    }
   ],
   "source": [
    "df[\"one\"] #Selección de una sola columna"
   ]
  },
  {
   "cell_type": "code",
   "execution_count": 48,
   "id": "57d4e741",
   "metadata": {},
   "outputs": [],
   "source": [
    "df[\"three\"] = df[\"one\"] * df[\"two\"] #Selección de varias columnas"
   ]
  },
  {
   "cell_type": "code",
   "execution_count": 51,
   "id": "16f41231",
   "metadata": {},
   "outputs": [],
   "source": [
    "df[\"flag\"] = df[\"one\"] > 2 #Selección de columnas que cumplan con una condición lógica"
   ]
  },
  {
   "cell_type": "code",
   "execution_count": 66,
   "id": "f253c391",
   "metadata": {},
   "outputs": [
    {
     "data": {
      "text/html": [
       "<div>\n",
       "<style scoped>\n",
       "    .dataframe tbody tr th:only-of-type {\n",
       "        vertical-align: middle;\n",
       "    }\n",
       "\n",
       "    .dataframe tbody tr th {\n",
       "        vertical-align: top;\n",
       "    }\n",
       "\n",
       "    .dataframe thead th {\n",
       "        text-align: right;\n",
       "    }\n",
       "</style>\n",
       "<table border=\"1\" class=\"dataframe\">\n",
       "  <thead>\n",
       "    <tr style=\"text-align: right;\">\n",
       "      <th></th>\n",
       "      <th>one</th>\n",
       "      <th>flag</th>\n",
       "    </tr>\n",
       "  </thead>\n",
       "  <tbody>\n",
       "    <tr>\n",
       "      <th>a</th>\n",
       "      <td>1.0</td>\n",
       "      <td>False</td>\n",
       "    </tr>\n",
       "    <tr>\n",
       "      <th>b</th>\n",
       "      <td>2.0</td>\n",
       "      <td>False</td>\n",
       "    </tr>\n",
       "    <tr>\n",
       "      <th>c</th>\n",
       "      <td>3.0</td>\n",
       "      <td>True</td>\n",
       "    </tr>\n",
       "    <tr>\n",
       "      <th>d</th>\n",
       "      <td>NaN</td>\n",
       "      <td>False</td>\n",
       "    </tr>\n",
       "  </tbody>\n",
       "</table>\n",
       "</div>"
      ],
      "text/plain": [
       "   one   flag\n",
       "a  1.0  False\n",
       "b  2.0  False\n",
       "c  3.0   True\n",
       "d  NaN  False"
      ]
     },
     "execution_count": 66,
     "metadata": {},
     "output_type": "execute_result"
    }
   ],
   "source": [
    "df"
   ]
  },
  {
   "cell_type": "markdown",
   "id": "7f0d3298",
   "metadata": {},
   "source": [
    "### Para borrar una columna, utilizamos el método \"del\""
   ]
  },
  {
   "cell_type": "code",
   "execution_count": 1,
   "id": "6f54f5c0",
   "metadata": {},
   "outputs": [],
   "source": [
    "#del df[\"two\"]"
   ]
  },
  {
   "cell_type": "code",
   "execution_count": 56,
   "id": "cc011ad5",
   "metadata": {},
   "outputs": [
    {
     "data": {
      "text/html": [
       "<div>\n",
       "<style scoped>\n",
       "    .dataframe tbody tr th:only-of-type {\n",
       "        vertical-align: middle;\n",
       "    }\n",
       "\n",
       "    .dataframe tbody tr th {\n",
       "        vertical-align: top;\n",
       "    }\n",
       "\n",
       "    .dataframe thead th {\n",
       "        text-align: right;\n",
       "    }\n",
       "</style>\n",
       "<table border=\"1\" class=\"dataframe\">\n",
       "  <thead>\n",
       "    <tr style=\"text-align: right;\">\n",
       "      <th></th>\n",
       "      <th>one</th>\n",
       "      <th>three</th>\n",
       "      <th>flag</th>\n",
       "    </tr>\n",
       "  </thead>\n",
       "  <tbody>\n",
       "    <tr>\n",
       "      <th>a</th>\n",
       "      <td>1.0</td>\n",
       "      <td>1.0</td>\n",
       "      <td>False</td>\n",
       "    </tr>\n",
       "    <tr>\n",
       "      <th>b</th>\n",
       "      <td>2.0</td>\n",
       "      <td>4.0</td>\n",
       "      <td>False</td>\n",
       "    </tr>\n",
       "    <tr>\n",
       "      <th>c</th>\n",
       "      <td>3.0</td>\n",
       "      <td>9.0</td>\n",
       "      <td>True</td>\n",
       "    </tr>\n",
       "    <tr>\n",
       "      <th>d</th>\n",
       "      <td>NaN</td>\n",
       "      <td>NaN</td>\n",
       "      <td>False</td>\n",
       "    </tr>\n",
       "  </tbody>\n",
       "</table>\n",
       "</div>"
      ],
      "text/plain": [
       "   one  three   flag\n",
       "a  1.0    1.0  False\n",
       "b  2.0    4.0  False\n",
       "c  3.0    9.0   True\n",
       "d  NaN    NaN  False"
      ]
     },
     "execution_count": 56,
     "metadata": {},
     "output_type": "execute_result"
    }
   ],
   "source": [
    "df"
   ]
  },
  {
   "cell_type": "markdown",
   "id": "9684d38b",
   "metadata": {},
   "source": [
    "### Para estallar/separar una columna del resto utilizamos la función df.pop()"
   ]
  },
  {
   "cell_type": "code",
   "execution_count": 2,
   "id": "05e6279d",
   "metadata": {},
   "outputs": [],
   "source": [
    "#three = df.pop(\"three\")"
   ]
  },
  {
   "cell_type": "code",
   "execution_count": 68,
   "id": "b6cbb3b7",
   "metadata": {},
   "outputs": [
    {
     "data": {
      "text/plain": [
       "a    1.0\n",
       "b    4.0\n",
       "c    9.0\n",
       "d    NaN\n",
       "Name: three, dtype: float64"
      ]
     },
     "execution_count": 68,
     "metadata": {},
     "output_type": "execute_result"
    }
   ],
   "source": [
    "three"
   ]
  },
  {
   "cell_type": "code",
   "execution_count": 69,
   "id": "dc6a5bb3",
   "metadata": {},
   "outputs": [
    {
     "data": {
      "text/html": [
       "<div>\n",
       "<style scoped>\n",
       "    .dataframe tbody tr th:only-of-type {\n",
       "        vertical-align: middle;\n",
       "    }\n",
       "\n",
       "    .dataframe tbody tr th {\n",
       "        vertical-align: top;\n",
       "    }\n",
       "\n",
       "    .dataframe thead th {\n",
       "        text-align: right;\n",
       "    }\n",
       "</style>\n",
       "<table border=\"1\" class=\"dataframe\">\n",
       "  <thead>\n",
       "    <tr style=\"text-align: right;\">\n",
       "      <th></th>\n",
       "      <th>one</th>\n",
       "      <th>flag</th>\n",
       "    </tr>\n",
       "  </thead>\n",
       "  <tbody>\n",
       "    <tr>\n",
       "      <th>a</th>\n",
       "      <td>1.0</td>\n",
       "      <td>False</td>\n",
       "    </tr>\n",
       "    <tr>\n",
       "      <th>b</th>\n",
       "      <td>2.0</td>\n",
       "      <td>False</td>\n",
       "    </tr>\n",
       "    <tr>\n",
       "      <th>c</th>\n",
       "      <td>3.0</td>\n",
       "      <td>True</td>\n",
       "    </tr>\n",
       "    <tr>\n",
       "      <th>d</th>\n",
       "      <td>NaN</td>\n",
       "      <td>False</td>\n",
       "    </tr>\n",
       "  </tbody>\n",
       "</table>\n",
       "</div>"
      ],
      "text/plain": [
       "   one   flag\n",
       "a  1.0  False\n",
       "b  2.0  False\n",
       "c  3.0   True\n",
       "d  NaN  False"
      ]
     },
     "execution_count": 69,
     "metadata": {},
     "output_type": "execute_result"
    }
   ],
   "source": [
    "df"
   ]
  },
  {
   "cell_type": "markdown",
   "id": "7ff68953",
   "metadata": {},
   "source": [
    "### Para insertar una columna, debemos utilizar la función: df.insert()"
   ]
  },
  {
   "cell_type": "code",
   "execution_count": 70,
   "id": "bc5bc133",
   "metadata": {},
   "outputs": [],
   "source": [
    "# Por defecto, la columna nueva se coloca al final, sin embargo, podemos definir la posición, como un primer argumento\n",
    "# de la función\n",
    "df.insert(1, \"bar\", df[\"one\"])"
   ]
  },
  {
   "cell_type": "code",
   "execution_count": 71,
   "id": "9a023d70",
   "metadata": {},
   "outputs": [
    {
     "data": {
      "text/html": [
       "<div>\n",
       "<style scoped>\n",
       "    .dataframe tbody tr th:only-of-type {\n",
       "        vertical-align: middle;\n",
       "    }\n",
       "\n",
       "    .dataframe tbody tr th {\n",
       "        vertical-align: top;\n",
       "    }\n",
       "\n",
       "    .dataframe thead th {\n",
       "        text-align: right;\n",
       "    }\n",
       "</style>\n",
       "<table border=\"1\" class=\"dataframe\">\n",
       "  <thead>\n",
       "    <tr style=\"text-align: right;\">\n",
       "      <th></th>\n",
       "      <th>one</th>\n",
       "      <th>bar</th>\n",
       "      <th>flag</th>\n",
       "    </tr>\n",
       "  </thead>\n",
       "  <tbody>\n",
       "    <tr>\n",
       "      <th>a</th>\n",
       "      <td>1.0</td>\n",
       "      <td>1.0</td>\n",
       "      <td>False</td>\n",
       "    </tr>\n",
       "    <tr>\n",
       "      <th>b</th>\n",
       "      <td>2.0</td>\n",
       "      <td>2.0</td>\n",
       "      <td>False</td>\n",
       "    </tr>\n",
       "    <tr>\n",
       "      <th>c</th>\n",
       "      <td>3.0</td>\n",
       "      <td>3.0</td>\n",
       "      <td>True</td>\n",
       "    </tr>\n",
       "    <tr>\n",
       "      <th>d</th>\n",
       "      <td>NaN</td>\n",
       "      <td>NaN</td>\n",
       "      <td>False</td>\n",
       "    </tr>\n",
       "  </tbody>\n",
       "</table>\n",
       "</div>"
      ],
      "text/plain": [
       "   one  bar   flag\n",
       "a  1.0  1.0  False\n",
       "b  2.0  2.0  False\n",
       "c  3.0  3.0   True\n",
       "d  NaN  NaN  False"
      ]
     },
     "execution_count": 71,
     "metadata": {},
     "output_type": "execute_result"
    }
   ],
   "source": [
    "df"
   ]
  },
  {
   "cell_type": "markdown",
   "id": "3b66267a",
   "metadata": {},
   "source": [
    "### Para crear una nueva columna, debemos utilizar la función: assign() "
   ]
  },
  {
   "cell_type": "code",
   "execution_count": 83,
   "id": "37d88a77",
   "metadata": {},
   "outputs": [],
   "source": [
    "# La función assign(), funciona como mutate() de dplyr, porque permite crear una nueva, columna a partir de existentes\n",
    "# assign() siempre devuelve una copia de los datos, dejando intacto el DataFrame original.\n",
    "iris = pd.read_csv(\"iris.csv\")"
   ]
  },
  {
   "cell_type": "code",
   "execution_count": 84,
   "id": "f68b9610",
   "metadata": {},
   "outputs": [
    {
     "data": {
      "text/html": [
       "<div>\n",
       "<style scoped>\n",
       "    .dataframe tbody tr th:only-of-type {\n",
       "        vertical-align: middle;\n",
       "    }\n",
       "\n",
       "    .dataframe tbody tr th {\n",
       "        vertical-align: top;\n",
       "    }\n",
       "\n",
       "    .dataframe thead th {\n",
       "        text-align: right;\n",
       "    }\n",
       "</style>\n",
       "<table border=\"1\" class=\"dataframe\">\n",
       "  <thead>\n",
       "    <tr style=\"text-align: right;\">\n",
       "      <th></th>\n",
       "      <th>sepal_length</th>\n",
       "      <th>sepal_width</th>\n",
       "      <th>petal_length</th>\n",
       "      <th>petal_width</th>\n",
       "      <th>species</th>\n",
       "    </tr>\n",
       "  </thead>\n",
       "  <tbody>\n",
       "    <tr>\n",
       "      <th>0</th>\n",
       "      <td>5.1</td>\n",
       "      <td>3.5</td>\n",
       "      <td>1.4</td>\n",
       "      <td>0.2</td>\n",
       "      <td>setosa</td>\n",
       "    </tr>\n",
       "    <tr>\n",
       "      <th>1</th>\n",
       "      <td>4.9</td>\n",
       "      <td>3.0</td>\n",
       "      <td>1.4</td>\n",
       "      <td>0.2</td>\n",
       "      <td>setosa</td>\n",
       "    </tr>\n",
       "    <tr>\n",
       "      <th>2</th>\n",
       "      <td>4.7</td>\n",
       "      <td>3.2</td>\n",
       "      <td>1.3</td>\n",
       "      <td>0.2</td>\n",
       "      <td>setosa</td>\n",
       "    </tr>\n",
       "    <tr>\n",
       "      <th>3</th>\n",
       "      <td>4.6</td>\n",
       "      <td>3.1</td>\n",
       "      <td>1.5</td>\n",
       "      <td>0.2</td>\n",
       "      <td>setosa</td>\n",
       "    </tr>\n",
       "    <tr>\n",
       "      <th>4</th>\n",
       "      <td>5.0</td>\n",
       "      <td>3.6</td>\n",
       "      <td>1.4</td>\n",
       "      <td>0.2</td>\n",
       "      <td>setosa</td>\n",
       "    </tr>\n",
       "    <tr>\n",
       "      <th>...</th>\n",
       "      <td>...</td>\n",
       "      <td>...</td>\n",
       "      <td>...</td>\n",
       "      <td>...</td>\n",
       "      <td>...</td>\n",
       "    </tr>\n",
       "    <tr>\n",
       "      <th>145</th>\n",
       "      <td>6.7</td>\n",
       "      <td>3.0</td>\n",
       "      <td>5.2</td>\n",
       "      <td>2.3</td>\n",
       "      <td>virginica</td>\n",
       "    </tr>\n",
       "    <tr>\n",
       "      <th>146</th>\n",
       "      <td>6.3</td>\n",
       "      <td>2.5</td>\n",
       "      <td>5.0</td>\n",
       "      <td>1.9</td>\n",
       "      <td>virginica</td>\n",
       "    </tr>\n",
       "    <tr>\n",
       "      <th>147</th>\n",
       "      <td>6.5</td>\n",
       "      <td>3.0</td>\n",
       "      <td>5.2</td>\n",
       "      <td>2.0</td>\n",
       "      <td>virginica</td>\n",
       "    </tr>\n",
       "    <tr>\n",
       "      <th>148</th>\n",
       "      <td>6.2</td>\n",
       "      <td>3.4</td>\n",
       "      <td>5.4</td>\n",
       "      <td>2.3</td>\n",
       "      <td>virginica</td>\n",
       "    </tr>\n",
       "    <tr>\n",
       "      <th>149</th>\n",
       "      <td>5.9</td>\n",
       "      <td>3.0</td>\n",
       "      <td>5.1</td>\n",
       "      <td>1.8</td>\n",
       "      <td>virginica</td>\n",
       "    </tr>\n",
       "  </tbody>\n",
       "</table>\n",
       "<p>150 rows × 5 columns</p>\n",
       "</div>"
      ],
      "text/plain": [
       "     sepal_length  sepal_width  petal_length  petal_width    species\n",
       "0             5.1          3.5           1.4          0.2     setosa\n",
       "1             4.9          3.0           1.4          0.2     setosa\n",
       "2             4.7          3.2           1.3          0.2     setosa\n",
       "3             4.6          3.1           1.5          0.2     setosa\n",
       "4             5.0          3.6           1.4          0.2     setosa\n",
       "..            ...          ...           ...          ...        ...\n",
       "145           6.7          3.0           5.2          2.3  virginica\n",
       "146           6.3          2.5           5.0          1.9  virginica\n",
       "147           6.5          3.0           5.2          2.0  virginica\n",
       "148           6.2          3.4           5.4          2.3  virginica\n",
       "149           5.9          3.0           5.1          1.8  virginica\n",
       "\n",
       "[150 rows x 5 columns]"
      ]
     },
     "execution_count": 84,
     "metadata": {},
     "output_type": "execute_result"
    }
   ],
   "source": [
    "iris"
   ]
  },
  {
   "cell_type": "code",
   "execution_count": 87,
   "id": "f2fe1f47",
   "metadata": {},
   "outputs": [
    {
     "data": {
      "text/html": [
       "<div>\n",
       "<style scoped>\n",
       "    .dataframe tbody tr th:only-of-type {\n",
       "        vertical-align: middle;\n",
       "    }\n",
       "\n",
       "    .dataframe tbody tr th {\n",
       "        vertical-align: top;\n",
       "    }\n",
       "\n",
       "    .dataframe thead th {\n",
       "        text-align: right;\n",
       "    }\n",
       "</style>\n",
       "<table border=\"1\" class=\"dataframe\">\n",
       "  <thead>\n",
       "    <tr style=\"text-align: right;\">\n",
       "      <th></th>\n",
       "      <th>sepal_length</th>\n",
       "      <th>sepal_width</th>\n",
       "      <th>petal_length</th>\n",
       "      <th>petal_width</th>\n",
       "      <th>species</th>\n",
       "      <th>sepal_ratio</th>\n",
       "    </tr>\n",
       "  </thead>\n",
       "  <tbody>\n",
       "    <tr>\n",
       "      <th>0</th>\n",
       "      <td>5.1</td>\n",
       "      <td>3.5</td>\n",
       "      <td>1.4</td>\n",
       "      <td>0.2</td>\n",
       "      <td>setosa</td>\n",
       "      <td>0.686275</td>\n",
       "    </tr>\n",
       "    <tr>\n",
       "      <th>1</th>\n",
       "      <td>4.9</td>\n",
       "      <td>3.0</td>\n",
       "      <td>1.4</td>\n",
       "      <td>0.2</td>\n",
       "      <td>setosa</td>\n",
       "      <td>0.612245</td>\n",
       "    </tr>\n",
       "    <tr>\n",
       "      <th>2</th>\n",
       "      <td>4.7</td>\n",
       "      <td>3.2</td>\n",
       "      <td>1.3</td>\n",
       "      <td>0.2</td>\n",
       "      <td>setosa</td>\n",
       "      <td>0.680851</td>\n",
       "    </tr>\n",
       "    <tr>\n",
       "      <th>3</th>\n",
       "      <td>4.6</td>\n",
       "      <td>3.1</td>\n",
       "      <td>1.5</td>\n",
       "      <td>0.2</td>\n",
       "      <td>setosa</td>\n",
       "      <td>0.673913</td>\n",
       "    </tr>\n",
       "    <tr>\n",
       "      <th>4</th>\n",
       "      <td>5.0</td>\n",
       "      <td>3.6</td>\n",
       "      <td>1.4</td>\n",
       "      <td>0.2</td>\n",
       "      <td>setosa</td>\n",
       "      <td>0.720000</td>\n",
       "    </tr>\n",
       "  </tbody>\n",
       "</table>\n",
       "</div>"
      ],
      "text/plain": [
       "   sepal_length  sepal_width  petal_length  petal_width species  sepal_ratio\n",
       "0           5.1          3.5           1.4          0.2  setosa     0.686275\n",
       "1           4.9          3.0           1.4          0.2  setosa     0.612245\n",
       "2           4.7          3.2           1.3          0.2  setosa     0.680851\n",
       "3           4.6          3.1           1.5          0.2  setosa     0.673913\n",
       "4           5.0          3.6           1.4          0.2  setosa     0.720000"
      ]
     },
     "execution_count": 87,
     "metadata": {},
     "output_type": "execute_result"
    }
   ],
   "source": [
    "iris.assign(sepal_ratio=iris[\"sepal_width\"] / iris[\"sepal_length\"]).head() #Creamos una nueva variable \"sepal_ratio\""
   ]
  },
  {
   "cell_type": "markdown",
   "id": "bd01cb24",
   "metadata": {},
   "source": [
    "## Indexación / selección"
   ]
  },
  {
   "cell_type": "code",
   "execution_count": 88,
   "id": "3b09fe74",
   "metadata": {},
   "outputs": [],
   "source": [
    "# Operation                            Syntax      Result\n",
    "\n",
    "# Select column                        df[col]     Series\n",
    "\n",
    "# Select row by label            df.loc[label]     Series\n",
    "\n",
    "# Select row by integer location  df.iloc[loc]     Series\n",
    "\n",
    "# Slice rows                          df[5:10]    DataFrame\n",
    "\n",
    "# Select rows by boolean vector   df[bool_vec]    DataFrame"
   ]
  },
  {
   "cell_type": "code",
   "execution_count": 95,
   "id": "19ad094d",
   "metadata": {},
   "outputs": [
    {
     "data": {
      "text/plain": [
       "one       2.0\n",
       "bar       2.0\n",
       "flag    False\n",
       "Name: b, dtype: object"
      ]
     },
     "execution_count": 95,
     "metadata": {},
     "output_type": "execute_result"
    }
   ],
   "source": [
    "# La selección de filas, por ejemplo, devuelve una Serie cuyo índice (primera columna) son las columnas del DataFrame:\n",
    "\n",
    "df.loc[\"b\"] #Seleccion por etiqueta"
   ]
  },
  {
   "cell_type": "code",
   "execution_count": 96,
   "id": "b6f0207c",
   "metadata": {},
   "outputs": [
    {
     "data": {
      "text/plain": [
       "one      3.0\n",
       "bar      3.0\n",
       "flag    True\n",
       "Name: c, dtype: object"
      ]
     },
     "execution_count": 96,
     "metadata": {},
     "output_type": "execute_result"
    }
   ],
   "source": [
    "df.iloc[2] #Seleccion por indice"
   ]
  },
  {
   "cell_type": "markdown",
   "id": "36ab6780",
   "metadata": {},
   "source": [
    "### Alineación de datos y aritmética"
   ]
  },
  {
   "cell_type": "code",
   "execution_count": 97,
   "id": "fc80c1de",
   "metadata": {},
   "outputs": [],
   "source": [
    "# La alineación de datos entre los objetos DataFrame se alinea automáticamente tanto en las columnas \n",
    "# como en el índice (etiquetas de fila). Nuevamente, el objeto resultante tendrá la unión de las etiquetas de columna y fila"
   ]
  },
  {
   "cell_type": "code",
   "execution_count": 98,
   "id": "aeead9b1",
   "metadata": {},
   "outputs": [],
   "source": [
    "df = pd.DataFrame(np.random.randn(10, 4), columns=[\"A\", \"B\", \"C\", \"D\"])"
   ]
  },
  {
   "cell_type": "code",
   "execution_count": 99,
   "id": "de250562",
   "metadata": {},
   "outputs": [],
   "source": [
    "df2 = pd.DataFrame(np.random.randn(7, 3), columns=[\"A\", \"B\", \"C\"])"
   ]
  },
  {
   "cell_type": "code",
   "execution_count": 100,
   "id": "a78b85e9",
   "metadata": {},
   "outputs": [
    {
     "data": {
      "text/html": [
       "<div>\n",
       "<style scoped>\n",
       "    .dataframe tbody tr th:only-of-type {\n",
       "        vertical-align: middle;\n",
       "    }\n",
       "\n",
       "    .dataframe tbody tr th {\n",
       "        vertical-align: top;\n",
       "    }\n",
       "\n",
       "    .dataframe thead th {\n",
       "        text-align: right;\n",
       "    }\n",
       "</style>\n",
       "<table border=\"1\" class=\"dataframe\">\n",
       "  <thead>\n",
       "    <tr style=\"text-align: right;\">\n",
       "      <th></th>\n",
       "      <th>A</th>\n",
       "      <th>B</th>\n",
       "      <th>C</th>\n",
       "      <th>D</th>\n",
       "    </tr>\n",
       "  </thead>\n",
       "  <tbody>\n",
       "    <tr>\n",
       "      <th>0</th>\n",
       "      <td>-2.921470</td>\n",
       "      <td>-1.739926</td>\n",
       "      <td>1.372919</td>\n",
       "      <td>NaN</td>\n",
       "    </tr>\n",
       "    <tr>\n",
       "      <th>1</th>\n",
       "      <td>1.370121</td>\n",
       "      <td>-2.990580</td>\n",
       "      <td>0.551586</td>\n",
       "      <td>NaN</td>\n",
       "    </tr>\n",
       "    <tr>\n",
       "      <th>2</th>\n",
       "      <td>-0.812690</td>\n",
       "      <td>-3.615328</td>\n",
       "      <td>-1.016043</td>\n",
       "      <td>NaN</td>\n",
       "    </tr>\n",
       "    <tr>\n",
       "      <th>3</th>\n",
       "      <td>-1.209824</td>\n",
       "      <td>-0.569281</td>\n",
       "      <td>-1.667614</td>\n",
       "      <td>NaN</td>\n",
       "    </tr>\n",
       "    <tr>\n",
       "      <th>4</th>\n",
       "      <td>-0.678937</td>\n",
       "      <td>-3.567042</td>\n",
       "      <td>0.222398</td>\n",
       "      <td>NaN</td>\n",
       "    </tr>\n",
       "    <tr>\n",
       "      <th>5</th>\n",
       "      <td>-0.250039</td>\n",
       "      <td>-1.577711</td>\n",
       "      <td>-1.880488</td>\n",
       "      <td>NaN</td>\n",
       "    </tr>\n",
       "    <tr>\n",
       "      <th>6</th>\n",
       "      <td>-0.447531</td>\n",
       "      <td>-1.389705</td>\n",
       "      <td>-0.810296</td>\n",
       "      <td>NaN</td>\n",
       "    </tr>\n",
       "    <tr>\n",
       "      <th>7</th>\n",
       "      <td>NaN</td>\n",
       "      <td>NaN</td>\n",
       "      <td>NaN</td>\n",
       "      <td>NaN</td>\n",
       "    </tr>\n",
       "    <tr>\n",
       "      <th>8</th>\n",
       "      <td>NaN</td>\n",
       "      <td>NaN</td>\n",
       "      <td>NaN</td>\n",
       "      <td>NaN</td>\n",
       "    </tr>\n",
       "    <tr>\n",
       "      <th>9</th>\n",
       "      <td>NaN</td>\n",
       "      <td>NaN</td>\n",
       "      <td>NaN</td>\n",
       "      <td>NaN</td>\n",
       "    </tr>\n",
       "  </tbody>\n",
       "</table>\n",
       "</div>"
      ],
      "text/plain": [
       "          A         B         C   D\n",
       "0 -2.921470 -1.739926  1.372919 NaN\n",
       "1  1.370121 -2.990580  0.551586 NaN\n",
       "2 -0.812690 -3.615328 -1.016043 NaN\n",
       "3 -1.209824 -0.569281 -1.667614 NaN\n",
       "4 -0.678937 -3.567042  0.222398 NaN\n",
       "5 -0.250039 -1.577711 -1.880488 NaN\n",
       "6 -0.447531 -1.389705 -0.810296 NaN\n",
       "7       NaN       NaN       NaN NaN\n",
       "8       NaN       NaN       NaN NaN\n",
       "9       NaN       NaN       NaN NaN"
      ]
     },
     "execution_count": 100,
     "metadata": {},
     "output_type": "execute_result"
    }
   ],
   "source": [
    "df + df2 #Sumar los dos data frame, seria el equivalente a un FULL JOIN"
   ]
  },
  {
   "cell_type": "code",
   "execution_count": 101,
   "id": "8291f2f3",
   "metadata": {},
   "outputs": [],
   "source": [
    "# Al realizar una operación entre DataFrame y Series, el comportamiento predeterminado \n",
    "# es alinear el índice de Series en las columnas de DataFrame, transmitiendolo así por filas."
   ]
  },
  {
   "cell_type": "code",
   "execution_count": 102,
   "id": "0365be86",
   "metadata": {},
   "outputs": [
    {
     "data": {
      "text/html": [
       "<div>\n",
       "<style scoped>\n",
       "    .dataframe tbody tr th:only-of-type {\n",
       "        vertical-align: middle;\n",
       "    }\n",
       "\n",
       "    .dataframe tbody tr th {\n",
       "        vertical-align: top;\n",
       "    }\n",
       "\n",
       "    .dataframe thead th {\n",
       "        text-align: right;\n",
       "    }\n",
       "</style>\n",
       "<table border=\"1\" class=\"dataframe\">\n",
       "  <thead>\n",
       "    <tr style=\"text-align: right;\">\n",
       "      <th></th>\n",
       "      <th>A</th>\n",
       "      <th>B</th>\n",
       "      <th>C</th>\n",
       "      <th>D</th>\n",
       "    </tr>\n",
       "  </thead>\n",
       "  <tbody>\n",
       "    <tr>\n",
       "      <th>0</th>\n",
       "      <td>0.000000</td>\n",
       "      <td>0.000000</td>\n",
       "      <td>0.000000</td>\n",
       "      <td>0.000000</td>\n",
       "    </tr>\n",
       "    <tr>\n",
       "      <th>1</th>\n",
       "      <td>1.108753</td>\n",
       "      <td>-0.780060</td>\n",
       "      <td>-1.047033</td>\n",
       "      <td>0.154443</td>\n",
       "    </tr>\n",
       "    <tr>\n",
       "      <th>2</th>\n",
       "      <td>2.008834</td>\n",
       "      <td>-1.040284</td>\n",
       "      <td>-1.236323</td>\n",
       "      <td>0.002523</td>\n",
       "    </tr>\n",
       "    <tr>\n",
       "      <th>3</th>\n",
       "      <td>1.369823</td>\n",
       "      <td>0.068977</td>\n",
       "      <td>-2.070792</td>\n",
       "      <td>-1.695194</td>\n",
       "    </tr>\n",
       "    <tr>\n",
       "      <th>4</th>\n",
       "      <td>-0.179928</td>\n",
       "      <td>-1.592326</td>\n",
       "      <td>-1.261937</td>\n",
       "      <td>-2.878066</td>\n",
       "    </tr>\n",
       "    <tr>\n",
       "      <th>5</th>\n",
       "      <td>-0.081180</td>\n",
       "      <td>0.594999</td>\n",
       "      <td>-0.664795</td>\n",
       "      <td>-2.022674</td>\n",
       "    </tr>\n",
       "    <tr>\n",
       "      <th>6</th>\n",
       "      <td>-0.100571</td>\n",
       "      <td>0.301727</td>\n",
       "      <td>-1.474818</td>\n",
       "      <td>0.994191</td>\n",
       "    </tr>\n",
       "    <tr>\n",
       "      <th>7</th>\n",
       "      <td>1.971868</td>\n",
       "      <td>0.128390</td>\n",
       "      <td>1.142556</td>\n",
       "      <td>0.333084</td>\n",
       "    </tr>\n",
       "    <tr>\n",
       "      <th>8</th>\n",
       "      <td>0.841337</td>\n",
       "      <td>2.592142</td>\n",
       "      <td>-1.443594</td>\n",
       "      <td>-0.359248</td>\n",
       "    </tr>\n",
       "    <tr>\n",
       "      <th>9</th>\n",
       "      <td>0.395275</td>\n",
       "      <td>-0.141703</td>\n",
       "      <td>-0.110551</td>\n",
       "      <td>-1.742045</td>\n",
       "    </tr>\n",
       "  </tbody>\n",
       "</table>\n",
       "</div>"
      ],
      "text/plain": [
       "          A         B         C         D\n",
       "0  0.000000  0.000000  0.000000  0.000000\n",
       "1  1.108753 -0.780060 -1.047033  0.154443\n",
       "2  2.008834 -1.040284 -1.236323  0.002523\n",
       "3  1.369823  0.068977 -2.070792 -1.695194\n",
       "4 -0.179928 -1.592326 -1.261937 -2.878066\n",
       "5 -0.081180  0.594999 -0.664795 -2.022674\n",
       "6 -0.100571  0.301727 -1.474818  0.994191\n",
       "7  1.971868  0.128390  1.142556  0.333084\n",
       "8  0.841337  2.592142 -1.443594 -0.359248\n",
       "9  0.395275 -0.141703 -0.110551 -1.742045"
      ]
     },
     "execution_count": 102,
     "metadata": {},
     "output_type": "execute_result"
    }
   ],
   "source": [
    "df - df.iloc[0]"
   ]
  },
  {
   "cell_type": "code",
   "execution_count": 103,
   "id": "8c506189",
   "metadata": {},
   "outputs": [],
   "source": [
    "# Los operadores boolean funcionan igual"
   ]
  },
  {
   "cell_type": "code",
   "execution_count": 104,
   "id": "79ddff71",
   "metadata": {},
   "outputs": [],
   "source": [
    "df1 = pd.DataFrame({\"a\": [1, 0, 1], \"b\": [0, 1, 1]}, dtype=bool)"
   ]
  },
  {
   "cell_type": "code",
   "execution_count": 105,
   "id": "34eb7808",
   "metadata": {},
   "outputs": [],
   "source": [
    "df2 = pd.DataFrame({\"a\": [0, 1, 1], \"b\": [1, 1, 0]}, dtype=bool)"
   ]
  },
  {
   "cell_type": "code",
   "execution_count": 106,
   "id": "3c01df0e",
   "metadata": {},
   "outputs": [
    {
     "data": {
      "text/html": [
       "<div>\n",
       "<style scoped>\n",
       "    .dataframe tbody tr th:only-of-type {\n",
       "        vertical-align: middle;\n",
       "    }\n",
       "\n",
       "    .dataframe tbody tr th {\n",
       "        vertical-align: top;\n",
       "    }\n",
       "\n",
       "    .dataframe thead th {\n",
       "        text-align: right;\n",
       "    }\n",
       "</style>\n",
       "<table border=\"1\" class=\"dataframe\">\n",
       "  <thead>\n",
       "    <tr style=\"text-align: right;\">\n",
       "      <th></th>\n",
       "      <th>a</th>\n",
       "      <th>b</th>\n",
       "    </tr>\n",
       "  </thead>\n",
       "  <tbody>\n",
       "    <tr>\n",
       "      <th>0</th>\n",
       "      <td>False</td>\n",
       "      <td>False</td>\n",
       "    </tr>\n",
       "    <tr>\n",
       "      <th>1</th>\n",
       "      <td>False</td>\n",
       "      <td>True</td>\n",
       "    </tr>\n",
       "    <tr>\n",
       "      <th>2</th>\n",
       "      <td>True</td>\n",
       "      <td>False</td>\n",
       "    </tr>\n",
       "  </tbody>\n",
       "</table>\n",
       "</div>"
      ],
      "text/plain": [
       "       a      b\n",
       "0  False  False\n",
       "1  False   True\n",
       "2   True  False"
      ]
     },
     "execution_count": 106,
     "metadata": {},
     "output_type": "execute_result"
    }
   ],
   "source": [
    "df1 & df2"
   ]
  },
  {
   "cell_type": "markdown",
   "id": "900db630",
   "metadata": {},
   "source": [
    "## Transponer"
   ]
  },
  {
   "cell_type": "code",
   "execution_count": 107,
   "id": "fbe326c9",
   "metadata": {},
   "outputs": [],
   "source": [
    "# Para transponer (filas pasan a ser columnas), acceda al atributo T (también la función de transposición), similar a un ndarray"
   ]
  },
  {
   "cell_type": "code",
   "execution_count": 110,
   "id": "308cc039",
   "metadata": {},
   "outputs": [
    {
     "data": {
      "text/html": [
       "<div>\n",
       "<style scoped>\n",
       "    .dataframe tbody tr th:only-of-type {\n",
       "        vertical-align: middle;\n",
       "    }\n",
       "\n",
       "    .dataframe tbody tr th {\n",
       "        vertical-align: top;\n",
       "    }\n",
       "\n",
       "    .dataframe thead th {\n",
       "        text-align: right;\n",
       "    }\n",
       "</style>\n",
       "<table border=\"1\" class=\"dataframe\">\n",
       "  <thead>\n",
       "    <tr style=\"text-align: right;\">\n",
       "      <th></th>\n",
       "      <th>0</th>\n",
       "      <th>1</th>\n",
       "      <th>2</th>\n",
       "      <th>3</th>\n",
       "      <th>4</th>\n",
       "    </tr>\n",
       "  </thead>\n",
       "  <tbody>\n",
       "    <tr>\n",
       "      <th>A</th>\n",
       "      <td>-0.742484</td>\n",
       "      <td>0.366269</td>\n",
       "      <td>1.266350</td>\n",
       "      <td>0.627339</td>\n",
       "      <td>-0.922412</td>\n",
       "    </tr>\n",
       "    <tr>\n",
       "      <th>B</th>\n",
       "      <td>-0.806154</td>\n",
       "      <td>-1.586214</td>\n",
       "      <td>-1.846438</td>\n",
       "      <td>-0.737177</td>\n",
       "      <td>-2.398480</td>\n",
       "    </tr>\n",
       "    <tr>\n",
       "      <th>C</th>\n",
       "      <td>1.260945</td>\n",
       "      <td>0.213913</td>\n",
       "      <td>0.024622</td>\n",
       "      <td>-0.809846</td>\n",
       "      <td>-0.000992</td>\n",
       "    </tr>\n",
       "    <tr>\n",
       "      <th>D</th>\n",
       "      <td>1.211841</td>\n",
       "      <td>1.366283</td>\n",
       "      <td>1.214363</td>\n",
       "      <td>-0.483354</td>\n",
       "      <td>-1.666226</td>\n",
       "    </tr>\n",
       "  </tbody>\n",
       "</table>\n",
       "</div>"
      ],
      "text/plain": [
       "          0         1         2         3         4\n",
       "A -0.742484  0.366269  1.266350  0.627339 -0.922412\n",
       "B -0.806154 -1.586214 -1.846438 -0.737177 -2.398480\n",
       "C  1.260945  0.213913  0.024622 -0.809846 -0.000992\n",
       "D  1.211841  1.366283  1.214363 -0.483354 -1.666226"
      ]
     },
     "execution_count": 110,
     "metadata": {},
     "output_type": "execute_result"
    }
   ],
   "source": [
    "# only show the first 5 rows\n",
    "df[:5].T"
   ]
  },
  {
   "cell_type": "markdown",
   "id": "b0e3e1ac",
   "metadata": {},
   "source": [
    "## Interoperabilidad de DataFrame con funciones NumPy"
   ]
  },
  {
   "cell_type": "code",
   "execution_count": 111,
   "id": "4574f2d3",
   "metadata": {},
   "outputs": [],
   "source": [
    "# Los elementos NumPy ufuncs (log, exp, sqrt, …) y varias otras funciones NumPy se pueden usar sin problemas \n",
    "# en Series y DataFrame, asumiendo que los datos dentro son numéricos"
   ]
  },
  {
   "cell_type": "code",
   "execution_count": 112,
   "id": "4591b233",
   "metadata": {},
   "outputs": [
    {
     "data": {
      "text/html": [
       "<div>\n",
       "<style scoped>\n",
       "    .dataframe tbody tr th:only-of-type {\n",
       "        vertical-align: middle;\n",
       "    }\n",
       "\n",
       "    .dataframe tbody tr th {\n",
       "        vertical-align: top;\n",
       "    }\n",
       "\n",
       "    .dataframe thead th {\n",
       "        text-align: right;\n",
       "    }\n",
       "</style>\n",
       "<table border=\"1\" class=\"dataframe\">\n",
       "  <thead>\n",
       "    <tr style=\"text-align: right;\">\n",
       "      <th></th>\n",
       "      <th>A</th>\n",
       "      <th>B</th>\n",
       "      <th>C</th>\n",
       "      <th>D</th>\n",
       "    </tr>\n",
       "  </thead>\n",
       "  <tbody>\n",
       "    <tr>\n",
       "      <th>0</th>\n",
       "      <td>0.475930</td>\n",
       "      <td>0.446572</td>\n",
       "      <td>3.528756</td>\n",
       "      <td>3.359662</td>\n",
       "    </tr>\n",
       "    <tr>\n",
       "      <th>1</th>\n",
       "      <td>1.442344</td>\n",
       "      <td>0.204699</td>\n",
       "      <td>1.238514</td>\n",
       "      <td>3.920752</td>\n",
       "    </tr>\n",
       "    <tr>\n",
       "      <th>2</th>\n",
       "      <td>3.547880</td>\n",
       "      <td>0.157798</td>\n",
       "      <td>1.024928</td>\n",
       "      <td>3.368150</td>\n",
       "    </tr>\n",
       "    <tr>\n",
       "      <th>3</th>\n",
       "      <td>1.872622</td>\n",
       "      <td>0.478463</td>\n",
       "      <td>0.444926</td>\n",
       "      <td>0.616712</td>\n",
       "    </tr>\n",
       "    <tr>\n",
       "      <th>4</th>\n",
       "      <td>0.397559</td>\n",
       "      <td>0.090856</td>\n",
       "      <td>0.999008</td>\n",
       "      <td>0.188959</td>\n",
       "    </tr>\n",
       "    <tr>\n",
       "      <th>5</th>\n",
       "      <td>0.438821</td>\n",
       "      <td>0.809649</td>\n",
       "      <td>1.815118</td>\n",
       "      <td>0.444487</td>\n",
       "    </tr>\n",
       "    <tr>\n",
       "      <th>6</th>\n",
       "      <td>0.430394</td>\n",
       "      <td>0.603852</td>\n",
       "      <td>0.807452</td>\n",
       "      <td>9.079608</td>\n",
       "    </tr>\n",
       "    <tr>\n",
       "      <th>7</th>\n",
       "      <td>3.419124</td>\n",
       "      <td>0.507751</td>\n",
       "      <td>11.061844</td>\n",
       "      <td>4.687618</td>\n",
       "    </tr>\n",
       "    <tr>\n",
       "      <th>8</th>\n",
       "      <td>1.103904</td>\n",
       "      <td>5.965467</td>\n",
       "      <td>0.833061</td>\n",
       "      <td>2.345720</td>\n",
       "    </tr>\n",
       "    <tr>\n",
       "      <th>9</th>\n",
       "      <td>0.706658</td>\n",
       "      <td>0.387571</td>\n",
       "      <td>3.159440</td>\n",
       "      <td>0.588484</td>\n",
       "    </tr>\n",
       "  </tbody>\n",
       "</table>\n",
       "</div>"
      ],
      "text/plain": [
       "          A         B          C         D\n",
       "0  0.475930  0.446572   3.528756  3.359662\n",
       "1  1.442344  0.204699   1.238514  3.920752\n",
       "2  3.547880  0.157798   1.024928  3.368150\n",
       "3  1.872622  0.478463   0.444926  0.616712\n",
       "4  0.397559  0.090856   0.999008  0.188959\n",
       "5  0.438821  0.809649   1.815118  0.444487\n",
       "6  0.430394  0.603852   0.807452  9.079608\n",
       "7  3.419124  0.507751  11.061844  4.687618\n",
       "8  1.103904  5.965467   0.833061  2.345720\n",
       "9  0.706658  0.387571   3.159440  0.588484"
      ]
     },
     "execution_count": 112,
     "metadata": {},
     "output_type": "execute_result"
    }
   ],
   "source": [
    "np.exp(df) #Exponencial"
   ]
  },
  {
   "cell_type": "code",
   "execution_count": 113,
   "id": "b5920ebf",
   "metadata": {},
   "outputs": [
    {
     "data": {
      "text/plain": [
       "array([[-7.42483696e-01, -8.06154198e-01,  1.26094546e+00,\n",
       "         1.21184050e+00],\n",
       "       [ 3.66269379e-01, -1.58621400e+00,  2.13912546e-01,\n",
       "         1.36628336e+00],\n",
       "       [ 1.26635019e+00, -1.84643795e+00,  2.46220246e-02,\n",
       "         1.21436349e+00],\n",
       "       [ 6.27339344e-01, -7.37177199e-01, -8.09846444e-01,\n",
       "        -4.83353940e-01],\n",
       "       [-9.22411726e-01, -2.39847972e+00, -9.92020479e-04,\n",
       "        -1.66622578e+00],\n",
       "       [-8.23663578e-01, -2.11154712e-01,  5.96150592e-01,\n",
       "        -8.10833649e-01],\n",
       "       [-8.43054201e-01, -5.04426916e-01, -2.13872060e-01,\n",
       "         2.20603106e+00],\n",
       "       [ 1.22938449e+00, -6.77764398e-01,  2.40350173e+00,\n",
       "         1.54492463e+00],\n",
       "       [ 9.88532655e-02,  1.78598739e+00, -1.82648311e-01,\n",
       "         8.52592412e-01],\n",
       "       [-3.47209154e-01, -9.47857419e-01,  1.15039482e+00,\n",
       "        -5.30204895e-01]])"
      ]
     },
     "execution_count": 113,
     "metadata": {},
     "output_type": "execute_result"
    }
   ],
   "source": [
    "np.asarray(df) #Transforma la tabla en un array"
   ]
  },
  {
   "cell_type": "markdown",
   "id": "3c902470",
   "metadata": {},
   "source": [
    "## Pantalla de la consola"
   ]
  },
  {
   "cell_type": "code",
   "execution_count": 114,
   "id": "96e3b96f",
   "metadata": {},
   "outputs": [],
   "source": [
    "# Los DataFrames muy grandes se truncarán para mostrarlos en la consola. También puede obtener un resumen utilizando: info()"
   ]
  },
  {
   "cell_type": "code",
   "execution_count": 116,
   "id": "52125832",
   "metadata": {},
   "outputs": [],
   "source": [
    "fifa = pd.read_csv(\"fifa_dplyr.csv\")"
   ]
  },
  {
   "cell_type": "code",
   "execution_count": 117,
   "id": "efeb7762",
   "metadata": {},
   "outputs": [
    {
     "data": {
      "text/html": [
       "<div>\n",
       "<style scoped>\n",
       "    .dataframe tbody tr th:only-of-type {\n",
       "        vertical-align: middle;\n",
       "    }\n",
       "\n",
       "    .dataframe tbody tr th {\n",
       "        vertical-align: top;\n",
       "    }\n",
       "\n",
       "    .dataframe thead th {\n",
       "        text-align: right;\n",
       "    }\n",
       "</style>\n",
       "<table border=\"1\" class=\"dataframe\">\n",
       "  <thead>\n",
       "    <tr style=\"text-align: right;\">\n",
       "      <th></th>\n",
       "      <th>sofifa_id</th>\n",
       "      <th>short_name</th>\n",
       "      <th>long_name</th>\n",
       "      <th>age</th>\n",
       "      <th>dob</th>\n",
       "      <th>height_cm</th>\n",
       "      <th>weight_kg</th>\n",
       "      <th>nationality</th>\n",
       "      <th>club_name</th>\n",
       "      <th>league_name</th>\n",
       "      <th>overall</th>\n",
       "      <th>player_positions</th>\n",
       "    </tr>\n",
       "  </thead>\n",
       "  <tbody>\n",
       "    <tr>\n",
       "      <th>0</th>\n",
       "      <td>158023</td>\n",
       "      <td>L. Messi</td>\n",
       "      <td>Lionel Andrés Messi Cuccittini</td>\n",
       "      <td>32</td>\n",
       "      <td>1987-06-24</td>\n",
       "      <td>170</td>\n",
       "      <td>72</td>\n",
       "      <td>Argentina</td>\n",
       "      <td>FC Barcelona</td>\n",
       "      <td>Spain Primera Division</td>\n",
       "      <td>94</td>\n",
       "      <td>RW, CF, ST</td>\n",
       "    </tr>\n",
       "    <tr>\n",
       "      <th>1</th>\n",
       "      <td>20801</td>\n",
       "      <td>Cristiano Ronaldo</td>\n",
       "      <td>Cristiano Ronaldo dos Santos Aveiro</td>\n",
       "      <td>34</td>\n",
       "      <td>1985-02-05</td>\n",
       "      <td>187</td>\n",
       "      <td>83</td>\n",
       "      <td>Portugal</td>\n",
       "      <td>Juventus</td>\n",
       "      <td>Italian Serie A</td>\n",
       "      <td>93</td>\n",
       "      <td>ST, LW</td>\n",
       "    </tr>\n",
       "    <tr>\n",
       "      <th>2</th>\n",
       "      <td>190871</td>\n",
       "      <td>Neymar Jr</td>\n",
       "      <td>Neymar da Silva Santos Júnior</td>\n",
       "      <td>27</td>\n",
       "      <td>1992-02-05</td>\n",
       "      <td>175</td>\n",
       "      <td>68</td>\n",
       "      <td>Brazil</td>\n",
       "      <td>Paris Saint-Germain</td>\n",
       "      <td>French Ligue 1</td>\n",
       "      <td>92</td>\n",
       "      <td>LW, CAM</td>\n",
       "    </tr>\n",
       "    <tr>\n",
       "      <th>3</th>\n",
       "      <td>200389</td>\n",
       "      <td>J. Oblak</td>\n",
       "      <td>Jan Oblak</td>\n",
       "      <td>26</td>\n",
       "      <td>1993-01-07</td>\n",
       "      <td>188</td>\n",
       "      <td>87</td>\n",
       "      <td>Slovenia</td>\n",
       "      <td>Atlético Madrid</td>\n",
       "      <td>Spain Primera Division</td>\n",
       "      <td>91</td>\n",
       "      <td>GK</td>\n",
       "    </tr>\n",
       "    <tr>\n",
       "      <th>4</th>\n",
       "      <td>183277</td>\n",
       "      <td>E. Hazard</td>\n",
       "      <td>Eden Hazard</td>\n",
       "      <td>28</td>\n",
       "      <td>1991-01-07</td>\n",
       "      <td>175</td>\n",
       "      <td>74</td>\n",
       "      <td>Belgium</td>\n",
       "      <td>Real Madrid</td>\n",
       "      <td>Spain Primera Division</td>\n",
       "      <td>91</td>\n",
       "      <td>LW, CF</td>\n",
       "    </tr>\n",
       "    <tr>\n",
       "      <th>...</th>\n",
       "      <td>...</td>\n",
       "      <td>...</td>\n",
       "      <td>...</td>\n",
       "      <td>...</td>\n",
       "      <td>...</td>\n",
       "      <td>...</td>\n",
       "      <td>...</td>\n",
       "      <td>...</td>\n",
       "      <td>...</td>\n",
       "      <td>...</td>\n",
       "      <td>...</td>\n",
       "      <td>...</td>\n",
       "    </tr>\n",
       "    <tr>\n",
       "      <th>18478</th>\n",
       "      <td>245006</td>\n",
       "      <td>Shao Shuai</td>\n",
       "      <td>邵帅</td>\n",
       "      <td>22</td>\n",
       "      <td>1997-03-10</td>\n",
       "      <td>186</td>\n",
       "      <td>79</td>\n",
       "      <td>China PR</td>\n",
       "      <td>Beijing Renhe FC</td>\n",
       "      <td>Chinese Super League</td>\n",
       "      <td>48</td>\n",
       "      <td>CB</td>\n",
       "    </tr>\n",
       "    <tr>\n",
       "      <th>18479</th>\n",
       "      <td>250995</td>\n",
       "      <td>Xiao Mingjie</td>\n",
       "      <td>肖明杰</td>\n",
       "      <td>22</td>\n",
       "      <td>1997-01-01</td>\n",
       "      <td>177</td>\n",
       "      <td>66</td>\n",
       "      <td>China PR</td>\n",
       "      <td>Shanghai SIPG FC</td>\n",
       "      <td>Chinese Super League</td>\n",
       "      <td>48</td>\n",
       "      <td>CB</td>\n",
       "    </tr>\n",
       "    <tr>\n",
       "      <th>18480</th>\n",
       "      <td>252332</td>\n",
       "      <td>Zhang Wei</td>\n",
       "      <td>张威</td>\n",
       "      <td>19</td>\n",
       "      <td>2000-05-16</td>\n",
       "      <td>186</td>\n",
       "      <td>75</td>\n",
       "      <td>China PR</td>\n",
       "      <td>Hebei China Fortune FC</td>\n",
       "      <td>Chinese Super League</td>\n",
       "      <td>48</td>\n",
       "      <td>CM</td>\n",
       "    </tr>\n",
       "    <tr>\n",
       "      <th>18481</th>\n",
       "      <td>251110</td>\n",
       "      <td>Wang Haijian</td>\n",
       "      <td>汪海健</td>\n",
       "      <td>18</td>\n",
       "      <td>2000-08-02</td>\n",
       "      <td>185</td>\n",
       "      <td>74</td>\n",
       "      <td>China PR</td>\n",
       "      <td>Shanghai Greenland Shenhua FC</td>\n",
       "      <td>Chinese Super League</td>\n",
       "      <td>48</td>\n",
       "      <td>CM</td>\n",
       "    </tr>\n",
       "    <tr>\n",
       "      <th>18482</th>\n",
       "      <td>233449</td>\n",
       "      <td>Pan Ximing</td>\n",
       "      <td>潘喜明</td>\n",
       "      <td>26</td>\n",
       "      <td>1993-01-11</td>\n",
       "      <td>182</td>\n",
       "      <td>78</td>\n",
       "      <td>China PR</td>\n",
       "      <td>Hebei China Fortune FC</td>\n",
       "      <td>Chinese Super League</td>\n",
       "      <td>48</td>\n",
       "      <td>CM</td>\n",
       "    </tr>\n",
       "  </tbody>\n",
       "</table>\n",
       "<p>18483 rows × 12 columns</p>\n",
       "</div>"
      ],
      "text/plain": [
       "       sofifa_id         short_name                            long_name  age  \\\n",
       "0         158023           L. Messi       Lionel Andrés Messi Cuccittini   32   \n",
       "1          20801  Cristiano Ronaldo  Cristiano Ronaldo dos Santos Aveiro   34   \n",
       "2         190871          Neymar Jr        Neymar da Silva Santos Júnior   27   \n",
       "3         200389           J. Oblak                            Jan Oblak   26   \n",
       "4         183277          E. Hazard                          Eden Hazard   28   \n",
       "...          ...                ...                                  ...  ...   \n",
       "18478     245006         Shao Shuai                                   邵帅   22   \n",
       "18479     250995       Xiao Mingjie                                  肖明杰   22   \n",
       "18480     252332          Zhang Wei                                   张威   19   \n",
       "18481     251110       Wang Haijian                                  汪海健   18   \n",
       "18482     233449         Pan Ximing                                  潘喜明   26   \n",
       "\n",
       "              dob  height_cm  weight_kg nationality  \\\n",
       "0      1987-06-24        170         72   Argentina   \n",
       "1      1985-02-05        187         83    Portugal   \n",
       "2      1992-02-05        175         68      Brazil   \n",
       "3      1993-01-07        188         87    Slovenia   \n",
       "4      1991-01-07        175         74     Belgium   \n",
       "...           ...        ...        ...         ...   \n",
       "18478  1997-03-10        186         79    China PR   \n",
       "18479  1997-01-01        177         66    China PR   \n",
       "18480  2000-05-16        186         75    China PR   \n",
       "18481  2000-08-02        185         74    China PR   \n",
       "18482  1993-01-11        182         78    China PR   \n",
       "\n",
       "                           club_name             league_name  overall  \\\n",
       "0                       FC Barcelona  Spain Primera Division       94   \n",
       "1                           Juventus         Italian Serie A       93   \n",
       "2                Paris Saint-Germain          French Ligue 1       92   \n",
       "3                    Atlético Madrid  Spain Primera Division       91   \n",
       "4                        Real Madrid  Spain Primera Division       91   \n",
       "...                              ...                     ...      ...   \n",
       "18478               Beijing Renhe FC    Chinese Super League       48   \n",
       "18479               Shanghai SIPG FC    Chinese Super League       48   \n",
       "18480         Hebei China Fortune FC    Chinese Super League       48   \n",
       "18481  Shanghai Greenland Shenhua FC    Chinese Super League       48   \n",
       "18482         Hebei China Fortune FC    Chinese Super League       48   \n",
       "\n",
       "      player_positions  \n",
       "0           RW, CF, ST  \n",
       "1               ST, LW  \n",
       "2              LW, CAM  \n",
       "3                   GK  \n",
       "4               LW, CF  \n",
       "...                ...  \n",
       "18478               CB  \n",
       "18479               CB  \n",
       "18480               CM  \n",
       "18481               CM  \n",
       "18482               CM  \n",
       "\n",
       "[18483 rows x 12 columns]"
      ]
     },
     "execution_count": 117,
     "metadata": {},
     "output_type": "execute_result"
    }
   ],
   "source": [
    "fifa"
   ]
  },
  {
   "cell_type": "code",
   "execution_count": 119,
   "id": "842f5023",
   "metadata": {},
   "outputs": [
    {
     "name": "stdout",
     "output_type": "stream",
     "text": [
      "<class 'pandas.core.frame.DataFrame'>\n",
      "RangeIndex: 18483 entries, 0 to 18482\n",
      "Data columns (total 12 columns):\n",
      " #   Column            Non-Null Count  Dtype \n",
      "---  ------            --------------  ----- \n",
      " 0   sofifa_id         18483 non-null  int64 \n",
      " 1   short_name        18483 non-null  object\n",
      " 2   long_name         18483 non-null  object\n",
      " 3   age               18483 non-null  int64 \n",
      " 4   dob               18483 non-null  object\n",
      " 5   height_cm         18483 non-null  int64 \n",
      " 6   weight_kg         18483 non-null  int64 \n",
      " 7   nationality       18483 non-null  object\n",
      " 8   club_name         18243 non-null  object\n",
      " 9   league_name       18243 non-null  object\n",
      " 10  overall           18483 non-null  int64 \n",
      " 11  player_positions  18483 non-null  object\n",
      "dtypes: int64(5), object(7)\n",
      "memory usage: 1.7+ MB\n"
     ]
    }
   ],
   "source": [
    "fifa.info() #Muestra el tipo de dato, y un resumen de la tabla"
   ]
  },
  {
   "cell_type": "code",
   "execution_count": 120,
   "id": "b4c83275",
   "metadata": {},
   "outputs": [],
   "source": [
    "# Al utilizar to_string devolverá una representación de cadena del DataFrame en forma tabular, \n",
    "# aunque no siempre se ajustará al ancho de la consola."
   ]
  },
  {
   "cell_type": "code",
   "execution_count": 123,
   "id": "ef9576fd",
   "metadata": {},
   "outputs": [
    {
     "name": "stdout",
     "output_type": "stream",
     "text": [
      "       sofifa_id     short_name                          long_name  age         dob  height_cm\n",
      "18463     240927     L. Collins                      Lewis Collins   18  2001-05-09        178\n",
      "18464     248182     H. Sveijer                     Hannes Sveijer   17  2002-04-28        185\n",
      "18465     237599  A. De Angelis              Alessandro De Angelis   21  1998-03-13        174\n",
      "18466     238521      H. Shirai                              白井 陽斗   19  1999-10-23        170\n",
      "18467     246694      S. Callan                        Sean Callan   19  1999-12-14        182\n",
      "18468     251124     F. Nevarez  Francisco Javier Nevarez Pulgarin   18  2000-12-03        178\n",
      "18469     240917   Zhang Yufeng                                张宇峰   21  1998-01-05        178\n",
      "18470     241828      L. Offord                        Luke Offord   19  1999-11-19        170\n",
      "18471     245029      Wang Peng                                 王鹏   21  1997-11-16        175\n",
      "18472     247002        J. Ryan                          Jack Ryan   19  2000-02-07        178\n",
      "18473     247452   M. Gallagher                  Michael Gallagher   18  2000-07-09        178\n",
      "18474     252181   Huang Jiahui                                黄家辉   18  2000-10-07        183\n",
      "18475     252568       M. Sagaf                 Mohammed Ali Sagaf   21  1997-11-12        177\n",
      "18476     243961       E. Tweed                         Evan Tweed   20  1999-03-01        180\n",
      "18477     251789      P. Martin                        Paul Martin   20  1999-01-05        188\n",
      "18478     245006     Shao Shuai                                 邵帅   22  1997-03-10        186\n",
      "18479     250995   Xiao Mingjie                                肖明杰   22  1997-01-01        177\n",
      "18480     252332      Zhang Wei                                 张威   19  2000-05-16        186\n",
      "18481     251110   Wang Haijian                                汪海健   18  2000-08-02        185\n",
      "18482     233449     Pan Ximing                                潘喜明   26  1993-01-11        182\n"
     ]
    }
   ],
   "source": [
    "print(fifa.iloc[-20:, :6].to_string())"
   ]
  },
  {
   "cell_type": "code",
   "execution_count": 124,
   "id": "5e815ea5",
   "metadata": {},
   "outputs": [],
   "source": [
    "# Los data frame anchos se imprimirán en varias filas de forma predeterminada:"
   ]
  },
  {
   "cell_type": "code",
   "execution_count": 125,
   "id": "662c593a",
   "metadata": {},
   "outputs": [
    {
     "data": {
      "text/html": [
       "<div>\n",
       "<style scoped>\n",
       "    .dataframe tbody tr th:only-of-type {\n",
       "        vertical-align: middle;\n",
       "    }\n",
       "\n",
       "    .dataframe tbody tr th {\n",
       "        vertical-align: top;\n",
       "    }\n",
       "\n",
       "    .dataframe thead th {\n",
       "        text-align: right;\n",
       "    }\n",
       "</style>\n",
       "<table border=\"1\" class=\"dataframe\">\n",
       "  <thead>\n",
       "    <tr style=\"text-align: right;\">\n",
       "      <th></th>\n",
       "      <th>0</th>\n",
       "      <th>1</th>\n",
       "      <th>2</th>\n",
       "      <th>3</th>\n",
       "      <th>4</th>\n",
       "      <th>5</th>\n",
       "      <th>6</th>\n",
       "      <th>7</th>\n",
       "      <th>8</th>\n",
       "      <th>9</th>\n",
       "      <th>10</th>\n",
       "      <th>11</th>\n",
       "    </tr>\n",
       "  </thead>\n",
       "  <tbody>\n",
       "    <tr>\n",
       "      <th>0</th>\n",
       "      <td>0.581640</td>\n",
       "      <td>0.047951</td>\n",
       "      <td>-0.819108</td>\n",
       "      <td>0.779445</td>\n",
       "      <td>-0.097253</td>\n",
       "      <td>-0.139577</td>\n",
       "      <td>-0.252837</td>\n",
       "      <td>0.835529</td>\n",
       "      <td>0.154719</td>\n",
       "      <td>-0.642982</td>\n",
       "      <td>0.272370</td>\n",
       "      <td>-1.099282</td>\n",
       "    </tr>\n",
       "    <tr>\n",
       "      <th>1</th>\n",
       "      <td>1.081916</td>\n",
       "      <td>1.125287</td>\n",
       "      <td>-0.136315</td>\n",
       "      <td>-1.348817</td>\n",
       "      <td>0.932845</td>\n",
       "      <td>-0.759313</td>\n",
       "      <td>-2.222761</td>\n",
       "      <td>0.021796</td>\n",
       "      <td>0.070391</td>\n",
       "      <td>0.611404</td>\n",
       "      <td>-1.710571</td>\n",
       "      <td>2.246968</td>\n",
       "    </tr>\n",
       "    <tr>\n",
       "      <th>2</th>\n",
       "      <td>1.260028</td>\n",
       "      <td>0.465819</td>\n",
       "      <td>-1.774237</td>\n",
       "      <td>0.837325</td>\n",
       "      <td>2.105005</td>\n",
       "      <td>-0.891582</td>\n",
       "      <td>-0.641256</td>\n",
       "      <td>0.232648</td>\n",
       "      <td>-0.651893</td>\n",
       "      <td>-0.692832</td>\n",
       "      <td>-1.697543</td>\n",
       "      <td>-0.682986</td>\n",
       "    </tr>\n",
       "  </tbody>\n",
       "</table>\n",
       "</div>"
      ],
      "text/plain": [
       "         0         1         2         3         4         5         6   \\\n",
       "0  0.581640  0.047951 -0.819108  0.779445 -0.097253 -0.139577 -0.252837   \n",
       "1  1.081916  1.125287 -0.136315 -1.348817  0.932845 -0.759313 -2.222761   \n",
       "2  1.260028  0.465819 -1.774237  0.837325  2.105005 -0.891582 -0.641256   \n",
       "\n",
       "         7         8         9         10        11  \n",
       "0  0.835529  0.154719 -0.642982  0.272370 -1.099282  \n",
       "1  0.021796  0.070391  0.611404 -1.710571  2.246968  \n",
       "2  0.232648 -0.651893 -0.692832 -1.697543 -0.682986  "
      ]
     },
     "execution_count": 125,
     "metadata": {},
     "output_type": "execute_result"
    }
   ],
   "source": [
    "pd.DataFrame(np.random.randn(3, 12))"
   ]
  },
  {
   "cell_type": "code",
   "execution_count": 126,
   "id": "82d2815e",
   "metadata": {},
   "outputs": [],
   "source": [
    "# Puede cambiar cuánto imprimir en una sola fila configurando la opción display.width"
   ]
  },
  {
   "cell_type": "code",
   "execution_count": 132,
   "id": "4854e79b",
   "metadata": {},
   "outputs": [],
   "source": [
    "pd.set_option(\"display.width\", 40) "
   ]
  },
  {
   "cell_type": "code",
   "execution_count": 135,
   "id": "426f260e",
   "metadata": {},
   "outputs": [],
   "source": [
    "# Puede ajustar el ancho máximo de letras de las columnas individuales configurando display.max_colwidth"
   ]
  },
  {
   "cell_type": "code",
   "execution_count": 136,
   "id": "e58c5928",
   "metadata": {},
   "outputs": [],
   "source": [
    "datafile = {\n",
    "    \"filename\": [\"filename_01\", \"filename_02\"],\n",
    "    \"path\": [\n",
    "        \"media/user_name/storage/folder_01/filename_01\",\n",
    "        \"media/user_name/storage/folder_02/filename_02\",\n",
    "    ],\n",
    "}\n"
   ]
  },
  {
   "cell_type": "code",
   "execution_count": 137,
   "id": "bb6535b9",
   "metadata": {},
   "outputs": [],
   "source": [
    "pd.set_option(\"display.max_colwidth\", 30)"
   ]
  },
  {
   "cell_type": "code",
   "execution_count": 138,
   "id": "cd969d2b",
   "metadata": {},
   "outputs": [
    {
     "data": {
      "text/html": [
       "<div>\n",
       "<style scoped>\n",
       "    .dataframe tbody tr th:only-of-type {\n",
       "        vertical-align: middle;\n",
       "    }\n",
       "\n",
       "    .dataframe tbody tr th {\n",
       "        vertical-align: top;\n",
       "    }\n",
       "\n",
       "    .dataframe thead th {\n",
       "        text-align: right;\n",
       "    }\n",
       "</style>\n",
       "<table border=\"1\" class=\"dataframe\">\n",
       "  <thead>\n",
       "    <tr style=\"text-align: right;\">\n",
       "      <th></th>\n",
       "      <th>filename</th>\n",
       "      <th>path</th>\n",
       "    </tr>\n",
       "  </thead>\n",
       "  <tbody>\n",
       "    <tr>\n",
       "      <th>0</th>\n",
       "      <td>filename_01</td>\n",
       "      <td>media/user_name/storage/fo...</td>\n",
       "    </tr>\n",
       "    <tr>\n",
       "      <th>1</th>\n",
       "      <td>filename_02</td>\n",
       "      <td>media/user_name/storage/fo...</td>\n",
       "    </tr>\n",
       "  </tbody>\n",
       "</table>\n",
       "</div>"
      ],
      "text/plain": [
       "      filename  \\\n",
       "0  filename_01   \n",
       "1  filename_02   \n",
       "\n",
       "                            path  \n",
       "0  media/user_name/storage/fo...  \n",
       "1  media/user_name/storage/fo...  "
      ]
     },
     "execution_count": 138,
     "metadata": {},
     "output_type": "execute_result"
    }
   ],
   "source": [
    "pd.DataFrame(datafile)"
   ]
  }
 ],
 "metadata": {
  "kernelspec": {
   "display_name": "Python 3 (ipykernel)",
   "language": "python",
   "name": "python3"
  },
  "language_info": {
   "codemirror_mode": {
    "name": "ipython",
    "version": 3
   },
   "file_extension": ".py",
   "mimetype": "text/x-python",
   "name": "python",
   "nbconvert_exporter": "python",
   "pygments_lexer": "ipython3",
   "version": "3.9.12"
  }
 },
 "nbformat": 4,
 "nbformat_minor": 5
}
