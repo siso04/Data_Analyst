{
 "cells": [
  {
   "cell_type": "code",
   "execution_count": 1,
   "id": "376bf5a3",
   "metadata": {},
   "outputs": [],
   "source": [
    "import numpy as np\n",
    "import pandas as pd"
   ]
  },
  {
   "cell_type": "markdown",
   "id": "3037da16",
   "metadata": {},
   "source": [
    "# Definición"
   ]
  },
  {
   "cell_type": "markdown",
   "id": "84697abc",
   "metadata": {},
   "source": [
    "Los categóricos son un tipo de datos de pandas correspondientes a variables categóricas en estadísticas. Una variable categórica toma un número limitado, y generalmente fijo, de valores posibles (categorías; niveles en R). Algunos ejemplos son el sexo, la clase social, el tipo de sangre, el país de pertenencia, el tiempo de observación o la calificación a través de escalas de Likert. A diferencia de las variables categóricas estadísticas, los datos categóricos pueden tener un orden (por ejemplo, \"muy de acuerdo\" frente a \"de acuerdo\" o \"primera observación\" frente a \"segunda observación\"), pero **las operaciones numéricas (sumas, divisiones, etc.) no son posibles**."
   ]
  },
  {
   "cell_type": "markdown",
   "id": "d97a9927",
   "metadata": {},
   "source": [
    "## Creación de objetos"
   ]
  },
  {
   "cell_type": "markdown",
   "id": "3beb0310",
   "metadata": {},
   "source": [
    "## 1. Series"
   ]
  },
  {
   "cell_type": "code",
   "execution_count": 2,
   "id": "4efb05f0",
   "metadata": {},
   "outputs": [],
   "source": [
    "# Las series o columnas categóricas en un DataFrame se pueden crear de varias maneras:\n",
    "# Especificando dtype=\"category\" al construir una Serie\n",
    "s = pd.Series([\"a\", \"b\", \"c\", \"a\"], dtype=\"category\")"
   ]
  },
  {
   "cell_type": "code",
   "execution_count": 3,
   "id": "b2ca9954",
   "metadata": {},
   "outputs": [
    {
     "data": {
      "text/plain": [
       "0    a\n",
       "1    b\n",
       "2    c\n",
       "3    a\n",
       "dtype: category\n",
       "Categories (3, object): ['a', 'b', 'c']"
      ]
     },
     "execution_count": 3,
     "metadata": {},
     "output_type": "execute_result"
    }
   ],
   "source": [
    "s"
   ]
  },
  {
   "cell_type": "code",
   "execution_count": 4,
   "id": "0311a412",
   "metadata": {},
   "outputs": [],
   "source": [
    "# Al convertir una serie o columna existente en un tipo de categoría\n",
    "df = pd.DataFrame({\"A\": [\"a\", \"b\", \"c\", \"a\"]})"
   ]
  },
  {
   "cell_type": "code",
   "execution_count": 5,
   "id": "9f0e7c0d",
   "metadata": {},
   "outputs": [],
   "source": [
    "df[\"B\"] = df[\"A\"].astype(\"category\")"
   ]
  },
  {
   "cell_type": "code",
   "execution_count": 6,
   "id": "127e38ac",
   "metadata": {},
   "outputs": [
    {
     "data": {
      "text/html": [
       "<div>\n",
       "<style scoped>\n",
       "    .dataframe tbody tr th:only-of-type {\n",
       "        vertical-align: middle;\n",
       "    }\n",
       "\n",
       "    .dataframe tbody tr th {\n",
       "        vertical-align: top;\n",
       "    }\n",
       "\n",
       "    .dataframe thead th {\n",
       "        text-align: right;\n",
       "    }\n",
       "</style>\n",
       "<table border=\"1\" class=\"dataframe\">\n",
       "  <thead>\n",
       "    <tr style=\"text-align: right;\">\n",
       "      <th></th>\n",
       "      <th>A</th>\n",
       "      <th>B</th>\n",
       "    </tr>\n",
       "  </thead>\n",
       "  <tbody>\n",
       "    <tr>\n",
       "      <th>0</th>\n",
       "      <td>a</td>\n",
       "      <td>a</td>\n",
       "    </tr>\n",
       "    <tr>\n",
       "      <th>1</th>\n",
       "      <td>b</td>\n",
       "      <td>b</td>\n",
       "    </tr>\n",
       "    <tr>\n",
       "      <th>2</th>\n",
       "      <td>c</td>\n",
       "      <td>c</td>\n",
       "    </tr>\n",
       "    <tr>\n",
       "      <th>3</th>\n",
       "      <td>a</td>\n",
       "      <td>a</td>\n",
       "    </tr>\n",
       "  </tbody>\n",
       "</table>\n",
       "</div>"
      ],
      "text/plain": [
       "   A  B\n",
       "0  a  a\n",
       "1  b  b\n",
       "2  c  c\n",
       "3  a  a"
      ]
     },
     "execution_count": 6,
     "metadata": {},
     "output_type": "execute_result"
    }
   ],
   "source": [
    "df"
   ]
  },
  {
   "cell_type": "code",
   "execution_count": 7,
   "id": "c226eda3",
   "metadata": {},
   "outputs": [
    {
     "data": {
      "text/plain": [
       "A      object\n",
       "B    category\n",
       "dtype: object"
      ]
     },
     "execution_count": 7,
     "metadata": {},
     "output_type": "execute_result"
    }
   ],
   "source": [
    "df.dtypes"
   ]
  },
  {
   "cell_type": "code",
   "execution_count": 8,
   "id": "ba9d540e",
   "metadata": {},
   "outputs": [],
   "source": [
    "# Mediante el uso de funciones especiales, como cut(), que agrupa los datos en contenedores discretos.\n",
    "df = pd.DataFrame({\"value\": np.random.randint(0, 100, 20)})"
   ]
  },
  {
   "cell_type": "code",
   "execution_count": 9,
   "id": "4ccf833a",
   "metadata": {},
   "outputs": [],
   "source": [
    "labels = [\"{0} - {1}\".format(i, i + 9) for i in range(0, 100, 10)]"
   ]
  },
  {
   "cell_type": "code",
   "execution_count": 10,
   "id": "ee9118ef",
   "metadata": {},
   "outputs": [],
   "source": [
    "df[\"group\"] = pd.cut(df.value, range(0, 105, 10), right=False, labels=labels)"
   ]
  },
  {
   "cell_type": "code",
   "execution_count": 11,
   "id": "ce14c162",
   "metadata": {},
   "outputs": [
    {
     "data": {
      "text/html": [
       "<div>\n",
       "<style scoped>\n",
       "    .dataframe tbody tr th:only-of-type {\n",
       "        vertical-align: middle;\n",
       "    }\n",
       "\n",
       "    .dataframe tbody tr th {\n",
       "        vertical-align: top;\n",
       "    }\n",
       "\n",
       "    .dataframe thead th {\n",
       "        text-align: right;\n",
       "    }\n",
       "</style>\n",
       "<table border=\"1\" class=\"dataframe\">\n",
       "  <thead>\n",
       "    <tr style=\"text-align: right;\">\n",
       "      <th></th>\n",
       "      <th>value</th>\n",
       "      <th>group</th>\n",
       "    </tr>\n",
       "  </thead>\n",
       "  <tbody>\n",
       "    <tr>\n",
       "      <th>0</th>\n",
       "      <td>93</td>\n",
       "      <td>90 - 99</td>\n",
       "    </tr>\n",
       "    <tr>\n",
       "      <th>1</th>\n",
       "      <td>24</td>\n",
       "      <td>20 - 29</td>\n",
       "    </tr>\n",
       "    <tr>\n",
       "      <th>2</th>\n",
       "      <td>8</td>\n",
       "      <td>0 - 9</td>\n",
       "    </tr>\n",
       "    <tr>\n",
       "      <th>3</th>\n",
       "      <td>90</td>\n",
       "      <td>90 - 99</td>\n",
       "    </tr>\n",
       "    <tr>\n",
       "      <th>4</th>\n",
       "      <td>94</td>\n",
       "      <td>90 - 99</td>\n",
       "    </tr>\n",
       "    <tr>\n",
       "      <th>5</th>\n",
       "      <td>86</td>\n",
       "      <td>80 - 89</td>\n",
       "    </tr>\n",
       "    <tr>\n",
       "      <th>6</th>\n",
       "      <td>64</td>\n",
       "      <td>60 - 69</td>\n",
       "    </tr>\n",
       "    <tr>\n",
       "      <th>7</th>\n",
       "      <td>77</td>\n",
       "      <td>70 - 79</td>\n",
       "    </tr>\n",
       "    <tr>\n",
       "      <th>8</th>\n",
       "      <td>49</td>\n",
       "      <td>40 - 49</td>\n",
       "    </tr>\n",
       "    <tr>\n",
       "      <th>9</th>\n",
       "      <td>71</td>\n",
       "      <td>70 - 79</td>\n",
       "    </tr>\n",
       "  </tbody>\n",
       "</table>\n",
       "</div>"
      ],
      "text/plain": [
       "   value    group\n",
       "0     93  90 - 99\n",
       "1     24  20 - 29\n",
       "2      8    0 - 9\n",
       "3     90  90 - 99\n",
       "4     94  90 - 99\n",
       "5     86  80 - 89\n",
       "6     64  60 - 69\n",
       "7     77  70 - 79\n",
       "8     49  40 - 49\n",
       "9     71  70 - 79"
      ]
     },
     "execution_count": 11,
     "metadata": {},
     "output_type": "execute_result"
    }
   ],
   "source": [
    "df.head(10)"
   ]
  },
  {
   "cell_type": "code",
   "execution_count": 12,
   "id": "097a4604",
   "metadata": {},
   "outputs": [],
   "source": [
    "# Pasando un objeto pandas.Categorical a una Serie o asignándolo a un DataFrame.\n",
    "raw_cat = pd.Categorical(\n",
    "    [\"a\", \"b\", \"c\", \"a\"], categories=[\"b\", \"c\", \"d\"], ordered=False\n",
    ")"
   ]
  },
  {
   "cell_type": "code",
   "execution_count": 13,
   "id": "5a27f3c2",
   "metadata": {},
   "outputs": [],
   "source": [
    "s = pd.Series(raw_cat)"
   ]
  },
  {
   "cell_type": "code",
   "execution_count": 14,
   "id": "0878683a",
   "metadata": {},
   "outputs": [
    {
     "data": {
      "text/plain": [
       "0    NaN\n",
       "1      b\n",
       "2      c\n",
       "3    NaN\n",
       "dtype: category\n",
       "Categories (3, object): ['b', 'c', 'd']"
      ]
     },
     "execution_count": 14,
     "metadata": {},
     "output_type": "execute_result"
    }
   ],
   "source": [
    "s"
   ]
  },
  {
   "cell_type": "code",
   "execution_count": 15,
   "id": "d4589bf9",
   "metadata": {},
   "outputs": [],
   "source": [
    "df = pd.DataFrame({\"A\": [\"a\", \"b\", \"c\", \"a\"]})"
   ]
  },
  {
   "cell_type": "code",
   "execution_count": 16,
   "id": "258cf37d",
   "metadata": {},
   "outputs": [],
   "source": [
    "df[\"B\"] = raw_cat"
   ]
  },
  {
   "cell_type": "code",
   "execution_count": 17,
   "id": "c6ae5981",
   "metadata": {},
   "outputs": [
    {
     "data": {
      "text/html": [
       "<div>\n",
       "<style scoped>\n",
       "    .dataframe tbody tr th:only-of-type {\n",
       "        vertical-align: middle;\n",
       "    }\n",
       "\n",
       "    .dataframe tbody tr th {\n",
       "        vertical-align: top;\n",
       "    }\n",
       "\n",
       "    .dataframe thead th {\n",
       "        text-align: right;\n",
       "    }\n",
       "</style>\n",
       "<table border=\"1\" class=\"dataframe\">\n",
       "  <thead>\n",
       "    <tr style=\"text-align: right;\">\n",
       "      <th></th>\n",
       "      <th>A</th>\n",
       "      <th>B</th>\n",
       "    </tr>\n",
       "  </thead>\n",
       "  <tbody>\n",
       "    <tr>\n",
       "      <th>0</th>\n",
       "      <td>a</td>\n",
       "      <td>NaN</td>\n",
       "    </tr>\n",
       "    <tr>\n",
       "      <th>1</th>\n",
       "      <td>b</td>\n",
       "      <td>b</td>\n",
       "    </tr>\n",
       "    <tr>\n",
       "      <th>2</th>\n",
       "      <td>c</td>\n",
       "      <td>c</td>\n",
       "    </tr>\n",
       "    <tr>\n",
       "      <th>3</th>\n",
       "      <td>a</td>\n",
       "      <td>NaN</td>\n",
       "    </tr>\n",
       "  </tbody>\n",
       "</table>\n",
       "</div>"
      ],
      "text/plain": [
       "   A    B\n",
       "0  a  NaN\n",
       "1  b    b\n",
       "2  c    c\n",
       "3  a  NaN"
      ]
     },
     "execution_count": 17,
     "metadata": {},
     "output_type": "execute_result"
    }
   ],
   "source": [
    "df"
   ]
  },
  {
   "cell_type": "code",
   "execution_count": 18,
   "id": "70768950",
   "metadata": {},
   "outputs": [
    {
     "data": {
      "text/plain": [
       "A      object\n",
       "B    category\n",
       "dtype: object"
      ]
     },
     "execution_count": 18,
     "metadata": {},
     "output_type": "execute_result"
    }
   ],
   "source": [
    "df.dtypes"
   ]
  },
  {
   "cell_type": "markdown",
   "id": "f76267be",
   "metadata": {},
   "source": [
    "## 2. Data Frames"
   ]
  },
  {
   "cell_type": "code",
   "execution_count": 19,
   "id": "6a937c12",
   "metadata": {},
   "outputs": [],
   "source": [
    "# Al igual que en la sección anterior, donde una sola columna se convirtió en categórica, todas las columnas en un DataFrame \n",
    "# se pueden convertir por lotes en categóricas durante o después de la construcción.\n",
    "\n",
    "# Esto se puede hacer durante la construcción especificando dtype=\"category\" en el constructor de DataFrame\n",
    "\n",
    "df = pd.DataFrame({\"A\": list(\"abca\"), \"B\": list(\"bccd\")}, dtype=\"category\")"
   ]
  },
  {
   "cell_type": "code",
   "execution_count": 20,
   "id": "98907993",
   "metadata": {},
   "outputs": [
    {
     "data": {
      "text/html": [
       "<div>\n",
       "<style scoped>\n",
       "    .dataframe tbody tr th:only-of-type {\n",
       "        vertical-align: middle;\n",
       "    }\n",
       "\n",
       "    .dataframe tbody tr th {\n",
       "        vertical-align: top;\n",
       "    }\n",
       "\n",
       "    .dataframe thead th {\n",
       "        text-align: right;\n",
       "    }\n",
       "</style>\n",
       "<table border=\"1\" class=\"dataframe\">\n",
       "  <thead>\n",
       "    <tr style=\"text-align: right;\">\n",
       "      <th></th>\n",
       "      <th>A</th>\n",
       "      <th>B</th>\n",
       "    </tr>\n",
       "  </thead>\n",
       "  <tbody>\n",
       "    <tr>\n",
       "      <th>0</th>\n",
       "      <td>a</td>\n",
       "      <td>b</td>\n",
       "    </tr>\n",
       "    <tr>\n",
       "      <th>1</th>\n",
       "      <td>b</td>\n",
       "      <td>c</td>\n",
       "    </tr>\n",
       "    <tr>\n",
       "      <th>2</th>\n",
       "      <td>c</td>\n",
       "      <td>c</td>\n",
       "    </tr>\n",
       "    <tr>\n",
       "      <th>3</th>\n",
       "      <td>a</td>\n",
       "      <td>d</td>\n",
       "    </tr>\n",
       "  </tbody>\n",
       "</table>\n",
       "</div>"
      ],
      "text/plain": [
       "   A  B\n",
       "0  a  b\n",
       "1  b  c\n",
       "2  c  c\n",
       "3  a  d"
      ]
     },
     "execution_count": 20,
     "metadata": {},
     "output_type": "execute_result"
    }
   ],
   "source": [
    "df"
   ]
  },
  {
   "cell_type": "code",
   "execution_count": 21,
   "id": "1b70c77e",
   "metadata": {},
   "outputs": [
    {
     "data": {
      "text/plain": [
       "A    category\n",
       "B    category\n",
       "dtype: object"
      ]
     },
     "execution_count": 21,
     "metadata": {},
     "output_type": "execute_result"
    }
   ],
   "source": [
    "# Podemos comprobar, que se crearon dos columnas de categorias\n",
    "df.dtypes"
   ]
  },
  {
   "cell_type": "code",
   "execution_count": 22,
   "id": "fc35896b",
   "metadata": {},
   "outputs": [
    {
     "data": {
      "text/plain": [
       "0    a\n",
       "1    b\n",
       "2    c\n",
       "3    a\n",
       "Name: A, dtype: category\n",
       "Categories (3, object): ['a', 'b', 'c']"
      ]
     },
     "execution_count": 22,
     "metadata": {},
     "output_type": "execute_result"
    }
   ],
   "source": [
    "df[\"A\"]"
   ]
  },
  {
   "cell_type": "code",
   "execution_count": 23,
   "id": "ba6b4eb5",
   "metadata": {},
   "outputs": [
    {
     "data": {
      "text/plain": [
       "0    b\n",
       "1    c\n",
       "2    c\n",
       "3    d\n",
       "Name: B, dtype: category\n",
       "Categories (3, object): ['b', 'c', 'd']"
      ]
     },
     "execution_count": 23,
     "metadata": {},
     "output_type": "execute_result"
    }
   ],
   "source": [
    "df[\"B\"]"
   ]
  },
  {
   "cell_type": "code",
   "execution_count": 24,
   "id": "741b0c1a",
   "metadata": {},
   "outputs": [],
   "source": [
    "# De manera análoga, todas las columnas en un DataFrame existente se pueden convertir por lotes usando DataFrame.astype()\n",
    "df = pd.DataFrame({\"A\": list(\"abca\"), \"B\": list(\"bccd\")})"
   ]
  },
  {
   "cell_type": "code",
   "execution_count": 25,
   "id": "fe78f464",
   "metadata": {},
   "outputs": [],
   "source": [
    "df_cat = df.astype(\"category\")"
   ]
  },
  {
   "cell_type": "code",
   "execution_count": 26,
   "id": "b35e9713",
   "metadata": {},
   "outputs": [
    {
     "data": {
      "text/plain": [
       "A    category\n",
       "B    category\n",
       "dtype: object"
      ]
     },
     "execution_count": 26,
     "metadata": {},
     "output_type": "execute_result"
    }
   ],
   "source": [
    "df_cat.dtypes"
   ]
  },
  {
   "cell_type": "code",
   "execution_count": 27,
   "id": "bdd074dc",
   "metadata": {},
   "outputs": [
    {
     "data": {
      "text/plain": [
       "0    a\n",
       "1    b\n",
       "2    c\n",
       "3    a\n",
       "Name: A, dtype: category\n",
       "Categories (3, object): ['a', 'b', 'c']"
      ]
     },
     "execution_count": 27,
     "metadata": {},
     "output_type": "execute_result"
    }
   ],
   "source": [
    "df_cat[\"A\"]"
   ]
  },
  {
   "cell_type": "code",
   "execution_count": 28,
   "id": "2459af73",
   "metadata": {},
   "outputs": [
    {
     "data": {
      "text/plain": [
       "0    b\n",
       "1    c\n",
       "2    c\n",
       "3    d\n",
       "Name: B, dtype: category\n",
       "Categories (3, object): ['b', 'c', 'd']"
      ]
     },
     "execution_count": 28,
     "metadata": {},
     "output_type": "execute_result"
    }
   ],
   "source": [
    "df_cat[\"B\"]"
   ]
  },
  {
   "cell_type": "markdown",
   "id": "16fd463f",
   "metadata": {},
   "source": [
    "## 3. Controlar el comportamiento de las categorías"
   ]
  },
  {
   "cell_type": "markdown",
   "id": "babbb9ff",
   "metadata": {},
   "source": [
    "#### En los ejemplos anteriores donde pasamos dtype='category', usamos el comportamiento predeterminado:\n",
    "\n",
    "##### 1. Las categorías se infieren de los datos.\n",
    "##### 2. Las categorías están desordenadas.\n",
    "\n",
    "#### Para controlar esos comportamientos, en lugar de pasar 'categoría', use una instancia de CategoricalDtype."
   ]
  },
  {
   "cell_type": "code",
   "execution_count": 29,
   "id": "fae27f92",
   "metadata": {},
   "outputs": [],
   "source": [
    "from pandas.api.types import CategoricalDtype"
   ]
  },
  {
   "cell_type": "code",
   "execution_count": 30,
   "id": "9ceb0253",
   "metadata": {},
   "outputs": [],
   "source": [
    "s = pd.Series([\"a\", \"b\", \"c\", \"a\"])"
   ]
  },
  {
   "cell_type": "code",
   "execution_count": 31,
   "id": "e9a5991b",
   "metadata": {},
   "outputs": [],
   "source": [
    "cat_type = CategoricalDtype(categories=[\"b\", \"c\", \"d\"], ordered=True)"
   ]
  },
  {
   "cell_type": "code",
   "execution_count": 32,
   "id": "4807c34e",
   "metadata": {},
   "outputs": [],
   "source": [
    "s_cat = s.astype(cat_type)"
   ]
  },
  {
   "cell_type": "code",
   "execution_count": 33,
   "id": "2073a83e",
   "metadata": {},
   "outputs": [
    {
     "data": {
      "text/plain": [
       "0    NaN\n",
       "1      b\n",
       "2      c\n",
       "3    NaN\n",
       "dtype: category\n",
       "Categories (3, object): ['b' < 'c' < 'd']"
      ]
     },
     "execution_count": 33,
     "metadata": {},
     "output_type": "execute_result"
    }
   ],
   "source": [
    "s_cat"
   ]
  },
  {
   "cell_type": "code",
   "execution_count": 34,
   "id": "f612ed3d",
   "metadata": {},
   "outputs": [],
   "source": [
    "# De manera similar, un CategoricalDtype se puede usar con un DataFrame para garantizar \n",
    "# que las categorías sean consistentes entre todas las columnas.\n",
    "from pandas.api.types import CategoricalDtype"
   ]
  },
  {
   "cell_type": "code",
   "execution_count": 35,
   "id": "d1d69b26",
   "metadata": {},
   "outputs": [],
   "source": [
    "df = pd.DataFrame({\"A\": list(\"abca\"), \"B\": list(\"bccd\")})"
   ]
  },
  {
   "cell_type": "code",
   "execution_count": 36,
   "id": "2d93d7bd",
   "metadata": {},
   "outputs": [],
   "source": [
    "cat_type = CategoricalDtype(categories=list(\"abcd\"), ordered=True)"
   ]
  },
  {
   "cell_type": "code",
   "execution_count": 37,
   "id": "12850144",
   "metadata": {},
   "outputs": [],
   "source": [
    "df_cat = df.astype(cat_type)"
   ]
  },
  {
   "cell_type": "code",
   "execution_count": 38,
   "id": "9b1fea22",
   "metadata": {},
   "outputs": [
    {
     "data": {
      "text/plain": [
       "0    a\n",
       "1    b\n",
       "2    c\n",
       "3    a\n",
       "Name: A, dtype: category\n",
       "Categories (4, object): ['a' < 'b' < 'c' < 'd']"
      ]
     },
     "execution_count": 38,
     "metadata": {},
     "output_type": "execute_result"
    }
   ],
   "source": [
    "df_cat[\"A\"]"
   ]
  },
  {
   "cell_type": "code",
   "execution_count": 39,
   "id": "c7917814",
   "metadata": {},
   "outputs": [
    {
     "data": {
      "text/plain": [
       "0    b\n",
       "1    c\n",
       "2    c\n",
       "3    d\n",
       "Name: B, dtype: category\n",
       "Categories (4, object): ['a' < 'b' < 'c' < 'd']"
      ]
     },
     "execution_count": 39,
     "metadata": {},
     "output_type": "execute_result"
    }
   ],
   "source": [
    "df_cat[\"B\"]"
   ]
  },
  {
   "cell_type": "markdown",
   "id": "35ee70e6",
   "metadata": {},
   "source": [
    "## Tipos de datos categóricos"
   ]
  },
  {
   "cell_type": "markdown",
   "id": "dc6f5f22",
   "metadata": {},
   "source": [
    "#### El tipo de dato categórico se describe completamente por\n",
    "##### 1. categories: una secuencia de valores únicos y sin valores perdidos\n",
    "##### 2. ordered: un booleano"
   ]
  },
  {
   "cell_type": "code",
   "execution_count": 40,
   "id": "24e533a3",
   "metadata": {},
   "outputs": [],
   "source": [
    "from pandas.api.types import CategoricalDtype"
   ]
  },
  {
   "cell_type": "code",
   "execution_count": 41,
   "id": "eb3af987",
   "metadata": {},
   "outputs": [
    {
     "data": {
      "text/plain": [
       "CategoricalDtype(categories=['a', 'b', 'c'], ordered=False)"
      ]
     },
     "execution_count": 41,
     "metadata": {},
     "output_type": "execute_result"
    }
   ],
   "source": [
    "CategoricalDtype([\"a\", \"b\", \"c\"])"
   ]
  },
  {
   "cell_type": "code",
   "execution_count": 42,
   "id": "f3673e58",
   "metadata": {},
   "outputs": [
    {
     "data": {
      "text/plain": [
       "CategoricalDtype(categories=['a', 'b', 'c'], ordered=True)"
      ]
     },
     "execution_count": 42,
     "metadata": {},
     "output_type": "execute_result"
    }
   ],
   "source": [
    "CategoricalDtype([\"a\", \"b\", \"c\"], ordered=True)"
   ]
  },
  {
   "cell_type": "code",
   "execution_count": 43,
   "id": "6ed54367",
   "metadata": {},
   "outputs": [
    {
     "data": {
      "text/plain": [
       "CategoricalDtype(categories=None, ordered=False)"
      ]
     },
     "execution_count": 43,
     "metadata": {},
     "output_type": "execute_result"
    }
   ],
   "source": [
    "CategoricalDtype()"
   ]
  },
  {
   "cell_type": "code",
   "execution_count": 44,
   "id": "2e6b116e",
   "metadata": {},
   "outputs": [],
   "source": [
    "# Un CategoricalDtype se puede usar en cualquier lugar donde pandas espere un dtype. \n",
    "# Por ejemplo, pandas.read_csv(), pandas.DataFrame.astype(), o en el constructor Series."
   ]
  },
  {
   "cell_type": "markdown",
   "id": "aaa48c57",
   "metadata": {},
   "source": [
    "## Descripción - describe()"
   ]
  },
  {
   "cell_type": "markdown",
   "id": "6d046de7",
   "metadata": {},
   "source": [
    "#### El uso de describe() en datos categóricos producirá un resultado similar a una serie o marco de datos de tipo cadena."
   ]
  },
  {
   "cell_type": "code",
   "execution_count": 45,
   "id": "117e1821",
   "metadata": {},
   "outputs": [],
   "source": [
    "cat = pd.Categorical([\"a\", \"c\", \"c\", np.nan], categories=[\"b\", \"a\", \"c\"])"
   ]
  },
  {
   "cell_type": "code",
   "execution_count": 46,
   "id": "a9f0d86c",
   "metadata": {},
   "outputs": [],
   "source": [
    "df = pd.DataFrame({\"cat\": cat, \"s\": [\"a\", \"c\", \"c\", np.nan]})"
   ]
  },
  {
   "cell_type": "code",
   "execution_count": 47,
   "id": "7291d1a6",
   "metadata": {},
   "outputs": [
    {
     "data": {
      "text/html": [
       "<div>\n",
       "<style scoped>\n",
       "    .dataframe tbody tr th:only-of-type {\n",
       "        vertical-align: middle;\n",
       "    }\n",
       "\n",
       "    .dataframe tbody tr th {\n",
       "        vertical-align: top;\n",
       "    }\n",
       "\n",
       "    .dataframe thead th {\n",
       "        text-align: right;\n",
       "    }\n",
       "</style>\n",
       "<table border=\"1\" class=\"dataframe\">\n",
       "  <thead>\n",
       "    <tr style=\"text-align: right;\">\n",
       "      <th></th>\n",
       "      <th>cat</th>\n",
       "      <th>s</th>\n",
       "    </tr>\n",
       "  </thead>\n",
       "  <tbody>\n",
       "    <tr>\n",
       "      <th>count</th>\n",
       "      <td>3</td>\n",
       "      <td>3</td>\n",
       "    </tr>\n",
       "    <tr>\n",
       "      <th>unique</th>\n",
       "      <td>2</td>\n",
       "      <td>2</td>\n",
       "    </tr>\n",
       "    <tr>\n",
       "      <th>top</th>\n",
       "      <td>c</td>\n",
       "      <td>c</td>\n",
       "    </tr>\n",
       "    <tr>\n",
       "      <th>freq</th>\n",
       "      <td>2</td>\n",
       "      <td>2</td>\n",
       "    </tr>\n",
       "  </tbody>\n",
       "</table>\n",
       "</div>"
      ],
      "text/plain": [
       "       cat  s\n",
       "count    3  3\n",
       "unique   2  2\n",
       "top      c  c\n",
       "freq     2  2"
      ]
     },
     "execution_count": 47,
     "metadata": {},
     "output_type": "execute_result"
    }
   ],
   "source": [
    "df.describe()"
   ]
  },
  {
   "cell_type": "code",
   "execution_count": 48,
   "id": "67919f92",
   "metadata": {},
   "outputs": [
    {
     "data": {
      "text/plain": [
       "count     3\n",
       "unique    2\n",
       "top       c\n",
       "freq      2\n",
       "Name: cat, dtype: object"
      ]
     },
     "execution_count": 48,
     "metadata": {},
     "output_type": "execute_result"
    }
   ],
   "source": [
    "# Podemos seleccionar solo una columna\n",
    "df[\"cat\"].describe()"
   ]
  },
  {
   "cell_type": "markdown",
   "id": "c8367ce5",
   "metadata": {},
   "source": [
    "## Trabajar con categorías"
   ]
  },
  {
   "cell_type": "markdown",
   "id": "dfe9e30b",
   "metadata": {},
   "source": [
    "Los datos categóricos tienen categorías y una propiedad ordenada, que enumeran sus posibles valores y si el orden es importante o no. Estas propiedades se exponen como **s.cat.categories y s.cat.ordered**. Si no especifica manualmente las categorías y el orden, se deducen de los argumentos pasados."
   ]
  },
  {
   "cell_type": "code",
   "execution_count": 49,
   "id": "2c066c2d",
   "metadata": {},
   "outputs": [],
   "source": [
    "s = pd.Series([\"a\", \"b\", \"c\", \"a\"], dtype=\"category\")"
   ]
  },
  {
   "cell_type": "code",
   "execution_count": 50,
   "id": "8c9e85f6",
   "metadata": {},
   "outputs": [
    {
     "data": {
      "text/plain": [
       "Index(['a', 'b', 'c'], dtype='object')"
      ]
     },
     "execution_count": 50,
     "metadata": {},
     "output_type": "execute_result"
    }
   ],
   "source": [
    "s.cat.categories"
   ]
  },
  {
   "cell_type": "code",
   "execution_count": 51,
   "id": "8a11fc17",
   "metadata": {},
   "outputs": [
    {
     "data": {
      "text/plain": [
       "False"
      ]
     },
     "execution_count": 51,
     "metadata": {},
     "output_type": "execute_result"
    }
   ],
   "source": [
    "s.cat.ordered"
   ]
  },
  {
   "cell_type": "code",
   "execution_count": 52,
   "id": "9d48d451",
   "metadata": {},
   "outputs": [],
   "source": [
    "# Es posible definir las categorias antes de cargar los datos\n",
    "s = pd.Series(pd.Categorical([\"a\", \"b\", \"c\", \"a\"], categories=[\"c\", \"b\", \"a\"]))"
   ]
  },
  {
   "cell_type": "code",
   "execution_count": 53,
   "id": "6c2396d3",
   "metadata": {},
   "outputs": [
    {
     "data": {
      "text/plain": [
       "Index(['c', 'b', 'a'], dtype='object')"
      ]
     },
     "execution_count": 53,
     "metadata": {},
     "output_type": "execute_result"
    }
   ],
   "source": [
    "s.cat.categories"
   ]
  },
  {
   "cell_type": "code",
   "execution_count": 54,
   "id": "dad9958c",
   "metadata": {},
   "outputs": [
    {
     "data": {
      "text/plain": [
       "False"
      ]
     },
     "execution_count": 54,
     "metadata": {},
     "output_type": "execute_result"
    }
   ],
   "source": [
    "s.cat.ordered"
   ]
  },
  {
   "cell_type": "markdown",
   "id": "f6afa7e5",
   "metadata": {},
   "source": [
    "### 1. Renombrar categorias - rename_categories()"
   ]
  },
  {
   "cell_type": "code",
   "execution_count": 55,
   "id": "007b5edb",
   "metadata": {},
   "outputs": [],
   "source": [
    "s = pd.Series([\"a\", \"b\", \"c\", \"a\"], dtype=\"category\")"
   ]
  },
  {
   "cell_type": "code",
   "execution_count": 56,
   "id": "12b93ecd",
   "metadata": {},
   "outputs": [
    {
     "data": {
      "text/plain": [
       "0    a\n",
       "1    b\n",
       "2    c\n",
       "3    a\n",
       "dtype: category\n",
       "Categories (3, object): ['a', 'b', 'c']"
      ]
     },
     "execution_count": 56,
     "metadata": {},
     "output_type": "execute_result"
    }
   ],
   "source": [
    "s"
   ]
  },
  {
   "cell_type": "code",
   "execution_count": 57,
   "id": "d0599937",
   "metadata": {},
   "outputs": [],
   "source": [
    "new_categories = [\"Group %s\" % g for g in s.cat.categories]"
   ]
  },
  {
   "cell_type": "code",
   "execution_count": 58,
   "id": "b5132516",
   "metadata": {},
   "outputs": [],
   "source": [
    "s = s.cat.rename_categories(new_categories)"
   ]
  },
  {
   "cell_type": "code",
   "execution_count": 59,
   "id": "1c185c78",
   "metadata": {},
   "outputs": [
    {
     "data": {
      "text/plain": [
       "0    Group a\n",
       "1    Group b\n",
       "2    Group c\n",
       "3    Group a\n",
       "dtype: category\n",
       "Categories (3, object): ['Group a', 'Group b', 'Group c']"
      ]
     },
     "execution_count": 59,
     "metadata": {},
     "output_type": "execute_result"
    }
   ],
   "source": [
    "s"
   ]
  },
  {
   "cell_type": "code",
   "execution_count": 60,
   "id": "6428e476",
   "metadata": {},
   "outputs": [],
   "source": [
    "# También podemos pasar un diccionario para aplicar la misma operación\n",
    "s = s.cat.rename_categories({1: \"x\", 2: \"y\", 3: \"z\"})"
   ]
  },
  {
   "cell_type": "code",
   "execution_count": 61,
   "id": "e9088339",
   "metadata": {},
   "outputs": [
    {
     "data": {
      "text/plain": [
       "0    Group a\n",
       "1    Group b\n",
       "2    Group c\n",
       "3    Group a\n",
       "dtype: category\n",
       "Categories (3, object): ['Group a', 'Group b', 'Group c']"
      ]
     },
     "execution_count": 61,
     "metadata": {},
     "output_type": "execute_result"
    }
   ],
   "source": [
    "s"
   ]
  },
  {
   "cell_type": "markdown",
   "id": "f408b75a",
   "metadata": {},
   "source": [
    "### 2. Agregar nuevas categorías - add_categories()"
   ]
  },
  {
   "cell_type": "markdown",
   "id": "e3e5de2e",
   "metadata": {},
   "source": [
    "#### Se pueden agregar categorías usando el método add_categories()"
   ]
  },
  {
   "cell_type": "code",
   "execution_count": 62,
   "id": "09836249",
   "metadata": {},
   "outputs": [],
   "source": [
    "s = s.cat.add_categories([4])"
   ]
  },
  {
   "cell_type": "code",
   "execution_count": 63,
   "id": "705b35fb",
   "metadata": {},
   "outputs": [
    {
     "data": {
      "text/plain": [
       "Index(['Group a', 'Group b', 'Group c', 4], dtype='object')"
      ]
     },
     "execution_count": 63,
     "metadata": {},
     "output_type": "execute_result"
    }
   ],
   "source": [
    "s.cat.categories"
   ]
  },
  {
   "cell_type": "code",
   "execution_count": 64,
   "id": "cec1b0ef",
   "metadata": {},
   "outputs": [
    {
     "data": {
      "text/plain": [
       "0    Group a\n",
       "1    Group b\n",
       "2    Group c\n",
       "3    Group a\n",
       "dtype: category\n",
       "Categories (4, object): ['Group a', 'Group b', 'Group c', 4]"
      ]
     },
     "execution_count": 64,
     "metadata": {},
     "output_type": "execute_result"
    }
   ],
   "source": [
    "s"
   ]
  },
  {
   "cell_type": "markdown",
   "id": "e8d9397c",
   "metadata": {},
   "source": [
    "### 3. Remover categorías - remove_categories()"
   ]
  },
  {
   "cell_type": "markdown",
   "id": "fec4d46c",
   "metadata": {},
   "source": [
    "#### La eliminación de categorías se puede hacer usando el método remove_categories(). Los valores que se eliminan se reemplazan por np.nan"
   ]
  },
  {
   "cell_type": "code",
   "execution_count": 65,
   "id": "deed20ba",
   "metadata": {},
   "outputs": [],
   "source": [
    "s = s.cat.remove_categories([4])"
   ]
  },
  {
   "cell_type": "code",
   "execution_count": 66,
   "id": "46bff507",
   "metadata": {},
   "outputs": [
    {
     "data": {
      "text/plain": [
       "0    Group a\n",
       "1    Group b\n",
       "2    Group c\n",
       "3    Group a\n",
       "dtype: category\n",
       "Categories (3, object): ['Group a', 'Group b', 'Group c']"
      ]
     },
     "execution_count": 66,
     "metadata": {},
     "output_type": "execute_result"
    }
   ],
   "source": [
    "s"
   ]
  },
  {
   "cell_type": "markdown",
   "id": "1fca1c4b",
   "metadata": {},
   "source": [
    "### 4. Eliminación de categorías no utilizadas"
   ]
  },
  {
   "cell_type": "code",
   "execution_count": 67,
   "id": "3055d059",
   "metadata": {},
   "outputs": [],
   "source": [
    "s = pd.Series(pd.Categorical([\"a\", \"b\", \"a\"], categories=[\"a\", \"b\", \"c\", \"d\"]))"
   ]
  },
  {
   "cell_type": "code",
   "execution_count": 68,
   "id": "639afc43",
   "metadata": {},
   "outputs": [
    {
     "data": {
      "text/plain": [
       "0    a\n",
       "1    b\n",
       "2    a\n",
       "dtype: category\n",
       "Categories (4, object): ['a', 'b', 'c', 'd']"
      ]
     },
     "execution_count": 68,
     "metadata": {},
     "output_type": "execute_result"
    }
   ],
   "source": [
    "s"
   ]
  },
  {
   "cell_type": "code",
   "execution_count": 69,
   "id": "0958bff6",
   "metadata": {},
   "outputs": [
    {
     "data": {
      "text/plain": [
       "0    a\n",
       "1    b\n",
       "2    a\n",
       "dtype: category\n",
       "Categories (2, object): ['a', 'b']"
      ]
     },
     "execution_count": 69,
     "metadata": {},
     "output_type": "execute_result"
    }
   ],
   "source": [
    "s.cat.remove_unused_categories()"
   ]
  },
  {
   "cell_type": "markdown",
   "id": "1ab39132",
   "metadata": {},
   "source": [
    "### 5. Configuración de categorías - set_categories()"
   ]
  },
  {
   "cell_type": "markdown",
   "id": "b54c814f",
   "metadata": {},
   "source": [
    "Si desea eliminar y agregar nuevas categorías en un solo paso (lo que tiene cierta ventaja de velocidad), o simplemente establecer las categorías en una escala predefinida, use set_categories()."
   ]
  },
  {
   "cell_type": "code",
   "execution_count": 70,
   "id": "fb3fee10",
   "metadata": {},
   "outputs": [],
   "source": [
    "s = pd.Series([\"one\", \"two\", \"four\", \"-\"], dtype=\"category\")"
   ]
  },
  {
   "cell_type": "code",
   "execution_count": 71,
   "id": "3dfa2007",
   "metadata": {},
   "outputs": [
    {
     "data": {
      "text/plain": [
       "0     one\n",
       "1     two\n",
       "2    four\n",
       "3       -\n",
       "dtype: category\n",
       "Categories (4, object): ['-', 'four', 'one', 'two']"
      ]
     },
     "execution_count": 71,
     "metadata": {},
     "output_type": "execute_result"
    }
   ],
   "source": [
    "s"
   ]
  },
  {
   "cell_type": "code",
   "execution_count": 72,
   "id": "bd994803",
   "metadata": {},
   "outputs": [],
   "source": [
    "s = s.cat.set_categories([\"one\", \"two\", \"three\", \"four\"])"
   ]
  },
  {
   "cell_type": "code",
   "execution_count": 73,
   "id": "ad2cf168",
   "metadata": {},
   "outputs": [
    {
     "data": {
      "text/plain": [
       "0     one\n",
       "1     two\n",
       "2    four\n",
       "3     NaN\n",
       "dtype: category\n",
       "Categories (4, object): ['one', 'two', 'three', 'four']"
      ]
     },
     "execution_count": 73,
     "metadata": {},
     "output_type": "execute_result"
    }
   ],
   "source": [
    "s"
   ]
  },
  {
   "cell_type": "markdown",
   "id": "0add1b31",
   "metadata": {},
   "source": [
    "## Clasificación y orden"
   ]
  },
  {
   "cell_type": "markdown",
   "id": "ae40d175",
   "metadata": {},
   "source": [
    "#### Si los datos categóricos están ordenados (s.cat.ordered == True), entonces el orden de las categorías tiene un significado y ciertas operaciones son posibles. Si el categórico no está ordenado, .min()/.max() generará un TypeError."
   ]
  },
  {
   "cell_type": "code",
   "execution_count": 74,
   "id": "f5339ddd",
   "metadata": {},
   "outputs": [],
   "source": [
    "s = pd.Series(pd.Categorical([\"a\", \"b\", \"c\", \"a\"], ordered=False))"
   ]
  },
  {
   "cell_type": "code",
   "execution_count": 75,
   "id": "631ed6ea",
   "metadata": {},
   "outputs": [],
   "source": [
    "s.sort_values(inplace=True)"
   ]
  },
  {
   "cell_type": "code",
   "execution_count": 76,
   "id": "3fe411d6",
   "metadata": {},
   "outputs": [],
   "source": [
    "s = pd.Series([\"a\", \"b\", \"c\", \"a\"]).astype(CategoricalDtype(ordered=True))"
   ]
  },
  {
   "cell_type": "code",
   "execution_count": 77,
   "id": "d4891e3e",
   "metadata": {},
   "outputs": [],
   "source": [
    "s.sort_values(inplace=True)"
   ]
  },
  {
   "cell_type": "code",
   "execution_count": 78,
   "id": "9f060507",
   "metadata": {},
   "outputs": [
    {
     "data": {
      "text/plain": [
       "0    a\n",
       "3    a\n",
       "1    b\n",
       "2    c\n",
       "dtype: category\n",
       "Categories (3, object): ['a' < 'b' < 'c']"
      ]
     },
     "execution_count": 78,
     "metadata": {},
     "output_type": "execute_result"
    }
   ],
   "source": [
    "s"
   ]
  },
  {
   "cell_type": "markdown",
   "id": "5b67f3e7",
   "metadata": {},
   "source": [
    "Puede configurar los datos categóricos para que **se ordenen usando as_ordered() o desordenados usando as_unordered()**. Estos devolverán por defecto un nuevo objeto."
   ]
  },
  {
   "cell_type": "code",
   "execution_count": 79,
   "id": "82fcbad2",
   "metadata": {},
   "outputs": [
    {
     "data": {
      "text/plain": [
       "0    a\n",
       "3    a\n",
       "1    b\n",
       "2    c\n",
       "dtype: category\n",
       "Categories (3, object): ['a' < 'b' < 'c']"
      ]
     },
     "execution_count": 79,
     "metadata": {},
     "output_type": "execute_result"
    }
   ],
   "source": [
    "s.cat.as_ordered()"
   ]
  },
  {
   "cell_type": "code",
   "execution_count": 80,
   "id": "8e3790a4",
   "metadata": {},
   "outputs": [
    {
     "data": {
      "text/plain": [
       "0    a\n",
       "3    a\n",
       "1    b\n",
       "2    c\n",
       "dtype: category\n",
       "Categories (3, object): ['a', 'b', 'c']"
      ]
     },
     "execution_count": 80,
     "metadata": {},
     "output_type": "execute_result"
    }
   ],
   "source": [
    "s.cat.as_unordered()"
   ]
  },
  {
   "cell_type": "code",
   "execution_count": 81,
   "id": "3b9b1fe4",
   "metadata": {},
   "outputs": [],
   "source": [
    "s = pd.Series([1, 2, 3, 1], dtype=\"category\")"
   ]
  },
  {
   "cell_type": "code",
   "execution_count": 82,
   "id": "c98a6fb5",
   "metadata": {},
   "outputs": [],
   "source": [
    "s = s.cat.set_categories([2, 3, 1], ordered=True)"
   ]
  },
  {
   "cell_type": "code",
   "execution_count": 83,
   "id": "e1a1c420",
   "metadata": {},
   "outputs": [
    {
     "data": {
      "text/plain": [
       "0    1\n",
       "1    2\n",
       "2    3\n",
       "3    1\n",
       "dtype: category\n",
       "Categories (3, int64): [2 < 3 < 1]"
      ]
     },
     "execution_count": 83,
     "metadata": {},
     "output_type": "execute_result"
    }
   ],
   "source": [
    "s"
   ]
  },
  {
   "cell_type": "code",
   "execution_count": 84,
   "id": "f2c5e722",
   "metadata": {},
   "outputs": [],
   "source": [
    "s.sort_values(inplace=True)"
   ]
  },
  {
   "cell_type": "code",
   "execution_count": 85,
   "id": "71048d8a",
   "metadata": {},
   "outputs": [
    {
     "data": {
      "text/plain": [
       "1    2\n",
       "2    3\n",
       "0    1\n",
       "3    1\n",
       "dtype: category\n",
       "Categories (3, int64): [2 < 3 < 1]"
      ]
     },
     "execution_count": 85,
     "metadata": {},
     "output_type": "execute_result"
    }
   ],
   "source": [
    "s"
   ]
  },
  {
   "cell_type": "markdown",
   "id": "0a37517a",
   "metadata": {},
   "source": [
    "### 1. Reordenar"
   ]
  },
  {
   "cell_type": "markdown",
   "id": "8ea9e605",
   "metadata": {},
   "source": [
    "Es posible **reordenar las categorías a través de los métodos Categorical.reorder_categories() y Categorical.set_categories()**. Para Categorical.reorder_categories(), todas las categorías antiguas deben incluirse en las categorías nuevas y no se permiten categorías nuevas. Esto necesariamente hará que el orden de clasificación sea el mismo que el orden de las categorías."
   ]
  },
  {
   "cell_type": "code",
   "execution_count": 86,
   "id": "8ee9c27b",
   "metadata": {},
   "outputs": [],
   "source": [
    "s = pd.Series([1, 2, 3, 1], dtype=\"category\")"
   ]
  },
  {
   "cell_type": "code",
   "execution_count": 87,
   "id": "4520f341",
   "metadata": {},
   "outputs": [],
   "source": [
    "s = s.cat.reorder_categories([2, 3, 1], ordered=True)"
   ]
  },
  {
   "cell_type": "code",
   "execution_count": 88,
   "id": "dddfceca",
   "metadata": {},
   "outputs": [
    {
     "data": {
      "text/plain": [
       "0    1\n",
       "1    2\n",
       "2    3\n",
       "3    1\n",
       "dtype: category\n",
       "Categories (3, int64): [2 < 3 < 1]"
      ]
     },
     "execution_count": 88,
     "metadata": {},
     "output_type": "execute_result"
    }
   ],
   "source": [
    "s"
   ]
  },
  {
   "cell_type": "code",
   "execution_count": 89,
   "id": "16d01ace",
   "metadata": {},
   "outputs": [],
   "source": [
    "s.sort_values(inplace=True)"
   ]
  },
  {
   "cell_type": "code",
   "execution_count": 90,
   "id": "1ea47657",
   "metadata": {},
   "outputs": [
    {
     "data": {
      "text/plain": [
       "1    2\n",
       "2    3\n",
       "0    1\n",
       "3    1\n",
       "dtype: category\n",
       "Categories (3, int64): [2 < 3 < 1]"
      ]
     },
     "execution_count": 90,
     "metadata": {},
     "output_type": "execute_result"
    }
   ],
   "source": [
    "s"
   ]
  },
  {
   "cell_type": "markdown",
   "id": "01fac22e",
   "metadata": {},
   "source": [
    "### 2. Clasificación de varias columnas "
   ]
  },
  {
   "cell_type": "markdown",
   "id": "fcc04ade",
   "metadata": {},
   "source": [
    "Una columna categórica con dtype participará en una ordenación de varias columnas de manera similar a otras columnas. El orden de los categóricos está determinado por las categorías de esa columna."
   ]
  },
  {
   "cell_type": "code",
   "execution_count": 91,
   "id": "4b9e0877",
   "metadata": {},
   "outputs": [],
   "source": [
    "dfs = pd.DataFrame(\n",
    "    {\n",
    "        \"A\": pd.Categorical(\n",
    "            list(\"bbeebbaa\"),\n",
    "            categories=[\"e\", \"a\", \"b\"],\n",
    "            ordered=True,\n",
    "        ),\n",
    "        \"B\": [1, 2, 1, 2, 2, 1, 2, 1],\n",
    "    }\n",
    ")"
   ]
  },
  {
   "cell_type": "code",
   "execution_count": 92,
   "id": "2c0472ca",
   "metadata": {},
   "outputs": [
    {
     "data": {
      "text/html": [
       "<div>\n",
       "<style scoped>\n",
       "    .dataframe tbody tr th:only-of-type {\n",
       "        vertical-align: middle;\n",
       "    }\n",
       "\n",
       "    .dataframe tbody tr th {\n",
       "        vertical-align: top;\n",
       "    }\n",
       "\n",
       "    .dataframe thead th {\n",
       "        text-align: right;\n",
       "    }\n",
       "</style>\n",
       "<table border=\"1\" class=\"dataframe\">\n",
       "  <thead>\n",
       "    <tr style=\"text-align: right;\">\n",
       "      <th></th>\n",
       "      <th>A</th>\n",
       "      <th>B</th>\n",
       "    </tr>\n",
       "  </thead>\n",
       "  <tbody>\n",
       "    <tr>\n",
       "      <th>0</th>\n",
       "      <td>b</td>\n",
       "      <td>1</td>\n",
       "    </tr>\n",
       "    <tr>\n",
       "      <th>1</th>\n",
       "      <td>b</td>\n",
       "      <td>2</td>\n",
       "    </tr>\n",
       "    <tr>\n",
       "      <th>2</th>\n",
       "      <td>e</td>\n",
       "      <td>1</td>\n",
       "    </tr>\n",
       "    <tr>\n",
       "      <th>3</th>\n",
       "      <td>e</td>\n",
       "      <td>2</td>\n",
       "    </tr>\n",
       "    <tr>\n",
       "      <th>4</th>\n",
       "      <td>b</td>\n",
       "      <td>2</td>\n",
       "    </tr>\n",
       "    <tr>\n",
       "      <th>5</th>\n",
       "      <td>b</td>\n",
       "      <td>1</td>\n",
       "    </tr>\n",
       "    <tr>\n",
       "      <th>6</th>\n",
       "      <td>a</td>\n",
       "      <td>2</td>\n",
       "    </tr>\n",
       "    <tr>\n",
       "      <th>7</th>\n",
       "      <td>a</td>\n",
       "      <td>1</td>\n",
       "    </tr>\n",
       "  </tbody>\n",
       "</table>\n",
       "</div>"
      ],
      "text/plain": [
       "   A  B\n",
       "0  b  1\n",
       "1  b  2\n",
       "2  e  1\n",
       "3  e  2\n",
       "4  b  2\n",
       "5  b  1\n",
       "6  a  2\n",
       "7  a  1"
      ]
     },
     "execution_count": 92,
     "metadata": {},
     "output_type": "execute_result"
    }
   ],
   "source": [
    "dfs"
   ]
  },
  {
   "cell_type": "code",
   "execution_count": 93,
   "id": "2c786e6d",
   "metadata": {},
   "outputs": [
    {
     "data": {
      "text/html": [
       "<div>\n",
       "<style scoped>\n",
       "    .dataframe tbody tr th:only-of-type {\n",
       "        vertical-align: middle;\n",
       "    }\n",
       "\n",
       "    .dataframe tbody tr th {\n",
       "        vertical-align: top;\n",
       "    }\n",
       "\n",
       "    .dataframe thead th {\n",
       "        text-align: right;\n",
       "    }\n",
       "</style>\n",
       "<table border=\"1\" class=\"dataframe\">\n",
       "  <thead>\n",
       "    <tr style=\"text-align: right;\">\n",
       "      <th></th>\n",
       "      <th>A</th>\n",
       "      <th>B</th>\n",
       "    </tr>\n",
       "  </thead>\n",
       "  <tbody>\n",
       "    <tr>\n",
       "      <th>2</th>\n",
       "      <td>e</td>\n",
       "      <td>1</td>\n",
       "    </tr>\n",
       "    <tr>\n",
       "      <th>3</th>\n",
       "      <td>e</td>\n",
       "      <td>2</td>\n",
       "    </tr>\n",
       "    <tr>\n",
       "      <th>7</th>\n",
       "      <td>a</td>\n",
       "      <td>1</td>\n",
       "    </tr>\n",
       "    <tr>\n",
       "      <th>6</th>\n",
       "      <td>a</td>\n",
       "      <td>2</td>\n",
       "    </tr>\n",
       "    <tr>\n",
       "      <th>0</th>\n",
       "      <td>b</td>\n",
       "      <td>1</td>\n",
       "    </tr>\n",
       "    <tr>\n",
       "      <th>5</th>\n",
       "      <td>b</td>\n",
       "      <td>1</td>\n",
       "    </tr>\n",
       "    <tr>\n",
       "      <th>1</th>\n",
       "      <td>b</td>\n",
       "      <td>2</td>\n",
       "    </tr>\n",
       "    <tr>\n",
       "      <th>4</th>\n",
       "      <td>b</td>\n",
       "      <td>2</td>\n",
       "    </tr>\n",
       "  </tbody>\n",
       "</table>\n",
       "</div>"
      ],
      "text/plain": [
       "   A  B\n",
       "2  e  1\n",
       "3  e  2\n",
       "7  a  1\n",
       "6  a  2\n",
       "0  b  1\n",
       "5  b  1\n",
       "1  b  2\n",
       "4  b  2"
      ]
     },
     "execution_count": 93,
     "metadata": {},
     "output_type": "execute_result"
    }
   ],
   "source": [
    "dfs.sort_values(by=[\"A\", \"B\"])"
   ]
  },
  {
   "cell_type": "code",
   "execution_count": 94,
   "id": "14edf6e6",
   "metadata": {},
   "outputs": [],
   "source": [
    "# Ahora vamos a reordenar las categorías\n",
    "dfs[\"A\"] = dfs[\"A\"].cat.reorder_categories([\"a\", \"b\", \"e\"])"
   ]
  },
  {
   "cell_type": "code",
   "execution_count": 95,
   "id": "2aea1f96",
   "metadata": {},
   "outputs": [
    {
     "data": {
      "text/html": [
       "<div>\n",
       "<style scoped>\n",
       "    .dataframe tbody tr th:only-of-type {\n",
       "        vertical-align: middle;\n",
       "    }\n",
       "\n",
       "    .dataframe tbody tr th {\n",
       "        vertical-align: top;\n",
       "    }\n",
       "\n",
       "    .dataframe thead th {\n",
       "        text-align: right;\n",
       "    }\n",
       "</style>\n",
       "<table border=\"1\" class=\"dataframe\">\n",
       "  <thead>\n",
       "    <tr style=\"text-align: right;\">\n",
       "      <th></th>\n",
       "      <th>A</th>\n",
       "      <th>B</th>\n",
       "    </tr>\n",
       "  </thead>\n",
       "  <tbody>\n",
       "    <tr>\n",
       "      <th>7</th>\n",
       "      <td>a</td>\n",
       "      <td>1</td>\n",
       "    </tr>\n",
       "    <tr>\n",
       "      <th>6</th>\n",
       "      <td>a</td>\n",
       "      <td>2</td>\n",
       "    </tr>\n",
       "    <tr>\n",
       "      <th>0</th>\n",
       "      <td>b</td>\n",
       "      <td>1</td>\n",
       "    </tr>\n",
       "    <tr>\n",
       "      <th>5</th>\n",
       "      <td>b</td>\n",
       "      <td>1</td>\n",
       "    </tr>\n",
       "    <tr>\n",
       "      <th>1</th>\n",
       "      <td>b</td>\n",
       "      <td>2</td>\n",
       "    </tr>\n",
       "    <tr>\n",
       "      <th>4</th>\n",
       "      <td>b</td>\n",
       "      <td>2</td>\n",
       "    </tr>\n",
       "    <tr>\n",
       "      <th>2</th>\n",
       "      <td>e</td>\n",
       "      <td>1</td>\n",
       "    </tr>\n",
       "    <tr>\n",
       "      <th>3</th>\n",
       "      <td>e</td>\n",
       "      <td>2</td>\n",
       "    </tr>\n",
       "  </tbody>\n",
       "</table>\n",
       "</div>"
      ],
      "text/plain": [
       "   A  B\n",
       "7  a  1\n",
       "6  a  2\n",
       "0  b  1\n",
       "5  b  1\n",
       "1  b  2\n",
       "4  b  2\n",
       "2  e  1\n",
       "3  e  2"
      ]
     },
     "execution_count": 95,
     "metadata": {},
     "output_type": "execute_result"
    }
   ],
   "source": [
    "dfs.sort_values(by=[\"A\", \"B\"])"
   ]
  },
  {
   "cell_type": "markdown",
   "id": "c0005504",
   "metadata": {},
   "source": [
    "## Operaciones "
   ]
  },
  {
   "cell_type": "markdown",
   "id": "c138875e",
   "metadata": {},
   "source": [
    "#### Aparte de Series.min(), Series.max() y Series.mode(), las siguientes operaciones son posibles con datos categóricos: Los métodos de serie como Series.value_counts() usarán todas las categorías, incluso si algunas categorías no están presentes en los datos"
   ]
  },
  {
   "cell_type": "code",
   "execution_count": 96,
   "id": "cbbd14ad",
   "metadata": {},
   "outputs": [],
   "source": [
    "s = pd.Series(pd.Categorical([\"a\", \"b\", \"c\", \"c\"], categories=[\"c\", \"a\", \"b\", \"d\"]))"
   ]
  },
  {
   "cell_type": "code",
   "execution_count": 97,
   "id": "ed2c36aa",
   "metadata": {},
   "outputs": [
    {
     "data": {
      "text/plain": [
       "c    2\n",
       "a    1\n",
       "b    1\n",
       "d    0\n",
       "dtype: int64"
      ]
     },
     "execution_count": 97,
     "metadata": {},
     "output_type": "execute_result"
    }
   ],
   "source": [
    "s.value_counts()"
   ]
  },
  {
   "cell_type": "code",
   "execution_count": 98,
   "id": "a7583ebc",
   "metadata": {},
   "outputs": [],
   "source": [
    "columns = pd.Categorical(\n",
    "    [\"One\", \"One\", \"Two\"], categories=[\"One\", \"Two\", \"Three\"], ordered=True\n",
    ")"
   ]
  },
  {
   "cell_type": "code",
   "execution_count": 99,
   "id": "4c91def9",
   "metadata": {},
   "outputs": [],
   "source": [
    "df = pd.DataFrame(\n",
    "    data=[[1, 2, 3], [4, 5, 6]],\n",
    "    columns=pd.MultiIndex.from_arrays([[\"A\", \"B\", \"B\"], columns]),\n",
    ")"
   ]
  },
  {
   "cell_type": "code",
   "execution_count": 100,
   "id": "eb84067e",
   "metadata": {},
   "outputs": [
    {
     "data": {
      "text/html": [
       "<div>\n",
       "<style scoped>\n",
       "    .dataframe tbody tr th:only-of-type {\n",
       "        vertical-align: middle;\n",
       "    }\n",
       "\n",
       "    .dataframe tbody tr th {\n",
       "        vertical-align: top;\n",
       "    }\n",
       "\n",
       "    .dataframe thead th {\n",
       "        text-align: right;\n",
       "    }\n",
       "</style>\n",
       "<table border=\"1\" class=\"dataframe\">\n",
       "  <thead>\n",
       "    <tr style=\"text-align: right;\">\n",
       "      <th></th>\n",
       "      <th>One</th>\n",
       "      <th>Two</th>\n",
       "      <th>Three</th>\n",
       "    </tr>\n",
       "  </thead>\n",
       "  <tbody>\n",
       "    <tr>\n",
       "      <th>0</th>\n",
       "      <td>3</td>\n",
       "      <td>3</td>\n",
       "      <td>0</td>\n",
       "    </tr>\n",
       "    <tr>\n",
       "      <th>1</th>\n",
       "      <td>9</td>\n",
       "      <td>6</td>\n",
       "      <td>0</td>\n",
       "    </tr>\n",
       "  </tbody>\n",
       "</table>\n",
       "</div>"
      ],
      "text/plain": [
       "   One  Two  Three\n",
       "0    3    3      0\n",
       "1    9    6      0"
      ]
     },
     "execution_count": 100,
     "metadata": {},
     "output_type": "execute_result"
    }
   ],
   "source": [
    "df.groupby(axis=1, level=1).sum()"
   ]
  },
  {
   "cell_type": "code",
   "execution_count": 101,
   "id": "362ba66c",
   "metadata": {},
   "outputs": [],
   "source": [
    "# Group by\n",
    "cats = pd.Categorical(\n",
    "    [\"a\", \"b\", \"b\", \"b\", \"c\", \"c\", \"c\"], categories=[\"a\", \"b\", \"c\", \"d\"]\n",
    ")"
   ]
  },
  {
   "cell_type": "code",
   "execution_count": 102,
   "id": "87e43ef7",
   "metadata": {},
   "outputs": [],
   "source": [
    "df = pd.DataFrame({\"cats\": cats, \"values\": [1, 2, 2, 2, 3, 4, 5]})"
   ]
  },
  {
   "cell_type": "code",
   "execution_count": 103,
   "id": "9128a205",
   "metadata": {},
   "outputs": [
    {
     "data": {
      "text/html": [
       "<div>\n",
       "<style scoped>\n",
       "    .dataframe tbody tr th:only-of-type {\n",
       "        vertical-align: middle;\n",
       "    }\n",
       "\n",
       "    .dataframe tbody tr th {\n",
       "        vertical-align: top;\n",
       "    }\n",
       "\n",
       "    .dataframe thead th {\n",
       "        text-align: right;\n",
       "    }\n",
       "</style>\n",
       "<table border=\"1\" class=\"dataframe\">\n",
       "  <thead>\n",
       "    <tr style=\"text-align: right;\">\n",
       "      <th></th>\n",
       "      <th>values</th>\n",
       "    </tr>\n",
       "    <tr>\n",
       "      <th>cats</th>\n",
       "      <th></th>\n",
       "    </tr>\n",
       "  </thead>\n",
       "  <tbody>\n",
       "    <tr>\n",
       "      <th>a</th>\n",
       "      <td>1.0</td>\n",
       "    </tr>\n",
       "    <tr>\n",
       "      <th>b</th>\n",
       "      <td>2.0</td>\n",
       "    </tr>\n",
       "    <tr>\n",
       "      <th>c</th>\n",
       "      <td>4.0</td>\n",
       "    </tr>\n",
       "    <tr>\n",
       "      <th>d</th>\n",
       "      <td>NaN</td>\n",
       "    </tr>\n",
       "  </tbody>\n",
       "</table>\n",
       "</div>"
      ],
      "text/plain": [
       "      values\n",
       "cats        \n",
       "a        1.0\n",
       "b        2.0\n",
       "c        4.0\n",
       "d        NaN"
      ]
     },
     "execution_count": 103,
     "metadata": {},
     "output_type": "execute_result"
    }
   ],
   "source": [
    "df.groupby(\"cats\").mean()"
   ]
  },
  {
   "cell_type": "code",
   "execution_count": 104,
   "id": "752dc077",
   "metadata": {},
   "outputs": [],
   "source": [
    "cats2 = pd.Categorical([\"a\", \"a\", \"b\", \"b\"], categories=[\"a\", \"b\", \"c\"])"
   ]
  },
  {
   "cell_type": "code",
   "execution_count": 105,
   "id": "724cd6e0",
   "metadata": {},
   "outputs": [],
   "source": [
    "df2 = pd.DataFrame(\n",
    "    {\n",
    "        \"cats\": cats2,\n",
    "        \"B\": [\"c\", \"d\", \"c\", \"d\"],\n",
    "        \"values\": [1, 2, 3, 4],\n",
    "    })"
   ]
  },
  {
   "cell_type": "code",
   "execution_count": 106,
   "id": "067c488b",
   "metadata": {},
   "outputs": [
    {
     "data": {
      "text/html": [
       "<div>\n",
       "<style scoped>\n",
       "    .dataframe tbody tr th:only-of-type {\n",
       "        vertical-align: middle;\n",
       "    }\n",
       "\n",
       "    .dataframe tbody tr th {\n",
       "        vertical-align: top;\n",
       "    }\n",
       "\n",
       "    .dataframe thead th {\n",
       "        text-align: right;\n",
       "    }\n",
       "</style>\n",
       "<table border=\"1\" class=\"dataframe\">\n",
       "  <thead>\n",
       "    <tr style=\"text-align: right;\">\n",
       "      <th></th>\n",
       "      <th></th>\n",
       "      <th>values</th>\n",
       "    </tr>\n",
       "    <tr>\n",
       "      <th>cats</th>\n",
       "      <th>B</th>\n",
       "      <th></th>\n",
       "    </tr>\n",
       "  </thead>\n",
       "  <tbody>\n",
       "    <tr>\n",
       "      <th rowspan=\"2\" valign=\"top\">a</th>\n",
       "      <th>c</th>\n",
       "      <td>1.0</td>\n",
       "    </tr>\n",
       "    <tr>\n",
       "      <th>d</th>\n",
       "      <td>2.0</td>\n",
       "    </tr>\n",
       "    <tr>\n",
       "      <th rowspan=\"2\" valign=\"top\">b</th>\n",
       "      <th>c</th>\n",
       "      <td>3.0</td>\n",
       "    </tr>\n",
       "    <tr>\n",
       "      <th>d</th>\n",
       "      <td>4.0</td>\n",
       "    </tr>\n",
       "    <tr>\n",
       "      <th rowspan=\"2\" valign=\"top\">c</th>\n",
       "      <th>c</th>\n",
       "      <td>NaN</td>\n",
       "    </tr>\n",
       "    <tr>\n",
       "      <th>d</th>\n",
       "      <td>NaN</td>\n",
       "    </tr>\n",
       "  </tbody>\n",
       "</table>\n",
       "</div>"
      ],
      "text/plain": [
       "        values\n",
       "cats B        \n",
       "a    c     1.0\n",
       "     d     2.0\n",
       "b    c     3.0\n",
       "     d     4.0\n",
       "c    c     NaN\n",
       "     d     NaN"
      ]
     },
     "execution_count": 106,
     "metadata": {},
     "output_type": "execute_result"
    }
   ],
   "source": [
    "df2.groupby([\"cats\", \"B\"]).mean()"
   ]
  },
  {
   "cell_type": "code",
   "execution_count": 107,
   "id": "15788c1f",
   "metadata": {},
   "outputs": [],
   "source": [
    "# Pivot tables\n",
    "raw_cat = pd.Categorical([\"a\", \"a\", \"b\", \"b\"], categories=[\"a\", \"b\", \"c\"])"
   ]
  },
  {
   "cell_type": "code",
   "execution_count": 108,
   "id": "5b8f8993",
   "metadata": {},
   "outputs": [],
   "source": [
    "df = pd.DataFrame({\"A\": raw_cat, \"B\": [\"c\", \"d\", \"c\", \"d\"], \"values\": [1, 2, 3, 4]})"
   ]
  },
  {
   "cell_type": "code",
   "execution_count": 109,
   "id": "50d25630",
   "metadata": {},
   "outputs": [
    {
     "data": {
      "text/html": [
       "<div>\n",
       "<style scoped>\n",
       "    .dataframe tbody tr th:only-of-type {\n",
       "        vertical-align: middle;\n",
       "    }\n",
       "\n",
       "    .dataframe tbody tr th {\n",
       "        vertical-align: top;\n",
       "    }\n",
       "\n",
       "    .dataframe thead th {\n",
       "        text-align: right;\n",
       "    }\n",
       "</style>\n",
       "<table border=\"1\" class=\"dataframe\">\n",
       "  <thead>\n",
       "    <tr style=\"text-align: right;\">\n",
       "      <th></th>\n",
       "      <th></th>\n",
       "      <th>values</th>\n",
       "    </tr>\n",
       "    <tr>\n",
       "      <th>A</th>\n",
       "      <th>B</th>\n",
       "      <th></th>\n",
       "    </tr>\n",
       "  </thead>\n",
       "  <tbody>\n",
       "    <tr>\n",
       "      <th rowspan=\"2\" valign=\"top\">a</th>\n",
       "      <th>c</th>\n",
       "      <td>1</td>\n",
       "    </tr>\n",
       "    <tr>\n",
       "      <th>d</th>\n",
       "      <td>2</td>\n",
       "    </tr>\n",
       "    <tr>\n",
       "      <th rowspan=\"2\" valign=\"top\">b</th>\n",
       "      <th>c</th>\n",
       "      <td>3</td>\n",
       "    </tr>\n",
       "    <tr>\n",
       "      <th>d</th>\n",
       "      <td>4</td>\n",
       "    </tr>\n",
       "  </tbody>\n",
       "</table>\n",
       "</div>"
      ],
      "text/plain": [
       "     values\n",
       "A B        \n",
       "a c       1\n",
       "  d       2\n",
       "b c       3\n",
       "  d       4"
      ]
     },
     "execution_count": 109,
     "metadata": {},
     "output_type": "execute_result"
    }
   ],
   "source": [
    "pd.pivot_table(df, values=\"values\", index=[\"A\", \"B\"])"
   ]
  },
  {
   "cell_type": "markdown",
   "id": "16b8ba17",
   "metadata": {},
   "source": [
    "## Transmisión de datos"
   ]
  },
  {
   "cell_type": "markdown",
   "id": "dc40b40f",
   "metadata": {},
   "source": [
    "#### Los métodos de acceso a datos de pandas optimizados .loc, .iloc, .at y .iat funcionan con normalidad. La única diferencia es el tipo de devolución (para obtener) y que solo se pueden asignar valores que ya están en categorías."
   ]
  },
  {
   "cell_type": "markdown",
   "id": "32ccde37",
   "metadata": {},
   "source": [
    "### 1. Getting"
   ]
  },
  {
   "cell_type": "code",
   "execution_count": 110,
   "id": "d1daaecd",
   "metadata": {},
   "outputs": [],
   "source": [
    "# Slicing\n",
    "idx = pd.Index([\"h\", \"i\", \"j\", \"k\", \"l\", \"m\", \"n\"])"
   ]
  },
  {
   "cell_type": "code",
   "execution_count": 111,
   "id": "84dbe9d0",
   "metadata": {},
   "outputs": [],
   "source": [
    "cats = pd.Series([\"a\", \"b\", \"b\", \"b\", \"c\", \"c\", \"c\"], dtype=\"category\", index=idx)"
   ]
  },
  {
   "cell_type": "code",
   "execution_count": 112,
   "id": "deec029a",
   "metadata": {},
   "outputs": [],
   "source": [
    "values = [1, 2, 2, 2, 3, 4, 5]"
   ]
  },
  {
   "cell_type": "code",
   "execution_count": 113,
   "id": "4f3b535b",
   "metadata": {},
   "outputs": [],
   "source": [
    "df = pd.DataFrame({\"cats\": cats, \"values\": values}, index=idx)"
   ]
  },
  {
   "cell_type": "code",
   "execution_count": 114,
   "id": "a2b50c5d",
   "metadata": {},
   "outputs": [
    {
     "data": {
      "text/html": [
       "<div>\n",
       "<style scoped>\n",
       "    .dataframe tbody tr th:only-of-type {\n",
       "        vertical-align: middle;\n",
       "    }\n",
       "\n",
       "    .dataframe tbody tr th {\n",
       "        vertical-align: top;\n",
       "    }\n",
       "\n",
       "    .dataframe thead th {\n",
       "        text-align: right;\n",
       "    }\n",
       "</style>\n",
       "<table border=\"1\" class=\"dataframe\">\n",
       "  <thead>\n",
       "    <tr style=\"text-align: right;\">\n",
       "      <th></th>\n",
       "      <th>cats</th>\n",
       "      <th>values</th>\n",
       "    </tr>\n",
       "  </thead>\n",
       "  <tbody>\n",
       "    <tr>\n",
       "      <th>h</th>\n",
       "      <td>a</td>\n",
       "      <td>1</td>\n",
       "    </tr>\n",
       "    <tr>\n",
       "      <th>i</th>\n",
       "      <td>b</td>\n",
       "      <td>2</td>\n",
       "    </tr>\n",
       "    <tr>\n",
       "      <th>j</th>\n",
       "      <td>b</td>\n",
       "      <td>2</td>\n",
       "    </tr>\n",
       "    <tr>\n",
       "      <th>k</th>\n",
       "      <td>b</td>\n",
       "      <td>2</td>\n",
       "    </tr>\n",
       "    <tr>\n",
       "      <th>l</th>\n",
       "      <td>c</td>\n",
       "      <td>3</td>\n",
       "    </tr>\n",
       "    <tr>\n",
       "      <th>m</th>\n",
       "      <td>c</td>\n",
       "      <td>4</td>\n",
       "    </tr>\n",
       "    <tr>\n",
       "      <th>n</th>\n",
       "      <td>c</td>\n",
       "      <td>5</td>\n",
       "    </tr>\n",
       "  </tbody>\n",
       "</table>\n",
       "</div>"
      ],
      "text/plain": [
       "  cats  values\n",
       "h    a       1\n",
       "i    b       2\n",
       "j    b       2\n",
       "k    b       2\n",
       "l    c       3\n",
       "m    c       4\n",
       "n    c       5"
      ]
     },
     "execution_count": 114,
     "metadata": {},
     "output_type": "execute_result"
    }
   ],
   "source": [
    "df"
   ]
  },
  {
   "cell_type": "code",
   "execution_count": 115,
   "id": "01ae357c",
   "metadata": {},
   "outputs": [
    {
     "data": {
      "text/html": [
       "<div>\n",
       "<style scoped>\n",
       "    .dataframe tbody tr th:only-of-type {\n",
       "        vertical-align: middle;\n",
       "    }\n",
       "\n",
       "    .dataframe tbody tr th {\n",
       "        vertical-align: top;\n",
       "    }\n",
       "\n",
       "    .dataframe thead th {\n",
       "        text-align: right;\n",
       "    }\n",
       "</style>\n",
       "<table border=\"1\" class=\"dataframe\">\n",
       "  <thead>\n",
       "    <tr style=\"text-align: right;\">\n",
       "      <th></th>\n",
       "      <th>cats</th>\n",
       "      <th>values</th>\n",
       "    </tr>\n",
       "  </thead>\n",
       "  <tbody>\n",
       "    <tr>\n",
       "      <th>j</th>\n",
       "      <td>b</td>\n",
       "      <td>2</td>\n",
       "    </tr>\n",
       "    <tr>\n",
       "      <th>k</th>\n",
       "      <td>b</td>\n",
       "      <td>2</td>\n",
       "    </tr>\n",
       "  </tbody>\n",
       "</table>\n",
       "</div>"
      ],
      "text/plain": [
       "  cats  values\n",
       "j    b       2\n",
       "k    b       2"
      ]
     },
     "execution_count": 115,
     "metadata": {},
     "output_type": "execute_result"
    }
   ],
   "source": [
    "df.iloc[2:4, :]"
   ]
  },
  {
   "cell_type": "code",
   "execution_count": 116,
   "id": "6c52089f",
   "metadata": {},
   "outputs": [
    {
     "data": {
      "text/plain": [
       "cats      category\n",
       "values       int64\n",
       "dtype: object"
      ]
     },
     "execution_count": 116,
     "metadata": {},
     "output_type": "execute_result"
    }
   ],
   "source": [
    "df.iloc[2:4, :].dtypes"
   ]
  },
  {
   "cell_type": "code",
   "execution_count": 117,
   "id": "afafdcd2",
   "metadata": {},
   "outputs": [
    {
     "data": {
      "text/plain": [
       "h    a\n",
       "i    b\n",
       "j    b\n",
       "Name: cats, dtype: category\n",
       "Categories (3, object): ['a', 'b', 'c']"
      ]
     },
     "execution_count": 117,
     "metadata": {},
     "output_type": "execute_result"
    }
   ],
   "source": [
    "df.loc[\"h\":\"j\", \"cats\"]"
   ]
  },
  {
   "cell_type": "code",
   "execution_count": 118,
   "id": "b42de8d8",
   "metadata": {},
   "outputs": [
    {
     "data": {
      "text/html": [
       "<div>\n",
       "<style scoped>\n",
       "    .dataframe tbody tr th:only-of-type {\n",
       "        vertical-align: middle;\n",
       "    }\n",
       "\n",
       "    .dataframe tbody tr th {\n",
       "        vertical-align: top;\n",
       "    }\n",
       "\n",
       "    .dataframe thead th {\n",
       "        text-align: right;\n",
       "    }\n",
       "</style>\n",
       "<table border=\"1\" class=\"dataframe\">\n",
       "  <thead>\n",
       "    <tr style=\"text-align: right;\">\n",
       "      <th></th>\n",
       "      <th>cats</th>\n",
       "      <th>values</th>\n",
       "    </tr>\n",
       "  </thead>\n",
       "  <tbody>\n",
       "    <tr>\n",
       "      <th>i</th>\n",
       "      <td>b</td>\n",
       "      <td>2</td>\n",
       "    </tr>\n",
       "    <tr>\n",
       "      <th>j</th>\n",
       "      <td>b</td>\n",
       "      <td>2</td>\n",
       "    </tr>\n",
       "    <tr>\n",
       "      <th>k</th>\n",
       "      <td>b</td>\n",
       "      <td>2</td>\n",
       "    </tr>\n",
       "  </tbody>\n",
       "</table>\n",
       "</div>"
      ],
      "text/plain": [
       "  cats  values\n",
       "i    b       2\n",
       "j    b       2\n",
       "k    b       2"
      ]
     },
     "execution_count": 118,
     "metadata": {},
     "output_type": "execute_result"
    }
   ],
   "source": [
    "df[df[\"cats\"] == \"b\"]"
   ]
  },
  {
   "cell_type": "code",
   "execution_count": 119,
   "id": "cf7ede7a",
   "metadata": {},
   "outputs": [
    {
     "data": {
      "text/plain": [
       "cats      a\n",
       "values    1\n",
       "Name: h, dtype: object"
      ]
     },
     "execution_count": 119,
     "metadata": {},
     "output_type": "execute_result"
    }
   ],
   "source": [
    "# obtener la fila \"h\" completa como una serie\n",
    "df.loc[\"h\", :]"
   ]
  },
  {
   "cell_type": "code",
   "execution_count": 120,
   "id": "48537d03",
   "metadata": {},
   "outputs": [
    {
     "data": {
      "text/plain": [
       "'a'"
      ]
     },
     "execution_count": 120,
     "metadata": {},
     "output_type": "execute_result"
    }
   ],
   "source": [
    "df.iat[0, 0]"
   ]
  },
  {
   "cell_type": "code",
   "execution_count": 121,
   "id": "f38751bc",
   "metadata": {},
   "outputs": [],
   "source": [
    "df[\"cats\"] = df[\"cats\"].cat.rename_categories([\"x\", \"y\", \"z\"])"
   ]
  },
  {
   "cell_type": "code",
   "execution_count": 122,
   "id": "140ca6bd",
   "metadata": {},
   "outputs": [
    {
     "data": {
      "text/plain": [
       "'x'"
      ]
     },
     "execution_count": 122,
     "metadata": {},
     "output_type": "execute_result"
    }
   ],
   "source": [
    "df.at[\"h\", \"cats\"]"
   ]
  },
  {
   "cell_type": "code",
   "execution_count": 123,
   "id": "e140558d",
   "metadata": {},
   "outputs": [
    {
     "data": {
      "text/plain": [
       "h    x\n",
       "Name: cats, dtype: category\n",
       "Categories (3, object): ['x', 'y', 'z']"
      ]
     },
     "execution_count": 123,
     "metadata": {},
     "output_type": "execute_result"
    }
   ],
   "source": [
    "df.loc[[\"h\"], \"cats\"]"
   ]
  },
  {
   "cell_type": "markdown",
   "id": "b74c66e5",
   "metadata": {},
   "source": [
    "### 2. Accesores de cadena y fecha y hora"
   ]
  },
  {
   "cell_type": "markdown",
   "id": "e5fbf663",
   "metadata": {},
   "source": [
    "#### Los accesores .dt y .str funcionarán si las categorías s.cat.son de un tipo apropiado"
   ]
  },
  {
   "cell_type": "code",
   "execution_count": 124,
   "id": "e13a849b",
   "metadata": {},
   "outputs": [],
   "source": [
    "str_s = pd.Series(list(\"aabb\"))"
   ]
  },
  {
   "cell_type": "code",
   "execution_count": 125,
   "id": "2b0646fe",
   "metadata": {},
   "outputs": [],
   "source": [
    "str_cat = str_s.astype(\"category\")"
   ]
  },
  {
   "cell_type": "code",
   "execution_count": 126,
   "id": "ff3e34f3",
   "metadata": {},
   "outputs": [
    {
     "data": {
      "text/plain": [
       "0    a\n",
       "1    a\n",
       "2    b\n",
       "3    b\n",
       "dtype: category\n",
       "Categories (2, object): ['a', 'b']"
      ]
     },
     "execution_count": 126,
     "metadata": {},
     "output_type": "execute_result"
    }
   ],
   "source": [
    "str_cat"
   ]
  },
  {
   "cell_type": "code",
   "execution_count": 127,
   "id": "c2086b7c",
   "metadata": {},
   "outputs": [],
   "source": [
    "filt = str_cat.str.contains(\"a\")"
   ]
  },
  {
   "cell_type": "code",
   "execution_count": 128,
   "id": "a21013a4",
   "metadata": {},
   "outputs": [
    {
     "data": {
      "text/plain": [
       "0    a\n",
       "1    a\n",
       "dtype: category\n",
       "Categories (2, object): ['a', 'b']"
      ]
     },
     "execution_count": 128,
     "metadata": {},
     "output_type": "execute_result"
    }
   ],
   "source": [
    "str_cat[filt]"
   ]
  },
  {
   "cell_type": "code",
   "execution_count": 129,
   "id": "e63dbb1c",
   "metadata": {},
   "outputs": [],
   "source": [
    "# Para Series de fecha\n",
    "date_s = pd.Series(pd.date_range(\"1/1/2015\", periods=5))"
   ]
  },
  {
   "cell_type": "code",
   "execution_count": 130,
   "id": "7ca80772",
   "metadata": {},
   "outputs": [],
   "source": [
    "date_cat = date_s.astype(\"category\")"
   ]
  },
  {
   "cell_type": "code",
   "execution_count": 131,
   "id": "26734b65",
   "metadata": {},
   "outputs": [
    {
     "data": {
      "text/plain": [
       "0   2015-01-01\n",
       "1   2015-01-02\n",
       "2   2015-01-03\n",
       "3   2015-01-04\n",
       "4   2015-01-05\n",
       "dtype: category\n",
       "Categories (5, datetime64[ns]): [2015-01-01, 2015-01-02, 2015-01-03, 2015-01-04, 2015-01-05]"
      ]
     },
     "execution_count": 131,
     "metadata": {},
     "output_type": "execute_result"
    }
   ],
   "source": [
    "date_cat"
   ]
  },
  {
   "cell_type": "code",
   "execution_count": 132,
   "id": "d9761584",
   "metadata": {},
   "outputs": [
    {
     "data": {
      "text/plain": [
       "0    1\n",
       "1    2\n",
       "2    3\n",
       "3    4\n",
       "4    5\n",
       "dtype: int64"
      ]
     },
     "execution_count": 132,
     "metadata": {},
     "output_type": "execute_result"
    }
   ],
   "source": [
    "date_cat.dt.day"
   ]
  },
  {
   "cell_type": "markdown",
   "id": "7c04fb19",
   "metadata": {},
   "source": [
    "### 3. Setting (Establecer valores)"
   ]
  },
  {
   "cell_type": "markdown",
   "id": "5d41b6bf",
   "metadata": {},
   "source": [
    "#### Establecer valores en una columna categórica (o serie) funciona siempre que el valor esté incluido en las categorías"
   ]
  },
  {
   "cell_type": "code",
   "execution_count": 133,
   "id": "4a33d811",
   "metadata": {},
   "outputs": [],
   "source": [
    "idx = pd.Index([\"h\", \"i\", \"j\", \"k\", \"l\", \"m\", \"n\"])"
   ]
  },
  {
   "cell_type": "code",
   "execution_count": 134,
   "id": "ac89811d",
   "metadata": {},
   "outputs": [],
   "source": [
    "cats = pd.Categorical([\"a\", \"a\", \"a\", \"a\", \"a\", \"a\", \"a\"], categories=[\"a\", \"b\"])"
   ]
  },
  {
   "cell_type": "code",
   "execution_count": 135,
   "id": "7867c36a",
   "metadata": {},
   "outputs": [],
   "source": [
    "values = [1, 1, 1, 1, 1, 1, 1]"
   ]
  },
  {
   "cell_type": "code",
   "execution_count": 136,
   "id": "d85dffce",
   "metadata": {},
   "outputs": [],
   "source": [
    "df = pd.DataFrame({\"cats\": cats, \"values\": values}, index=idx)"
   ]
  },
  {
   "cell_type": "code",
   "execution_count": 137,
   "id": "b897bd34",
   "metadata": {},
   "outputs": [],
   "source": [
    "df.iloc[2:4, :] = [[\"b\", 2], [\"b\", 2]]"
   ]
  },
  {
   "cell_type": "code",
   "execution_count": 138,
   "id": "442611eb",
   "metadata": {},
   "outputs": [
    {
     "data": {
      "text/html": [
       "<div>\n",
       "<style scoped>\n",
       "    .dataframe tbody tr th:only-of-type {\n",
       "        vertical-align: middle;\n",
       "    }\n",
       "\n",
       "    .dataframe tbody tr th {\n",
       "        vertical-align: top;\n",
       "    }\n",
       "\n",
       "    .dataframe thead th {\n",
       "        text-align: right;\n",
       "    }\n",
       "</style>\n",
       "<table border=\"1\" class=\"dataframe\">\n",
       "  <thead>\n",
       "    <tr style=\"text-align: right;\">\n",
       "      <th></th>\n",
       "      <th>cats</th>\n",
       "      <th>values</th>\n",
       "    </tr>\n",
       "  </thead>\n",
       "  <tbody>\n",
       "    <tr>\n",
       "      <th>h</th>\n",
       "      <td>a</td>\n",
       "      <td>1</td>\n",
       "    </tr>\n",
       "    <tr>\n",
       "      <th>i</th>\n",
       "      <td>a</td>\n",
       "      <td>1</td>\n",
       "    </tr>\n",
       "    <tr>\n",
       "      <th>j</th>\n",
       "      <td>b</td>\n",
       "      <td>2</td>\n",
       "    </tr>\n",
       "    <tr>\n",
       "      <th>k</th>\n",
       "      <td>b</td>\n",
       "      <td>2</td>\n",
       "    </tr>\n",
       "    <tr>\n",
       "      <th>l</th>\n",
       "      <td>a</td>\n",
       "      <td>1</td>\n",
       "    </tr>\n",
       "    <tr>\n",
       "      <th>m</th>\n",
       "      <td>a</td>\n",
       "      <td>1</td>\n",
       "    </tr>\n",
       "    <tr>\n",
       "      <th>n</th>\n",
       "      <td>a</td>\n",
       "      <td>1</td>\n",
       "    </tr>\n",
       "  </tbody>\n",
       "</table>\n",
       "</div>"
      ],
      "text/plain": [
       "  cats  values\n",
       "h    a       1\n",
       "i    a       1\n",
       "j    b       2\n",
       "k    b       2\n",
       "l    a       1\n",
       "m    a       1\n",
       "n    a       1"
      ]
     },
     "execution_count": 138,
     "metadata": {},
     "output_type": "execute_result"
    }
   ],
   "source": [
    "df"
   ]
  },
  {
   "cell_type": "markdown",
   "id": "63b89881",
   "metadata": {},
   "source": [
    "#### Establecer valores mediante la asignación de datos categóricos también verificará que las categorías coincidan"
   ]
  },
  {
   "cell_type": "code",
   "execution_count": 139,
   "id": "5c446322",
   "metadata": {},
   "outputs": [],
   "source": [
    "df.loc[\"j\":\"k\", \"cats\"] = pd.Categorical([\"a\", \"a\"], categories=[\"a\", \"b\"])"
   ]
  },
  {
   "cell_type": "code",
   "execution_count": 140,
   "id": "09503c75",
   "metadata": {},
   "outputs": [
    {
     "data": {
      "text/html": [
       "<div>\n",
       "<style scoped>\n",
       "    .dataframe tbody tr th:only-of-type {\n",
       "        vertical-align: middle;\n",
       "    }\n",
       "\n",
       "    .dataframe tbody tr th {\n",
       "        vertical-align: top;\n",
       "    }\n",
       "\n",
       "    .dataframe thead th {\n",
       "        text-align: right;\n",
       "    }\n",
       "</style>\n",
       "<table border=\"1\" class=\"dataframe\">\n",
       "  <thead>\n",
       "    <tr style=\"text-align: right;\">\n",
       "      <th></th>\n",
       "      <th>cats</th>\n",
       "      <th>values</th>\n",
       "    </tr>\n",
       "  </thead>\n",
       "  <tbody>\n",
       "    <tr>\n",
       "      <th>h</th>\n",
       "      <td>a</td>\n",
       "      <td>1</td>\n",
       "    </tr>\n",
       "    <tr>\n",
       "      <th>i</th>\n",
       "      <td>a</td>\n",
       "      <td>1</td>\n",
       "    </tr>\n",
       "    <tr>\n",
       "      <th>j</th>\n",
       "      <td>a</td>\n",
       "      <td>2</td>\n",
       "    </tr>\n",
       "    <tr>\n",
       "      <th>k</th>\n",
       "      <td>a</td>\n",
       "      <td>2</td>\n",
       "    </tr>\n",
       "    <tr>\n",
       "      <th>l</th>\n",
       "      <td>a</td>\n",
       "      <td>1</td>\n",
       "    </tr>\n",
       "    <tr>\n",
       "      <th>m</th>\n",
       "      <td>a</td>\n",
       "      <td>1</td>\n",
       "    </tr>\n",
       "    <tr>\n",
       "      <th>n</th>\n",
       "      <td>a</td>\n",
       "      <td>1</td>\n",
       "    </tr>\n",
       "  </tbody>\n",
       "</table>\n",
       "</div>"
      ],
      "text/plain": [
       "  cats  values\n",
       "h    a       1\n",
       "i    a       1\n",
       "j    a       2\n",
       "k    a       2\n",
       "l    a       1\n",
       "m    a       1\n",
       "n    a       1"
      ]
     },
     "execution_count": 140,
     "metadata": {},
     "output_type": "execute_result"
    }
   ],
   "source": [
    "df"
   ]
  },
  {
   "cell_type": "markdown",
   "id": "ddc843d6",
   "metadata": {},
   "source": [
    "#### Asignar un Categórico a partes de una columna de otros tipos utilizará los valores"
   ]
  },
  {
   "cell_type": "code",
   "execution_count": 141,
   "id": "b94ab194",
   "metadata": {},
   "outputs": [],
   "source": [
    "df = pd.DataFrame({\"a\": [1, 1, 1, 1, 1], \"b\": [\"a\", \"a\", \"a\", \"a\", \"a\"]})"
   ]
  },
  {
   "cell_type": "code",
   "execution_count": 142,
   "id": "05e4652b",
   "metadata": {},
   "outputs": [
    {
     "data": {
      "text/html": [
       "<div>\n",
       "<style scoped>\n",
       "    .dataframe tbody tr th:only-of-type {\n",
       "        vertical-align: middle;\n",
       "    }\n",
       "\n",
       "    .dataframe tbody tr th {\n",
       "        vertical-align: top;\n",
       "    }\n",
       "\n",
       "    .dataframe thead th {\n",
       "        text-align: right;\n",
       "    }\n",
       "</style>\n",
       "<table border=\"1\" class=\"dataframe\">\n",
       "  <thead>\n",
       "    <tr style=\"text-align: right;\">\n",
       "      <th></th>\n",
       "      <th>a</th>\n",
       "      <th>b</th>\n",
       "    </tr>\n",
       "  </thead>\n",
       "  <tbody>\n",
       "    <tr>\n",
       "      <th>0</th>\n",
       "      <td>1</td>\n",
       "      <td>a</td>\n",
       "    </tr>\n",
       "    <tr>\n",
       "      <th>1</th>\n",
       "      <td>1</td>\n",
       "      <td>a</td>\n",
       "    </tr>\n",
       "    <tr>\n",
       "      <th>2</th>\n",
       "      <td>1</td>\n",
       "      <td>a</td>\n",
       "    </tr>\n",
       "    <tr>\n",
       "      <th>3</th>\n",
       "      <td>1</td>\n",
       "      <td>a</td>\n",
       "    </tr>\n",
       "    <tr>\n",
       "      <th>4</th>\n",
       "      <td>1</td>\n",
       "      <td>a</td>\n",
       "    </tr>\n",
       "  </tbody>\n",
       "</table>\n",
       "</div>"
      ],
      "text/plain": [
       "   a  b\n",
       "0  1  a\n",
       "1  1  a\n",
       "2  1  a\n",
       "3  1  a\n",
       "4  1  a"
      ]
     },
     "execution_count": 142,
     "metadata": {},
     "output_type": "execute_result"
    }
   ],
   "source": [
    "df"
   ]
  },
  {
   "cell_type": "code",
   "execution_count": 143,
   "id": "cb2d97b2",
   "metadata": {},
   "outputs": [],
   "source": [
    "df.loc[1:2, \"a\"] = pd.Categorical([\"b\", \"b\"], categories=[\"a\", \"b\"])"
   ]
  },
  {
   "cell_type": "code",
   "execution_count": 144,
   "id": "4046d383",
   "metadata": {},
   "outputs": [],
   "source": [
    "df.loc[2:3, \"b\"] = pd.Categorical([\"b\", \"b\"], categories=[\"a\", \"b\"])"
   ]
  },
  {
   "cell_type": "code",
   "execution_count": 145,
   "id": "9a7b6c50",
   "metadata": {},
   "outputs": [
    {
     "data": {
      "text/html": [
       "<div>\n",
       "<style scoped>\n",
       "    .dataframe tbody tr th:only-of-type {\n",
       "        vertical-align: middle;\n",
       "    }\n",
       "\n",
       "    .dataframe tbody tr th {\n",
       "        vertical-align: top;\n",
       "    }\n",
       "\n",
       "    .dataframe thead th {\n",
       "        text-align: right;\n",
       "    }\n",
       "</style>\n",
       "<table border=\"1\" class=\"dataframe\">\n",
       "  <thead>\n",
       "    <tr style=\"text-align: right;\">\n",
       "      <th></th>\n",
       "      <th>a</th>\n",
       "      <th>b</th>\n",
       "    </tr>\n",
       "  </thead>\n",
       "  <tbody>\n",
       "    <tr>\n",
       "      <th>0</th>\n",
       "      <td>1</td>\n",
       "      <td>a</td>\n",
       "    </tr>\n",
       "    <tr>\n",
       "      <th>1</th>\n",
       "      <td>b</td>\n",
       "      <td>a</td>\n",
       "    </tr>\n",
       "    <tr>\n",
       "      <th>2</th>\n",
       "      <td>b</td>\n",
       "      <td>b</td>\n",
       "    </tr>\n",
       "    <tr>\n",
       "      <th>3</th>\n",
       "      <td>1</td>\n",
       "      <td>b</td>\n",
       "    </tr>\n",
       "    <tr>\n",
       "      <th>4</th>\n",
       "      <td>1</td>\n",
       "      <td>a</td>\n",
       "    </tr>\n",
       "  </tbody>\n",
       "</table>\n",
       "</div>"
      ],
      "text/plain": [
       "   a  b\n",
       "0  1  a\n",
       "1  b  a\n",
       "2  b  b\n",
       "3  1  b\n",
       "4  1  a"
      ]
     },
     "execution_count": 145,
     "metadata": {},
     "output_type": "execute_result"
    }
   ],
   "source": [
    "df"
   ]
  },
  {
   "cell_type": "markdown",
   "id": "7cf803d6",
   "metadata": {},
   "source": [
    "### 4. Merging / concatenation (unir y concatenar)"
   ]
  },
  {
   "cell_type": "markdown",
   "id": "11c8684a",
   "metadata": {},
   "source": [
    "De forma predeterminada, la combinación de Series o DataFrames que contienen las mismas categorías da como resultado el tipo de categoría; de lo contrario, los resultados dependerán del tipo de las categorías subyacentes. Las fusiones que dan como resultado dtypes no categóricos probablemente tendrán un mayor uso de memoria. **Utilice .astype o union_categoricals para garantizar los resultados de la categoría**."
   ]
  },
  {
   "cell_type": "code",
   "execution_count": 146,
   "id": "55f064c2",
   "metadata": {},
   "outputs": [],
   "source": [
    "from pandas.api.types import union_categoricals"
   ]
  },
  {
   "cell_type": "code",
   "execution_count": 147,
   "id": "3c03ee4a",
   "metadata": {},
   "outputs": [],
   "source": [
    "s1 = pd.Series([\"a\", \"b\"], dtype=\"category\")"
   ]
  },
  {
   "cell_type": "code",
   "execution_count": 148,
   "id": "ec1ba8f6",
   "metadata": {},
   "outputs": [
    {
     "data": {
      "text/plain": [
       "0    a\n",
       "1    b\n",
       "dtype: category\n",
       "Categories (2, object): ['a', 'b']"
      ]
     },
     "execution_count": 148,
     "metadata": {},
     "output_type": "execute_result"
    }
   ],
   "source": [
    "s1"
   ]
  },
  {
   "cell_type": "code",
   "execution_count": 149,
   "id": "8d6eda13",
   "metadata": {},
   "outputs": [],
   "source": [
    "s2 = pd.Series([\"a\", \"b\", \"a\"], dtype=\"category\")"
   ]
  },
  {
   "cell_type": "code",
   "execution_count": 150,
   "id": "657c4331",
   "metadata": {},
   "outputs": [
    {
     "data": {
      "text/plain": [
       "0    a\n",
       "1    b\n",
       "2    a\n",
       "dtype: category\n",
       "Categories (2, object): ['a', 'b']"
      ]
     },
     "execution_count": 150,
     "metadata": {},
     "output_type": "execute_result"
    }
   ],
   "source": [
    "s2"
   ]
  },
  {
   "cell_type": "code",
   "execution_count": 151,
   "id": "dbfbac97",
   "metadata": {},
   "outputs": [
    {
     "data": {
      "text/plain": [
       "0    a\n",
       "1    b\n",
       "0    a\n",
       "1    b\n",
       "2    a\n",
       "dtype: category\n",
       "Categories (2, object): ['a', 'b']"
      ]
     },
     "execution_count": 151,
     "metadata": {},
     "output_type": "execute_result"
    }
   ],
   "source": [
    "pd.concat([s1, s2])"
   ]
  },
  {
   "cell_type": "code",
   "execution_count": 152,
   "id": "a0e10fd9",
   "metadata": {},
   "outputs": [],
   "source": [
    "s3 = pd.Series([\"b\", \"c\"], dtype=\"category\")"
   ]
  },
  {
   "cell_type": "code",
   "execution_count": 153,
   "id": "40f08fd6",
   "metadata": {},
   "outputs": [
    {
     "data": {
      "text/plain": [
       "0    b\n",
       "1    c\n",
       "dtype: category\n",
       "Categories (2, object): ['b', 'c']"
      ]
     },
     "execution_count": 153,
     "metadata": {},
     "output_type": "execute_result"
    }
   ],
   "source": [
    "s3"
   ]
  },
  {
   "cell_type": "code",
   "execution_count": 154,
   "id": "add6c0b0",
   "metadata": {},
   "outputs": [
    {
     "data": {
      "text/plain": [
       "0    a\n",
       "1    b\n",
       "0    b\n",
       "1    c\n",
       "dtype: object"
      ]
     },
     "execution_count": 154,
     "metadata": {},
     "output_type": "execute_result"
    }
   ],
   "source": [
    "pd.concat([s1, s3])"
   ]
  },
  {
   "cell_type": "code",
   "execution_count": 155,
   "id": "34185664",
   "metadata": {},
   "outputs": [],
   "source": [
    "# El tipo de salida se infiere en función de los valores de las categorías\n",
    "int_cats = pd.Series([1, 2], dtype=\"category\")"
   ]
  },
  {
   "cell_type": "code",
   "execution_count": 156,
   "id": "a51fbb33",
   "metadata": {},
   "outputs": [],
   "source": [
    "float_cats = pd.Series([3.0, 4.0], dtype=\"category\")"
   ]
  },
  {
   "cell_type": "code",
   "execution_count": 157,
   "id": "034e4e12",
   "metadata": {},
   "outputs": [
    {
     "data": {
      "text/plain": [
       "0    1.0\n",
       "1    2.0\n",
       "0    3.0\n",
       "1    4.0\n",
       "dtype: float64"
      ]
     },
     "execution_count": 157,
     "metadata": {},
     "output_type": "execute_result"
    }
   ],
   "source": [
    "pd.concat([int_cats, float_cats])"
   ]
  },
  {
   "cell_type": "code",
   "execution_count": 158,
   "id": "c459cc07",
   "metadata": {},
   "outputs": [
    {
     "data": {
      "text/plain": [
       "0    a\n",
       "1    b\n",
       "0    b\n",
       "1    c\n",
       "dtype: category\n",
       "Categories (3, object): ['a', 'b', 'c']"
      ]
     },
     "execution_count": 158,
     "metadata": {},
     "output_type": "execute_result"
    }
   ],
   "source": [
    "pd.concat([s1, s3]).astype(\"category\")"
   ]
  },
  {
   "cell_type": "code",
   "execution_count": 159,
   "id": "ca42a0b9",
   "metadata": {},
   "outputs": [
    {
     "data": {
      "text/plain": [
       "['a', 'b', 'b', 'c']\n",
       "Categories (3, object): ['a', 'b', 'c']"
      ]
     },
     "execution_count": 159,
     "metadata": {},
     "output_type": "execute_result"
    }
   ],
   "source": [
    "union_categoricals([s1.array, s3.array])"
   ]
  },
  {
   "cell_type": "markdown",
   "id": "f77be7ad",
   "metadata": {},
   "source": [
    "### Uniones - union_categoricals()"
   ]
  },
  {
   "cell_type": "markdown",
   "id": "99ab8ce5",
   "metadata": {},
   "source": [
    "Si desea combinar categorías que no necesariamente tienen las mismas categorías, **la función union_categoricals() combinará una lista de categorías**. Las nuevas categorías serán la unión de las categorías que se están combinando."
   ]
  },
  {
   "cell_type": "code",
   "execution_count": 160,
   "id": "d3acb060",
   "metadata": {},
   "outputs": [],
   "source": [
    "from pandas.api.types import union_categoricals"
   ]
  },
  {
   "cell_type": "code",
   "execution_count": 161,
   "id": "02d88a29",
   "metadata": {},
   "outputs": [],
   "source": [
    "a = pd.Categorical([\"b\", \"c\"])"
   ]
  },
  {
   "cell_type": "code",
   "execution_count": 162,
   "id": "afb82c21",
   "metadata": {},
   "outputs": [],
   "source": [
    "b = pd.Categorical([\"a\", \"b\"])"
   ]
  },
  {
   "cell_type": "code",
   "execution_count": 163,
   "id": "a1ea9595",
   "metadata": {},
   "outputs": [
    {
     "data": {
      "text/plain": [
       "['b', 'c', 'a', 'b']\n",
       "Categories (3, object): ['b', 'c', 'a']"
      ]
     },
     "execution_count": 163,
     "metadata": {},
     "output_type": "execute_result"
    }
   ],
   "source": [
    "union_categoricals([a, b])"
   ]
  },
  {
   "cell_type": "code",
   "execution_count": 164,
   "id": "4d9ebd98",
   "metadata": {},
   "outputs": [
    {
     "data": {
      "text/plain": [
       "['b', 'c', 'a', 'b']\n",
       "Categories (3, object): ['a', 'b', 'c']"
      ]
     },
     "execution_count": 164,
     "metadata": {},
     "output_type": "execute_result"
    }
   ],
   "source": [
    "union_categoricals([a, b], sort_categories=True)"
   ]
  },
  {
   "cell_type": "markdown",
   "id": "f4cf2750",
   "metadata": {},
   "source": [
    "## Ingresar y sacar datos (data in/out)"
   ]
  },
  {
   "cell_type": "markdown",
   "id": "38a060bf",
   "metadata": {},
   "source": [
    "#### Escribir en un archivo CSV convertirá los datos, eliminando efectivamente cualquier información sobre el categórico (categorías y orden). Entonces, si vuelve a leer el archivo CSV, debe convertir las columnas relevantes nuevamente a categoría y asignar las categorías correctas y el orden de las categorías."
   ]
  },
  {
   "cell_type": "code",
   "execution_count": 165,
   "id": "dd647e0f",
   "metadata": {},
   "outputs": [],
   "source": [
    "import io"
   ]
  },
  {
   "cell_type": "code",
   "execution_count": 166,
   "id": "3c64f76f",
   "metadata": {},
   "outputs": [],
   "source": [
    "s = pd.Series(pd.Categorical([\"a\", \"b\", \"b\", \"a\", \"a\", \"d\"]))"
   ]
  },
  {
   "cell_type": "code",
   "execution_count": 167,
   "id": "430bedcb",
   "metadata": {},
   "outputs": [],
   "source": [
    "#Renombrar las categorías\n",
    "s = s.cat.rename_categories([\"very good\", \"good\", \"bad\"])"
   ]
  },
  {
   "cell_type": "code",
   "execution_count": 168,
   "id": "1c3f1c61",
   "metadata": {},
   "outputs": [],
   "source": [
    "# reordenar las categorías y agregar las categorías faltantes\n",
    "s = s.cat.set_categories([\"very bad\", \"bad\", \"medium\", \"good\", \"very good\"])"
   ]
  },
  {
   "cell_type": "code",
   "execution_count": 169,
   "id": "ce431a43",
   "metadata": {},
   "outputs": [],
   "source": [
    "df = pd.DataFrame({\"cats\": s, \"vals\": [1, 2, 3, 4, 5, 6]})"
   ]
  },
  {
   "cell_type": "code",
   "execution_count": 170,
   "id": "5533ae0c",
   "metadata": {},
   "outputs": [],
   "source": [
    "csv = io.StringIO()"
   ]
  },
  {
   "cell_type": "code",
   "execution_count": 171,
   "id": "6c8d0365",
   "metadata": {},
   "outputs": [],
   "source": [
    "df.to_csv(csv)"
   ]
  },
  {
   "cell_type": "code",
   "execution_count": 172,
   "id": "28567415",
   "metadata": {},
   "outputs": [],
   "source": [
    "df2 = pd.read_csv(io.StringIO(csv.getvalue()))"
   ]
  },
  {
   "cell_type": "code",
   "execution_count": 173,
   "id": "7577c444",
   "metadata": {},
   "outputs": [
    {
     "data": {
      "text/plain": [
       "Unnamed: 0     int64\n",
       "cats          object\n",
       "vals           int64\n",
       "dtype: object"
      ]
     },
     "execution_count": 173,
     "metadata": {},
     "output_type": "execute_result"
    }
   ],
   "source": [
    "df2.dtypes"
   ]
  },
  {
   "cell_type": "code",
   "execution_count": 174,
   "id": "2e32a990",
   "metadata": {},
   "outputs": [
    {
     "data": {
      "text/plain": [
       "0    very good\n",
       "1         good\n",
       "2         good\n",
       "3    very good\n",
       "4    very good\n",
       "5          bad\n",
       "Name: cats, dtype: object"
      ]
     },
     "execution_count": 174,
     "metadata": {},
     "output_type": "execute_result"
    }
   ],
   "source": [
    "df2[\"cats\"]"
   ]
  },
  {
   "cell_type": "code",
   "execution_count": 175,
   "id": "86023fb2",
   "metadata": {},
   "outputs": [],
   "source": [
    "# Rehacer las categorías\n",
    "df2[\"cats\"] = df2[\"cats\"].astype(\"category\")"
   ]
  },
  {
   "cell_type": "code",
   "execution_count": 176,
   "id": "814303d9",
   "metadata": {},
   "outputs": [
    {
     "name": "stderr",
     "output_type": "stream",
     "text": [
      "C:\\ProgramData\\Anaconda3\\lib\\site-packages\\pandas\\core\\arrays\\categorical.py:2747: FutureWarning: The `inplace` parameter in pandas.Categorical.set_categories is deprecated and will be removed in a future version. Removing unused categories will always return a new Categorical object.\n",
      "  res = method(*args, **kwargs)\n"
     ]
    }
   ],
   "source": [
    "df2[\"cats\"].cat.set_categories(\n",
    "    [\"very bad\", \"bad\", \"medium\", \"good\", \"very good\"], inplace=True\n",
    ")"
   ]
  },
  {
   "cell_type": "code",
   "execution_count": 179,
   "id": "e70f00f8",
   "metadata": {},
   "outputs": [
    {
     "data": {
      "text/html": [
       "<div>\n",
       "<style scoped>\n",
       "    .dataframe tbody tr th:only-of-type {\n",
       "        vertical-align: middle;\n",
       "    }\n",
       "\n",
       "    .dataframe tbody tr th {\n",
       "        vertical-align: top;\n",
       "    }\n",
       "\n",
       "    .dataframe thead th {\n",
       "        text-align: right;\n",
       "    }\n",
       "</style>\n",
       "<table border=\"1\" class=\"dataframe\">\n",
       "  <thead>\n",
       "    <tr style=\"text-align: right;\">\n",
       "      <th></th>\n",
       "      <th>Unnamed: 0</th>\n",
       "      <th>cats</th>\n",
       "      <th>vals</th>\n",
       "    </tr>\n",
       "  </thead>\n",
       "  <tbody>\n",
       "    <tr>\n",
       "      <th>0</th>\n",
       "      <td>0</td>\n",
       "      <td>very good</td>\n",
       "      <td>1</td>\n",
       "    </tr>\n",
       "    <tr>\n",
       "      <th>1</th>\n",
       "      <td>1</td>\n",
       "      <td>good</td>\n",
       "      <td>2</td>\n",
       "    </tr>\n",
       "    <tr>\n",
       "      <th>2</th>\n",
       "      <td>2</td>\n",
       "      <td>good</td>\n",
       "      <td>3</td>\n",
       "    </tr>\n",
       "    <tr>\n",
       "      <th>3</th>\n",
       "      <td>3</td>\n",
       "      <td>very good</td>\n",
       "      <td>4</td>\n",
       "    </tr>\n",
       "    <tr>\n",
       "      <th>4</th>\n",
       "      <td>4</td>\n",
       "      <td>very good</td>\n",
       "      <td>5</td>\n",
       "    </tr>\n",
       "    <tr>\n",
       "      <th>5</th>\n",
       "      <td>5</td>\n",
       "      <td>bad</td>\n",
       "      <td>6</td>\n",
       "    </tr>\n",
       "  </tbody>\n",
       "</table>\n",
       "</div>"
      ],
      "text/plain": [
       "   Unnamed: 0       cats  vals\n",
       "0           0  very good     1\n",
       "1           1       good     2\n",
       "2           2       good     3\n",
       "3           3  very good     4\n",
       "4           4  very good     5\n",
       "5           5        bad     6"
      ]
     },
     "execution_count": 179,
     "metadata": {},
     "output_type": "execute_result"
    }
   ],
   "source": [
    "df2"
   ]
  },
  {
   "cell_type": "code",
   "execution_count": 177,
   "id": "3d72d34f",
   "metadata": {},
   "outputs": [
    {
     "data": {
      "text/plain": [
       "Unnamed: 0       int64\n",
       "cats          category\n",
       "vals             int64\n",
       "dtype: object"
      ]
     },
     "execution_count": 177,
     "metadata": {},
     "output_type": "execute_result"
    }
   ],
   "source": [
    "df2.dtypes"
   ]
  },
  {
   "cell_type": "code",
   "execution_count": 178,
   "id": "33bab07f",
   "metadata": {},
   "outputs": [
    {
     "data": {
      "text/plain": [
       "0    very good\n",
       "1         good\n",
       "2         good\n",
       "3    very good\n",
       "4    very good\n",
       "5          bad\n",
       "Name: cats, dtype: category\n",
       "Categories (5, object): ['very bad', 'bad', 'medium', 'good', 'very good']"
      ]
     },
     "execution_count": 178,
     "metadata": {},
     "output_type": "execute_result"
    }
   ],
   "source": [
    "df2[\"cats\"]"
   ]
  },
  {
   "cell_type": "markdown",
   "id": "23700dea",
   "metadata": {},
   "source": [
    "## Missing data"
   ]
  },
  {
   "cell_type": "markdown",
   "id": "85e66150",
   "metadata": {},
   "source": [
    "Los valores faltantes no deben incluirse en las categorías de Categorical, solo en los valores. En cambio, se entiende que NaN es diferente y siempre es una posibilidad. Al trabajar con los códigos de Categorical, los valores perdidos siempre tendrán un código de -1."
   ]
  },
  {
   "cell_type": "code",
   "execution_count": 180,
   "id": "85af01a2",
   "metadata": {},
   "outputs": [],
   "source": [
    "s = pd.Series([\"a\", \"b\", np.nan, \"a\"], dtype=\"category\")"
   ]
  },
  {
   "cell_type": "code",
   "execution_count": 181,
   "id": "0bc93aec",
   "metadata": {},
   "outputs": [
    {
     "data": {
      "text/plain": [
       "0      a\n",
       "1      b\n",
       "2    NaN\n",
       "3      a\n",
       "dtype: category\n",
       "Categories (2, object): ['a', 'b']"
      ]
     },
     "execution_count": 181,
     "metadata": {},
     "output_type": "execute_result"
    }
   ],
   "source": [
    "# solo dos categorías\n",
    "s"
   ]
  },
  {
   "cell_type": "markdown",
   "id": "4f2878fb",
   "metadata": {},
   "source": [
    "s.cat.codes"
   ]
  },
  {
   "cell_type": "markdown",
   "id": "aa7530d4",
   "metadata": {},
   "source": [
    "#### Métodos para trabajar con datos faltantes, p. isna(), fillna(), dropna(), todo funciona normalmente"
   ]
  },
  {
   "cell_type": "code",
   "execution_count": 183,
   "id": "cc4d2f2e",
   "metadata": {},
   "outputs": [],
   "source": [
    "s = pd.Series([\"a\", \"b\", np.nan], dtype=\"category\")"
   ]
  },
  {
   "cell_type": "code",
   "execution_count": 184,
   "id": "6625e8bb",
   "metadata": {},
   "outputs": [
    {
     "data": {
      "text/plain": [
       "0      a\n",
       "1      b\n",
       "2    NaN\n",
       "dtype: category\n",
       "Categories (2, object): ['a', 'b']"
      ]
     },
     "execution_count": 184,
     "metadata": {},
     "output_type": "execute_result"
    }
   ],
   "source": [
    "s"
   ]
  },
  {
   "cell_type": "code",
   "execution_count": 185,
   "id": "672a9856",
   "metadata": {},
   "outputs": [
    {
     "data": {
      "text/plain": [
       "0    False\n",
       "1    False\n",
       "2     True\n",
       "dtype: bool"
      ]
     },
     "execution_count": 185,
     "metadata": {},
     "output_type": "execute_result"
    }
   ],
   "source": [
    "pd.isna(s)"
   ]
  },
  {
   "cell_type": "code",
   "execution_count": 186,
   "id": "dd7d441e",
   "metadata": {},
   "outputs": [
    {
     "data": {
      "text/plain": [
       "0    a\n",
       "1    b\n",
       "2    a\n",
       "dtype: category\n",
       "Categories (2, object): ['a', 'b']"
      ]
     },
     "execution_count": 186,
     "metadata": {},
     "output_type": "execute_result"
    }
   ],
   "source": [
    "s.fillna(\"a\")"
   ]
  },
  {
   "cell_type": "markdown",
   "id": "254b6a5f",
   "metadata": {},
   "source": [
    "## Diferencias con los factores de R"
   ]
  },
  {
   "cell_type": "markdown",
   "id": "abec3161",
   "metadata": {},
   "source": [
    "1. Los niveles de R son categorías con nombre.\n",
    "2. Los niveles de R siempre son de tipo string, mientras que las categorías en pandas pueden ser de cualquier tipo de dato.\n",
    "3. No es posible especificar etiquetas en el momento de la creación. Utilice s.cat.rename_categories(new_labels) después.\n",
    "4. En contraste con la función de factor de R, el uso de datos categóricos como la única entrada para crear una nueva serie categórica no eliminará las categorías no utilizadas, ¡sino que creará una nueva serie categórica que es igual a la pasada en uno!\n",
    "5. R permite incluir valores faltantes en sus niveles (categorías de pandas). pandas no permite categorías NaN, pero los valores faltantes aún pueden estar en los valores."
   ]
  },
  {
   "cell_type": "markdown",
   "id": "1f8a3cb5",
   "metadata": {},
   "source": [
    "## Índices categóricos"
   ]
  },
  {
   "cell_type": "markdown",
   "id": "0acc7059",
   "metadata": {},
   "source": [
    "#### CategoricalIndex es un tipo de índice que es útil para respaldar la indexación con duplicados. Este es un contenedor alrededor de Categorical y permite la indexación y el almacenamiento eficientes de un índice con una gran cantidad de elementos duplicados."
   ]
  },
  {
   "cell_type": "code",
   "execution_count": 187,
   "id": "4d87a0a8",
   "metadata": {},
   "outputs": [],
   "source": [
    "cats = pd.Categorical([1, 2, 3, 4], categories=[4, 2, 3, 1])"
   ]
  },
  {
   "cell_type": "code",
   "execution_count": 188,
   "id": "bfcb4c42",
   "metadata": {},
   "outputs": [],
   "source": [
    "strings = [\"a\", \"b\", \"c\", \"d\"]"
   ]
  },
  {
   "cell_type": "code",
   "execution_count": 189,
   "id": "27de54a1",
   "metadata": {},
   "outputs": [],
   "source": [
    "values = [4, 2, 3, 1]"
   ]
  },
  {
   "cell_type": "code",
   "execution_count": 190,
   "id": "d2989e1b",
   "metadata": {},
   "outputs": [],
   "source": [
    "df = pd.DataFrame({\"strings\": strings, \"values\": values}, index=cats)"
   ]
  },
  {
   "cell_type": "code",
   "execution_count": 191,
   "id": "4d456a16",
   "metadata": {},
   "outputs": [
    {
     "data": {
      "text/plain": [
       "CategoricalIndex([1, 2, 3, 4], categories=[4, 2, 3, 1], ordered=False, dtype='category')"
      ]
     },
     "execution_count": 191,
     "metadata": {},
     "output_type": "execute_result"
    }
   ],
   "source": [
    "df.index"
   ]
  },
  {
   "cell_type": "code",
   "execution_count": 192,
   "id": "6942fba1",
   "metadata": {},
   "outputs": [
    {
     "data": {
      "text/html": [
       "<div>\n",
       "<style scoped>\n",
       "    .dataframe tbody tr th:only-of-type {\n",
       "        vertical-align: middle;\n",
       "    }\n",
       "\n",
       "    .dataframe tbody tr th {\n",
       "        vertical-align: top;\n",
       "    }\n",
       "\n",
       "    .dataframe thead th {\n",
       "        text-align: right;\n",
       "    }\n",
       "</style>\n",
       "<table border=\"1\" class=\"dataframe\">\n",
       "  <thead>\n",
       "    <tr style=\"text-align: right;\">\n",
       "      <th></th>\n",
       "      <th>strings</th>\n",
       "      <th>values</th>\n",
       "    </tr>\n",
       "  </thead>\n",
       "  <tbody>\n",
       "    <tr>\n",
       "      <th>4</th>\n",
       "      <td>d</td>\n",
       "      <td>1</td>\n",
       "    </tr>\n",
       "    <tr>\n",
       "      <th>2</th>\n",
       "      <td>b</td>\n",
       "      <td>2</td>\n",
       "    </tr>\n",
       "    <tr>\n",
       "      <th>3</th>\n",
       "      <td>c</td>\n",
       "      <td>3</td>\n",
       "    </tr>\n",
       "    <tr>\n",
       "      <th>1</th>\n",
       "      <td>a</td>\n",
       "      <td>4</td>\n",
       "    </tr>\n",
       "  </tbody>\n",
       "</table>\n",
       "</div>"
      ],
      "text/plain": [
       "  strings  values\n",
       "4       d       1\n",
       "2       b       2\n",
       "3       c       3\n",
       "1       a       4"
      ]
     },
     "execution_count": 192,
     "metadata": {},
     "output_type": "execute_result"
    }
   ],
   "source": [
    "df.sort_index()"
   ]
  }
 ],
 "metadata": {
  "kernelspec": {
   "display_name": "Python 3 (ipykernel)",
   "language": "python",
   "name": "python3"
  },
  "language_info": {
   "codemirror_mode": {
    "name": "ipython",
    "version": 3
   },
   "file_extension": ".py",
   "mimetype": "text/x-python",
   "name": "python",
   "nbconvert_exporter": "python",
   "pygments_lexer": "ipython3",
   "version": "3.9.12"
  }
 },
 "nbformat": 4,
 "nbformat_minor": 5
}
