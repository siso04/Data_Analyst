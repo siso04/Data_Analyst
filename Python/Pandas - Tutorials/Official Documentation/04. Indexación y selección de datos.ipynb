{
 "cells": [
  {
   "cell_type": "markdown",
   "id": "921ce58f",
   "metadata": {},
   "source": [
    "# Indexación y selección"
   ]
  },
  {
   "cell_type": "code",
   "execution_count": 1,
   "id": "9b468b54",
   "metadata": {},
   "outputs": [],
   "source": [
    "import numpy as np\n",
    "import pandas as pd"
   ]
  },
  {
   "cell_type": "markdown",
   "id": "ad3810f3",
   "metadata": {},
   "source": [
    "#### ¿Por qué es útil indexar y selecionar datos?\n",
    "\n",
    "##### 1. Identifica datos (es decir, proporciona metadatos) utilizando indicadores conocidos, importantes para el análisis, la visualización y la visualización de la consola interactiva.\n",
    "##### 2. Habilita la alineación de datos automática y explícita\n",
    "##### 3. Permite obtener y configurar de forma intuitiva subconjuntos del conjunto de datos.\n",
    "\n",
    "##### En esta sección, nos centraremos en el punto final: a saber, cómo cortar, dividir y, en general, obtener y establecer subconjuntos de objetos pandas."
   ]
  },
  {
   "cell_type": "code",
   "execution_count": 2,
   "id": "079d921d",
   "metadata": {},
   "outputs": [],
   "source": [
    "# Las selecciones básicas de Python con corchetes \"[]\"  y punto \".\" también podrán ser utilizadas en Pandas"
   ]
  },
  {
   "cell_type": "markdown",
   "id": "f4d05ae2",
   "metadata": {},
   "source": [
    "## Diferentes opciones para la indexación"
   ]
  },
  {
   "cell_type": "markdown",
   "id": "237344d7",
   "metadata": {},
   "source": [
    "## .loc (label location) - Trabaja con texto"
   ]
  },
  {
   "cell_type": "markdown",
   "id": "9986dd5b",
   "metadata": {},
   "source": [
    "#### .loc se basa principalmente en etiquetas, pero también se puede usar con una matriz booleana. .loc generará KeyError cuando no se encuentren los elementos."
   ]
  },
  {
   "cell_type": "markdown",
   "id": "12f08a43",
   "metadata": {},
   "source": [
    "### Las formas de utilizar .loc son las siguientes\n",
    "\n",
    "#### 1. Con una sola etiqueta, p. 5 o 'a' (Tenga en cuenta que 5 se interpreta como una etiqueta del índice. Este uso no es una posición entera a lo largo del índice). Ejemplo: df.iloc[\"a\"]\n",
    "\n",
    "#### 2. Una lista o matriz de etiquetas df.loc['a', 'b', 'c'].\n",
    "\n",
    "#### 3. Un objeto de división con las etiquetas 'a':'f' (Tenga en cuenta que, al contrario de las divisiones habituales de Python, se incluyen tanto el inicio como el final, cuando están presentes en el índice). df.iloc[\"a\":\"d\"]\n",
    "\n",
    "#### 4. Una matriz booleana (cualquier valor NA se tratará como falso).\n",
    "\n",
    "#### 5. Una función invocable con un argumento (la Serie o DataFrame que llama) y que devuelve una salida válida para la indexación (una de las anteriores)."
   ]
  },
  {
   "cell_type": "markdown",
   "id": "2f908057",
   "metadata": {},
   "source": [
    "## .iloc (index location) - Trabaja con numeros"
   ]
  },
  {
   "cell_type": "markdown",
   "id": "7df2d7f5",
   "metadata": {},
   "source": [
    "#### .iloc se basa principalmente en la posición de números enteros (de 0 a la longitud 1 del eje), pero también se puede usar con una matriz booleana. .iloc generará IndexError si un indexador solicitado está fuera de los límites, excepto los indexadores de segmento que permiten la indexación fuera de los límites."
   ]
  },
  {
   "cell_type": "markdown",
   "id": "ab2afd22",
   "metadata": {},
   "source": [
    "### Las formas de utilizar .iloc son las siguientes:\n",
    "\n",
    "#### 1. Un número entero, p. 5.\n",
    "\n",
    "#### 2. Una lista o matriz de enteros [4, 3, 0].\n",
    "\n",
    "#### 3. Un objeto slice con ints 1:7.\n",
    "\n",
    "#### 4. Una matriz booleana (cualquier valor NA se tratará como falso).\n",
    "\n",
    "#### 5. Una función invocable con un argumento (la Serie o DataFrame que llama) y que devuelve una salida válida para la indexación (una de las anteriores)."
   ]
  },
  {
   "cell_type": "code",
   "execution_count": 3,
   "id": "8bea0aa5",
   "metadata": {},
   "outputs": [],
   "source": [
    "#En resumen\n",
    "\n",
    "# Object Type                   Indexers\n",
    "\n",
    "# Series           s.loc[indexer]/s.iloc[indexer]\n",
    "\n",
    "# DataFrame        df.loc[row_indexer,column_indexer]/df.iloc[row_indexer,column_indexer]"
   ]
  },
  {
   "cell_type": "markdown",
   "id": "cf8ee341",
   "metadata": {},
   "source": [
    "## Selecciones básicas - corchetes [ ]"
   ]
  },
  {
   "cell_type": "code",
   "execution_count": 4,
   "id": "cb78588f",
   "metadata": {},
   "outputs": [],
   "source": [
    "# Object Type                 Selection            Return Value Type\n",
    "\n",
    "# Series                    series[label]          scalar value\n",
    "\n",
    "# DataFrame                 frame[colname]         Series corresponding to colname"
   ]
  },
  {
   "cell_type": "code",
   "execution_count": 5,
   "id": "2d68003f",
   "metadata": {},
   "outputs": [],
   "source": [
    "dates = pd.date_range('1/1/2000', periods=8)"
   ]
  },
  {
   "cell_type": "code",
   "execution_count": 6,
   "id": "907f715b",
   "metadata": {},
   "outputs": [],
   "source": [
    "df = pd.DataFrame(np.random.randn(8, 4),\n",
    "                  index=dates, columns=['A', 'B', 'C', 'D'])"
   ]
  },
  {
   "cell_type": "code",
   "execution_count": 7,
   "id": "8f2ca9ed",
   "metadata": {},
   "outputs": [
    {
     "data": {
      "text/html": [
       "<div>\n",
       "<style scoped>\n",
       "    .dataframe tbody tr th:only-of-type {\n",
       "        vertical-align: middle;\n",
       "    }\n",
       "\n",
       "    .dataframe tbody tr th {\n",
       "        vertical-align: top;\n",
       "    }\n",
       "\n",
       "    .dataframe thead th {\n",
       "        text-align: right;\n",
       "    }\n",
       "</style>\n",
       "<table border=\"1\" class=\"dataframe\">\n",
       "  <thead>\n",
       "    <tr style=\"text-align: right;\">\n",
       "      <th></th>\n",
       "      <th>A</th>\n",
       "      <th>B</th>\n",
       "      <th>C</th>\n",
       "      <th>D</th>\n",
       "    </tr>\n",
       "  </thead>\n",
       "  <tbody>\n",
       "    <tr>\n",
       "      <th>2000-01-01</th>\n",
       "      <td>-0.444414</td>\n",
       "      <td>0.092699</td>\n",
       "      <td>0.174527</td>\n",
       "      <td>-0.240742</td>\n",
       "    </tr>\n",
       "    <tr>\n",
       "      <th>2000-01-02</th>\n",
       "      <td>0.436559</td>\n",
       "      <td>0.663604</td>\n",
       "      <td>1.922213</td>\n",
       "      <td>-1.102994</td>\n",
       "    </tr>\n",
       "    <tr>\n",
       "      <th>2000-01-03</th>\n",
       "      <td>-1.068872</td>\n",
       "      <td>-0.061993</td>\n",
       "      <td>0.751397</td>\n",
       "      <td>1.149348</td>\n",
       "    </tr>\n",
       "    <tr>\n",
       "      <th>2000-01-04</th>\n",
       "      <td>3.479382</td>\n",
       "      <td>-1.318372</td>\n",
       "      <td>-0.404830</td>\n",
       "      <td>0.176136</td>\n",
       "    </tr>\n",
       "    <tr>\n",
       "      <th>2000-01-05</th>\n",
       "      <td>-0.507142</td>\n",
       "      <td>0.015499</td>\n",
       "      <td>-0.149214</td>\n",
       "      <td>-0.098744</td>\n",
       "    </tr>\n",
       "    <tr>\n",
       "      <th>2000-01-06</th>\n",
       "      <td>1.289759</td>\n",
       "      <td>-0.170419</td>\n",
       "      <td>-1.753947</td>\n",
       "      <td>-0.363281</td>\n",
       "    </tr>\n",
       "    <tr>\n",
       "      <th>2000-01-07</th>\n",
       "      <td>0.342900</td>\n",
       "      <td>0.441254</td>\n",
       "      <td>-0.056793</td>\n",
       "      <td>-0.123316</td>\n",
       "    </tr>\n",
       "    <tr>\n",
       "      <th>2000-01-08</th>\n",
       "      <td>-1.785371</td>\n",
       "      <td>-1.176178</td>\n",
       "      <td>1.026570</td>\n",
       "      <td>-0.777074</td>\n",
       "    </tr>\n",
       "  </tbody>\n",
       "</table>\n",
       "</div>"
      ],
      "text/plain": [
       "                   A         B         C         D\n",
       "2000-01-01 -0.444414  0.092699  0.174527 -0.240742\n",
       "2000-01-02  0.436559  0.663604  1.922213 -1.102994\n",
       "2000-01-03 -1.068872 -0.061993  0.751397  1.149348\n",
       "2000-01-04  3.479382 -1.318372 -0.404830  0.176136\n",
       "2000-01-05 -0.507142  0.015499 -0.149214 -0.098744\n",
       "2000-01-06  1.289759 -0.170419 -1.753947 -0.363281\n",
       "2000-01-07  0.342900  0.441254 -0.056793 -0.123316\n",
       "2000-01-08 -1.785371 -1.176178  1.026570 -0.777074"
      ]
     },
     "execution_count": 7,
     "metadata": {},
     "output_type": "execute_result"
    }
   ],
   "source": [
    "df"
   ]
  },
  {
   "cell_type": "code",
   "execution_count": 8,
   "id": "e4dbae20",
   "metadata": {},
   "outputs": [],
   "source": [
    "# Selección básica de una serie\n",
    "s = df['A']"
   ]
  },
  {
   "cell_type": "code",
   "execution_count": 9,
   "id": "114bb9a1",
   "metadata": {},
   "outputs": [
    {
     "data": {
      "text/plain": [
       "1.289758809602834"
      ]
     },
     "execution_count": 9,
     "metadata": {},
     "output_type": "execute_result"
    }
   ],
   "source": [
    "s[dates[5]]"
   ]
  },
  {
   "cell_type": "markdown",
   "id": "c82bf52f",
   "metadata": {},
   "source": [
    "#### Puedes pasar una lista de columnas a los corchetes, para poder seleccionarlas. Para poder hacer estas selecciones, los corchetes deben ser dobles      df[['B', 'A']]"
   ]
  },
  {
   "cell_type": "code",
   "execution_count": 10,
   "id": "b968b1d6",
   "metadata": {},
   "outputs": [],
   "source": [
    "df[['B', 'A']] = df[['A', 'B']]"
   ]
  },
  {
   "cell_type": "code",
   "execution_count": 11,
   "id": "0edcc95f",
   "metadata": {},
   "outputs": [
    {
     "data": {
      "text/html": [
       "<div>\n",
       "<style scoped>\n",
       "    .dataframe tbody tr th:only-of-type {\n",
       "        vertical-align: middle;\n",
       "    }\n",
       "\n",
       "    .dataframe tbody tr th {\n",
       "        vertical-align: top;\n",
       "    }\n",
       "\n",
       "    .dataframe thead th {\n",
       "        text-align: right;\n",
       "    }\n",
       "</style>\n",
       "<table border=\"1\" class=\"dataframe\">\n",
       "  <thead>\n",
       "    <tr style=\"text-align: right;\">\n",
       "      <th></th>\n",
       "      <th>A</th>\n",
       "      <th>B</th>\n",
       "      <th>C</th>\n",
       "      <th>D</th>\n",
       "    </tr>\n",
       "  </thead>\n",
       "  <tbody>\n",
       "    <tr>\n",
       "      <th>2000-01-01</th>\n",
       "      <td>0.092699</td>\n",
       "      <td>-0.444414</td>\n",
       "      <td>0.174527</td>\n",
       "      <td>-0.240742</td>\n",
       "    </tr>\n",
       "    <tr>\n",
       "      <th>2000-01-02</th>\n",
       "      <td>0.663604</td>\n",
       "      <td>0.436559</td>\n",
       "      <td>1.922213</td>\n",
       "      <td>-1.102994</td>\n",
       "    </tr>\n",
       "    <tr>\n",
       "      <th>2000-01-03</th>\n",
       "      <td>-0.061993</td>\n",
       "      <td>-1.068872</td>\n",
       "      <td>0.751397</td>\n",
       "      <td>1.149348</td>\n",
       "    </tr>\n",
       "    <tr>\n",
       "      <th>2000-01-04</th>\n",
       "      <td>-1.318372</td>\n",
       "      <td>3.479382</td>\n",
       "      <td>-0.404830</td>\n",
       "      <td>0.176136</td>\n",
       "    </tr>\n",
       "    <tr>\n",
       "      <th>2000-01-05</th>\n",
       "      <td>0.015499</td>\n",
       "      <td>-0.507142</td>\n",
       "      <td>-0.149214</td>\n",
       "      <td>-0.098744</td>\n",
       "    </tr>\n",
       "    <tr>\n",
       "      <th>2000-01-06</th>\n",
       "      <td>-0.170419</td>\n",
       "      <td>1.289759</td>\n",
       "      <td>-1.753947</td>\n",
       "      <td>-0.363281</td>\n",
       "    </tr>\n",
       "    <tr>\n",
       "      <th>2000-01-07</th>\n",
       "      <td>0.441254</td>\n",
       "      <td>0.342900</td>\n",
       "      <td>-0.056793</td>\n",
       "      <td>-0.123316</td>\n",
       "    </tr>\n",
       "    <tr>\n",
       "      <th>2000-01-08</th>\n",
       "      <td>-1.176178</td>\n",
       "      <td>-1.785371</td>\n",
       "      <td>1.026570</td>\n",
       "      <td>-0.777074</td>\n",
       "    </tr>\n",
       "  </tbody>\n",
       "</table>\n",
       "</div>"
      ],
      "text/plain": [
       "                   A         B         C         D\n",
       "2000-01-01  0.092699 -0.444414  0.174527 -0.240742\n",
       "2000-01-02  0.663604  0.436559  1.922213 -1.102994\n",
       "2000-01-03 -0.061993 -1.068872  0.751397  1.149348\n",
       "2000-01-04 -1.318372  3.479382 -0.404830  0.176136\n",
       "2000-01-05  0.015499 -0.507142 -0.149214 -0.098744\n",
       "2000-01-06 -0.170419  1.289759 -1.753947 -0.363281\n",
       "2000-01-07  0.441254  0.342900 -0.056793 -0.123316\n",
       "2000-01-08 -1.176178 -1.785371  1.026570 -0.777074"
      ]
     },
     "execution_count": 11,
     "metadata": {},
     "output_type": "execute_result"
    }
   ],
   "source": [
    "df"
   ]
  },
  {
   "cell_type": "code",
   "execution_count": 12,
   "id": "eddb6e5d",
   "metadata": {},
   "outputs": [
    {
     "data": {
      "text/plain": [
       "2000-01-01    0.092699\n",
       "2000-01-02    0.663604\n",
       "2000-01-03   -0.061993\n",
       "2000-01-04   -1.318372\n",
       "2000-01-05    0.015499\n",
       "2000-01-06   -0.170419\n",
       "2000-01-07    0.441254\n",
       "2000-01-08   -1.176178\n",
       "Freq: D, Name: A, dtype: float64"
      ]
     },
     "execution_count": 12,
     "metadata": {},
     "output_type": "execute_result"
    }
   ],
   "source": [
    "df['A']"
   ]
  },
  {
   "cell_type": "code",
   "execution_count": 13,
   "id": "f214e2db",
   "metadata": {},
   "outputs": [
    {
     "data": {
      "text/html": [
       "<div>\n",
       "<style scoped>\n",
       "    .dataframe tbody tr th:only-of-type {\n",
       "        vertical-align: middle;\n",
       "    }\n",
       "\n",
       "    .dataframe tbody tr th {\n",
       "        vertical-align: top;\n",
       "    }\n",
       "\n",
       "    .dataframe thead th {\n",
       "        text-align: right;\n",
       "    }\n",
       "</style>\n",
       "<table border=\"1\" class=\"dataframe\">\n",
       "  <thead>\n",
       "    <tr style=\"text-align: right;\">\n",
       "      <th></th>\n",
       "      <th>B</th>\n",
       "      <th>A</th>\n",
       "    </tr>\n",
       "  </thead>\n",
       "  <tbody>\n",
       "    <tr>\n",
       "      <th>2000-01-01</th>\n",
       "      <td>-0.444414</td>\n",
       "      <td>0.092699</td>\n",
       "    </tr>\n",
       "    <tr>\n",
       "      <th>2000-01-02</th>\n",
       "      <td>0.436559</td>\n",
       "      <td>0.663604</td>\n",
       "    </tr>\n",
       "    <tr>\n",
       "      <th>2000-01-03</th>\n",
       "      <td>-1.068872</td>\n",
       "      <td>-0.061993</td>\n",
       "    </tr>\n",
       "    <tr>\n",
       "      <th>2000-01-04</th>\n",
       "      <td>3.479382</td>\n",
       "      <td>-1.318372</td>\n",
       "    </tr>\n",
       "    <tr>\n",
       "      <th>2000-01-05</th>\n",
       "      <td>-0.507142</td>\n",
       "      <td>0.015499</td>\n",
       "    </tr>\n",
       "    <tr>\n",
       "      <th>2000-01-06</th>\n",
       "      <td>1.289759</td>\n",
       "      <td>-0.170419</td>\n",
       "    </tr>\n",
       "    <tr>\n",
       "      <th>2000-01-07</th>\n",
       "      <td>0.342900</td>\n",
       "      <td>0.441254</td>\n",
       "    </tr>\n",
       "    <tr>\n",
       "      <th>2000-01-08</th>\n",
       "      <td>-1.785371</td>\n",
       "      <td>-1.176178</td>\n",
       "    </tr>\n",
       "  </tbody>\n",
       "</table>\n",
       "</div>"
      ],
      "text/plain": [
       "                   B         A\n",
       "2000-01-01 -0.444414  0.092699\n",
       "2000-01-02  0.436559  0.663604\n",
       "2000-01-03 -1.068872 -0.061993\n",
       "2000-01-04  3.479382 -1.318372\n",
       "2000-01-05 -0.507142  0.015499\n",
       "2000-01-06  1.289759 -0.170419\n",
       "2000-01-07  0.342900  0.441254\n",
       "2000-01-08 -1.785371 -1.176178"
      ]
     },
     "execution_count": 13,
     "metadata": {},
     "output_type": "execute_result"
    }
   ],
   "source": [
    "df[['B', 'A']] # Se mantiene el orden de la selección"
   ]
  },
  {
   "cell_type": "markdown",
   "id": "6a8c64d5",
   "metadata": {},
   "source": [
    "## Acceso por atributos - Utilizando un punto . (No recomendado)"
   ]
  },
  {
   "cell_type": "code",
   "execution_count": 14,
   "id": "9fb9df71",
   "metadata": {},
   "outputs": [],
   "source": [
    "sa = pd.Series([1, 2, 3], index=list('abc'))"
   ]
  },
  {
   "cell_type": "code",
   "execution_count": 15,
   "id": "b51250e2",
   "metadata": {},
   "outputs": [
    {
     "data": {
      "text/plain": [
       "a    1\n",
       "b    2\n",
       "c    3\n",
       "dtype: int64"
      ]
     },
     "execution_count": 15,
     "metadata": {},
     "output_type": "execute_result"
    }
   ],
   "source": [
    "sa"
   ]
  },
  {
   "cell_type": "code",
   "execution_count": 16,
   "id": "f93ec134",
   "metadata": {},
   "outputs": [],
   "source": [
    "dfa = df.copy()"
   ]
  },
  {
   "cell_type": "code",
   "execution_count": 17,
   "id": "769eada5",
   "metadata": {},
   "outputs": [
    {
     "data": {
      "text/html": [
       "<div>\n",
       "<style scoped>\n",
       "    .dataframe tbody tr th:only-of-type {\n",
       "        vertical-align: middle;\n",
       "    }\n",
       "\n",
       "    .dataframe tbody tr th {\n",
       "        vertical-align: top;\n",
       "    }\n",
       "\n",
       "    .dataframe thead th {\n",
       "        text-align: right;\n",
       "    }\n",
       "</style>\n",
       "<table border=\"1\" class=\"dataframe\">\n",
       "  <thead>\n",
       "    <tr style=\"text-align: right;\">\n",
       "      <th></th>\n",
       "      <th>A</th>\n",
       "      <th>B</th>\n",
       "      <th>C</th>\n",
       "      <th>D</th>\n",
       "    </tr>\n",
       "  </thead>\n",
       "  <tbody>\n",
       "    <tr>\n",
       "      <th>2000-01-01</th>\n",
       "      <td>0.092699</td>\n",
       "      <td>-0.444414</td>\n",
       "      <td>0.174527</td>\n",
       "      <td>-0.240742</td>\n",
       "    </tr>\n",
       "    <tr>\n",
       "      <th>2000-01-02</th>\n",
       "      <td>0.663604</td>\n",
       "      <td>0.436559</td>\n",
       "      <td>1.922213</td>\n",
       "      <td>-1.102994</td>\n",
       "    </tr>\n",
       "    <tr>\n",
       "      <th>2000-01-03</th>\n",
       "      <td>-0.061993</td>\n",
       "      <td>-1.068872</td>\n",
       "      <td>0.751397</td>\n",
       "      <td>1.149348</td>\n",
       "    </tr>\n",
       "    <tr>\n",
       "      <th>2000-01-04</th>\n",
       "      <td>-1.318372</td>\n",
       "      <td>3.479382</td>\n",
       "      <td>-0.404830</td>\n",
       "      <td>0.176136</td>\n",
       "    </tr>\n",
       "    <tr>\n",
       "      <th>2000-01-05</th>\n",
       "      <td>0.015499</td>\n",
       "      <td>-0.507142</td>\n",
       "      <td>-0.149214</td>\n",
       "      <td>-0.098744</td>\n",
       "    </tr>\n",
       "    <tr>\n",
       "      <th>2000-01-06</th>\n",
       "      <td>-0.170419</td>\n",
       "      <td>1.289759</td>\n",
       "      <td>-1.753947</td>\n",
       "      <td>-0.363281</td>\n",
       "    </tr>\n",
       "    <tr>\n",
       "      <th>2000-01-07</th>\n",
       "      <td>0.441254</td>\n",
       "      <td>0.342900</td>\n",
       "      <td>-0.056793</td>\n",
       "      <td>-0.123316</td>\n",
       "    </tr>\n",
       "    <tr>\n",
       "      <th>2000-01-08</th>\n",
       "      <td>-1.176178</td>\n",
       "      <td>-1.785371</td>\n",
       "      <td>1.026570</td>\n",
       "      <td>-0.777074</td>\n",
       "    </tr>\n",
       "  </tbody>\n",
       "</table>\n",
       "</div>"
      ],
      "text/plain": [
       "                   A         B         C         D\n",
       "2000-01-01  0.092699 -0.444414  0.174527 -0.240742\n",
       "2000-01-02  0.663604  0.436559  1.922213 -1.102994\n",
       "2000-01-03 -0.061993 -1.068872  0.751397  1.149348\n",
       "2000-01-04 -1.318372  3.479382 -0.404830  0.176136\n",
       "2000-01-05  0.015499 -0.507142 -0.149214 -0.098744\n",
       "2000-01-06 -0.170419  1.289759 -1.753947 -0.363281\n",
       "2000-01-07  0.441254  0.342900 -0.056793 -0.123316\n",
       "2000-01-08 -1.176178 -1.785371  1.026570 -0.777074"
      ]
     },
     "execution_count": 17,
     "metadata": {},
     "output_type": "execute_result"
    }
   ],
   "source": [
    "dfa"
   ]
  },
  {
   "cell_type": "code",
   "execution_count": 18,
   "id": "e322ec5b",
   "metadata": {},
   "outputs": [
    {
     "data": {
      "text/plain": [
       "2"
      ]
     },
     "execution_count": 18,
     "metadata": {},
     "output_type": "execute_result"
    }
   ],
   "source": [
    "# Seleccionamos solo los valores de la fila \"b\"\n",
    "sa.b"
   ]
  },
  {
   "cell_type": "code",
   "execution_count": 19,
   "id": "d3ee356f",
   "metadata": {},
   "outputs": [],
   "source": [
    "# Modificamos el valore este registro\n",
    "sa.a = 5"
   ]
  },
  {
   "cell_type": "code",
   "execution_count": 20,
   "id": "3769bdbb",
   "metadata": {},
   "outputs": [
    {
     "data": {
      "text/plain": [
       "a    5\n",
       "b    2\n",
       "c    3\n",
       "dtype: int64"
      ]
     },
     "execution_count": 20,
     "metadata": {},
     "output_type": "execute_result"
    }
   ],
   "source": [
    "sa"
   ]
  },
  {
   "cell_type": "code",
   "execution_count": 21,
   "id": "6c19ddbc",
   "metadata": {},
   "outputs": [],
   "source": [
    "dfa.A = list(range(len(dfa.index))) "
   ]
  },
  {
   "cell_type": "code",
   "execution_count": 22,
   "id": "b6147829",
   "metadata": {},
   "outputs": [
    {
     "data": {
      "text/plain": [
       "2000-01-01    0\n",
       "2000-01-02    1\n",
       "2000-01-03    2\n",
       "2000-01-04    3\n",
       "2000-01-05    4\n",
       "2000-01-06    5\n",
       "2000-01-07    6\n",
       "2000-01-08    7\n",
       "Freq: D, Name: A, dtype: int64"
      ]
     },
     "execution_count": 22,
     "metadata": {},
     "output_type": "execute_result"
    }
   ],
   "source": [
    "dfa.A"
   ]
  },
  {
   "cell_type": "markdown",
   "id": "fea6d3d5",
   "metadata": {},
   "source": [
    "## Selecciones por Rangos (Slicing) - Utilización de corchetes y los dos puntos \"[ : ]\""
   ]
  },
  {
   "cell_type": "code",
   "execution_count": 23,
   "id": "4fe958c1",
   "metadata": {},
   "outputs": [
    {
     "data": {
      "text/plain": [
       "2000-01-01   -0.444414\n",
       "2000-01-02    0.436559\n",
       "2000-01-03   -1.068872\n",
       "2000-01-04    3.479382\n",
       "2000-01-05   -0.507142\n",
       "Freq: D, Name: A, dtype: float64"
      ]
     },
     "execution_count": 23,
     "metadata": {},
     "output_type": "execute_result"
    }
   ],
   "source": [
    "s[:5]"
   ]
  },
  {
   "cell_type": "code",
   "execution_count": 24,
   "id": "85fa93ed",
   "metadata": {},
   "outputs": [
    {
     "data": {
      "text/plain": [
       "2000-01-01   -0.444414\n",
       "2000-01-03   -1.068872\n",
       "2000-01-05   -0.507142\n",
       "2000-01-07    0.342900\n",
       "Freq: 2D, Name: A, dtype: float64"
      ]
     },
     "execution_count": 24,
     "metadata": {},
     "output_type": "execute_result"
    }
   ],
   "source": [
    "s[::2]"
   ]
  },
  {
   "cell_type": "code",
   "execution_count": 25,
   "id": "b6340077",
   "metadata": {},
   "outputs": [
    {
     "data": {
      "text/plain": [
       "2000-01-08   -1.785371\n",
       "2000-01-07    0.342900\n",
       "2000-01-06    1.289759\n",
       "2000-01-05   -0.507142\n",
       "2000-01-04    3.479382\n",
       "2000-01-03   -1.068872\n",
       "2000-01-02    0.436559\n",
       "2000-01-01   -0.444414\n",
       "Freq: -1D, Name: A, dtype: float64"
      ]
     },
     "execution_count": 25,
     "metadata": {},
     "output_type": "execute_result"
    }
   ],
   "source": [
    "s[::-1]"
   ]
  },
  {
   "cell_type": "markdown",
   "id": "bca2525c",
   "metadata": {},
   "source": [
    "### Cuando utilizamos esto en un Data Frame, se selecionan las filas"
   ]
  },
  {
   "cell_type": "code",
   "execution_count": 26,
   "id": "4573e396",
   "metadata": {},
   "outputs": [
    {
     "data": {
      "text/html": [
       "<div>\n",
       "<style scoped>\n",
       "    .dataframe tbody tr th:only-of-type {\n",
       "        vertical-align: middle;\n",
       "    }\n",
       "\n",
       "    .dataframe tbody tr th {\n",
       "        vertical-align: top;\n",
       "    }\n",
       "\n",
       "    .dataframe thead th {\n",
       "        text-align: right;\n",
       "    }\n",
       "</style>\n",
       "<table border=\"1\" class=\"dataframe\">\n",
       "  <thead>\n",
       "    <tr style=\"text-align: right;\">\n",
       "      <th></th>\n",
       "      <th>A</th>\n",
       "      <th>B</th>\n",
       "      <th>C</th>\n",
       "      <th>D</th>\n",
       "    </tr>\n",
       "  </thead>\n",
       "  <tbody>\n",
       "    <tr>\n",
       "      <th>2000-01-01</th>\n",
       "      <td>0.092699</td>\n",
       "      <td>-0.444414</td>\n",
       "      <td>0.174527</td>\n",
       "      <td>-0.240742</td>\n",
       "    </tr>\n",
       "    <tr>\n",
       "      <th>2000-01-02</th>\n",
       "      <td>0.663604</td>\n",
       "      <td>0.436559</td>\n",
       "      <td>1.922213</td>\n",
       "      <td>-1.102994</td>\n",
       "    </tr>\n",
       "    <tr>\n",
       "      <th>2000-01-03</th>\n",
       "      <td>-0.061993</td>\n",
       "      <td>-1.068872</td>\n",
       "      <td>0.751397</td>\n",
       "      <td>1.149348</td>\n",
       "    </tr>\n",
       "  </tbody>\n",
       "</table>\n",
       "</div>"
      ],
      "text/plain": [
       "                   A         B         C         D\n",
       "2000-01-01  0.092699 -0.444414  0.174527 -0.240742\n",
       "2000-01-02  0.663604  0.436559  1.922213 -1.102994\n",
       "2000-01-03 -0.061993 -1.068872  0.751397  1.149348"
      ]
     },
     "execution_count": 26,
     "metadata": {},
     "output_type": "execute_result"
    }
   ],
   "source": [
    "df[:3]"
   ]
  },
  {
   "cell_type": "code",
   "execution_count": 27,
   "id": "76dc71a3",
   "metadata": {},
   "outputs": [
    {
     "data": {
      "text/html": [
       "<div>\n",
       "<style scoped>\n",
       "    .dataframe tbody tr th:only-of-type {\n",
       "        vertical-align: middle;\n",
       "    }\n",
       "\n",
       "    .dataframe tbody tr th {\n",
       "        vertical-align: top;\n",
       "    }\n",
       "\n",
       "    .dataframe thead th {\n",
       "        text-align: right;\n",
       "    }\n",
       "</style>\n",
       "<table border=\"1\" class=\"dataframe\">\n",
       "  <thead>\n",
       "    <tr style=\"text-align: right;\">\n",
       "      <th></th>\n",
       "      <th>A</th>\n",
       "      <th>B</th>\n",
       "      <th>C</th>\n",
       "      <th>D</th>\n",
       "    </tr>\n",
       "  </thead>\n",
       "  <tbody>\n",
       "    <tr>\n",
       "      <th>2000-01-08</th>\n",
       "      <td>-1.176178</td>\n",
       "      <td>-1.785371</td>\n",
       "      <td>1.026570</td>\n",
       "      <td>-0.777074</td>\n",
       "    </tr>\n",
       "    <tr>\n",
       "      <th>2000-01-07</th>\n",
       "      <td>0.441254</td>\n",
       "      <td>0.342900</td>\n",
       "      <td>-0.056793</td>\n",
       "      <td>-0.123316</td>\n",
       "    </tr>\n",
       "    <tr>\n",
       "      <th>2000-01-06</th>\n",
       "      <td>-0.170419</td>\n",
       "      <td>1.289759</td>\n",
       "      <td>-1.753947</td>\n",
       "      <td>-0.363281</td>\n",
       "    </tr>\n",
       "    <tr>\n",
       "      <th>2000-01-05</th>\n",
       "      <td>0.015499</td>\n",
       "      <td>-0.507142</td>\n",
       "      <td>-0.149214</td>\n",
       "      <td>-0.098744</td>\n",
       "    </tr>\n",
       "    <tr>\n",
       "      <th>2000-01-04</th>\n",
       "      <td>-1.318372</td>\n",
       "      <td>3.479382</td>\n",
       "      <td>-0.404830</td>\n",
       "      <td>0.176136</td>\n",
       "    </tr>\n",
       "    <tr>\n",
       "      <th>2000-01-03</th>\n",
       "      <td>-0.061993</td>\n",
       "      <td>-1.068872</td>\n",
       "      <td>0.751397</td>\n",
       "      <td>1.149348</td>\n",
       "    </tr>\n",
       "    <tr>\n",
       "      <th>2000-01-02</th>\n",
       "      <td>0.663604</td>\n",
       "      <td>0.436559</td>\n",
       "      <td>1.922213</td>\n",
       "      <td>-1.102994</td>\n",
       "    </tr>\n",
       "    <tr>\n",
       "      <th>2000-01-01</th>\n",
       "      <td>0.092699</td>\n",
       "      <td>-0.444414</td>\n",
       "      <td>0.174527</td>\n",
       "      <td>-0.240742</td>\n",
       "    </tr>\n",
       "  </tbody>\n",
       "</table>\n",
       "</div>"
      ],
      "text/plain": [
       "                   A         B         C         D\n",
       "2000-01-08 -1.176178 -1.785371  1.026570 -0.777074\n",
       "2000-01-07  0.441254  0.342900 -0.056793 -0.123316\n",
       "2000-01-06 -0.170419  1.289759 -1.753947 -0.363281\n",
       "2000-01-05  0.015499 -0.507142 -0.149214 -0.098744\n",
       "2000-01-04 -1.318372  3.479382 -0.404830  0.176136\n",
       "2000-01-03 -0.061993 -1.068872  0.751397  1.149348\n",
       "2000-01-02  0.663604  0.436559  1.922213 -1.102994\n",
       "2000-01-01  0.092699 -0.444414  0.174527 -0.240742"
      ]
     },
     "execution_count": 27,
     "metadata": {},
     "output_type": "execute_result"
    }
   ],
   "source": [
    "df[::-1]"
   ]
  },
  {
   "cell_type": "code",
   "execution_count": 28,
   "id": "829fc2b3",
   "metadata": {},
   "outputs": [
    {
     "data": {
      "text/html": [
       "<div>\n",
       "<style scoped>\n",
       "    .dataframe tbody tr th:only-of-type {\n",
       "        vertical-align: middle;\n",
       "    }\n",
       "\n",
       "    .dataframe tbody tr th {\n",
       "        vertical-align: top;\n",
       "    }\n",
       "\n",
       "    .dataframe thead th {\n",
       "        text-align: right;\n",
       "    }\n",
       "</style>\n",
       "<table border=\"1\" class=\"dataframe\">\n",
       "  <thead>\n",
       "    <tr style=\"text-align: right;\">\n",
       "      <th></th>\n",
       "      <th>A</th>\n",
       "      <th>B</th>\n",
       "      <th>C</th>\n",
       "      <th>D</th>\n",
       "    </tr>\n",
       "  </thead>\n",
       "  <tbody>\n",
       "    <tr>\n",
       "      <th>2000-01-01</th>\n",
       "      <td>0.092699</td>\n",
       "      <td>-0.444414</td>\n",
       "      <td>0.174527</td>\n",
       "      <td>-0.240742</td>\n",
       "    </tr>\n",
       "    <tr>\n",
       "      <th>2000-01-02</th>\n",
       "      <td>0.663604</td>\n",
       "      <td>0.436559</td>\n",
       "      <td>1.922213</td>\n",
       "      <td>-1.102994</td>\n",
       "    </tr>\n",
       "    <tr>\n",
       "      <th>2000-01-03</th>\n",
       "      <td>-0.061993</td>\n",
       "      <td>-1.068872</td>\n",
       "      <td>0.751397</td>\n",
       "      <td>1.149348</td>\n",
       "    </tr>\n",
       "    <tr>\n",
       "      <th>2000-01-04</th>\n",
       "      <td>-1.318372</td>\n",
       "      <td>3.479382</td>\n",
       "      <td>-0.404830</td>\n",
       "      <td>0.176136</td>\n",
       "    </tr>\n",
       "    <tr>\n",
       "      <th>2000-01-05</th>\n",
       "      <td>0.015499</td>\n",
       "      <td>-0.507142</td>\n",
       "      <td>-0.149214</td>\n",
       "      <td>-0.098744</td>\n",
       "    </tr>\n",
       "  </tbody>\n",
       "</table>\n",
       "</div>"
      ],
      "text/plain": [
       "                   A         B         C         D\n",
       "2000-01-01  0.092699 -0.444414  0.174527 -0.240742\n",
       "2000-01-02  0.663604  0.436559  1.922213 -1.102994\n",
       "2000-01-03 -0.061993 -1.068872  0.751397  1.149348\n",
       "2000-01-04 -1.318372  3.479382 -0.404830  0.176136\n",
       "2000-01-05  0.015499 -0.507142 -0.149214 -0.098744"
      ]
     },
     "execution_count": 28,
     "metadata": {},
     "output_type": "execute_result"
    }
   ],
   "source": [
    "df[:5]"
   ]
  },
  {
   "cell_type": "markdown",
   "id": "a642dd86",
   "metadata": {},
   "source": [
    "## Utilización de .loc"
   ]
  },
  {
   "cell_type": "markdown",
   "id": "e1c2ea7d",
   "metadata": {},
   "source": [
    "#### 1. Una sola etiqueta, p. 5 o 'a' (Tenga en cuenta que 5 se interpreta como una etiqueta del índice. Este uso no es una posición entera a lo largo del índice).\n",
    "\n",
    "#### 2. Una lista o matriz de etiquetas ['a', 'b', 'c'].\n",
    "\n",
    "#### 3. Un objeto de división con etiquetas 'a':'f' (Tenga en cuenta que, a diferencia de las divisiones habituales de Python, se incluyen tanto el inicio como el final, cuando están presentes en el índice. \n",
    "\n",
    "#### 4. Una matriz booleana.\n",
    "\n",
    "#### 5. Una llamada"
   ]
  },
  {
   "cell_type": "code",
   "execution_count": 29,
   "id": "3b2e554c",
   "metadata": {},
   "outputs": [],
   "source": [
    "s1 = pd.Series(np.random.randn(6), index=list('abcdef'))"
   ]
  },
  {
   "cell_type": "code",
   "execution_count": 30,
   "id": "c03cca60",
   "metadata": {},
   "outputs": [
    {
     "data": {
      "text/plain": [
       "a   -0.465915\n",
       "b    1.151499\n",
       "c   -1.781216\n",
       "d   -1.782958\n",
       "e    1.304598\n",
       "f    1.100123\n",
       "dtype: float64"
      ]
     },
     "execution_count": 30,
     "metadata": {},
     "output_type": "execute_result"
    }
   ],
   "source": [
    "s1"
   ]
  },
  {
   "cell_type": "code",
   "execution_count": 31,
   "id": "086a4815",
   "metadata": {},
   "outputs": [
    {
     "data": {
      "text/plain": [
       "c   -1.781216\n",
       "d   -1.782958\n",
       "e    1.304598\n",
       "f    1.100123\n",
       "dtype: float64"
      ]
     },
     "execution_count": 31,
     "metadata": {},
     "output_type": "execute_result"
    }
   ],
   "source": [
    "s1.loc['c':] #Utilizamos la etiqueta del índice para seleccionar"
   ]
  },
  {
   "cell_type": "code",
   "execution_count": 32,
   "id": "ba209acf",
   "metadata": {},
   "outputs": [],
   "source": [
    "df1 = pd.DataFrame(np.random.randn(6, 4),\n",
    "                   index=list('abcdef'),\n",
    "                   columns=list('ABCD'))"
   ]
  },
  {
   "cell_type": "code",
   "execution_count": 33,
   "id": "fb2bde48",
   "metadata": {},
   "outputs": [
    {
     "data": {
      "text/html": [
       "<div>\n",
       "<style scoped>\n",
       "    .dataframe tbody tr th:only-of-type {\n",
       "        vertical-align: middle;\n",
       "    }\n",
       "\n",
       "    .dataframe tbody tr th {\n",
       "        vertical-align: top;\n",
       "    }\n",
       "\n",
       "    .dataframe thead th {\n",
       "        text-align: right;\n",
       "    }\n",
       "</style>\n",
       "<table border=\"1\" class=\"dataframe\">\n",
       "  <thead>\n",
       "    <tr style=\"text-align: right;\">\n",
       "      <th></th>\n",
       "      <th>A</th>\n",
       "      <th>B</th>\n",
       "      <th>C</th>\n",
       "      <th>D</th>\n",
       "    </tr>\n",
       "  </thead>\n",
       "  <tbody>\n",
       "    <tr>\n",
       "      <th>a</th>\n",
       "      <td>0.440676</td>\n",
       "      <td>-0.201096</td>\n",
       "      <td>2.241299</td>\n",
       "      <td>-0.277111</td>\n",
       "    </tr>\n",
       "    <tr>\n",
       "      <th>b</th>\n",
       "      <td>0.693465</td>\n",
       "      <td>0.178171</td>\n",
       "      <td>1.303857</td>\n",
       "      <td>1.268093</td>\n",
       "    </tr>\n",
       "    <tr>\n",
       "      <th>c</th>\n",
       "      <td>1.552750</td>\n",
       "      <td>-1.028398</td>\n",
       "      <td>0.333942</td>\n",
       "      <td>0.074610</td>\n",
       "    </tr>\n",
       "    <tr>\n",
       "      <th>d</th>\n",
       "      <td>1.198208</td>\n",
       "      <td>-1.652554</td>\n",
       "      <td>0.775307</td>\n",
       "      <td>-0.478134</td>\n",
       "    </tr>\n",
       "    <tr>\n",
       "      <th>e</th>\n",
       "      <td>1.520358</td>\n",
       "      <td>1.159385</td>\n",
       "      <td>-0.981909</td>\n",
       "      <td>0.544544</td>\n",
       "    </tr>\n",
       "    <tr>\n",
       "      <th>f</th>\n",
       "      <td>-0.157574</td>\n",
       "      <td>-0.174047</td>\n",
       "      <td>1.485191</td>\n",
       "      <td>-0.037304</td>\n",
       "    </tr>\n",
       "  </tbody>\n",
       "</table>\n",
       "</div>"
      ],
      "text/plain": [
       "          A         B         C         D\n",
       "a  0.440676 -0.201096  2.241299 -0.277111\n",
       "b  0.693465  0.178171  1.303857  1.268093\n",
       "c  1.552750 -1.028398  0.333942  0.074610\n",
       "d  1.198208 -1.652554  0.775307 -0.478134\n",
       "e  1.520358  1.159385 -0.981909  0.544544\n",
       "f -0.157574 -0.174047  1.485191 -0.037304"
      ]
     },
     "execution_count": 33,
     "metadata": {},
     "output_type": "execute_result"
    }
   ],
   "source": [
    "df1"
   ]
  },
  {
   "cell_type": "code",
   "execution_count": 34,
   "id": "cbf360b6",
   "metadata": {},
   "outputs": [
    {
     "data": {
      "text/html": [
       "<div>\n",
       "<style scoped>\n",
       "    .dataframe tbody tr th:only-of-type {\n",
       "        vertical-align: middle;\n",
       "    }\n",
       "\n",
       "    .dataframe tbody tr th {\n",
       "        vertical-align: top;\n",
       "    }\n",
       "\n",
       "    .dataframe thead th {\n",
       "        text-align: right;\n",
       "    }\n",
       "</style>\n",
       "<table border=\"1\" class=\"dataframe\">\n",
       "  <thead>\n",
       "    <tr style=\"text-align: right;\">\n",
       "      <th></th>\n",
       "      <th>A</th>\n",
       "      <th>B</th>\n",
       "      <th>C</th>\n",
       "      <th>D</th>\n",
       "    </tr>\n",
       "  </thead>\n",
       "  <tbody>\n",
       "    <tr>\n",
       "      <th>a</th>\n",
       "      <td>0.440676</td>\n",
       "      <td>-0.201096</td>\n",
       "      <td>2.241299</td>\n",
       "      <td>-0.277111</td>\n",
       "    </tr>\n",
       "    <tr>\n",
       "      <th>b</th>\n",
       "      <td>0.693465</td>\n",
       "      <td>0.178171</td>\n",
       "      <td>1.303857</td>\n",
       "      <td>1.268093</td>\n",
       "    </tr>\n",
       "    <tr>\n",
       "      <th>d</th>\n",
       "      <td>1.198208</td>\n",
       "      <td>-1.652554</td>\n",
       "      <td>0.775307</td>\n",
       "      <td>-0.478134</td>\n",
       "    </tr>\n",
       "  </tbody>\n",
       "</table>\n",
       "</div>"
      ],
      "text/plain": [
       "          A         B         C         D\n",
       "a  0.440676 -0.201096  2.241299 -0.277111\n",
       "b  0.693465  0.178171  1.303857  1.268093\n",
       "d  1.198208 -1.652554  0.775307 -0.478134"
      ]
     },
     "execution_count": 34,
     "metadata": {},
     "output_type": "execute_result"
    }
   ],
   "source": [
    "df1.loc[['a', 'b', 'd'], :] #IMPORTANTE!!! Estás filtrando las filas(indices), no las columnas"
   ]
  },
  {
   "cell_type": "code",
   "execution_count": 35,
   "id": "32e6a4c9",
   "metadata": {},
   "outputs": [],
   "source": [
    "# Para filtrar filas y columnas al mismo tiempo, utilizamos una coma \",\"df1.loc['d':, 'A':'C']"
   ]
  },
  {
   "cell_type": "code",
   "execution_count": 36,
   "id": "08fb9ded",
   "metadata": {},
   "outputs": [
    {
     "data": {
      "text/plain": [
       "A    0.440676\n",
       "B   -0.201096\n",
       "C    2.241299\n",
       "D   -0.277111\n",
       "Name: a, dtype: float64"
      ]
     },
     "execution_count": 36,
     "metadata": {},
     "output_type": "execute_result"
    }
   ],
   "source": [
    "# Si seleccionamos una sola fila, el resultado es una Serie con los valores de todas las columnas\n",
    "df1.loc['a']"
   ]
  },
  {
   "cell_type": "code",
   "execution_count": 37,
   "id": "bf5e9a52",
   "metadata": {},
   "outputs": [
    {
     "data": {
      "text/plain": [
       "A     True\n",
       "B    False\n",
       "C     True\n",
       "D    False\n",
       "Name: a, dtype: bool"
      ]
     },
     "execution_count": 37,
     "metadata": {},
     "output_type": "execute_result"
    }
   ],
   "source": [
    "# Podemos utilizar condicionales, para obtener valores booleanos\n",
    "df1.loc['a'] > 0"
   ]
  },
  {
   "cell_type": "code",
   "execution_count": 38,
   "id": "05e57414",
   "metadata": {},
   "outputs": [
    {
     "data": {
      "text/html": [
       "<div>\n",
       "<style scoped>\n",
       "    .dataframe tbody tr th:only-of-type {\n",
       "        vertical-align: middle;\n",
       "    }\n",
       "\n",
       "    .dataframe tbody tr th {\n",
       "        vertical-align: top;\n",
       "    }\n",
       "\n",
       "    .dataframe thead th {\n",
       "        text-align: right;\n",
       "    }\n",
       "</style>\n",
       "<table border=\"1\" class=\"dataframe\">\n",
       "  <thead>\n",
       "    <tr style=\"text-align: right;\">\n",
       "      <th></th>\n",
       "      <th>A</th>\n",
       "      <th>C</th>\n",
       "    </tr>\n",
       "  </thead>\n",
       "  <tbody>\n",
       "    <tr>\n",
       "      <th>a</th>\n",
       "      <td>0.440676</td>\n",
       "      <td>2.241299</td>\n",
       "    </tr>\n",
       "    <tr>\n",
       "      <th>b</th>\n",
       "      <td>0.693465</td>\n",
       "      <td>1.303857</td>\n",
       "    </tr>\n",
       "    <tr>\n",
       "      <th>c</th>\n",
       "      <td>1.552750</td>\n",
       "      <td>0.333942</td>\n",
       "    </tr>\n",
       "    <tr>\n",
       "      <th>d</th>\n",
       "      <td>1.198208</td>\n",
       "      <td>0.775307</td>\n",
       "    </tr>\n",
       "    <tr>\n",
       "      <th>e</th>\n",
       "      <td>1.520358</td>\n",
       "      <td>-0.981909</td>\n",
       "    </tr>\n",
       "    <tr>\n",
       "      <th>f</th>\n",
       "      <td>-0.157574</td>\n",
       "      <td>1.485191</td>\n",
       "    </tr>\n",
       "  </tbody>\n",
       "</table>\n",
       "</div>"
      ],
      "text/plain": [
       "          A         C\n",
       "a  0.440676  2.241299\n",
       "b  0.693465  1.303857\n",
       "c  1.552750  0.333942\n",
       "d  1.198208  0.775307\n",
       "e  1.520358 -0.981909\n",
       "f -0.157574  1.485191"
      ]
     },
     "execution_count": 38,
     "metadata": {},
     "output_type": "execute_result"
    }
   ],
   "source": [
    "# También podemos aplicar esto a una sola columna\n",
    "df1.loc[:, df1.loc['a'] > 0]"
   ]
  },
  {
   "cell_type": "markdown",
   "id": "04193330",
   "metadata": {},
   "source": [
    "## Utilizar Slicing \":\"con .loc"
   ]
  },
  {
   "cell_type": "code",
   "execution_count": 39,
   "id": "0cd323ce",
   "metadata": {},
   "outputs": [],
   "source": [
    "s = pd.Series(list('abcde'), index=[0, 3, 2, 5, 4])"
   ]
  },
  {
   "cell_type": "code",
   "execution_count": 40,
   "id": "b1bf27a8",
   "metadata": {},
   "outputs": [
    {
     "data": {
      "text/plain": [
       "3    b\n",
       "2    c\n",
       "5    d\n",
       "dtype: object"
      ]
     },
     "execution_count": 40,
     "metadata": {},
     "output_type": "execute_result"
    }
   ],
   "source": [
    "s.loc[3:5]"
   ]
  },
  {
   "cell_type": "code",
   "execution_count": 41,
   "id": "a015e004",
   "metadata": {},
   "outputs": [
    {
     "data": {
      "text/plain": [
       "0    a\n",
       "2    c\n",
       "3    b\n",
       "4    e\n",
       "5    d\n",
       "dtype: object"
      ]
     },
     "execution_count": 41,
     "metadata": {},
     "output_type": "execute_result"
    }
   ],
   "source": [
    "# Podemos ordenar los indices con la funcion sort_index()\n",
    "s.sort_index()"
   ]
  },
  {
   "cell_type": "code",
   "execution_count": 42,
   "id": "bf9abc89",
   "metadata": {},
   "outputs": [
    {
     "data": {
      "text/plain": [
       "2    c\n",
       "3    b\n",
       "4    e\n",
       "5    d\n",
       "dtype: object"
      ]
     },
     "execution_count": 42,
     "metadata": {},
     "output_type": "execute_result"
    }
   ],
   "source": [
    "s.sort_index().loc[1:5]"
   ]
  },
  {
   "cell_type": "markdown",
   "id": "9158d74b",
   "metadata": {},
   "source": [
    "## Utilizacion de .iloc"
   ]
  },
  {
   "cell_type": "markdown",
   "id": "0649a272",
   "metadata": {},
   "source": [
    "#### 1. Un número entero, p. 5.\n",
    "\n",
    "#### 2. Una lista o matriz de enteros [4, 3, 0].\n",
    "\n",
    "#### 3. Un objeto slice con ints 1:7.\n",
    "\n",
    "#### 4. Una matriz booleana.\n",
    "\n",
    "#### 5. Una llamada"
   ]
  },
  {
   "cell_type": "code",
   "execution_count": 43,
   "id": "53040e75",
   "metadata": {},
   "outputs": [],
   "source": [
    "s1 = pd.Series(np.random.randn(5), index = list(range(0,10,2)))"
   ]
  },
  {
   "cell_type": "code",
   "execution_count": 44,
   "id": "3b2e04b0",
   "metadata": {},
   "outputs": [
    {
     "data": {
      "text/plain": [
       "0    1.166080\n",
       "2   -0.506771\n",
       "4    1.145933\n",
       "6   -1.788727\n",
       "8   -0.514567\n",
       "dtype: float64"
      ]
     },
     "execution_count": 44,
     "metadata": {},
     "output_type": "execute_result"
    }
   ],
   "source": [
    "s1"
   ]
  },
  {
   "cell_type": "code",
   "execution_count": 45,
   "id": "a97208a7",
   "metadata": {},
   "outputs": [
    {
     "data": {
      "text/plain": [
       "0    1.166080\n",
       "2   -0.506771\n",
       "4    1.145933\n",
       "dtype: float64"
      ]
     },
     "execution_count": 45,
     "metadata": {},
     "output_type": "execute_result"
    }
   ],
   "source": [
    "s1.iloc[:3] #Selecciona las primeras tres filas"
   ]
  },
  {
   "cell_type": "code",
   "execution_count": 46,
   "id": "1dd7320e",
   "metadata": {},
   "outputs": [
    {
     "data": {
      "text/plain": [
       "-1.7887271889494387"
      ]
     },
     "execution_count": 46,
     "metadata": {},
     "output_type": "execute_result"
    }
   ],
   "source": [
    "s1.iloc[3]"
   ]
  },
  {
   "cell_type": "code",
   "execution_count": 47,
   "id": "892eb09d",
   "metadata": {},
   "outputs": [],
   "source": [
    "df1 = pd.DataFrame(np.random.randn(6, 4),\n",
    "                   index=list(range(0, 12, 2)),\n",
    "                   columns=list(range(0, 8, 2)))"
   ]
  },
  {
   "cell_type": "code",
   "execution_count": 48,
   "id": "0eba80cb",
   "metadata": {},
   "outputs": [
    {
     "data": {
      "text/html": [
       "<div>\n",
       "<style scoped>\n",
       "    .dataframe tbody tr th:only-of-type {\n",
       "        vertical-align: middle;\n",
       "    }\n",
       "\n",
       "    .dataframe tbody tr th {\n",
       "        vertical-align: top;\n",
       "    }\n",
       "\n",
       "    .dataframe thead th {\n",
       "        text-align: right;\n",
       "    }\n",
       "</style>\n",
       "<table border=\"1\" class=\"dataframe\">\n",
       "  <thead>\n",
       "    <tr style=\"text-align: right;\">\n",
       "      <th></th>\n",
       "      <th>0</th>\n",
       "      <th>2</th>\n",
       "      <th>4</th>\n",
       "      <th>6</th>\n",
       "    </tr>\n",
       "  </thead>\n",
       "  <tbody>\n",
       "    <tr>\n",
       "      <th>0</th>\n",
       "      <td>1.372041</td>\n",
       "      <td>-0.698764</td>\n",
       "      <td>1.738250</td>\n",
       "      <td>0.492041</td>\n",
       "    </tr>\n",
       "    <tr>\n",
       "      <th>2</th>\n",
       "      <td>-0.286465</td>\n",
       "      <td>-0.990678</td>\n",
       "      <td>1.518135</td>\n",
       "      <td>-0.468345</td>\n",
       "    </tr>\n",
       "    <tr>\n",
       "      <th>4</th>\n",
       "      <td>0.490749</td>\n",
       "      <td>-0.042339</td>\n",
       "      <td>-0.811371</td>\n",
       "      <td>-0.236293</td>\n",
       "    </tr>\n",
       "    <tr>\n",
       "      <th>6</th>\n",
       "      <td>1.085562</td>\n",
       "      <td>-0.479003</td>\n",
       "      <td>-1.797569</td>\n",
       "      <td>0.797912</td>\n",
       "    </tr>\n",
       "    <tr>\n",
       "      <th>8</th>\n",
       "      <td>1.072545</td>\n",
       "      <td>-1.925848</td>\n",
       "      <td>0.491882</td>\n",
       "      <td>0.255314</td>\n",
       "    </tr>\n",
       "    <tr>\n",
       "      <th>10</th>\n",
       "      <td>-0.413104</td>\n",
       "      <td>-0.331840</td>\n",
       "      <td>-0.285896</td>\n",
       "      <td>-1.345478</td>\n",
       "    </tr>\n",
       "  </tbody>\n",
       "</table>\n",
       "</div>"
      ],
      "text/plain": [
       "           0         2         4         6\n",
       "0   1.372041 -0.698764  1.738250  0.492041\n",
       "2  -0.286465 -0.990678  1.518135 -0.468345\n",
       "4   0.490749 -0.042339 -0.811371 -0.236293\n",
       "6   1.085562 -0.479003 -1.797569  0.797912\n",
       "8   1.072545 -1.925848  0.491882  0.255314\n",
       "10 -0.413104 -0.331840 -0.285896 -1.345478"
      ]
     },
     "execution_count": 48,
     "metadata": {},
     "output_type": "execute_result"
    }
   ],
   "source": [
    "df1"
   ]
  },
  {
   "cell_type": "code",
   "execution_count": 49,
   "id": "ca432d58",
   "metadata": {},
   "outputs": [
    {
     "data": {
      "text/html": [
       "<div>\n",
       "<style scoped>\n",
       "    .dataframe tbody tr th:only-of-type {\n",
       "        vertical-align: middle;\n",
       "    }\n",
       "\n",
       "    .dataframe tbody tr th {\n",
       "        vertical-align: top;\n",
       "    }\n",
       "\n",
       "    .dataframe thead th {\n",
       "        text-align: right;\n",
       "    }\n",
       "</style>\n",
       "<table border=\"1\" class=\"dataframe\">\n",
       "  <thead>\n",
       "    <tr style=\"text-align: right;\">\n",
       "      <th></th>\n",
       "      <th>0</th>\n",
       "      <th>2</th>\n",
       "      <th>4</th>\n",
       "      <th>6</th>\n",
       "    </tr>\n",
       "  </thead>\n",
       "  <tbody>\n",
       "    <tr>\n",
       "      <th>0</th>\n",
       "      <td>1.372041</td>\n",
       "      <td>-0.698764</td>\n",
       "      <td>1.738250</td>\n",
       "      <td>0.492041</td>\n",
       "    </tr>\n",
       "    <tr>\n",
       "      <th>2</th>\n",
       "      <td>-0.286465</td>\n",
       "      <td>-0.990678</td>\n",
       "      <td>1.518135</td>\n",
       "      <td>-0.468345</td>\n",
       "    </tr>\n",
       "    <tr>\n",
       "      <th>4</th>\n",
       "      <td>0.490749</td>\n",
       "      <td>-0.042339</td>\n",
       "      <td>-0.811371</td>\n",
       "      <td>-0.236293</td>\n",
       "    </tr>\n",
       "  </tbody>\n",
       "</table>\n",
       "</div>"
      ],
      "text/plain": [
       "          0         2         4         6\n",
       "0  1.372041 -0.698764  1.738250  0.492041\n",
       "2 -0.286465 -0.990678  1.518135 -0.468345\n",
       "4  0.490749 -0.042339 -0.811371 -0.236293"
      ]
     },
     "execution_count": 49,
     "metadata": {},
     "output_type": "execute_result"
    }
   ],
   "source": [
    "df1.iloc[:3]"
   ]
  },
  {
   "cell_type": "code",
   "execution_count": 50,
   "id": "97267dcd",
   "metadata": {},
   "outputs": [
    {
     "data": {
      "text/html": [
       "<div>\n",
       "<style scoped>\n",
       "    .dataframe tbody tr th:only-of-type {\n",
       "        vertical-align: middle;\n",
       "    }\n",
       "\n",
       "    .dataframe tbody tr th {\n",
       "        vertical-align: top;\n",
       "    }\n",
       "\n",
       "    .dataframe thead th {\n",
       "        text-align: right;\n",
       "    }\n",
       "</style>\n",
       "<table border=\"1\" class=\"dataframe\">\n",
       "  <thead>\n",
       "    <tr style=\"text-align: right;\">\n",
       "      <th></th>\n",
       "      <th>0</th>\n",
       "      <th>2</th>\n",
       "      <th>4</th>\n",
       "      <th>6</th>\n",
       "    </tr>\n",
       "  </thead>\n",
       "  <tbody>\n",
       "    <tr>\n",
       "      <th>2</th>\n",
       "      <td>-0.286465</td>\n",
       "      <td>-0.990678</td>\n",
       "      <td>1.518135</td>\n",
       "      <td>-0.468345</td>\n",
       "    </tr>\n",
       "    <tr>\n",
       "      <th>4</th>\n",
       "      <td>0.490749</td>\n",
       "      <td>-0.042339</td>\n",
       "      <td>-0.811371</td>\n",
       "      <td>-0.236293</td>\n",
       "    </tr>\n",
       "  </tbody>\n",
       "</table>\n",
       "</div>"
      ],
      "text/plain": [
       "          0         2         4         6\n",
       "2 -0.286465 -0.990678  1.518135 -0.468345\n",
       "4  0.490749 -0.042339 -0.811371 -0.236293"
      ]
     },
     "execution_count": 50,
     "metadata": {},
     "output_type": "execute_result"
    }
   ],
   "source": [
    "df1.iloc[1:3]"
   ]
  },
  {
   "cell_type": "code",
   "execution_count": 51,
   "id": "cc8a6256",
   "metadata": {},
   "outputs": [
    {
     "data": {
      "text/html": [
       "<div>\n",
       "<style scoped>\n",
       "    .dataframe tbody tr th:only-of-type {\n",
       "        vertical-align: middle;\n",
       "    }\n",
       "\n",
       "    .dataframe tbody tr th {\n",
       "        vertical-align: top;\n",
       "    }\n",
       "\n",
       "    .dataframe thead th {\n",
       "        text-align: right;\n",
       "    }\n",
       "</style>\n",
       "<table border=\"1\" class=\"dataframe\">\n",
       "  <thead>\n",
       "    <tr style=\"text-align: right;\">\n",
       "      <th></th>\n",
       "      <th>4</th>\n",
       "      <th>6</th>\n",
       "    </tr>\n",
       "  </thead>\n",
       "  <tbody>\n",
       "    <tr>\n",
       "      <th>2</th>\n",
       "      <td>1.518135</td>\n",
       "      <td>-0.468345</td>\n",
       "    </tr>\n",
       "    <tr>\n",
       "      <th>4</th>\n",
       "      <td>-0.811371</td>\n",
       "      <td>-0.236293</td>\n",
       "    </tr>\n",
       "    <tr>\n",
       "      <th>6</th>\n",
       "      <td>-1.797569</td>\n",
       "      <td>0.797912</td>\n",
       "    </tr>\n",
       "    <tr>\n",
       "      <th>8</th>\n",
       "      <td>0.491882</td>\n",
       "      <td>0.255314</td>\n",
       "    </tr>\n",
       "  </tbody>\n",
       "</table>\n",
       "</div>"
      ],
      "text/plain": [
       "          4         6\n",
       "2  1.518135 -0.468345\n",
       "4 -0.811371 -0.236293\n",
       "6 -1.797569  0.797912\n",
       "8  0.491882  0.255314"
      ]
     },
     "execution_count": 51,
     "metadata": {},
     "output_type": "execute_result"
    }
   ],
   "source": [
    "# Para selecionar filas y columnas, separamos con una coma\n",
    "df1.iloc[1:5, 2:4]"
   ]
  },
  {
   "cell_type": "code",
   "execution_count": 52,
   "id": "696cfb3c",
   "metadata": {},
   "outputs": [
    {
     "data": {
      "text/html": [
       "<div>\n",
       "<style scoped>\n",
       "    .dataframe tbody tr th:only-of-type {\n",
       "        vertical-align: middle;\n",
       "    }\n",
       "\n",
       "    .dataframe tbody tr th {\n",
       "        vertical-align: top;\n",
       "    }\n",
       "\n",
       "    .dataframe thead th {\n",
       "        text-align: right;\n",
       "    }\n",
       "</style>\n",
       "<table border=\"1\" class=\"dataframe\">\n",
       "  <thead>\n",
       "    <tr style=\"text-align: right;\">\n",
       "      <th></th>\n",
       "      <th>2</th>\n",
       "      <th>6</th>\n",
       "    </tr>\n",
       "  </thead>\n",
       "  <tbody>\n",
       "    <tr>\n",
       "      <th>2</th>\n",
       "      <td>-0.990678</td>\n",
       "      <td>-0.468345</td>\n",
       "    </tr>\n",
       "    <tr>\n",
       "      <th>6</th>\n",
       "      <td>-0.479003</td>\n",
       "      <td>0.797912</td>\n",
       "    </tr>\n",
       "    <tr>\n",
       "      <th>10</th>\n",
       "      <td>-0.331840</td>\n",
       "      <td>-1.345478</td>\n",
       "    </tr>\n",
       "  </tbody>\n",
       "</table>\n",
       "</div>"
      ],
      "text/plain": [
       "           2         6\n",
       "2  -0.990678 -0.468345\n",
       "6  -0.479003  0.797912\n",
       "10 -0.331840 -1.345478"
      ]
     },
     "execution_count": 52,
     "metadata": {},
     "output_type": "execute_result"
    }
   ],
   "source": [
    "# Podemos hacer la seleccion a traves de una lista\n",
    "df1.iloc[[1, 3, 5], [1, 3]]"
   ]
  },
  {
   "cell_type": "code",
   "execution_count": 53,
   "id": "1be75043",
   "metadata": {},
   "outputs": [
    {
     "data": {
      "text/html": [
       "<div>\n",
       "<style scoped>\n",
       "    .dataframe tbody tr th:only-of-type {\n",
       "        vertical-align: middle;\n",
       "    }\n",
       "\n",
       "    .dataframe tbody tr th {\n",
       "        vertical-align: top;\n",
       "    }\n",
       "\n",
       "    .dataframe thead th {\n",
       "        text-align: right;\n",
       "    }\n",
       "</style>\n",
       "<table border=\"1\" class=\"dataframe\">\n",
       "  <thead>\n",
       "    <tr style=\"text-align: right;\">\n",
       "      <th></th>\n",
       "      <th>0</th>\n",
       "      <th>2</th>\n",
       "      <th>4</th>\n",
       "      <th>6</th>\n",
       "    </tr>\n",
       "  </thead>\n",
       "  <tbody>\n",
       "    <tr>\n",
       "      <th>2</th>\n",
       "      <td>-0.286465</td>\n",
       "      <td>-0.990678</td>\n",
       "      <td>1.518135</td>\n",
       "      <td>-0.468345</td>\n",
       "    </tr>\n",
       "    <tr>\n",
       "      <th>4</th>\n",
       "      <td>0.490749</td>\n",
       "      <td>-0.042339</td>\n",
       "      <td>-0.811371</td>\n",
       "      <td>-0.236293</td>\n",
       "    </tr>\n",
       "  </tbody>\n",
       "</table>\n",
       "</div>"
      ],
      "text/plain": [
       "          0         2         4         6\n",
       "2 -0.286465 -0.990678  1.518135 -0.468345\n",
       "4  0.490749 -0.042339 -0.811371 -0.236293"
      ]
     },
     "execution_count": 53,
     "metadata": {},
     "output_type": "execute_result"
    }
   ],
   "source": [
    "df1.iloc[1:3, :] #Solo las filas 2 y 4"
   ]
  },
  {
   "cell_type": "code",
   "execution_count": 54,
   "id": "fbf2f4e0",
   "metadata": {},
   "outputs": [
    {
     "data": {
      "text/html": [
       "<div>\n",
       "<style scoped>\n",
       "    .dataframe tbody tr th:only-of-type {\n",
       "        vertical-align: middle;\n",
       "    }\n",
       "\n",
       "    .dataframe tbody tr th {\n",
       "        vertical-align: top;\n",
       "    }\n",
       "\n",
       "    .dataframe thead th {\n",
       "        text-align: right;\n",
       "    }\n",
       "</style>\n",
       "<table border=\"1\" class=\"dataframe\">\n",
       "  <thead>\n",
       "    <tr style=\"text-align: right;\">\n",
       "      <th></th>\n",
       "      <th>2</th>\n",
       "      <th>4</th>\n",
       "    </tr>\n",
       "  </thead>\n",
       "  <tbody>\n",
       "    <tr>\n",
       "      <th>0</th>\n",
       "      <td>-0.698764</td>\n",
       "      <td>1.738250</td>\n",
       "    </tr>\n",
       "    <tr>\n",
       "      <th>2</th>\n",
       "      <td>-0.990678</td>\n",
       "      <td>1.518135</td>\n",
       "    </tr>\n",
       "    <tr>\n",
       "      <th>4</th>\n",
       "      <td>-0.042339</td>\n",
       "      <td>-0.811371</td>\n",
       "    </tr>\n",
       "    <tr>\n",
       "      <th>6</th>\n",
       "      <td>-0.479003</td>\n",
       "      <td>-1.797569</td>\n",
       "    </tr>\n",
       "    <tr>\n",
       "      <th>8</th>\n",
       "      <td>-1.925848</td>\n",
       "      <td>0.491882</td>\n",
       "    </tr>\n",
       "    <tr>\n",
       "      <th>10</th>\n",
       "      <td>-0.331840</td>\n",
       "      <td>-0.285896</td>\n",
       "    </tr>\n",
       "  </tbody>\n",
       "</table>\n",
       "</div>"
      ],
      "text/plain": [
       "           2         4\n",
       "0  -0.698764  1.738250\n",
       "2  -0.990678  1.518135\n",
       "4  -0.042339 -0.811371\n",
       "6  -0.479003 -1.797569\n",
       "8  -1.925848  0.491882\n",
       "10 -0.331840 -0.285896"
      ]
     },
     "execution_count": 54,
     "metadata": {},
     "output_type": "execute_result"
    }
   ],
   "source": [
    "df1.iloc[:, 1:3] # Solo las columnas 2 y 4"
   ]
  },
  {
   "cell_type": "code",
   "execution_count": 55,
   "id": "71f73f7d",
   "metadata": {},
   "outputs": [
    {
     "data": {
      "text/plain": [
       "-0.9906783201855823"
      ]
     },
     "execution_count": 55,
     "metadata": {},
     "output_type": "execute_result"
    }
   ],
   "source": [
    "# Ejemplo de seleccion unica por posicion\n",
    "df1.iloc[1,1]"
   ]
  },
  {
   "cell_type": "code",
   "execution_count": 56,
   "id": "c7fdceb8",
   "metadata": {},
   "outputs": [
    {
     "data": {
      "text/plain": [
       "0   -0.286465\n",
       "2   -0.990678\n",
       "4    1.518135\n",
       "6   -0.468345\n",
       "Name: 2, dtype: float64"
      ]
     },
     "execution_count": 56,
     "metadata": {},
     "output_type": "execute_result"
    }
   ],
   "source": [
    "df1.iloc[1]"
   ]
  },
  {
   "cell_type": "markdown",
   "id": "105f0079",
   "metadata": {},
   "source": [
    "## Selección por llamadas - Funciones lambda"
   ]
  },
  {
   "cell_type": "markdown",
   "id": "edfe3349",
   "metadata": {},
   "source": [
    "#### Para aplicar llamadas podemos utilizar .loc, .iloc, y [ ]"
   ]
  },
  {
   "cell_type": "code",
   "execution_count": 57,
   "id": "e5f5c587",
   "metadata": {},
   "outputs": [],
   "source": [
    "df1 = pd.DataFrame(np.random.randn(6, 4),\n",
    "                   index=list('abcdef'),\n",
    "                   columns=list('ABCD'))"
   ]
  },
  {
   "cell_type": "code",
   "execution_count": 58,
   "id": "1e1e9eee",
   "metadata": {},
   "outputs": [
    {
     "data": {
      "text/html": [
       "<div>\n",
       "<style scoped>\n",
       "    .dataframe tbody tr th:only-of-type {\n",
       "        vertical-align: middle;\n",
       "    }\n",
       "\n",
       "    .dataframe tbody tr th {\n",
       "        vertical-align: top;\n",
       "    }\n",
       "\n",
       "    .dataframe thead th {\n",
       "        text-align: right;\n",
       "    }\n",
       "</style>\n",
       "<table border=\"1\" class=\"dataframe\">\n",
       "  <thead>\n",
       "    <tr style=\"text-align: right;\">\n",
       "      <th></th>\n",
       "      <th>A</th>\n",
       "      <th>B</th>\n",
       "      <th>C</th>\n",
       "      <th>D</th>\n",
       "    </tr>\n",
       "  </thead>\n",
       "  <tbody>\n",
       "    <tr>\n",
       "      <th>a</th>\n",
       "      <td>1.305424</td>\n",
       "      <td>-0.073249</td>\n",
       "      <td>-0.475637</td>\n",
       "      <td>-1.445507</td>\n",
       "    </tr>\n",
       "    <tr>\n",
       "      <th>b</th>\n",
       "      <td>-0.289428</td>\n",
       "      <td>0.437761</td>\n",
       "      <td>-1.400539</td>\n",
       "      <td>1.282451</td>\n",
       "    </tr>\n",
       "    <tr>\n",
       "      <th>c</th>\n",
       "      <td>-1.902521</td>\n",
       "      <td>1.356870</td>\n",
       "      <td>0.182237</td>\n",
       "      <td>0.348374</td>\n",
       "    </tr>\n",
       "    <tr>\n",
       "      <th>d</th>\n",
       "      <td>0.178775</td>\n",
       "      <td>0.516251</td>\n",
       "      <td>-1.025684</td>\n",
       "      <td>-0.862538</td>\n",
       "    </tr>\n",
       "    <tr>\n",
       "      <th>e</th>\n",
       "      <td>-0.271540</td>\n",
       "      <td>1.326644</td>\n",
       "      <td>0.847479</td>\n",
       "      <td>-1.403334</td>\n",
       "    </tr>\n",
       "    <tr>\n",
       "      <th>f</th>\n",
       "      <td>-0.071675</td>\n",
       "      <td>2.519518</td>\n",
       "      <td>0.349717</td>\n",
       "      <td>0.314905</td>\n",
       "    </tr>\n",
       "  </tbody>\n",
       "</table>\n",
       "</div>"
      ],
      "text/plain": [
       "          A         B         C         D\n",
       "a  1.305424 -0.073249 -0.475637 -1.445507\n",
       "b -0.289428  0.437761 -1.400539  1.282451\n",
       "c -1.902521  1.356870  0.182237  0.348374\n",
       "d  0.178775  0.516251 -1.025684 -0.862538\n",
       "e -0.271540  1.326644  0.847479 -1.403334\n",
       "f -0.071675  2.519518  0.349717  0.314905"
      ]
     },
     "execution_count": 58,
     "metadata": {},
     "output_type": "execute_result"
    }
   ],
   "source": [
    "df1"
   ]
  },
  {
   "cell_type": "code",
   "execution_count": 59,
   "id": "a0bed4fe",
   "metadata": {},
   "outputs": [
    {
     "data": {
      "text/html": [
       "<div>\n",
       "<style scoped>\n",
       "    .dataframe tbody tr th:only-of-type {\n",
       "        vertical-align: middle;\n",
       "    }\n",
       "\n",
       "    .dataframe tbody tr th {\n",
       "        vertical-align: top;\n",
       "    }\n",
       "\n",
       "    .dataframe thead th {\n",
       "        text-align: right;\n",
       "    }\n",
       "</style>\n",
       "<table border=\"1\" class=\"dataframe\">\n",
       "  <thead>\n",
       "    <tr style=\"text-align: right;\">\n",
       "      <th></th>\n",
       "      <th>A</th>\n",
       "      <th>B</th>\n",
       "      <th>C</th>\n",
       "      <th>D</th>\n",
       "    </tr>\n",
       "  </thead>\n",
       "  <tbody>\n",
       "    <tr>\n",
       "      <th>a</th>\n",
       "      <td>1.305424</td>\n",
       "      <td>-0.073249</td>\n",
       "      <td>-0.475637</td>\n",
       "      <td>-1.445507</td>\n",
       "    </tr>\n",
       "    <tr>\n",
       "      <th>d</th>\n",
       "      <td>0.178775</td>\n",
       "      <td>0.516251</td>\n",
       "      <td>-1.025684</td>\n",
       "      <td>-0.862538</td>\n",
       "    </tr>\n",
       "  </tbody>\n",
       "</table>\n",
       "</div>"
      ],
      "text/plain": [
       "          A         B         C         D\n",
       "a  1.305424 -0.073249 -0.475637 -1.445507\n",
       "d  0.178775  0.516251 -1.025684 -0.862538"
      ]
     },
     "execution_count": 59,
     "metadata": {},
     "output_type": "execute_result"
    }
   ],
   "source": [
    "df1.loc[lambda df: df['A'] > 0, :]"
   ]
  },
  {
   "cell_type": "code",
   "execution_count": 60,
   "id": "528a4151",
   "metadata": {},
   "outputs": [
    {
     "data": {
      "text/html": [
       "<div>\n",
       "<style scoped>\n",
       "    .dataframe tbody tr th:only-of-type {\n",
       "        vertical-align: middle;\n",
       "    }\n",
       "\n",
       "    .dataframe tbody tr th {\n",
       "        vertical-align: top;\n",
       "    }\n",
       "\n",
       "    .dataframe thead th {\n",
       "        text-align: right;\n",
       "    }\n",
       "</style>\n",
       "<table border=\"1\" class=\"dataframe\">\n",
       "  <thead>\n",
       "    <tr style=\"text-align: right;\">\n",
       "      <th></th>\n",
       "      <th>A</th>\n",
       "      <th>B</th>\n",
       "    </tr>\n",
       "  </thead>\n",
       "  <tbody>\n",
       "    <tr>\n",
       "      <th>a</th>\n",
       "      <td>1.305424</td>\n",
       "      <td>-0.073249</td>\n",
       "    </tr>\n",
       "    <tr>\n",
       "      <th>b</th>\n",
       "      <td>-0.289428</td>\n",
       "      <td>0.437761</td>\n",
       "    </tr>\n",
       "    <tr>\n",
       "      <th>c</th>\n",
       "      <td>-1.902521</td>\n",
       "      <td>1.356870</td>\n",
       "    </tr>\n",
       "    <tr>\n",
       "      <th>d</th>\n",
       "      <td>0.178775</td>\n",
       "      <td>0.516251</td>\n",
       "    </tr>\n",
       "    <tr>\n",
       "      <th>e</th>\n",
       "      <td>-0.271540</td>\n",
       "      <td>1.326644</td>\n",
       "    </tr>\n",
       "    <tr>\n",
       "      <th>f</th>\n",
       "      <td>-0.071675</td>\n",
       "      <td>2.519518</td>\n",
       "    </tr>\n",
       "  </tbody>\n",
       "</table>\n",
       "</div>"
      ],
      "text/plain": [
       "          A         B\n",
       "a  1.305424 -0.073249\n",
       "b -0.289428  0.437761\n",
       "c -1.902521  1.356870\n",
       "d  0.178775  0.516251\n",
       "e -0.271540  1.326644\n",
       "f -0.071675  2.519518"
      ]
     },
     "execution_count": 60,
     "metadata": {},
     "output_type": "execute_result"
    }
   ],
   "source": [
    "df1.loc[:, lambda df: ['A', 'B']]"
   ]
  },
  {
   "cell_type": "code",
   "execution_count": 61,
   "id": "b98f7237",
   "metadata": {},
   "outputs": [
    {
     "data": {
      "text/html": [
       "<div>\n",
       "<style scoped>\n",
       "    .dataframe tbody tr th:only-of-type {\n",
       "        vertical-align: middle;\n",
       "    }\n",
       "\n",
       "    .dataframe tbody tr th {\n",
       "        vertical-align: top;\n",
       "    }\n",
       "\n",
       "    .dataframe thead th {\n",
       "        text-align: right;\n",
       "    }\n",
       "</style>\n",
       "<table border=\"1\" class=\"dataframe\">\n",
       "  <thead>\n",
       "    <tr style=\"text-align: right;\">\n",
       "      <th></th>\n",
       "      <th>A</th>\n",
       "      <th>B</th>\n",
       "    </tr>\n",
       "  </thead>\n",
       "  <tbody>\n",
       "    <tr>\n",
       "      <th>a</th>\n",
       "      <td>1.305424</td>\n",
       "      <td>-0.073249</td>\n",
       "    </tr>\n",
       "    <tr>\n",
       "      <th>b</th>\n",
       "      <td>-0.289428</td>\n",
       "      <td>0.437761</td>\n",
       "    </tr>\n",
       "    <tr>\n",
       "      <th>c</th>\n",
       "      <td>-1.902521</td>\n",
       "      <td>1.356870</td>\n",
       "    </tr>\n",
       "    <tr>\n",
       "      <th>d</th>\n",
       "      <td>0.178775</td>\n",
       "      <td>0.516251</td>\n",
       "    </tr>\n",
       "    <tr>\n",
       "      <th>e</th>\n",
       "      <td>-0.271540</td>\n",
       "      <td>1.326644</td>\n",
       "    </tr>\n",
       "    <tr>\n",
       "      <th>f</th>\n",
       "      <td>-0.071675</td>\n",
       "      <td>2.519518</td>\n",
       "    </tr>\n",
       "  </tbody>\n",
       "</table>\n",
       "</div>"
      ],
      "text/plain": [
       "          A         B\n",
       "a  1.305424 -0.073249\n",
       "b -0.289428  0.437761\n",
       "c -1.902521  1.356870\n",
       "d  0.178775  0.516251\n",
       "e -0.271540  1.326644\n",
       "f -0.071675  2.519518"
      ]
     },
     "execution_count": 61,
     "metadata": {},
     "output_type": "execute_result"
    }
   ],
   "source": [
    "df1.iloc[:, lambda df: [0, 1]]"
   ]
  },
  {
   "cell_type": "code",
   "execution_count": 62,
   "id": "138489a6",
   "metadata": {},
   "outputs": [
    {
     "data": {
      "text/plain": [
       "a    1.305424\n",
       "b   -0.289428\n",
       "c   -1.902521\n",
       "d    0.178775\n",
       "e   -0.271540\n",
       "f   -0.071675\n",
       "Name: A, dtype: float64"
      ]
     },
     "execution_count": 62,
     "metadata": {},
     "output_type": "execute_result"
    }
   ],
   "source": [
    "df1[lambda df: df.columns[0]]"
   ]
  },
  {
   "cell_type": "code",
   "execution_count": 63,
   "id": "dfbf9b71",
   "metadata": {},
   "outputs": [
    {
     "data": {
      "text/plain": [
       "a    1.305424\n",
       "d    0.178775\n",
       "Name: A, dtype: float64"
      ]
     },
     "execution_count": 63,
     "metadata": {},
     "output_type": "execute_result"
    }
   ],
   "source": [
    "df1['A'].loc[lambda s: s > 0]"
   ]
  },
  {
   "cell_type": "code",
   "execution_count": 64,
   "id": "88600ed4",
   "metadata": {},
   "outputs": [],
   "source": [
    "raw_baseball_url = \"https://raw.githubusercontent.com/pandas-dev/pandas/master/doc/data/baseball.csv\""
   ]
  },
  {
   "cell_type": "code",
   "execution_count": 65,
   "id": "2123bd15",
   "metadata": {},
   "outputs": [],
   "source": [
    "bb = pd.read_csv(raw_baseball_url)"
   ]
  },
  {
   "cell_type": "code",
   "execution_count": 66,
   "id": "647d16c0",
   "metadata": {},
   "outputs": [
    {
     "data": {
      "text/html": [
       "<div>\n",
       "<style scoped>\n",
       "    .dataframe tbody tr th:only-of-type {\n",
       "        vertical-align: middle;\n",
       "    }\n",
       "\n",
       "    .dataframe tbody tr th {\n",
       "        vertical-align: top;\n",
       "    }\n",
       "\n",
       "    .dataframe thead th {\n",
       "        text-align: right;\n",
       "    }\n",
       "</style>\n",
       "<table border=\"1\" class=\"dataframe\">\n",
       "  <thead>\n",
       "    <tr style=\"text-align: right;\">\n",
       "      <th></th>\n",
       "      <th>id</th>\n",
       "      <th>player</th>\n",
       "      <th>year</th>\n",
       "      <th>stint</th>\n",
       "      <th>team</th>\n",
       "      <th>lg</th>\n",
       "      <th>g</th>\n",
       "      <th>ab</th>\n",
       "      <th>r</th>\n",
       "      <th>h</th>\n",
       "      <th>...</th>\n",
       "      <th>rbi</th>\n",
       "      <th>sb</th>\n",
       "      <th>cs</th>\n",
       "      <th>bb</th>\n",
       "      <th>so</th>\n",
       "      <th>ibb</th>\n",
       "      <th>hbp</th>\n",
       "      <th>sh</th>\n",
       "      <th>sf</th>\n",
       "      <th>gidp</th>\n",
       "    </tr>\n",
       "  </thead>\n",
       "  <tbody>\n",
       "    <tr>\n",
       "      <th>0</th>\n",
       "      <td>88641</td>\n",
       "      <td>womacto01</td>\n",
       "      <td>2006</td>\n",
       "      <td>2</td>\n",
       "      <td>CHN</td>\n",
       "      <td>NL</td>\n",
       "      <td>19</td>\n",
       "      <td>50</td>\n",
       "      <td>6</td>\n",
       "      <td>14</td>\n",
       "      <td>...</td>\n",
       "      <td>2.0</td>\n",
       "      <td>1.0</td>\n",
       "      <td>1.0</td>\n",
       "      <td>4</td>\n",
       "      <td>4.0</td>\n",
       "      <td>0.0</td>\n",
       "      <td>0.0</td>\n",
       "      <td>3.0</td>\n",
       "      <td>0.0</td>\n",
       "      <td>0.0</td>\n",
       "    </tr>\n",
       "    <tr>\n",
       "      <th>1</th>\n",
       "      <td>88643</td>\n",
       "      <td>schilcu01</td>\n",
       "      <td>2006</td>\n",
       "      <td>1</td>\n",
       "      <td>BOS</td>\n",
       "      <td>AL</td>\n",
       "      <td>31</td>\n",
       "      <td>2</td>\n",
       "      <td>0</td>\n",
       "      <td>1</td>\n",
       "      <td>...</td>\n",
       "      <td>0.0</td>\n",
       "      <td>0.0</td>\n",
       "      <td>0.0</td>\n",
       "      <td>0</td>\n",
       "      <td>1.0</td>\n",
       "      <td>0.0</td>\n",
       "      <td>0.0</td>\n",
       "      <td>0.0</td>\n",
       "      <td>0.0</td>\n",
       "      <td>0.0</td>\n",
       "    </tr>\n",
       "    <tr>\n",
       "      <th>2</th>\n",
       "      <td>88645</td>\n",
       "      <td>myersmi01</td>\n",
       "      <td>2006</td>\n",
       "      <td>1</td>\n",
       "      <td>NYA</td>\n",
       "      <td>AL</td>\n",
       "      <td>62</td>\n",
       "      <td>0</td>\n",
       "      <td>0</td>\n",
       "      <td>0</td>\n",
       "      <td>...</td>\n",
       "      <td>0.0</td>\n",
       "      <td>0.0</td>\n",
       "      <td>0.0</td>\n",
       "      <td>0</td>\n",
       "      <td>0.0</td>\n",
       "      <td>0.0</td>\n",
       "      <td>0.0</td>\n",
       "      <td>0.0</td>\n",
       "      <td>0.0</td>\n",
       "      <td>0.0</td>\n",
       "    </tr>\n",
       "    <tr>\n",
       "      <th>3</th>\n",
       "      <td>88649</td>\n",
       "      <td>helliri01</td>\n",
       "      <td>2006</td>\n",
       "      <td>1</td>\n",
       "      <td>MIL</td>\n",
       "      <td>NL</td>\n",
       "      <td>20</td>\n",
       "      <td>3</td>\n",
       "      <td>0</td>\n",
       "      <td>0</td>\n",
       "      <td>...</td>\n",
       "      <td>0.0</td>\n",
       "      <td>0.0</td>\n",
       "      <td>0.0</td>\n",
       "      <td>0</td>\n",
       "      <td>2.0</td>\n",
       "      <td>0.0</td>\n",
       "      <td>0.0</td>\n",
       "      <td>0.0</td>\n",
       "      <td>0.0</td>\n",
       "      <td>0.0</td>\n",
       "    </tr>\n",
       "    <tr>\n",
       "      <th>4</th>\n",
       "      <td>88650</td>\n",
       "      <td>johnsra05</td>\n",
       "      <td>2006</td>\n",
       "      <td>1</td>\n",
       "      <td>NYA</td>\n",
       "      <td>AL</td>\n",
       "      <td>33</td>\n",
       "      <td>6</td>\n",
       "      <td>0</td>\n",
       "      <td>1</td>\n",
       "      <td>...</td>\n",
       "      <td>0.0</td>\n",
       "      <td>0.0</td>\n",
       "      <td>0.0</td>\n",
       "      <td>0</td>\n",
       "      <td>4.0</td>\n",
       "      <td>0.0</td>\n",
       "      <td>0.0</td>\n",
       "      <td>0.0</td>\n",
       "      <td>0.0</td>\n",
       "      <td>0.0</td>\n",
       "    </tr>\n",
       "    <tr>\n",
       "      <th>...</th>\n",
       "      <td>...</td>\n",
       "      <td>...</td>\n",
       "      <td>...</td>\n",
       "      <td>...</td>\n",
       "      <td>...</td>\n",
       "      <td>...</td>\n",
       "      <td>...</td>\n",
       "      <td>...</td>\n",
       "      <td>...</td>\n",
       "      <td>...</td>\n",
       "      <td>...</td>\n",
       "      <td>...</td>\n",
       "      <td>...</td>\n",
       "      <td>...</td>\n",
       "      <td>...</td>\n",
       "      <td>...</td>\n",
       "      <td>...</td>\n",
       "      <td>...</td>\n",
       "      <td>...</td>\n",
       "      <td>...</td>\n",
       "      <td>...</td>\n",
       "    </tr>\n",
       "    <tr>\n",
       "      <th>95</th>\n",
       "      <td>89525</td>\n",
       "      <td>benitar01</td>\n",
       "      <td>2007</td>\n",
       "      <td>2</td>\n",
       "      <td>FLO</td>\n",
       "      <td>NL</td>\n",
       "      <td>34</td>\n",
       "      <td>0</td>\n",
       "      <td>0</td>\n",
       "      <td>0</td>\n",
       "      <td>...</td>\n",
       "      <td>0.0</td>\n",
       "      <td>0.0</td>\n",
       "      <td>0.0</td>\n",
       "      <td>0</td>\n",
       "      <td>0.0</td>\n",
       "      <td>0.0</td>\n",
       "      <td>0.0</td>\n",
       "      <td>0.0</td>\n",
       "      <td>0.0</td>\n",
       "      <td>0.0</td>\n",
       "    </tr>\n",
       "    <tr>\n",
       "      <th>96</th>\n",
       "      <td>89526</td>\n",
       "      <td>benitar01</td>\n",
       "      <td>2007</td>\n",
       "      <td>1</td>\n",
       "      <td>SFN</td>\n",
       "      <td>NL</td>\n",
       "      <td>19</td>\n",
       "      <td>0</td>\n",
       "      <td>0</td>\n",
       "      <td>0</td>\n",
       "      <td>...</td>\n",
       "      <td>0.0</td>\n",
       "      <td>0.0</td>\n",
       "      <td>0.0</td>\n",
       "      <td>0</td>\n",
       "      <td>0.0</td>\n",
       "      <td>0.0</td>\n",
       "      <td>0.0</td>\n",
       "      <td>0.0</td>\n",
       "      <td>0.0</td>\n",
       "      <td>0.0</td>\n",
       "    </tr>\n",
       "    <tr>\n",
       "      <th>97</th>\n",
       "      <td>89530</td>\n",
       "      <td>ausmubr01</td>\n",
       "      <td>2007</td>\n",
       "      <td>1</td>\n",
       "      <td>HOU</td>\n",
       "      <td>NL</td>\n",
       "      <td>117</td>\n",
       "      <td>349</td>\n",
       "      <td>38</td>\n",
       "      <td>82</td>\n",
       "      <td>...</td>\n",
       "      <td>25.0</td>\n",
       "      <td>6.0</td>\n",
       "      <td>1.0</td>\n",
       "      <td>37</td>\n",
       "      <td>74.0</td>\n",
       "      <td>3.0</td>\n",
       "      <td>6.0</td>\n",
       "      <td>4.0</td>\n",
       "      <td>1.0</td>\n",
       "      <td>11.0</td>\n",
       "    </tr>\n",
       "    <tr>\n",
       "      <th>98</th>\n",
       "      <td>89533</td>\n",
       "      <td>aloumo01</td>\n",
       "      <td>2007</td>\n",
       "      <td>1</td>\n",
       "      <td>NYN</td>\n",
       "      <td>NL</td>\n",
       "      <td>87</td>\n",
       "      <td>328</td>\n",
       "      <td>51</td>\n",
       "      <td>112</td>\n",
       "      <td>...</td>\n",
       "      <td>49.0</td>\n",
       "      <td>3.0</td>\n",
       "      <td>0.0</td>\n",
       "      <td>27</td>\n",
       "      <td>30.0</td>\n",
       "      <td>5.0</td>\n",
       "      <td>2.0</td>\n",
       "      <td>0.0</td>\n",
       "      <td>3.0</td>\n",
       "      <td>13.0</td>\n",
       "    </tr>\n",
       "    <tr>\n",
       "      <th>99</th>\n",
       "      <td>89534</td>\n",
       "      <td>alomasa02</td>\n",
       "      <td>2007</td>\n",
       "      <td>1</td>\n",
       "      <td>NYN</td>\n",
       "      <td>NL</td>\n",
       "      <td>8</td>\n",
       "      <td>22</td>\n",
       "      <td>1</td>\n",
       "      <td>3</td>\n",
       "      <td>...</td>\n",
       "      <td>0.0</td>\n",
       "      <td>0.0</td>\n",
       "      <td>0.0</td>\n",
       "      <td>0</td>\n",
       "      <td>3.0</td>\n",
       "      <td>0.0</td>\n",
       "      <td>0.0</td>\n",
       "      <td>0.0</td>\n",
       "      <td>0.0</td>\n",
       "      <td>0.0</td>\n",
       "    </tr>\n",
       "  </tbody>\n",
       "</table>\n",
       "<p>100 rows × 23 columns</p>\n",
       "</div>"
      ],
      "text/plain": [
       "       id     player  year  stint team  lg    g   ab   r    h  ...   rbi   sb  \\\n",
       "0   88641  womacto01  2006      2  CHN  NL   19   50   6   14  ...   2.0  1.0   \n",
       "1   88643  schilcu01  2006      1  BOS  AL   31    2   0    1  ...   0.0  0.0   \n",
       "2   88645  myersmi01  2006      1  NYA  AL   62    0   0    0  ...   0.0  0.0   \n",
       "3   88649  helliri01  2006      1  MIL  NL   20    3   0    0  ...   0.0  0.0   \n",
       "4   88650  johnsra05  2006      1  NYA  AL   33    6   0    1  ...   0.0  0.0   \n",
       "..    ...        ...   ...    ...  ...  ..  ...  ...  ..  ...  ...   ...  ...   \n",
       "95  89525  benitar01  2007      2  FLO  NL   34    0   0    0  ...   0.0  0.0   \n",
       "96  89526  benitar01  2007      1  SFN  NL   19    0   0    0  ...   0.0  0.0   \n",
       "97  89530  ausmubr01  2007      1  HOU  NL  117  349  38   82  ...  25.0  6.0   \n",
       "98  89533   aloumo01  2007      1  NYN  NL   87  328  51  112  ...  49.0  3.0   \n",
       "99  89534  alomasa02  2007      1  NYN  NL    8   22   1    3  ...   0.0  0.0   \n",
       "\n",
       "     cs  bb    so  ibb  hbp   sh   sf  gidp  \n",
       "0   1.0   4   4.0  0.0  0.0  3.0  0.0   0.0  \n",
       "1   0.0   0   1.0  0.0  0.0  0.0  0.0   0.0  \n",
       "2   0.0   0   0.0  0.0  0.0  0.0  0.0   0.0  \n",
       "3   0.0   0   2.0  0.0  0.0  0.0  0.0   0.0  \n",
       "4   0.0   0   4.0  0.0  0.0  0.0  0.0   0.0  \n",
       "..  ...  ..   ...  ...  ...  ...  ...   ...  \n",
       "95  0.0   0   0.0  0.0  0.0  0.0  0.0   0.0  \n",
       "96  0.0   0   0.0  0.0  0.0  0.0  0.0   0.0  \n",
       "97  1.0  37  74.0  3.0  6.0  4.0  1.0  11.0  \n",
       "98  0.0  27  30.0  5.0  2.0  0.0  3.0  13.0  \n",
       "99  0.0   0   3.0  0.0  0.0  0.0  0.0   0.0  \n",
       "\n",
       "[100 rows x 23 columns]"
      ]
     },
     "execution_count": 66,
     "metadata": {},
     "output_type": "execute_result"
    }
   ],
   "source": [
    "bb"
   ]
  },
  {
   "cell_type": "code",
   "execution_count": 67,
   "id": "b1889594",
   "metadata": {},
   "outputs": [
    {
     "data": {
      "text/html": [
       "<div>\n",
       "<style scoped>\n",
       "    .dataframe tbody tr th:only-of-type {\n",
       "        vertical-align: middle;\n",
       "    }\n",
       "\n",
       "    .dataframe tbody tr th {\n",
       "        vertical-align: top;\n",
       "    }\n",
       "\n",
       "    .dataframe thead th {\n",
       "        text-align: right;\n",
       "    }\n",
       "</style>\n",
       "<table border=\"1\" class=\"dataframe\">\n",
       "  <thead>\n",
       "    <tr style=\"text-align: right;\">\n",
       "      <th></th>\n",
       "      <th></th>\n",
       "      <th>id</th>\n",
       "      <th>stint</th>\n",
       "      <th>g</th>\n",
       "      <th>ab</th>\n",
       "      <th>r</th>\n",
       "      <th>h</th>\n",
       "      <th>X2b</th>\n",
       "      <th>X3b</th>\n",
       "      <th>hr</th>\n",
       "      <th>rbi</th>\n",
       "      <th>sb</th>\n",
       "      <th>cs</th>\n",
       "      <th>bb</th>\n",
       "      <th>so</th>\n",
       "      <th>ibb</th>\n",
       "      <th>hbp</th>\n",
       "      <th>sh</th>\n",
       "      <th>sf</th>\n",
       "      <th>gidp</th>\n",
       "    </tr>\n",
       "    <tr>\n",
       "      <th>year</th>\n",
       "      <th>team</th>\n",
       "      <th></th>\n",
       "      <th></th>\n",
       "      <th></th>\n",
       "      <th></th>\n",
       "      <th></th>\n",
       "      <th></th>\n",
       "      <th></th>\n",
       "      <th></th>\n",
       "      <th></th>\n",
       "      <th></th>\n",
       "      <th></th>\n",
       "      <th></th>\n",
       "      <th></th>\n",
       "      <th></th>\n",
       "      <th></th>\n",
       "      <th></th>\n",
       "      <th></th>\n",
       "      <th></th>\n",
       "      <th></th>\n",
       "    </tr>\n",
       "  </thead>\n",
       "  <tbody>\n",
       "    <tr>\n",
       "      <th rowspan=\"8\" valign=\"top\">2007</th>\n",
       "      <th>CIN</th>\n",
       "      <td>536621</td>\n",
       "      <td>6</td>\n",
       "      <td>379</td>\n",
       "      <td>745</td>\n",
       "      <td>101</td>\n",
       "      <td>203</td>\n",
       "      <td>35</td>\n",
       "      <td>2</td>\n",
       "      <td>36</td>\n",
       "      <td>125.0</td>\n",
       "      <td>10.0</td>\n",
       "      <td>1.0</td>\n",
       "      <td>105</td>\n",
       "      <td>127.0</td>\n",
       "      <td>14.0</td>\n",
       "      <td>1.0</td>\n",
       "      <td>1.0</td>\n",
       "      <td>15.0</td>\n",
       "      <td>18.0</td>\n",
       "    </tr>\n",
       "    <tr>\n",
       "      <th>DET</th>\n",
       "      <td>446997</td>\n",
       "      <td>5</td>\n",
       "      <td>301</td>\n",
       "      <td>1062</td>\n",
       "      <td>162</td>\n",
       "      <td>283</td>\n",
       "      <td>54</td>\n",
       "      <td>4</td>\n",
       "      <td>37</td>\n",
       "      <td>144.0</td>\n",
       "      <td>24.0</td>\n",
       "      <td>7.0</td>\n",
       "      <td>97</td>\n",
       "      <td>176.0</td>\n",
       "      <td>3.0</td>\n",
       "      <td>10.0</td>\n",
       "      <td>4.0</td>\n",
       "      <td>8.0</td>\n",
       "      <td>28.0</td>\n",
       "    </tr>\n",
       "    <tr>\n",
       "      <th>HOU</th>\n",
       "      <td>357725</td>\n",
       "      <td>4</td>\n",
       "      <td>311</td>\n",
       "      <td>926</td>\n",
       "      <td>109</td>\n",
       "      <td>218</td>\n",
       "      <td>47</td>\n",
       "      <td>6</td>\n",
       "      <td>14</td>\n",
       "      <td>77.0</td>\n",
       "      <td>10.0</td>\n",
       "      <td>4.0</td>\n",
       "      <td>60</td>\n",
       "      <td>212.0</td>\n",
       "      <td>3.0</td>\n",
       "      <td>9.0</td>\n",
       "      <td>16.0</td>\n",
       "      <td>6.0</td>\n",
       "      <td>17.0</td>\n",
       "    </tr>\n",
       "    <tr>\n",
       "      <th>LAN</th>\n",
       "      <td>715256</td>\n",
       "      <td>11</td>\n",
       "      <td>413</td>\n",
       "      <td>1021</td>\n",
       "      <td>153</td>\n",
       "      <td>293</td>\n",
       "      <td>61</td>\n",
       "      <td>3</td>\n",
       "      <td>36</td>\n",
       "      <td>154.0</td>\n",
       "      <td>7.0</td>\n",
       "      <td>5.0</td>\n",
       "      <td>114</td>\n",
       "      <td>141.0</td>\n",
       "      <td>8.0</td>\n",
       "      <td>9.0</td>\n",
       "      <td>3.0</td>\n",
       "      <td>8.0</td>\n",
       "      <td>29.0</td>\n",
       "    </tr>\n",
       "    <tr>\n",
       "      <th>NYN</th>\n",
       "      <td>1073198</td>\n",
       "      <td>13</td>\n",
       "      <td>622</td>\n",
       "      <td>1854</td>\n",
       "      <td>240</td>\n",
       "      <td>509</td>\n",
       "      <td>101</td>\n",
       "      <td>3</td>\n",
       "      <td>61</td>\n",
       "      <td>243.0</td>\n",
       "      <td>22.0</td>\n",
       "      <td>4.0</td>\n",
       "      <td>174</td>\n",
       "      <td>310.0</td>\n",
       "      <td>24.0</td>\n",
       "      <td>23.0</td>\n",
       "      <td>18.0</td>\n",
       "      <td>15.0</td>\n",
       "      <td>48.0</td>\n",
       "    </tr>\n",
       "    <tr>\n",
       "      <th>SFN</th>\n",
       "      <td>447198</td>\n",
       "      <td>5</td>\n",
       "      <td>482</td>\n",
       "      <td>1305</td>\n",
       "      <td>198</td>\n",
       "      <td>337</td>\n",
       "      <td>67</td>\n",
       "      <td>6</td>\n",
       "      <td>40</td>\n",
       "      <td>171.0</td>\n",
       "      <td>26.0</td>\n",
       "      <td>7.0</td>\n",
       "      <td>235</td>\n",
       "      <td>188.0</td>\n",
       "      <td>51.0</td>\n",
       "      <td>8.0</td>\n",
       "      <td>16.0</td>\n",
       "      <td>6.0</td>\n",
       "      <td>41.0</td>\n",
       "    </tr>\n",
       "    <tr>\n",
       "      <th>TEX</th>\n",
       "      <td>178804</td>\n",
       "      <td>2</td>\n",
       "      <td>198</td>\n",
       "      <td>729</td>\n",
       "      <td>115</td>\n",
       "      <td>200</td>\n",
       "      <td>40</td>\n",
       "      <td>4</td>\n",
       "      <td>28</td>\n",
       "      <td>115.0</td>\n",
       "      <td>21.0</td>\n",
       "      <td>4.0</td>\n",
       "      <td>73</td>\n",
       "      <td>140.0</td>\n",
       "      <td>4.0</td>\n",
       "      <td>5.0</td>\n",
       "      <td>2.0</td>\n",
       "      <td>8.0</td>\n",
       "      <td>16.0</td>\n",
       "    </tr>\n",
       "    <tr>\n",
       "      <th>TOR</th>\n",
       "      <td>357561</td>\n",
       "      <td>4</td>\n",
       "      <td>459</td>\n",
       "      <td>1408</td>\n",
       "      <td>187</td>\n",
       "      <td>378</td>\n",
       "      <td>96</td>\n",
       "      <td>2</td>\n",
       "      <td>58</td>\n",
       "      <td>223.0</td>\n",
       "      <td>4.0</td>\n",
       "      <td>2.0</td>\n",
       "      <td>190</td>\n",
       "      <td>265.0</td>\n",
       "      <td>16.0</td>\n",
       "      <td>12.0</td>\n",
       "      <td>4.0</td>\n",
       "      <td>16.0</td>\n",
       "      <td>38.0</td>\n",
       "    </tr>\n",
       "  </tbody>\n",
       "</table>\n",
       "</div>"
      ],
      "text/plain": [
       "                id  stint    g    ab    r    h  X2b  X3b  hr    rbi    sb  \\\n",
       "year team                                                                   \n",
       "2007 CIN    536621      6  379   745  101  203   35    2  36  125.0  10.0   \n",
       "     DET    446997      5  301  1062  162  283   54    4  37  144.0  24.0   \n",
       "     HOU    357725      4  311   926  109  218   47    6  14   77.0  10.0   \n",
       "     LAN    715256     11  413  1021  153  293   61    3  36  154.0   7.0   \n",
       "     NYN   1073198     13  622  1854  240  509  101    3  61  243.0  22.0   \n",
       "     SFN    447198      5  482  1305  198  337   67    6  40  171.0  26.0   \n",
       "     TEX    178804      2  198   729  115  200   40    4  28  115.0  21.0   \n",
       "     TOR    357561      4  459  1408  187  378   96    2  58  223.0   4.0   \n",
       "\n",
       "            cs   bb     so   ibb   hbp    sh    sf  gidp  \n",
       "year team                                                 \n",
       "2007 CIN   1.0  105  127.0  14.0   1.0   1.0  15.0  18.0  \n",
       "     DET   7.0   97  176.0   3.0  10.0   4.0   8.0  28.0  \n",
       "     HOU   4.0   60  212.0   3.0   9.0  16.0   6.0  17.0  \n",
       "     LAN   5.0  114  141.0   8.0   9.0   3.0   8.0  29.0  \n",
       "     NYN   4.0  174  310.0  24.0  23.0  18.0  15.0  48.0  \n",
       "     SFN   7.0  235  188.0  51.0   8.0  16.0   6.0  41.0  \n",
       "     TEX   4.0   73  140.0   4.0   5.0   2.0   8.0  16.0  \n",
       "     TOR   2.0  190  265.0  16.0  12.0   4.0  16.0  38.0  "
      ]
     },
     "execution_count": 67,
     "metadata": {},
     "output_type": "execute_result"
    }
   ],
   "source": [
    "(bb.groupby(['year', 'team'])\n",
    " .sum(numeric_only=True)\n",
    " .loc[lambda df: df['r'] > 100])"
   ]
  },
  {
   "cell_type": "markdown",
   "id": "4b3514bf",
   "metadata": {},
   "source": [
    "## Combinación de indexación posicional y basada en etiquetas"
   ]
  },
  {
   "cell_type": "code",
   "execution_count": 68,
   "id": "4ab8b39e",
   "metadata": {},
   "outputs": [],
   "source": [
    "# Si desea obtener los elementos 0 y 2 del índice en la columna 'A', puede hacerlo de la forma siguiente"
   ]
  },
  {
   "cell_type": "code",
   "execution_count": 69,
   "id": "41b3f72c",
   "metadata": {},
   "outputs": [],
   "source": [
    "dfd = pd.DataFrame({'A': [1, 2, 3],\n",
    "                    'B': [4, 5, 6]},\n",
    "                   index=list('abc'))"
   ]
  },
  {
   "cell_type": "code",
   "execution_count": 70,
   "id": "639ca7cf",
   "metadata": {},
   "outputs": [
    {
     "data": {
      "text/html": [
       "<div>\n",
       "<style scoped>\n",
       "    .dataframe tbody tr th:only-of-type {\n",
       "        vertical-align: middle;\n",
       "    }\n",
       "\n",
       "    .dataframe tbody tr th {\n",
       "        vertical-align: top;\n",
       "    }\n",
       "\n",
       "    .dataframe thead th {\n",
       "        text-align: right;\n",
       "    }\n",
       "</style>\n",
       "<table border=\"1\" class=\"dataframe\">\n",
       "  <thead>\n",
       "    <tr style=\"text-align: right;\">\n",
       "      <th></th>\n",
       "      <th>A</th>\n",
       "      <th>B</th>\n",
       "    </tr>\n",
       "  </thead>\n",
       "  <tbody>\n",
       "    <tr>\n",
       "      <th>a</th>\n",
       "      <td>1</td>\n",
       "      <td>4</td>\n",
       "    </tr>\n",
       "    <tr>\n",
       "      <th>b</th>\n",
       "      <td>2</td>\n",
       "      <td>5</td>\n",
       "    </tr>\n",
       "    <tr>\n",
       "      <th>c</th>\n",
       "      <td>3</td>\n",
       "      <td>6</td>\n",
       "    </tr>\n",
       "  </tbody>\n",
       "</table>\n",
       "</div>"
      ],
      "text/plain": [
       "   A  B\n",
       "a  1  4\n",
       "b  2  5\n",
       "c  3  6"
      ]
     },
     "execution_count": 70,
     "metadata": {},
     "output_type": "execute_result"
    }
   ],
   "source": [
    "dfd"
   ]
  },
  {
   "cell_type": "code",
   "execution_count": 71,
   "id": "62088e0e",
   "metadata": {},
   "outputs": [
    {
     "data": {
      "text/plain": [
       "a    1\n",
       "c    3\n",
       "Name: A, dtype: int64"
      ]
     },
     "execution_count": 71,
     "metadata": {},
     "output_type": "execute_result"
    }
   ],
   "source": [
    "# Primero hacemos una selección de los índices con una lista, y luego seleccionamos la columna por su etiqueta\n",
    "dfd.loc[dfd.index[[0, 2]], 'A']"
   ]
  },
  {
   "cell_type": "code",
   "execution_count": 72,
   "id": "dc7de5a2",
   "metadata": {},
   "outputs": [
    {
     "data": {
      "text/plain": [
       "a    1\n",
       "c    3\n",
       "Name: A, dtype: int64"
      ]
     },
     "execution_count": 72,
     "metadata": {},
     "output_type": "execute_result"
    }
   ],
   "source": [
    "dfd.iloc[[0, 2], dfd.columns.get_loc('A')]"
   ]
  },
  {
   "cell_type": "code",
   "execution_count": 73,
   "id": "b6adf212",
   "metadata": {},
   "outputs": [
    {
     "data": {
      "text/html": [
       "<div>\n",
       "<style scoped>\n",
       "    .dataframe tbody tr th:only-of-type {\n",
       "        vertical-align: middle;\n",
       "    }\n",
       "\n",
       "    .dataframe tbody tr th {\n",
       "        vertical-align: top;\n",
       "    }\n",
       "\n",
       "    .dataframe thead th {\n",
       "        text-align: right;\n",
       "    }\n",
       "</style>\n",
       "<table border=\"1\" class=\"dataframe\">\n",
       "  <thead>\n",
       "    <tr style=\"text-align: right;\">\n",
       "      <th></th>\n",
       "      <th>A</th>\n",
       "      <th>B</th>\n",
       "    </tr>\n",
       "  </thead>\n",
       "  <tbody>\n",
       "    <tr>\n",
       "      <th>a</th>\n",
       "      <td>1</td>\n",
       "      <td>4</td>\n",
       "    </tr>\n",
       "    <tr>\n",
       "      <th>c</th>\n",
       "      <td>3</td>\n",
       "      <td>6</td>\n",
       "    </tr>\n",
       "  </tbody>\n",
       "</table>\n",
       "</div>"
      ],
      "text/plain": [
       "   A  B\n",
       "a  1  4\n",
       "c  3  6"
      ]
     },
     "execution_count": 73,
     "metadata": {},
     "output_type": "execute_result"
    }
   ],
   "source": [
    "# Para obtener múltiples indexadores, use .get_indexer\n",
    "dfd.iloc[[0, 2], dfd.columns.get_indexer(['A', 'B'])]"
   ]
  },
  {
   "cell_type": "markdown",
   "id": "96b087a1",
   "metadata": {},
   "source": [
    "## Reindexación "
   ]
  },
  {
   "cell_type": "code",
   "execution_count": 74,
   "id": "447cd9dc",
   "metadata": {},
   "outputs": [
    {
     "data": {
      "text/plain": [
       "1    NaN\n",
       "2      c\n",
       "3      b\n",
       "dtype: object"
      ]
     },
     "execution_count": 74,
     "metadata": {},
     "output_type": "execute_result"
    }
   ],
   "source": [
    "s.reindex([1, 2, 3])"
   ]
  },
  {
   "cell_type": "code",
   "execution_count": 75,
   "id": "5d524a20",
   "metadata": {},
   "outputs": [],
   "source": [
    "labels = [1, 2, 3]"
   ]
  },
  {
   "cell_type": "code",
   "execution_count": 76,
   "id": "50b80b42",
   "metadata": {},
   "outputs": [
    {
     "data": {
      "text/plain": [
       "3    b\n",
       "2    c\n",
       "dtype: object"
      ]
     },
     "execution_count": 76,
     "metadata": {},
     "output_type": "execute_result"
    }
   ],
   "source": [
    "s.loc[s.index.intersection(labels)]"
   ]
  },
  {
   "cell_type": "markdown",
   "id": "31962b6e",
   "metadata": {},
   "source": [
    "## Selección de muestras aleatorias - sample ()"
   ]
  },
  {
   "cell_type": "markdown",
   "id": "2f34f6ca",
   "metadata": {},
   "source": [
    "#### Una selección aleatoria de filas o columnas de una Serie o DataFrame con el método sample(). El método muestreará filas de forma predeterminada y acepta un número específico de filas/columnas para devolver, o una fracción de filas."
   ]
  },
  {
   "cell_type": "code",
   "execution_count": 77,
   "id": "4fee4344",
   "metadata": {},
   "outputs": [],
   "source": [
    "s = pd.Series([0, 1, 2, 3, 4, 5])"
   ]
  },
  {
   "cell_type": "code",
   "execution_count": 78,
   "id": "6195879b",
   "metadata": {},
   "outputs": [
    {
     "data": {
      "text/plain": [
       "4    4\n",
       "dtype: int64"
      ]
     },
     "execution_count": 78,
     "metadata": {},
     "output_type": "execute_result"
    }
   ],
   "source": [
    "s.sample()"
   ]
  },
  {
   "cell_type": "code",
   "execution_count": 79,
   "id": "97676f61",
   "metadata": {},
   "outputs": [
    {
     "data": {
      "text/plain": [
       "5    5\n",
       "3    3\n",
       "2    2\n",
       "dtype: int64"
      ]
     },
     "execution_count": 79,
     "metadata": {},
     "output_type": "execute_result"
    }
   ],
   "source": [
    "# Podemos especificar un número de filas\n",
    "s.sample(n=3)"
   ]
  },
  {
   "cell_type": "code",
   "execution_count": 80,
   "id": "20858c70",
   "metadata": {},
   "outputs": [],
   "source": [
    "df3 = pd.DataFrame({'col1': [1, 2, 3], 'col2': [2, 3, 4]})"
   ]
  },
  {
   "cell_type": "code",
   "execution_count": 81,
   "id": "a606489f",
   "metadata": {},
   "outputs": [
    {
     "data": {
      "text/html": [
       "<div>\n",
       "<style scoped>\n",
       "    .dataframe tbody tr th:only-of-type {\n",
       "        vertical-align: middle;\n",
       "    }\n",
       "\n",
       "    .dataframe tbody tr th {\n",
       "        vertical-align: top;\n",
       "    }\n",
       "\n",
       "    .dataframe thead th {\n",
       "        text-align: right;\n",
       "    }\n",
       "</style>\n",
       "<table border=\"1\" class=\"dataframe\">\n",
       "  <thead>\n",
       "    <tr style=\"text-align: right;\">\n",
       "      <th></th>\n",
       "      <th>col1</th>\n",
       "    </tr>\n",
       "  </thead>\n",
       "  <tbody>\n",
       "    <tr>\n",
       "      <th>0</th>\n",
       "      <td>1</td>\n",
       "    </tr>\n",
       "    <tr>\n",
       "      <th>1</th>\n",
       "      <td>2</td>\n",
       "    </tr>\n",
       "    <tr>\n",
       "      <th>2</th>\n",
       "      <td>3</td>\n",
       "    </tr>\n",
       "  </tbody>\n",
       "</table>\n",
       "</div>"
      ],
      "text/plain": [
       "   col1\n",
       "0     1\n",
       "1     2\n",
       "2     3"
      ]
     },
     "execution_count": 81,
     "metadata": {},
     "output_type": "execute_result"
    }
   ],
   "source": [
    "# Podemos seleccionar solo una columna, utilizando el argumento axis=1\n",
    "df3.sample(n=1, axis=1)"
   ]
  },
  {
   "cell_type": "markdown",
   "id": "fa954c72",
   "metadata": {},
   "source": [
    "## Indexación booleana"
   ]
  },
  {
   "cell_type": "markdown",
   "id": "2e482199",
   "metadata": {},
   "source": [
    "#### Otra operación común es el uso de vectores booleanos para filtrar los datos. Los operadores son: | para o, & para y, y ~ para no. Estos deben agruparse usando paréntesis."
   ]
  },
  {
   "cell_type": "code",
   "execution_count": 82,
   "id": "a8aab294",
   "metadata": {},
   "outputs": [],
   "source": [
    "# El uso de un vector booleano para indexar una Serie funciona exactamente como en un NumPy ndarray\n",
    "s = pd.Series(range(-3, 4))"
   ]
  },
  {
   "cell_type": "code",
   "execution_count": 83,
   "id": "ed03827f",
   "metadata": {},
   "outputs": [
    {
     "data": {
      "text/plain": [
       "0   -3\n",
       "1   -2\n",
       "2   -1\n",
       "3    0\n",
       "4    1\n",
       "5    2\n",
       "6    3\n",
       "dtype: int64"
      ]
     },
     "execution_count": 83,
     "metadata": {},
     "output_type": "execute_result"
    }
   ],
   "source": [
    "s"
   ]
  },
  {
   "cell_type": "code",
   "execution_count": 84,
   "id": "e4441b51",
   "metadata": {},
   "outputs": [
    {
     "data": {
      "text/plain": [
       "4    1\n",
       "5    2\n",
       "6    3\n",
       "dtype: int64"
      ]
     },
     "execution_count": 84,
     "metadata": {},
     "output_type": "execute_result"
    }
   ],
   "source": [
    "s[s > 0]"
   ]
  },
  {
   "cell_type": "code",
   "execution_count": 85,
   "id": "a4c6307a",
   "metadata": {},
   "outputs": [
    {
     "data": {
      "text/plain": [
       "0   -3\n",
       "1   -2\n",
       "4    1\n",
       "5    2\n",
       "6    3\n",
       "dtype: int64"
      ]
     },
     "execution_count": 85,
     "metadata": {},
     "output_type": "execute_result"
    }
   ],
   "source": [
    "# Menos a 1 o mayores a 0.5\n",
    "s[(s < -1) | (s > 0.5)]"
   ]
  },
  {
   "cell_type": "code",
   "execution_count": 86,
   "id": "4f88d395",
   "metadata": {},
   "outputs": [
    {
     "data": {
      "text/plain": [
       "3    0\n",
       "4    1\n",
       "5    2\n",
       "6    3\n",
       "dtype: int64"
      ]
     },
     "execution_count": 86,
     "metadata": {},
     "output_type": "execute_result"
    }
   ],
   "source": [
    "# Que no sean menores que 0\n",
    "s[~(s < 0)]"
   ]
  },
  {
   "cell_type": "code",
   "execution_count": 1,
   "id": "87212325",
   "metadata": {},
   "outputs": [],
   "source": [
    "# Para utilizar un booleano en un Data Frame, utilizamos el mismo principio\n",
    "# df[df['g'] > 0]"
   ]
  },
  {
   "cell_type": "code",
   "execution_count": null,
   "id": "bb439846",
   "metadata": {},
   "outputs": [],
   "source": [
    "df2 = pd.DataFrame({'a': ['one', 'one', 'two', 'three', 'two', 'one', 'six'],\n",
    "                    'b': ['x', 'y', 'y', 'x', 'y', 'x', 'x'],\n",
    "                    'c': np.random.randn(7)})\n"
   ]
  },
  {
   "cell_type": "code",
   "execution_count": null,
   "id": "a2f8c580",
   "metadata": {},
   "outputs": [],
   "source": [
    "df2"
   ]
  },
  {
   "cell_type": "markdown",
   "id": "db61fc0c",
   "metadata": {},
   "source": [
    "## Indexar y buscar valores con: isin()"
   ]
  },
  {
   "cell_type": "markdown",
   "id": "198975da",
   "metadata": {},
   "source": [
    "#### Considere el método isin() de Series, que devuelve un vector booleano que es verdadero dondequiera que existan los elementos Series en la lista pasada. Esto le permite seleccionar filas donde una o más columnas tienen valores que desea.\n",
    "\n",
    "#### DataFrame también tiene un método isin(). Al llamar a isin, pase un conjunto de valores como una matriz o un diccionario. Si los valores son una matriz, isin devuelve un DataFrame de valores booleanos que tiene la misma forma que el DataFrame original, con True dondequiera que esté el elemento en la secuencia de valores"
   ]
  },
  {
   "cell_type": "code",
   "execution_count": null,
   "id": "e81e0738",
   "metadata": {},
   "outputs": [],
   "source": [
    "s = pd.Series(np.arange(5), index=np.arange(5)[::-1], dtype='int64')"
   ]
  },
  {
   "cell_type": "code",
   "execution_count": null,
   "id": "e4c645b8",
   "metadata": {},
   "outputs": [],
   "source": [
    "s"
   ]
  },
  {
   "cell_type": "code",
   "execution_count": null,
   "id": "5743a08d",
   "metadata": {},
   "outputs": [],
   "source": [
    "s.isin([2, 4, 6]) # El resultado es booleano con verdadero o falso, que indica que el dato está allí"
   ]
  },
  {
   "cell_type": "code",
   "execution_count": null,
   "id": "7ecefa36",
   "metadata": {},
   "outputs": [],
   "source": [
    "# Podemos aplicar lo mismo, para buscar un índice\n",
    "s[s.index.isin([2, 4, 6])]"
   ]
  },
  {
   "cell_type": "code",
   "execution_count": null,
   "id": "488e7b92",
   "metadata": {},
   "outputs": [],
   "source": [
    "# En un Data Frame nos referimos a los valores\n",
    "df = pd.DataFrame({'vals': [1, 2, 3, 4], 'ids': ['a', 'b', 'f', 'n'],\n",
    "                   'ids2': ['a', 'n', 'c', 'n']})"
   ]
  },
  {
   "cell_type": "code",
   "execution_count": null,
   "id": "016df0ab",
   "metadata": {},
   "outputs": [],
   "source": [
    "df"
   ]
  },
  {
   "cell_type": "code",
   "execution_count": null,
   "id": "b41b1223",
   "metadata": {},
   "outputs": [],
   "source": [
    "values = ['a', 'b', 1, 3]"
   ]
  },
  {
   "cell_type": "code",
   "execution_count": null,
   "id": "2ad4a840",
   "metadata": {},
   "outputs": [],
   "source": [
    "# Comprobamos si la lista de \"values\" está dentro de la tabla\n",
    "df.isin(values)"
   ]
  },
  {
   "cell_type": "markdown",
   "id": "5ffabd6b",
   "metadata": {},
   "source": [
    "## El método where() y el enmascaramiento"
   ]
  },
  {
   "cell_type": "markdown",
   "id": "9e1cdad3",
   "metadata": {},
   "source": [
    "#### La selección de valores de una Serie con un vector booleano generalmente devuelve un subconjunto de los datos. Para garantizar que la salida de la selección tenga la misma forma que los datos originales, puede usar el método where en Series y DataFrame."
   ]
  },
  {
   "cell_type": "code",
   "execution_count": null,
   "id": "d1025d13",
   "metadata": {},
   "outputs": [],
   "source": [
    "df = pd.DataFrame(np.random.randn(8, 4),\n",
    "                  index=dates, columns=['A', 'B', 'C', 'D'])"
   ]
  },
  {
   "cell_type": "code",
   "execution_count": null,
   "id": "52bff36a",
   "metadata": {},
   "outputs": [],
   "source": [
    "df"
   ]
  },
  {
   "cell_type": "code",
   "execution_count": null,
   "id": "dcfd5a7e",
   "metadata": {},
   "outputs": [],
   "source": [
    "s[s > 0]"
   ]
  },
  {
   "cell_type": "code",
   "execution_count": null,
   "id": "2173217c",
   "metadata": {},
   "outputs": [],
   "source": [
    "# Si aplicamos \"where\" el resultado es un serie igual a la original\n",
    "s.where(s > 0)"
   ]
  },
  {
   "cell_type": "code",
   "execution_count": null,
   "id": "4e2d90c0",
   "metadata": {},
   "outputs": [],
   "source": [
    "df[df < 0]"
   ]
  },
  {
   "cell_type": "code",
   "execution_count": null,
   "id": "8d7033a2",
   "metadata": {},
   "outputs": [],
   "source": [
    "# Utilizando \"where\" en un data frame, podemos aplicar condiciones dobles\n",
    "df.where(df < 0, -df)"
   ]
  },
  {
   "cell_type": "code",
   "execution_count": null,
   "id": "fb6ec854",
   "metadata": {},
   "outputs": [],
   "source": [
    "# Where tambien puede ser aplicado en indices o columnas utilizando los argumentos: axis o level\n",
    "df2 = df.copy()"
   ]
  },
  {
   "cell_type": "code",
   "execution_count": null,
   "id": "162b12bc",
   "metadata": {},
   "outputs": [],
   "source": [
    "df2.where(df2 > 0, df2['A'], axis='index')"
   ]
  },
  {
   "cell_type": "code",
   "execution_count": null,
   "id": "e89948e8",
   "metadata": {},
   "outputs": [],
   "source": [
    "# mask() es la operación booleana inversa de where."
   ]
  },
  {
   "cell_type": "code",
   "execution_count": null,
   "id": "855e4e57",
   "metadata": {},
   "outputs": [],
   "source": [
    "s.mask(s >= 0)"
   ]
  },
  {
   "cell_type": "code",
   "execution_count": null,
   "id": "74316cf4",
   "metadata": {},
   "outputs": [],
   "source": [
    "df.mask(df >= 0)"
   ]
  },
  {
   "cell_type": "markdown",
   "id": "fb7a23e7",
   "metadata": {},
   "source": [
    "## El metodo \"query()\" - Selecciones con condicionales (< >, =<, >=)"
   ]
  },
  {
   "cell_type": "markdown",
   "id": "72391743",
   "metadata": {},
   "source": [
    "#### Los objetos DataFrame tienen un método query() que permite la selección mediante una expresión. Puede obtener el valor del marco donde la columna b tiene valores entre los valores de las columnas a y c."
   ]
  },
  {
   "cell_type": "code",
   "execution_count": null,
   "id": "bbfd1940",
   "metadata": {},
   "outputs": [],
   "source": [
    "n = 10"
   ]
  },
  {
   "cell_type": "code",
   "execution_count": null,
   "id": "79a8b11b",
   "metadata": {},
   "outputs": [],
   "source": [
    "df = pd.DataFrame(np.random.rand(n, 3), columns = list('abc'))"
   ]
  },
  {
   "cell_type": "code",
   "execution_count": null,
   "id": "3b2bdb92",
   "metadata": {},
   "outputs": [],
   "source": [
    "df"
   ]
  },
  {
   "cell_type": "code",
   "execution_count": null,
   "id": "ddec2a08",
   "metadata": {},
   "outputs": [],
   "source": [
    "# Si queremos hacer una seleccion clasica con los metodos de python, utilizamos corchetes [ ]\n",
    "df[(df['a'] < df['b']) & (df['b'] < df['c'])]"
   ]
  },
  {
   "cell_type": "code",
   "execution_count": null,
   "id": "938592ec",
   "metadata": {},
   "outputs": [],
   "source": [
    "# Pero si utilizamos el metodo query(), solo tendremos que hacer referencia a los nombres (etiquetas) de las columnas\n",
    "df.query('(a < b) & (b < c)')"
   ]
  },
  {
   "cell_type": "code",
   "execution_count": null,
   "id": "1e49c486",
   "metadata": {},
   "outputs": [],
   "source": [
    "# Si, en cambio, no quiere o no puede nombrar su índice, puede usar el índice de nombres en su expresión de consulta\n",
    "df = pd.DataFrame(np.random.randint(n, size=(n, 2)), columns=list('bc'))"
   ]
  },
  {
   "cell_type": "code",
   "execution_count": null,
   "id": "dcd0d1e4",
   "metadata": {},
   "outputs": [],
   "source": [
    "df"
   ]
  },
  {
   "cell_type": "code",
   "execution_count": null,
   "id": "48768ba1",
   "metadata": {},
   "outputs": [],
   "source": [
    "df.query('index < b < c')"
   ]
  },
  {
   "cell_type": "markdown",
   "id": "755d4317",
   "metadata": {},
   "source": [
    "## Casos de uso del metodo query()"
   ]
  },
  {
   "cell_type": "markdown",
   "id": "a6725383",
   "metadata": {},
   "source": [
    "#### Un caso de uso para query() es cuando tiene una colección de objetos DataFrame que tienen un subconjunto de nombres de columna (o niveles/nombres de índice) en común. Puede pasar la misma consulta a ambos marcos sin tener que especificar qué marco le interesa consultar"
   ]
  },
  {
   "cell_type": "code",
   "execution_count": null,
   "id": "9ae852f4",
   "metadata": {},
   "outputs": [],
   "source": [
    "df = pd.DataFrame(np.random.rand(n, 3), columns=list('abc'))"
   ]
  },
  {
   "cell_type": "code",
   "execution_count": null,
   "id": "740119ce",
   "metadata": {},
   "outputs": [],
   "source": [
    "df"
   ]
  },
  {
   "cell_type": "code",
   "execution_count": null,
   "id": "9c37f18f",
   "metadata": {},
   "outputs": [],
   "source": [
    "df2 = pd.DataFrame(np.random.rand(n + 2, 3), columns=df.columns)"
   ]
  },
  {
   "cell_type": "code",
   "execution_count": null,
   "id": "ee7b6ee1",
   "metadata": {},
   "outputs": [],
   "source": [
    "df2"
   ]
  },
  {
   "cell_type": "code",
   "execution_count": null,
   "id": "3659adf5",
   "metadata": {},
   "outputs": [],
   "source": [
    "expr = '0.0 <= a <= c <= 0.5'"
   ]
  },
  {
   "cell_type": "code",
   "execution_count": null,
   "id": "4e8c977b",
   "metadata": {},
   "outputs": [],
   "source": [
    "map(lambda frame: frame.query(expr), [df, df2])"
   ]
  },
  {
   "cell_type": "markdown",
   "id": "dcee16e4",
   "metadata": {},
   "source": [
    "## query() vs python tradicional"
   ]
  },
  {
   "cell_type": "code",
   "execution_count": null,
   "id": "17ccb604",
   "metadata": {},
   "outputs": [],
   "source": [
    "df = pd.DataFrame(np.random.randint(n, size=(n, 3)), columns=list('abc'))"
   ]
  },
  {
   "cell_type": "code",
   "execution_count": null,
   "id": "09316d8a",
   "metadata": {},
   "outputs": [],
   "source": [
    "df"
   ]
  },
  {
   "cell_type": "code",
   "execution_count": null,
   "id": "6ef5459c",
   "metadata": {},
   "outputs": [],
   "source": [
    "# Con query() se hacen selecciones condicionales mas simples\n",
    "df.query('(a < b) & (b < c)')"
   ]
  },
  {
   "cell_type": "code",
   "execution_count": null,
   "id": "5277b961",
   "metadata": {},
   "outputs": [],
   "source": [
    "# python tradicional\n",
    "df[(df['a'] < df['b']) & (df['b'] < df['c'])]"
   ]
  },
  {
   "cell_type": "code",
   "execution_count": null,
   "id": "fca0ba82",
   "metadata": {},
   "outputs": [],
   "source": [
    "# Utiliza palabras en lugar de simbolos\n",
    "df.query('a < b and b < c')"
   ]
  },
  {
   "cell_type": "markdown",
   "id": "db3275aa",
   "metadata": {},
   "source": [
    "## Los operadores \"in\" y \"not in\""
   ]
  },
  {
   "cell_type": "markdown",
   "id": "5010d620",
   "metadata": {},
   "source": [
    "#### query() también admite el uso especial de los operadores de comparación in y not in de Python, lo que proporciona una sintaxis sucinta para llamar al método isin de una serie o trama de datos"
   ]
  },
  {
   "cell_type": "code",
   "execution_count": null,
   "id": "8825b29e",
   "metadata": {},
   "outputs": [],
   "source": [
    "df = pd.DataFrame({'a': list('aabbccddeeff'), 'b': list('aaaabbbbcccc'),\n",
    "                   'c': np.random.randint(5, size=12),\n",
    "                   'd': np.random.randint(9, size=12)})\n",
    "\n",
    "# obtener todas las filas donde las columnas \"a\" y \"b\" tienen valores superpuestos"
   ]
  },
  {
   "cell_type": "code",
   "execution_count": null,
   "id": "799c8d1e",
   "metadata": {},
   "outputs": [],
   "source": [
    "df"
   ]
  },
  {
   "cell_type": "code",
   "execution_count": null,
   "id": "946f9247",
   "metadata": {},
   "outputs": [],
   "source": [
    "# Con query() se haria de esta forma\n",
    "df.query('a in b')"
   ]
  },
  {
   "cell_type": "code",
   "execution_count": null,
   "id": "16e864d7",
   "metadata": {},
   "outputs": [],
   "source": [
    "# Utilizando python seria mas complicado\n",
    "df[df['a'].isin(df['b'])]"
   ]
  },
  {
   "cell_type": "code",
   "execution_count": null,
   "id": "9ce735ba",
   "metadata": {},
   "outputs": [],
   "source": [
    "# Podemos negar la expresion utilizando \"not in\"\n",
    "df.query('a not in b')"
   ]
  },
  {
   "cell_type": "code",
   "execution_count": null,
   "id": "71b6685d",
   "metadata": {},
   "outputs": [],
   "source": [
    "# Con pyhthon tendriamos que negar la expresion con \"~\"\n",
    "df[~df['a'].isin(df['b'])]"
   ]
  },
  {
   "cell_type": "markdown",
   "id": "66873b5e",
   "metadata": {},
   "source": [
    "## Uso especial del operador \"==\" con objetos de lista"
   ]
  },
  {
   "cell_type": "markdown",
   "id": "44a49ac1",
   "metadata": {},
   "source": [
    "#### Comparar una lista de valores con una columna usando ==/!= funciona de manera similar a in/not in"
   ]
  },
  {
   "cell_type": "code",
   "execution_count": null,
   "id": "6dfd6f06",
   "metadata": {},
   "outputs": [],
   "source": [
    "df.query('b == [\"a\", \"b\", \"c\"]')"
   ]
  },
  {
   "cell_type": "code",
   "execution_count": null,
   "id": "ffed16b6",
   "metadata": {},
   "outputs": [],
   "source": [
    "df.query('c == [1, 2]')"
   ]
  },
  {
   "cell_type": "code",
   "execution_count": null,
   "id": "01ccd7ef",
   "metadata": {},
   "outputs": [],
   "source": [
    "# Ahora negamos la expresion anterior\n",
    "df.query('c != [1, 2]')"
   ]
  },
  {
   "cell_type": "code",
   "execution_count": null,
   "id": "b1df3bb4",
   "metadata": {},
   "outputs": [],
   "source": [
    "# using in/not in\n",
    "df.query('[1, 2] not in c')"
   ]
  },
  {
   "cell_type": "markdown",
   "id": "f3a2fee4",
   "metadata": {},
   "source": [
    "## Operadores booleanos para negar"
   ]
  },
  {
   "cell_type": "markdown",
   "id": "2a28c6eb",
   "metadata": {},
   "source": [
    "#### Puedes negar operadores booleanos con la palabra \"not\" o el simbolo \"~\""
   ]
  },
  {
   "cell_type": "code",
   "execution_count": null,
   "id": "f02b4f04",
   "metadata": {},
   "outputs": [],
   "source": [
    "df = pd.DataFrame(np.random.rand(n, 3), columns=list('abc'))"
   ]
  },
  {
   "cell_type": "code",
   "execution_count": null,
   "id": "b54c042f",
   "metadata": {},
   "outputs": [],
   "source": [
    "df['bools'] = np.random.rand(len(df)) > 0.5"
   ]
  },
  {
   "cell_type": "code",
   "execution_count": null,
   "id": "32133401",
   "metadata": {},
   "outputs": [],
   "source": [
    "# Podemos negar la expresion con el simbolo \"~\"\n",
    "df.query('~bools')"
   ]
  },
  {
   "cell_type": "code",
   "execution_count": null,
   "id": "2bb53941",
   "metadata": {},
   "outputs": [],
   "source": [
    "# O sencillamente, podemos utilizar la palabra \"not\"\n",
    "df.query('not bools')"
   ]
  },
  {
   "cell_type": "code",
   "execution_count": null,
   "id": "6d0eb5b2",
   "metadata": {},
   "outputs": [],
   "source": [
    "df.query('not bools') == df[~df['bools']]"
   ]
  },
  {
   "cell_type": "code",
   "execution_count": null,
   "id": "fa2402c5",
   "metadata": {},
   "outputs": [],
   "source": [
    "# Podemos escribir expresiones mas complejas\n",
    "shorter = df.query('a < b < c and (not bools) or bools > 2')"
   ]
  },
  {
   "cell_type": "code",
   "execution_count": null,
   "id": "2780db92",
   "metadata": {},
   "outputs": [],
   "source": [
    "shorter"
   ]
  },
  {
   "cell_type": "markdown",
   "id": "324af5c3",
   "metadata": {},
   "source": [
    "## Datos duplicados - duplicated() y drop_duplicates()"
   ]
  },
  {
   "cell_type": "markdown",
   "id": "f0eda707",
   "metadata": {},
   "source": [
    "#### duplicated(): devuelve un vector booleano cuya longitud es el número de filas y que indica si una fila está duplicada\n",
    "#### drop_duplicates(): elimina las filas duplicadas"
   ]
  },
  {
   "cell_type": "markdown",
   "id": "5ae3786a",
   "metadata": {},
   "source": [
    "#### De forma predeterminada, la primera fila observada de un conjunto duplicado se considera única, pero cada método tiene un parámetro de mantenimiento para especificar los objetivos que se mantendrán.\n",
    "\n",
    "#### 1. keep='first' (predeterminado): marca/elimina los duplicados excepto la primera aparición.\n",
    "\n",
    "#### 2. keep='last': marcar/eliminar duplicados excepto la última aparición.\n",
    "\n",
    "#### 3. keep=False: marca/elimina todos los duplicados."
   ]
  },
  {
   "cell_type": "code",
   "execution_count": null,
   "id": "df2f252c",
   "metadata": {},
   "outputs": [],
   "source": [
    "df2 = pd.DataFrame({'a': ['one', 'one', 'two', 'two', 'two', 'three', 'four'],\n",
    "                    'b': ['x', 'y', 'x', 'y', 'x', 'x', 'x'],\n",
    "                    'c': np.random.randn(7)})\n"
   ]
  },
  {
   "cell_type": "code",
   "execution_count": null,
   "id": "85831d58",
   "metadata": {},
   "outputs": [],
   "source": [
    "df2"
   ]
  },
  {
   "cell_type": "code",
   "execution_count": null,
   "id": "3bf67ab0",
   "metadata": {},
   "outputs": [],
   "source": [
    "# Vamos a determinar si hay duplicados de la columna \"a\"\n",
    "df2.duplicated('a')"
   ]
  },
  {
   "cell_type": "code",
   "execution_count": null,
   "id": "b22dcab0",
   "metadata": {},
   "outputs": [],
   "source": [
    "# Podemos seleccionar los indices duplicados\n",
    "df2.iloc[[1, 3, 4]]"
   ]
  },
  {
   "cell_type": "code",
   "execution_count": null,
   "id": "24779dd2",
   "metadata": {},
   "outputs": [],
   "source": [
    "# Ahora vamos a utilizar el argumento \"last\", que muestra todos menos la ultima aparicion\n",
    "df2.duplicated('a', keep='last')"
   ]
  },
  {
   "cell_type": "code",
   "execution_count": null,
   "id": "3a205a8f",
   "metadata": {},
   "outputs": [],
   "source": [
    "# Con \"False\" vamos a ver todos los numeros que tengan un duplicado\n",
    "df2.duplicated('a', keep=False)"
   ]
  },
  {
   "cell_type": "code",
   "execution_count": null,
   "id": "64fa3835",
   "metadata": {},
   "outputs": [],
   "source": [
    "# Vamos a eliminar todos los duplicados\n",
    "df2.drop_duplicates('a')"
   ]
  },
  {
   "cell_type": "code",
   "execution_count": null,
   "id": "b3b58ade",
   "metadata": {},
   "outputs": [],
   "source": [
    "df2.drop_duplicates('a', keep='last')"
   ]
  },
  {
   "cell_type": "code",
   "execution_count": null,
   "id": "d32b0c6c",
   "metadata": {},
   "outputs": [],
   "source": [
    "df2.drop_duplicates('a', keep=False)"
   ]
  },
  {
   "cell_type": "code",
   "execution_count": null,
   "id": "115ab8c2",
   "metadata": {},
   "outputs": [],
   "source": [
    "# Además, puede pasar una lista de columnas para identificar duplicados"
   ]
  },
  {
   "cell_type": "code",
   "execution_count": null,
   "id": "ed9294b1",
   "metadata": {},
   "outputs": [],
   "source": [
    "df2.duplicated(['a', 'b'])"
   ]
  },
  {
   "cell_type": "code",
   "execution_count": null,
   "id": "86aba67a",
   "metadata": {},
   "outputs": [],
   "source": [
    "# Tambien puede eliminarlos de ambas columnas, de forma simultanea\n",
    "df2.drop_duplicates(['a', 'b'])"
   ]
  },
  {
   "cell_type": "code",
   "execution_count": null,
   "id": "ca62b91e",
   "metadata": {},
   "outputs": [],
   "source": [
    "# Para eliminar los duplicados por valor de índice, use Index.duplicated y luego realice el corte. \n",
    "# El mismo conjunto de opciones está disponible para el parámetro \"keep\""
   ]
  },
  {
   "cell_type": "code",
   "execution_count": null,
   "id": "11ac7e9d",
   "metadata": {},
   "outputs": [],
   "source": [
    "df3 = pd.DataFrame({'a': np.arange(6),\n",
    "                    'b': np.random.randn(6)},\n",
    "                   index=['a', 'a', 'b', 'c', 'b', 'a'])"
   ]
  },
  {
   "cell_type": "code",
   "execution_count": null,
   "id": "eb912a5a",
   "metadata": {},
   "outputs": [],
   "source": [
    "df3"
   ]
  },
  {
   "cell_type": "code",
   "execution_count": null,
   "id": "d56c5118",
   "metadata": {},
   "outputs": [],
   "source": [
    "df3.index.duplicated()"
   ]
  },
  {
   "cell_type": "code",
   "execution_count": null,
   "id": "1c7b6515",
   "metadata": {},
   "outputs": [],
   "source": [
    "# Si utilizamos el simbolo \"~\", negamos la expresion, y veremos todos los indices no duplicados\n",
    "df3[~df3.index.duplicated()]"
   ]
  },
  {
   "cell_type": "code",
   "execution_count": null,
   "id": "81cd52a0",
   "metadata": {},
   "outputs": [],
   "source": [
    "df3[~df3.index.duplicated(keep='last')]"
   ]
  },
  {
   "cell_type": "code",
   "execution_count": null,
   "id": "3a9a2209",
   "metadata": {},
   "outputs": [],
   "source": [
    "df3[~df3.index.duplicated(keep=False)]"
   ]
  },
  {
   "cell_type": "markdown",
   "id": "c23e8bf7",
   "metadata": {},
   "source": [
    "## Indices de objetos"
   ]
  },
  {
   "cell_type": "markdown",
   "id": "dee3415d",
   "metadata": {},
   "source": [
    "#### La clase Pandas Index y sus subclases pueden verse como implementando un conjunto múltiple ordenado. Index también proporciona la infraestructura necesaria para búsquedas, alineación de datos y reindexación. La forma más sencilla de crear un Índice directamente es pasar una lista u otra secuencia a Índice"
   ]
  },
  {
   "cell_type": "code",
   "execution_count": 88,
   "id": "077aca50",
   "metadata": {},
   "outputs": [],
   "source": [
    "index = pd.Index(['e', 'd', 'a', 'b'])"
   ]
  },
  {
   "cell_type": "code",
   "execution_count": 89,
   "id": "426aa352",
   "metadata": {},
   "outputs": [
    {
     "data": {
      "text/plain": [
       "Index(['e', 'd', 'a', 'b'], dtype='object')"
      ]
     },
     "execution_count": 89,
     "metadata": {},
     "output_type": "execute_result"
    }
   ],
   "source": [
    "index"
   ]
  },
  {
   "cell_type": "code",
   "execution_count": 90,
   "id": "288adc30",
   "metadata": {},
   "outputs": [
    {
     "data": {
      "text/plain": [
       "True"
      ]
     },
     "execution_count": 90,
     "metadata": {},
     "output_type": "execute_result"
    }
   ],
   "source": [
    "'d' in index"
   ]
  },
  {
   "cell_type": "code",
   "execution_count": 92,
   "id": "3ebb0086",
   "metadata": {},
   "outputs": [],
   "source": [
    "# Si le colocamos un nombre a nuestro índice, aparecera en la consola\n",
    "index = pd.Index(list(range(5)), name='rows')\n",
    "columns = pd.Index(['A', 'B', 'C'], name='cols')"
   ]
  },
  {
   "cell_type": "code",
   "execution_count": 93,
   "id": "4a00df0c",
   "metadata": {},
   "outputs": [],
   "source": [
    "df = pd.DataFrame(np.random.randn(5, 3), index=index, columns=columns)"
   ]
  },
  {
   "cell_type": "code",
   "execution_count": 94,
   "id": "972fba84",
   "metadata": {},
   "outputs": [
    {
     "data": {
      "text/html": [
       "<div>\n",
       "<style scoped>\n",
       "    .dataframe tbody tr th:only-of-type {\n",
       "        vertical-align: middle;\n",
       "    }\n",
       "\n",
       "    .dataframe tbody tr th {\n",
       "        vertical-align: top;\n",
       "    }\n",
       "\n",
       "    .dataframe thead th {\n",
       "        text-align: right;\n",
       "    }\n",
       "</style>\n",
       "<table border=\"1\" class=\"dataframe\">\n",
       "  <thead>\n",
       "    <tr style=\"text-align: right;\">\n",
       "      <th>cols</th>\n",
       "      <th>A</th>\n",
       "      <th>B</th>\n",
       "      <th>C</th>\n",
       "    </tr>\n",
       "    <tr>\n",
       "      <th>rows</th>\n",
       "      <th></th>\n",
       "      <th></th>\n",
       "      <th></th>\n",
       "    </tr>\n",
       "  </thead>\n",
       "  <tbody>\n",
       "    <tr>\n",
       "      <th>0</th>\n",
       "      <td>-3.100684</td>\n",
       "      <td>-1.160621</td>\n",
       "      <td>-0.774115</td>\n",
       "    </tr>\n",
       "    <tr>\n",
       "      <th>1</th>\n",
       "      <td>0.576365</td>\n",
       "      <td>-0.367923</td>\n",
       "      <td>-0.893741</td>\n",
       "    </tr>\n",
       "    <tr>\n",
       "      <th>2</th>\n",
       "      <td>0.684400</td>\n",
       "      <td>-0.093616</td>\n",
       "      <td>0.878719</td>\n",
       "    </tr>\n",
       "    <tr>\n",
       "      <th>3</th>\n",
       "      <td>-2.404848</td>\n",
       "      <td>-0.112232</td>\n",
       "      <td>0.305428</td>\n",
       "    </tr>\n",
       "    <tr>\n",
       "      <th>4</th>\n",
       "      <td>0.335930</td>\n",
       "      <td>-2.596132</td>\n",
       "      <td>0.215909</td>\n",
       "    </tr>\n",
       "  </tbody>\n",
       "</table>\n",
       "</div>"
      ],
      "text/plain": [
       "cols         A         B         C\n",
       "rows                              \n",
       "0    -3.100684 -1.160621 -0.774115\n",
       "1     0.576365 -0.367923 -0.893741\n",
       "2     0.684400 -0.093616  0.878719\n",
       "3    -2.404848 -0.112232  0.305428\n",
       "4     0.335930 -2.596132  0.215909"
      ]
     },
     "execution_count": 94,
     "metadata": {},
     "output_type": "execute_result"
    }
   ],
   "source": [
    "df"
   ]
  },
  {
   "cell_type": "code",
   "execution_count": 95,
   "id": "7de18620",
   "metadata": {},
   "outputs": [
    {
     "data": {
      "text/plain": [
       "rows\n",
       "0   -1.160621\n",
       "1   -0.367923\n",
       "2   -0.093616\n",
       "3   -0.112232\n",
       "4   -2.596132\n",
       "Name: B, dtype: float64"
      ]
     },
     "execution_count": 95,
     "metadata": {},
     "output_type": "execute_result"
    }
   ],
   "source": [
    "df['B']"
   ]
  },
  {
   "cell_type": "markdown",
   "id": "afebab99",
   "metadata": {},
   "source": [
    "#### Los índices son \"en su mayoría inmutables\", pero es posible establecer y cambiar su atributo de nombre. Puede usar el cambio de nombre, set_names para establecer estos atributos directamente, y de manera predeterminada devolverán una copia."
   ]
  },
  {
   "cell_type": "code",
   "execution_count": 96,
   "id": "e9ef3390",
   "metadata": {},
   "outputs": [],
   "source": [
    "ind = pd.Index([1, 2, 3])"
   ]
  },
  {
   "cell_type": "code",
   "execution_count": 97,
   "id": "5c9dfe7d",
   "metadata": {},
   "outputs": [
    {
     "data": {
      "text/plain": [
       "Int64Index([1, 2, 3], dtype='int64', name='apple')"
      ]
     },
     "execution_count": 97,
     "metadata": {},
     "output_type": "execute_result"
    }
   ],
   "source": [
    "ind.rename(\"apple\")"
   ]
  },
  {
   "cell_type": "code",
   "execution_count": 98,
   "id": "125ffde5",
   "metadata": {},
   "outputs": [],
   "source": [
    "ind.set_names([\"apple\"], inplace=True)"
   ]
  },
  {
   "cell_type": "code",
   "execution_count": 99,
   "id": "8617bb12",
   "metadata": {},
   "outputs": [],
   "source": [
    "ind.name = \"bob\""
   ]
  },
  {
   "cell_type": "code",
   "execution_count": 100,
   "id": "8c5486a9",
   "metadata": {},
   "outputs": [
    {
     "data": {
      "text/plain": [
       "Int64Index([1, 2, 3], dtype='int64', name='bob')"
      ]
     },
     "execution_count": 100,
     "metadata": {},
     "output_type": "execute_result"
    }
   ],
   "source": [
    "ind"
   ]
  },
  {
   "cell_type": "markdown",
   "id": "36feb606",
   "metadata": {},
   "source": [
    "#### Las dos operaciones principales son la unión y la intersección. La diferencia se proporciona a través del método .difference()."
   ]
  },
  {
   "cell_type": "code",
   "execution_count": 101,
   "id": "40f3ceab",
   "metadata": {},
   "outputs": [],
   "source": [
    "a = pd.Index(['c', 'b', 'a'])"
   ]
  },
  {
   "cell_type": "code",
   "execution_count": 102,
   "id": "95415c62",
   "metadata": {},
   "outputs": [],
   "source": [
    "b = pd.Index(['c', 'e', 'd'])"
   ]
  },
  {
   "cell_type": "code",
   "execution_count": 103,
   "id": "b33deeed",
   "metadata": {},
   "outputs": [
    {
     "data": {
      "text/plain": [
       "Index(['a', 'b'], dtype='object')"
      ]
     },
     "execution_count": 103,
     "metadata": {},
     "output_type": "execute_result"
    }
   ],
   "source": [
    "a.difference(b)"
   ]
  },
  {
   "cell_type": "markdown",
   "id": "5654ddf0",
   "metadata": {},
   "source": [
    "## Establecer / restablecer un índice"
   ]
  },
  {
   "cell_type": "markdown",
   "id": "c8b6025f",
   "metadata": {},
   "source": [
    "#### Ocasionalmente, cargará o creará un conjunto de datos en un DataFrame y querrá agregar un índice después de que ya lo haya hecho. Hay un par de maneras diferentes."
   ]
  },
  {
   "cell_type": "markdown",
   "id": "26564080",
   "metadata": {},
   "source": [
    "### Establecer un índice"
   ]
  },
  {
   "cell_type": "markdown",
   "id": "9385354e",
   "metadata": {},
   "source": [
    "#### DataFrame tiene un método set_index() que toma un nombre de columna (para un índice normal) o una lista de nombres de columna (para un índice múltiple). Para crear un DataFrame nuevo y reindexado"
   ]
  },
  {
   "cell_type": "code",
   "execution_count": 106,
   "id": "5b354c7b",
   "metadata": {},
   "outputs": [],
   "source": [
    "# data"
   ]
  },
  {
   "cell_type": "code",
   "execution_count": 107,
   "id": "7b989390",
   "metadata": {},
   "outputs": [],
   "source": [
    "# indexed1 = data.set_index('c')"
   ]
  },
  {
   "cell_type": "code",
   "execution_count": 108,
   "id": "5792db2b",
   "metadata": {},
   "outputs": [],
   "source": [
    "# indexed1"
   ]
  },
  {
   "cell_type": "code",
   "execution_count": 109,
   "id": "6aee7f61",
   "metadata": {},
   "outputs": [],
   "source": [
    "# indexed2 = data.set_index(['a', 'b'])"
   ]
  },
  {
   "cell_type": "code",
   "execution_count": 110,
   "id": "e7e0e74c",
   "metadata": {},
   "outputs": [],
   "source": [
    "# indexed2"
   ]
  },
  {
   "cell_type": "markdown",
   "id": "35b70727",
   "metadata": {},
   "source": [
    "#### Otras opciones en set_index le permiten no eliminar las columnas de índice o agregar el índice en el lugar (sin crear un nuevo objeto)"
   ]
  },
  {
   "cell_type": "code",
   "execution_count": 111,
   "id": "8effb524",
   "metadata": {},
   "outputs": [],
   "source": [
    "# data.set_index('c', drop=False)"
   ]
  },
  {
   "cell_type": "code",
   "execution_count": 112,
   "id": "a1c6b2c5",
   "metadata": {},
   "outputs": [],
   "source": [
    "# data.set_index(['a', 'b'], inplace=True)"
   ]
  },
  {
   "cell_type": "code",
   "execution_count": 113,
   "id": "11f21adb",
   "metadata": {},
   "outputs": [],
   "source": [
    "# data"
   ]
  },
  {
   "cell_type": "markdown",
   "id": "65fb4ef6",
   "metadata": {},
   "source": [
    "### Restablecer el índice"
   ]
  },
  {
   "cell_type": "markdown",
   "id": "eb7e6168",
   "metadata": {},
   "source": [
    "#### Para su comodidad, hay una nueva función en DataFrame llamada reset_index() que transfiere los valores del índice a las columnas de DataFrame y establece un índice entero simple. Esta es la operación inversa de set_index()."
   ]
  },
  {
   "cell_type": "code",
   "execution_count": 114,
   "id": "a8ca1580",
   "metadata": {},
   "outputs": [],
   "source": [
    "# data"
   ]
  },
  {
   "cell_type": "code",
   "execution_count": 115,
   "id": "e7ab33d8",
   "metadata": {},
   "outputs": [],
   "source": [
    "# data.reset_index()"
   ]
  }
 ],
 "metadata": {
  "kernelspec": {
   "display_name": "Python 3 (ipykernel)",
   "language": "python",
   "name": "python3"
  },
  "language_info": {
   "codemirror_mode": {
    "name": "ipython",
    "version": 3
   },
   "file_extension": ".py",
   "mimetype": "text/x-python",
   "name": "python",
   "nbconvert_exporter": "python",
   "pygments_lexer": "ipython3",
   "version": "3.9.12"
  }
 },
 "nbformat": 4,
 "nbformat_minor": 5
}
