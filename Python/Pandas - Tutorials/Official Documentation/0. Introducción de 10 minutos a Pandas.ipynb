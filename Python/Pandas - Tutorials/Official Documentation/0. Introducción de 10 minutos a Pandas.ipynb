{
 "cells": [
  {
   "cell_type": "markdown",
   "id": "7e18631a",
   "metadata": {},
   "source": [
    "# Introducción de 10 minutos a Pandas"
   ]
  },
  {
   "cell_type": "code",
   "execution_count": 2,
   "id": "0ecd3858",
   "metadata": {},
   "outputs": [],
   "source": [
    "import numpy as np\n",
    "import pandas as pd"
   ]
  },
  {
   "cell_type": "markdown",
   "id": "2273748b",
   "metadata": {},
   "source": [
    "## Crear una serie de datos"
   ]
  },
  {
   "cell_type": "markdown",
   "id": "5f93930d",
   "metadata": {},
   "source": [
    "#### En Pandas la escritura de la funciones es: pd.Funcion. Debe recordar colocar el punto. Otro aspecto a resaltar es que muchas funciones comienzaN con letras mayuscula (Series), lo que puede ser un poco confuso si vienes de R."
   ]
  },
  {
   "cell_type": "markdown",
   "id": "29f80d00",
   "metadata": {},
   "source": [
    "#### Para crear una serie de datos, utilizamos la función: pd.Series()"
   ]
  },
  {
   "cell_type": "code",
   "execution_count": 3,
   "id": "62eddb7a",
   "metadata": {
    "scrolled": true
   },
   "outputs": [],
   "source": [
    "s = pd.Series([1, 3, 5, np.nan, 6, 8])"
   ]
  },
  {
   "cell_type": "code",
   "execution_count": 4,
   "id": "ea96ba37",
   "metadata": {},
   "outputs": [
    {
     "data": {
      "text/plain": [
       "0    1.0\n",
       "1    3.0\n",
       "2    5.0\n",
       "3    NaN\n",
       "4    6.0\n",
       "5    8.0\n",
       "dtype: float64"
      ]
     },
     "execution_count": 4,
     "metadata": {},
     "output_type": "execute_result"
    }
   ],
   "source": [
    "s"
   ]
  },
  {
   "cell_type": "markdown",
   "id": "6706476d",
   "metadata": {},
   "source": [
    "#### Vamos a crear ahora una serie de datos de fecha, para ello utilizaremos la funcion: pd.date_range()"
   ]
  },
  {
   "cell_type": "code",
   "execution_count": 5,
   "id": "c5469215",
   "metadata": {},
   "outputs": [],
   "source": [
    "dates = pd.date_range(\"20130101\", periods=6)"
   ]
  },
  {
   "cell_type": "code",
   "execution_count": 6,
   "id": "5b00105e",
   "metadata": {},
   "outputs": [
    {
     "data": {
      "text/plain": [
       "DatetimeIndex(['2013-01-01', '2013-01-02', '2013-01-03', '2013-01-04',\n",
       "               '2013-01-05', '2013-01-06'],\n",
       "              dtype='datetime64[ns]', freq='D')"
      ]
     },
     "execution_count": 6,
     "metadata": {},
     "output_type": "execute_result"
    }
   ],
   "source": [
    "dates"
   ]
  },
  {
   "cell_type": "markdown",
   "id": "ae70a55a",
   "metadata": {},
   "source": [
    "#### Para crear un data frame, utilizaremos la función: pd.DataFrame()"
   ]
  },
  {
   "cell_type": "code",
   "execution_count": 7,
   "id": "66c2edd0",
   "metadata": {},
   "outputs": [],
   "source": [
    "df = pd.DataFrame(np.random.randn(6, 4), index=dates, columns=list(\"ABCD\"))"
   ]
  },
  {
   "cell_type": "code",
   "execution_count": 8,
   "id": "2a85b299",
   "metadata": {},
   "outputs": [
    {
     "data": {
      "text/html": [
       "<div>\n",
       "<style scoped>\n",
       "    .dataframe tbody tr th:only-of-type {\n",
       "        vertical-align: middle;\n",
       "    }\n",
       "\n",
       "    .dataframe tbody tr th {\n",
       "        vertical-align: top;\n",
       "    }\n",
       "\n",
       "    .dataframe thead th {\n",
       "        text-align: right;\n",
       "    }\n",
       "</style>\n",
       "<table border=\"1\" class=\"dataframe\">\n",
       "  <thead>\n",
       "    <tr style=\"text-align: right;\">\n",
       "      <th></th>\n",
       "      <th>A</th>\n",
       "      <th>B</th>\n",
       "      <th>C</th>\n",
       "      <th>D</th>\n",
       "    </tr>\n",
       "  </thead>\n",
       "  <tbody>\n",
       "    <tr>\n",
       "      <th>2013-01-01</th>\n",
       "      <td>-0.001965</td>\n",
       "      <td>0.437481</td>\n",
       "      <td>-0.381301</td>\n",
       "      <td>-0.595245</td>\n",
       "    </tr>\n",
       "    <tr>\n",
       "      <th>2013-01-02</th>\n",
       "      <td>0.085869</td>\n",
       "      <td>-0.122022</td>\n",
       "      <td>-0.517601</td>\n",
       "      <td>1.405483</td>\n",
       "    </tr>\n",
       "    <tr>\n",
       "      <th>2013-01-03</th>\n",
       "      <td>0.272427</td>\n",
       "      <td>0.445342</td>\n",
       "      <td>0.127493</td>\n",
       "      <td>-2.061061</td>\n",
       "    </tr>\n",
       "    <tr>\n",
       "      <th>2013-01-04</th>\n",
       "      <td>0.818050</td>\n",
       "      <td>0.017886</td>\n",
       "      <td>-0.316788</td>\n",
       "      <td>-0.500438</td>\n",
       "    </tr>\n",
       "    <tr>\n",
       "      <th>2013-01-05</th>\n",
       "      <td>-0.396777</td>\n",
       "      <td>0.443381</td>\n",
       "      <td>1.930640</td>\n",
       "      <td>-0.437389</td>\n",
       "    </tr>\n",
       "    <tr>\n",
       "      <th>2013-01-06</th>\n",
       "      <td>-0.501817</td>\n",
       "      <td>-1.108095</td>\n",
       "      <td>0.025612</td>\n",
       "      <td>-0.557739</td>\n",
       "    </tr>\n",
       "  </tbody>\n",
       "</table>\n",
       "</div>"
      ],
      "text/plain": [
       "                   A         B         C         D\n",
       "2013-01-01 -0.001965  0.437481 -0.381301 -0.595245\n",
       "2013-01-02  0.085869 -0.122022 -0.517601  1.405483\n",
       "2013-01-03  0.272427  0.445342  0.127493 -2.061061\n",
       "2013-01-04  0.818050  0.017886 -0.316788 -0.500438\n",
       "2013-01-05 -0.396777  0.443381  1.930640 -0.437389\n",
       "2013-01-06 -0.501817 -1.108095  0.025612 -0.557739"
      ]
     },
     "execution_count": 8,
     "metadata": {},
     "output_type": "execute_result"
    }
   ],
   "source": [
    "df"
   ]
  },
  {
   "cell_type": "markdown",
   "id": "24b42734",
   "metadata": {},
   "source": [
    "#### Podemos crear el data frame de otra forma, utilizando pares de clave valor con un Diccionario de Python, pero con la misma función pd.DataFrame()"
   ]
  },
  {
   "cell_type": "code",
   "execution_count": 9,
   "id": "c678224e",
   "metadata": {},
   "outputs": [],
   "source": [
    "df2 = pd.DataFrame(\n",
    "    {\n",
    "        \"A\": 1.0,\n",
    "        \"B\": pd.Timestamp(\"20130102\"),\n",
    "        \"C\": pd.Series(1, index=list(range(4)), dtype=\"float32\"),\n",
    "        \"D\": np.array([3] * 4, dtype=\"int32\"),\n",
    "        \"E\": pd.Categorical([\"test\", \"train\", \"test\", \"train\"]),\n",
    "        \"F\": \"foo\",\n",
    "    }\n",
    ")\n"
   ]
  },
  {
   "cell_type": "code",
   "execution_count": 10,
   "id": "1287d1ca",
   "metadata": {},
   "outputs": [
    {
     "data": {
      "text/html": [
       "<div>\n",
       "<style scoped>\n",
       "    .dataframe tbody tr th:only-of-type {\n",
       "        vertical-align: middle;\n",
       "    }\n",
       "\n",
       "    .dataframe tbody tr th {\n",
       "        vertical-align: top;\n",
       "    }\n",
       "\n",
       "    .dataframe thead th {\n",
       "        text-align: right;\n",
       "    }\n",
       "</style>\n",
       "<table border=\"1\" class=\"dataframe\">\n",
       "  <thead>\n",
       "    <tr style=\"text-align: right;\">\n",
       "      <th></th>\n",
       "      <th>A</th>\n",
       "      <th>B</th>\n",
       "      <th>C</th>\n",
       "      <th>D</th>\n",
       "      <th>E</th>\n",
       "      <th>F</th>\n",
       "    </tr>\n",
       "  </thead>\n",
       "  <tbody>\n",
       "    <tr>\n",
       "      <th>0</th>\n",
       "      <td>1.0</td>\n",
       "      <td>2013-01-02</td>\n",
       "      <td>1.0</td>\n",
       "      <td>3</td>\n",
       "      <td>test</td>\n",
       "      <td>foo</td>\n",
       "    </tr>\n",
       "    <tr>\n",
       "      <th>1</th>\n",
       "      <td>1.0</td>\n",
       "      <td>2013-01-02</td>\n",
       "      <td>1.0</td>\n",
       "      <td>3</td>\n",
       "      <td>train</td>\n",
       "      <td>foo</td>\n",
       "    </tr>\n",
       "    <tr>\n",
       "      <th>2</th>\n",
       "      <td>1.0</td>\n",
       "      <td>2013-01-02</td>\n",
       "      <td>1.0</td>\n",
       "      <td>3</td>\n",
       "      <td>test</td>\n",
       "      <td>foo</td>\n",
       "    </tr>\n",
       "    <tr>\n",
       "      <th>3</th>\n",
       "      <td>1.0</td>\n",
       "      <td>2013-01-02</td>\n",
       "      <td>1.0</td>\n",
       "      <td>3</td>\n",
       "      <td>train</td>\n",
       "      <td>foo</td>\n",
       "    </tr>\n",
       "  </tbody>\n",
       "</table>\n",
       "</div>"
      ],
      "text/plain": [
       "     A          B    C  D      E    F\n",
       "0  1.0 2013-01-02  1.0  3   test  foo\n",
       "1  1.0 2013-01-02  1.0  3  train  foo\n",
       "2  1.0 2013-01-02  1.0  3   test  foo\n",
       "3  1.0 2013-01-02  1.0  3  train  foo"
      ]
     },
     "execution_count": 10,
     "metadata": {},
     "output_type": "execute_result"
    }
   ],
   "source": [
    "df2"
   ]
  },
  {
   "cell_type": "markdown",
   "id": "acb4bff0",
   "metadata": {},
   "source": [
    "#### Para conocer el tipo de datos de un data frame, debemos utilizar el método: dataframe.dtypes"
   ]
  },
  {
   "cell_type": "code",
   "execution_count": 11,
   "id": "3a3a61a9",
   "metadata": {},
   "outputs": [
    {
     "data": {
      "text/plain": [
       "A           float64\n",
       "B    datetime64[ns]\n",
       "C           float32\n",
       "D             int32\n",
       "E          category\n",
       "F            object\n",
       "dtype: object"
      ]
     },
     "execution_count": 11,
     "metadata": {},
     "output_type": "execute_result"
    }
   ],
   "source": [
    "df2.dtypes"
   ]
  },
  {
   "cell_type": "code",
   "execution_count": 12,
   "id": "cc005fca",
   "metadata": {
    "scrolled": true
   },
   "outputs": [
    {
     "data": {
      "text/plain": [
       "A    float64\n",
       "B    float64\n",
       "C    float64\n",
       "D    float64\n",
       "dtype: object"
      ]
     },
     "execution_count": 12,
     "metadata": {},
     "output_type": "execute_result"
    }
   ],
   "source": [
    "df.dtypes"
   ]
  },
  {
   "cell_type": "markdown",
   "id": "58f0eb37",
   "metadata": {},
   "source": [
    "## Visualizar los datos"
   ]
  },
  {
   "cell_type": "markdown",
   "id": "c88c7bd8",
   "metadata": {},
   "source": [
    "#### Para visualizar las primeras y últimas filas de la tabla, utilizaremos: df.head() y df.tail() respectivamente"
   ]
  },
  {
   "cell_type": "code",
   "execution_count": 13,
   "id": "f15d57b0",
   "metadata": {},
   "outputs": [
    {
     "data": {
      "text/html": [
       "<div>\n",
       "<style scoped>\n",
       "    .dataframe tbody tr th:only-of-type {\n",
       "        vertical-align: middle;\n",
       "    }\n",
       "\n",
       "    .dataframe tbody tr th {\n",
       "        vertical-align: top;\n",
       "    }\n",
       "\n",
       "    .dataframe thead th {\n",
       "        text-align: right;\n",
       "    }\n",
       "</style>\n",
       "<table border=\"1\" class=\"dataframe\">\n",
       "  <thead>\n",
       "    <tr style=\"text-align: right;\">\n",
       "      <th></th>\n",
       "      <th>A</th>\n",
       "      <th>B</th>\n",
       "      <th>C</th>\n",
       "      <th>D</th>\n",
       "    </tr>\n",
       "  </thead>\n",
       "  <tbody>\n",
       "    <tr>\n",
       "      <th>2013-01-01</th>\n",
       "      <td>-0.001965</td>\n",
       "      <td>0.437481</td>\n",
       "      <td>-0.381301</td>\n",
       "      <td>-0.595245</td>\n",
       "    </tr>\n",
       "    <tr>\n",
       "      <th>2013-01-02</th>\n",
       "      <td>0.085869</td>\n",
       "      <td>-0.122022</td>\n",
       "      <td>-0.517601</td>\n",
       "      <td>1.405483</td>\n",
       "    </tr>\n",
       "    <tr>\n",
       "      <th>2013-01-03</th>\n",
       "      <td>0.272427</td>\n",
       "      <td>0.445342</td>\n",
       "      <td>0.127493</td>\n",
       "      <td>-2.061061</td>\n",
       "    </tr>\n",
       "    <tr>\n",
       "      <th>2013-01-04</th>\n",
       "      <td>0.818050</td>\n",
       "      <td>0.017886</td>\n",
       "      <td>-0.316788</td>\n",
       "      <td>-0.500438</td>\n",
       "    </tr>\n",
       "    <tr>\n",
       "      <th>2013-01-05</th>\n",
       "      <td>-0.396777</td>\n",
       "      <td>0.443381</td>\n",
       "      <td>1.930640</td>\n",
       "      <td>-0.437389</td>\n",
       "    </tr>\n",
       "  </tbody>\n",
       "</table>\n",
       "</div>"
      ],
      "text/plain": [
       "                   A         B         C         D\n",
       "2013-01-01 -0.001965  0.437481 -0.381301 -0.595245\n",
       "2013-01-02  0.085869 -0.122022 -0.517601  1.405483\n",
       "2013-01-03  0.272427  0.445342  0.127493 -2.061061\n",
       "2013-01-04  0.818050  0.017886 -0.316788 -0.500438\n",
       "2013-01-05 -0.396777  0.443381  1.930640 -0.437389"
      ]
     },
     "execution_count": 13,
     "metadata": {},
     "output_type": "execute_result"
    }
   ],
   "source": [
    "df.head()"
   ]
  },
  {
   "cell_type": "code",
   "execution_count": 14,
   "id": "08f26101",
   "metadata": {},
   "outputs": [
    {
     "data": {
      "text/html": [
       "<div>\n",
       "<style scoped>\n",
       "    .dataframe tbody tr th:only-of-type {\n",
       "        vertical-align: middle;\n",
       "    }\n",
       "\n",
       "    .dataframe tbody tr th {\n",
       "        vertical-align: top;\n",
       "    }\n",
       "\n",
       "    .dataframe thead th {\n",
       "        text-align: right;\n",
       "    }\n",
       "</style>\n",
       "<table border=\"1\" class=\"dataframe\">\n",
       "  <thead>\n",
       "    <tr style=\"text-align: right;\">\n",
       "      <th></th>\n",
       "      <th>A</th>\n",
       "      <th>B</th>\n",
       "      <th>C</th>\n",
       "      <th>D</th>\n",
       "    </tr>\n",
       "  </thead>\n",
       "  <tbody>\n",
       "    <tr>\n",
       "      <th>2013-01-02</th>\n",
       "      <td>0.085869</td>\n",
       "      <td>-0.122022</td>\n",
       "      <td>-0.517601</td>\n",
       "      <td>1.405483</td>\n",
       "    </tr>\n",
       "    <tr>\n",
       "      <th>2013-01-03</th>\n",
       "      <td>0.272427</td>\n",
       "      <td>0.445342</td>\n",
       "      <td>0.127493</td>\n",
       "      <td>-2.061061</td>\n",
       "    </tr>\n",
       "    <tr>\n",
       "      <th>2013-01-04</th>\n",
       "      <td>0.818050</td>\n",
       "      <td>0.017886</td>\n",
       "      <td>-0.316788</td>\n",
       "      <td>-0.500438</td>\n",
       "    </tr>\n",
       "    <tr>\n",
       "      <th>2013-01-05</th>\n",
       "      <td>-0.396777</td>\n",
       "      <td>0.443381</td>\n",
       "      <td>1.930640</td>\n",
       "      <td>-0.437389</td>\n",
       "    </tr>\n",
       "    <tr>\n",
       "      <th>2013-01-06</th>\n",
       "      <td>-0.501817</td>\n",
       "      <td>-1.108095</td>\n",
       "      <td>0.025612</td>\n",
       "      <td>-0.557739</td>\n",
       "    </tr>\n",
       "  </tbody>\n",
       "</table>\n",
       "</div>"
      ],
      "text/plain": [
       "                   A         B         C         D\n",
       "2013-01-02  0.085869 -0.122022 -0.517601  1.405483\n",
       "2013-01-03  0.272427  0.445342  0.127493 -2.061061\n",
       "2013-01-04  0.818050  0.017886 -0.316788 -0.500438\n",
       "2013-01-05 -0.396777  0.443381  1.930640 -0.437389\n",
       "2013-01-06 -0.501817 -1.108095  0.025612 -0.557739"
      ]
     },
     "execution_count": 14,
     "metadata": {},
     "output_type": "execute_result"
    }
   ],
   "source": [
    "df.tail()"
   ]
  },
  {
   "cell_type": "markdown",
   "id": "69b3d9d2",
   "metadata": {},
   "source": [
    "#### Para ver los indices de las columnas df.index y para saber los nombres df.columns. Son métodos, no llevan paréntesis"
   ]
  },
  {
   "cell_type": "code",
   "execution_count": 15,
   "id": "e59b8bfc",
   "metadata": {},
   "outputs": [
    {
     "data": {
      "text/plain": [
       "DatetimeIndex(['2013-01-01', '2013-01-02', '2013-01-03', '2013-01-04',\n",
       "               '2013-01-05', '2013-01-06'],\n",
       "              dtype='datetime64[ns]', freq='D')"
      ]
     },
     "execution_count": 15,
     "metadata": {},
     "output_type": "execute_result"
    }
   ],
   "source": [
    "df.index"
   ]
  },
  {
   "cell_type": "code",
   "execution_count": 16,
   "id": "6d7c90a6",
   "metadata": {},
   "outputs": [
    {
     "data": {
      "text/plain": [
       "Int64Index([0, 1, 2, 3], dtype='int64')"
      ]
     },
     "execution_count": 16,
     "metadata": {},
     "output_type": "execute_result"
    }
   ],
   "source": [
    "df2.index"
   ]
  },
  {
   "cell_type": "code",
   "execution_count": 17,
   "id": "6c738a74",
   "metadata": {},
   "outputs": [
    {
     "data": {
      "text/plain": [
       "Index(['A', 'B', 'C', 'D'], dtype='object')"
      ]
     },
     "execution_count": 17,
     "metadata": {},
     "output_type": "execute_result"
    }
   ],
   "source": [
    "df.columns"
   ]
  },
  {
   "cell_type": "code",
   "execution_count": 18,
   "id": "c258422a",
   "metadata": {},
   "outputs": [
    {
     "data": {
      "text/plain": [
       "Index(['A', 'B', 'C', 'D', 'E', 'F'], dtype='object')"
      ]
     },
     "execution_count": 18,
     "metadata": {},
     "output_type": "execute_result"
    }
   ],
   "source": [
    "df2.columns"
   ]
  },
  {
   "cell_type": "markdown",
   "id": "41d27786",
   "metadata": {},
   "source": [
    "#### La función df.describe() muestra un resumen estadístico rápido de sus datos: count, mean, std, min, max y percentiles"
   ]
  },
  {
   "cell_type": "code",
   "execution_count": 19,
   "id": "96271bf5",
   "metadata": {},
   "outputs": [
    {
     "data": {
      "text/html": [
       "<div>\n",
       "<style scoped>\n",
       "    .dataframe tbody tr th:only-of-type {\n",
       "        vertical-align: middle;\n",
       "    }\n",
       "\n",
       "    .dataframe tbody tr th {\n",
       "        vertical-align: top;\n",
       "    }\n",
       "\n",
       "    .dataframe thead th {\n",
       "        text-align: right;\n",
       "    }\n",
       "</style>\n",
       "<table border=\"1\" class=\"dataframe\">\n",
       "  <thead>\n",
       "    <tr style=\"text-align: right;\">\n",
       "      <th></th>\n",
       "      <th>A</th>\n",
       "      <th>B</th>\n",
       "      <th>C</th>\n",
       "      <th>D</th>\n",
       "    </tr>\n",
       "  </thead>\n",
       "  <tbody>\n",
       "    <tr>\n",
       "      <th>count</th>\n",
       "      <td>6.000000</td>\n",
       "      <td>6.000000</td>\n",
       "      <td>6.000000</td>\n",
       "      <td>6.000000</td>\n",
       "    </tr>\n",
       "    <tr>\n",
       "      <th>mean</th>\n",
       "      <td>0.045965</td>\n",
       "      <td>0.018996</td>\n",
       "      <td>0.144676</td>\n",
       "      <td>-0.457732</td>\n",
       "    </tr>\n",
       "    <tr>\n",
       "      <th>std</th>\n",
       "      <td>0.479036</td>\n",
       "      <td>0.604520</td>\n",
       "      <td>0.909104</td>\n",
       "      <td>1.102124</td>\n",
       "    </tr>\n",
       "    <tr>\n",
       "      <th>min</th>\n",
       "      <td>-0.501817</td>\n",
       "      <td>-1.108095</td>\n",
       "      <td>-0.517601</td>\n",
       "      <td>-2.061061</td>\n",
       "    </tr>\n",
       "    <tr>\n",
       "      <th>25%</th>\n",
       "      <td>-0.298074</td>\n",
       "      <td>-0.087045</td>\n",
       "      <td>-0.365173</td>\n",
       "      <td>-0.585869</td>\n",
       "    </tr>\n",
       "    <tr>\n",
       "      <th>50%</th>\n",
       "      <td>0.041952</td>\n",
       "      <td>0.227684</td>\n",
       "      <td>-0.145588</td>\n",
       "      <td>-0.529088</td>\n",
       "    </tr>\n",
       "    <tr>\n",
       "      <th>75%</th>\n",
       "      <td>0.225787</td>\n",
       "      <td>0.441906</td>\n",
       "      <td>0.102023</td>\n",
       "      <td>-0.453151</td>\n",
       "    </tr>\n",
       "    <tr>\n",
       "      <th>max</th>\n",
       "      <td>0.818050</td>\n",
       "      <td>0.445342</td>\n",
       "      <td>1.930640</td>\n",
       "      <td>1.405483</td>\n",
       "    </tr>\n",
       "  </tbody>\n",
       "</table>\n",
       "</div>"
      ],
      "text/plain": [
       "              A         B         C         D\n",
       "count  6.000000  6.000000  6.000000  6.000000\n",
       "mean   0.045965  0.018996  0.144676 -0.457732\n",
       "std    0.479036  0.604520  0.909104  1.102124\n",
       "min   -0.501817 -1.108095 -0.517601 -2.061061\n",
       "25%   -0.298074 -0.087045 -0.365173 -0.585869\n",
       "50%    0.041952  0.227684 -0.145588 -0.529088\n",
       "75%    0.225787  0.441906  0.102023 -0.453151\n",
       "max    0.818050  0.445342  1.930640  1.405483"
      ]
     },
     "execution_count": 19,
     "metadata": {},
     "output_type": "execute_result"
    }
   ],
   "source": [
    "df.describe()"
   ]
  },
  {
   "cell_type": "markdown",
   "id": "74516dcd",
   "metadata": {},
   "source": [
    "#### Para trasponer los datos (intercambiar filas por columnas), debemos utilizar el método: df.T"
   ]
  },
  {
   "cell_type": "code",
   "execution_count": 20,
   "id": "f13669ea",
   "metadata": {},
   "outputs": [
    {
     "data": {
      "text/html": [
       "<div>\n",
       "<style scoped>\n",
       "    .dataframe tbody tr th:only-of-type {\n",
       "        vertical-align: middle;\n",
       "    }\n",
       "\n",
       "    .dataframe tbody tr th {\n",
       "        vertical-align: top;\n",
       "    }\n",
       "\n",
       "    .dataframe thead th {\n",
       "        text-align: right;\n",
       "    }\n",
       "</style>\n",
       "<table border=\"1\" class=\"dataframe\">\n",
       "  <thead>\n",
       "    <tr style=\"text-align: right;\">\n",
       "      <th></th>\n",
       "      <th>2013-01-01</th>\n",
       "      <th>2013-01-02</th>\n",
       "      <th>2013-01-03</th>\n",
       "      <th>2013-01-04</th>\n",
       "      <th>2013-01-05</th>\n",
       "      <th>2013-01-06</th>\n",
       "    </tr>\n",
       "  </thead>\n",
       "  <tbody>\n",
       "    <tr>\n",
       "      <th>A</th>\n",
       "      <td>-0.001965</td>\n",
       "      <td>0.085869</td>\n",
       "      <td>0.272427</td>\n",
       "      <td>0.818050</td>\n",
       "      <td>-0.396777</td>\n",
       "      <td>-0.501817</td>\n",
       "    </tr>\n",
       "    <tr>\n",
       "      <th>B</th>\n",
       "      <td>0.437481</td>\n",
       "      <td>-0.122022</td>\n",
       "      <td>0.445342</td>\n",
       "      <td>0.017886</td>\n",
       "      <td>0.443381</td>\n",
       "      <td>-1.108095</td>\n",
       "    </tr>\n",
       "    <tr>\n",
       "      <th>C</th>\n",
       "      <td>-0.381301</td>\n",
       "      <td>-0.517601</td>\n",
       "      <td>0.127493</td>\n",
       "      <td>-0.316788</td>\n",
       "      <td>1.930640</td>\n",
       "      <td>0.025612</td>\n",
       "    </tr>\n",
       "    <tr>\n",
       "      <th>D</th>\n",
       "      <td>-0.595245</td>\n",
       "      <td>1.405483</td>\n",
       "      <td>-2.061061</td>\n",
       "      <td>-0.500438</td>\n",
       "      <td>-0.437389</td>\n",
       "      <td>-0.557739</td>\n",
       "    </tr>\n",
       "  </tbody>\n",
       "</table>\n",
       "</div>"
      ],
      "text/plain": [
       "   2013-01-01  2013-01-02  2013-01-03  2013-01-04  2013-01-05  2013-01-06\n",
       "A   -0.001965    0.085869    0.272427    0.818050   -0.396777   -0.501817\n",
       "B    0.437481   -0.122022    0.445342    0.017886    0.443381   -1.108095\n",
       "C   -0.381301   -0.517601    0.127493   -0.316788    1.930640    0.025612\n",
       "D   -0.595245    1.405483   -2.061061   -0.500438   -0.437389   -0.557739"
      ]
     },
     "execution_count": 20,
     "metadata": {},
     "output_type": "execute_result"
    }
   ],
   "source": [
    "df.T"
   ]
  },
  {
   "cell_type": "markdown",
   "id": "a6abbc46",
   "metadata": {},
   "source": [
    "#### Podemos ordenar los datos por índice df.sort_index() o por valor df.sort_values(by =). Para sort_values es imprescindible definir el nombre de la columna para ordenar."
   ]
  },
  {
   "cell_type": "code",
   "execution_count": 21,
   "id": "3b77a8a9",
   "metadata": {},
   "outputs": [
    {
     "data": {
      "text/html": [
       "<div>\n",
       "<style scoped>\n",
       "    .dataframe tbody tr th:only-of-type {\n",
       "        vertical-align: middle;\n",
       "    }\n",
       "\n",
       "    .dataframe tbody tr th {\n",
       "        vertical-align: top;\n",
       "    }\n",
       "\n",
       "    .dataframe thead th {\n",
       "        text-align: right;\n",
       "    }\n",
       "</style>\n",
       "<table border=\"1\" class=\"dataframe\">\n",
       "  <thead>\n",
       "    <tr style=\"text-align: right;\">\n",
       "      <th></th>\n",
       "      <th>A</th>\n",
       "      <th>B</th>\n",
       "      <th>C</th>\n",
       "      <th>D</th>\n",
       "    </tr>\n",
       "  </thead>\n",
       "  <tbody>\n",
       "    <tr>\n",
       "      <th>2013-01-06</th>\n",
       "      <td>-0.501817</td>\n",
       "      <td>-1.108095</td>\n",
       "      <td>0.025612</td>\n",
       "      <td>-0.557739</td>\n",
       "    </tr>\n",
       "    <tr>\n",
       "      <th>2013-01-05</th>\n",
       "      <td>-0.396777</td>\n",
       "      <td>0.443381</td>\n",
       "      <td>1.930640</td>\n",
       "      <td>-0.437389</td>\n",
       "    </tr>\n",
       "    <tr>\n",
       "      <th>2013-01-04</th>\n",
       "      <td>0.818050</td>\n",
       "      <td>0.017886</td>\n",
       "      <td>-0.316788</td>\n",
       "      <td>-0.500438</td>\n",
       "    </tr>\n",
       "    <tr>\n",
       "      <th>2013-01-03</th>\n",
       "      <td>0.272427</td>\n",
       "      <td>0.445342</td>\n",
       "      <td>0.127493</td>\n",
       "      <td>-2.061061</td>\n",
       "    </tr>\n",
       "    <tr>\n",
       "      <th>2013-01-02</th>\n",
       "      <td>0.085869</td>\n",
       "      <td>-0.122022</td>\n",
       "      <td>-0.517601</td>\n",
       "      <td>1.405483</td>\n",
       "    </tr>\n",
       "    <tr>\n",
       "      <th>2013-01-01</th>\n",
       "      <td>-0.001965</td>\n",
       "      <td>0.437481</td>\n",
       "      <td>-0.381301</td>\n",
       "      <td>-0.595245</td>\n",
       "    </tr>\n",
       "  </tbody>\n",
       "</table>\n",
       "</div>"
      ],
      "text/plain": [
       "                   A         B         C         D\n",
       "2013-01-06 -0.501817 -1.108095  0.025612 -0.557739\n",
       "2013-01-05 -0.396777  0.443381  1.930640 -0.437389\n",
       "2013-01-04  0.818050  0.017886 -0.316788 -0.500438\n",
       "2013-01-03  0.272427  0.445342  0.127493 -2.061061\n",
       "2013-01-02  0.085869 -0.122022 -0.517601  1.405483\n",
       "2013-01-01 -0.001965  0.437481 -0.381301 -0.595245"
      ]
     },
     "execution_count": 21,
     "metadata": {},
     "output_type": "execute_result"
    }
   ],
   "source": [
    "df.sort_index(ascending=False) #Ordenar en forma descendente"
   ]
  },
  {
   "cell_type": "code",
   "execution_count": 22,
   "id": "22705671",
   "metadata": {},
   "outputs": [
    {
     "data": {
      "text/html": [
       "<div>\n",
       "<style scoped>\n",
       "    .dataframe tbody tr th:only-of-type {\n",
       "        vertical-align: middle;\n",
       "    }\n",
       "\n",
       "    .dataframe tbody tr th {\n",
       "        vertical-align: top;\n",
       "    }\n",
       "\n",
       "    .dataframe thead th {\n",
       "        text-align: right;\n",
       "    }\n",
       "</style>\n",
       "<table border=\"1\" class=\"dataframe\">\n",
       "  <thead>\n",
       "    <tr style=\"text-align: right;\">\n",
       "      <th></th>\n",
       "      <th>A</th>\n",
       "      <th>B</th>\n",
       "      <th>C</th>\n",
       "      <th>D</th>\n",
       "    </tr>\n",
       "  </thead>\n",
       "  <tbody>\n",
       "    <tr>\n",
       "      <th>2013-01-02</th>\n",
       "      <td>0.085869</td>\n",
       "      <td>-0.122022</td>\n",
       "      <td>-0.517601</td>\n",
       "      <td>1.405483</td>\n",
       "    </tr>\n",
       "    <tr>\n",
       "      <th>2013-01-01</th>\n",
       "      <td>-0.001965</td>\n",
       "      <td>0.437481</td>\n",
       "      <td>-0.381301</td>\n",
       "      <td>-0.595245</td>\n",
       "    </tr>\n",
       "    <tr>\n",
       "      <th>2013-01-04</th>\n",
       "      <td>0.818050</td>\n",
       "      <td>0.017886</td>\n",
       "      <td>-0.316788</td>\n",
       "      <td>-0.500438</td>\n",
       "    </tr>\n",
       "    <tr>\n",
       "      <th>2013-01-06</th>\n",
       "      <td>-0.501817</td>\n",
       "      <td>-1.108095</td>\n",
       "      <td>0.025612</td>\n",
       "      <td>-0.557739</td>\n",
       "    </tr>\n",
       "    <tr>\n",
       "      <th>2013-01-03</th>\n",
       "      <td>0.272427</td>\n",
       "      <td>0.445342</td>\n",
       "      <td>0.127493</td>\n",
       "      <td>-2.061061</td>\n",
       "    </tr>\n",
       "    <tr>\n",
       "      <th>2013-01-05</th>\n",
       "      <td>-0.396777</td>\n",
       "      <td>0.443381</td>\n",
       "      <td>1.930640</td>\n",
       "      <td>-0.437389</td>\n",
       "    </tr>\n",
       "  </tbody>\n",
       "</table>\n",
       "</div>"
      ],
      "text/plain": [
       "                   A         B         C         D\n",
       "2013-01-02  0.085869 -0.122022 -0.517601  1.405483\n",
       "2013-01-01 -0.001965  0.437481 -0.381301 -0.595245\n",
       "2013-01-04  0.818050  0.017886 -0.316788 -0.500438\n",
       "2013-01-06 -0.501817 -1.108095  0.025612 -0.557739\n",
       "2013-01-03  0.272427  0.445342  0.127493 -2.061061\n",
       "2013-01-05 -0.396777  0.443381  1.930640 -0.437389"
      ]
     },
     "execution_count": 22,
     "metadata": {},
     "output_type": "execute_result"
    }
   ],
   "source": [
    "df.sort_values(by = \"C\") #Ordenar los valores de la tabla, en base a la columna C"
   ]
  },
  {
   "cell_type": "markdown",
   "id": "185097ca",
   "metadata": {},
   "source": [
    "## Selección de columnas"
   ]
  },
  {
   "cell_type": "markdown",
   "id": "7d1afb77",
   "metadata": {},
   "source": [
    "#### Para la selección de columnas e indices, pueden utilizarse métodos tradicionales con corchetes []. Sin embargo, PANDAS pone a disposicion unos metodos que son mas directos y utiles: .at, .iat, .loc and .iloc."
   ]
  },
  {
   "cell_type": "markdown",
   "id": "c2f67c9f",
   "metadata": {},
   "source": [
    "#### Para seleccionar una columna, solo tenemos que utilizar corchetes, y el nombre la columna en comillas: df[\"A\"]"
   ]
  },
  {
   "cell_type": "code",
   "execution_count": 23,
   "id": "ddcd0778",
   "metadata": {},
   "outputs": [
    {
     "data": {
      "text/plain": [
       "2013-01-01   -0.001965\n",
       "2013-01-02    0.085869\n",
       "2013-01-03    0.272427\n",
       "2013-01-04    0.818050\n",
       "2013-01-05   -0.396777\n",
       "2013-01-06   -0.501817\n",
       "Freq: D, Name: A, dtype: float64"
      ]
     },
     "execution_count": 23,
     "metadata": {},
     "output_type": "execute_result"
    }
   ],
   "source": [
    "df[\"A\"]"
   ]
  },
  {
   "cell_type": "markdown",
   "id": "ab602731",
   "metadata": {},
   "source": [
    "#### Para seleccionar filas, podemos utilizar corchetes, y definir cuántas filas queremos df[0:3]"
   ]
  },
  {
   "cell_type": "code",
   "execution_count": 24,
   "id": "ac213704",
   "metadata": {},
   "outputs": [
    {
     "data": {
      "text/html": [
       "<div>\n",
       "<style scoped>\n",
       "    .dataframe tbody tr th:only-of-type {\n",
       "        vertical-align: middle;\n",
       "    }\n",
       "\n",
       "    .dataframe tbody tr th {\n",
       "        vertical-align: top;\n",
       "    }\n",
       "\n",
       "    .dataframe thead th {\n",
       "        text-align: right;\n",
       "    }\n",
       "</style>\n",
       "<table border=\"1\" class=\"dataframe\">\n",
       "  <thead>\n",
       "    <tr style=\"text-align: right;\">\n",
       "      <th></th>\n",
       "      <th>A</th>\n",
       "      <th>B</th>\n",
       "      <th>C</th>\n",
       "      <th>D</th>\n",
       "    </tr>\n",
       "  </thead>\n",
       "  <tbody>\n",
       "    <tr>\n",
       "      <th>2013-01-01</th>\n",
       "      <td>-0.001965</td>\n",
       "      <td>0.437481</td>\n",
       "      <td>-0.381301</td>\n",
       "      <td>-0.595245</td>\n",
       "    </tr>\n",
       "    <tr>\n",
       "      <th>2013-01-02</th>\n",
       "      <td>0.085869</td>\n",
       "      <td>-0.122022</td>\n",
       "      <td>-0.517601</td>\n",
       "      <td>1.405483</td>\n",
       "    </tr>\n",
       "    <tr>\n",
       "      <th>2013-01-03</th>\n",
       "      <td>0.272427</td>\n",
       "      <td>0.445342</td>\n",
       "      <td>0.127493</td>\n",
       "      <td>-2.061061</td>\n",
       "    </tr>\n",
       "  </tbody>\n",
       "</table>\n",
       "</div>"
      ],
      "text/plain": [
       "                   A         B         C         D\n",
       "2013-01-01 -0.001965  0.437481 -0.381301 -0.595245\n",
       "2013-01-02  0.085869 -0.122022 -0.517601  1.405483\n",
       "2013-01-03  0.272427  0.445342  0.127493 -2.061061"
      ]
     },
     "execution_count": 24,
     "metadata": {},
     "output_type": "execute_result"
    }
   ],
   "source": [
    "df[0:3]"
   ]
  },
  {
   "cell_type": "markdown",
   "id": "bc857680",
   "metadata": {},
   "source": [
    "#### Podemos hacer los mismo con texto, si de antemano conocemos los índices de las filas"
   ]
  },
  {
   "cell_type": "code",
   "execution_count": 25,
   "id": "e8d9931e",
   "metadata": {},
   "outputs": [
    {
     "data": {
      "text/html": [
       "<div>\n",
       "<style scoped>\n",
       "    .dataframe tbody tr th:only-of-type {\n",
       "        vertical-align: middle;\n",
       "    }\n",
       "\n",
       "    .dataframe tbody tr th {\n",
       "        vertical-align: top;\n",
       "    }\n",
       "\n",
       "    .dataframe thead th {\n",
       "        text-align: right;\n",
       "    }\n",
       "</style>\n",
       "<table border=\"1\" class=\"dataframe\">\n",
       "  <thead>\n",
       "    <tr style=\"text-align: right;\">\n",
       "      <th></th>\n",
       "      <th>A</th>\n",
       "      <th>B</th>\n",
       "      <th>C</th>\n",
       "      <th>D</th>\n",
       "    </tr>\n",
       "  </thead>\n",
       "  <tbody>\n",
       "    <tr>\n",
       "      <th>2013-01-02</th>\n",
       "      <td>0.085869</td>\n",
       "      <td>-0.122022</td>\n",
       "      <td>-0.517601</td>\n",
       "      <td>1.405483</td>\n",
       "    </tr>\n",
       "    <tr>\n",
       "      <th>2013-01-03</th>\n",
       "      <td>0.272427</td>\n",
       "      <td>0.445342</td>\n",
       "      <td>0.127493</td>\n",
       "      <td>-2.061061</td>\n",
       "    </tr>\n",
       "    <tr>\n",
       "      <th>2013-01-04</th>\n",
       "      <td>0.818050</td>\n",
       "      <td>0.017886</td>\n",
       "      <td>-0.316788</td>\n",
       "      <td>-0.500438</td>\n",
       "    </tr>\n",
       "  </tbody>\n",
       "</table>\n",
       "</div>"
      ],
      "text/plain": [
       "                   A         B         C         D\n",
       "2013-01-02  0.085869 -0.122022 -0.517601  1.405483\n",
       "2013-01-03  0.272427  0.445342  0.127493 -2.061061\n",
       "2013-01-04  0.818050  0.017886 -0.316788 -0.500438"
      ]
     },
     "execution_count": 25,
     "metadata": {},
     "output_type": "execute_result"
    }
   ],
   "source": [
    "df[\"20130102\":\"20130104\"]"
   ]
  },
  {
   "cell_type": "markdown",
   "id": "4bf8e946",
   "metadata": {},
   "source": [
    "### 1. Seleccionar por etiquetas (nombre de la fila o la columna) - Función .loc"
   ]
  },
  {
   "cell_type": "markdown",
   "id": "20dd5de3",
   "metadata": {},
   "source": [
    "#### Podemos obtener una selección transversal (seleccionar las filas y las columnas al mismo tiempo), utilizando df.loc[[0]]"
   ]
  },
  {
   "cell_type": "code",
   "execution_count": 26,
   "id": "fc2acab5",
   "metadata": {},
   "outputs": [
    {
     "data": {
      "text/plain": [
       "A   -0.001965\n",
       "B    0.437481\n",
       "C   -0.381301\n",
       "D   -0.595245\n",
       "Name: 2013-01-01 00:00:00, dtype: float64"
      ]
     },
     "execution_count": 26,
     "metadata": {},
     "output_type": "execute_result"
    }
   ],
   "source": [
    "df.loc[dates[0]] #Selecciona la primera fila y los valores de todas sus columnas, y los traspone"
   ]
  },
  {
   "cell_type": "markdown",
   "id": "13d6ac55",
   "metadata": {},
   "source": [
    "#### También podemos hacer selecciones múltiples con df.loc[[\"A\", \"B\"]]"
   ]
  },
  {
   "cell_type": "code",
   "execution_count": 27,
   "id": "e8a7e8e6",
   "metadata": {},
   "outputs": [
    {
     "data": {
      "text/html": [
       "<div>\n",
       "<style scoped>\n",
       "    .dataframe tbody tr th:only-of-type {\n",
       "        vertical-align: middle;\n",
       "    }\n",
       "\n",
       "    .dataframe tbody tr th {\n",
       "        vertical-align: top;\n",
       "    }\n",
       "\n",
       "    .dataframe thead th {\n",
       "        text-align: right;\n",
       "    }\n",
       "</style>\n",
       "<table border=\"1\" class=\"dataframe\">\n",
       "  <thead>\n",
       "    <tr style=\"text-align: right;\">\n",
       "      <th></th>\n",
       "      <th>A</th>\n",
       "      <th>B</th>\n",
       "    </tr>\n",
       "  </thead>\n",
       "  <tbody>\n",
       "    <tr>\n",
       "      <th>2013-01-01</th>\n",
       "      <td>-0.001965</td>\n",
       "      <td>0.437481</td>\n",
       "    </tr>\n",
       "    <tr>\n",
       "      <th>2013-01-02</th>\n",
       "      <td>0.085869</td>\n",
       "      <td>-0.122022</td>\n",
       "    </tr>\n",
       "    <tr>\n",
       "      <th>2013-01-03</th>\n",
       "      <td>0.272427</td>\n",
       "      <td>0.445342</td>\n",
       "    </tr>\n",
       "    <tr>\n",
       "      <th>2013-01-04</th>\n",
       "      <td>0.818050</td>\n",
       "      <td>0.017886</td>\n",
       "    </tr>\n",
       "    <tr>\n",
       "      <th>2013-01-05</th>\n",
       "      <td>-0.396777</td>\n",
       "      <td>0.443381</td>\n",
       "    </tr>\n",
       "    <tr>\n",
       "      <th>2013-01-06</th>\n",
       "      <td>-0.501817</td>\n",
       "      <td>-1.108095</td>\n",
       "    </tr>\n",
       "  </tbody>\n",
       "</table>\n",
       "</div>"
      ],
      "text/plain": [
       "                   A         B\n",
       "2013-01-01 -0.001965  0.437481\n",
       "2013-01-02  0.085869 -0.122022\n",
       "2013-01-03  0.272427  0.445342\n",
       "2013-01-04  0.818050  0.017886\n",
       "2013-01-05 -0.396777  0.443381\n",
       "2013-01-06 -0.501817 -1.108095"
      ]
     },
     "execution_count": 27,
     "metadata": {},
     "output_type": "execute_result"
    }
   ],
   "source": [
    "df.loc[:, [\"A\", \"B\"]] #Selecciona todos los valores \":\" de las columnas A y B"
   ]
  },
  {
   "cell_type": "code",
   "execution_count": 28,
   "id": "3c72ba50",
   "metadata": {},
   "outputs": [
    {
     "data": {
      "text/html": [
       "<div>\n",
       "<style scoped>\n",
       "    .dataframe tbody tr th:only-of-type {\n",
       "        vertical-align: middle;\n",
       "    }\n",
       "\n",
       "    .dataframe tbody tr th {\n",
       "        vertical-align: top;\n",
       "    }\n",
       "\n",
       "    .dataframe thead th {\n",
       "        text-align: right;\n",
       "    }\n",
       "</style>\n",
       "<table border=\"1\" class=\"dataframe\">\n",
       "  <thead>\n",
       "    <tr style=\"text-align: right;\">\n",
       "      <th></th>\n",
       "      <th>A</th>\n",
       "      <th>B</th>\n",
       "      <th>C</th>\n",
       "    </tr>\n",
       "  </thead>\n",
       "  <tbody>\n",
       "    <tr>\n",
       "      <th>2013-01-02</th>\n",
       "      <td>0.085869</td>\n",
       "      <td>-0.122022</td>\n",
       "      <td>-0.517601</td>\n",
       "    </tr>\n",
       "    <tr>\n",
       "      <th>2013-01-03</th>\n",
       "      <td>0.272427</td>\n",
       "      <td>0.445342</td>\n",
       "      <td>0.127493</td>\n",
       "    </tr>\n",
       "    <tr>\n",
       "      <th>2013-01-04</th>\n",
       "      <td>0.818050</td>\n",
       "      <td>0.017886</td>\n",
       "      <td>-0.316788</td>\n",
       "    </tr>\n",
       "  </tbody>\n",
       "</table>\n",
       "</div>"
      ],
      "text/plain": [
       "                   A         B         C\n",
       "2013-01-02  0.085869 -0.122022 -0.517601\n",
       "2013-01-03  0.272427  0.445342  0.127493\n",
       "2013-01-04  0.818050  0.017886 -0.316788"
      ]
     },
     "execution_count": 28,
     "metadata": {},
     "output_type": "execute_result"
    }
   ],
   "source": [
    "df.loc[\"20130102\":\"20130104\", [\"A\", \"B\", \"C\"]] #Selecciona columnas y filas con criterios especificos"
   ]
  },
  {
   "cell_type": "code",
   "execution_count": 29,
   "id": "e5eaecb3",
   "metadata": {},
   "outputs": [
    {
     "data": {
      "text/plain": [
       "A    0.085869\n",
       "B   -0.122022\n",
       "Name: 2013-01-02 00:00:00, dtype: float64"
      ]
     },
     "execution_count": 29,
     "metadata": {},
     "output_type": "execute_result"
    }
   ],
   "source": [
    "df.loc[\"20130102\", [\"A\", \"B\"]] #Esta sintaxis, reduce la dimensión del objeto de salida"
   ]
  },
  {
   "cell_type": "markdown",
   "id": "cd17d7c8",
   "metadata": {},
   "source": [
    "### 2. Seleccionar por posición - Función .iloc (index location)"
   ]
  },
  {
   "cell_type": "markdown",
   "id": "e2683bac",
   "metadata": {},
   "source": [
    "#### Seleccionar a través de la posición de los enteros df.iloc[ ]"
   ]
  },
  {
   "cell_type": "code",
   "execution_count": 30,
   "id": "7a25b093",
   "metadata": {},
   "outputs": [
    {
     "data": {
      "text/plain": [
       "A    0.818050\n",
       "B    0.017886\n",
       "C   -0.316788\n",
       "D   -0.500438\n",
       "Name: 2013-01-04 00:00:00, dtype: float64"
      ]
     },
     "execution_count": 30,
     "metadata": {},
     "output_type": "execute_result"
    }
   ],
   "source": [
    "df.iloc[3] #Devuelve los datos de la fila 3 y todas sus columnas"
   ]
  },
  {
   "cell_type": "markdown",
   "id": "0bc285bb",
   "metadata": {},
   "source": [
    "#### Por secciones, actuando de manera similar a NumPy/Python: df.iloc[3:5, 0:2]"
   ]
  },
  {
   "cell_type": "code",
   "execution_count": 31,
   "id": "427b3ac4",
   "metadata": {},
   "outputs": [
    {
     "data": {
      "text/html": [
       "<div>\n",
       "<style scoped>\n",
       "    .dataframe tbody tr th:only-of-type {\n",
       "        vertical-align: middle;\n",
       "    }\n",
       "\n",
       "    .dataframe tbody tr th {\n",
       "        vertical-align: top;\n",
       "    }\n",
       "\n",
       "    .dataframe thead th {\n",
       "        text-align: right;\n",
       "    }\n",
       "</style>\n",
       "<table border=\"1\" class=\"dataframe\">\n",
       "  <thead>\n",
       "    <tr style=\"text-align: right;\">\n",
       "      <th></th>\n",
       "      <th>A</th>\n",
       "      <th>B</th>\n",
       "    </tr>\n",
       "  </thead>\n",
       "  <tbody>\n",
       "    <tr>\n",
       "      <th>2013-01-04</th>\n",
       "      <td>0.818050</td>\n",
       "      <td>0.017886</td>\n",
       "    </tr>\n",
       "    <tr>\n",
       "      <th>2013-01-05</th>\n",
       "      <td>-0.396777</td>\n",
       "      <td>0.443381</td>\n",
       "    </tr>\n",
       "  </tbody>\n",
       "</table>\n",
       "</div>"
      ],
      "text/plain": [
       "                   A         B\n",
       "2013-01-04  0.818050  0.017886\n",
       "2013-01-05 -0.396777  0.443381"
      ]
     },
     "execution_count": 31,
     "metadata": {},
     "output_type": "execute_result"
    }
   ],
   "source": [
    "df.iloc[3:5, 0:2] #Devuelve los datos de las filas 3 a la 5, y de las columnas 0 a 2"
   ]
  },
  {
   "cell_type": "markdown",
   "id": "090d5108",
   "metadata": {},
   "source": [
    "#### Por una lista de ubicaciones de posición de enteros, similar al estilo NumPy/Python"
   ]
  },
  {
   "cell_type": "code",
   "execution_count": 32,
   "id": "d5c73312",
   "metadata": {},
   "outputs": [
    {
     "data": {
      "text/html": [
       "<div>\n",
       "<style scoped>\n",
       "    .dataframe tbody tr th:only-of-type {\n",
       "        vertical-align: middle;\n",
       "    }\n",
       "\n",
       "    .dataframe tbody tr th {\n",
       "        vertical-align: top;\n",
       "    }\n",
       "\n",
       "    .dataframe thead th {\n",
       "        text-align: right;\n",
       "    }\n",
       "</style>\n",
       "<table border=\"1\" class=\"dataframe\">\n",
       "  <thead>\n",
       "    <tr style=\"text-align: right;\">\n",
       "      <th></th>\n",
       "      <th>A</th>\n",
       "      <th>C</th>\n",
       "    </tr>\n",
       "  </thead>\n",
       "  <tbody>\n",
       "    <tr>\n",
       "      <th>2013-01-02</th>\n",
       "      <td>0.085869</td>\n",
       "      <td>-0.517601</td>\n",
       "    </tr>\n",
       "    <tr>\n",
       "      <th>2013-01-03</th>\n",
       "      <td>0.272427</td>\n",
       "      <td>0.127493</td>\n",
       "    </tr>\n",
       "    <tr>\n",
       "      <th>2013-01-05</th>\n",
       "      <td>-0.396777</td>\n",
       "      <td>1.930640</td>\n",
       "    </tr>\n",
       "  </tbody>\n",
       "</table>\n",
       "</div>"
      ],
      "text/plain": [
       "                   A         C\n",
       "2013-01-02  0.085869 -0.517601\n",
       "2013-01-03  0.272427  0.127493\n",
       "2013-01-05 -0.396777  1.930640"
      ]
     },
     "execution_count": 32,
     "metadata": {},
     "output_type": "execute_result"
    }
   ],
   "source": [
    "df.iloc[[1, 2, 4], [0, 2]] #Se crea una lista, y dentro de la lista se definen los criterios de selección"
   ]
  },
  {
   "cell_type": "markdown",
   "id": "1ae4e891",
   "metadata": {},
   "source": [
    "#### Por selección simple de filas"
   ]
  },
  {
   "cell_type": "code",
   "execution_count": 33,
   "id": "93ac1a09",
   "metadata": {},
   "outputs": [
    {
     "data": {
      "text/html": [
       "<div>\n",
       "<style scoped>\n",
       "    .dataframe tbody tr th:only-of-type {\n",
       "        vertical-align: middle;\n",
       "    }\n",
       "\n",
       "    .dataframe tbody tr th {\n",
       "        vertical-align: top;\n",
       "    }\n",
       "\n",
       "    .dataframe thead th {\n",
       "        text-align: right;\n",
       "    }\n",
       "</style>\n",
       "<table border=\"1\" class=\"dataframe\">\n",
       "  <thead>\n",
       "    <tr style=\"text-align: right;\">\n",
       "      <th></th>\n",
       "      <th>A</th>\n",
       "      <th>B</th>\n",
       "      <th>C</th>\n",
       "      <th>D</th>\n",
       "    </tr>\n",
       "  </thead>\n",
       "  <tbody>\n",
       "    <tr>\n",
       "      <th>2013-01-02</th>\n",
       "      <td>0.085869</td>\n",
       "      <td>-0.122022</td>\n",
       "      <td>-0.517601</td>\n",
       "      <td>1.405483</td>\n",
       "    </tr>\n",
       "    <tr>\n",
       "      <th>2013-01-03</th>\n",
       "      <td>0.272427</td>\n",
       "      <td>0.445342</td>\n",
       "      <td>0.127493</td>\n",
       "      <td>-2.061061</td>\n",
       "    </tr>\n",
       "  </tbody>\n",
       "</table>\n",
       "</div>"
      ],
      "text/plain": [
       "                   A         B         C         D\n",
       "2013-01-02  0.085869 -0.122022 -0.517601  1.405483\n",
       "2013-01-03  0.272427  0.445342  0.127493 -2.061061"
      ]
     },
     "execution_count": 33,
     "metadata": {},
     "output_type": "execute_result"
    }
   ],
   "source": [
    "df.iloc[1:3, :]"
   ]
  },
  {
   "cell_type": "markdown",
   "id": "02315862",
   "metadata": {},
   "source": [
    "#### Por selección simple de columnas"
   ]
  },
  {
   "cell_type": "code",
   "execution_count": 34,
   "id": "a5904373",
   "metadata": {},
   "outputs": [
    {
     "data": {
      "text/html": [
       "<div>\n",
       "<style scoped>\n",
       "    .dataframe tbody tr th:only-of-type {\n",
       "        vertical-align: middle;\n",
       "    }\n",
       "\n",
       "    .dataframe tbody tr th {\n",
       "        vertical-align: top;\n",
       "    }\n",
       "\n",
       "    .dataframe thead th {\n",
       "        text-align: right;\n",
       "    }\n",
       "</style>\n",
       "<table border=\"1\" class=\"dataframe\">\n",
       "  <thead>\n",
       "    <tr style=\"text-align: right;\">\n",
       "      <th></th>\n",
       "      <th>B</th>\n",
       "      <th>C</th>\n",
       "    </tr>\n",
       "  </thead>\n",
       "  <tbody>\n",
       "    <tr>\n",
       "      <th>2013-01-01</th>\n",
       "      <td>0.437481</td>\n",
       "      <td>-0.381301</td>\n",
       "    </tr>\n",
       "    <tr>\n",
       "      <th>2013-01-02</th>\n",
       "      <td>-0.122022</td>\n",
       "      <td>-0.517601</td>\n",
       "    </tr>\n",
       "    <tr>\n",
       "      <th>2013-01-03</th>\n",
       "      <td>0.445342</td>\n",
       "      <td>0.127493</td>\n",
       "    </tr>\n",
       "    <tr>\n",
       "      <th>2013-01-04</th>\n",
       "      <td>0.017886</td>\n",
       "      <td>-0.316788</td>\n",
       "    </tr>\n",
       "    <tr>\n",
       "      <th>2013-01-05</th>\n",
       "      <td>0.443381</td>\n",
       "      <td>1.930640</td>\n",
       "    </tr>\n",
       "    <tr>\n",
       "      <th>2013-01-06</th>\n",
       "      <td>-1.108095</td>\n",
       "      <td>0.025612</td>\n",
       "    </tr>\n",
       "  </tbody>\n",
       "</table>\n",
       "</div>"
      ],
      "text/plain": [
       "                   B         C\n",
       "2013-01-01  0.437481 -0.381301\n",
       "2013-01-02 -0.122022 -0.517601\n",
       "2013-01-03  0.445342  0.127493\n",
       "2013-01-04  0.017886 -0.316788\n",
       "2013-01-05  0.443381  1.930640\n",
       "2013-01-06 -1.108095  0.025612"
      ]
     },
     "execution_count": 34,
     "metadata": {},
     "output_type": "execute_result"
    }
   ],
   "source": [
    "df.iloc[:, 1:3]"
   ]
  },
  {
   "cell_type": "markdown",
   "id": "0d40da48",
   "metadata": {},
   "source": [
    "#### Para seleccionar un valor específico"
   ]
  },
  {
   "cell_type": "code",
   "execution_count": 35,
   "id": "e444a64c",
   "metadata": {},
   "outputs": [
    {
     "data": {
      "text/plain": [
       "-0.12202150042599502"
      ]
     },
     "execution_count": 35,
     "metadata": {},
     "output_type": "execute_result"
    }
   ],
   "source": [
    "df.iloc[1, 1]"
   ]
  },
  {
   "cell_type": "markdown",
   "id": "d5ce68d4",
   "metadata": {},
   "source": [
    "### 3. Selecciones por condicionales (boolean)"
   ]
  },
  {
   "cell_type": "markdown",
   "id": "40658d60",
   "metadata": {},
   "source": [
    "#### En este caso, podemos seleccionar una columna, y luego agregar un operador condicional"
   ]
  },
  {
   "cell_type": "code",
   "execution_count": 36,
   "id": "905f60ee",
   "metadata": {},
   "outputs": [
    {
     "data": {
      "text/html": [
       "<div>\n",
       "<style scoped>\n",
       "    .dataframe tbody tr th:only-of-type {\n",
       "        vertical-align: middle;\n",
       "    }\n",
       "\n",
       "    .dataframe tbody tr th {\n",
       "        vertical-align: top;\n",
       "    }\n",
       "\n",
       "    .dataframe thead th {\n",
       "        text-align: right;\n",
       "    }\n",
       "</style>\n",
       "<table border=\"1\" class=\"dataframe\">\n",
       "  <thead>\n",
       "    <tr style=\"text-align: right;\">\n",
       "      <th></th>\n",
       "      <th>A</th>\n",
       "      <th>B</th>\n",
       "      <th>C</th>\n",
       "      <th>D</th>\n",
       "    </tr>\n",
       "  </thead>\n",
       "  <tbody>\n",
       "    <tr>\n",
       "      <th>2013-01-02</th>\n",
       "      <td>0.085869</td>\n",
       "      <td>-0.122022</td>\n",
       "      <td>-0.517601</td>\n",
       "      <td>1.405483</td>\n",
       "    </tr>\n",
       "    <tr>\n",
       "      <th>2013-01-03</th>\n",
       "      <td>0.272427</td>\n",
       "      <td>0.445342</td>\n",
       "      <td>0.127493</td>\n",
       "      <td>-2.061061</td>\n",
       "    </tr>\n",
       "    <tr>\n",
       "      <th>2013-01-04</th>\n",
       "      <td>0.818050</td>\n",
       "      <td>0.017886</td>\n",
       "      <td>-0.316788</td>\n",
       "      <td>-0.500438</td>\n",
       "    </tr>\n",
       "  </tbody>\n",
       "</table>\n",
       "</div>"
      ],
      "text/plain": [
       "                   A         B         C         D\n",
       "2013-01-02  0.085869 -0.122022 -0.517601  1.405483\n",
       "2013-01-03  0.272427  0.445342  0.127493 -2.061061\n",
       "2013-01-04  0.818050  0.017886 -0.316788 -0.500438"
      ]
     },
     "execution_count": 36,
     "metadata": {},
     "output_type": "execute_result"
    }
   ],
   "source": [
    "df[df[\"A\"] > 0] #Los valores de la columna A que sean mayores a 0"
   ]
  },
  {
   "cell_type": "markdown",
   "id": "6aa64a6f",
   "metadata": {},
   "source": [
    "#### También podemos hacer esto para todo el data frame"
   ]
  },
  {
   "cell_type": "code",
   "execution_count": 37,
   "id": "b47d2e8c",
   "metadata": {},
   "outputs": [
    {
     "data": {
      "text/html": [
       "<div>\n",
       "<style scoped>\n",
       "    .dataframe tbody tr th:only-of-type {\n",
       "        vertical-align: middle;\n",
       "    }\n",
       "\n",
       "    .dataframe tbody tr th {\n",
       "        vertical-align: top;\n",
       "    }\n",
       "\n",
       "    .dataframe thead th {\n",
       "        text-align: right;\n",
       "    }\n",
       "</style>\n",
       "<table border=\"1\" class=\"dataframe\">\n",
       "  <thead>\n",
       "    <tr style=\"text-align: right;\">\n",
       "      <th></th>\n",
       "      <th>A</th>\n",
       "      <th>B</th>\n",
       "      <th>C</th>\n",
       "      <th>D</th>\n",
       "    </tr>\n",
       "  </thead>\n",
       "  <tbody>\n",
       "    <tr>\n",
       "      <th>2013-01-01</th>\n",
       "      <td>NaN</td>\n",
       "      <td>0.437481</td>\n",
       "      <td>NaN</td>\n",
       "      <td>NaN</td>\n",
       "    </tr>\n",
       "    <tr>\n",
       "      <th>2013-01-02</th>\n",
       "      <td>0.085869</td>\n",
       "      <td>NaN</td>\n",
       "      <td>NaN</td>\n",
       "      <td>1.405483</td>\n",
       "    </tr>\n",
       "    <tr>\n",
       "      <th>2013-01-03</th>\n",
       "      <td>0.272427</td>\n",
       "      <td>0.445342</td>\n",
       "      <td>0.127493</td>\n",
       "      <td>NaN</td>\n",
       "    </tr>\n",
       "    <tr>\n",
       "      <th>2013-01-04</th>\n",
       "      <td>0.818050</td>\n",
       "      <td>0.017886</td>\n",
       "      <td>NaN</td>\n",
       "      <td>NaN</td>\n",
       "    </tr>\n",
       "    <tr>\n",
       "      <th>2013-01-05</th>\n",
       "      <td>NaN</td>\n",
       "      <td>0.443381</td>\n",
       "      <td>1.930640</td>\n",
       "      <td>NaN</td>\n",
       "    </tr>\n",
       "    <tr>\n",
       "      <th>2013-01-06</th>\n",
       "      <td>NaN</td>\n",
       "      <td>NaN</td>\n",
       "      <td>0.025612</td>\n",
       "      <td>NaN</td>\n",
       "    </tr>\n",
       "  </tbody>\n",
       "</table>\n",
       "</div>"
      ],
      "text/plain": [
       "                   A         B         C         D\n",
       "2013-01-01       NaN  0.437481       NaN       NaN\n",
       "2013-01-02  0.085869       NaN       NaN  1.405483\n",
       "2013-01-03  0.272427  0.445342  0.127493       NaN\n",
       "2013-01-04  0.818050  0.017886       NaN       NaN\n",
       "2013-01-05       NaN  0.443381  1.930640       NaN\n",
       "2013-01-06       NaN       NaN  0.025612       NaN"
      ]
     },
     "execution_count": 37,
     "metadata": {},
     "output_type": "execute_result"
    }
   ],
   "source": [
    "df[df > 0] #Todos los valores de la tabla de datos, que sean mayores a 0"
   ]
  },
  {
   "cell_type": "markdown",
   "id": "f778cc71",
   "metadata": {},
   "source": [
    "## Trabajar con valores nulos/faltantes - Missing data"
   ]
  },
  {
   "cell_type": "markdown",
   "id": "e57be12c",
   "metadata": {},
   "source": [
    "#### Pandas usa principalmente el valor \"np.nan\" para representar datos faltantes. Por defecto no se incluye en los cálculos."
   ]
  },
  {
   "cell_type": "markdown",
   "id": "dd96f0f7",
   "metadata": {},
   "source": [
    "#### Haremos una modificación a la tabla de datos para poder trabajar con Missing Data.  La reindexación le permite cambiar/agregar/eliminar el índice en un eje específico.\n"
   ]
  },
  {
   "cell_type": "code",
   "execution_count": 38,
   "id": "0f83cb0e",
   "metadata": {},
   "outputs": [],
   "source": [
    "df1 = df.reindex(index=dates[0:4], columns=list(df.columns) + [\"E\"])"
   ]
  },
  {
   "cell_type": "code",
   "execution_count": 39,
   "id": "2a4f921c",
   "metadata": {},
   "outputs": [],
   "source": [
    "df1.loc[dates[0] : dates[1], \"E\"] = 1"
   ]
  },
  {
   "cell_type": "code",
   "execution_count": 40,
   "id": "4b685e66",
   "metadata": {},
   "outputs": [
    {
     "data": {
      "text/html": [
       "<div>\n",
       "<style scoped>\n",
       "    .dataframe tbody tr th:only-of-type {\n",
       "        vertical-align: middle;\n",
       "    }\n",
       "\n",
       "    .dataframe tbody tr th {\n",
       "        vertical-align: top;\n",
       "    }\n",
       "\n",
       "    .dataframe thead th {\n",
       "        text-align: right;\n",
       "    }\n",
       "</style>\n",
       "<table border=\"1\" class=\"dataframe\">\n",
       "  <thead>\n",
       "    <tr style=\"text-align: right;\">\n",
       "      <th></th>\n",
       "      <th>A</th>\n",
       "      <th>B</th>\n",
       "      <th>C</th>\n",
       "      <th>D</th>\n",
       "      <th>E</th>\n",
       "    </tr>\n",
       "  </thead>\n",
       "  <tbody>\n",
       "    <tr>\n",
       "      <th>2013-01-01</th>\n",
       "      <td>-0.001965</td>\n",
       "      <td>0.437481</td>\n",
       "      <td>-0.381301</td>\n",
       "      <td>-0.595245</td>\n",
       "      <td>1.0</td>\n",
       "    </tr>\n",
       "    <tr>\n",
       "      <th>2013-01-02</th>\n",
       "      <td>0.085869</td>\n",
       "      <td>-0.122022</td>\n",
       "      <td>-0.517601</td>\n",
       "      <td>1.405483</td>\n",
       "      <td>1.0</td>\n",
       "    </tr>\n",
       "    <tr>\n",
       "      <th>2013-01-03</th>\n",
       "      <td>0.272427</td>\n",
       "      <td>0.445342</td>\n",
       "      <td>0.127493</td>\n",
       "      <td>-2.061061</td>\n",
       "      <td>NaN</td>\n",
       "    </tr>\n",
       "    <tr>\n",
       "      <th>2013-01-04</th>\n",
       "      <td>0.818050</td>\n",
       "      <td>0.017886</td>\n",
       "      <td>-0.316788</td>\n",
       "      <td>-0.500438</td>\n",
       "      <td>NaN</td>\n",
       "    </tr>\n",
       "  </tbody>\n",
       "</table>\n",
       "</div>"
      ],
      "text/plain": [
       "                   A         B         C         D    E\n",
       "2013-01-01 -0.001965  0.437481 -0.381301 -0.595245  1.0\n",
       "2013-01-02  0.085869 -0.122022 -0.517601  1.405483  1.0\n",
       "2013-01-03  0.272427  0.445342  0.127493 -2.061061  NaN\n",
       "2013-01-04  0.818050  0.017886 -0.316788 -0.500438  NaN"
      ]
     },
     "execution_count": 40,
     "metadata": {},
     "output_type": "execute_result"
    }
   ],
   "source": [
    "df1"
   ]
  },
  {
   "cell_type": "markdown",
   "id": "f7b281f7",
   "metadata": {},
   "source": [
    "#### Para eliminar cualquier fila a la que le falten datos utilizamos: df.dropna()"
   ]
  },
  {
   "cell_type": "code",
   "execution_count": 41,
   "id": "55ed1ae5",
   "metadata": {},
   "outputs": [
    {
     "data": {
      "text/html": [
       "<div>\n",
       "<style scoped>\n",
       "    .dataframe tbody tr th:only-of-type {\n",
       "        vertical-align: middle;\n",
       "    }\n",
       "\n",
       "    .dataframe tbody tr th {\n",
       "        vertical-align: top;\n",
       "    }\n",
       "\n",
       "    .dataframe thead th {\n",
       "        text-align: right;\n",
       "    }\n",
       "</style>\n",
       "<table border=\"1\" class=\"dataframe\">\n",
       "  <thead>\n",
       "    <tr style=\"text-align: right;\">\n",
       "      <th></th>\n",
       "      <th>A</th>\n",
       "      <th>B</th>\n",
       "      <th>C</th>\n",
       "      <th>D</th>\n",
       "      <th>E</th>\n",
       "    </tr>\n",
       "  </thead>\n",
       "  <tbody>\n",
       "    <tr>\n",
       "      <th>2013-01-01</th>\n",
       "      <td>-0.001965</td>\n",
       "      <td>0.437481</td>\n",
       "      <td>-0.381301</td>\n",
       "      <td>-0.595245</td>\n",
       "      <td>1.0</td>\n",
       "    </tr>\n",
       "    <tr>\n",
       "      <th>2013-01-02</th>\n",
       "      <td>0.085869</td>\n",
       "      <td>-0.122022</td>\n",
       "      <td>-0.517601</td>\n",
       "      <td>1.405483</td>\n",
       "      <td>1.0</td>\n",
       "    </tr>\n",
       "  </tbody>\n",
       "</table>\n",
       "</div>"
      ],
      "text/plain": [
       "                   A         B         C         D    E\n",
       "2013-01-01 -0.001965  0.437481 -0.381301 -0.595245  1.0\n",
       "2013-01-02  0.085869 -0.122022 -0.517601  1.405483  1.0"
      ]
     },
     "execution_count": 41,
     "metadata": {},
     "output_type": "execute_result"
    }
   ],
   "source": [
    "df1.dropna(how=\"any\") #Esto elimina todas las filas que tengan algún valor nulo"
   ]
  },
  {
   "cell_type": "markdown",
   "id": "8a969a91",
   "metadata": {},
   "source": [
    "#### También podemos reemplazar los na con el valor que queramos utilizando: df.fillna(value=)"
   ]
  },
  {
   "cell_type": "code",
   "execution_count": 42,
   "id": "70be4a35",
   "metadata": {},
   "outputs": [
    {
     "data": {
      "text/html": [
       "<div>\n",
       "<style scoped>\n",
       "    .dataframe tbody tr th:only-of-type {\n",
       "        vertical-align: middle;\n",
       "    }\n",
       "\n",
       "    .dataframe tbody tr th {\n",
       "        vertical-align: top;\n",
       "    }\n",
       "\n",
       "    .dataframe thead th {\n",
       "        text-align: right;\n",
       "    }\n",
       "</style>\n",
       "<table border=\"1\" class=\"dataframe\">\n",
       "  <thead>\n",
       "    <tr style=\"text-align: right;\">\n",
       "      <th></th>\n",
       "      <th>A</th>\n",
       "      <th>B</th>\n",
       "      <th>C</th>\n",
       "      <th>D</th>\n",
       "      <th>E</th>\n",
       "    </tr>\n",
       "  </thead>\n",
       "  <tbody>\n",
       "    <tr>\n",
       "      <th>2013-01-01</th>\n",
       "      <td>-0.001965</td>\n",
       "      <td>0.437481</td>\n",
       "      <td>-0.381301</td>\n",
       "      <td>-0.595245</td>\n",
       "      <td>1.0</td>\n",
       "    </tr>\n",
       "    <tr>\n",
       "      <th>2013-01-02</th>\n",
       "      <td>0.085869</td>\n",
       "      <td>-0.122022</td>\n",
       "      <td>-0.517601</td>\n",
       "      <td>1.405483</td>\n",
       "      <td>1.0</td>\n",
       "    </tr>\n",
       "    <tr>\n",
       "      <th>2013-01-03</th>\n",
       "      <td>0.272427</td>\n",
       "      <td>0.445342</td>\n",
       "      <td>0.127493</td>\n",
       "      <td>-2.061061</td>\n",
       "      <td>2.0</td>\n",
       "    </tr>\n",
       "    <tr>\n",
       "      <th>2013-01-04</th>\n",
       "      <td>0.818050</td>\n",
       "      <td>0.017886</td>\n",
       "      <td>-0.316788</td>\n",
       "      <td>-0.500438</td>\n",
       "      <td>2.0</td>\n",
       "    </tr>\n",
       "  </tbody>\n",
       "</table>\n",
       "</div>"
      ],
      "text/plain": [
       "                   A         B         C         D    E\n",
       "2013-01-01 -0.001965  0.437481 -0.381301 -0.595245  1.0\n",
       "2013-01-02  0.085869 -0.122022 -0.517601  1.405483  1.0\n",
       "2013-01-03  0.272427  0.445342  0.127493 -2.061061  2.0\n",
       "2013-01-04  0.818050  0.017886 -0.316788 -0.500438  2.0"
      ]
     },
     "execution_count": 42,
     "metadata": {},
     "output_type": "execute_result"
    }
   ],
   "source": [
    "df1.fillna(value = 2)"
   ]
  },
  {
   "cell_type": "markdown",
   "id": "a7d7d4d3",
   "metadata": {},
   "source": [
    "#### Para obtener un resultado boolean de dónde se encuentran los na, debemos utilizar: pd.isna(df)"
   ]
  },
  {
   "cell_type": "code",
   "execution_count": 43,
   "id": "ab8c3714",
   "metadata": {},
   "outputs": [
    {
     "data": {
      "text/html": [
       "<div>\n",
       "<style scoped>\n",
       "    .dataframe tbody tr th:only-of-type {\n",
       "        vertical-align: middle;\n",
       "    }\n",
       "\n",
       "    .dataframe tbody tr th {\n",
       "        vertical-align: top;\n",
       "    }\n",
       "\n",
       "    .dataframe thead th {\n",
       "        text-align: right;\n",
       "    }\n",
       "</style>\n",
       "<table border=\"1\" class=\"dataframe\">\n",
       "  <thead>\n",
       "    <tr style=\"text-align: right;\">\n",
       "      <th></th>\n",
       "      <th>A</th>\n",
       "      <th>B</th>\n",
       "      <th>C</th>\n",
       "      <th>D</th>\n",
       "      <th>E</th>\n",
       "    </tr>\n",
       "  </thead>\n",
       "  <tbody>\n",
       "    <tr>\n",
       "      <th>2013-01-01</th>\n",
       "      <td>False</td>\n",
       "      <td>False</td>\n",
       "      <td>False</td>\n",
       "      <td>False</td>\n",
       "      <td>False</td>\n",
       "    </tr>\n",
       "    <tr>\n",
       "      <th>2013-01-02</th>\n",
       "      <td>False</td>\n",
       "      <td>False</td>\n",
       "      <td>False</td>\n",
       "      <td>False</td>\n",
       "      <td>False</td>\n",
       "    </tr>\n",
       "    <tr>\n",
       "      <th>2013-01-03</th>\n",
       "      <td>False</td>\n",
       "      <td>False</td>\n",
       "      <td>False</td>\n",
       "      <td>False</td>\n",
       "      <td>True</td>\n",
       "    </tr>\n",
       "    <tr>\n",
       "      <th>2013-01-04</th>\n",
       "      <td>False</td>\n",
       "      <td>False</td>\n",
       "      <td>False</td>\n",
       "      <td>False</td>\n",
       "      <td>True</td>\n",
       "    </tr>\n",
       "  </tbody>\n",
       "</table>\n",
       "</div>"
      ],
      "text/plain": [
       "                A      B      C      D      E\n",
       "2013-01-01  False  False  False  False  False\n",
       "2013-01-02  False  False  False  False  False\n",
       "2013-01-03  False  False  False  False   True\n",
       "2013-01-04  False  False  False  False   True"
      ]
     },
     "execution_count": 43,
     "metadata": {},
     "output_type": "execute_result"
    }
   ],
   "source": [
    "pd.isna(df1) #Donde apareza True, ese valor es un na"
   ]
  },
  {
   "cell_type": "markdown",
   "id": "577c05da",
   "metadata": {},
   "source": [
    "## Operaciones"
   ]
  },
  {
   "cell_type": "markdown",
   "id": "76f2e669",
   "metadata": {},
   "source": [
    "#### Estadísticos básicos: media, mediana, desviacion, minimo, maximo, conteo."
   ]
  },
  {
   "cell_type": "code",
   "execution_count": 44,
   "id": "0d679512",
   "metadata": {},
   "outputs": [
    {
     "data": {
      "text/plain": [
       "A    0.045965\n",
       "B    0.018996\n",
       "C    0.144676\n",
       "D   -0.457732\n",
       "dtype: float64"
      ]
     },
     "execution_count": 44,
     "metadata": {},
     "output_type": "execute_result"
    }
   ],
   "source": [
    "df.mean()"
   ]
  },
  {
   "cell_type": "code",
   "execution_count": 45,
   "id": "bcce1d13",
   "metadata": {},
   "outputs": [
    {
     "data": {
      "text/plain": [
       "2013-01-01   -0.135257\n",
       "2013-01-02    0.212932\n",
       "2013-01-03   -0.303950\n",
       "2013-01-04    0.004678\n",
       "2013-01-05    0.384964\n",
       "2013-01-06   -0.535510\n",
       "Freq: D, dtype: float64"
      ]
     },
     "execution_count": 45,
     "metadata": {},
     "output_type": "execute_result"
    }
   ],
   "source": [
    "df.mean(1)"
   ]
  },
  {
   "cell_type": "code",
   "execution_count": 46,
   "id": "25189159",
   "metadata": {},
   "outputs": [
    {
     "data": {
      "text/plain": [
       "A    0.041952\n",
       "B    0.227684\n",
       "C   -0.145588\n",
       "D   -0.529088\n",
       "dtype: float64"
      ]
     },
     "execution_count": 46,
     "metadata": {},
     "output_type": "execute_result"
    }
   ],
   "source": [
    "df.median()"
   ]
  },
  {
   "cell_type": "code",
   "execution_count": 47,
   "id": "77205199",
   "metadata": {},
   "outputs": [
    {
     "data": {
      "text/plain": [
       "A    0.479036\n",
       "B    0.604520\n",
       "C    0.909104\n",
       "D    1.102124\n",
       "dtype: float64"
      ]
     },
     "execution_count": 47,
     "metadata": {},
     "output_type": "execute_result"
    }
   ],
   "source": [
    "df.std()"
   ]
  },
  {
   "cell_type": "code",
   "execution_count": 48,
   "id": "5cb79d62",
   "metadata": {},
   "outputs": [
    {
     "data": {
      "text/plain": [
       "6"
      ]
     },
     "execution_count": 48,
     "metadata": {},
     "output_type": "execute_result"
    }
   ],
   "source": [
    "df[\"A\"].count()"
   ]
  },
  {
   "cell_type": "code",
   "execution_count": 49,
   "id": "10f1f9b0",
   "metadata": {},
   "outputs": [
    {
     "data": {
      "text/plain": [
       "A    0.818050\n",
       "B    0.445342\n",
       "C    1.930640\n",
       "D    1.405483\n",
       "dtype: float64"
      ]
     },
     "execution_count": 49,
     "metadata": {},
     "output_type": "execute_result"
    }
   ],
   "source": [
    "df.max()"
   ]
  },
  {
   "cell_type": "code",
   "execution_count": 50,
   "id": "0b76f2a5",
   "metadata": {},
   "outputs": [
    {
     "data": {
      "text/plain": [
       "A   -0.501817\n",
       "B   -1.108095\n",
       "C   -0.517601\n",
       "D   -2.061061\n",
       "dtype: float64"
      ]
     },
     "execution_count": 50,
     "metadata": {},
     "output_type": "execute_result"
    }
   ],
   "source": [
    "df.min()"
   ]
  },
  {
   "cell_type": "code",
   "execution_count": 51,
   "id": "56d0db4e",
   "metadata": {},
   "outputs": [
    {
     "data": {
      "text/plain": [
       "0   -0.501817\n",
       "1   -0.396777\n",
       "2   -0.001965\n",
       "3    0.085869\n",
       "4    0.272427\n",
       "5    0.818050\n",
       "Name: A, dtype: float64"
      ]
     },
     "execution_count": 51,
     "metadata": {},
     "output_type": "execute_result"
    }
   ],
   "source": [
    "df[\"A\"].mode()"
   ]
  },
  {
   "cell_type": "markdown",
   "id": "af2cb351",
   "metadata": {},
   "source": [
    "## Unir (Merge) - Utilizar joings como en SQL"
   ]
  },
  {
   "cell_type": "markdown",
   "id": "ef9fa1bc",
   "metadata": {},
   "source": [
    "### Concatenar objetos de pandas con la función concat():"
   ]
  },
  {
   "cell_type": "code",
   "execution_count": 52,
   "id": "a50bf664",
   "metadata": {},
   "outputs": [],
   "source": [
    "df = pd.DataFrame(np.random.randn(10, 4)) #Creamos un nuevo data frame"
   ]
  },
  {
   "cell_type": "code",
   "execution_count": 53,
   "id": "a73045ee",
   "metadata": {},
   "outputs": [
    {
     "data": {
      "text/html": [
       "<div>\n",
       "<style scoped>\n",
       "    .dataframe tbody tr th:only-of-type {\n",
       "        vertical-align: middle;\n",
       "    }\n",
       "\n",
       "    .dataframe tbody tr th {\n",
       "        vertical-align: top;\n",
       "    }\n",
       "\n",
       "    .dataframe thead th {\n",
       "        text-align: right;\n",
       "    }\n",
       "</style>\n",
       "<table border=\"1\" class=\"dataframe\">\n",
       "  <thead>\n",
       "    <tr style=\"text-align: right;\">\n",
       "      <th></th>\n",
       "      <th>0</th>\n",
       "      <th>1</th>\n",
       "      <th>2</th>\n",
       "      <th>3</th>\n",
       "    </tr>\n",
       "  </thead>\n",
       "  <tbody>\n",
       "    <tr>\n",
       "      <th>0</th>\n",
       "      <td>0.152608</td>\n",
       "      <td>-1.601076</td>\n",
       "      <td>2.090088</td>\n",
       "      <td>0.442315</td>\n",
       "    </tr>\n",
       "    <tr>\n",
       "      <th>1</th>\n",
       "      <td>-1.812942</td>\n",
       "      <td>-0.624798</td>\n",
       "      <td>-0.715045</td>\n",
       "      <td>0.095080</td>\n",
       "    </tr>\n",
       "    <tr>\n",
       "      <th>2</th>\n",
       "      <td>-0.382451</td>\n",
       "      <td>2.476385</td>\n",
       "      <td>0.153958</td>\n",
       "      <td>0.247948</td>\n",
       "    </tr>\n",
       "    <tr>\n",
       "      <th>3</th>\n",
       "      <td>1.133442</td>\n",
       "      <td>0.439506</td>\n",
       "      <td>0.404440</td>\n",
       "      <td>-0.963241</td>\n",
       "    </tr>\n",
       "    <tr>\n",
       "      <th>4</th>\n",
       "      <td>0.898944</td>\n",
       "      <td>0.384553</td>\n",
       "      <td>0.318731</td>\n",
       "      <td>-0.668497</td>\n",
       "    </tr>\n",
       "    <tr>\n",
       "      <th>5</th>\n",
       "      <td>1.560220</td>\n",
       "      <td>0.559016</td>\n",
       "      <td>-0.042937</td>\n",
       "      <td>-0.007657</td>\n",
       "    </tr>\n",
       "    <tr>\n",
       "      <th>6</th>\n",
       "      <td>0.345321</td>\n",
       "      <td>1.097991</td>\n",
       "      <td>-0.648047</td>\n",
       "      <td>-1.369643</td>\n",
       "    </tr>\n",
       "    <tr>\n",
       "      <th>7</th>\n",
       "      <td>1.946482</td>\n",
       "      <td>-0.686856</td>\n",
       "      <td>-0.809081</td>\n",
       "      <td>0.433173</td>\n",
       "    </tr>\n",
       "    <tr>\n",
       "      <th>8</th>\n",
       "      <td>1.407563</td>\n",
       "      <td>-1.479264</td>\n",
       "      <td>-0.919513</td>\n",
       "      <td>1.826767</td>\n",
       "    </tr>\n",
       "    <tr>\n",
       "      <th>9</th>\n",
       "      <td>0.212225</td>\n",
       "      <td>-0.027971</td>\n",
       "      <td>1.561674</td>\n",
       "      <td>-1.009696</td>\n",
       "    </tr>\n",
       "  </tbody>\n",
       "</table>\n",
       "</div>"
      ],
      "text/plain": [
       "          0         1         2         3\n",
       "0  0.152608 -1.601076  2.090088  0.442315\n",
       "1 -1.812942 -0.624798 -0.715045  0.095080\n",
       "2 -0.382451  2.476385  0.153958  0.247948\n",
       "3  1.133442  0.439506  0.404440 -0.963241\n",
       "4  0.898944  0.384553  0.318731 -0.668497\n",
       "5  1.560220  0.559016 -0.042937 -0.007657\n",
       "6  0.345321  1.097991 -0.648047 -1.369643\n",
       "7  1.946482 -0.686856 -0.809081  0.433173\n",
       "8  1.407563 -1.479264 -0.919513  1.826767\n",
       "9  0.212225 -0.027971  1.561674 -1.009696"
      ]
     },
     "execution_count": 53,
     "metadata": {},
     "output_type": "execute_result"
    }
   ],
   "source": [
    "df"
   ]
  },
  {
   "cell_type": "code",
   "execution_count": 54,
   "id": "4ac81dfd",
   "metadata": {},
   "outputs": [],
   "source": [
    "pieces = [df[:3], df[3:7], df[7:]] #Lo dividimos en secciones"
   ]
  },
  {
   "cell_type": "code",
   "execution_count": 55,
   "id": "e572e066",
   "metadata": {},
   "outputs": [
    {
     "data": {
      "text/html": [
       "<div>\n",
       "<style scoped>\n",
       "    .dataframe tbody tr th:only-of-type {\n",
       "        vertical-align: middle;\n",
       "    }\n",
       "\n",
       "    .dataframe tbody tr th {\n",
       "        vertical-align: top;\n",
       "    }\n",
       "\n",
       "    .dataframe thead th {\n",
       "        text-align: right;\n",
       "    }\n",
       "</style>\n",
       "<table border=\"1\" class=\"dataframe\">\n",
       "  <thead>\n",
       "    <tr style=\"text-align: right;\">\n",
       "      <th></th>\n",
       "      <th>0</th>\n",
       "      <th>1</th>\n",
       "      <th>2</th>\n",
       "      <th>3</th>\n",
       "    </tr>\n",
       "  </thead>\n",
       "  <tbody>\n",
       "    <tr>\n",
       "      <th>0</th>\n",
       "      <td>0.152608</td>\n",
       "      <td>-1.601076</td>\n",
       "      <td>2.090088</td>\n",
       "      <td>0.442315</td>\n",
       "    </tr>\n",
       "    <tr>\n",
       "      <th>1</th>\n",
       "      <td>-1.812942</td>\n",
       "      <td>-0.624798</td>\n",
       "      <td>-0.715045</td>\n",
       "      <td>0.095080</td>\n",
       "    </tr>\n",
       "    <tr>\n",
       "      <th>2</th>\n",
       "      <td>-0.382451</td>\n",
       "      <td>2.476385</td>\n",
       "      <td>0.153958</td>\n",
       "      <td>0.247948</td>\n",
       "    </tr>\n",
       "    <tr>\n",
       "      <th>3</th>\n",
       "      <td>1.133442</td>\n",
       "      <td>0.439506</td>\n",
       "      <td>0.404440</td>\n",
       "      <td>-0.963241</td>\n",
       "    </tr>\n",
       "    <tr>\n",
       "      <th>4</th>\n",
       "      <td>0.898944</td>\n",
       "      <td>0.384553</td>\n",
       "      <td>0.318731</td>\n",
       "      <td>-0.668497</td>\n",
       "    </tr>\n",
       "    <tr>\n",
       "      <th>5</th>\n",
       "      <td>1.560220</td>\n",
       "      <td>0.559016</td>\n",
       "      <td>-0.042937</td>\n",
       "      <td>-0.007657</td>\n",
       "    </tr>\n",
       "    <tr>\n",
       "      <th>6</th>\n",
       "      <td>0.345321</td>\n",
       "      <td>1.097991</td>\n",
       "      <td>-0.648047</td>\n",
       "      <td>-1.369643</td>\n",
       "    </tr>\n",
       "    <tr>\n",
       "      <th>7</th>\n",
       "      <td>1.946482</td>\n",
       "      <td>-0.686856</td>\n",
       "      <td>-0.809081</td>\n",
       "      <td>0.433173</td>\n",
       "    </tr>\n",
       "    <tr>\n",
       "      <th>8</th>\n",
       "      <td>1.407563</td>\n",
       "      <td>-1.479264</td>\n",
       "      <td>-0.919513</td>\n",
       "      <td>1.826767</td>\n",
       "    </tr>\n",
       "    <tr>\n",
       "      <th>9</th>\n",
       "      <td>0.212225</td>\n",
       "      <td>-0.027971</td>\n",
       "      <td>1.561674</td>\n",
       "      <td>-1.009696</td>\n",
       "    </tr>\n",
       "  </tbody>\n",
       "</table>\n",
       "</div>"
      ],
      "text/plain": [
       "          0         1         2         3\n",
       "0  0.152608 -1.601076  2.090088  0.442315\n",
       "1 -1.812942 -0.624798 -0.715045  0.095080\n",
       "2 -0.382451  2.476385  0.153958  0.247948\n",
       "3  1.133442  0.439506  0.404440 -0.963241\n",
       "4  0.898944  0.384553  0.318731 -0.668497\n",
       "5  1.560220  0.559016 -0.042937 -0.007657\n",
       "6  0.345321  1.097991 -0.648047 -1.369643\n",
       "7  1.946482 -0.686856 -0.809081  0.433173\n",
       "8  1.407563 -1.479264 -0.919513  1.826767\n",
       "9  0.212225 -0.027971  1.561674 -1.009696"
      ]
     },
     "execution_count": 55,
     "metadata": {},
     "output_type": "execute_result"
    }
   ],
   "source": [
    "pd.concat(pieces) #Y ahora lo unimos otra vez, con la función concat()"
   ]
  },
  {
   "cell_type": "markdown",
   "id": "ea4cb7c0",
   "metadata": {},
   "source": [
    "## Joins como en SQL"
   ]
  },
  {
   "cell_type": "markdown",
   "id": "8005d9d9",
   "metadata": {},
   "source": [
    "#### Vamos a crear dos tablas, para poder observar cómo se realizan estas operaciones"
   ]
  },
  {
   "cell_type": "code",
   "execution_count": 56,
   "id": "d4cdcecd",
   "metadata": {},
   "outputs": [],
   "source": [
    "left = pd.DataFrame({\"key\": [\"foo\", \"foo\"], \"lval\": [1, 2]}) #Utilizamos un diccionario para crear las tablas"
   ]
  },
  {
   "cell_type": "code",
   "execution_count": 57,
   "id": "0240de53",
   "metadata": {},
   "outputs": [
    {
     "data": {
      "text/html": [
       "<div>\n",
       "<style scoped>\n",
       "    .dataframe tbody tr th:only-of-type {\n",
       "        vertical-align: middle;\n",
       "    }\n",
       "\n",
       "    .dataframe tbody tr th {\n",
       "        vertical-align: top;\n",
       "    }\n",
       "\n",
       "    .dataframe thead th {\n",
       "        text-align: right;\n",
       "    }\n",
       "</style>\n",
       "<table border=\"1\" class=\"dataframe\">\n",
       "  <thead>\n",
       "    <tr style=\"text-align: right;\">\n",
       "      <th></th>\n",
       "      <th>key</th>\n",
       "      <th>lval</th>\n",
       "    </tr>\n",
       "  </thead>\n",
       "  <tbody>\n",
       "    <tr>\n",
       "      <th>0</th>\n",
       "      <td>foo</td>\n",
       "      <td>1</td>\n",
       "    </tr>\n",
       "    <tr>\n",
       "      <th>1</th>\n",
       "      <td>foo</td>\n",
       "      <td>2</td>\n",
       "    </tr>\n",
       "  </tbody>\n",
       "</table>\n",
       "</div>"
      ],
      "text/plain": [
       "   key  lval\n",
       "0  foo     1\n",
       "1  foo     2"
      ]
     },
     "execution_count": 57,
     "metadata": {},
     "output_type": "execute_result"
    }
   ],
   "source": [
    "left"
   ]
  },
  {
   "cell_type": "code",
   "execution_count": 58,
   "id": "9b228ae3",
   "metadata": {},
   "outputs": [],
   "source": [
    "right = pd.DataFrame({\"key\": [\"foo\", \"foo\"], \"rval\": [4, 5]})"
   ]
  },
  {
   "cell_type": "code",
   "execution_count": 59,
   "id": "4479fad8",
   "metadata": {},
   "outputs": [
    {
     "data": {
      "text/html": [
       "<div>\n",
       "<style scoped>\n",
       "    .dataframe tbody tr th:only-of-type {\n",
       "        vertical-align: middle;\n",
       "    }\n",
       "\n",
       "    .dataframe tbody tr th {\n",
       "        vertical-align: top;\n",
       "    }\n",
       "\n",
       "    .dataframe thead th {\n",
       "        text-align: right;\n",
       "    }\n",
       "</style>\n",
       "<table border=\"1\" class=\"dataframe\">\n",
       "  <thead>\n",
       "    <tr style=\"text-align: right;\">\n",
       "      <th></th>\n",
       "      <th>key</th>\n",
       "      <th>rval</th>\n",
       "    </tr>\n",
       "  </thead>\n",
       "  <tbody>\n",
       "    <tr>\n",
       "      <th>0</th>\n",
       "      <td>foo</td>\n",
       "      <td>4</td>\n",
       "    </tr>\n",
       "    <tr>\n",
       "      <th>1</th>\n",
       "      <td>foo</td>\n",
       "      <td>5</td>\n",
       "    </tr>\n",
       "  </tbody>\n",
       "</table>\n",
       "</div>"
      ],
      "text/plain": [
       "   key  rval\n",
       "0  foo     4\n",
       "1  foo     5"
      ]
     },
     "execution_count": 59,
     "metadata": {},
     "output_type": "execute_result"
    }
   ],
   "source": [
    "right"
   ]
  },
  {
   "cell_type": "code",
   "execution_count": 60,
   "id": "38ae47fe",
   "metadata": {},
   "outputs": [
    {
     "data": {
      "text/html": [
       "<div>\n",
       "<style scoped>\n",
       "    .dataframe tbody tr th:only-of-type {\n",
       "        vertical-align: middle;\n",
       "    }\n",
       "\n",
       "    .dataframe tbody tr th {\n",
       "        vertical-align: top;\n",
       "    }\n",
       "\n",
       "    .dataframe thead th {\n",
       "        text-align: right;\n",
       "    }\n",
       "</style>\n",
       "<table border=\"1\" class=\"dataframe\">\n",
       "  <thead>\n",
       "    <tr style=\"text-align: right;\">\n",
       "      <th></th>\n",
       "      <th>key</th>\n",
       "      <th>lval</th>\n",
       "      <th>rval</th>\n",
       "    </tr>\n",
       "  </thead>\n",
       "  <tbody>\n",
       "    <tr>\n",
       "      <th>0</th>\n",
       "      <td>foo</td>\n",
       "      <td>1</td>\n",
       "      <td>4</td>\n",
       "    </tr>\n",
       "    <tr>\n",
       "      <th>1</th>\n",
       "      <td>foo</td>\n",
       "      <td>1</td>\n",
       "      <td>5</td>\n",
       "    </tr>\n",
       "    <tr>\n",
       "      <th>2</th>\n",
       "      <td>foo</td>\n",
       "      <td>2</td>\n",
       "      <td>4</td>\n",
       "    </tr>\n",
       "    <tr>\n",
       "      <th>3</th>\n",
       "      <td>foo</td>\n",
       "      <td>2</td>\n",
       "      <td>5</td>\n",
       "    </tr>\n",
       "  </tbody>\n",
       "</table>\n",
       "</div>"
      ],
      "text/plain": [
       "   key  lval  rval\n",
       "0  foo     1     4\n",
       "1  foo     1     5\n",
       "2  foo     2     4\n",
       "3  foo     2     5"
      ]
     },
     "execution_count": 60,
     "metadata": {},
     "output_type": "execute_result"
    }
   ],
   "source": [
    "pd.merge(left, right, on=\"key\") #Unimos las dos tablas con merges, en base al mismo \"key\" equivalente a ID"
   ]
  },
  {
   "cell_type": "markdown",
   "id": "47aacda5",
   "metadata": {},
   "source": [
    "## Agrupamientos"
   ]
  },
  {
   "cell_type": "markdown",
   "id": "7c2d6244",
   "metadata": {},
   "source": [
    "### Por Agrupamientos, nos referimos a la aplicación de alguna de estas condiciones:\n",
    "\n",
    "#### - Splitting: Dividir los datos en grupos según algunos criterios\n",
    "#### - Applying: Aplicar una función a cada grupo de forma independiente\n",
    "#### - Combining: Combinar los resultados en una estructura de datos"
   ]
  },
  {
   "cell_type": "markdown",
   "id": "dabc09dd",
   "metadata": {},
   "source": [
    "#### Crearemos un nuevo data frame para mostrar ejemplos "
   ]
  },
  {
   "cell_type": "code",
   "execution_count": 61,
   "id": "d1f0ab1c",
   "metadata": {},
   "outputs": [],
   "source": [
    "df = pd.DataFrame(\n",
    "    {\n",
    "        \"A\": [\"foo\", \"bar\", \"foo\", \"bar\", \"foo\", \"bar\", \"foo\", \"foo\"],\n",
    "        \"B\": [\"one\", \"one\", \"two\", \"three\", \"two\", \"two\", \"one\", \"three\"],\n",
    "        \"C\": np.random.randn(8),\n",
    "        \"D\": np.random.randn(8),\n",
    "    }\n",
    ")"
   ]
  },
  {
   "cell_type": "code",
   "execution_count": 62,
   "id": "926cf3fe",
   "metadata": {},
   "outputs": [
    {
     "data": {
      "text/html": [
       "<div>\n",
       "<style scoped>\n",
       "    .dataframe tbody tr th:only-of-type {\n",
       "        vertical-align: middle;\n",
       "    }\n",
       "\n",
       "    .dataframe tbody tr th {\n",
       "        vertical-align: top;\n",
       "    }\n",
       "\n",
       "    .dataframe thead th {\n",
       "        text-align: right;\n",
       "    }\n",
       "</style>\n",
       "<table border=\"1\" class=\"dataframe\">\n",
       "  <thead>\n",
       "    <tr style=\"text-align: right;\">\n",
       "      <th></th>\n",
       "      <th>A</th>\n",
       "      <th>B</th>\n",
       "      <th>C</th>\n",
       "      <th>D</th>\n",
       "    </tr>\n",
       "  </thead>\n",
       "  <tbody>\n",
       "    <tr>\n",
       "      <th>0</th>\n",
       "      <td>foo</td>\n",
       "      <td>one</td>\n",
       "      <td>-0.449067</td>\n",
       "      <td>-0.806704</td>\n",
       "    </tr>\n",
       "    <tr>\n",
       "      <th>1</th>\n",
       "      <td>bar</td>\n",
       "      <td>one</td>\n",
       "      <td>0.939142</td>\n",
       "      <td>-0.981896</td>\n",
       "    </tr>\n",
       "    <tr>\n",
       "      <th>2</th>\n",
       "      <td>foo</td>\n",
       "      <td>two</td>\n",
       "      <td>0.319156</td>\n",
       "      <td>-0.505611</td>\n",
       "    </tr>\n",
       "    <tr>\n",
       "      <th>3</th>\n",
       "      <td>bar</td>\n",
       "      <td>three</td>\n",
       "      <td>-1.452337</td>\n",
       "      <td>0.357642</td>\n",
       "    </tr>\n",
       "    <tr>\n",
       "      <th>4</th>\n",
       "      <td>foo</td>\n",
       "      <td>two</td>\n",
       "      <td>0.778906</td>\n",
       "      <td>-0.638632</td>\n",
       "    </tr>\n",
       "    <tr>\n",
       "      <th>5</th>\n",
       "      <td>bar</td>\n",
       "      <td>two</td>\n",
       "      <td>-0.427423</td>\n",
       "      <td>0.533611</td>\n",
       "    </tr>\n",
       "    <tr>\n",
       "      <th>6</th>\n",
       "      <td>foo</td>\n",
       "      <td>one</td>\n",
       "      <td>-0.510960</td>\n",
       "      <td>-0.897837</td>\n",
       "    </tr>\n",
       "    <tr>\n",
       "      <th>7</th>\n",
       "      <td>foo</td>\n",
       "      <td>three</td>\n",
       "      <td>1.195310</td>\n",
       "      <td>0.951931</td>\n",
       "    </tr>\n",
       "  </tbody>\n",
       "</table>\n",
       "</div>"
      ],
      "text/plain": [
       "     A      B         C         D\n",
       "0  foo    one -0.449067 -0.806704\n",
       "1  bar    one  0.939142 -0.981896\n",
       "2  foo    two  0.319156 -0.505611\n",
       "3  bar  three -1.452337  0.357642\n",
       "4  foo    two  0.778906 -0.638632\n",
       "5  bar    two -0.427423  0.533611\n",
       "6  foo    one -0.510960 -0.897837\n",
       "7  foo  three  1.195310  0.951931"
      ]
     },
     "execution_count": 62,
     "metadata": {},
     "output_type": "execute_result"
    }
   ],
   "source": [
    "df"
   ]
  },
  {
   "cell_type": "markdown",
   "id": "ce607841",
   "metadata": {},
   "source": [
    "#### Agruparemos por la columna \"A\" y realizaremos una suma de los grupos resultantes"
   ]
  },
  {
   "cell_type": "code",
   "execution_count": 63,
   "id": "450bce58",
   "metadata": {},
   "outputs": [
    {
     "data": {
      "text/html": [
       "<div>\n",
       "<style scoped>\n",
       "    .dataframe tbody tr th:only-of-type {\n",
       "        vertical-align: middle;\n",
       "    }\n",
       "\n",
       "    .dataframe tbody tr th {\n",
       "        vertical-align: top;\n",
       "    }\n",
       "\n",
       "    .dataframe thead th {\n",
       "        text-align: right;\n",
       "    }\n",
       "</style>\n",
       "<table border=\"1\" class=\"dataframe\">\n",
       "  <thead>\n",
       "    <tr style=\"text-align: right;\">\n",
       "      <th></th>\n",
       "      <th>C</th>\n",
       "      <th>D</th>\n",
       "    </tr>\n",
       "    <tr>\n",
       "      <th>A</th>\n",
       "      <th></th>\n",
       "      <th></th>\n",
       "    </tr>\n",
       "  </thead>\n",
       "  <tbody>\n",
       "    <tr>\n",
       "      <th>bar</th>\n",
       "      <td>-0.940618</td>\n",
       "      <td>-0.090643</td>\n",
       "    </tr>\n",
       "    <tr>\n",
       "      <th>foo</th>\n",
       "      <td>1.333344</td>\n",
       "      <td>-1.896853</td>\n",
       "    </tr>\n",
       "  </tbody>\n",
       "</table>\n",
       "</div>"
      ],
      "text/plain": [
       "            C         D\n",
       "A                      \n",
       "bar -0.940618 -0.090643\n",
       "foo  1.333344 -1.896853"
      ]
     },
     "execution_count": 63,
     "metadata": {},
     "output_type": "execute_result"
    }
   ],
   "source": [
    "df.groupby(\"A\").sum() #Selecciona los elementos de \"A\" y suma todos los valores que hay en C y D"
   ]
  },
  {
   "cell_type": "code",
   "execution_count": 64,
   "id": "49ab03e2",
   "metadata": {},
   "outputs": [
    {
     "data": {
      "text/html": [
       "<div>\n",
       "<style scoped>\n",
       "    .dataframe tbody tr th:only-of-type {\n",
       "        vertical-align: middle;\n",
       "    }\n",
       "\n",
       "    .dataframe tbody tr th {\n",
       "        vertical-align: top;\n",
       "    }\n",
       "\n",
       "    .dataframe thead th {\n",
       "        text-align: right;\n",
       "    }\n",
       "</style>\n",
       "<table border=\"1\" class=\"dataframe\">\n",
       "  <thead>\n",
       "    <tr style=\"text-align: right;\">\n",
       "      <th></th>\n",
       "      <th>C</th>\n",
       "      <th>D</th>\n",
       "    </tr>\n",
       "    <tr>\n",
       "      <th>A</th>\n",
       "      <th></th>\n",
       "      <th></th>\n",
       "    </tr>\n",
       "  </thead>\n",
       "  <tbody>\n",
       "    <tr>\n",
       "      <th>bar</th>\n",
       "      <td>-0.313539</td>\n",
       "      <td>-0.030214</td>\n",
       "    </tr>\n",
       "    <tr>\n",
       "      <th>foo</th>\n",
       "      <td>0.266669</td>\n",
       "      <td>-0.379371</td>\n",
       "    </tr>\n",
       "  </tbody>\n",
       "</table>\n",
       "</div>"
      ],
      "text/plain": [
       "            C         D\n",
       "A                      \n",
       "bar -0.313539 -0.030214\n",
       "foo  0.266669 -0.379371"
      ]
     },
     "execution_count": 64,
     "metadata": {},
     "output_type": "execute_result"
    }
   ],
   "source": [
    "df.groupby(\"A\").mean()"
   ]
  },
  {
   "cell_type": "code",
   "execution_count": 65,
   "id": "80ed3328",
   "metadata": {},
   "outputs": [
    {
     "data": {
      "text/html": [
       "<div>\n",
       "<style scoped>\n",
       "    .dataframe tbody tr th:only-of-type {\n",
       "        vertical-align: middle;\n",
       "    }\n",
       "\n",
       "    .dataframe tbody tr th {\n",
       "        vertical-align: top;\n",
       "    }\n",
       "\n",
       "    .dataframe thead th {\n",
       "        text-align: right;\n",
       "    }\n",
       "</style>\n",
       "<table border=\"1\" class=\"dataframe\">\n",
       "  <thead>\n",
       "    <tr style=\"text-align: right;\">\n",
       "      <th></th>\n",
       "      <th></th>\n",
       "      <th>C</th>\n",
       "      <th>D</th>\n",
       "    </tr>\n",
       "    <tr>\n",
       "      <th>A</th>\n",
       "      <th>B</th>\n",
       "      <th></th>\n",
       "      <th></th>\n",
       "    </tr>\n",
       "  </thead>\n",
       "  <tbody>\n",
       "    <tr>\n",
       "      <th rowspan=\"3\" valign=\"top\">bar</th>\n",
       "      <th>one</th>\n",
       "      <td>0.939142</td>\n",
       "      <td>-0.981896</td>\n",
       "    </tr>\n",
       "    <tr>\n",
       "      <th>three</th>\n",
       "      <td>-1.452337</td>\n",
       "      <td>0.357642</td>\n",
       "    </tr>\n",
       "    <tr>\n",
       "      <th>two</th>\n",
       "      <td>-0.427423</td>\n",
       "      <td>0.533611</td>\n",
       "    </tr>\n",
       "    <tr>\n",
       "      <th rowspan=\"3\" valign=\"top\">foo</th>\n",
       "      <th>one</th>\n",
       "      <td>-0.960027</td>\n",
       "      <td>-1.704541</td>\n",
       "    </tr>\n",
       "    <tr>\n",
       "      <th>three</th>\n",
       "      <td>1.195310</td>\n",
       "      <td>0.951931</td>\n",
       "    </tr>\n",
       "    <tr>\n",
       "      <th>two</th>\n",
       "      <td>1.098062</td>\n",
       "      <td>-1.144242</td>\n",
       "    </tr>\n",
       "  </tbody>\n",
       "</table>\n",
       "</div>"
      ],
      "text/plain": [
       "                  C         D\n",
       "A   B                        \n",
       "bar one    0.939142 -0.981896\n",
       "    three -1.452337  0.357642\n",
       "    two   -0.427423  0.533611\n",
       "foo one   -0.960027 -1.704541\n",
       "    three  1.195310  0.951931\n",
       "    two    1.098062 -1.144242"
      ]
     },
     "execution_count": 65,
     "metadata": {},
     "output_type": "execute_result"
    }
   ],
   "source": [
    "df.groupby([\"A\", \"B\"]).sum() #Este es un ejemplo de agrupación doble (por dos columnas)"
   ]
  },
  {
   "cell_type": "markdown",
   "id": "65c882ed",
   "metadata": {},
   "source": [
    "## Pivot Tables - Tablas dinámicas"
   ]
  },
  {
   "cell_type": "markdown",
   "id": "ce96d595",
   "metadata": {},
   "source": [
    "#### La función que debemos utilizar es pd.pivot_table(df, values=\" \", index=[\" \", \" \"], columns=[\" \"])"
   ]
  },
  {
   "cell_type": "code",
   "execution_count": 66,
   "id": "5f9c670b",
   "metadata": {},
   "outputs": [],
   "source": [
    "df = pd.DataFrame(\n",
    "    {\n",
    "        \"A\": [\"one\", \"one\", \"two\", \"three\"] * 3,\n",
    "        \"B\": [\"A\", \"B\", \"C\"] * 4,\n",
    "        \"C\": [\"foo\", \"foo\", \"foo\", \"bar\", \"bar\", \"bar\"] * 2,\n",
    "        \"D\": np.random.randn(12),\n",
    "        \"E\": np.random.randn(12),\n",
    "    }\n",
    ")\n"
   ]
  },
  {
   "cell_type": "code",
   "execution_count": 67,
   "id": "81bad32c",
   "metadata": {},
   "outputs": [
    {
     "data": {
      "text/html": [
       "<div>\n",
       "<style scoped>\n",
       "    .dataframe tbody tr th:only-of-type {\n",
       "        vertical-align: middle;\n",
       "    }\n",
       "\n",
       "    .dataframe tbody tr th {\n",
       "        vertical-align: top;\n",
       "    }\n",
       "\n",
       "    .dataframe thead th {\n",
       "        text-align: right;\n",
       "    }\n",
       "</style>\n",
       "<table border=\"1\" class=\"dataframe\">\n",
       "  <thead>\n",
       "    <tr style=\"text-align: right;\">\n",
       "      <th></th>\n",
       "      <th>A</th>\n",
       "      <th>B</th>\n",
       "      <th>C</th>\n",
       "      <th>D</th>\n",
       "      <th>E</th>\n",
       "    </tr>\n",
       "  </thead>\n",
       "  <tbody>\n",
       "    <tr>\n",
       "      <th>0</th>\n",
       "      <td>one</td>\n",
       "      <td>A</td>\n",
       "      <td>foo</td>\n",
       "      <td>-0.092895</td>\n",
       "      <td>-0.456106</td>\n",
       "    </tr>\n",
       "    <tr>\n",
       "      <th>1</th>\n",
       "      <td>one</td>\n",
       "      <td>B</td>\n",
       "      <td>foo</td>\n",
       "      <td>0.148168</td>\n",
       "      <td>-0.167865</td>\n",
       "    </tr>\n",
       "    <tr>\n",
       "      <th>2</th>\n",
       "      <td>two</td>\n",
       "      <td>C</td>\n",
       "      <td>foo</td>\n",
       "      <td>-1.205940</td>\n",
       "      <td>-0.228121</td>\n",
       "    </tr>\n",
       "    <tr>\n",
       "      <th>3</th>\n",
       "      <td>three</td>\n",
       "      <td>A</td>\n",
       "      <td>bar</td>\n",
       "      <td>0.456370</td>\n",
       "      <td>0.960848</td>\n",
       "    </tr>\n",
       "    <tr>\n",
       "      <th>4</th>\n",
       "      <td>one</td>\n",
       "      <td>B</td>\n",
       "      <td>bar</td>\n",
       "      <td>0.326878</td>\n",
       "      <td>-1.120879</td>\n",
       "    </tr>\n",
       "    <tr>\n",
       "      <th>5</th>\n",
       "      <td>one</td>\n",
       "      <td>C</td>\n",
       "      <td>bar</td>\n",
       "      <td>0.773784</td>\n",
       "      <td>-0.590061</td>\n",
       "    </tr>\n",
       "    <tr>\n",
       "      <th>6</th>\n",
       "      <td>two</td>\n",
       "      <td>A</td>\n",
       "      <td>foo</td>\n",
       "      <td>-1.437128</td>\n",
       "      <td>-2.272507</td>\n",
       "    </tr>\n",
       "    <tr>\n",
       "      <th>7</th>\n",
       "      <td>three</td>\n",
       "      <td>B</td>\n",
       "      <td>foo</td>\n",
       "      <td>0.672020</td>\n",
       "      <td>-1.292360</td>\n",
       "    </tr>\n",
       "    <tr>\n",
       "      <th>8</th>\n",
       "      <td>one</td>\n",
       "      <td>C</td>\n",
       "      <td>foo</td>\n",
       "      <td>-1.347152</td>\n",
       "      <td>0.191815</td>\n",
       "    </tr>\n",
       "    <tr>\n",
       "      <th>9</th>\n",
       "      <td>one</td>\n",
       "      <td>A</td>\n",
       "      <td>bar</td>\n",
       "      <td>-0.063025</td>\n",
       "      <td>0.796053</td>\n",
       "    </tr>\n",
       "    <tr>\n",
       "      <th>10</th>\n",
       "      <td>two</td>\n",
       "      <td>B</td>\n",
       "      <td>bar</td>\n",
       "      <td>1.243661</td>\n",
       "      <td>-0.230781</td>\n",
       "    </tr>\n",
       "    <tr>\n",
       "      <th>11</th>\n",
       "      <td>three</td>\n",
       "      <td>C</td>\n",
       "      <td>bar</td>\n",
       "      <td>-0.409379</td>\n",
       "      <td>1.289438</td>\n",
       "    </tr>\n",
       "  </tbody>\n",
       "</table>\n",
       "</div>"
      ],
      "text/plain": [
       "        A  B    C         D         E\n",
       "0     one  A  foo -0.092895 -0.456106\n",
       "1     one  B  foo  0.148168 -0.167865\n",
       "2     two  C  foo -1.205940 -0.228121\n",
       "3   three  A  bar  0.456370  0.960848\n",
       "4     one  B  bar  0.326878 -1.120879\n",
       "5     one  C  bar  0.773784 -0.590061\n",
       "6     two  A  foo -1.437128 -2.272507\n",
       "7   three  B  foo  0.672020 -1.292360\n",
       "8     one  C  foo -1.347152  0.191815\n",
       "9     one  A  bar -0.063025  0.796053\n",
       "10    two  B  bar  1.243661 -0.230781\n",
       "11  three  C  bar -0.409379  1.289438"
      ]
     },
     "execution_count": 67,
     "metadata": {},
     "output_type": "execute_result"
    }
   ],
   "source": [
    "df"
   ]
  },
  {
   "cell_type": "code",
   "execution_count": 68,
   "id": "323b4a1a",
   "metadata": {},
   "outputs": [
    {
     "data": {
      "text/html": [
       "<div>\n",
       "<style scoped>\n",
       "    .dataframe tbody tr th:only-of-type {\n",
       "        vertical-align: middle;\n",
       "    }\n",
       "\n",
       "    .dataframe tbody tr th {\n",
       "        vertical-align: top;\n",
       "    }\n",
       "\n",
       "    .dataframe thead th {\n",
       "        text-align: right;\n",
       "    }\n",
       "</style>\n",
       "<table border=\"1\" class=\"dataframe\">\n",
       "  <thead>\n",
       "    <tr style=\"text-align: right;\">\n",
       "      <th></th>\n",
       "      <th>C</th>\n",
       "      <th>bar</th>\n",
       "      <th>foo</th>\n",
       "    </tr>\n",
       "    <tr>\n",
       "      <th>A</th>\n",
       "      <th>B</th>\n",
       "      <th></th>\n",
       "      <th></th>\n",
       "    </tr>\n",
       "  </thead>\n",
       "  <tbody>\n",
       "    <tr>\n",
       "      <th rowspan=\"3\" valign=\"top\">one</th>\n",
       "      <th>A</th>\n",
       "      <td>-0.063025</td>\n",
       "      <td>-0.092895</td>\n",
       "    </tr>\n",
       "    <tr>\n",
       "      <th>B</th>\n",
       "      <td>0.326878</td>\n",
       "      <td>0.148168</td>\n",
       "    </tr>\n",
       "    <tr>\n",
       "      <th>C</th>\n",
       "      <td>0.773784</td>\n",
       "      <td>-1.347152</td>\n",
       "    </tr>\n",
       "    <tr>\n",
       "      <th rowspan=\"3\" valign=\"top\">three</th>\n",
       "      <th>A</th>\n",
       "      <td>0.456370</td>\n",
       "      <td>NaN</td>\n",
       "    </tr>\n",
       "    <tr>\n",
       "      <th>B</th>\n",
       "      <td>NaN</td>\n",
       "      <td>0.672020</td>\n",
       "    </tr>\n",
       "    <tr>\n",
       "      <th>C</th>\n",
       "      <td>-0.409379</td>\n",
       "      <td>NaN</td>\n",
       "    </tr>\n",
       "    <tr>\n",
       "      <th rowspan=\"3\" valign=\"top\">two</th>\n",
       "      <th>A</th>\n",
       "      <td>NaN</td>\n",
       "      <td>-1.437128</td>\n",
       "    </tr>\n",
       "    <tr>\n",
       "      <th>B</th>\n",
       "      <td>1.243661</td>\n",
       "      <td>NaN</td>\n",
       "    </tr>\n",
       "    <tr>\n",
       "      <th>C</th>\n",
       "      <td>NaN</td>\n",
       "      <td>-1.205940</td>\n",
       "    </tr>\n",
       "  </tbody>\n",
       "</table>\n",
       "</div>"
      ],
      "text/plain": [
       "C             bar       foo\n",
       "A     B                    \n",
       "one   A -0.063025 -0.092895\n",
       "      B  0.326878  0.148168\n",
       "      C  0.773784 -1.347152\n",
       "three A  0.456370       NaN\n",
       "      B       NaN  0.672020\n",
       "      C -0.409379       NaN\n",
       "two   A       NaN -1.437128\n",
       "      B  1.243661       NaN\n",
       "      C       NaN -1.205940"
      ]
     },
     "execution_count": 68,
     "metadata": {},
     "output_type": "execute_result"
    }
   ],
   "source": [
    "pd.pivot_table(df, values=\"D\", index=[\"A\", \"B\"], columns=[\"C\"])"
   ]
  },
  {
   "cell_type": "markdown",
   "id": "191d6fd4",
   "metadata": {},
   "source": [
    "## Variables categoricas "
   ]
  },
  {
   "cell_type": "markdown",
   "id": "7699950b",
   "metadata": {},
   "source": [
    "#### Pandas puede incluir variables categóricas en los data frame "
   ]
  },
  {
   "cell_type": "code",
   "execution_count": 69,
   "id": "b7e7b62b",
   "metadata": {},
   "outputs": [],
   "source": [
    "df = pd.DataFrame(\n",
    "    {\"id\": [1, 2, 3, 4, 5, 6], \"raw_grade\": [\"a\", \"b\", \"b\", \"a\", \"a\", \"e\"]}\n",
    ")"
   ]
  },
  {
   "cell_type": "code",
   "execution_count": 70,
   "id": "bb303894",
   "metadata": {},
   "outputs": [
    {
     "data": {
      "text/html": [
       "<div>\n",
       "<style scoped>\n",
       "    .dataframe tbody tr th:only-of-type {\n",
       "        vertical-align: middle;\n",
       "    }\n",
       "\n",
       "    .dataframe tbody tr th {\n",
       "        vertical-align: top;\n",
       "    }\n",
       "\n",
       "    .dataframe thead th {\n",
       "        text-align: right;\n",
       "    }\n",
       "</style>\n",
       "<table border=\"1\" class=\"dataframe\">\n",
       "  <thead>\n",
       "    <tr style=\"text-align: right;\">\n",
       "      <th></th>\n",
       "      <th>id</th>\n",
       "      <th>raw_grade</th>\n",
       "    </tr>\n",
       "  </thead>\n",
       "  <tbody>\n",
       "    <tr>\n",
       "      <th>0</th>\n",
       "      <td>1</td>\n",
       "      <td>a</td>\n",
       "    </tr>\n",
       "    <tr>\n",
       "      <th>1</th>\n",
       "      <td>2</td>\n",
       "      <td>b</td>\n",
       "    </tr>\n",
       "    <tr>\n",
       "      <th>2</th>\n",
       "      <td>3</td>\n",
       "      <td>b</td>\n",
       "    </tr>\n",
       "    <tr>\n",
       "      <th>3</th>\n",
       "      <td>4</td>\n",
       "      <td>a</td>\n",
       "    </tr>\n",
       "    <tr>\n",
       "      <th>4</th>\n",
       "      <td>5</td>\n",
       "      <td>a</td>\n",
       "    </tr>\n",
       "    <tr>\n",
       "      <th>5</th>\n",
       "      <td>6</td>\n",
       "      <td>e</td>\n",
       "    </tr>\n",
       "  </tbody>\n",
       "</table>\n",
       "</div>"
      ],
      "text/plain": [
       "   id raw_grade\n",
       "0   1         a\n",
       "1   2         b\n",
       "2   3         b\n",
       "3   4         a\n",
       "4   5         a\n",
       "5   6         e"
      ]
     },
     "execution_count": 70,
     "metadata": {},
     "output_type": "execute_result"
    }
   ],
   "source": [
    "df"
   ]
  },
  {
   "cell_type": "code",
   "execution_count": 71,
   "id": "322dcae6",
   "metadata": {},
   "outputs": [],
   "source": [
    "df[\"grade\"] = df[\"raw_grade\"].astype(\"category\") \n",
    "# Conversión de las calificaciones sin procesar a un tipo de datos categóricos"
   ]
  },
  {
   "cell_type": "code",
   "execution_count": 73,
   "id": "a66b93ce",
   "metadata": {},
   "outputs": [
    {
     "data": {
      "text/plain": [
       "0    a\n",
       "1    b\n",
       "2    b\n",
       "3    a\n",
       "4    a\n",
       "5    e\n",
       "Name: grade, dtype: category\n",
       "Categories (3, object): ['a', 'b', 'e']"
      ]
     },
     "execution_count": 73,
     "metadata": {},
     "output_type": "execute_result"
    }
   ],
   "source": [
    "df[\"grade\"]"
   ]
  },
  {
   "cell_type": "code",
   "execution_count": 74,
   "id": "14c547a5",
   "metadata": {},
   "outputs": [],
   "source": [
    "df[\"grade\"].cat.categories = [\"very good\", \"good\", \"very bad\"] \n",
    "#Cambie el nombre de las categorías a nombres más significativos"
   ]
  },
  {
   "cell_type": "code",
   "execution_count": 75,
   "id": "d6ff6120",
   "metadata": {},
   "outputs": [
    {
     "data": {
      "text/plain": [
       "0    very good\n",
       "1         good\n",
       "2         good\n",
       "3    very good\n",
       "4    very good\n",
       "5     very bad\n",
       "Name: grade, dtype: category\n",
       "Categories (3, object): ['very good', 'good', 'very bad']"
      ]
     },
     "execution_count": 75,
     "metadata": {},
     "output_type": "execute_result"
    }
   ],
   "source": [
    "df[\"grade\"]"
   ]
  },
  {
   "cell_type": "code",
   "execution_count": 76,
   "id": "7ad95624",
   "metadata": {},
   "outputs": [],
   "source": [
    "# Reordenar las categorías y agregar simultáneamente las categorías que faltan\n",
    "df[\"grade\"] = df[\"grade\"].cat.set_categories(\n",
    "    [\"very bad\", \"bad\", \"medium\", \"good\", \"very good\"]\n",
    ")"
   ]
  },
  {
   "cell_type": "code",
   "execution_count": 77,
   "id": "ebd8fc15",
   "metadata": {},
   "outputs": [
    {
     "data": {
      "text/plain": [
       "0    very good\n",
       "1         good\n",
       "2         good\n",
       "3    very good\n",
       "4    very good\n",
       "5     very bad\n",
       "Name: grade, dtype: category\n",
       "Categories (5, object): ['very bad', 'bad', 'medium', 'good', 'very good']"
      ]
     },
     "execution_count": 77,
     "metadata": {},
     "output_type": "execute_result"
    }
   ],
   "source": [
    "df[\"grade\"]"
   ]
  },
  {
   "cell_type": "code",
   "execution_count": 78,
   "id": "1e4f3ee4",
   "metadata": {},
   "outputs": [
    {
     "data": {
      "text/html": [
       "<div>\n",
       "<style scoped>\n",
       "    .dataframe tbody tr th:only-of-type {\n",
       "        vertical-align: middle;\n",
       "    }\n",
       "\n",
       "    .dataframe tbody tr th {\n",
       "        vertical-align: top;\n",
       "    }\n",
       "\n",
       "    .dataframe thead th {\n",
       "        text-align: right;\n",
       "    }\n",
       "</style>\n",
       "<table border=\"1\" class=\"dataframe\">\n",
       "  <thead>\n",
       "    <tr style=\"text-align: right;\">\n",
       "      <th></th>\n",
       "      <th>id</th>\n",
       "      <th>raw_grade</th>\n",
       "      <th>grade</th>\n",
       "    </tr>\n",
       "  </thead>\n",
       "  <tbody>\n",
       "    <tr>\n",
       "      <th>0</th>\n",
       "      <td>1</td>\n",
       "      <td>a</td>\n",
       "      <td>very good</td>\n",
       "    </tr>\n",
       "    <tr>\n",
       "      <th>3</th>\n",
       "      <td>4</td>\n",
       "      <td>a</td>\n",
       "      <td>very good</td>\n",
       "    </tr>\n",
       "    <tr>\n",
       "      <th>4</th>\n",
       "      <td>5</td>\n",
       "      <td>a</td>\n",
       "      <td>very good</td>\n",
       "    </tr>\n",
       "    <tr>\n",
       "      <th>1</th>\n",
       "      <td>2</td>\n",
       "      <td>b</td>\n",
       "      <td>good</td>\n",
       "    </tr>\n",
       "    <tr>\n",
       "      <th>2</th>\n",
       "      <td>3</td>\n",
       "      <td>b</td>\n",
       "      <td>good</td>\n",
       "    </tr>\n",
       "    <tr>\n",
       "      <th>5</th>\n",
       "      <td>6</td>\n",
       "      <td>e</td>\n",
       "      <td>very bad</td>\n",
       "    </tr>\n",
       "  </tbody>\n",
       "</table>\n",
       "</div>"
      ],
      "text/plain": [
       "   id raw_grade      grade\n",
       "0   1         a  very good\n",
       "3   4         a  very good\n",
       "4   5         a  very good\n",
       "1   2         b       good\n",
       "2   3         b       good\n",
       "5   6         e   very bad"
      ]
     },
     "execution_count": 78,
     "metadata": {},
     "output_type": "execute_result"
    }
   ],
   "source": [
    "df.sort_values(by=\"grade\", ascending=False) \n",
    "#Ordenar las categorias, orden de importancia (desde a hasta e), no orden alfábetico"
   ]
  },
  {
   "cell_type": "code",
   "execution_count": 79,
   "id": "908ce0ce",
   "metadata": {},
   "outputs": [
    {
     "data": {
      "text/plain": [
       "grade\n",
       "very bad     1\n",
       "bad          0\n",
       "medium       0\n",
       "good         2\n",
       "very good    3\n",
       "dtype: int64"
      ]
     },
     "execution_count": 79,
     "metadata": {},
     "output_type": "execute_result"
    }
   ],
   "source": [
    "df.groupby(\"grade\").size() #Agrupar las categorias"
   ]
  },
  {
   "cell_type": "markdown",
   "id": "3ab96abe",
   "metadata": {},
   "source": [
    "## Gráficos - Plotting "
   ]
  },
  {
   "cell_type": "markdown",
   "id": "2c122a10",
   "metadata": {},
   "source": [
    "### Para poder graficar se utilizar el paquete matplotlib"
   ]
  },
  {
   "cell_type": "code",
   "execution_count": 80,
   "id": "053d1d7f",
   "metadata": {},
   "outputs": [],
   "source": [
    "import matplotlib.pyplot as plt\n",
    "\n",
    "plt.close(\"all\")"
   ]
  },
  {
   "cell_type": "code",
   "execution_count": 81,
   "id": "6ba6f771",
   "metadata": {},
   "outputs": [],
   "source": [
    "#Utilizaremos una serie de datos random, para poder realizar un gráfico sencillo\n",
    "\n",
    "ts = pd.Series(np.random.randn(1000), index=pd.date_range(\"1/1/2000\", periods=1000))"
   ]
  },
  {
   "cell_type": "code",
   "execution_count": 82,
   "id": "9bf63c41",
   "metadata": {},
   "outputs": [
    {
     "data": {
      "text/plain": [
       "2000-01-01   -1.920773\n",
       "2000-01-02    0.991600\n",
       "2000-01-03   -0.376538\n",
       "2000-01-04    0.398987\n",
       "2000-01-05    1.138478\n",
       "                ...   \n",
       "2002-09-22    0.360112\n",
       "2002-09-23   -1.346708\n",
       "2002-09-24   -0.067509\n",
       "2002-09-25    0.689580\n",
       "2002-09-26    1.063950\n",
       "Freq: D, Length: 1000, dtype: float64"
      ]
     },
     "execution_count": 82,
     "metadata": {},
     "output_type": "execute_result"
    }
   ],
   "source": [
    "ts"
   ]
  },
  {
   "cell_type": "code",
   "execution_count": 84,
   "id": "4fe29ed6",
   "metadata": {},
   "outputs": [
    {
     "data": {
      "image/png": "[encoded data removed]",
      "text/plain": [
       "<Figure size 432x288 with 1 Axes>"
      ]
     },
     "metadata": {
      "needs_background": "light"
     },
     "output_type": "display_data"
    }
   ],
   "source": [
    "ts.plot();"
   ]
  },
  {
   "cell_type": "code",
   "execution_count": 86,
   "id": "001570c5",
   "metadata": {},
   "outputs": [],
   "source": [
    "plt.show();"
   ]
  },
  {
   "cell_type": "code",
   "execution_count": 87,
   "id": "a6597272",
   "metadata": {},
   "outputs": [],
   "source": [
    "# Ahora vamos a plotear una serie de datos como data frame\n",
    "df = pd.DataFrame(\n",
    "    np.random.randn(1000, 4), index=ts.index, columns=[\"A\", \"B\", \"C\", \"D\"]\n",
    ")\n"
   ]
  },
  {
   "cell_type": "code",
   "execution_count": 88,
   "id": "499cf8ed",
   "metadata": {},
   "outputs": [
    {
     "data": {
      "text/html": [
       "<div>\n",
       "<style scoped>\n",
       "    .dataframe tbody tr th:only-of-type {\n",
       "        vertical-align: middle;\n",
       "    }\n",
       "\n",
       "    .dataframe tbody tr th {\n",
       "        vertical-align: top;\n",
       "    }\n",
       "\n",
       "    .dataframe thead th {\n",
       "        text-align: right;\n",
       "    }\n",
       "</style>\n",
       "<table border=\"1\" class=\"dataframe\">\n",
       "  <thead>\n",
       "    <tr style=\"text-align: right;\">\n",
       "      <th></th>\n",
       "      <th>A</th>\n",
       "      <th>B</th>\n",
       "      <th>C</th>\n",
       "      <th>D</th>\n",
       "    </tr>\n",
       "  </thead>\n",
       "  <tbody>\n",
       "    <tr>\n",
       "      <th>2000-01-01</th>\n",
       "      <td>-0.947349</td>\n",
       "      <td>0.771307</td>\n",
       "      <td>0.473472</td>\n",
       "      <td>0.681808</td>\n",
       "    </tr>\n",
       "    <tr>\n",
       "      <th>2000-01-02</th>\n",
       "      <td>-1.715560</td>\n",
       "      <td>-1.328335</td>\n",
       "      <td>-0.822109</td>\n",
       "      <td>-0.270203</td>\n",
       "    </tr>\n",
       "    <tr>\n",
       "      <th>2000-01-03</th>\n",
       "      <td>-1.020773</td>\n",
       "      <td>0.591737</td>\n",
       "      <td>-2.121450</td>\n",
       "      <td>0.423797</td>\n",
       "    </tr>\n",
       "    <tr>\n",
       "      <th>2000-01-04</th>\n",
       "      <td>-0.722987</td>\n",
       "      <td>-1.841041</td>\n",
       "      <td>-2.081030</td>\n",
       "      <td>-0.004264</td>\n",
       "    </tr>\n",
       "    <tr>\n",
       "      <th>2000-01-05</th>\n",
       "      <td>-0.850344</td>\n",
       "      <td>-0.218833</td>\n",
       "      <td>-0.314492</td>\n",
       "      <td>0.561046</td>\n",
       "    </tr>\n",
       "    <tr>\n",
       "      <th>...</th>\n",
       "      <td>...</td>\n",
       "      <td>...</td>\n",
       "      <td>...</td>\n",
       "      <td>...</td>\n",
       "    </tr>\n",
       "    <tr>\n",
       "      <th>2002-09-22</th>\n",
       "      <td>1.696656</td>\n",
       "      <td>-0.534594</td>\n",
       "      <td>0.833473</td>\n",
       "      <td>-0.325474</td>\n",
       "    </tr>\n",
       "    <tr>\n",
       "      <th>2002-09-23</th>\n",
       "      <td>0.176595</td>\n",
       "      <td>-0.959484</td>\n",
       "      <td>0.203224</td>\n",
       "      <td>-0.495598</td>\n",
       "    </tr>\n",
       "    <tr>\n",
       "      <th>2002-09-24</th>\n",
       "      <td>2.143482</td>\n",
       "      <td>-0.151007</td>\n",
       "      <td>-1.883871</td>\n",
       "      <td>2.360063</td>\n",
       "    </tr>\n",
       "    <tr>\n",
       "      <th>2002-09-25</th>\n",
       "      <td>-0.038649</td>\n",
       "      <td>0.095205</td>\n",
       "      <td>-0.252373</td>\n",
       "      <td>1.749621</td>\n",
       "    </tr>\n",
       "    <tr>\n",
       "      <th>2002-09-26</th>\n",
       "      <td>0.833896</td>\n",
       "      <td>-0.736479</td>\n",
       "      <td>0.079357</td>\n",
       "      <td>0.239831</td>\n",
       "    </tr>\n",
       "  </tbody>\n",
       "</table>\n",
       "<p>1000 rows × 4 columns</p>\n",
       "</div>"
      ],
      "text/plain": [
       "                   A         B         C         D\n",
       "2000-01-01 -0.947349  0.771307  0.473472  0.681808\n",
       "2000-01-02 -1.715560 -1.328335 -0.822109 -0.270203\n",
       "2000-01-03 -1.020773  0.591737 -2.121450  0.423797\n",
       "2000-01-04 -0.722987 -1.841041 -2.081030 -0.004264\n",
       "2000-01-05 -0.850344 -0.218833 -0.314492  0.561046\n",
       "...              ...       ...       ...       ...\n",
       "2002-09-22  1.696656 -0.534594  0.833473 -0.325474\n",
       "2002-09-23  0.176595 -0.959484  0.203224 -0.495598\n",
       "2002-09-24  2.143482 -0.151007 -1.883871  2.360063\n",
       "2002-09-25 -0.038649  0.095205 -0.252373  1.749621\n",
       "2002-09-26  0.833896 -0.736479  0.079357  0.239831\n",
       "\n",
       "[1000 rows x 4 columns]"
      ]
     },
     "execution_count": 88,
     "metadata": {},
     "output_type": "execute_result"
    }
   ],
   "source": [
    "df"
   ]
  },
  {
   "cell_type": "code",
   "execution_count": 89,
   "id": "ada0e778",
   "metadata": {},
   "outputs": [],
   "source": [
    "df = df.cumsum()"
   ]
  },
  {
   "cell_type": "code",
   "execution_count": 90,
   "id": "742d1013",
   "metadata": {},
   "outputs": [
    {
     "data": {
      "text/html": [
       "<div>\n",
       "<style scoped>\n",
       "    .dataframe tbody tr th:only-of-type {\n",
       "        vertical-align: middle;\n",
       "    }\n",
       "\n",
       "    .dataframe tbody tr th {\n",
       "        vertical-align: top;\n",
       "    }\n",
       "\n",
       "    .dataframe thead th {\n",
       "        text-align: right;\n",
       "    }\n",
       "</style>\n",
       "<table border=\"1\" class=\"dataframe\">\n",
       "  <thead>\n",
       "    <tr style=\"text-align: right;\">\n",
       "      <th></th>\n",
       "      <th>A</th>\n",
       "      <th>B</th>\n",
       "      <th>C</th>\n",
       "      <th>D</th>\n",
       "    </tr>\n",
       "  </thead>\n",
       "  <tbody>\n",
       "    <tr>\n",
       "      <th>2000-01-01</th>\n",
       "      <td>-0.947349</td>\n",
       "      <td>0.771307</td>\n",
       "      <td>0.473472</td>\n",
       "      <td>0.681808</td>\n",
       "    </tr>\n",
       "    <tr>\n",
       "      <th>2000-01-02</th>\n",
       "      <td>-2.662910</td>\n",
       "      <td>-0.557028</td>\n",
       "      <td>-0.348637</td>\n",
       "      <td>0.411604</td>\n",
       "    </tr>\n",
       "    <tr>\n",
       "      <th>2000-01-03</th>\n",
       "      <td>-3.683682</td>\n",
       "      <td>0.034709</td>\n",
       "      <td>-2.470088</td>\n",
       "      <td>0.835402</td>\n",
       "    </tr>\n",
       "    <tr>\n",
       "      <th>2000-01-04</th>\n",
       "      <td>-4.406669</td>\n",
       "      <td>-1.806333</td>\n",
       "      <td>-4.551117</td>\n",
       "      <td>0.831138</td>\n",
       "    </tr>\n",
       "    <tr>\n",
       "      <th>2000-01-05</th>\n",
       "      <td>-5.257013</td>\n",
       "      <td>-2.025166</td>\n",
       "      <td>-4.865610</td>\n",
       "      <td>1.392183</td>\n",
       "    </tr>\n",
       "    <tr>\n",
       "      <th>...</th>\n",
       "      <td>...</td>\n",
       "      <td>...</td>\n",
       "      <td>...</td>\n",
       "      <td>...</td>\n",
       "    </tr>\n",
       "    <tr>\n",
       "      <th>2002-09-22</th>\n",
       "      <td>72.481289</td>\n",
       "      <td>3.269388</td>\n",
       "      <td>7.260274</td>\n",
       "      <td>44.412783</td>\n",
       "    </tr>\n",
       "    <tr>\n",
       "      <th>2002-09-23</th>\n",
       "      <td>72.657884</td>\n",
       "      <td>2.309904</td>\n",
       "      <td>7.463498</td>\n",
       "      <td>43.917186</td>\n",
       "    </tr>\n",
       "    <tr>\n",
       "      <th>2002-09-24</th>\n",
       "      <td>74.801366</td>\n",
       "      <td>2.158897</td>\n",
       "      <td>5.579628</td>\n",
       "      <td>46.277249</td>\n",
       "    </tr>\n",
       "    <tr>\n",
       "      <th>2002-09-25</th>\n",
       "      <td>74.762717</td>\n",
       "      <td>2.254101</td>\n",
       "      <td>5.327254</td>\n",
       "      <td>48.026870</td>\n",
       "    </tr>\n",
       "    <tr>\n",
       "      <th>2002-09-26</th>\n",
       "      <td>75.596613</td>\n",
       "      <td>1.517623</td>\n",
       "      <td>5.406612</td>\n",
       "      <td>48.266701</td>\n",
       "    </tr>\n",
       "  </tbody>\n",
       "</table>\n",
       "<p>1000 rows × 4 columns</p>\n",
       "</div>"
      ],
      "text/plain": [
       "                    A         B         C          D\n",
       "2000-01-01  -0.947349  0.771307  0.473472   0.681808\n",
       "2000-01-02  -2.662910 -0.557028 -0.348637   0.411604\n",
       "2000-01-03  -3.683682  0.034709 -2.470088   0.835402\n",
       "2000-01-04  -4.406669 -1.806333 -4.551117   0.831138\n",
       "2000-01-05  -5.257013 -2.025166 -4.865610   1.392183\n",
       "...               ...       ...       ...        ...\n",
       "2002-09-22  72.481289  3.269388  7.260274  44.412783\n",
       "2002-09-23  72.657884  2.309904  7.463498  43.917186\n",
       "2002-09-24  74.801366  2.158897  5.579628  46.277249\n",
       "2002-09-25  74.762717  2.254101  5.327254  48.026870\n",
       "2002-09-26  75.596613  1.517623  5.406612  48.266701\n",
       "\n",
       "[1000 rows x 4 columns]"
      ]
     },
     "execution_count": 90,
     "metadata": {},
     "output_type": "execute_result"
    }
   ],
   "source": [
    "df"
   ]
  },
  {
   "cell_type": "code",
   "execution_count": 91,
   "id": "5c77db10",
   "metadata": {},
   "outputs": [
    {
     "data": {
      "text/plain": [
       "<Figure size 432x288 with 0 Axes>"
      ]
     },
     "metadata": {},
     "output_type": "display_data"
    }
   ],
   "source": [
    "plt.figure();"
   ]
  },
  {
   "cell_type": "code",
   "execution_count": 94,
   "id": "690e352f",
   "metadata": {},
   "outputs": [
    {
     "data": {
      "image/png": "[encoded data removed]",
      "text/plain": [
       "<Figure size 432x288 with 1 Axes>"
      ]
     },
     "metadata": {
      "needs_background": "light"
     },
     "output_type": "display_data"
    }
   ],
   "source": [
    "df.plot();\n",
    "plt.legend(loc='best');"
   ]
  },
  {
   "cell_type": "markdown",
   "id": "0a4ab675",
   "metadata": {},
   "source": [
    "## Entrada/salida de tablas/datos"
   ]
  },
  {
   "cell_type": "markdown",
   "id": "5c7ddbf0",
   "metadata": {},
   "source": [
    "### Como leer/cargar un archivo. Se utiliza: pd.read_csvp pd.read_excel (Existen muchos otros formatos que puede leerse)"
   ]
  },
  {
   "cell_type": "code",
   "execution_count": 98,
   "id": "5040a0a4",
   "metadata": {},
   "outputs": [],
   "source": [
    "fifa = pd.read_csv(\"fifa_dplyr.csv\")"
   ]
  },
  {
   "cell_type": "code",
   "execution_count": 100,
   "id": "b103d391",
   "metadata": {},
   "outputs": [
    {
     "data": {
      "text/html": [
       "<div>\n",
       "<style scoped>\n",
       "    .dataframe tbody tr th:only-of-type {\n",
       "        vertical-align: middle;\n",
       "    }\n",
       "\n",
       "    .dataframe tbody tr th {\n",
       "        vertical-align: top;\n",
       "    }\n",
       "\n",
       "    .dataframe thead th {\n",
       "        text-align: right;\n",
       "    }\n",
       "</style>\n",
       "<table border=\"1\" class=\"dataframe\">\n",
       "  <thead>\n",
       "    <tr style=\"text-align: right;\">\n",
       "      <th></th>\n",
       "      <th>sofifa_id</th>\n",
       "      <th>short_name</th>\n",
       "      <th>long_name</th>\n",
       "      <th>age</th>\n",
       "      <th>dob</th>\n",
       "      <th>height_cm</th>\n",
       "      <th>weight_kg</th>\n",
       "      <th>nationality</th>\n",
       "      <th>club_name</th>\n",
       "      <th>league_name</th>\n",
       "      <th>overall</th>\n",
       "      <th>player_positions</th>\n",
       "    </tr>\n",
       "  </thead>\n",
       "  <tbody>\n",
       "    <tr>\n",
       "      <th>0</th>\n",
       "      <td>158023</td>\n",
       "      <td>L. Messi</td>\n",
       "      <td>Lionel Andrés Messi Cuccittini</td>\n",
       "      <td>32</td>\n",
       "      <td>1987-06-24</td>\n",
       "      <td>170</td>\n",
       "      <td>72</td>\n",
       "      <td>Argentina</td>\n",
       "      <td>FC Barcelona</td>\n",
       "      <td>Spain Primera Division</td>\n",
       "      <td>94</td>\n",
       "      <td>RW, CF, ST</td>\n",
       "    </tr>\n",
       "    <tr>\n",
       "      <th>1</th>\n",
       "      <td>20801</td>\n",
       "      <td>Cristiano Ronaldo</td>\n",
       "      <td>Cristiano Ronaldo dos Santos Aveiro</td>\n",
       "      <td>34</td>\n",
       "      <td>1985-02-05</td>\n",
       "      <td>187</td>\n",
       "      <td>83</td>\n",
       "      <td>Portugal</td>\n",
       "      <td>Juventus</td>\n",
       "      <td>Italian Serie A</td>\n",
       "      <td>93</td>\n",
       "      <td>ST, LW</td>\n",
       "    </tr>\n",
       "    <tr>\n",
       "      <th>2</th>\n",
       "      <td>190871</td>\n",
       "      <td>Neymar Jr</td>\n",
       "      <td>Neymar da Silva Santos Júnior</td>\n",
       "      <td>27</td>\n",
       "      <td>1992-02-05</td>\n",
       "      <td>175</td>\n",
       "      <td>68</td>\n",
       "      <td>Brazil</td>\n",
       "      <td>Paris Saint-Germain</td>\n",
       "      <td>French Ligue 1</td>\n",
       "      <td>92</td>\n",
       "      <td>LW, CAM</td>\n",
       "    </tr>\n",
       "    <tr>\n",
       "      <th>3</th>\n",
       "      <td>200389</td>\n",
       "      <td>J. Oblak</td>\n",
       "      <td>Jan Oblak</td>\n",
       "      <td>26</td>\n",
       "      <td>1993-01-07</td>\n",
       "      <td>188</td>\n",
       "      <td>87</td>\n",
       "      <td>Slovenia</td>\n",
       "      <td>Atlético Madrid</td>\n",
       "      <td>Spain Primera Division</td>\n",
       "      <td>91</td>\n",
       "      <td>GK</td>\n",
       "    </tr>\n",
       "    <tr>\n",
       "      <th>4</th>\n",
       "      <td>183277</td>\n",
       "      <td>E. Hazard</td>\n",
       "      <td>Eden Hazard</td>\n",
       "      <td>28</td>\n",
       "      <td>1991-01-07</td>\n",
       "      <td>175</td>\n",
       "      <td>74</td>\n",
       "      <td>Belgium</td>\n",
       "      <td>Real Madrid</td>\n",
       "      <td>Spain Primera Division</td>\n",
       "      <td>91</td>\n",
       "      <td>LW, CF</td>\n",
       "    </tr>\n",
       "    <tr>\n",
       "      <th>...</th>\n",
       "      <td>...</td>\n",
       "      <td>...</td>\n",
       "      <td>...</td>\n",
       "      <td>...</td>\n",
       "      <td>...</td>\n",
       "      <td>...</td>\n",
       "      <td>...</td>\n",
       "      <td>...</td>\n",
       "      <td>...</td>\n",
       "      <td>...</td>\n",
       "      <td>...</td>\n",
       "      <td>...</td>\n",
       "    </tr>\n",
       "    <tr>\n",
       "      <th>18478</th>\n",
       "      <td>245006</td>\n",
       "      <td>Shao Shuai</td>\n",
       "      <td>邵帅</td>\n",
       "      <td>22</td>\n",
       "      <td>1997-03-10</td>\n",
       "      <td>186</td>\n",
       "      <td>79</td>\n",
       "      <td>China PR</td>\n",
       "      <td>Beijing Renhe FC</td>\n",
       "      <td>Chinese Super League</td>\n",
       "      <td>48</td>\n",
       "      <td>CB</td>\n",
       "    </tr>\n",
       "    <tr>\n",
       "      <th>18479</th>\n",
       "      <td>250995</td>\n",
       "      <td>Xiao Mingjie</td>\n",
       "      <td>肖明杰</td>\n",
       "      <td>22</td>\n",
       "      <td>1997-01-01</td>\n",
       "      <td>177</td>\n",
       "      <td>66</td>\n",
       "      <td>China PR</td>\n",
       "      <td>Shanghai SIPG FC</td>\n",
       "      <td>Chinese Super League</td>\n",
       "      <td>48</td>\n",
       "      <td>CB</td>\n",
       "    </tr>\n",
       "    <tr>\n",
       "      <th>18480</th>\n",
       "      <td>252332</td>\n",
       "      <td>Zhang Wei</td>\n",
       "      <td>张威</td>\n",
       "      <td>19</td>\n",
       "      <td>2000-05-16</td>\n",
       "      <td>186</td>\n",
       "      <td>75</td>\n",
       "      <td>China PR</td>\n",
       "      <td>Hebei China Fortune FC</td>\n",
       "      <td>Chinese Super League</td>\n",
       "      <td>48</td>\n",
       "      <td>CM</td>\n",
       "    </tr>\n",
       "    <tr>\n",
       "      <th>18481</th>\n",
       "      <td>251110</td>\n",
       "      <td>Wang Haijian</td>\n",
       "      <td>汪海健</td>\n",
       "      <td>18</td>\n",
       "      <td>2000-08-02</td>\n",
       "      <td>185</td>\n",
       "      <td>74</td>\n",
       "      <td>China PR</td>\n",
       "      <td>Shanghai Greenland Shenhua FC</td>\n",
       "      <td>Chinese Super League</td>\n",
       "      <td>48</td>\n",
       "      <td>CM</td>\n",
       "    </tr>\n",
       "    <tr>\n",
       "      <th>18482</th>\n",
       "      <td>233449</td>\n",
       "      <td>Pan Ximing</td>\n",
       "      <td>潘喜明</td>\n",
       "      <td>26</td>\n",
       "      <td>1993-01-11</td>\n",
       "      <td>182</td>\n",
       "      <td>78</td>\n",
       "      <td>China PR</td>\n",
       "      <td>Hebei China Fortune FC</td>\n",
       "      <td>Chinese Super League</td>\n",
       "      <td>48</td>\n",
       "      <td>CM</td>\n",
       "    </tr>\n",
       "  </tbody>\n",
       "</table>\n",
       "<p>18483 rows × 12 columns</p>\n",
       "</div>"
      ],
      "text/plain": [
       "       sofifa_id         short_name                            long_name  age  \\\n",
       "0         158023           L. Messi       Lionel Andrés Messi Cuccittini   32   \n",
       "1          20801  Cristiano Ronaldo  Cristiano Ronaldo dos Santos Aveiro   34   \n",
       "2         190871          Neymar Jr        Neymar da Silva Santos Júnior   27   \n",
       "3         200389           J. Oblak                            Jan Oblak   26   \n",
       "4         183277          E. Hazard                          Eden Hazard   28   \n",
       "...          ...                ...                                  ...  ...   \n",
       "18478     245006         Shao Shuai                                   邵帅   22   \n",
       "18479     250995       Xiao Mingjie                                  肖明杰   22   \n",
       "18480     252332          Zhang Wei                                   张威   19   \n",
       "18481     251110       Wang Haijian                                  汪海健   18   \n",
       "18482     233449         Pan Ximing                                  潘喜明   26   \n",
       "\n",
       "              dob  height_cm  weight_kg nationality  \\\n",
       "0      1987-06-24        170         72   Argentina   \n",
       "1      1985-02-05        187         83    Portugal   \n",
       "2      1992-02-05        175         68      Brazil   \n",
       "3      1993-01-07        188         87    Slovenia   \n",
       "4      1991-01-07        175         74     Belgium   \n",
       "...           ...        ...        ...         ...   \n",
       "18478  1997-03-10        186         79    China PR   \n",
       "18479  1997-01-01        177         66    China PR   \n",
       "18480  2000-05-16        186         75    China PR   \n",
       "18481  2000-08-02        185         74    China PR   \n",
       "18482  1993-01-11        182         78    China PR   \n",
       "\n",
       "                           club_name             league_name  overall  \\\n",
       "0                       FC Barcelona  Spain Primera Division       94   \n",
       "1                           Juventus         Italian Serie A       93   \n",
       "2                Paris Saint-Germain          French Ligue 1       92   \n",
       "3                    Atlético Madrid  Spain Primera Division       91   \n",
       "4                        Real Madrid  Spain Primera Division       91   \n",
       "...                              ...                     ...      ...   \n",
       "18478               Beijing Renhe FC    Chinese Super League       48   \n",
       "18479               Shanghai SIPG FC    Chinese Super League       48   \n",
       "18480         Hebei China Fortune FC    Chinese Super League       48   \n",
       "18481  Shanghai Greenland Shenhua FC    Chinese Super League       48   \n",
       "18482         Hebei China Fortune FC    Chinese Super League       48   \n",
       "\n",
       "      player_positions  \n",
       "0           RW, CF, ST  \n",
       "1               ST, LW  \n",
       "2              LW, CAM  \n",
       "3                   GK  \n",
       "4               LW, CF  \n",
       "...                ...  \n",
       "18478               CB  \n",
       "18479               CB  \n",
       "18480               CM  \n",
       "18481               CM  \n",
       "18482               CM  \n",
       "\n",
       "[18483 rows x 12 columns]"
      ]
     },
     "execution_count": 100,
     "metadata": {},
     "output_type": "execute_result"
    }
   ],
   "source": [
    "fifa"
   ]
  },
  {
   "cell_type": "code",
   "execution_count": 101,
   "id": "eca9c6e5",
   "metadata": {},
   "outputs": [
    {
     "data": {
      "text/html": [
       "<div>\n",
       "<style scoped>\n",
       "    .dataframe tbody tr th:only-of-type {\n",
       "        vertical-align: middle;\n",
       "    }\n",
       "\n",
       "    .dataframe tbody tr th {\n",
       "        vertical-align: top;\n",
       "    }\n",
       "\n",
       "    .dataframe thead th {\n",
       "        text-align: right;\n",
       "    }\n",
       "</style>\n",
       "<table border=\"1\" class=\"dataframe\">\n",
       "  <thead>\n",
       "    <tr style=\"text-align: right;\">\n",
       "      <th></th>\n",
       "      <th>sofifa_id</th>\n",
       "      <th>short_name</th>\n",
       "      <th>long_name</th>\n",
       "      <th>age</th>\n",
       "      <th>dob</th>\n",
       "      <th>height_cm</th>\n",
       "      <th>weight_kg</th>\n",
       "      <th>nationality</th>\n",
       "      <th>club_name</th>\n",
       "      <th>league_name</th>\n",
       "      <th>overall</th>\n",
       "      <th>player_positions</th>\n",
       "    </tr>\n",
       "  </thead>\n",
       "  <tbody>\n",
       "    <tr>\n",
       "      <th>0</th>\n",
       "      <td>158023</td>\n",
       "      <td>L. Messi</td>\n",
       "      <td>Lionel Andrés Messi Cuccittini</td>\n",
       "      <td>32</td>\n",
       "      <td>1987-06-24</td>\n",
       "      <td>170</td>\n",
       "      <td>72</td>\n",
       "      <td>Argentina</td>\n",
       "      <td>FC Barcelona</td>\n",
       "      <td>Spain Primera Division</td>\n",
       "      <td>94</td>\n",
       "      <td>RW, CF, ST</td>\n",
       "    </tr>\n",
       "    <tr>\n",
       "      <th>1</th>\n",
       "      <td>20801</td>\n",
       "      <td>Cristiano Ronaldo</td>\n",
       "      <td>Cristiano Ronaldo dos Santos Aveiro</td>\n",
       "      <td>34</td>\n",
       "      <td>1985-02-05</td>\n",
       "      <td>187</td>\n",
       "      <td>83</td>\n",
       "      <td>Portugal</td>\n",
       "      <td>Juventus</td>\n",
       "      <td>Italian Serie A</td>\n",
       "      <td>93</td>\n",
       "      <td>ST, LW</td>\n",
       "    </tr>\n",
       "    <tr>\n",
       "      <th>2</th>\n",
       "      <td>190871</td>\n",
       "      <td>Neymar Jr</td>\n",
       "      <td>Neymar da Silva Santos Júnior</td>\n",
       "      <td>27</td>\n",
       "      <td>1992-02-05</td>\n",
       "      <td>175</td>\n",
       "      <td>68</td>\n",
       "      <td>Brazil</td>\n",
       "      <td>Paris Saint-Germain</td>\n",
       "      <td>French Ligue 1</td>\n",
       "      <td>92</td>\n",
       "      <td>LW, CAM</td>\n",
       "    </tr>\n",
       "    <tr>\n",
       "      <th>3</th>\n",
       "      <td>200389</td>\n",
       "      <td>J. Oblak</td>\n",
       "      <td>Jan Oblak</td>\n",
       "      <td>26</td>\n",
       "      <td>1993-01-07</td>\n",
       "      <td>188</td>\n",
       "      <td>87</td>\n",
       "      <td>Slovenia</td>\n",
       "      <td>Atlético Madrid</td>\n",
       "      <td>Spain Primera Division</td>\n",
       "      <td>91</td>\n",
       "      <td>GK</td>\n",
       "    </tr>\n",
       "    <tr>\n",
       "      <th>4</th>\n",
       "      <td>183277</td>\n",
       "      <td>E. Hazard</td>\n",
       "      <td>Eden Hazard</td>\n",
       "      <td>28</td>\n",
       "      <td>1991-01-07</td>\n",
       "      <td>175</td>\n",
       "      <td>74</td>\n",
       "      <td>Belgium</td>\n",
       "      <td>Real Madrid</td>\n",
       "      <td>Spain Primera Division</td>\n",
       "      <td>91</td>\n",
       "      <td>LW, CF</td>\n",
       "    </tr>\n",
       "  </tbody>\n",
       "</table>\n",
       "</div>"
      ],
      "text/plain": [
       "   sofifa_id         short_name                            long_name  age  \\\n",
       "0     158023           L. Messi       Lionel Andrés Messi Cuccittini   32   \n",
       "1      20801  Cristiano Ronaldo  Cristiano Ronaldo dos Santos Aveiro   34   \n",
       "2     190871          Neymar Jr        Neymar da Silva Santos Júnior   27   \n",
       "3     200389           J. Oblak                            Jan Oblak   26   \n",
       "4     183277          E. Hazard                          Eden Hazard   28   \n",
       "\n",
       "          dob  height_cm  weight_kg nationality            club_name  \\\n",
       "0  1987-06-24        170         72   Argentina         FC Barcelona   \n",
       "1  1985-02-05        187         83    Portugal             Juventus   \n",
       "2  1992-02-05        175         68      Brazil  Paris Saint-Germain   \n",
       "3  1993-01-07        188         87    Slovenia      Atlético Madrid   \n",
       "4  1991-01-07        175         74     Belgium          Real Madrid   \n",
       "\n",
       "              league_name  overall player_positions  \n",
       "0  Spain Primera Division       94       RW, CF, ST  \n",
       "1         Italian Serie A       93           ST, LW  \n",
       "2          French Ligue 1       92          LW, CAM  \n",
       "3  Spain Primera Division       91               GK  \n",
       "4  Spain Primera Division       91           LW, CF  "
      ]
     },
     "execution_count": 101,
     "metadata": {},
     "output_type": "execute_result"
    }
   ],
   "source": [
    "fifa.head()"
   ]
  },
  {
   "cell_type": "code",
   "execution_count": 102,
   "id": "268cee6d",
   "metadata": {},
   "outputs": [
    {
     "data": {
      "text/html": [
       "<div>\n",
       "<style scoped>\n",
       "    .dataframe tbody tr th:only-of-type {\n",
       "        vertical-align: middle;\n",
       "    }\n",
       "\n",
       "    .dataframe tbody tr th {\n",
       "        vertical-align: top;\n",
       "    }\n",
       "\n",
       "    .dataframe thead th {\n",
       "        text-align: right;\n",
       "    }\n",
       "</style>\n",
       "<table border=\"1\" class=\"dataframe\">\n",
       "  <thead>\n",
       "    <tr style=\"text-align: right;\">\n",
       "      <th></th>\n",
       "      <th>sofifa_id</th>\n",
       "      <th>short_name</th>\n",
       "      <th>long_name</th>\n",
       "      <th>age</th>\n",
       "      <th>dob</th>\n",
       "      <th>height_cm</th>\n",
       "      <th>weight_kg</th>\n",
       "      <th>nationality</th>\n",
       "      <th>club_name</th>\n",
       "      <th>league_name</th>\n",
       "      <th>overall</th>\n",
       "      <th>player_positions</th>\n",
       "    </tr>\n",
       "  </thead>\n",
       "  <tbody>\n",
       "    <tr>\n",
       "      <th>18478</th>\n",
       "      <td>245006</td>\n",
       "      <td>Shao Shuai</td>\n",
       "      <td>邵帅</td>\n",
       "      <td>22</td>\n",
       "      <td>1997-03-10</td>\n",
       "      <td>186</td>\n",
       "      <td>79</td>\n",
       "      <td>China PR</td>\n",
       "      <td>Beijing Renhe FC</td>\n",
       "      <td>Chinese Super League</td>\n",
       "      <td>48</td>\n",
       "      <td>CB</td>\n",
       "    </tr>\n",
       "    <tr>\n",
       "      <th>18479</th>\n",
       "      <td>250995</td>\n",
       "      <td>Xiao Mingjie</td>\n",
       "      <td>肖明杰</td>\n",
       "      <td>22</td>\n",
       "      <td>1997-01-01</td>\n",
       "      <td>177</td>\n",
       "      <td>66</td>\n",
       "      <td>China PR</td>\n",
       "      <td>Shanghai SIPG FC</td>\n",
       "      <td>Chinese Super League</td>\n",
       "      <td>48</td>\n",
       "      <td>CB</td>\n",
       "    </tr>\n",
       "    <tr>\n",
       "      <th>18480</th>\n",
       "      <td>252332</td>\n",
       "      <td>Zhang Wei</td>\n",
       "      <td>张威</td>\n",
       "      <td>19</td>\n",
       "      <td>2000-05-16</td>\n",
       "      <td>186</td>\n",
       "      <td>75</td>\n",
       "      <td>China PR</td>\n",
       "      <td>Hebei China Fortune FC</td>\n",
       "      <td>Chinese Super League</td>\n",
       "      <td>48</td>\n",
       "      <td>CM</td>\n",
       "    </tr>\n",
       "    <tr>\n",
       "      <th>18481</th>\n",
       "      <td>251110</td>\n",
       "      <td>Wang Haijian</td>\n",
       "      <td>汪海健</td>\n",
       "      <td>18</td>\n",
       "      <td>2000-08-02</td>\n",
       "      <td>185</td>\n",
       "      <td>74</td>\n",
       "      <td>China PR</td>\n",
       "      <td>Shanghai Greenland Shenhua FC</td>\n",
       "      <td>Chinese Super League</td>\n",
       "      <td>48</td>\n",
       "      <td>CM</td>\n",
       "    </tr>\n",
       "    <tr>\n",
       "      <th>18482</th>\n",
       "      <td>233449</td>\n",
       "      <td>Pan Ximing</td>\n",
       "      <td>潘喜明</td>\n",
       "      <td>26</td>\n",
       "      <td>1993-01-11</td>\n",
       "      <td>182</td>\n",
       "      <td>78</td>\n",
       "      <td>China PR</td>\n",
       "      <td>Hebei China Fortune FC</td>\n",
       "      <td>Chinese Super League</td>\n",
       "      <td>48</td>\n",
       "      <td>CM</td>\n",
       "    </tr>\n",
       "  </tbody>\n",
       "</table>\n",
       "</div>"
      ],
      "text/plain": [
       "       sofifa_id    short_name long_name  age         dob  height_cm  \\\n",
       "18478     245006    Shao Shuai        邵帅   22  1997-03-10        186   \n",
       "18479     250995  Xiao Mingjie       肖明杰   22  1997-01-01        177   \n",
       "18480     252332     Zhang Wei        张威   19  2000-05-16        186   \n",
       "18481     251110  Wang Haijian       汪海健   18  2000-08-02        185   \n",
       "18482     233449    Pan Ximing       潘喜明   26  1993-01-11        182   \n",
       "\n",
       "       weight_kg nationality                      club_name  \\\n",
       "18478         79    China PR               Beijing Renhe FC   \n",
       "18479         66    China PR               Shanghai SIPG FC   \n",
       "18480         75    China PR         Hebei China Fortune FC   \n",
       "18481         74    China PR  Shanghai Greenland Shenhua FC   \n",
       "18482         78    China PR         Hebei China Fortune FC   \n",
       "\n",
       "                league_name  overall player_positions  \n",
       "18478  Chinese Super League       48               CB  \n",
       "18479  Chinese Super League       48               CB  \n",
       "18480  Chinese Super League       48               CM  \n",
       "18481  Chinese Super League       48               CM  \n",
       "18482  Chinese Super League       48               CM  "
      ]
     },
     "execution_count": 102,
     "metadata": {},
     "output_type": "execute_result"
    }
   ],
   "source": [
    "fifa.tail()"
   ]
  },
  {
   "cell_type": "code",
   "execution_count": 103,
   "id": "7f1c9f50",
   "metadata": {
    "scrolled": true
   },
   "outputs": [
    {
     "data": {
      "text/html": [
       "<div>\n",
       "<style scoped>\n",
       "    .dataframe tbody tr th:only-of-type {\n",
       "        vertical-align: middle;\n",
       "    }\n",
       "\n",
       "    .dataframe tbody tr th {\n",
       "        vertical-align: top;\n",
       "    }\n",
       "\n",
       "    .dataframe thead th {\n",
       "        text-align: right;\n",
       "    }\n",
       "</style>\n",
       "<table border=\"1\" class=\"dataframe\">\n",
       "  <thead>\n",
       "    <tr style=\"text-align: right;\">\n",
       "      <th></th>\n",
       "      <th>sofifa_id</th>\n",
       "      <th>age</th>\n",
       "      <th>height_cm</th>\n",
       "      <th>weight_kg</th>\n",
       "      <th>overall</th>\n",
       "    </tr>\n",
       "  </thead>\n",
       "  <tbody>\n",
       "    <tr>\n",
       "      <th>count</th>\n",
       "      <td>18483.000000</td>\n",
       "      <td>18483.000000</td>\n",
       "      <td>18483.000000</td>\n",
       "      <td>18483.000000</td>\n",
       "      <td>18483.000000</td>\n",
       "    </tr>\n",
       "    <tr>\n",
       "      <th>mean</th>\n",
       "      <td>219768.374885</td>\n",
       "      <td>25.283071</td>\n",
       "      <td>181.348212</td>\n",
       "      <td>75.259049</td>\n",
       "      <td>66.198885</td>\n",
       "    </tr>\n",
       "    <tr>\n",
       "      <th>std</th>\n",
       "      <td>28047.535516</td>\n",
       "      <td>4.656790</td>\n",
       "      <td>6.760648</td>\n",
       "      <td>7.053023</td>\n",
       "      <td>6.950927</td>\n",
       "    </tr>\n",
       "    <tr>\n",
       "      <th>min</th>\n",
       "      <td>41.000000</td>\n",
       "      <td>16.000000</td>\n",
       "      <td>155.000000</td>\n",
       "      <td>50.000000</td>\n",
       "      <td>48.000000</td>\n",
       "    </tr>\n",
       "    <tr>\n",
       "      <th>25%</th>\n",
       "      <td>204495.500000</td>\n",
       "      <td>22.000000</td>\n",
       "      <td>177.000000</td>\n",
       "      <td>70.000000</td>\n",
       "      <td>62.000000</td>\n",
       "    </tr>\n",
       "    <tr>\n",
       "      <th>50%</th>\n",
       "      <td>226215.000000</td>\n",
       "      <td>25.000000</td>\n",
       "      <td>181.000000</td>\n",
       "      <td>75.000000</td>\n",
       "      <td>66.000000</td>\n",
       "    </tr>\n",
       "    <tr>\n",
       "      <th>75%</th>\n",
       "      <td>240880.000000</td>\n",
       "      <td>29.000000</td>\n",
       "      <td>186.000000</td>\n",
       "      <td>80.000000</td>\n",
       "      <td>71.000000</td>\n",
       "    </tr>\n",
       "    <tr>\n",
       "      <th>max</th>\n",
       "      <td>252905.000000</td>\n",
       "      <td>42.000000</td>\n",
       "      <td>205.000000</td>\n",
       "      <td>110.000000</td>\n",
       "      <td>94.000000</td>\n",
       "    </tr>\n",
       "  </tbody>\n",
       "</table>\n",
       "</div>"
      ],
      "text/plain": [
       "           sofifa_id           age     height_cm     weight_kg       overall\n",
       "count   18483.000000  18483.000000  18483.000000  18483.000000  18483.000000\n",
       "mean   219768.374885     25.283071    181.348212     75.259049     66.198885\n",
       "std     28047.535516      4.656790      6.760648      7.053023      6.950927\n",
       "min        41.000000     16.000000    155.000000     50.000000     48.000000\n",
       "25%    204495.500000     22.000000    177.000000     70.000000     62.000000\n",
       "50%    226215.000000     25.000000    181.000000     75.000000     66.000000\n",
       "75%    240880.000000     29.000000    186.000000     80.000000     71.000000\n",
       "max    252905.000000     42.000000    205.000000    110.000000     94.000000"
      ]
     },
     "execution_count": 103,
     "metadata": {},
     "output_type": "execute_result"
    }
   ],
   "source": [
    "fifa.describe()"
   ]
  },
  {
   "cell_type": "markdown",
   "id": "a61c4f44",
   "metadata": {},
   "source": [
    "### Leer/cargar archivo de Excel"
   ]
  },
  {
   "cell_type": "code",
   "execution_count": 106,
   "id": "aabbc672",
   "metadata": {},
   "outputs": [],
   "source": [
    "employees = pd.read_excel(\"employee_demographics.xlsx\")"
   ]
  },
  {
   "cell_type": "code",
   "execution_count": 108,
   "id": "2d5c90a7",
   "metadata": {},
   "outputs": [
    {
     "data": {
      "text/html": [
       "<div>\n",
       "<style scoped>\n",
       "    .dataframe tbody tr th:only-of-type {\n",
       "        vertical-align: middle;\n",
       "    }\n",
       "\n",
       "    .dataframe tbody tr th {\n",
       "        vertical-align: top;\n",
       "    }\n",
       "\n",
       "    .dataframe thead th {\n",
       "        text-align: right;\n",
       "    }\n",
       "</style>\n",
       "<table border=\"1\" class=\"dataframe\">\n",
       "  <thead>\n",
       "    <tr style=\"text-align: right;\">\n",
       "      <th></th>\n",
       "      <th>EmployeeID</th>\n",
       "      <th>OrgTenureYrs_2019</th>\n",
       "      <th>JobLevel</th>\n",
       "      <th>Sex</th>\n",
       "      <th>RaceEthnicity</th>\n",
       "      <th>AgeYrs_2019</th>\n",
       "      <th>Veteran</th>\n",
       "    </tr>\n",
       "  </thead>\n",
       "  <tbody>\n",
       "    <tr>\n",
       "      <th>0</th>\n",
       "      <td>1001</td>\n",
       "      <td>4.8</td>\n",
       "      <td>2</td>\n",
       "      <td>Female</td>\n",
       "      <td>Asian</td>\n",
       "      <td>49.8</td>\n",
       "      <td>No</td>\n",
       "    </tr>\n",
       "    <tr>\n",
       "      <th>1</th>\n",
       "      <td>1002</td>\n",
       "      <td>0.4</td>\n",
       "      <td>1</td>\n",
       "      <td>Male</td>\n",
       "      <td>Asian</td>\n",
       "      <td>25.4</td>\n",
       "      <td>No</td>\n",
       "    </tr>\n",
       "    <tr>\n",
       "      <th>2</th>\n",
       "      <td>1003</td>\n",
       "      <td>3.5</td>\n",
       "      <td>1</td>\n",
       "      <td>Male</td>\n",
       "      <td>HispanicLatino</td>\n",
       "      <td>23.5</td>\n",
       "      <td>No</td>\n",
       "    </tr>\n",
       "    <tr>\n",
       "      <th>3</th>\n",
       "      <td>1004</td>\n",
       "      <td>2.8</td>\n",
       "      <td>1</td>\n",
       "      <td>Female</td>\n",
       "      <td>White</td>\n",
       "      <td>40.8</td>\n",
       "      <td>No</td>\n",
       "    </tr>\n",
       "    <tr>\n",
       "      <th>4</th>\n",
       "      <td>1005</td>\n",
       "      <td>2.7</td>\n",
       "      <td>1</td>\n",
       "      <td>Female</td>\n",
       "      <td>HispanicLatino</td>\n",
       "      <td>28.7</td>\n",
       "      <td>No</td>\n",
       "    </tr>\n",
       "    <tr>\n",
       "      <th>...</th>\n",
       "      <td>...</td>\n",
       "      <td>...</td>\n",
       "      <td>...</td>\n",
       "      <td>...</td>\n",
       "      <td>...</td>\n",
       "      <td>...</td>\n",
       "      <td>...</td>\n",
       "    </tr>\n",
       "    <tr>\n",
       "      <th>158</th>\n",
       "      <td>1159</td>\n",
       "      <td>3.2</td>\n",
       "      <td>2</td>\n",
       "      <td>Male</td>\n",
       "      <td>HispanicLatino</td>\n",
       "      <td>40.2</td>\n",
       "      <td>No</td>\n",
       "    </tr>\n",
       "    <tr>\n",
       "      <th>159</th>\n",
       "      <td>1160</td>\n",
       "      <td>3.1</td>\n",
       "      <td>4</td>\n",
       "      <td>Female</td>\n",
       "      <td>HispanicLatino</td>\n",
       "      <td>45.1</td>\n",
       "      <td>No</td>\n",
       "    </tr>\n",
       "    <tr>\n",
       "      <th>160</th>\n",
       "      <td>1161</td>\n",
       "      <td>1.2</td>\n",
       "      <td>1</td>\n",
       "      <td>Male</td>\n",
       "      <td>Asian</td>\n",
       "      <td>44.2</td>\n",
       "      <td>No</td>\n",
       "    </tr>\n",
       "    <tr>\n",
       "      <th>161</th>\n",
       "      <td>1162</td>\n",
       "      <td>1.1</td>\n",
       "      <td>1</td>\n",
       "      <td>Male</td>\n",
       "      <td>Asian</td>\n",
       "      <td>45.1</td>\n",
       "      <td>Yes</td>\n",
       "    </tr>\n",
       "    <tr>\n",
       "      <th>162</th>\n",
       "      <td>1163</td>\n",
       "      <td>0.2</td>\n",
       "      <td>1</td>\n",
       "      <td>Female</td>\n",
       "      <td>Black</td>\n",
       "      <td>31.2</td>\n",
       "      <td>No</td>\n",
       "    </tr>\n",
       "  </tbody>\n",
       "</table>\n",
       "<p>163 rows × 7 columns</p>\n",
       "</div>"
      ],
      "text/plain": [
       "     EmployeeID  OrgTenureYrs_2019  JobLevel     Sex   RaceEthnicity  \\\n",
       "0          1001                4.8         2  Female           Asian   \n",
       "1          1002                0.4         1    Male           Asian   \n",
       "2          1003                3.5         1    Male  HispanicLatino   \n",
       "3          1004                2.8         1  Female           White   \n",
       "4          1005                2.7         1  Female  HispanicLatino   \n",
       "..          ...                ...       ...     ...             ...   \n",
       "158        1159                3.2         2    Male  HispanicLatino   \n",
       "159        1160                3.1         4  Female  HispanicLatino   \n",
       "160        1161                1.2         1    Male           Asian   \n",
       "161        1162                1.1         1    Male           Asian   \n",
       "162        1163                0.2         1  Female           Black   \n",
       "\n",
       "     AgeYrs_2019 Veteran  \n",
       "0           49.8      No  \n",
       "1           25.4      No  \n",
       "2           23.5      No  \n",
       "3           40.8      No  \n",
       "4           28.7      No  \n",
       "..           ...     ...  \n",
       "158         40.2      No  \n",
       "159         45.1      No  \n",
       "160         44.2      No  \n",
       "161         45.1     Yes  \n",
       "162         31.2      No  \n",
       "\n",
       "[163 rows x 7 columns]"
      ]
     },
     "execution_count": 108,
     "metadata": {},
     "output_type": "execute_result"
    }
   ],
   "source": [
    "employees"
   ]
  },
  {
   "cell_type": "code",
   "execution_count": 109,
   "id": "34e74eee",
   "metadata": {},
   "outputs": [
    {
     "data": {
      "text/html": [
       "<div>\n",
       "<style scoped>\n",
       "    .dataframe tbody tr th:only-of-type {\n",
       "        vertical-align: middle;\n",
       "    }\n",
       "\n",
       "    .dataframe tbody tr th {\n",
       "        vertical-align: top;\n",
       "    }\n",
       "\n",
       "    .dataframe thead th {\n",
       "        text-align: right;\n",
       "    }\n",
       "</style>\n",
       "<table border=\"1\" class=\"dataframe\">\n",
       "  <thead>\n",
       "    <tr style=\"text-align: right;\">\n",
       "      <th></th>\n",
       "      <th>EmployeeID</th>\n",
       "      <th>OrgTenureYrs_2019</th>\n",
       "      <th>JobLevel</th>\n",
       "      <th>AgeYrs_2019</th>\n",
       "    </tr>\n",
       "  </thead>\n",
       "  <tbody>\n",
       "    <tr>\n",
       "      <th>count</th>\n",
       "      <td>163.000000</td>\n",
       "      <td>162.000000</td>\n",
       "      <td>163.000000</td>\n",
       "      <td>162.000000</td>\n",
       "    </tr>\n",
       "    <tr>\n",
       "      <th>mean</th>\n",
       "      <td>1082.000000</td>\n",
       "      <td>620.156173</td>\n",
       "      <td>1.895706</td>\n",
       "      <td>37.893210</td>\n",
       "    </tr>\n",
       "    <tr>\n",
       "      <th>std</th>\n",
       "      <td>47.198164</td>\n",
       "      <td>7856.436067</td>\n",
       "      <td>1.163294</td>\n",
       "      <td>9.070676</td>\n",
       "    </tr>\n",
       "    <tr>\n",
       "      <th>min</th>\n",
       "      <td>1001.000000</td>\n",
       "      <td>0.100000</td>\n",
       "      <td>1.000000</td>\n",
       "      <td>18.100000</td>\n",
       "    </tr>\n",
       "    <tr>\n",
       "      <th>25%</th>\n",
       "      <td>1041.500000</td>\n",
       "      <td>1.600000</td>\n",
       "      <td>1.000000</td>\n",
       "      <td>32.125000</td>\n",
       "    </tr>\n",
       "    <tr>\n",
       "      <th>50%</th>\n",
       "      <td>1082.000000</td>\n",
       "      <td>3.100000</td>\n",
       "      <td>1.000000</td>\n",
       "      <td>38.950000</td>\n",
       "    </tr>\n",
       "    <tr>\n",
       "      <th>75%</th>\n",
       "      <td>1122.500000</td>\n",
       "      <td>4.000000</td>\n",
       "      <td>2.000000</td>\n",
       "      <td>44.725000</td>\n",
       "    </tr>\n",
       "    <tr>\n",
       "      <th>max</th>\n",
       "      <td>1163.000000</td>\n",
       "      <td>99999.000000</td>\n",
       "      <td>5.000000</td>\n",
       "      <td>61.300000</td>\n",
       "    </tr>\n",
       "  </tbody>\n",
       "</table>\n",
       "</div>"
      ],
      "text/plain": [
       "        EmployeeID  OrgTenureYrs_2019    JobLevel  AgeYrs_2019\n",
       "count   163.000000         162.000000  163.000000   162.000000\n",
       "mean   1082.000000         620.156173    1.895706    37.893210\n",
       "std      47.198164        7856.436067    1.163294     9.070676\n",
       "min    1001.000000           0.100000    1.000000    18.100000\n",
       "25%    1041.500000           1.600000    1.000000    32.125000\n",
       "50%    1082.000000           3.100000    1.000000    38.950000\n",
       "75%    1122.500000           4.000000    2.000000    44.725000\n",
       "max    1163.000000       99999.000000    5.000000    61.300000"
      ]
     },
     "execution_count": 109,
     "metadata": {},
     "output_type": "execute_result"
    }
   ],
   "source": [
    "employees.describe()"
   ]
  },
  {
   "cell_type": "markdown",
   "id": "1705fb56",
   "metadata": {},
   "source": [
    "### Para escribir/guardar una tabla, utilizaremos: df.to_csv"
   ]
  },
  {
   "cell_type": "code",
   "execution_count": 104,
   "id": "256fbcad",
   "metadata": {},
   "outputs": [],
   "source": [
    "df.to_csv(\"foo.csv\")"
   ]
  }
 ],
 "metadata": {
  "kernelspec": {
   "display_name": "Python 3 (ipykernel)",
   "language": "python",
   "name": "python3"
  },
  "language_info": {
   "codemirror_mode": {
    "name": "ipython",
    "version": 3
   },
   "file_extension": ".py",
   "mimetype": "text/x-python",
   "name": "python",
   "nbconvert_exporter": "python",
   "pygments_lexer": "ipython3",
   "version": "3.9.12"
  }
 },
 "nbformat": 4,
 "nbformat_minor": 5
}
