{
 "cells": [
  {
   "cell_type": "markdown",
   "id": "e282ca0a",
   "metadata": {},
   "source": [
    "# Visión general\n",
    "\n",
    "Pandas tiene una API de opciones que configura y personaliza el comportamiento global relacionado con la visualización de DataFrame, el comportamiento de los datos y más. Las opciones tienen un nombre completo de \"estilo punteado\" que no distingue entre mayúsculas y minúsculas (por ejemplo, display.max_rows). Puede obtener/establecer opciones directamente como atributos del atributo de opciones de nivel superior"
   ]
  },
  {
   "cell_type": "code",
   "execution_count": 1,
   "id": "50c33470",
   "metadata": {},
   "outputs": [],
   "source": [
    "import numpy as np\n",
    "import pandas as pd"
   ]
  },
  {
   "cell_type": "markdown",
   "id": "52a0c4b2",
   "metadata": {},
   "source": [
    "### La API se compone de 5 funciones relevantes, disponibles directamente desde el espacio de nombres de pandas:\n",
    "\n",
    "#### 1. get_option() / set_option() - obtiene/establece el valor de una sola opción.\n",
    "#### 2. reset_option(): restablece una o más opciones a su valor predeterminado.\n",
    "#### 3. describe_option() - imprime las descripciones de una o más opciones.\n",
    "#### 4. option_context(): ejecuta un bloque de código con un conjunto de opciones que vuelven a la configuración anterior después de la ejecución. Tratamiento global relacionado con la visualización de DataFrame, el comportamiento de los datos y más.\n",
    "\n",
    "Las opciones tienen un nombre completo de \"estilo punteado\" que no distingue entre mayúsculas y minúsculas (por ejemplo, display.max_rows). Puede obtener/establecer opciones directamente como atributos del atributo de opciones de nivel superior:"
   ]
  },
  {
   "cell_type": "markdown",
   "id": "92a1bf42",
   "metadata": {},
   "source": [
    "### Ejemplo - Desplegar un número máximo de filas"
   ]
  },
  {
   "cell_type": "code",
   "execution_count": 2,
   "id": "3d5eeb4d",
   "metadata": {},
   "outputs": [
    {
     "data": {
      "text/plain": [
       "60"
      ]
     },
     "execution_count": 2,
     "metadata": {},
     "output_type": "execute_result"
    }
   ],
   "source": [
    "pd.options.display.max_rows"
   ]
  },
  {
   "cell_type": "code",
   "execution_count": 3,
   "id": "f1d7b2fd",
   "metadata": {},
   "outputs": [],
   "source": [
    "pd.options.display.max_rows = 999"
   ]
  },
  {
   "cell_type": "code",
   "execution_count": 6,
   "id": "7a22a6e3",
   "metadata": {},
   "outputs": [],
   "source": [
    "# La opción la definimos de la forma siguiente\n",
    "pd.options.display.max_rows = 999"
   ]
  },
  {
   "cell_type": "code",
   "execution_count": 7,
   "id": "ecc10cca",
   "metadata": {},
   "outputs": [
    {
     "data": {
      "text/plain": [
       "999"
      ]
     },
     "execution_count": 7,
     "metadata": {},
     "output_type": "execute_result"
    }
   ],
   "source": [
    "pd.options.display.max_rows"
   ]
  },
  {
   "cell_type": "markdown",
   "id": "e8aa3c5b",
   "metadata": {},
   "source": [
    "## 1. Opciones disponibles - describe_option()"
   ]
  },
  {
   "cell_type": "code",
   "execution_count": 8,
   "id": "9542606d",
   "metadata": {},
   "outputs": [
    {
     "name": "stdout",
     "output_type": "stream",
     "text": [
      "compute.use_bottleneck : bool\n",
      "    Use the bottleneck library to accelerate if it is installed,\n",
      "    the default is True\n",
      "    Valid values: False,True\n",
      "    [default: True] [currently: True]\n",
      "compute.use_numba : bool\n",
      "    Use the numba engine option for select operations if it is installed,\n",
      "    the default is False\n",
      "    Valid values: False,True\n",
      "    [default: False] [currently: False]\n",
      "compute.use_numexpr : bool\n",
      "    Use the numexpr library to accelerate computation if it is installed,\n",
      "    the default is True\n",
      "    Valid values: False,True\n",
      "    [default: True] [currently: True]\n",
      "display.chop_threshold : float or None\n",
      "    if set to a float value, all float values smaller then the given threshold\n",
      "    will be displayed as exactly 0 by repr and friends.\n",
      "    [default: None] [currently: None]\n",
      "display.colheader_justify : 'left'/'right'\n",
      "    Controls the justification of column headers. used by DataFrameFormatter.\n",
      "    [default: right] [currently: right]\n",
      "display.column_space No description available.\n",
      "    [default: 12] [currently: 12]\n",
      "display.date_dayfirst : boolean\n",
      "    When True, prints and parses dates with the day first, eg 20/01/2005\n",
      "    [default: False] [currently: False]\n",
      "display.date_yearfirst : boolean\n",
      "    When True, prints and parses dates with the year first, eg 2005/01/20\n",
      "    [default: False] [currently: False]\n",
      "display.encoding : str/unicode\n",
      "    Defaults to the detected encoding of the console.\n",
      "    Specifies the encoding to be used for strings returned by to_string,\n",
      "    these are generally strings meant to be displayed on the console.\n",
      "    [default: UTF-8] [currently: UTF-8]\n",
      "display.expand_frame_repr : boolean\n",
      "    Whether to print out the full DataFrame repr for wide DataFrames across\n",
      "    multiple lines, `max_columns` is still respected, but the output will\n",
      "    wrap-around across multiple \"pages\" if its width exceeds `display.width`.\n",
      "    [default: True] [currently: True]\n",
      "display.float_format : callable\n",
      "    The callable should accept a floating point number and return\n",
      "    a string with the desired format of the number. This is used\n",
      "    in some places like SeriesFormatter.\n",
      "    See formats.format.EngFormatter for an example.\n",
      "    [default: None] [currently: None]\n",
      "display.html.border : int\n",
      "    A ``border=value`` attribute is inserted in the ``<table>`` tag\n",
      "    for the DataFrame HTML repr.\n",
      "    [default: 1] [currently: 1]\n",
      "display.html.table_schema : boolean\n",
      "    Whether to publish a Table Schema representation for frontends\n",
      "    that support it.\n",
      "    (default: False)\n",
      "    [default: False] [currently: False]\n",
      "display.html.use_mathjax : boolean\n",
      "    When True, Jupyter notebook will process table contents using MathJax,\n",
      "    rendering mathematical expressions enclosed by the dollar symbol.\n",
      "    (default: True)\n",
      "    [default: True] [currently: True]\n",
      "display.large_repr : 'truncate'/'info'\n",
      "    For DataFrames exceeding max_rows/max_cols, the repr (and HTML repr) can\n",
      "    show a truncated table (the default from 0.13), or switch to the view from\n",
      "    df.info() (the behaviour in earlier versions of pandas).\n",
      "    [default: truncate] [currently: truncate]\n",
      "display.latex.escape : bool\n",
      "    This specifies if the to_latex method of a Dataframe uses escapes special\n",
      "    characters.\n",
      "    Valid values: False,True\n",
      "    [default: True] [currently: True]\n",
      "display.latex.longtable :bool\n",
      "    This specifies if the to_latex method of a Dataframe uses the longtable\n",
      "    format.\n",
      "    Valid values: False,True\n",
      "    [default: False] [currently: False]\n",
      "display.latex.multicolumn : bool\n",
      "    This specifies if the to_latex method of a Dataframe uses multicolumns\n",
      "    to pretty-print MultiIndex columns.\n",
      "    Valid values: False,True\n",
      "    [default: True] [currently: True]\n",
      "display.latex.multicolumn_format : bool\n",
      "    This specifies if the to_latex method of a Dataframe uses multicolumns\n",
      "    to pretty-print MultiIndex columns.\n",
      "    Valid values: False,True\n",
      "    [default: l] [currently: l]\n",
      "display.latex.multirow : bool\n",
      "    This specifies if the to_latex method of a Dataframe uses multirows\n",
      "    to pretty-print MultiIndex rows.\n",
      "    Valid values: False,True\n",
      "    [default: False] [currently: False]\n",
      "display.latex.repr : boolean\n",
      "    Whether to produce a latex DataFrame representation for jupyter\n",
      "    environments that support it.\n",
      "    (default: False)\n",
      "    [default: False] [currently: False]\n",
      "display.max_categories : int\n",
      "    This sets the maximum number of categories pandas should output when\n",
      "    printing out a `Categorical` or a Series of dtype \"category\".\n",
      "    [default: 8] [currently: 8]\n",
      "display.max_columns : int\n",
      "    If max_cols is exceeded, switch to truncate view. Depending on\n",
      "    `large_repr`, objects are either centrally truncated or printed as\n",
      "    a summary view. 'None' value means unlimited.\n",
      "\n",
      "    In case python/IPython is running in a terminal and `large_repr`\n",
      "    equals 'truncate' this can be set to 0 and pandas will auto-detect\n",
      "    the width of the terminal and print a truncated object which fits\n",
      "    the screen width. The IPython notebook, IPython qtconsole, or IDLE\n",
      "    do not run in a terminal and hence it is not possible to do\n",
      "    correct auto-detection.\n",
      "    [default: 20] [currently: 20]\n",
      "display.max_colwidth : int or None\n",
      "    The maximum width in characters of a column in the repr of\n",
      "    a pandas data structure. When the column overflows, a \"...\"\n",
      "    placeholder is embedded in the output. A 'None' value means unlimited.\n",
      "    [default: 50] [currently: 50]\n",
      "display.max_dir_items : int\n",
      "    The number of items that will be added to `dir(...)`. 'None' value means\n",
      "    unlimited. Because dir is cached, changing this option will not immediately\n",
      "    affect already existing dataframes until a column is deleted or added.\n",
      "\n",
      "    This is for instance used to suggest columns from a dataframe to tab\n",
      "    completion.\n",
      "    [default: 100] [currently: 100]\n",
      "display.max_info_columns : int\n",
      "    max_info_columns is used in DataFrame.info method to decide if\n",
      "    per column information will be printed.\n",
      "    [default: 100] [currently: 100]\n",
      "display.max_info_rows : int or None\n",
      "    df.info() will usually show null-counts for each column.\n",
      "    For large frames this can be quite slow. max_info_rows and max_info_cols\n",
      "    limit this null check only to frames with smaller dimensions than\n",
      "    specified.\n",
      "    [default: 1690785] [currently: 1690785]\n",
      "display.max_rows : int\n",
      "    If max_rows is exceeded, switch to truncate view. Depending on\n",
      "    `large_repr`, objects are either centrally truncated or printed as\n",
      "    a summary view. 'None' value means unlimited.\n",
      "\n",
      "    In case python/IPython is running in a terminal and `large_repr`\n",
      "    equals 'truncate' this can be set to 0 and pandas will auto-detect\n",
      "    the height of the terminal and print a truncated object which fits\n",
      "    the screen height. The IPython notebook, IPython qtconsole, or\n",
      "    IDLE do not run in a terminal and hence it is not possible to do\n",
      "    correct auto-detection.\n",
      "    [default: 60] [currently: 999]\n",
      "display.max_seq_items : int or None\n",
      "    When pretty-printing a long sequence, no more then `max_seq_items`\n",
      "    will be printed. If items are omitted, they will be denoted by the\n",
      "    addition of \"...\" to the resulting string.\n",
      "\n",
      "    If set to None, the number of items to be printed is unlimited.\n",
      "    [default: 100] [currently: 100]\n",
      "display.memory_usage : bool, string or None\n",
      "    This specifies if the memory usage of a DataFrame should be displayed when\n",
      "    df.info() is called. Valid values True,False,'deep'\n",
      "    [default: True] [currently: True]\n",
      "display.min_rows : int\n",
      "    The numbers of rows to show in a truncated view (when `max_rows` is\n",
      "    exceeded). Ignored when `max_rows` is set to None or 0. When set to\n",
      "    None, follows the value of `max_rows`.\n",
      "    [default: 10] [currently: 10]\n",
      "display.multi_sparse : boolean\n",
      "    \"sparsify\" MultiIndex display (don't display repeated\n",
      "    elements in outer levels within groups)\n",
      "    [default: True] [currently: True]\n",
      "display.notebook_repr_html : boolean\n",
      "    When True, IPython notebook will use html representation for\n",
      "    pandas objects (if it is available).\n",
      "    [default: True] [currently: True]\n",
      "display.pprint_nest_depth : int\n",
      "    Controls the number of nested levels to process when pretty-printing\n",
      "    [default: 3] [currently: 3]\n",
      "display.precision : int\n",
      "    Floating point output precision in terms of number of places after the\n",
      "    decimal, for regular formatting as well as scientific notation. Similar\n",
      "    to ``precision`` in :meth:`numpy.set_printoptions`.\n",
      "    [default: 6] [currently: 6]\n",
      "display.show_dimensions : boolean or 'truncate'\n",
      "    Whether to print out dimensions at the end of DataFrame repr.\n",
      "    If 'truncate' is specified, only print out the dimensions if the\n",
      "    frame is truncated (e.g. not display all rows and/or columns)\n",
      "    [default: truncate] [currently: truncate]\n",
      "display.unicode.ambiguous_as_wide : boolean\n",
      "    Whether to use the Unicode East Asian Width to calculate the display text\n",
      "    width.\n",
      "    Enabling this may affect to the performance (default: False)\n",
      "    [default: False] [currently: False]\n",
      "display.unicode.east_asian_width : boolean\n",
      "    Whether to use the Unicode East Asian Width to calculate the display text\n",
      "    width.\n",
      "    Enabling this may affect to the performance (default: False)\n",
      "    [default: False] [currently: False]\n",
      "display.width : int\n",
      "    Width of the display in characters. In case python/IPython is running in\n",
      "    a terminal this can be set to None and pandas will correctly auto-detect\n",
      "    the width.\n",
      "    Note that the IPython notebook, IPython qtconsole, or IDLE do not run in a\n",
      "    terminal and hence it is not possible to correctly detect the width.\n",
      "    [default: 80] [currently: 80]\n",
      "io.excel.ods.reader : string\n",
      "    The default Excel reader engine for 'ods' files. Available options:\n",
      "    auto, odf.\n",
      "    [default: auto] [currently: auto]\n",
      "io.excel.ods.writer : string\n",
      "    The default Excel writer engine for 'ods' files. Available options:\n",
      "    auto, odf.\n",
      "    [default: auto] [currently: auto]\n",
      "io.excel.xls.reader : string\n",
      "    The default Excel reader engine for 'xls' files. Available options:\n",
      "    auto, xlrd.\n",
      "    [default: auto] [currently: auto]\n",
      "io.excel.xls.writer : string\n",
      "    The default Excel writer engine for 'xls' files. Available options:\n",
      "    auto, xlwt.\n",
      "    [default: auto] [currently: auto]\n",
      "    (Deprecated, use `` instead.)\n",
      "io.excel.xlsb.reader : string\n",
      "    The default Excel reader engine for 'xlsb' files. Available options:\n",
      "    auto, pyxlsb.\n",
      "    [default: auto] [currently: auto]\n",
      "io.excel.xlsm.reader : string\n",
      "    The default Excel reader engine for 'xlsm' files. Available options:\n",
      "    auto, xlrd, openpyxl.\n",
      "    [default: auto] [currently: auto]\n",
      "io.excel.xlsm.writer : string\n",
      "    The default Excel writer engine for 'xlsm' files. Available options:\n",
      "    auto, openpyxl.\n",
      "    [default: auto] [currently: auto]\n",
      "io.excel.xlsx.reader : string\n",
      "    The default Excel reader engine for 'xlsx' files. Available options:\n",
      "    auto, xlrd, openpyxl.\n",
      "    [default: auto] [currently: auto]\n",
      "io.excel.xlsx.writer : string\n",
      "    The default Excel writer engine for 'xlsx' files. Available options:\n",
      "    auto, openpyxl, xlsxwriter.\n",
      "    [default: auto] [currently: auto]\n",
      "io.hdf.default_format : format\n",
      "    default format writing format, if None, then\n",
      "    put will default to 'fixed' and append will default to 'table'\n",
      "    [default: None] [currently: None]\n",
      "io.hdf.dropna_table : boolean\n",
      "    drop ALL nan rows when appending to a table\n",
      "    [default: False] [currently: False]\n",
      "io.parquet.engine : string\n",
      "    The default parquet reader/writer engine. Available options:\n",
      "    'auto', 'pyarrow', 'fastparquet', the default is 'auto'\n",
      "    [default: auto] [currently: auto]\n",
      "io.sql.engine : string\n",
      "    The default sql reader/writer engine. Available options:\n",
      "    'auto', 'sqlalchemy', the default is 'auto'\n",
      "    [default: auto] [currently: auto]\n",
      "mode.chained_assignment : string\n",
      "    Raise an exception, warn, or no action if trying to use chained assignment,\n",
      "    The default is warn\n",
      "    [default: warn] [currently: warn]\n",
      "mode.data_manager : string\n",
      "    Internal data manager type; can be \"block\" or \"array\". Defaults to \"block\",\n",
      "    unless overridden by the 'PANDAS_DATA_MANAGER' environment variable (needs\n",
      "    to be set before pandas is imported).\n",
      "    [default: block] [currently: block]\n",
      "mode.sim_interactive : boolean\n",
      "    Whether to simulate interactive mode for purposes of testing\n",
      "    [default: False] [currently: False]\n",
      "mode.string_storage : string\n",
      "    The default storage for StringDtype.\n",
      "    [default: python] [currently: python]\n",
      "mode.use_inf_as_na : boolean\n",
      "    True means treat None, NaN, INF, -INF as NA (old way),\n",
      "    False means None and NaN are null, but INF, -INF are not NA\n",
      "    (new way).\n",
      "    [default: False] [currently: False]\n",
      "mode.use_inf_as_null : boolean\n",
      "    use_inf_as_null had been deprecated and will be removed in a future\n",
      "    version. Use `use_inf_as_na` instead.\n",
      "    [default: False] [currently: False]\n",
      "    (Deprecated, use `mode.use_inf_as_na` instead.)\n",
      "plotting.backend : str\n",
      "    The plotting backend to use. The default value is \"matplotlib\", the\n",
      "    backend provided with pandas. Other backends can be specified by\n",
      "    providing the name of the module that implements the backend.\n",
      "    [default: matplotlib] [currently: matplotlib]\n",
      "plotting.matplotlib.register_converters : bool or 'auto'.\n",
      "    Whether to register converters with matplotlib's units registry for\n",
      "    dates, times, datetimes, and Periods. Toggling to False will remove\n",
      "    the converters, restoring any converters that pandas overwrote.\n",
      "    [default: auto] [currently: auto]\n",
      "styler.format.decimal : str\n",
      "    The character representation for the decimal separator for floats and complex.\n",
      "    [default: .] [currently: .]\n",
      "styler.format.escape : str, optional\n",
      "    Whether to escape certain characters according to the given context; html or latex.\n",
      "    [default: None] [currently: None]\n",
      "styler.format.formatter : str, callable, dict, optional\n",
      "    A formatter object to be used as default within ``Styler.format``.\n",
      "    [default: None] [currently: None]\n",
      "styler.format.na_rep : str, optional\n",
      "    The string representation for values identified as missing.\n",
      "    [default: None] [currently: None]\n",
      "styler.format.precision : int\n",
      "    The precision for floats and complex numbers.\n",
      "    [default: 6] [currently: 6]\n",
      "styler.format.thousands : str, optional\n",
      "    The character representation for thousands separator for floats, int and complex.\n",
      "    [default: None] [currently: None]\n",
      "styler.html.mathjax : bool\n",
      "    If False will render special CSS classes to table attributes that indicate Mathjax\n",
      "    will not be used in Jupyter Notebook.\n",
      "    [default: True] [currently: True]\n",
      "styler.latex.environment : str\n",
      "    The environment to replace ``\\begin{table}``. If \"longtable\" is used results\n",
      "    in a specific longtable environment format.\n",
      "    [default: None] [currently: None]\n",
      "styler.latex.hrules : bool\n",
      "    Whether to add horizontal rules on top and bottom and below the headers.\n",
      "    [default: False] [currently: False]\n",
      "styler.latex.multicol_align : {\"r\", \"c\", \"l\", \"naive-l\", \"naive-r\"}\n",
      "    The specifier for horizontal alignment of sparsified LaTeX multicolumns. Pipe\n",
      "    decorators can also be added to non-naive values to draw vertical\n",
      "    rules, e.g. \"\\|r\" will draw a rule on the left side of right aligned merged cells.\n",
      "    [default: r] [currently: r]\n",
      "styler.latex.multirow_align : {\"c\", \"t\", \"b\"}\n",
      "    The specifier for vertical alignment of sparsified LaTeX multirows.\n",
      "    [default: c] [currently: c]\n",
      "styler.render.encoding : str\n",
      "    The encoding used for output HTML and LaTeX files.\n",
      "    [default: utf-8] [currently: utf-8]\n",
      "styler.render.max_columns : int, optional\n",
      "    The maximum number of columns that will be rendered. May still be reduced to\n",
      "    satsify ``max_elements``, which takes precedence.\n",
      "    [default: None] [currently: None]\n",
      "styler.render.max_elements : int\n",
      "    The maximum number of data-cell (<td>) elements that will be rendered before\n",
      "    trimming will occur over columns, rows or both if needed.\n",
      "    [default: 262144] [currently: 262144]\n",
      "styler.render.max_rows : int, optional\n",
      "    The maximum number of rows that will be rendered. May still be reduced to\n",
      "    satsify ``max_elements``, which takes precedence.\n",
      "    [default: None] [currently: None]\n",
      "styler.render.repr : str\n",
      "    Determine which output to use in Jupyter Notebook in {\"html\", \"latex\"}.\n",
      "    [default: html] [currently: html]\n",
      "styler.sparse.columns : bool\n",
      "    Whether to sparsify the display of hierarchical columns. Setting to False will\n",
      "    display each explicit level element in a hierarchical key for each column.\n",
      "    [default: True] [currently: True]\n",
      "styler.sparse.index : bool\n",
      "    Whether to sparsify the display of a hierarchical index. Setting to False will\n",
      "    display each explicit level element in a hierarchical key for each row.\n",
      "    [default: True] [currently: True]\n"
     ]
    }
   ],
   "source": [
    "# Puede obtener una lista de las opciones disponibles y sus descripciones con describe_option(). \n",
    "# Cuando se llama sin argumento, describe_option() imprimirá las descripciones de todas las opciones disponibles.\n",
    "pd.describe_option()"
   ]
  },
  {
   "cell_type": "markdown",
   "id": "063efc4c",
   "metadata": {},
   "source": [
    "## 2. Obtener y configurar opciones - get_option(), set_option() y reset_option()"
   ]
  },
  {
   "cell_type": "code",
   "execution_count": 9,
   "id": "591460d1",
   "metadata": {},
   "outputs": [
    {
     "data": {
      "text/plain": [
       "False"
      ]
     },
     "execution_count": 9,
     "metadata": {},
     "output_type": "execute_result"
    }
   ],
   "source": [
    "# Como se describió anteriormente, get_option() y set_option() están disponibles en el espacio de nombres pandas. \n",
    "# Para cambiar una opción, llama a set_option('option regex', new_value).\n",
    "pd.get_option(\"mode.sim_interactive\")"
   ]
  },
  {
   "cell_type": "code",
   "execution_count": 10,
   "id": "55b3f758",
   "metadata": {},
   "outputs": [],
   "source": [
    "pd.set_option(\"mode.sim_interactive\", True)"
   ]
  },
  {
   "cell_type": "code",
   "execution_count": 11,
   "id": "79e4f60a",
   "metadata": {},
   "outputs": [
    {
     "data": {
      "text/plain": [
       "True"
      ]
     },
     "execution_count": 11,
     "metadata": {},
     "output_type": "execute_result"
    }
   ],
   "source": [
    "pd.get_option(\"mode.sim_interactive\")"
   ]
  },
  {
   "cell_type": "code",
   "execution_count": 12,
   "id": "5f59deb0",
   "metadata": {},
   "outputs": [
    {
     "data": {
      "text/plain": [
       "999"
      ]
     },
     "execution_count": 12,
     "metadata": {},
     "output_type": "execute_result"
    }
   ],
   "source": [
    "# Puede usar reset_option() para volver al valor predeterminado de una configuración\n",
    "pd.get_option(\"display.max_rows\")"
   ]
  },
  {
   "cell_type": "code",
   "execution_count": 13,
   "id": "747a52d0",
   "metadata": {},
   "outputs": [],
   "source": [
    "pd.set_option(\"display.max_rows\", 999)"
   ]
  },
  {
   "cell_type": "code",
   "execution_count": 14,
   "id": "c84bd7f4",
   "metadata": {},
   "outputs": [
    {
     "data": {
      "text/plain": [
       "999"
      ]
     },
     "execution_count": 14,
     "metadata": {},
     "output_type": "execute_result"
    }
   ],
   "source": [
    "pd.get_option(\"display.max_rows\")"
   ]
  },
  {
   "cell_type": "code",
   "execution_count": 15,
   "id": "2cccdec1",
   "metadata": {},
   "outputs": [],
   "source": [
    "pd.reset_option(\"display.max_rows\")"
   ]
  },
  {
   "cell_type": "code",
   "execution_count": 16,
   "id": "7b6593e5",
   "metadata": {},
   "outputs": [
    {
     "data": {
      "text/plain": [
       "60"
      ]
     },
     "execution_count": 16,
     "metadata": {},
     "output_type": "execute_result"
    }
   ],
   "source": [
    "pd.get_option(\"display.max_rows\")"
   ]
  },
  {
   "cell_type": "code",
   "execution_count": 17,
   "id": "dd100b47",
   "metadata": {},
   "outputs": [
    {
     "name": "stdout",
     "output_type": "stream",
     "text": [
      "10\n",
      "5\n"
     ]
    }
   ],
   "source": [
    "# El administrador de contexto option_context() ha sido expuesto a través de la API de nivel superior, \n",
    "# lo que le permite ejecutar código con valores de opción dados.\n",
    "with pd.option_context(\"display.max_rows\", 10, \"display.max_columns\", 5):\n",
    "    print(pd.get_option(\"display.max_rows\"))\n",
    "    print(pd.get_option(\"display.max_columns\"))"
   ]
  },
  {
   "cell_type": "code",
   "execution_count": 18,
   "id": "6558c95d",
   "metadata": {},
   "outputs": [
    {
     "name": "stdout",
     "output_type": "stream",
     "text": [
      "60\n"
     ]
    }
   ],
   "source": [
    "print(pd.get_option(\"display.max_rows\"))"
   ]
  },
  {
   "cell_type": "code",
   "execution_count": 19,
   "id": "3e63e84d",
   "metadata": {},
   "outputs": [
    {
     "name": "stdout",
     "output_type": "stream",
     "text": [
      "20\n"
     ]
    }
   ],
   "source": [
    "print(pd.get_option(\"display.max_columns\"))"
   ]
  },
  {
   "cell_type": "markdown",
   "id": "7191331a",
   "metadata": {},
   "source": [
    "## 3. Opciones y configuraciones más frecuentes"
   ]
  },
  {
   "cell_type": "markdown",
   "id": "7437e7b2",
   "metadata": {},
   "source": [
    "### 3.1 display.max_rows and display.max_columns"
   ]
  },
  {
   "cell_type": "code",
   "execution_count": 20,
   "id": "450f15bd",
   "metadata": {},
   "outputs": [],
   "source": [
    "# Establece el número máximo de filas y columnas que se muestran cuando un marco está bastante impreso.\n",
    "df = pd.DataFrame(np.random.randn(7, 2))"
   ]
  },
  {
   "cell_type": "code",
   "execution_count": 21,
   "id": "0ab3dc23",
   "metadata": {},
   "outputs": [],
   "source": [
    "pd.set_option(\"display.max_rows\", 5)"
   ]
  },
  {
   "cell_type": "code",
   "execution_count": 22,
   "id": "b346c7aa",
   "metadata": {},
   "outputs": [
    {
     "data": {
      "text/html": [
       "<div>\n",
       "<style scoped>\n",
       "    .dataframe tbody tr th:only-of-type {\n",
       "        vertical-align: middle;\n",
       "    }\n",
       "\n",
       "    .dataframe tbody tr th {\n",
       "        vertical-align: top;\n",
       "    }\n",
       "\n",
       "    .dataframe thead th {\n",
       "        text-align: right;\n",
       "    }\n",
       "</style>\n",
       "<table border=\"1\" class=\"dataframe\">\n",
       "  <thead>\n",
       "    <tr style=\"text-align: right;\">\n",
       "      <th></th>\n",
       "      <th>0</th>\n",
       "      <th>1</th>\n",
       "    </tr>\n",
       "  </thead>\n",
       "  <tbody>\n",
       "    <tr>\n",
       "      <th>0</th>\n",
       "      <td>-2.639528</td>\n",
       "      <td>-0.753343</td>\n",
       "    </tr>\n",
       "    <tr>\n",
       "      <th>1</th>\n",
       "      <td>0.118827</td>\n",
       "      <td>-2.251023</td>\n",
       "    </tr>\n",
       "    <tr>\n",
       "      <th>...</th>\n",
       "      <td>...</td>\n",
       "      <td>...</td>\n",
       "    </tr>\n",
       "    <tr>\n",
       "      <th>5</th>\n",
       "      <td>0.740710</td>\n",
       "      <td>-0.068280</td>\n",
       "    </tr>\n",
       "    <tr>\n",
       "      <th>6</th>\n",
       "      <td>0.901510</td>\n",
       "      <td>-1.039730</td>\n",
       "    </tr>\n",
       "  </tbody>\n",
       "</table>\n",
       "<p>7 rows × 2 columns</p>\n",
       "</div>"
      ],
      "text/plain": [
       "           0         1\n",
       "0  -2.639528 -0.753343\n",
       "1   0.118827 -2.251023\n",
       "..       ...       ...\n",
       "5   0.740710 -0.068280\n",
       "6   0.901510 -1.039730\n",
       "\n",
       "[7 rows x 2 columns]"
      ]
     },
     "execution_count": 22,
     "metadata": {},
     "output_type": "execute_result"
    }
   ],
   "source": [
    "df"
   ]
  },
  {
   "cell_type": "code",
   "execution_count": 23,
   "id": "0d0806e7",
   "metadata": {},
   "outputs": [],
   "source": [
    "# Para resetear la configuración debemos utilizar pd.reset_option\n",
    "pd.reset_option(\"display.max_rows\")"
   ]
  },
  {
   "cell_type": "code",
   "execution_count": 24,
   "id": "58fc5737",
   "metadata": {},
   "outputs": [],
   "source": [
    "# Una vez que se excede display.max_rows, las opciones de display.min_rows determinan \n",
    "# cuántas filas se muestran en la representación truncada.\n",
    "pd.set_option(\"display.max_rows\", 8)"
   ]
  },
  {
   "cell_type": "code",
   "execution_count": 25,
   "id": "9a05a7c5",
   "metadata": {},
   "outputs": [],
   "source": [
    "pd.set_option(\"display.min_rows\", 4)"
   ]
  },
  {
   "cell_type": "code",
   "execution_count": 26,
   "id": "bde7d456",
   "metadata": {},
   "outputs": [],
   "source": [
    "# debajo de max_rows -> todas las filas mostradas\n",
    "df = pd.DataFrame(np.random.randn(7, 2))"
   ]
  },
  {
   "cell_type": "code",
   "execution_count": 27,
   "id": "b390ee19",
   "metadata": {},
   "outputs": [
    {
     "data": {
      "text/html": [
       "<div>\n",
       "<style scoped>\n",
       "    .dataframe tbody tr th:only-of-type {\n",
       "        vertical-align: middle;\n",
       "    }\n",
       "\n",
       "    .dataframe tbody tr th {\n",
       "        vertical-align: top;\n",
       "    }\n",
       "\n",
       "    .dataframe thead th {\n",
       "        text-align: right;\n",
       "    }\n",
       "</style>\n",
       "<table border=\"1\" class=\"dataframe\">\n",
       "  <thead>\n",
       "    <tr style=\"text-align: right;\">\n",
       "      <th></th>\n",
       "      <th>0</th>\n",
       "      <th>1</th>\n",
       "    </tr>\n",
       "  </thead>\n",
       "  <tbody>\n",
       "    <tr>\n",
       "      <th>0</th>\n",
       "      <td>1.412860</td>\n",
       "      <td>-0.903962</td>\n",
       "    </tr>\n",
       "    <tr>\n",
       "      <th>1</th>\n",
       "      <td>-0.435356</td>\n",
       "      <td>0.370168</td>\n",
       "    </tr>\n",
       "    <tr>\n",
       "      <th>2</th>\n",
       "      <td>1.276567</td>\n",
       "      <td>0.996586</td>\n",
       "    </tr>\n",
       "    <tr>\n",
       "      <th>3</th>\n",
       "      <td>-0.295896</td>\n",
       "      <td>1.132906</td>\n",
       "    </tr>\n",
       "    <tr>\n",
       "      <th>4</th>\n",
       "      <td>0.473863</td>\n",
       "      <td>-2.451191</td>\n",
       "    </tr>\n",
       "    <tr>\n",
       "      <th>5</th>\n",
       "      <td>1.926982</td>\n",
       "      <td>-1.253088</td>\n",
       "    </tr>\n",
       "    <tr>\n",
       "      <th>6</th>\n",
       "      <td>0.681022</td>\n",
       "      <td>0.206809</td>\n",
       "    </tr>\n",
       "  </tbody>\n",
       "</table>\n",
       "</div>"
      ],
      "text/plain": [
       "          0         1\n",
       "0  1.412860 -0.903962\n",
       "1 -0.435356  0.370168\n",
       "2  1.276567  0.996586\n",
       "3 -0.295896  1.132906\n",
       "4  0.473863 -2.451191\n",
       "5  1.926982 -1.253088\n",
       "6  0.681022  0.206809"
      ]
     },
     "execution_count": 27,
     "metadata": {},
     "output_type": "execute_result"
    }
   ],
   "source": [
    "df"
   ]
  },
  {
   "cell_type": "code",
   "execution_count": 28,
   "id": "1f72b87b",
   "metadata": {},
   "outputs": [],
   "source": [
    "# Por encima de max_rows -> solo se muestran min_rows (4) filas\n",
    "df = pd.DataFrame(np.random.randn(9, 2))"
   ]
  },
  {
   "cell_type": "code",
   "execution_count": 29,
   "id": "0f1abadb",
   "metadata": {},
   "outputs": [
    {
     "data": {
      "text/html": [
       "<div>\n",
       "<style scoped>\n",
       "    .dataframe tbody tr th:only-of-type {\n",
       "        vertical-align: middle;\n",
       "    }\n",
       "\n",
       "    .dataframe tbody tr th {\n",
       "        vertical-align: top;\n",
       "    }\n",
       "\n",
       "    .dataframe thead th {\n",
       "        text-align: right;\n",
       "    }\n",
       "</style>\n",
       "<table border=\"1\" class=\"dataframe\">\n",
       "  <thead>\n",
       "    <tr style=\"text-align: right;\">\n",
       "      <th></th>\n",
       "      <th>0</th>\n",
       "      <th>1</th>\n",
       "    </tr>\n",
       "  </thead>\n",
       "  <tbody>\n",
       "    <tr>\n",
       "      <th>0</th>\n",
       "      <td>0.209959</td>\n",
       "      <td>-1.592044</td>\n",
       "    </tr>\n",
       "    <tr>\n",
       "      <th>1</th>\n",
       "      <td>0.827556</td>\n",
       "      <td>-0.693740</td>\n",
       "    </tr>\n",
       "    <tr>\n",
       "      <th>...</th>\n",
       "      <td>...</td>\n",
       "      <td>...</td>\n",
       "    </tr>\n",
       "    <tr>\n",
       "      <th>7</th>\n",
       "      <td>-0.356346</td>\n",
       "      <td>1.731901</td>\n",
       "    </tr>\n",
       "    <tr>\n",
       "      <th>8</th>\n",
       "      <td>0.710769</td>\n",
       "      <td>0.071224</td>\n",
       "    </tr>\n",
       "  </tbody>\n",
       "</table>\n",
       "<p>9 rows × 2 columns</p>\n",
       "</div>"
      ],
      "text/plain": [
       "           0         1\n",
       "0   0.209959 -1.592044\n",
       "1   0.827556 -0.693740\n",
       "..       ...       ...\n",
       "7  -0.356346  1.731901\n",
       "8   0.710769  0.071224\n",
       "\n",
       "[9 rows x 2 columns]"
      ]
     },
     "execution_count": 29,
     "metadata": {},
     "output_type": "execute_result"
    }
   ],
   "source": [
    "df"
   ]
  },
  {
   "cell_type": "code",
   "execution_count": 30,
   "id": "984e6ffa",
   "metadata": {},
   "outputs": [],
   "source": [
    "pd.reset_option(\"display.max_rows\")"
   ]
  },
  {
   "cell_type": "code",
   "execution_count": 31,
   "id": "17c83395",
   "metadata": {},
   "outputs": [],
   "source": [
    "pd.reset_option(\"display.min_rows\")"
   ]
  },
  {
   "cell_type": "markdown",
   "id": "124aee5d",
   "metadata": {},
   "source": [
    "### 3.2 display.expand_frame_repr (true)"
   ]
  },
  {
   "cell_type": "code",
   "execution_count": 32,
   "id": "ebf43c45",
   "metadata": {},
   "outputs": [],
   "source": [
    "# Permite que la representación de un DataFrame se extienda a lo largo de las páginas, cubriendo todas las columnas.\n",
    "df = pd.DataFrame(np.random.randn(5, 10))"
   ]
  },
  {
   "cell_type": "code",
   "execution_count": 33,
   "id": "6f1aacf7",
   "metadata": {},
   "outputs": [],
   "source": [
    "pd.set_option(\"expand_frame_repr\", True)"
   ]
  },
  {
   "cell_type": "code",
   "execution_count": 35,
   "id": "c436c564",
   "metadata": {},
   "outputs": [
    {
     "data": {
      "text/html": [
       "<div>\n",
       "<style scoped>\n",
       "    .dataframe tbody tr th:only-of-type {\n",
       "        vertical-align: middle;\n",
       "    }\n",
       "\n",
       "    .dataframe tbody tr th {\n",
       "        vertical-align: top;\n",
       "    }\n",
       "\n",
       "    .dataframe thead th {\n",
       "        text-align: right;\n",
       "    }\n",
       "</style>\n",
       "<table border=\"1\" class=\"dataframe\">\n",
       "  <thead>\n",
       "    <tr style=\"text-align: right;\">\n",
       "      <th></th>\n",
       "      <th>0</th>\n",
       "      <th>1</th>\n",
       "      <th>2</th>\n",
       "      <th>3</th>\n",
       "      <th>4</th>\n",
       "      <th>5</th>\n",
       "      <th>6</th>\n",
       "      <th>7</th>\n",
       "      <th>8</th>\n",
       "      <th>9</th>\n",
       "    </tr>\n",
       "  </thead>\n",
       "  <tbody>\n",
       "    <tr>\n",
       "      <th>0</th>\n",
       "      <td>2.083507</td>\n",
       "      <td>1.369609</td>\n",
       "      <td>-1.121842</td>\n",
       "      <td>1.467991</td>\n",
       "      <td>1.074950</td>\n",
       "      <td>-0.101868</td>\n",
       "      <td>0.120729</td>\n",
       "      <td>-0.868776</td>\n",
       "      <td>0.669934</td>\n",
       "      <td>0.245437</td>\n",
       "    </tr>\n",
       "    <tr>\n",
       "      <th>1</th>\n",
       "      <td>-0.677856</td>\n",
       "      <td>-0.686099</td>\n",
       "      <td>-0.936928</td>\n",
       "      <td>0.184865</td>\n",
       "      <td>1.363541</td>\n",
       "      <td>-0.298171</td>\n",
       "      <td>0.054923</td>\n",
       "      <td>0.100713</td>\n",
       "      <td>-0.575025</td>\n",
       "      <td>1.809973</td>\n",
       "    </tr>\n",
       "    <tr>\n",
       "      <th>2</th>\n",
       "      <td>0.839928</td>\n",
       "      <td>-1.644121</td>\n",
       "      <td>-0.166748</td>\n",
       "      <td>0.823678</td>\n",
       "      <td>-0.468565</td>\n",
       "      <td>-1.433297</td>\n",
       "      <td>0.675336</td>\n",
       "      <td>-1.910801</td>\n",
       "      <td>0.156736</td>\n",
       "      <td>-0.039951</td>\n",
       "    </tr>\n",
       "    <tr>\n",
       "      <th>3</th>\n",
       "      <td>1.587995</td>\n",
       "      <td>0.248818</td>\n",
       "      <td>-0.457177</td>\n",
       "      <td>1.876711</td>\n",
       "      <td>-0.273752</td>\n",
       "      <td>-0.968781</td>\n",
       "      <td>1.438568</td>\n",
       "      <td>-1.992673</td>\n",
       "      <td>1.287518</td>\n",
       "      <td>0.527834</td>\n",
       "    </tr>\n",
       "    <tr>\n",
       "      <th>4</th>\n",
       "      <td>0.149784</td>\n",
       "      <td>-0.449601</td>\n",
       "      <td>-1.479222</td>\n",
       "      <td>0.273493</td>\n",
       "      <td>0.541639</td>\n",
       "      <td>-1.313014</td>\n",
       "      <td>0.150838</td>\n",
       "      <td>-0.464667</td>\n",
       "      <td>0.015708</td>\n",
       "      <td>-1.042608</td>\n",
       "    </tr>\n",
       "  </tbody>\n",
       "</table>\n",
       "</div>"
      ],
      "text/plain": [
       "          0         1         2         3         4         5         6  \\\n",
       "0  2.083507  1.369609 -1.121842  1.467991  1.074950 -0.101868  0.120729   \n",
       "1 -0.677856 -0.686099 -0.936928  0.184865  1.363541 -0.298171  0.054923   \n",
       "2  0.839928 -1.644121 -0.166748  0.823678 -0.468565 -1.433297  0.675336   \n",
       "3  1.587995  0.248818 -0.457177  1.876711 -0.273752 -0.968781  1.438568   \n",
       "4  0.149784 -0.449601 -1.479222  0.273493  0.541639 -1.313014  0.150838   \n",
       "\n",
       "          7         8         9  \n",
       "0 -0.868776  0.669934  0.245437  \n",
       "1  0.100713 -0.575025  1.809973  \n",
       "2 -1.910801  0.156736 -0.039951  \n",
       "3 -1.992673  1.287518  0.527834  \n",
       "4 -0.464667  0.015708 -1.042608  "
      ]
     },
     "execution_count": 35,
     "metadata": {},
     "output_type": "execute_result"
    }
   ],
   "source": [
    "df"
   ]
  },
  {
   "cell_type": "code",
   "execution_count": 36,
   "id": "d9f705e0",
   "metadata": {},
   "outputs": [],
   "source": [
    "pd.set_option(\"expand_frame_repr\", False)"
   ]
  },
  {
   "cell_type": "code",
   "execution_count": 37,
   "id": "78294443",
   "metadata": {},
   "outputs": [
    {
     "data": {
      "text/html": [
       "<div>\n",
       "<style scoped>\n",
       "    .dataframe tbody tr th:only-of-type {\n",
       "        vertical-align: middle;\n",
       "    }\n",
       "\n",
       "    .dataframe tbody tr th {\n",
       "        vertical-align: top;\n",
       "    }\n",
       "\n",
       "    .dataframe thead th {\n",
       "        text-align: right;\n",
       "    }\n",
       "</style>\n",
       "<table border=\"1\" class=\"dataframe\">\n",
       "  <thead>\n",
       "    <tr style=\"text-align: right;\">\n",
       "      <th></th>\n",
       "      <th>0</th>\n",
       "      <th>1</th>\n",
       "      <th>2</th>\n",
       "      <th>3</th>\n",
       "      <th>4</th>\n",
       "      <th>5</th>\n",
       "      <th>6</th>\n",
       "      <th>7</th>\n",
       "      <th>8</th>\n",
       "      <th>9</th>\n",
       "    </tr>\n",
       "  </thead>\n",
       "  <tbody>\n",
       "    <tr>\n",
       "      <th>0</th>\n",
       "      <td>2.083507</td>\n",
       "      <td>1.369609</td>\n",
       "      <td>-1.121842</td>\n",
       "      <td>1.467991</td>\n",
       "      <td>1.074950</td>\n",
       "      <td>-0.101868</td>\n",
       "      <td>0.120729</td>\n",
       "      <td>-0.868776</td>\n",
       "      <td>0.669934</td>\n",
       "      <td>0.245437</td>\n",
       "    </tr>\n",
       "    <tr>\n",
       "      <th>1</th>\n",
       "      <td>-0.677856</td>\n",
       "      <td>-0.686099</td>\n",
       "      <td>-0.936928</td>\n",
       "      <td>0.184865</td>\n",
       "      <td>1.363541</td>\n",
       "      <td>-0.298171</td>\n",
       "      <td>0.054923</td>\n",
       "      <td>0.100713</td>\n",
       "      <td>-0.575025</td>\n",
       "      <td>1.809973</td>\n",
       "    </tr>\n",
       "    <tr>\n",
       "      <th>2</th>\n",
       "      <td>0.839928</td>\n",
       "      <td>-1.644121</td>\n",
       "      <td>-0.166748</td>\n",
       "      <td>0.823678</td>\n",
       "      <td>-0.468565</td>\n",
       "      <td>-1.433297</td>\n",
       "      <td>0.675336</td>\n",
       "      <td>-1.910801</td>\n",
       "      <td>0.156736</td>\n",
       "      <td>-0.039951</td>\n",
       "    </tr>\n",
       "    <tr>\n",
       "      <th>3</th>\n",
       "      <td>1.587995</td>\n",
       "      <td>0.248818</td>\n",
       "      <td>-0.457177</td>\n",
       "      <td>1.876711</td>\n",
       "      <td>-0.273752</td>\n",
       "      <td>-0.968781</td>\n",
       "      <td>1.438568</td>\n",
       "      <td>-1.992673</td>\n",
       "      <td>1.287518</td>\n",
       "      <td>0.527834</td>\n",
       "    </tr>\n",
       "    <tr>\n",
       "      <th>4</th>\n",
       "      <td>0.149784</td>\n",
       "      <td>-0.449601</td>\n",
       "      <td>-1.479222</td>\n",
       "      <td>0.273493</td>\n",
       "      <td>0.541639</td>\n",
       "      <td>-1.313014</td>\n",
       "      <td>0.150838</td>\n",
       "      <td>-0.464667</td>\n",
       "      <td>0.015708</td>\n",
       "      <td>-1.042608</td>\n",
       "    </tr>\n",
       "  </tbody>\n",
       "</table>\n",
       "</div>"
      ],
      "text/plain": [
       "          0         1         2         3         4         5         6         7         8         9\n",
       "0  2.083507  1.369609 -1.121842  1.467991  1.074950 -0.101868  0.120729 -0.868776  0.669934  0.245437\n",
       "1 -0.677856 -0.686099 -0.936928  0.184865  1.363541 -0.298171  0.054923  0.100713 -0.575025  1.809973\n",
       "2  0.839928 -1.644121 -0.166748  0.823678 -0.468565 -1.433297  0.675336 -1.910801  0.156736 -0.039951\n",
       "3  1.587995  0.248818 -0.457177  1.876711 -0.273752 -0.968781  1.438568 -1.992673  1.287518  0.527834\n",
       "4  0.149784 -0.449601 -1.479222  0.273493  0.541639 -1.313014  0.150838 -0.464667  0.015708 -1.042608"
      ]
     },
     "execution_count": 37,
     "metadata": {},
     "output_type": "execute_result"
    }
   ],
   "source": [
    "df"
   ]
  },
  {
   "cell_type": "code",
   "execution_count": 38,
   "id": "529631a4",
   "metadata": {},
   "outputs": [],
   "source": [
    "pd.reset_option(\"expand_frame_repr\")"
   ]
  },
  {
   "cell_type": "markdown",
   "id": "c9571261",
   "metadata": {},
   "source": [
    "### 3.3 display.large_repr"
   ]
  },
  {
   "cell_type": "code",
   "execution_count": 40,
   "id": "f1dba28f",
   "metadata": {},
   "outputs": [],
   "source": [
    "# Muestra un DataFrame que excede max_columns o max_rows como un marco truncado o un resumen.\n",
    "df = pd.DataFrame(np.random.randn(10, 10))"
   ]
  },
  {
   "cell_type": "code",
   "execution_count": 41,
   "id": "33b592a8",
   "metadata": {},
   "outputs": [],
   "source": [
    "pd.set_option(\"display.max_rows\", 5)"
   ]
  },
  {
   "cell_type": "code",
   "execution_count": 42,
   "id": "e3772ad0",
   "metadata": {},
   "outputs": [],
   "source": [
    "pd.set_option(\"large_repr\", \"truncate\")"
   ]
  },
  {
   "cell_type": "code",
   "execution_count": 43,
   "id": "6535188c",
   "metadata": {},
   "outputs": [
    {
     "data": {
      "text/html": [
       "<div>\n",
       "<style scoped>\n",
       "    .dataframe tbody tr th:only-of-type {\n",
       "        vertical-align: middle;\n",
       "    }\n",
       "\n",
       "    .dataframe tbody tr th {\n",
       "        vertical-align: top;\n",
       "    }\n",
       "\n",
       "    .dataframe thead th {\n",
       "        text-align: right;\n",
       "    }\n",
       "</style>\n",
       "<table border=\"1\" class=\"dataframe\">\n",
       "  <thead>\n",
       "    <tr style=\"text-align: right;\">\n",
       "      <th></th>\n",
       "      <th>0</th>\n",
       "      <th>1</th>\n",
       "      <th>2</th>\n",
       "      <th>3</th>\n",
       "      <th>4</th>\n",
       "      <th>5</th>\n",
       "      <th>6</th>\n",
       "      <th>7</th>\n",
       "      <th>8</th>\n",
       "      <th>9</th>\n",
       "    </tr>\n",
       "  </thead>\n",
       "  <tbody>\n",
       "    <tr>\n",
       "      <th>0</th>\n",
       "      <td>-0.756200</td>\n",
       "      <td>-1.583374</td>\n",
       "      <td>-0.937080</td>\n",
       "      <td>-1.737756</td>\n",
       "      <td>-0.126661</td>\n",
       "      <td>1.204784</td>\n",
       "      <td>1.004779</td>\n",
       "      <td>0.694934</td>\n",
       "      <td>-0.713546</td>\n",
       "      <td>-0.460600</td>\n",
       "    </tr>\n",
       "    <tr>\n",
       "      <th>1</th>\n",
       "      <td>-0.268712</td>\n",
       "      <td>0.729537</td>\n",
       "      <td>0.462077</td>\n",
       "      <td>-0.419470</td>\n",
       "      <td>0.589128</td>\n",
       "      <td>-0.620988</td>\n",
       "      <td>1.189341</td>\n",
       "      <td>-0.394800</td>\n",
       "      <td>1.121615</td>\n",
       "      <td>-0.956635</td>\n",
       "    </tr>\n",
       "    <tr>\n",
       "      <th>...</th>\n",
       "      <td>...</td>\n",
       "      <td>...</td>\n",
       "      <td>...</td>\n",
       "      <td>...</td>\n",
       "      <td>...</td>\n",
       "      <td>...</td>\n",
       "      <td>...</td>\n",
       "      <td>...</td>\n",
       "      <td>...</td>\n",
       "      <td>...</td>\n",
       "    </tr>\n",
       "    <tr>\n",
       "      <th>8</th>\n",
       "      <td>-0.995483</td>\n",
       "      <td>0.059397</td>\n",
       "      <td>0.791699</td>\n",
       "      <td>-0.700620</td>\n",
       "      <td>-0.660777</td>\n",
       "      <td>0.403856</td>\n",
       "      <td>0.262984</td>\n",
       "      <td>3.634474</td>\n",
       "      <td>-0.596965</td>\n",
       "      <td>1.735728</td>\n",
       "    </tr>\n",
       "    <tr>\n",
       "      <th>9</th>\n",
       "      <td>0.455736</td>\n",
       "      <td>-0.004107</td>\n",
       "      <td>-1.049484</td>\n",
       "      <td>0.397669</td>\n",
       "      <td>0.833004</td>\n",
       "      <td>1.196970</td>\n",
       "      <td>-0.495508</td>\n",
       "      <td>-1.449819</td>\n",
       "      <td>-0.583625</td>\n",
       "      <td>0.150141</td>\n",
       "    </tr>\n",
       "  </tbody>\n",
       "</table>\n",
       "<p>10 rows × 10 columns</p>\n",
       "</div>"
      ],
      "text/plain": [
       "           0         1         2         3         4         5         6  \\\n",
       "0  -0.756200 -1.583374 -0.937080 -1.737756 -0.126661  1.204784  1.004779   \n",
       "1  -0.268712  0.729537  0.462077 -0.419470  0.589128 -0.620988  1.189341   \n",
       "..       ...       ...       ...       ...       ...       ...       ...   \n",
       "8  -0.995483  0.059397  0.791699 -0.700620 -0.660777  0.403856  0.262984   \n",
       "9   0.455736 -0.004107 -1.049484  0.397669  0.833004  1.196970 -0.495508   \n",
       "\n",
       "           7         8         9  \n",
       "0   0.694934 -0.713546 -0.460600  \n",
       "1  -0.394800  1.121615 -0.956635  \n",
       "..       ...       ...       ...  \n",
       "8   3.634474 -0.596965  1.735728  \n",
       "9  -1.449819 -0.583625  0.150141  \n",
       "\n",
       "[10 rows x 10 columns]"
      ]
     },
     "execution_count": 43,
     "metadata": {},
     "output_type": "execute_result"
    }
   ],
   "source": [
    "df"
   ]
  },
  {
   "cell_type": "code",
   "execution_count": 44,
   "id": "8f5972a9",
   "metadata": {},
   "outputs": [],
   "source": [
    "pd.set_option(\"large_repr\", \"info\")"
   ]
  },
  {
   "cell_type": "code",
   "execution_count": 45,
   "id": "ab23544f",
   "metadata": {},
   "outputs": [
    {
     "data": {
      "text/html": [
       "<pre>&lt;class 'pandas.core.frame.DataFrame'&gt;\n",
       "RangeIndex: 10 entries, 0 to 9\n",
       "Data columns (total 10 columns):\n",
       " #   Column  Non-Null Count  Dtype  \n",
       "---  ------  --------------  -----  \n",
       " 0   0       10 non-null     float64\n",
       " 1   1       10 non-null     float64\n",
       " 2   2       10 non-null     float64\n",
       " 3   3       10 non-null     float64\n",
       " 4   4       10 non-null     float64\n",
       " 5   5       10 non-null     float64\n",
       " 6   6       10 non-null     float64\n",
       " 7   7       10 non-null     float64\n",
       " 8   8       10 non-null     float64\n",
       " 9   9       10 non-null     float64\n",
       "dtypes: float64(10)\n",
       "memory usage: 928.0 bytes\n",
       "</pre>"
      ],
      "text/plain": [
       "<class 'pandas.core.frame.DataFrame'>\n",
       "RangeIndex: 10 entries, 0 to 9\n",
       "Data columns (total 10 columns):\n",
       " #   Column  Non-Null Count  Dtype  \n",
       "---  ------  --------------  -----  \n",
       " 0   0       10 non-null     float64\n",
       " 1   1       10 non-null     float64\n",
       " 2   2       10 non-null     float64\n",
       " 3   3       10 non-null     float64\n",
       " 4   4       10 non-null     float64\n",
       " 5   5       10 non-null     float64\n",
       " 6   6       10 non-null     float64\n",
       " 7   7       10 non-null     float64\n",
       " 8   8       10 non-null     float64\n",
       " 9   9       10 non-null     float64\n",
       "dtypes: float64(10)\n",
       "memory usage: 928.0 bytes"
      ]
     },
     "execution_count": 45,
     "metadata": {},
     "output_type": "execute_result"
    }
   ],
   "source": [
    "df"
   ]
  },
  {
   "cell_type": "code",
   "execution_count": 46,
   "id": "e280f97b",
   "metadata": {},
   "outputs": [],
   "source": [
    "pd.reset_option(\"large_repr\")"
   ]
  },
  {
   "cell_type": "code",
   "execution_count": 47,
   "id": "e21b77cb",
   "metadata": {},
   "outputs": [],
   "source": [
    "pd.reset_option(\"display.max_rows\")"
   ]
  },
  {
   "cell_type": "markdown",
   "id": "ecb7f94f",
   "metadata": {},
   "source": [
    "### 3.4 display.max_colwidth - Cantidad de letras en el nombre de una columna"
   ]
  },
  {
   "cell_type": "code",
   "execution_count": 48,
   "id": "5e3c05a9",
   "metadata": {},
   "outputs": [],
   "source": [
    "# Establece el ancho máximo de las columnas. Las celdas de esta longitud o más se truncarán con puntos suspensivos\n",
    "df = pd.DataFrame(\n",
    "    np.array(\n",
    "        [\n",
    "            [\"foo\", \"bar\", \"bim\", \"uncomfortably long string\"],\n",
    "            [\"horse\", \"cow\", \"banana\", \"apple\"],\n",
    "        ]\n",
    "    )\n",
    ")"
   ]
  },
  {
   "cell_type": "code",
   "execution_count": 49,
   "id": "44f6f57c",
   "metadata": {},
   "outputs": [],
   "source": [
    "pd.set_option(\"max_colwidth\", 40)"
   ]
  },
  {
   "cell_type": "code",
   "execution_count": 50,
   "id": "b58111a1",
   "metadata": {},
   "outputs": [
    {
     "data": {
      "text/html": [
       "<div>\n",
       "<style scoped>\n",
       "    .dataframe tbody tr th:only-of-type {\n",
       "        vertical-align: middle;\n",
       "    }\n",
       "\n",
       "    .dataframe tbody tr th {\n",
       "        vertical-align: top;\n",
       "    }\n",
       "\n",
       "    .dataframe thead th {\n",
       "        text-align: right;\n",
       "    }\n",
       "</style>\n",
       "<table border=\"1\" class=\"dataframe\">\n",
       "  <thead>\n",
       "    <tr style=\"text-align: right;\">\n",
       "      <th></th>\n",
       "      <th>0</th>\n",
       "      <th>1</th>\n",
       "      <th>2</th>\n",
       "      <th>3</th>\n",
       "    </tr>\n",
       "  </thead>\n",
       "  <tbody>\n",
       "    <tr>\n",
       "      <th>0</th>\n",
       "      <td>foo</td>\n",
       "      <td>bar</td>\n",
       "      <td>bim</td>\n",
       "      <td>uncomfortably long string</td>\n",
       "    </tr>\n",
       "    <tr>\n",
       "      <th>1</th>\n",
       "      <td>horse</td>\n",
       "      <td>cow</td>\n",
       "      <td>banana</td>\n",
       "      <td>apple</td>\n",
       "    </tr>\n",
       "  </tbody>\n",
       "</table>\n",
       "</div>"
      ],
      "text/plain": [
       "       0    1       2                          3\n",
       "0    foo  bar     bim  uncomfortably long string\n",
       "1  horse  cow  banana                      apple"
      ]
     },
     "execution_count": 50,
     "metadata": {},
     "output_type": "execute_result"
    }
   ],
   "source": [
    "df"
   ]
  },
  {
   "cell_type": "code",
   "execution_count": 51,
   "id": "678240f1",
   "metadata": {},
   "outputs": [],
   "source": [
    "pd.set_option(\"max_colwidth\", 6)"
   ]
  },
  {
   "cell_type": "code",
   "execution_count": 52,
   "id": "b6960e21",
   "metadata": {},
   "outputs": [
    {
     "data": {
      "text/html": [
       "<div>\n",
       "<style scoped>\n",
       "    .dataframe tbody tr th:only-of-type {\n",
       "        vertical-align: middle;\n",
       "    }\n",
       "\n",
       "    .dataframe tbody tr th {\n",
       "        vertical-align: top;\n",
       "    }\n",
       "\n",
       "    .dataframe thead th {\n",
       "        text-align: right;\n",
       "    }\n",
       "</style>\n",
       "<table border=\"1\" class=\"dataframe\">\n",
       "  <thead>\n",
       "    <tr style=\"text-align: right;\">\n",
       "      <th></th>\n",
       "      <th>0</th>\n",
       "      <th>1</th>\n",
       "      <th>2</th>\n",
       "      <th>3</th>\n",
       "    </tr>\n",
       "  </thead>\n",
       "  <tbody>\n",
       "    <tr>\n",
       "      <th>0</th>\n",
       "      <td>foo</td>\n",
       "      <td>bar</td>\n",
       "      <td>bim</td>\n",
       "      <td>un...</td>\n",
       "    </tr>\n",
       "    <tr>\n",
       "      <th>1</th>\n",
       "      <td>horse</td>\n",
       "      <td>cow</td>\n",
       "      <td>ba...</td>\n",
       "      <td>apple</td>\n",
       "    </tr>\n",
       "  </tbody>\n",
       "</table>\n",
       "</div>"
      ],
      "text/plain": [
       "       0    1      2      3\n",
       "0    foo  bar    bim  un...\n",
       "1  horse  cow  ba...  apple"
      ]
     },
     "execution_count": 52,
     "metadata": {},
     "output_type": "execute_result"
    }
   ],
   "source": [
    "df"
   ]
  },
  {
   "cell_type": "markdown",
   "id": "fd5c283a",
   "metadata": {},
   "source": [
    "### 3.5 display.max_info_columns"
   ]
  },
  {
   "cell_type": "code",
   "execution_count": 54,
   "id": "8ccb134f",
   "metadata": {},
   "outputs": [],
   "source": [
    "# Establece un umbral para el número de columnas que se muestran al llamar a info().\n",
    "df = pd.DataFrame(np.random.randn(10, 10))"
   ]
  },
  {
   "cell_type": "code",
   "execution_count": 55,
   "id": "4a1c2df1",
   "metadata": {},
   "outputs": [],
   "source": [
    "pd.set_option(\"max_info_columns\", 11)"
   ]
  },
  {
   "cell_type": "code",
   "execution_count": 57,
   "id": "8f472129",
   "metadata": {},
   "outputs": [
    {
     "name": "stdout",
     "output_type": "stream",
     "text": [
      "<class 'pandas.core.frame.DataFrame'>\n",
      "RangeIndex: 10 entries, 0 to 9\n",
      "Data columns (total 10 columns):\n",
      " #   Column  Non-Null Count  Dtype  \n",
      "---  ------  --------------  -----  \n",
      " 0   0       10 non-null     float64\n",
      " 1   1       10 non-null     float64\n",
      " 2   2       10 non-null     float64\n",
      " 3   3       10 non-null     float64\n",
      " 4   4       10 non-null     float64\n",
      " 5   5       10 non-null     float64\n",
      " 6   6       10 non-null     float64\n",
      " 7   7       10 non-null     float64\n",
      " 8   8       10 non-null     float64\n",
      " 9   9       10 non-null     float64\n",
      "dtypes: float64(10)\n",
      "memory usage: 928.0 bytes\n"
     ]
    }
   ],
   "source": [
    "df.info()"
   ]
  },
  {
   "cell_type": "code",
   "execution_count": 58,
   "id": "dabbf5d5",
   "metadata": {},
   "outputs": [],
   "source": [
    "pd.set_option(\"max_info_columns\", 5)"
   ]
  },
  {
   "cell_type": "code",
   "execution_count": 59,
   "id": "289a3e8a",
   "metadata": {},
   "outputs": [
    {
     "name": "stdout",
     "output_type": "stream",
     "text": [
      "<class 'pandas.core.frame.DataFrame'>\n",
      "RangeIndex: 10 entries, 0 to 9\n",
      "Columns: 10 entries, 0 to 9\n",
      "dtypes: float64(10)\n",
      "memory usage: 928.0 bytes\n"
     ]
    }
   ],
   "source": [
    "df.info()"
   ]
  },
  {
   "cell_type": "code",
   "execution_count": 60,
   "id": "ac544de5",
   "metadata": {},
   "outputs": [],
   "source": [
    "pd.reset_option(\"max_info_columns\")"
   ]
  },
  {
   "cell_type": "markdown",
   "id": "b81d33a6",
   "metadata": {},
   "source": [
    "### 3.6 display.max_info_rows"
   ]
  },
  {
   "cell_type": "code",
   "execution_count": 61,
   "id": "f3570f8f",
   "metadata": {},
   "outputs": [],
   "source": [
    "# info() generalmente mostrará recuentos nulos para cada columna. Para un DataFrame grande, esto puede ser bastante lento. \n",
    "# max_info_rows y max_info_cols limitan esta comprobación nula a las filas y columnas especificadas, \n",
    "# respectivamente. El argumento de la palabra clave info() null_counts=True anulará este\n",
    "df = pd.DataFrame(np.random.choice([0, 1, np.nan], size=(10, 10)))"
   ]
  },
  {
   "cell_type": "code",
   "execution_count": 62,
   "id": "fc58bedb",
   "metadata": {},
   "outputs": [
    {
     "data": {
      "text/html": [
       "<div>\n",
       "<style scoped>\n",
       "    .dataframe tbody tr th:only-of-type {\n",
       "        vertical-align: middle;\n",
       "    }\n",
       "\n",
       "    .dataframe tbody tr th {\n",
       "        vertical-align: top;\n",
       "    }\n",
       "\n",
       "    .dataframe thead th {\n",
       "        text-align: right;\n",
       "    }\n",
       "</style>\n",
       "<table border=\"1\" class=\"dataframe\">\n",
       "  <thead>\n",
       "    <tr style=\"text-align: right;\">\n",
       "      <th></th>\n",
       "      <th>0</th>\n",
       "      <th>1</th>\n",
       "      <th>2</th>\n",
       "      <th>3</th>\n",
       "      <th>4</th>\n",
       "      <th>5</th>\n",
       "      <th>6</th>\n",
       "      <th>7</th>\n",
       "      <th>8</th>\n",
       "      <th>9</th>\n",
       "    </tr>\n",
       "  </thead>\n",
       "  <tbody>\n",
       "    <tr>\n",
       "      <th>0</th>\n",
       "      <td>0.0</td>\n",
       "      <td>0.0</td>\n",
       "      <td>0.0</td>\n",
       "      <td>0.0</td>\n",
       "      <td>1.0</td>\n",
       "      <td>1.0</td>\n",
       "      <td>1.0</td>\n",
       "      <td>0.0</td>\n",
       "      <td>0.0</td>\n",
       "      <td>NaN</td>\n",
       "    </tr>\n",
       "    <tr>\n",
       "      <th>1</th>\n",
       "      <td>NaN</td>\n",
       "      <td>0.0</td>\n",
       "      <td>NaN</td>\n",
       "      <td>NaN</td>\n",
       "      <td>0.0</td>\n",
       "      <td>NaN</td>\n",
       "      <td>NaN</td>\n",
       "      <td>0.0</td>\n",
       "      <td>1.0</td>\n",
       "      <td>0.0</td>\n",
       "    </tr>\n",
       "    <tr>\n",
       "      <th>2</th>\n",
       "      <td>0.0</td>\n",
       "      <td>0.0</td>\n",
       "      <td>NaN</td>\n",
       "      <td>NaN</td>\n",
       "      <td>NaN</td>\n",
       "      <td>NaN</td>\n",
       "      <td>NaN</td>\n",
       "      <td>0.0</td>\n",
       "      <td>1.0</td>\n",
       "      <td>1.0</td>\n",
       "    </tr>\n",
       "    <tr>\n",
       "      <th>3</th>\n",
       "      <td>0.0</td>\n",
       "      <td>NaN</td>\n",
       "      <td>NaN</td>\n",
       "      <td>1.0</td>\n",
       "      <td>NaN</td>\n",
       "      <td>0.0</td>\n",
       "      <td>NaN</td>\n",
       "      <td>1.0</td>\n",
       "      <td>0.0</td>\n",
       "      <td>NaN</td>\n",
       "    </tr>\n",
       "    <tr>\n",
       "      <th>4</th>\n",
       "      <td>0.0</td>\n",
       "      <td>1.0</td>\n",
       "      <td>NaN</td>\n",
       "      <td>NaN</td>\n",
       "      <td>1.0</td>\n",
       "      <td>0.0</td>\n",
       "      <td>NaN</td>\n",
       "      <td>0.0</td>\n",
       "      <td>1.0</td>\n",
       "      <td>NaN</td>\n",
       "    </tr>\n",
       "    <tr>\n",
       "      <th>5</th>\n",
       "      <td>0.0</td>\n",
       "      <td>0.0</td>\n",
       "      <td>0.0</td>\n",
       "      <td>NaN</td>\n",
       "      <td>1.0</td>\n",
       "      <td>0.0</td>\n",
       "      <td>NaN</td>\n",
       "      <td>NaN</td>\n",
       "      <td>0.0</td>\n",
       "      <td>1.0</td>\n",
       "    </tr>\n",
       "    <tr>\n",
       "      <th>6</th>\n",
       "      <td>0.0</td>\n",
       "      <td>1.0</td>\n",
       "      <td>0.0</td>\n",
       "      <td>0.0</td>\n",
       "      <td>NaN</td>\n",
       "      <td>0.0</td>\n",
       "      <td>0.0</td>\n",
       "      <td>1.0</td>\n",
       "      <td>0.0</td>\n",
       "      <td>0.0</td>\n",
       "    </tr>\n",
       "    <tr>\n",
       "      <th>7</th>\n",
       "      <td>NaN</td>\n",
       "      <td>NaN</td>\n",
       "      <td>NaN</td>\n",
       "      <td>0.0</td>\n",
       "      <td>1.0</td>\n",
       "      <td>0.0</td>\n",
       "      <td>1.0</td>\n",
       "      <td>0.0</td>\n",
       "      <td>1.0</td>\n",
       "      <td>1.0</td>\n",
       "    </tr>\n",
       "    <tr>\n",
       "      <th>8</th>\n",
       "      <td>0.0</td>\n",
       "      <td>1.0</td>\n",
       "      <td>NaN</td>\n",
       "      <td>NaN</td>\n",
       "      <td>1.0</td>\n",
       "      <td>NaN</td>\n",
       "      <td>0.0</td>\n",
       "      <td>NaN</td>\n",
       "      <td>NaN</td>\n",
       "      <td>1.0</td>\n",
       "    </tr>\n",
       "    <tr>\n",
       "      <th>9</th>\n",
       "      <td>0.0</td>\n",
       "      <td>1.0</td>\n",
       "      <td>NaN</td>\n",
       "      <td>0.0</td>\n",
       "      <td>NaN</td>\n",
       "      <td>NaN</td>\n",
       "      <td>1.0</td>\n",
       "      <td>1.0</td>\n",
       "      <td>0.0</td>\n",
       "      <td>NaN</td>\n",
       "    </tr>\n",
       "  </tbody>\n",
       "</table>\n",
       "</div>"
      ],
      "text/plain": [
       "     0    1    2    3    4    5    6    7    8    9\n",
       "0  0.0  0.0  0.0  0.0  1.0  1.0  1.0  0.0  0.0  NaN\n",
       "1  NaN  0.0  NaN  NaN  0.0  NaN  NaN  0.0  1.0  0.0\n",
       "2  0.0  0.0  NaN  NaN  NaN  NaN  NaN  0.0  1.0  1.0\n",
       "3  0.0  NaN  NaN  1.0  NaN  0.0  NaN  1.0  0.0  NaN\n",
       "4  0.0  1.0  NaN  NaN  1.0  0.0  NaN  0.0  1.0  NaN\n",
       "5  0.0  0.0  0.0  NaN  1.0  0.0  NaN  NaN  0.0  1.0\n",
       "6  0.0  1.0  0.0  0.0  NaN  0.0  0.0  1.0  0.0  0.0\n",
       "7  NaN  NaN  NaN  0.0  1.0  0.0  1.0  0.0  1.0  1.0\n",
       "8  0.0  1.0  NaN  NaN  1.0  NaN  0.0  NaN  NaN  1.0\n",
       "9  0.0  1.0  NaN  0.0  NaN  NaN  1.0  1.0  0.0  NaN"
      ]
     },
     "execution_count": 62,
     "metadata": {},
     "output_type": "execute_result"
    }
   ],
   "source": [
    "df"
   ]
  },
  {
   "cell_type": "code",
   "execution_count": 63,
   "id": "cf133ff5",
   "metadata": {},
   "outputs": [],
   "source": [
    "pd.set_option(\"max_info_rows\", 11)"
   ]
  },
  {
   "cell_type": "code",
   "execution_count": 65,
   "id": "06f1cd94",
   "metadata": {},
   "outputs": [
    {
     "name": "stdout",
     "output_type": "stream",
     "text": [
      "<class 'pandas.core.frame.DataFrame'>\n",
      "RangeIndex: 10 entries, 0 to 9\n",
      "Data columns (total 10 columns):\n",
      " #   Column  Non-Null Count  Dtype  \n",
      "---  ------  --------------  -----  \n",
      " 0   0       8 non-null      float64\n",
      " 1   1       8 non-null      float64\n",
      " 2   2       3 non-null      float64\n",
      " 3   3       5 non-null      float64\n",
      " 4   4       6 non-null      float64\n",
      " 5   5       6 non-null      float64\n",
      " 6   6       5 non-null      float64\n",
      " 7   7       8 non-null      float64\n",
      " 8   8       9 non-null      float64\n",
      " 9   9       6 non-null      float64\n",
      "dtypes: float64(10)\n",
      "memory usage: 928.0 bytes\n"
     ]
    }
   ],
   "source": [
    "df.info()"
   ]
  },
  {
   "cell_type": "code",
   "execution_count": 66,
   "id": "6235b3c5",
   "metadata": {},
   "outputs": [],
   "source": [
    "pd.set_option(\"max_info_rows\", 5)"
   ]
  },
  {
   "cell_type": "code",
   "execution_count": 67,
   "id": "34d74d88",
   "metadata": {},
   "outputs": [
    {
     "name": "stdout",
     "output_type": "stream",
     "text": [
      "<class 'pandas.core.frame.DataFrame'>\n",
      "RangeIndex: 10 entries, 0 to 9\n",
      "Data columns (total 10 columns):\n",
      " #   Column  Dtype  \n",
      "---  ------  -----  \n",
      " 0   0       float64\n",
      " 1   1       float64\n",
      " 2   2       float64\n",
      " 3   3       float64\n",
      " 4   4       float64\n",
      " 5   5       float64\n",
      " 6   6       float64\n",
      " 7   7       float64\n",
      " 8   8       float64\n",
      " 9   9       float64\n",
      "dtypes: float64(10)\n",
      "memory usage: 928.0 bytes\n"
     ]
    }
   ],
   "source": [
    "df.info()"
   ]
  },
  {
   "cell_type": "code",
   "execution_count": 68,
   "id": "8289d6e6",
   "metadata": {},
   "outputs": [],
   "source": [
    "pd.reset_option(\"max_info_rows\")"
   ]
  },
  {
   "cell_type": "markdown",
   "id": "33158d78",
   "metadata": {},
   "source": [
    "### 3.7 display.precision - decimales"
   ]
  },
  {
   "cell_type": "code",
   "execution_count": 69,
   "id": "1aa60094",
   "metadata": {},
   "outputs": [],
   "source": [
    "# Establece la precisión de visualización de salida en términos de lugares decimales.\n",
    "df = pd.DataFrame(np.random.randn(5, 5))"
   ]
  },
  {
   "cell_type": "code",
   "execution_count": 70,
   "id": "2d045540",
   "metadata": {},
   "outputs": [],
   "source": [
    "pd.set_option(\"display.precision\", 7)"
   ]
  },
  {
   "cell_type": "code",
   "execution_count": 72,
   "id": "e35552ba",
   "metadata": {},
   "outputs": [],
   "source": [
    "pd.set_option(\"display.precision\", 3)"
   ]
  },
  {
   "cell_type": "code",
   "execution_count": 73,
   "id": "2d0b83cb",
   "metadata": {},
   "outputs": [
    {
     "data": {
      "text/html": [
       "<div>\n",
       "<style scoped>\n",
       "    .dataframe tbody tr th:only-of-type {\n",
       "        vertical-align: middle;\n",
       "    }\n",
       "\n",
       "    .dataframe tbody tr th {\n",
       "        vertical-align: top;\n",
       "    }\n",
       "\n",
       "    .dataframe thead th {\n",
       "        text-align: right;\n",
       "    }\n",
       "</style>\n",
       "<table border=\"1\" class=\"dataframe\">\n",
       "  <thead>\n",
       "    <tr style=\"text-align: right;\">\n",
       "      <th></th>\n",
       "      <th>0</th>\n",
       "      <th>1</th>\n",
       "      <th>2</th>\n",
       "      <th>3</th>\n",
       "      <th>4</th>\n",
       "    </tr>\n",
       "  </thead>\n",
       "  <tbody>\n",
       "    <tr>\n",
       "      <th>0</th>\n",
       "      <td>0.161</td>\n",
       "      <td>0.106</td>\n",
       "      <td>0.557</td>\n",
       "      <td>-0.152</td>\n",
       "      <td>-0.559</td>\n",
       "    </tr>\n",
       "    <tr>\n",
       "      <th>1</th>\n",
       "      <td>-0.806</td>\n",
       "      <td>-0.672</td>\n",
       "      <td>-0.643</td>\n",
       "      <td>2.225</td>\n",
       "      <td>0.037</td>\n",
       "    </tr>\n",
       "    <tr>\n",
       "      <th>2</th>\n",
       "      <td>1.214</td>\n",
       "      <td>-0.623</td>\n",
       "      <td>0.496</td>\n",
       "      <td>-2.109</td>\n",
       "      <td>0.176</td>\n",
       "    </tr>\n",
       "    <tr>\n",
       "      <th>3</th>\n",
       "      <td>-1.596</td>\n",
       "      <td>0.687</td>\n",
       "      <td>0.728</td>\n",
       "      <td>-1.663</td>\n",
       "      <td>-0.332</td>\n",
       "    </tr>\n",
       "    <tr>\n",
       "      <th>4</th>\n",
       "      <td>-0.234</td>\n",
       "      <td>1.274</td>\n",
       "      <td>0.152</td>\n",
       "      <td>0.359</td>\n",
       "      <td>-1.542</td>\n",
       "    </tr>\n",
       "  </tbody>\n",
       "</table>\n",
       "</div>"
      ],
      "text/plain": [
       "       0      1      2      3      4\n",
       "0  0.161  0.106  0.557 -0.152 -0.559\n",
       "1 -0.806 -0.672 -0.643  2.225  0.037\n",
       "2  1.214 -0.623  0.496 -2.109  0.176\n",
       "3 -1.596  0.687  0.728 -1.663 -0.332\n",
       "4 -0.234  1.274  0.152  0.359 -1.542"
      ]
     },
     "execution_count": 73,
     "metadata": {},
     "output_type": "execute_result"
    }
   ],
   "source": [
    "df"
   ]
  },
  {
   "cell_type": "markdown",
   "id": "88b56ac4",
   "metadata": {},
   "source": [
    "### 3.8 display.chop_threshold"
   ]
  },
  {
   "cell_type": "code",
   "execution_count": 74,
   "id": "f9e4fa2b",
   "metadata": {},
   "outputs": [],
   "source": [
    "# Establece el umbral de redondeo en cero cuando se muestra una serie o un marco de datos. \n",
    "# Esta configuración no cambia la precisión con la que se almacena el número.\n",
    "df = pd.DataFrame(np.random.randn(6, 6))"
   ]
  },
  {
   "cell_type": "code",
   "execution_count": 75,
   "id": "a5ff8b7a",
   "metadata": {},
   "outputs": [],
   "source": [
    "pd.set_option(\"chop_threshold\", 0)"
   ]
  },
  {
   "cell_type": "code",
   "execution_count": 76,
   "id": "082aa9c9",
   "metadata": {},
   "outputs": [
    {
     "data": {
      "text/html": [
       "<div>\n",
       "<style scoped>\n",
       "    .dataframe tbody tr th:only-of-type {\n",
       "        vertical-align: middle;\n",
       "    }\n",
       "\n",
       "    .dataframe tbody tr th {\n",
       "        vertical-align: top;\n",
       "    }\n",
       "\n",
       "    .dataframe thead th {\n",
       "        text-align: right;\n",
       "    }\n",
       "</style>\n",
       "<table border=\"1\" class=\"dataframe\">\n",
       "  <thead>\n",
       "    <tr style=\"text-align: right;\">\n",
       "      <th></th>\n",
       "      <th>0</th>\n",
       "      <th>1</th>\n",
       "      <th>2</th>\n",
       "      <th>3</th>\n",
       "      <th>4</th>\n",
       "      <th>5</th>\n",
       "    </tr>\n",
       "  </thead>\n",
       "  <tbody>\n",
       "    <tr>\n",
       "      <th>0</th>\n",
       "      <td>-0.468</td>\n",
       "      <td>1.831</td>\n",
       "      <td>0.131</td>\n",
       "      <td>-0.613</td>\n",
       "      <td>1.164</td>\n",
       "      <td>-0.167</td>\n",
       "    </tr>\n",
       "    <tr>\n",
       "      <th>1</th>\n",
       "      <td>0.817</td>\n",
       "      <td>0.498</td>\n",
       "      <td>-0.072</td>\n",
       "      <td>1.140</td>\n",
       "      <td>1.036</td>\n",
       "      <td>1.512</td>\n",
       "    </tr>\n",
       "    <tr>\n",
       "      <th>2</th>\n",
       "      <td>-0.841</td>\n",
       "      <td>0.210</td>\n",
       "      <td>0.092</td>\n",
       "      <td>0.035</td>\n",
       "      <td>-0.721</td>\n",
       "      <td>-0.834</td>\n",
       "    </tr>\n",
       "    <tr>\n",
       "      <th>3</th>\n",
       "      <td>1.029</td>\n",
       "      <td>0.447</td>\n",
       "      <td>-0.089</td>\n",
       "      <td>0.397</td>\n",
       "      <td>-0.042</td>\n",
       "      <td>0.292</td>\n",
       "    </tr>\n",
       "    <tr>\n",
       "      <th>4</th>\n",
       "      <td>-1.385</td>\n",
       "      <td>0.300</td>\n",
       "      <td>1.337</td>\n",
       "      <td>1.130</td>\n",
       "      <td>0.865</td>\n",
       "      <td>-0.245</td>\n",
       "    </tr>\n",
       "    <tr>\n",
       "      <th>5</th>\n",
       "      <td>-0.552</td>\n",
       "      <td>0.030</td>\n",
       "      <td>-0.949</td>\n",
       "      <td>0.587</td>\n",
       "      <td>0.419</td>\n",
       "      <td>-0.156</td>\n",
       "    </tr>\n",
       "  </tbody>\n",
       "</table>\n",
       "</div>"
      ],
      "text/plain": [
       "       0      1      2      3      4      5\n",
       "0 -0.468  1.831  0.131 -0.613  1.164 -0.167\n",
       "1  0.817  0.498 -0.072  1.140  1.036  1.512\n",
       "2 -0.841  0.210  0.092  0.035 -0.721 -0.834\n",
       "3  1.029  0.447 -0.089  0.397 -0.042  0.292\n",
       "4 -1.385  0.300  1.337  1.130  0.865 -0.245\n",
       "5 -0.552  0.030 -0.949  0.587  0.419 -0.156"
      ]
     },
     "execution_count": 76,
     "metadata": {},
     "output_type": "execute_result"
    }
   ],
   "source": [
    "df"
   ]
  },
  {
   "cell_type": "code",
   "execution_count": 79,
   "id": "302879f7",
   "metadata": {},
   "outputs": [],
   "source": [
    "# Todo lo que sea menor a 0.5 quedara representado por cero en la tabla\n",
    "pd.set_option(\"chop_threshold\", 0.5)"
   ]
  },
  {
   "cell_type": "code",
   "execution_count": 80,
   "id": "09cf8f0f",
   "metadata": {},
   "outputs": [
    {
     "data": {
      "text/html": [
       "<div>\n",
       "<style scoped>\n",
       "    .dataframe tbody tr th:only-of-type {\n",
       "        vertical-align: middle;\n",
       "    }\n",
       "\n",
       "    .dataframe tbody tr th {\n",
       "        vertical-align: top;\n",
       "    }\n",
       "\n",
       "    .dataframe thead th {\n",
       "        text-align: right;\n",
       "    }\n",
       "</style>\n",
       "<table border=\"1\" class=\"dataframe\">\n",
       "  <thead>\n",
       "    <tr style=\"text-align: right;\">\n",
       "      <th></th>\n",
       "      <th>0</th>\n",
       "      <th>1</th>\n",
       "      <th>2</th>\n",
       "      <th>3</th>\n",
       "      <th>4</th>\n",
       "      <th>5</th>\n",
       "    </tr>\n",
       "  </thead>\n",
       "  <tbody>\n",
       "    <tr>\n",
       "      <th>0</th>\n",
       "      <td>0.000</td>\n",
       "      <td>1.831</td>\n",
       "      <td>0.000</td>\n",
       "      <td>-0.613</td>\n",
       "      <td>1.164</td>\n",
       "      <td>0.000</td>\n",
       "    </tr>\n",
       "    <tr>\n",
       "      <th>1</th>\n",
       "      <td>0.817</td>\n",
       "      <td>0.000</td>\n",
       "      <td>0.000</td>\n",
       "      <td>1.140</td>\n",
       "      <td>1.036</td>\n",
       "      <td>1.512</td>\n",
       "    </tr>\n",
       "    <tr>\n",
       "      <th>2</th>\n",
       "      <td>-0.841</td>\n",
       "      <td>0.000</td>\n",
       "      <td>0.000</td>\n",
       "      <td>0.000</td>\n",
       "      <td>-0.721</td>\n",
       "      <td>-0.834</td>\n",
       "    </tr>\n",
       "    <tr>\n",
       "      <th>3</th>\n",
       "      <td>1.029</td>\n",
       "      <td>0.000</td>\n",
       "      <td>0.000</td>\n",
       "      <td>0.000</td>\n",
       "      <td>0.000</td>\n",
       "      <td>0.000</td>\n",
       "    </tr>\n",
       "    <tr>\n",
       "      <th>4</th>\n",
       "      <td>-1.385</td>\n",
       "      <td>0.000</td>\n",
       "      <td>1.337</td>\n",
       "      <td>1.130</td>\n",
       "      <td>0.865</td>\n",
       "      <td>0.000</td>\n",
       "    </tr>\n",
       "    <tr>\n",
       "      <th>5</th>\n",
       "      <td>-0.552</td>\n",
       "      <td>0.000</td>\n",
       "      <td>-0.949</td>\n",
       "      <td>0.587</td>\n",
       "      <td>0.000</td>\n",
       "      <td>0.000</td>\n",
       "    </tr>\n",
       "  </tbody>\n",
       "</table>\n",
       "</div>"
      ],
      "text/plain": [
       "       0      1      2      3      4      5\n",
       "0  0.000  1.831  0.000 -0.613  1.164  0.000\n",
       "1  0.817  0.000  0.000  1.140  1.036  1.512\n",
       "2 -0.841  0.000  0.000  0.000 -0.721 -0.834\n",
       "3  1.029  0.000  0.000  0.000  0.000  0.000\n",
       "4 -1.385  0.000  1.337  1.130  0.865  0.000\n",
       "5 -0.552  0.000 -0.949  0.587  0.000  0.000"
      ]
     },
     "execution_count": 80,
     "metadata": {},
     "output_type": "execute_result"
    }
   ],
   "source": [
    "df"
   ]
  },
  {
   "cell_type": "code",
   "execution_count": 81,
   "id": "b2665c28",
   "metadata": {},
   "outputs": [],
   "source": [
    "pd.reset_option(\"chop_threshold\")"
   ]
  },
  {
   "cell_type": "markdown",
   "id": "8bfb5d34",
   "metadata": {},
   "source": [
    "### 3.9 display.colheader_justify  - Ubicación del nombre de la columna (left or right)"
   ]
  },
  {
   "cell_type": "code",
   "execution_count": 89,
   "id": "cbb142a9",
   "metadata": {},
   "outputs": [],
   "source": [
    "# Controla la justificación de los encabezados. Las opciones son 'derecha' e 'izquierda'.\n",
    "df = pd.DataFrame(\n",
    "    np.array([np.random.randn(6), np.random.randint(1, 9, 6) * 0.1, np.zeros(6)]).T,\n",
    "    columns=[\"A\", \"B\", \"C\"],\n",
    "    dtype=\"float\",\n",
    ")"
   ]
  },
  {
   "cell_type": "code",
   "execution_count": 90,
   "id": "2883fe44",
   "metadata": {},
   "outputs": [],
   "source": [
    "pd.set_option(\"colheader_justify\", \"right\")"
   ]
  },
  {
   "cell_type": "code",
   "execution_count": 91,
   "id": "0613329e",
   "metadata": {},
   "outputs": [
    {
     "data": {
      "text/html": [
       "<div>\n",
       "<style scoped>\n",
       "    .dataframe tbody tr th:only-of-type {\n",
       "        vertical-align: middle;\n",
       "    }\n",
       "\n",
       "    .dataframe tbody tr th {\n",
       "        vertical-align: top;\n",
       "    }\n",
       "\n",
       "    .dataframe thead th {\n",
       "        text-align: right;\n",
       "    }\n",
       "</style>\n",
       "<table border=\"1\" class=\"dataframe\">\n",
       "  <thead>\n",
       "    <tr style=\"text-align: right;\">\n",
       "      <th></th>\n",
       "      <th>A</th>\n",
       "      <th>B</th>\n",
       "      <th>C</th>\n",
       "    </tr>\n",
       "  </thead>\n",
       "  <tbody>\n",
       "    <tr>\n",
       "      <th>0</th>\n",
       "      <td>0.759</td>\n",
       "      <td>0.3</td>\n",
       "      <td>0.0</td>\n",
       "    </tr>\n",
       "    <tr>\n",
       "      <th>1</th>\n",
       "      <td>0.581</td>\n",
       "      <td>0.4</td>\n",
       "      <td>0.0</td>\n",
       "    </tr>\n",
       "    <tr>\n",
       "      <th>2</th>\n",
       "      <td>0.789</td>\n",
       "      <td>0.5</td>\n",
       "      <td>0.0</td>\n",
       "    </tr>\n",
       "    <tr>\n",
       "      <th>3</th>\n",
       "      <td>-0.109</td>\n",
       "      <td>0.7</td>\n",
       "      <td>0.0</td>\n",
       "    </tr>\n",
       "    <tr>\n",
       "      <th>4</th>\n",
       "      <td>0.271</td>\n",
       "      <td>0.3</td>\n",
       "      <td>0.0</td>\n",
       "    </tr>\n",
       "    <tr>\n",
       "      <th>5</th>\n",
       "      <td>-2.023</td>\n",
       "      <td>0.4</td>\n",
       "      <td>0.0</td>\n",
       "    </tr>\n",
       "  </tbody>\n",
       "</table>\n",
       "</div>"
      ],
      "text/plain": [
       "       A    B    C\n",
       "0  0.759  0.3  0.0\n",
       "1  0.581  0.4  0.0\n",
       "2  0.789  0.5  0.0\n",
       "3 -0.109  0.7  0.0\n",
       "4  0.271  0.3  0.0\n",
       "5 -2.023  0.4  0.0"
      ]
     },
     "execution_count": 91,
     "metadata": {},
     "output_type": "execute_result"
    }
   ],
   "source": [
    "df"
   ]
  },
  {
   "cell_type": "code",
   "execution_count": 92,
   "id": "c05c907d",
   "metadata": {},
   "outputs": [],
   "source": [
    "pd.set_option(\"colheader_justify\", \"left\")"
   ]
  },
  {
   "cell_type": "code",
   "execution_count": 93,
   "id": "b16f924e",
   "metadata": {},
   "outputs": [
    {
     "data": {
      "text/html": [
       "<div>\n",
       "<style scoped>\n",
       "    .dataframe tbody tr th:only-of-type {\n",
       "        vertical-align: middle;\n",
       "    }\n",
       "\n",
       "    .dataframe tbody tr th {\n",
       "        vertical-align: top;\n",
       "    }\n",
       "\n",
       "    .dataframe thead th {\n",
       "        text-align: right;\n",
       "    }\n",
       "</style>\n",
       "<table border=\"1\" class=\"dataframe\">\n",
       "  <thead>\n",
       "    <tr style=\"text-align: left;\">\n",
       "      <th></th>\n",
       "      <th>A</th>\n",
       "      <th>B</th>\n",
       "      <th>C</th>\n",
       "    </tr>\n",
       "  </thead>\n",
       "  <tbody>\n",
       "    <tr>\n",
       "      <th>0</th>\n",
       "      <td>0.759</td>\n",
       "      <td>0.3</td>\n",
       "      <td>0.0</td>\n",
       "    </tr>\n",
       "    <tr>\n",
       "      <th>1</th>\n",
       "      <td>0.581</td>\n",
       "      <td>0.4</td>\n",
       "      <td>0.0</td>\n",
       "    </tr>\n",
       "    <tr>\n",
       "      <th>2</th>\n",
       "      <td>0.789</td>\n",
       "      <td>0.5</td>\n",
       "      <td>0.0</td>\n",
       "    </tr>\n",
       "    <tr>\n",
       "      <th>3</th>\n",
       "      <td>-0.109</td>\n",
       "      <td>0.7</td>\n",
       "      <td>0.0</td>\n",
       "    </tr>\n",
       "    <tr>\n",
       "      <th>4</th>\n",
       "      <td>0.271</td>\n",
       "      <td>0.3</td>\n",
       "      <td>0.0</td>\n",
       "    </tr>\n",
       "    <tr>\n",
       "      <th>5</th>\n",
       "      <td>-2.023</td>\n",
       "      <td>0.4</td>\n",
       "      <td>0.0</td>\n",
       "    </tr>\n",
       "  </tbody>\n",
       "</table>\n",
       "</div>"
      ],
      "text/plain": [
       "   A      B    C  \n",
       "0  0.759  0.3  0.0\n",
       "1  0.581  0.4  0.0\n",
       "2  0.789  0.5  0.0\n",
       "3 -0.109  0.7  0.0\n",
       "4  0.271  0.3  0.0\n",
       "5 -2.023  0.4  0.0"
      ]
     },
     "execution_count": 93,
     "metadata": {},
     "output_type": "execute_result"
    }
   ],
   "source": [
    "df"
   ]
  }
 ],
 "metadata": {
  "kernelspec": {
   "display_name": "Python 3 (ipykernel)",
   "language": "python",
   "name": "python3"
  },
  "language_info": {
   "codemirror_mode": {
    "name": "ipython",
    "version": 3
   },
   "file_extension": ".py",
   "mimetype": "text/x-python",
   "name": "python",
   "nbconvert_exporter": "python",
   "pygments_lexer": "ipython3",
   "version": "3.9.12"
  }
 },
 "nbformat": 4,
 "nbformat_minor": 5
}
