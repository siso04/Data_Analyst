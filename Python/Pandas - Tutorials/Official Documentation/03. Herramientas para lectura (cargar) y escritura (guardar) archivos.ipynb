{
 "cells": [
  {
   "cell_type": "markdown",
   "id": "588e8ec8",
   "metadata": {},
   "source": [
    "# Funciones reader() y writer()"
   ]
  },
  {
   "cell_type": "markdown",
   "id": "011a160f",
   "metadata": {},
   "source": [
    "### Existen muchísimos formatos de lectura y escritura de archivos, veamos a continuación los más comunes"
   ]
  },
  {
   "cell_type": "code",
   "execution_count": null,
   "id": "f42e96c5",
   "metadata": {},
   "outputs": [],
   "source": [
    "# Tipo de dato          Descripción             Función para leer (read)    Función para guardar (write)  \n",
    "\n",
    "# text                     CSV                         read_csv                 to_csv              \n",
    "\n",
    "# text                     JSON                        read_json                to_json\n",
    "\n",
    "# text                     HTML                        read_html                to_html\n",
    "\n",
    "# text                     XML                         read_xml                 to_xml\n",
    "\n",
    "# text               Local clipboard                read_clipboard           to_clipboard\n",
    "\n",
    "# binary                 MS Excel                      read_excel               to_excel\n",
    "\n",
    "# SQL                      SQL                         read_sql                  to_sql"
   ]
  },
  {
   "cell_type": "markdown",
   "id": "71d9fa7b",
   "metadata": {},
   "source": [
    "## CSV y archivos de texto - read_csv()"
   ]
  },
  {
   "cell_type": "markdown",
   "id": "100afe1f",
   "metadata": {},
   "source": [
    "#### La función caballo de batalla para leer archivos de texto (también conocidos como archivos planos) es read_csv()"
   ]
  },
  {
   "cell_type": "code",
   "execution_count": null,
   "id": "e62d7f1c",
   "metadata": {},
   "outputs": [],
   "source": [
    "# La función read_csv() tiene varios argumentos:\n",
    "\n",
    "# 1. La ruta: filepath_or_buffer\n",
    "# 2. El separador: sep (por defecto en este tipo de archivos es una coma \",\")\n",
    "# 3. El encabezado: header (por defecto, la función toma la primera fila como los encabezados)\n",
    "# 4. Indice de columna: index_col (se carga de forma automática, pero puede ser modificado por el usuario)\n",
    "# 5. Seleccionar columnas específicas: usecols (permite realizar selecciones manuales de las columnas)\n",
    "# 6. Contar el número de filas de salida: nrows (int, default None)\n",
    "# 7. El separador de décimales: por defecto es un punto \".\", puede cambiarse con el argumento decimal\n",
    "# 8. Para codificar (encoding): se utiliza encoding \"str\", el valor por defecto es nulo.  (e.g. 'utf-8')"
   ]
  },
  {
   "cell_type": "code",
   "execution_count": null,
   "id": "760de861",
   "metadata": {},
   "outputs": [],
   "source": [
    "# Veamos un ejemplo\n",
    "\n",
    "import numpy as np\n",
    "import pandas as pd"
   ]
  },
  {
   "cell_type": "code",
   "execution_count": null,
   "id": "0602f7fa",
   "metadata": {},
   "outputs": [],
   "source": [
    "from io import StringIO"
   ]
  },
  {
   "cell_type": "code",
   "execution_count": null,
   "id": "4f6d4fad",
   "metadata": {},
   "outputs": [],
   "source": [
    "data = \"col1,col2,col3\\na,b,1\\na,b,2\\nc,d,3\""
   ]
  },
  {
   "cell_type": "code",
   "execution_count": null,
   "id": "ed3ec920",
   "metadata": {},
   "outputs": [],
   "source": [
    "pd.read_csv(StringIO(data))"
   ]
  },
  {
   "cell_type": "code",
   "execution_count": null,
   "id": "5f69270f",
   "metadata": {},
   "outputs": [],
   "source": [
    "# Urilizaremos usecols, para seleccionar solo dos columnas\n",
    "pd.read_csv(StringIO(data), usecols=lambda x: x.upper() in [\"COL1\", \"COL3\"])"
   ]
  },
  {
   "cell_type": "markdown",
   "id": "3771d24c",
   "metadata": {},
   "source": [
    "### Especificar el tipo de dato de las columnas - converters y to_numeric()"
   ]
  },
  {
   "cell_type": "code",
   "execution_count": null,
   "id": "abacabbc",
   "metadata": {},
   "outputs": [],
   "source": [
    "data = \"a,b,c,d\\n1,2,3,4\\n5,6,7,8\\n9,10,11\""
   ]
  },
  {
   "cell_type": "code",
   "execution_count": null,
   "id": "4b81ef01",
   "metadata": {},
   "outputs": [],
   "source": [
    "print(data)"
   ]
  },
  {
   "cell_type": "code",
   "execution_count": null,
   "id": "eac7b299",
   "metadata": {},
   "outputs": [],
   "source": [
    "df = pd.read_csv(StringIO(data), dtype=object)"
   ]
  },
  {
   "cell_type": "code",
   "execution_count": null,
   "id": "8f591e02",
   "metadata": {},
   "outputs": [],
   "source": [
    "df = pd.read_csv(StringIO(data), dtype={\"b\": object, \"c\": np.float64, \"d\": \"Int64\"})"
   ]
  },
  {
   "cell_type": "code",
   "execution_count": null,
   "id": "85e81971",
   "metadata": {},
   "outputs": [],
   "source": [
    "df.dtypes"
   ]
  },
  {
   "cell_type": "code",
   "execution_count": null,
   "id": "fe4bef68",
   "metadata": {},
   "outputs": [],
   "source": [
    "# Para que sea más sencillo definir el tipo de dato de cada columna, podemos utilizar el argumento \"converters\""
   ]
  },
  {
   "cell_type": "code",
   "execution_count": null,
   "id": "e60e99f7",
   "metadata": {},
   "outputs": [],
   "source": [
    "data = \"col_1\\n1\\n2\\n'A'\\n4.22\""
   ]
  },
  {
   "cell_type": "code",
   "execution_count": null,
   "id": "a94e4420",
   "metadata": {},
   "outputs": [],
   "source": [
    "# En este caso sabremos, que la salida de la columna uno, serán datos en formato string\n",
    "df = pd.read_csv(StringIO(data), converters={\"col_1\": str})"
   ]
  },
  {
   "cell_type": "code",
   "execution_count": null,
   "id": "d6455730",
   "metadata": {},
   "outputs": [],
   "source": [
    "df"
   ]
  },
  {
   "cell_type": "code",
   "execution_count": null,
   "id": "081cf033",
   "metadata": {},
   "outputs": [],
   "source": [
    "# Si queremos ser más especificos, podemos utilizar por ejemplo \"to_numeric()\", para asegurarnos que los datos\n",
    "# sean de tipo numérico"
   ]
  },
  {
   "cell_type": "code",
   "execution_count": null,
   "id": "b0968fce",
   "metadata": {},
   "outputs": [],
   "source": [
    "df2 = pd.read_csv(StringIO(data))"
   ]
  },
  {
   "cell_type": "code",
   "execution_count": null,
   "id": "b81f32ac",
   "metadata": {},
   "outputs": [],
   "source": [
    "# Convertirá todos los análisis válidos en flotantes, dejando el análisis no válido como NaN.\n",
    "df2[\"col_1\"] = pd.to_numeric(df2[\"col_1\"], errors=\"coerce\")"
   ]
  },
  {
   "cell_type": "code",
   "execution_count": null,
   "id": "e3862caa",
   "metadata": {},
   "outputs": [],
   "source": [
    "df2"
   ]
  },
  {
   "cell_type": "markdown",
   "id": "a2014a2b",
   "metadata": {},
   "source": [
    "### Especificación de datos categóricos"
   ]
  },
  {
   "cell_type": "code",
   "execution_count": null,
   "id": "126308c8",
   "metadata": {},
   "outputs": [],
   "source": [
    "# Las columnas categóricas se pueden analizar directamente especificando dtype='category' \n",
    "# o dtype=CategoricalDtype(categories,ordered)."
   ]
  },
  {
   "cell_type": "code",
   "execution_count": null,
   "id": "276d839f",
   "metadata": {},
   "outputs": [],
   "source": [
    "data = \"col1,col2,col3\\na,b,1\\na,b,2\\nc,d,3\""
   ]
  },
  {
   "cell_type": "code",
   "execution_count": null,
   "id": "5a258ae7",
   "metadata": {},
   "outputs": [],
   "source": [
    "pd.read_csv(StringIO(data))"
   ]
  },
  {
   "cell_type": "code",
   "execution_count": null,
   "id": "e7bd8750",
   "metadata": {},
   "outputs": [],
   "source": [
    "pd.read_csv(StringIO(data), dtype=\"category\").dtypes"
   ]
  },
  {
   "cell_type": "code",
   "execution_count": null,
   "id": "6c303b0b",
   "metadata": {},
   "outputs": [],
   "source": [
    "# Podemos pasar solo una columna a categórica, utilizando un diccionario\n",
    "pd.read_csv(StringIO(data), dtype={\"col1\": \"category\"}).dtypes"
   ]
  },
  {
   "cell_type": "markdown",
   "id": "414ceb3e",
   "metadata": {},
   "source": [
    "### Nombrar y usar columnas"
   ]
  },
  {
   "cell_type": "markdown",
   "id": "2c7aa3ff",
   "metadata": {},
   "source": [
    "#### Manejo de nombres de columnas"
   ]
  },
  {
   "cell_type": "code",
   "execution_count": null,
   "id": "497c7ac5",
   "metadata": {},
   "outputs": [],
   "source": [
    "# Un archivo puede o no tener una fila de encabezado. pandas asume que la primera fila debe usarse \n",
    "# como los nombres de las columnas, y siempre lo tamará así por defecto"
   ]
  },
  {
   "cell_type": "code",
   "execution_count": null,
   "id": "7840047a",
   "metadata": {},
   "outputs": [],
   "source": [
    "data = \"a,b,c\\n1,2,3\\n4,5,6\\n7,8,9\""
   ]
  },
  {
   "cell_type": "code",
   "execution_count": null,
   "id": "d0f94ed1",
   "metadata": {},
   "outputs": [],
   "source": [
    "print(data) #Los nombres de las columnas son las letras"
   ]
  },
  {
   "cell_type": "code",
   "execution_count": null,
   "id": "1e4bf81c",
   "metadata": {},
   "outputs": [],
   "source": [
    "pd.read_csv(StringIO(data))"
   ]
  },
  {
   "cell_type": "markdown",
   "id": "d50eb36e",
   "metadata": {},
   "source": [
    "#### Podemos cambiar los nombres de las columnas, utilizando el argumento \"names()\" en conjunto con \"header = 0\" o \"header = None\""
   ]
  },
  {
   "cell_type": "code",
   "execution_count": null,
   "id": "03bfc0f9",
   "metadata": {},
   "outputs": [],
   "source": [
    "# Cambiamos los nombres de las columnas\n",
    "pd.read_csv(StringIO(data), names=[\"col1\", \"col2\", \"col3\"], header=0)"
   ]
  },
  {
   "cell_type": "code",
   "execution_count": null,
   "id": "3e4065e5",
   "metadata": {},
   "outputs": [],
   "source": [
    "pd.read_csv(StringIO(data), names=[\"foo\", \"bar\", \"baz\"], header=None)"
   ]
  },
  {
   "cell_type": "code",
   "execution_count": null,
   "id": "62a2a126",
   "metadata": {},
   "outputs": [],
   "source": [
    "# Si el nombre de las columnas, se encuentra en otra fila que no sea la primera, debemos pasar el número\n",
    "# de la fila al argumento \"header = number\""
   ]
  },
  {
   "cell_type": "code",
   "execution_count": null,
   "id": "8cfd0c82",
   "metadata": {},
   "outputs": [],
   "source": [
    "data = \"skip this skip it\\na,b,c\\n1,2,3\\n4,5,6\\n7,8,9\""
   ]
  },
  {
   "cell_type": "code",
   "execution_count": null,
   "id": "9841a9be",
   "metadata": {},
   "outputs": [],
   "source": [
    "pd.read_csv(StringIO(data), header=1)"
   ]
  },
  {
   "cell_type": "markdown",
   "id": "68eed457",
   "metadata": {},
   "source": [
    "## Filtrar columnas (usecols)"
   ]
  },
  {
   "cell_type": "markdown",
   "id": "81e3b049",
   "metadata": {},
   "source": [
    "#### El argumento \"usecols\" le permite seleccionar cualquier subconjunto de las columnas en un archivo, ya sea usando los nombres de las columnas, los números de posición o una llamada"
   ]
  },
  {
   "cell_type": "code",
   "execution_count": null,
   "id": "b4c8efb4",
   "metadata": {},
   "outputs": [],
   "source": [
    "data = \"a,b,c,d\\n1,2,3,foo\\n4,5,6,bar\\n7,8,9,baz\""
   ]
  },
  {
   "cell_type": "code",
   "execution_count": null,
   "id": "d0431fb4",
   "metadata": {},
   "outputs": [],
   "source": [
    "pd.read_csv(StringIO(data))"
   ]
  },
  {
   "cell_type": "code",
   "execution_count": null,
   "id": "48072adb",
   "metadata": {},
   "outputs": [],
   "source": [
    "# Podemos abrir el archivo y seleccionar solo dos columnas con corchetes, haciendo la llamada por \"etiquetas\"\n",
    "pd.read_csv(StringIO(data), usecols=[\"b\", \"d\"])"
   ]
  },
  {
   "cell_type": "code",
   "execution_count": null,
   "id": "6a2a0b3c",
   "metadata": {},
   "outputs": [],
   "source": [
    "# Podemos hacerlo lo mismo, pero seleccionando las columnas por posición númerica\n",
    "pd.read_csv(StringIO(data), usecols=[0, 2, 3])"
   ]
  },
  {
   "cell_type": "code",
   "execution_count": null,
   "id": "a9eb7635",
   "metadata": {},
   "outputs": [],
   "source": [
    "# También podemos utilizar una función lambda y el argumento \"in\"\n",
    "pd.read_csv(StringIO(data), usecols=lambda x: x.upper() in [\"A\", \"C\"])"
   ]
  },
  {
   "cell_type": "code",
   "execution_count": null,
   "id": "ffdc2e87",
   "metadata": {},
   "outputs": [],
   "source": [
    "# Y para excluir una columna utilizar una función lambda y el argumento \"not in\"\n",
    "pd.read_csv(StringIO(data), usecols=lambda x: x not in [\"a\", \"c\"])"
   ]
  },
  {
   "cell_type": "markdown",
   "id": "cdfb34ea",
   "metadata": {},
   "source": [
    "## Trabajando con datos de Unicode y utilizando \"encoding\""
   ]
  },
  {
   "cell_type": "markdown",
   "id": "472d7517",
   "metadata": {},
   "source": [
    "#### El argumento de codificación debe usarse para datos Unicode codificados, lo que dará como resultado que las cadenas de bytes se decodifiquen a Unicode en el resultado"
   ]
  },
  {
   "cell_type": "code",
   "execution_count": null,
   "id": "ec083bff",
   "metadata": {},
   "outputs": [],
   "source": [
    "from io import BytesIO"
   ]
  },
  {
   "cell_type": "code",
   "execution_count": null,
   "id": "252dec59",
   "metadata": {},
   "outputs": [],
   "source": [
    "data = b\"word,length\\n\" b\"Tr\\xc3\\xa4umen,7\\n\" b\"Gr\\xc3\\xbc\\xc3\\x9fe,5\""
   ]
  },
  {
   "cell_type": "code",
   "execution_count": null,
   "id": "208f9e44",
   "metadata": {},
   "outputs": [],
   "source": [
    "data = data.decode(\"utf8\").encode(\"latin-1\")"
   ]
  },
  {
   "cell_type": "code",
   "execution_count": null,
   "id": "7d8055ce",
   "metadata": {},
   "outputs": [],
   "source": [
    "# Aplicamos el encoding, en este caso para Latín\n",
    "df = pd.read_csv(BytesIO(data), encoding=\"latin-1\")"
   ]
  },
  {
   "cell_type": "code",
   "execution_count": null,
   "id": "89a7f3a5",
   "metadata": {},
   "outputs": [],
   "source": [
    "df"
   ]
  },
  {
   "cell_type": "markdown",
   "id": "4c4a9cc4",
   "metadata": {},
   "source": [
    "## Columnas de índice y delimitadores finales"
   ]
  },
  {
   "cell_type": "markdown",
   "id": "b7ce95f1",
   "metadata": {},
   "source": [
    "#### Si un archivo tiene una columna de datos más que el número de nombres de columna, la primera columna se usará como los nombres de fila del DataFrame"
   ]
  },
  {
   "cell_type": "code",
   "execution_count": null,
   "id": "f61100c6",
   "metadata": {},
   "outputs": [],
   "source": [
    "data = \"a,b,c\\n4,apple,bat,5.7\\n8,orange,cow,10\""
   ]
  },
  {
   "cell_type": "code",
   "execution_count": null,
   "id": "027c4834",
   "metadata": {},
   "outputs": [],
   "source": [
    "pd.read_csv(StringIO(data))"
   ]
  },
  {
   "cell_type": "markdown",
   "id": "fc781430",
   "metadata": {},
   "source": [
    "## Inferir el formato de fecha y hora"
   ]
  },
  {
   "cell_type": "markdown",
   "id": "c4c82125",
   "metadata": {},
   "source": [
    "#### Si tiene parse_dates habilitado para algunas o todas sus columnas, y todas sus cadenas de fecha y hora tienen el mismo formato, puede obtener una gran velocidad configurando infer_datetime_format=True"
   ]
  },
  {
   "cell_type": "code",
   "execution_count": null,
   "id": "23be7393",
   "metadata": {},
   "outputs": [],
   "source": [
    "df = pd.read_csv(\n",
    "    \"foo.csv\",\n",
    "    index_col=0,\n",
    "    parse_dates=True,\n",
    "    infer_datetime_format=True,\n",
    ")"
   ]
  },
  {
   "cell_type": "code",
   "execution_count": null,
   "id": "ec9adfcc",
   "metadata": {},
   "outputs": [],
   "source": [
    "df"
   ]
  },
  {
   "cell_type": "markdown",
   "id": "d2895d16",
   "metadata": {},
   "source": [
    "## Escribir CSV en objetos de archivos binarios - df.to_csv(..., mode=\"wb\")"
   ]
  },
  {
   "cell_type": "code",
   "execution_count": null,
   "id": "6d5f2a8a",
   "metadata": {},
   "outputs": [],
   "source": [
    "import io"
   ]
  },
  {
   "cell_type": "code",
   "execution_count": null,
   "id": "9acd3310",
   "metadata": {},
   "outputs": [],
   "source": [
    "data = pd.DataFrame([0, 1, 2])"
   ]
  },
  {
   "cell_type": "code",
   "execution_count": null,
   "id": "2c83aa35",
   "metadata": {},
   "outputs": [],
   "source": [
    "buffer = io.BytesIO()"
   ]
  },
  {
   "cell_type": "code",
   "execution_count": null,
   "id": "d54250b2",
   "metadata": {},
   "outputs": [],
   "source": [
    "data.to_csv(buffer, encoding=\"utf-8\", compression=\"gzip\")"
   ]
  },
  {
   "cell_type": "markdown",
   "id": "c9518356",
   "metadata": {},
   "source": [
    "## Manejando errores en las líneas - skip bad lines"
   ]
  },
  {
   "cell_type": "code",
   "execution_count": null,
   "id": "a47a82de",
   "metadata": {},
   "outputs": [],
   "source": [
    "data = \"a,b,c\\n1,2,3\\n4,5,6,7\\n8,9,10\""
   ]
  },
  {
   "cell_type": "code",
   "execution_count": null,
   "id": "a6dd97ca",
   "metadata": {},
   "outputs": [],
   "source": [
    "# Esta archivo tiene errores a propósito\n",
    "pd.read_csv(StringIO(data))"
   ]
  },
  {
   "cell_type": "code",
   "execution_count": null,
   "id": "c166ffe7",
   "metadata": {},
   "outputs": [],
   "source": [
    "# Para corregirlo, saltamos las líneas con error eutilizando on_bad_lines=\"warn\"\n",
    "pd.read_csv(StringIO(data), on_bad_lines=\"warn\")"
   ]
  },
  {
   "cell_type": "code",
   "execution_count": null,
   "id": "0dca0918",
   "metadata": {},
   "outputs": [],
   "source": [
    "# También podemos utilizar \"usecols\" para restringir las columnas de salida\n",
    "pd.read_csv(StringIO(data), usecols=[0, 1, 2])"
   ]
  },
  {
   "cell_type": "markdown",
   "id": "90edfb11",
   "metadata": {},
   "source": [
    "## Lectura de varios archivos para crear un solo DataFrame"
   ]
  },
  {
   "cell_type": "markdown",
   "id": "d234ca1b",
   "metadata": {},
   "source": [
    "#### Para hacer esto utilizaremos la función \"concat()\""
   ]
  },
  {
   "cell_type": "code",
   "execution_count": null,
   "id": "31829c04",
   "metadata": {},
   "outputs": [],
   "source": [
    "# Iterando a través de archivos fragmento por fragmento"
   ]
  },
  {
   "cell_type": "code",
   "execution_count": null,
   "id": "ed4fcb42",
   "metadata": {},
   "outputs": [],
   "source": [
    "df = pd.DataFrame(np.random.randn(10, 4))"
   ]
  },
  {
   "cell_type": "code",
   "execution_count": null,
   "id": "53452ad0",
   "metadata": {},
   "outputs": [],
   "source": [
    "df.to_csv(\"tmp.csv\", sep=\"|\")"
   ]
  },
  {
   "cell_type": "code",
   "execution_count": null,
   "id": "830bb59d",
   "metadata": {},
   "outputs": [],
   "source": [
    "table = pd.read_csv(\"tmp.csv\", sep=\"|\")"
   ]
  },
  {
   "cell_type": "code",
   "execution_count": null,
   "id": "1e9b8795",
   "metadata": {},
   "outputs": [],
   "source": [
    "table"
   ]
  },
  {
   "cell_type": "code",
   "execution_count": null,
   "id": "fce5df55",
   "metadata": {},
   "outputs": [],
   "source": [
    "# Al especificar un tamaño de fragmento para read_csv, el valor de retorno será un objeto iterable de tipo TextFileReader"
   ]
  },
  {
   "cell_type": "code",
   "execution_count": null,
   "id": "45c4f918",
   "metadata": {},
   "outputs": [],
   "source": [
    "with pd.read_csv(\"tmp.csv\", sep=\"|\", chunksize=4) as reader:\n",
    "    reader\n",
    "    for chunk in reader:\n",
    "        print(chunk)"
   ]
  },
  {
   "cell_type": "markdown",
   "id": "29bda666",
   "metadata": {},
   "source": [
    "## Leer/escribir archivos remotos/externos"
   ]
  },
  {
   "cell_type": "markdown",
   "id": "7098ec4d",
   "metadata": {},
   "source": [
    "#### Puede pasar una URL para leer o escribir archivos remotos a muchas de las funciones IO de pandas; el siguiente ejemplo muestra la lectura de un archivo CSV referenciado con un enlace"
   ]
  },
  {
   "cell_type": "code",
   "execution_count": null,
   "id": "9630df69",
   "metadata": {},
   "outputs": [],
   "source": [
    "# Solo debemos colocar el URL en comillas \"\", y definir el separador si es necesario\n",
    "df = pd.read_csv(\"https://download.bls.gov/pub/time.series/cu/cu.item\", sep=\"\\t\")"
   ]
  },
  {
   "cell_type": "code",
   "execution_count": null,
   "id": "fe3bfe77",
   "metadata": {},
   "outputs": [],
   "source": [
    "df"
   ]
  },
  {
   "cell_type": "markdown",
   "id": "c06206c8",
   "metadata": {},
   "source": [
    "## Escribir/guardar un archivo"
   ]
  },
  {
   "cell_type": "markdown",
   "id": "753da6f4",
   "metadata": {},
   "source": [
    "### La función que debemos utilizar es df.to_csv. Todas las opciones en: https://pandas.pydata.org/docs/user_guide/io.html#writing-out-data"
   ]
  },
  {
   "cell_type": "markdown",
   "id": "7e7f321f",
   "metadata": {},
   "source": [
    "## Archivos JSON"
   ]
  },
  {
   "cell_type": "markdown",
   "id": "77e83f66",
   "metadata": {},
   "source": [
    "#### En el siguiente enlace están las opciones de lectura https://pandas.pydata.org/docs/user_guide/io.html#json"
   ]
  },
  {
   "cell_type": "code",
   "execution_count": null,
   "id": "5b6d0330",
   "metadata": {},
   "outputs": [],
   "source": [
    "dfj = pd.DataFrame(np.random.randn(5, 2), columns=list(\"AB\"))"
   ]
  },
  {
   "cell_type": "code",
   "execution_count": null,
   "id": "2c8ed743",
   "metadata": {},
   "outputs": [],
   "source": [
    "json = dfj.to_json()"
   ]
  },
  {
   "cell_type": "code",
   "execution_count": null,
   "id": "b213febf",
   "metadata": {},
   "outputs": [],
   "source": [
    "json"
   ]
  },
  {
   "cell_type": "code",
   "execution_count": null,
   "id": "6eb06a39",
   "metadata": {},
   "outputs": [],
   "source": [
    "# Para convertirlo en un Data Frame\n",
    "dfjo = pd.DataFrame(\n",
    "    dict(A=range(1, 4), B=range(4, 7), C=range(7, 10)),\n",
    "    columns=list(\"ABC\"),\n",
    "    index=list(\"xyz\"),\n",
    ")"
   ]
  },
  {
   "cell_type": "code",
   "execution_count": null,
   "id": "e0abbfc4",
   "metadata": {},
   "outputs": [],
   "source": [
    "dfjo"
   ]
  },
  {
   "cell_type": "code",
   "execution_count": null,
   "id": "82a7803a",
   "metadata": {},
   "outputs": [],
   "source": [
    "sjo = pd.Series(dict(x=15, y=16, z=17), name=\"D\")"
   ]
  },
  {
   "cell_type": "code",
   "execution_count": null,
   "id": "3e105da3",
   "metadata": {},
   "outputs": [],
   "source": [
    "sjo"
   ]
  },
  {
   "cell_type": "markdown",
   "id": "1b6428c3",
   "metadata": {},
   "source": [
    "### Normalización"
   ]
  },
  {
   "cell_type": "code",
   "execution_count": null,
   "id": "f5dda5bb",
   "metadata": {},
   "outputs": [],
   "source": [
    "# pandas proporciona una función de utilidad para tomar un diccionario o una lista de diccionarios \n",
    "# y normalizar estos datos semiestructurados en una tabla plana"
   ]
  },
  {
   "cell_type": "code",
   "execution_count": null,
   "id": "3ea47805",
   "metadata": {},
   "outputs": [],
   "source": [
    "data = [\n",
    "    {\"id\": 1, \"name\": {\"first\": \"Coleen\", \"last\": \"Volk\"}},\n",
    "    {\"name\": {\"given\": \"Mark\", \"family\": \"Regner\"}},\n",
    "    {\"id\": 2, \"name\": \"Faye Raker\"},\n",
    "]\n"
   ]
  },
  {
   "cell_type": "code",
   "execution_count": null,
   "id": "3812eb83",
   "metadata": {},
   "outputs": [],
   "source": [
    "pd.json_normalize(data)"
   ]
  },
  {
   "cell_type": "code",
   "execution_count": null,
   "id": "0105ab31",
   "metadata": {},
   "outputs": [],
   "source": [
    "data = [\n",
    "    {\n",
    "        \"state\": \"Florida\",\n",
    "        \"shortname\": \"FL\",\n",
    "        \"info\": {\"governor\": \"Rick Scott\"},\n",
    "        \"county\": [\n",
    "            {\"name\": \"Dade\", \"population\": 12345},\n",
    "            {\"name\": \"Broward\", \"population\": 40000},\n",
    "            {\"name\": \"Palm Beach\", \"population\": 60000},\n",
    "        ],\n",
    "    },\n",
    "    {\n",
    "        \"state\": \"Ohio\",\n",
    "        \"shortname\": \"OH\",\n",
    "        \"info\": {\"governor\": \"John Kasich\"},\n",
    "        \"county\": [\n",
    "            {\"name\": \"Summit\", \"population\": 1234},\n",
    "            {\"name\": \"Cuyahoga\", \"population\": 1337},\n",
    "        ],\n",
    "    },\n",
    "]"
   ]
  },
  {
   "cell_type": "code",
   "execution_count": null,
   "id": "99232b03",
   "metadata": {},
   "outputs": [],
   "source": [
    "pd.json_normalize(data, \"county\", [\"state\", \"shortname\", [\"info\", \"governor\"]])"
   ]
  },
  {
   "cell_type": "markdown",
   "id": "4663f996",
   "metadata": {},
   "source": [
    "## Leer archivos HTML"
   ]
  },
  {
   "cell_type": "markdown",
   "id": "ade95dfa",
   "metadata": {},
   "source": [
    "#### La función read_html() de nivel superior puede aceptar una cadena/archivo/URL HTML y analizará las tablas HTML en una lista de pandas DataFrames."
   ]
  },
  {
   "cell_type": "code",
   "execution_count": null,
   "id": "a179abe9",
   "metadata": {},
   "outputs": [],
   "source": [
    "# read_html devuelve una lista de objetos DataFrame, incluso si solo hay una tabla en el contenido HTML."
   ]
  },
  {
   "cell_type": "code",
   "execution_count": null,
   "id": "7e2c8ed9",
   "metadata": {},
   "outputs": [],
   "source": [
    "#url = \"https://www.fdic.gov/resources/resolutions/bank-failures/failed-bank-list\""
   ]
  },
  {
   "cell_type": "code",
   "execution_count": null,
   "id": "11bf12bb",
   "metadata": {},
   "outputs": [],
   "source": [
    "#pd.read_html(url)"
   ]
  },
  {
   "cell_type": "code",
   "execution_count": null,
   "id": "dbd60439",
   "metadata": {},
   "outputs": [],
   "source": [
    "html_str = \"\"\"\n",
    "         <table>\n",
    "             <tr>\n",
    "                 <th>A</th>\n",
    "                 <th colspan=\"1\">B</th>\n",
    "                 <th rowspan=\"1\">C</th>\n",
    "             </tr>\n",
    "             <tr>\n",
    "                 <td>a</td>\n",
    "                 <td>b</td>\n",
    "                 <td>c</td>\n",
    "             </tr>\n",
    "         </table>\n",
    "     \"\"\""
   ]
  },
  {
   "cell_type": "code",
   "execution_count": null,
   "id": "fadebdcf",
   "metadata": {},
   "outputs": [],
   "source": [
    "with open(\"tmp.html\", \"w\") as f:\n",
    "    f.write(html_str)"
   ]
  },
  {
   "cell_type": "code",
   "execution_count": null,
   "id": "af125494",
   "metadata": {},
   "outputs": [],
   "source": [
    "df = pd.read_html(\"tmp.html\")"
   ]
  },
  {
   "cell_type": "code",
   "execution_count": null,
   "id": "c9a8b1d0",
   "metadata": {},
   "outputs": [],
   "source": [
    "df"
   ]
  },
  {
   "cell_type": "code",
   "execution_count": null,
   "id": "0194f458",
   "metadata": {},
   "outputs": [],
   "source": [
    "print(\"water\")"
   ]
  },
  {
   "cell_type": "code",
   "execution_count": null,
   "id": "e910729b",
   "metadata": {},
   "outputs": [],
   "source": [
    "html_table = \"\"\"\n",
    "<table>\n",
    "  <tr>\n",
    "    <th>GitHub</th>\n",
    "  </tr>\n",
    "  <tr>\n",
    "    <td><a href=\"https://github.com/pandas-dev/pandas\">pandas</a></td>\n",
    "  </tr>\n",
    "</table>\n",
    "\"\"\""
   ]
  },
  {
   "cell_type": "code",
   "execution_count": null,
   "id": "1e78838d",
   "metadata": {},
   "outputs": [],
   "source": [
    "# Para extraer enlaces utilizamos el argumento - extract_links=\"all\"."
   ]
  }
 ],
 "metadata": {
  "kernelspec": {
   "display_name": "Python 3 (ipykernel)",
   "language": "python",
   "name": "python3"
  },
  "language_info": {
   "codemirror_mode": {
    "name": "ipython",
    "version": 3
   },
   "file_extension": ".py",
   "mimetype": "text/x-python",
   "name": "python",
   "nbconvert_exporter": "python",
   "pygments_lexer": "ipython3",
   "version": "3.9.12"
  }
 },
 "nbformat": 4,
 "nbformat_minor": 5
}
