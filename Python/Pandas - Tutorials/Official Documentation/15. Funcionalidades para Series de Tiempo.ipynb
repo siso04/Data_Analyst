{
 "cells": [
  {
   "cell_type": "markdown",
   "id": "213e4e53",
   "metadata": {},
   "source": [
    "Pandas contiene amplias capacidades y funciones para trabajar con datos de series temporales para todos los dominios. Utilizando los **tipos de datos NumPy datetime64 y timedelta64**, pandas ha consolidado una gran cantidad de funciones de otras bibliotecas de Python como scikits.timeseries y ha creado una gran cantidad de nuevas funciones para manipular datos de series temporales."
   ]
  },
  {
   "cell_type": "code",
   "execution_count": 3,
   "id": "e005edc6",
   "metadata": {},
   "outputs": [],
   "source": [
    "import pandas as pd\n",
    "import numpy as np\n",
    "import datetime"
   ]
  },
  {
   "cell_type": "code",
   "execution_count": 4,
   "id": "dd603a7b",
   "metadata": {},
   "outputs": [],
   "source": [
    "dti = pd.to_datetime(\n",
    "    [\"1/1/2018\", np.datetime64(\"2018-01-01\"), datetime.datetime(2018, 1, 1)]\n",
    ")"
   ]
  },
  {
   "cell_type": "code",
   "execution_count": 5,
   "id": "3eaed6c9",
   "metadata": {},
   "outputs": [
    {
     "data": {
      "text/plain": [
       "DatetimeIndex(['2018-01-01', '2018-01-01', '2018-01-01'], dtype='datetime64[ns]', freq=None)"
      ]
     },
     "execution_count": 5,
     "metadata": {},
     "output_type": "execute_result"
    }
   ],
   "source": [
    "dti"
   ]
  },
  {
   "cell_type": "code",
   "execution_count": 6,
   "id": "a3ce2dc8",
   "metadata": {},
   "outputs": [],
   "source": [
    "# Genere secuencias de fechas de frecuencia fija y lapsos de tiempo\n",
    "dti = pd.date_range(\"2018-01-01\", periods=3, freq=\"H\")"
   ]
  },
  {
   "cell_type": "code",
   "execution_count": 7,
   "id": "2c98cd2e",
   "metadata": {},
   "outputs": [
    {
     "data": {
      "text/plain": [
       "DatetimeIndex(['2018-01-01 00:00:00', '2018-01-01 01:00:00',\n",
       "               '2018-01-01 02:00:00'],\n",
       "              dtype='datetime64[ns]', freq='H')"
      ]
     },
     "execution_count": 7,
     "metadata": {},
     "output_type": "execute_result"
    }
   ],
   "source": [
    "dti"
   ]
  },
  {
   "cell_type": "code",
   "execution_count": 8,
   "id": "6a9061fb",
   "metadata": {},
   "outputs": [],
   "source": [
    "# Manipulación y conversión de fechas y horas con información de zona horaria\n",
    "dti = dti.tz_localize(\"UTC\")"
   ]
  },
  {
   "cell_type": "code",
   "execution_count": 9,
   "id": "9f021781",
   "metadata": {},
   "outputs": [
    {
     "data": {
      "text/plain": [
       "DatetimeIndex(['2018-01-01 00:00:00+00:00', '2018-01-01 01:00:00+00:00',\n",
       "               '2018-01-01 02:00:00+00:00'],\n",
       "              dtype='datetime64[ns, UTC]', freq='H')"
      ]
     },
     "execution_count": 9,
     "metadata": {},
     "output_type": "execute_result"
    }
   ],
   "source": [
    "dti"
   ]
  },
  {
   "cell_type": "code",
   "execution_count": 10,
   "id": "e1963fbb",
   "metadata": {},
   "outputs": [
    {
     "data": {
      "text/plain": [
       "DatetimeIndex(['2017-12-31 16:00:00-08:00', '2017-12-31 17:00:00-08:00',\n",
       "               '2017-12-31 18:00:00-08:00'],\n",
       "              dtype='datetime64[ns, US/Pacific]', freq='H')"
      ]
     },
     "execution_count": 10,
     "metadata": {},
     "output_type": "execute_result"
    }
   ],
   "source": [
    "dti.tz_convert(\"US/Pacific\")"
   ]
  },
  {
   "cell_type": "code",
   "execution_count": 11,
   "id": "d89d60de",
   "metadata": {},
   "outputs": [],
   "source": [
    "# Remuestreo o conversión de una serie de tiempo a una frecuencia particular\n",
    "idx = pd.date_range(\"2018-01-01\", periods=5, freq=\"H\")"
   ]
  },
  {
   "cell_type": "code",
   "execution_count": 12,
   "id": "6b80628d",
   "metadata": {},
   "outputs": [],
   "source": [
    "ts = pd.Series(range(len(idx)), index=idx)"
   ]
  },
  {
   "cell_type": "code",
   "execution_count": 13,
   "id": "85e1902f",
   "metadata": {},
   "outputs": [
    {
     "data": {
      "text/plain": [
       "2018-01-01 00:00:00    0\n",
       "2018-01-01 01:00:00    1\n",
       "2018-01-01 02:00:00    2\n",
       "2018-01-01 03:00:00    3\n",
       "2018-01-01 04:00:00    4\n",
       "Freq: H, dtype: int64"
      ]
     },
     "execution_count": 13,
     "metadata": {},
     "output_type": "execute_result"
    }
   ],
   "source": [
    "ts"
   ]
  },
  {
   "cell_type": "code",
   "execution_count": 14,
   "id": "9407319b",
   "metadata": {},
   "outputs": [
    {
     "data": {
      "text/plain": [
       "2018-01-01 00:00:00    0.5\n",
       "2018-01-01 02:00:00    2.5\n",
       "2018-01-01 04:00:00    4.0\n",
       "Freq: 2H, dtype: float64"
      ]
     },
     "execution_count": 14,
     "metadata": {},
     "output_type": "execute_result"
    }
   ],
   "source": [
    "ts.resample(\"2H\").mean()"
   ]
  },
  {
   "cell_type": "code",
   "execution_count": 15,
   "id": "fd46c5e9",
   "metadata": {},
   "outputs": [],
   "source": [
    "# Realización de aritmética de fecha y hora con incrementos de tiempo absolutos o relativos\n",
    "friday = pd.Timestamp(\"2018-01-05\")"
   ]
  },
  {
   "cell_type": "code",
   "execution_count": 16,
   "id": "f34c98ab",
   "metadata": {},
   "outputs": [
    {
     "data": {
      "text/plain": [
       "'Friday'"
      ]
     },
     "execution_count": 16,
     "metadata": {},
     "output_type": "execute_result"
    }
   ],
   "source": [
    "friday.day_name()"
   ]
  },
  {
   "cell_type": "code",
   "execution_count": 17,
   "id": "f2e66fe6",
   "metadata": {},
   "outputs": [],
   "source": [
    "# Add 1 day\n",
    "saturday = friday + pd.Timedelta(\"1 day\")"
   ]
  },
  {
   "cell_type": "code",
   "execution_count": 18,
   "id": "3d061e43",
   "metadata": {},
   "outputs": [
    {
     "data": {
      "text/plain": [
       "'Saturday'"
      ]
     },
     "execution_count": 18,
     "metadata": {},
     "output_type": "execute_result"
    }
   ],
   "source": [
    "saturday.day_name()"
   ]
  },
  {
   "cell_type": "code",
   "execution_count": 19,
   "id": "d52ef462",
   "metadata": {},
   "outputs": [],
   "source": [
    "# Add 1 business day (Friday --> Monday)\n",
    "monday = friday + pd.offsets.BDay()"
   ]
  },
  {
   "cell_type": "code",
   "execution_count": 20,
   "id": "afeee321",
   "metadata": {},
   "outputs": [
    {
     "data": {
      "text/plain": [
       "'Monday'"
      ]
     },
     "execution_count": 20,
     "metadata": {},
     "output_type": "execute_result"
    }
   ],
   "source": [
    "monday.day_name()"
   ]
  },
  {
   "cell_type": "markdown",
   "id": "791deb4d",
   "metadata": {},
   "source": [
    "## Visión general"
   ]
  },
  {
   "cell_type": "markdown",
   "id": "26e3892c",
   "metadata": {},
   "source": [
    "### pandas captura 4 conceptos generales relacionados con el tiempo:\n",
    "\n",
    "    1.**Horas de fecha**: una fecha y hora específicas con soporte de zona horaria. Similar a datetime.datetime de la biblioteca estándar.\n",
    "\n",
    "    2. **Deltas de tiempo**: una duración de tiempo absoluta. Similar a datetime.timedelta de la biblioteca estándar.\n",
    "\n",
    "    3. **Lapsos de tiempo**: Un lapso de tiempo definido por un punto en el tiempo y su frecuencia asociada.\n",
    "\n",
    "    4. **Compensaciones de fecha**: una duración de tiempo relativa que respeta la aritmética del calendario. Similar a dateutil.relativedelta.relativedelta del paquete dateutil."
   ]
  },
  {
   "cell_type": "code",
   "execution_count": 21,
   "id": "00605858",
   "metadata": {},
   "outputs": [
    {
     "data": {
      "text/plain": [
       "2000-01-01    0\n",
       "2000-01-02    1\n",
       "2000-01-03    2\n",
       "Freq: D, dtype: int64"
      ]
     },
     "execution_count": 21,
     "metadata": {},
     "output_type": "execute_result"
    }
   ],
   "source": [
    "# Para los datos de series de tiempo, es convencional representar el componente de tiempo en el índice \n",
    "# de una Serie o Data Frame que se puedan realizar manipulaciones con respecto al elemento de tiempo.\n",
    "pd.Series(range(3), index=pd.date_range(\"2000\", freq=\"D\", periods=3))"
   ]
  },
  {
   "cell_type": "code",
   "execution_count": 22,
   "id": "2916331f",
   "metadata": {},
   "outputs": [
    {
     "data": {
      "text/plain": [
       "0   2000-01-01\n",
       "1   2000-01-02\n",
       "2   2000-01-03\n",
       "dtype: datetime64[ns]"
      ]
     },
     "execution_count": 22,
     "metadata": {},
     "output_type": "execute_result"
    }
   ],
   "source": [
    "# Sin embargo, Series y DataFrame también pueden admitir directamente el componente de tiempo como datos en sí mismos.\n",
    "pd.Series(pd.date_range(\"2000\", freq=\"D\", periods=3))"
   ]
  },
  {
   "cell_type": "code",
   "execution_count": 23,
   "id": "4e213cb6",
   "metadata": {},
   "outputs": [
    {
     "data": {
      "text/plain": [
       "0    2011-01\n",
       "1    2011-02\n",
       "2    2011-03\n",
       "dtype: period[M]"
      ]
     },
     "execution_count": 23,
     "metadata": {},
     "output_type": "execute_result"
    }
   ],
   "source": [
    "# Series y DataFrame tienen soporte y funcionalidad de tipo de datos extendidos para datos de fecha y hora, \n",
    "# timedelta y Period cuando se pasan a esos constructores. Sin embargo, los datos de DateOffset \n",
    "# se almacenarán como datos de objeto.\n",
    "pd.Series(pd.period_range(\"1/1/2011\", freq=\"M\", periods=3))"
   ]
  },
  {
   "cell_type": "code",
   "execution_count": 24,
   "id": "67a5df32",
   "metadata": {},
   "outputs": [
    {
     "data": {
      "text/plain": [
       "0         <DateOffset>\n",
       "1    <2 * DateOffsets>\n",
       "dtype: object"
      ]
     },
     "execution_count": 24,
     "metadata": {},
     "output_type": "execute_result"
    }
   ],
   "source": [
    "pd.Series([pd.DateOffset(1), pd.DateOffset(2)])"
   ]
  },
  {
   "cell_type": "code",
   "execution_count": 25,
   "id": "34a9d332",
   "metadata": {},
   "outputs": [
    {
     "data": {
      "text/plain": [
       "0   2011-01-31\n",
       "1   2011-02-28\n",
       "2   2011-03-31\n",
       "dtype: datetime64[ns]"
      ]
     },
     "execution_count": 25,
     "metadata": {},
     "output_type": "execute_result"
    }
   ],
   "source": [
    "pd.Series(pd.date_range(\"1/1/2011\", freq=\"M\", periods=3))"
   ]
  },
  {
   "cell_type": "code",
   "execution_count": 26,
   "id": "977528c6",
   "metadata": {},
   "outputs": [
    {
     "data": {
      "text/plain": [
       "NaT"
      ]
     },
     "execution_count": 26,
     "metadata": {},
     "output_type": "execute_result"
    }
   ],
   "source": [
    "# Por último, pandas representa fechas y horas nulas, deltas de tiempo y lapsos de tiempo como NaT, \n",
    "# que es útil para representar valores de fecha faltante o nula y se comporta de manera similar \n",
    "# a como lo hace np.nan para datos flotantes.\n",
    "pd.Timestamp(pd.NaT)"
   ]
  },
  {
   "cell_type": "code",
   "execution_count": 27,
   "id": "23639526",
   "metadata": {},
   "outputs": [
    {
     "data": {
      "text/plain": [
       "NaT"
      ]
     },
     "execution_count": 27,
     "metadata": {},
     "output_type": "execute_result"
    }
   ],
   "source": [
    "pd.Timedelta(pd.NaT)"
   ]
  },
  {
   "cell_type": "code",
   "execution_count": 28,
   "id": "6c003baa",
   "metadata": {},
   "outputs": [
    {
     "data": {
      "text/plain": [
       "NaT"
      ]
     },
     "execution_count": 28,
     "metadata": {},
     "output_type": "execute_result"
    }
   ],
   "source": [
    "pd.Period(pd.NaT)"
   ]
  },
  {
   "cell_type": "code",
   "execution_count": 29,
   "id": "b768bf7a",
   "metadata": {},
   "outputs": [
    {
     "data": {
      "text/plain": [
       "False"
      ]
     },
     "execution_count": 29,
     "metadata": {},
     "output_type": "execute_result"
    }
   ],
   "source": [
    "# Equality acts as np.nan would\n",
    "pd.NaT == pd.NaT"
   ]
  }
 ],
 "metadata": {
  "kernelspec": {
   "display_name": "Python 3 (ipykernel)",
   "language": "python",
   "name": "python3"
  },
  "language_info": {
   "codemirror_mode": {
    "name": "ipython",
    "version": 3
   },
   "file_extension": ".py",
   "mimetype": "text/x-python",
   "name": "python",
   "nbconvert_exporter": "python",
   "pygments_lexer": "ipython3",
   "version": "3.9.12"
  }
 },
 "nbformat": 4,
 "nbformat_minor": 5
}
