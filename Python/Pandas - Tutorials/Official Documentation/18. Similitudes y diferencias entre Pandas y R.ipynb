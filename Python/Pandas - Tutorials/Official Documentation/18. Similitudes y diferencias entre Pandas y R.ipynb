{
 "cells": [
  {
   "cell_type": "markdown",
   "id": "d10fa1d4",
   "metadata": {},
   "source": [
    "### Dado que pandas tiene como objetivo proporcionar gran parte de la funcionalidad de análisis y manipulación de datos para la que las personas usan R, esta página se inició para proporcionar una visión más detallada del lenguaje R y sus muchas bibliotecas de terceros relacionadas con Pandas"
   ]
  },
  {
   "cell_type": "markdown",
   "id": "cebbe3aa",
   "metadata": {},
   "source": [
    "## 1. Guía de Referencia Básica"
   ]
  },
  {
   "cell_type": "code",
   "execution_count": 1,
   "id": "a4d756f3",
   "metadata": {},
   "outputs": [],
   "source": [
    "# Funciones principales\n",
    "\n",
    "#    R                                Pandas\n",
    "\n",
    "# dim(df)                            df.shape\n",
    "\n",
    "# head(df)                           df.head()\n",
    "\n",
    "# slice(df, 1:10)                    df.iloc[:9]\n",
    "\n",
    "# filter(df, col1 == 1, col2 == 1)   df.query('col1 == 1 & col2 == 1')\n",
    "\n",
    "# df[df$col1 == 1 & df$col2 == 1,]   df[(df.col1 == 1) & (df.col2 == 1)]\n",
    "\n",
    "# select(df, col1, col2)             df[['col1', 'col2']]\n",
    "\n",
    "# select(df, col1:col3)              df.loc[:, 'col1':'col3']\n",
    "\n",
    "# select(df, -(col1:col3))           df.drop(cols_to_drop, axis=1) but see 1\n",
    "\n",
    "# distinct(select(df, col1))         df[['col1']].drop_duplicates()\n",
    "\n",
    "# distinct(select(df, col1, col2))   df[['col1', 'col2']].drop_duplicates()\n",
    "\n",
    "# sample_n(df, 10)                   df.sample(n=10)\n",
    "\n",
    "# sample_frac(df, 0.01)              df.sample(frac=0.01)"
   ]
  },
  {
   "cell_type": "markdown",
   "id": "7acd882c",
   "metadata": {},
   "source": [
    "## 2. Ordenar"
   ]
  },
  {
   "cell_type": "code",
   "execution_count": 2,
   "id": "3e8d5172",
   "metadata": {},
   "outputs": [],
   "source": [
    "# R                               pandas\n",
    "\n",
    "# arrange(df, col1, col2)        df.sort_values(['col1', 'col2'])\n",
    "\n",
    "# arrange(df, desc(col1))        df.sort_values('col1', ascending=False)"
   ]
  },
  {
   "cell_type": "markdown",
   "id": "d936dd5d",
   "metadata": {},
   "source": [
    "## 3. Transformar / Renombrar"
   ]
  },
  {
   "cell_type": "code",
   "execution_count": 3,
   "id": "01cd56f2",
   "metadata": {},
   "outputs": [],
   "source": [
    "# R                                                       pandas\n",
    "\n",
    "# select(df, col_one = col1)              df.rename(columns={'col1': 'col_one'})['col_one']\n",
    "\n",
    "# rename(df, col_one = col1)              df.rename(columns={'col1': 'col_one'})\n",
    "\n",
    "# mutate(df, c=a-b)                       df.assign(c=df['a']-df['b'])"
   ]
  },
  {
   "cell_type": "markdown",
   "id": "c880a240",
   "metadata": {},
   "source": [
    "## 4. Agrupar y Resumir"
   ]
  },
  {
   "cell_type": "code",
   "execution_count": 4,
   "id": "c5b8d2a7",
   "metadata": {},
   "outputs": [],
   "source": [
    "# R                                                  pandas\n",
    "\n",
    "# summary(df)                                      df.describe()\n",
    "\n",
    "# gdf <- group_by(df, col1)                        gdf = df.groupby('col1')\n",
    "\n",
    "# summarise(gdf, avg=mean(col1, na.rm=TRUE))       df.groupby('col1').agg({'col1': 'mean'})\n",
    "\n",
    "# summarise(gdf, total=sum(col1))                  df.groupby('col1').sum()"
   ]
  },
  {
   "cell_type": "markdown",
   "id": "142b91b5",
   "metadata": {},
   "source": [
    "## 5. Seleccionar columnas"
   ]
  },
  {
   "cell_type": "code",
   "execution_count": 5,
   "id": "6d5a3343",
   "metadata": {},
   "outputs": [],
   "source": [
    "# En R podemos seleccionar columnas por nombres utlizando un vector \"c\" c(\"a\", \"c\", \"e\") o \n",
    "# con números utilizando slicing, df[, c(1:10, 25:30, 40, 50:100)]\n",
    "\n",
    "# Por nombres: \n",
    "# df <- data.frame(a=rnorm(5), b=rnorm(5), c=rnorm(5), d=rnorm(5), e=rnorm(5))\n",
    "# df[, c(\"a\", \"c\", \"e\")]\n",
    "\n",
    "# Por número de columna (slicing)\n",
    "# df <- data.frame(matrix(rnorm(1000), ncol=100))\n",
    "# df[, c(1:10, 25:30, 40, 50:100)]\n",
    "\n",
    "###########################\n",
    "\n",
    "# En Pandas, podemos seleccionar las columnas por el nombre con una lista [col1, col2], \n",
    "# o haciendo slicing con .iloc [1:10, 24:30] ademas de ello, podemos utilizar la funcion \".loc\" (label location) \n",
    "\n",
    "# Por nombre (seleccion basica)\n",
    "# df[[\"a\", \"c\"]]\n",
    "\n",
    "# Con slicing utilizando .iloc\n",
    "# df.iloc[1:5, [:10, 24:30]]\n",
    "\n",
    "# Por etiquetas utilizando .loc\n",
    "# df.loc[:, [\"a\", \"c\"]]"
   ]
  },
  {
   "cell_type": "markdown",
   "id": "9d057f54",
   "metadata": {},
   "source": [
    "## 6. Seleccion por contenido (match) %in% y isin()"
   ]
  },
  {
   "cell_type": "code",
   "execution_count": 6,
   "id": "1e0a4680",
   "metadata": {},
   "outputs": [],
   "source": [
    "# En R, para conocer si un elemento contiene un dato o valor especifico se utiliza \"%in%\"\n",
    "# s <- 0:4\n",
    "# s %in% c(2,4)\n",
    "\n",
    "################\n",
    "\n",
    "# En pandas se utiliza el metodo \"isin()\"\n",
    "# s = pd.Series(np.arange(5), dtype=np.float32)\n",
    "# s.isin([2, 4])"
   ]
  },
  {
   "cell_type": "markdown",
   "id": "ac7484d2",
   "metadata": {},
   "source": [
    "## 7. Selecciones por subconjunto (subset) - subset y query()"
   ]
  },
  {
   "cell_type": "code",
   "execution_count": 7,
   "id": "9585cb0a",
   "metadata": {},
   "outputs": [],
   "source": [
    "# En R existe una funcion directamente denomina \"subset\" que permite hacer selecciones en base a una condicion\n",
    "# df <- data.frame(a=rnorm(10), b=rnorm(10))\n",
    "# subset(df, a <= b)\n",
    "# df[df$a <= df$b,]  # note the comma\n",
    "\n",
    "#########################\n",
    "\n",
    "# El metodo equivalente en pandas es \"query()\"\n",
    "# df = pd.DataFrame({\"a\": np.random.randn(10), \"b\": np.random.randn(10)})\n",
    "# df.query(\"a <= b\")\n",
    "# df[df[\"a\"] <= df[\"b\"]]\n",
    "# Podemos hacer lo mismo con \".iloc\": df.loc[df[\"a\"] <= df[\"b\"]]"
   ]
  }
 ],
 "metadata": {
  "kernelspec": {
   "display_name": "Python 3 (ipykernel)",
   "language": "python",
   "name": "python3"
  },
  "language_info": {
   "codemirror_mode": {
    "name": "ipython",
    "version": 3
   },
   "file_extension": ".py",
   "mimetype": "text/x-python",
   "name": "python",
   "nbconvert_exporter": "python",
   "pygments_lexer": "ipython3",
   "version": "3.9.12"
  }
 },
 "nbformat": 4,
 "nbformat_minor": 5
}
