{
 "cells": [
  {
   "cell_type": "markdown",
   "id": "f3ecc314",
   "metadata": {},
   "source": [
    "# Actualizar filas y columnas en Series y Data Frame"
   ]
  },
  {
   "cell_type": "code",
   "execution_count": 1,
   "id": "3b7823dd",
   "metadata": {},
   "outputs": [],
   "source": [
    "import numpy as np\n",
    "import pandas as pd"
   ]
  },
  {
   "cell_type": "code",
   "execution_count": 2,
   "id": "cd2137e1",
   "metadata": {},
   "outputs": [],
   "source": [
    "# Vamos a crear un diccionario para utilizarlo como ejemplo\n",
    "people = {\n",
    "    \"first\":[\"Andres\", \"Omar\", \"Miguel\"],\n",
    "    \"last\":[\"Galarraga\", \"Vizquel\", \"Cabrera\"],\n",
    "    \"email\":[\"andres@gmail.com\", \"omar@email.com\", \"miguel@email.com\"]\n",
    "}"
   ]
  },
  {
   "cell_type": "code",
   "execution_count": 3,
   "id": "f8793c7f",
   "metadata": {},
   "outputs": [],
   "source": [
    "df = pd.DataFrame(people)"
   ]
  },
  {
   "cell_type": "code",
   "execution_count": 4,
   "id": "fb816704",
   "metadata": {},
   "outputs": [
    {
     "data": {
      "text/html": [
       "<div>\n",
       "<style scoped>\n",
       "    .dataframe tbody tr th:only-of-type {\n",
       "        vertical-align: middle;\n",
       "    }\n",
       "\n",
       "    .dataframe tbody tr th {\n",
       "        vertical-align: top;\n",
       "    }\n",
       "\n",
       "    .dataframe thead th {\n",
       "        text-align: right;\n",
       "    }\n",
       "</style>\n",
       "<table border=\"1\" class=\"dataframe\">\n",
       "  <thead>\n",
       "    <tr style=\"text-align: right;\">\n",
       "      <th></th>\n",
       "      <th>first</th>\n",
       "      <th>last</th>\n",
       "      <th>email</th>\n",
       "    </tr>\n",
       "  </thead>\n",
       "  <tbody>\n",
       "    <tr>\n",
       "      <th>0</th>\n",
       "      <td>Andres</td>\n",
       "      <td>Galarraga</td>\n",
       "      <td>andres@gmail.com</td>\n",
       "    </tr>\n",
       "    <tr>\n",
       "      <th>1</th>\n",
       "      <td>Omar</td>\n",
       "      <td>Vizquel</td>\n",
       "      <td>omar@email.com</td>\n",
       "    </tr>\n",
       "    <tr>\n",
       "      <th>2</th>\n",
       "      <td>Miguel</td>\n",
       "      <td>Cabrera</td>\n",
       "      <td>miguel@email.com</td>\n",
       "    </tr>\n",
       "  </tbody>\n",
       "</table>\n",
       "</div>"
      ],
      "text/plain": [
       "    first       last             email\n",
       "0  Andres  Galarraga  andres@gmail.com\n",
       "1    Omar    Vizquel    omar@email.com\n",
       "2  Miguel    Cabrera  miguel@email.com"
      ]
     },
     "execution_count": 4,
     "metadata": {},
     "output_type": "execute_result"
    }
   ],
   "source": [
    "df"
   ]
  },
  {
   "cell_type": "code",
   "execution_count": 5,
   "id": "e31a5913",
   "metadata": {},
   "outputs": [
    {
     "data": {
      "text/plain": [
       "Index(['first', 'last', 'email'], dtype='object')"
      ]
     },
     "execution_count": 5,
     "metadata": {},
     "output_type": "execute_result"
    }
   ],
   "source": [
    "# Para ver las columnas, utilizamos el método df.columns\n",
    "df.columns"
   ]
  },
  {
   "cell_type": "markdown",
   "id": "38661a9e",
   "metadata": {},
   "source": [
    "## ¿Cómo cambiar/actualizar el nombre de una columna?"
   ]
  },
  {
   "cell_type": "markdown",
   "id": "c73b0ee8",
   "metadata": {},
   "source": [
    "### 1. Utilizamos el metodo \"columns\" y pasamos una lista con los nombres nuevos"
   ]
  },
  {
   "cell_type": "code",
   "execution_count": 33,
   "id": "0a9c5c1c",
   "metadata": {},
   "outputs": [],
   "source": [
    "df.columns = ['nombre_first', 'apellido_last', 'correo_email']"
   ]
  },
  {
   "cell_type": "code",
   "execution_count": 34,
   "id": "b7fe5910",
   "metadata": {},
   "outputs": [
    {
     "data": {
      "text/html": [
       "<div>\n",
       "<style scoped>\n",
       "    .dataframe tbody tr th:only-of-type {\n",
       "        vertical-align: middle;\n",
       "    }\n",
       "\n",
       "    .dataframe tbody tr th {\n",
       "        vertical-align: top;\n",
       "    }\n",
       "\n",
       "    .dataframe thead th {\n",
       "        text-align: right;\n",
       "    }\n",
       "</style>\n",
       "<table border=\"1\" class=\"dataframe\">\n",
       "  <thead>\n",
       "    <tr style=\"text-align: right;\">\n",
       "      <th></th>\n",
       "      <th>nombre_first</th>\n",
       "      <th>apellido_last</th>\n",
       "      <th>correo_email</th>\n",
       "    </tr>\n",
       "  </thead>\n",
       "  <tbody>\n",
       "    <tr>\n",
       "      <th>0</th>\n",
       "      <td>Andres</td>\n",
       "      <td>Galarraga</td>\n",
       "      <td>andres@gmail.com</td>\n",
       "    </tr>\n",
       "    <tr>\n",
       "      <th>1</th>\n",
       "      <td>Omar</td>\n",
       "      <td>Vizquel</td>\n",
       "      <td>omar@email.com</td>\n",
       "    </tr>\n",
       "    <tr>\n",
       "      <th>2</th>\n",
       "      <td>Miguel</td>\n",
       "      <td>Cabrera</td>\n",
       "      <td>bobabreu@email.com</td>\n",
       "    </tr>\n",
       "  </tbody>\n",
       "</table>\n",
       "</div>"
      ],
      "text/plain": [
       "  nombre_first apellido_last        correo_email\n",
       "0       Andres     Galarraga    andres@gmail.com\n",
       "1         Omar       Vizquel      omar@email.com\n",
       "2       Miguel       Cabrera  bobabreu@email.com"
      ]
     },
     "execution_count": 34,
     "metadata": {},
     "output_type": "execute_result"
    }
   ],
   "source": [
    "df"
   ]
  },
  {
   "cell_type": "markdown",
   "id": "56a1f05b",
   "metadata": {},
   "source": [
    "### 2. Cambiar elementos particulares del nombre de cada columna (mayusculas, minusculas, guiones, etc)"
   ]
  },
  {
   "cell_type": "code",
   "execution_count": 14,
   "id": "051d261f",
   "metadata": {},
   "outputs": [],
   "source": [
    "# Podemos pasar los nombres de las columnas a mayusculas con un bucle FOR y el metodo \"upper\"\n",
    "df.columns = [x.upper() for x in df.columns]"
   ]
  },
  {
   "cell_type": "code",
   "execution_count": 15,
   "id": "fc56376d",
   "metadata": {},
   "outputs": [
    {
     "data": {
      "text/html": [
       "<div>\n",
       "<style scoped>\n",
       "    .dataframe tbody tr th:only-of-type {\n",
       "        vertical-align: middle;\n",
       "    }\n",
       "\n",
       "    .dataframe tbody tr th {\n",
       "        vertical-align: top;\n",
       "    }\n",
       "\n",
       "    .dataframe thead th {\n",
       "        text-align: right;\n",
       "    }\n",
       "</style>\n",
       "<table border=\"1\" class=\"dataframe\">\n",
       "  <thead>\n",
       "    <tr style=\"text-align: right;\">\n",
       "      <th></th>\n",
       "      <th>NOMBRE_FIRST</th>\n",
       "      <th>APELLIDO_LAST</th>\n",
       "      <th>CORREO_EMAIL</th>\n",
       "    </tr>\n",
       "  </thead>\n",
       "  <tbody>\n",
       "    <tr>\n",
       "      <th>0</th>\n",
       "      <td>Andres</td>\n",
       "      <td>Galarraga</td>\n",
       "      <td>andres@gmail.com</td>\n",
       "    </tr>\n",
       "    <tr>\n",
       "      <th>1</th>\n",
       "      <td>Omar</td>\n",
       "      <td>Vizquel</td>\n",
       "      <td>omar@email.com</td>\n",
       "    </tr>\n",
       "    <tr>\n",
       "      <th>2</th>\n",
       "      <td>Miguel</td>\n",
       "      <td>Cabrera</td>\n",
       "      <td>miguel@email.com</td>\n",
       "    </tr>\n",
       "  </tbody>\n",
       "</table>\n",
       "</div>"
      ],
      "text/plain": [
       "  NOMBRE_FIRST APELLIDO_LAST      CORREO_EMAIL\n",
       "0       Andres     Galarraga  andres@gmail.com\n",
       "1         Omar       Vizquel    omar@email.com\n",
       "2       Miguel       Cabrera  miguel@email.com"
      ]
     },
     "execution_count": 15,
     "metadata": {},
     "output_type": "execute_result"
    }
   ],
   "source": [
    "df"
   ]
  },
  {
   "cell_type": "code",
   "execution_count": 20,
   "id": "7049d083",
   "metadata": {},
   "outputs": [],
   "source": [
    "# Podemos cambiar el guion bajo, por un guion comun en el nombre, utilizando un metodo \"str.replace\"\n",
    "df.columns = df.columns.str.replace('_', '-')"
   ]
  },
  {
   "cell_type": "code",
   "execution_count": 21,
   "id": "726e4ca5",
   "metadata": {},
   "outputs": [
    {
     "data": {
      "text/html": [
       "<div>\n",
       "<style scoped>\n",
       "    .dataframe tbody tr th:only-of-type {\n",
       "        vertical-align: middle;\n",
       "    }\n",
       "\n",
       "    .dataframe tbody tr th {\n",
       "        vertical-align: top;\n",
       "    }\n",
       "\n",
       "    .dataframe thead th {\n",
       "        text-align: right;\n",
       "    }\n",
       "</style>\n",
       "<table border=\"1\" class=\"dataframe\">\n",
       "  <thead>\n",
       "    <tr style=\"text-align: right;\">\n",
       "      <th></th>\n",
       "      <th>NOMBRE-FIRST</th>\n",
       "      <th>APELLIDO-LAST</th>\n",
       "      <th>CORREO-EMAIL</th>\n",
       "    </tr>\n",
       "  </thead>\n",
       "  <tbody>\n",
       "    <tr>\n",
       "      <th>0</th>\n",
       "      <td>Andres</td>\n",
       "      <td>Galarraga</td>\n",
       "      <td>andres@gmail.com</td>\n",
       "    </tr>\n",
       "    <tr>\n",
       "      <th>1</th>\n",
       "      <td>Omar</td>\n",
       "      <td>Vizquel</td>\n",
       "      <td>omar@email.com</td>\n",
       "    </tr>\n",
       "    <tr>\n",
       "      <th>2</th>\n",
       "      <td>Miguel</td>\n",
       "      <td>Cabrera</td>\n",
       "      <td>miguel@email.com</td>\n",
       "    </tr>\n",
       "  </tbody>\n",
       "</table>\n",
       "</div>"
      ],
      "text/plain": [
       "  NOMBRE-FIRST APELLIDO-LAST      CORREO-EMAIL\n",
       "0       Andres     Galarraga  andres@gmail.com\n",
       "1         Omar       Vizquel    omar@email.com\n",
       "2       Miguel       Cabrera  miguel@email.com"
      ]
     },
     "execution_count": 21,
     "metadata": {},
     "output_type": "execute_result"
    }
   ],
   "source": [
    "df"
   ]
  },
  {
   "cell_type": "code",
   "execution_count": 22,
   "id": "575cf0e3",
   "metadata": {},
   "outputs": [],
   "source": [
    "# Vamos a cambiar nuevamente el nombre de las columnas a minusculas\n",
    "df.columns = [x.lower() for x in df.columns]"
   ]
  },
  {
   "cell_type": "code",
   "execution_count": 23,
   "id": "b2f1486f",
   "metadata": {},
   "outputs": [],
   "source": [
    "# Y ponerle el guion bajo\n",
    "df.columns = df.columns.str.replace('-', '_')"
   ]
  },
  {
   "cell_type": "code",
   "execution_count": 24,
   "id": "ea5dcce9",
   "metadata": {},
   "outputs": [
    {
     "data": {
      "text/html": [
       "<div>\n",
       "<style scoped>\n",
       "    .dataframe tbody tr th:only-of-type {\n",
       "        vertical-align: middle;\n",
       "    }\n",
       "\n",
       "    .dataframe tbody tr th {\n",
       "        vertical-align: top;\n",
       "    }\n",
       "\n",
       "    .dataframe thead th {\n",
       "        text-align: right;\n",
       "    }\n",
       "</style>\n",
       "<table border=\"1\" class=\"dataframe\">\n",
       "  <thead>\n",
       "    <tr style=\"text-align: right;\">\n",
       "      <th></th>\n",
       "      <th>nombre_first</th>\n",
       "      <th>apellido_last</th>\n",
       "      <th>correo_email</th>\n",
       "    </tr>\n",
       "  </thead>\n",
       "  <tbody>\n",
       "    <tr>\n",
       "      <th>0</th>\n",
       "      <td>Andres</td>\n",
       "      <td>Galarraga</td>\n",
       "      <td>andres@gmail.com</td>\n",
       "    </tr>\n",
       "    <tr>\n",
       "      <th>1</th>\n",
       "      <td>Omar</td>\n",
       "      <td>Vizquel</td>\n",
       "      <td>omar@email.com</td>\n",
       "    </tr>\n",
       "    <tr>\n",
       "      <th>2</th>\n",
       "      <td>Miguel</td>\n",
       "      <td>Cabrera</td>\n",
       "      <td>miguel@email.com</td>\n",
       "    </tr>\n",
       "  </tbody>\n",
       "</table>\n",
       "</div>"
      ],
      "text/plain": [
       "  nombre_first apellido_last      correo_email\n",
       "0       Andres     Galarraga  andres@gmail.com\n",
       "1         Omar       Vizquel    omar@email.com\n",
       "2       Miguel       Cabrera  miguel@email.com"
      ]
     },
     "execution_count": 24,
     "metadata": {},
     "output_type": "execute_result"
    }
   ],
   "source": [
    "df"
   ]
  },
  {
   "cell_type": "markdown",
   "id": "e5269f4e",
   "metadata": {},
   "source": [
    "### 3. Cambiar el nombre o caracteristicas de una sola columna - df.rename()"
   ]
  },
  {
   "cell_type": "code",
   "execution_count": 25,
   "id": "fa6bfec0",
   "metadata": {},
   "outputs": [],
   "source": [
    "# Podemos cambiar los nombres utilizando un diccionario key (nombre viejo): value (nombre nuevo)\n",
    "# Para que el metodo se aplique, debemos utilizar \"inplace=True\"\n",
    "df.rename(columns = {'nombre_first': 'first', 'apellido_last': 'last'}, inplace=True)"
   ]
  },
  {
   "cell_type": "code",
   "execution_count": 26,
   "id": "b0d856d8",
   "metadata": {},
   "outputs": [
    {
     "data": {
      "text/html": [
       "<div>\n",
       "<style scoped>\n",
       "    .dataframe tbody tr th:only-of-type {\n",
       "        vertical-align: middle;\n",
       "    }\n",
       "\n",
       "    .dataframe tbody tr th {\n",
       "        vertical-align: top;\n",
       "    }\n",
       "\n",
       "    .dataframe thead th {\n",
       "        text-align: right;\n",
       "    }\n",
       "</style>\n",
       "<table border=\"1\" class=\"dataframe\">\n",
       "  <thead>\n",
       "    <tr style=\"text-align: right;\">\n",
       "      <th></th>\n",
       "      <th>first</th>\n",
       "      <th>last</th>\n",
       "      <th>correo_email</th>\n",
       "    </tr>\n",
       "  </thead>\n",
       "  <tbody>\n",
       "    <tr>\n",
       "      <th>0</th>\n",
       "      <td>Andres</td>\n",
       "      <td>Galarraga</td>\n",
       "      <td>andres@gmail.com</td>\n",
       "    </tr>\n",
       "    <tr>\n",
       "      <th>1</th>\n",
       "      <td>Omar</td>\n",
       "      <td>Vizquel</td>\n",
       "      <td>omar@email.com</td>\n",
       "    </tr>\n",
       "    <tr>\n",
       "      <th>2</th>\n",
       "      <td>Miguel</td>\n",
       "      <td>Cabrera</td>\n",
       "      <td>miguel@email.com</td>\n",
       "    </tr>\n",
       "  </tbody>\n",
       "</table>\n",
       "</div>"
      ],
      "text/plain": [
       "    first       last      correo_email\n",
       "0  Andres  Galarraga  andres@gmail.com\n",
       "1    Omar    Vizquel    omar@email.com\n",
       "2  Miguel    Cabrera  miguel@email.com"
      ]
     },
     "execution_count": 26,
     "metadata": {},
     "output_type": "execute_result"
    }
   ],
   "source": [
    "df"
   ]
  },
  {
   "cell_type": "code",
   "execution_count": 27,
   "id": "dbef195e",
   "metadata": {},
   "outputs": [
    {
     "data": {
      "text/html": [
       "<div>\n",
       "<style scoped>\n",
       "    .dataframe tbody tr th:only-of-type {\n",
       "        vertical-align: middle;\n",
       "    }\n",
       "\n",
       "    .dataframe tbody tr th {\n",
       "        vertical-align: top;\n",
       "    }\n",
       "\n",
       "    .dataframe thead th {\n",
       "        text-align: right;\n",
       "    }\n",
       "</style>\n",
       "<table border=\"1\" class=\"dataframe\">\n",
       "  <thead>\n",
       "    <tr style=\"text-align: right;\">\n",
       "      <th></th>\n",
       "      <th>first</th>\n",
       "      <th>last</th>\n",
       "      <th>email</th>\n",
       "    </tr>\n",
       "  </thead>\n",
       "  <tbody>\n",
       "    <tr>\n",
       "      <th>0</th>\n",
       "      <td>Andres</td>\n",
       "      <td>Galarraga</td>\n",
       "      <td>andres@gmail.com</td>\n",
       "    </tr>\n",
       "    <tr>\n",
       "      <th>1</th>\n",
       "      <td>Omar</td>\n",
       "      <td>Vizquel</td>\n",
       "      <td>omar@email.com</td>\n",
       "    </tr>\n",
       "    <tr>\n",
       "      <th>2</th>\n",
       "      <td>Miguel</td>\n",
       "      <td>Cabrera</td>\n",
       "      <td>miguel@email.com</td>\n",
       "    </tr>\n",
       "  </tbody>\n",
       "</table>\n",
       "</div>"
      ],
      "text/plain": [
       "    first       last             email\n",
       "0  Andres  Galarraga  andres@gmail.com\n",
       "1    Omar    Vizquel    omar@email.com\n",
       "2  Miguel    Cabrera  miguel@email.com"
      ]
     },
     "execution_count": 27,
     "metadata": {},
     "output_type": "execute_result"
    }
   ],
   "source": [
    "# Hagamos lo mismo para la ultima columna\n",
    "df.rename(columns = {'correo_email':'email'}, inplace = True)\n",
    "df"
   ]
  },
  {
   "cell_type": "markdown",
   "id": "080ad3d6",
   "metadata": {},
   "source": [
    "## ¿Cómo cambiar/actualizar valores de una fila?"
   ]
  },
  {
   "cell_type": "markdown",
   "id": "e30b42c2",
   "metadata": {},
   "source": [
    "### 1. Cambiar los valores de una fila, utilizando una lista"
   ]
  },
  {
   "cell_type": "code",
   "execution_count": 28,
   "id": "63cc0b4a",
   "metadata": {},
   "outputs": [
    {
     "data": {
      "text/plain": [
       "first              Miguel\n",
       "last              Cabrera\n",
       "email    miguel@email.com\n",
       "Name: 2, dtype: object"
      ]
     },
     "execution_count": 28,
     "metadata": {},
     "output_type": "execute_result"
    }
   ],
   "source": [
    "# Podemos seleccionar la fila, y pasar una lista con los valores nuevos\n",
    "df.loc[2]"
   ]
  },
  {
   "cell_type": "code",
   "execution_count": 29,
   "id": "49d82d9a",
   "metadata": {},
   "outputs": [],
   "source": [
    "df.loc[2] = ['Bob', 'Abreu', 'bobabreu@email.com']"
   ]
  },
  {
   "cell_type": "code",
   "execution_count": 30,
   "id": "b0a25737",
   "metadata": {},
   "outputs": [
    {
     "data": {
      "text/html": [
       "<div>\n",
       "<style scoped>\n",
       "    .dataframe tbody tr th:only-of-type {\n",
       "        vertical-align: middle;\n",
       "    }\n",
       "\n",
       "    .dataframe tbody tr th {\n",
       "        vertical-align: top;\n",
       "    }\n",
       "\n",
       "    .dataframe thead th {\n",
       "        text-align: right;\n",
       "    }\n",
       "</style>\n",
       "<table border=\"1\" class=\"dataframe\">\n",
       "  <thead>\n",
       "    <tr style=\"text-align: right;\">\n",
       "      <th></th>\n",
       "      <th>first</th>\n",
       "      <th>last</th>\n",
       "      <th>email</th>\n",
       "    </tr>\n",
       "  </thead>\n",
       "  <tbody>\n",
       "    <tr>\n",
       "      <th>0</th>\n",
       "      <td>Andres</td>\n",
       "      <td>Galarraga</td>\n",
       "      <td>andres@gmail.com</td>\n",
       "    </tr>\n",
       "    <tr>\n",
       "      <th>1</th>\n",
       "      <td>Omar</td>\n",
       "      <td>Vizquel</td>\n",
       "      <td>omar@email.com</td>\n",
       "    </tr>\n",
       "    <tr>\n",
       "      <th>2</th>\n",
       "      <td>Bob</td>\n",
       "      <td>Abreu</td>\n",
       "      <td>bobabreu@email.com</td>\n",
       "    </tr>\n",
       "  </tbody>\n",
       "</table>\n",
       "</div>"
      ],
      "text/plain": [
       "    first       last               email\n",
       "0  Andres  Galarraga    andres@gmail.com\n",
       "1    Omar    Vizquel      omar@email.com\n",
       "2     Bob      Abreu  bobabreu@email.com"
      ]
     },
     "execution_count": 30,
     "metadata": {},
     "output_type": "execute_result"
    }
   ],
   "source": [
    "df"
   ]
  },
  {
   "cell_type": "markdown",
   "id": "6c335113",
   "metadata": {},
   "source": [
    "### 2. Cambiar varios los valores de una fila, seleccionando columnas especificas con .loc"
   ]
  },
  {
   "cell_type": "code",
   "execution_count": 35,
   "id": "dae4a96f",
   "metadata": {},
   "outputs": [],
   "source": [
    "# Podemos hacer cambios en columnas especificas, selecionandolas con \".loc\" [fila, columna]\n",
    "df.loc[2, ['first', 'last']] = ['Miguel', 'Cabrera']"
   ]
  },
  {
   "cell_type": "code",
   "execution_count": 37,
   "id": "22e49d2a",
   "metadata": {},
   "outputs": [
    {
     "data": {
      "text/html": [
       "<div>\n",
       "<style scoped>\n",
       "    .dataframe tbody tr th:only-of-type {\n",
       "        vertical-align: middle;\n",
       "    }\n",
       "\n",
       "    .dataframe tbody tr th {\n",
       "        vertical-align: top;\n",
       "    }\n",
       "\n",
       "    .dataframe thead th {\n",
       "        text-align: right;\n",
       "    }\n",
       "</style>\n",
       "<table border=\"1\" class=\"dataframe\">\n",
       "  <thead>\n",
       "    <tr style=\"text-align: right;\">\n",
       "      <th></th>\n",
       "      <th>nombre_first</th>\n",
       "      <th>apellido_last</th>\n",
       "      <th>correo_email</th>\n",
       "      <th>first</th>\n",
       "      <th>last</th>\n",
       "    </tr>\n",
       "  </thead>\n",
       "  <tbody>\n",
       "    <tr>\n",
       "      <th>0</th>\n",
       "      <td>Andres</td>\n",
       "      <td>Galarraga</td>\n",
       "      <td>andres@gmail.com</td>\n",
       "      <td>NaN</td>\n",
       "      <td>NaN</td>\n",
       "    </tr>\n",
       "    <tr>\n",
       "      <th>1</th>\n",
       "      <td>Omar</td>\n",
       "      <td>Vizquel</td>\n",
       "      <td>omar@email.com</td>\n",
       "      <td>NaN</td>\n",
       "      <td>NaN</td>\n",
       "    </tr>\n",
       "    <tr>\n",
       "      <th>2</th>\n",
       "      <td>Miguel</td>\n",
       "      <td>Cabrera</td>\n",
       "      <td>bobabreu@email.com</td>\n",
       "      <td>Miguel</td>\n",
       "      <td>Cabrera</td>\n",
       "    </tr>\n",
       "  </tbody>\n",
       "</table>\n",
       "</div>"
      ],
      "text/plain": [
       "  nombre_first apellido_last        correo_email   first     last\n",
       "0       Andres     Galarraga    andres@gmail.com     NaN      NaN\n",
       "1         Omar       Vizquel      omar@email.com     NaN      NaN\n",
       "2       Miguel       Cabrera  bobabreu@email.com  Miguel  Cabrera"
      ]
     },
     "execution_count": 37,
     "metadata": {},
     "output_type": "execute_result"
    }
   ],
   "source": [
    "df"
   ]
  },
  {
   "cell_type": "code",
   "execution_count": 41,
   "id": "110650ec",
   "metadata": {},
   "outputs": [],
   "source": [
    "df.rename(columns = {'nombre_first': 'first', 'apellido_last': 'last', 'correo_email': 'email'}, inplace=True)"
   ]
  },
  {
   "cell_type": "code",
   "execution_count": 42,
   "id": "5ba9e0f0",
   "metadata": {},
   "outputs": [
    {
     "data": {
      "text/html": [
       "<div>\n",
       "<style scoped>\n",
       "    .dataframe tbody tr th:only-of-type {\n",
       "        vertical-align: middle;\n",
       "    }\n",
       "\n",
       "    .dataframe tbody tr th {\n",
       "        vertical-align: top;\n",
       "    }\n",
       "\n",
       "    .dataframe thead th {\n",
       "        text-align: right;\n",
       "    }\n",
       "</style>\n",
       "<table border=\"1\" class=\"dataframe\">\n",
       "  <thead>\n",
       "    <tr style=\"text-align: right;\">\n",
       "      <th></th>\n",
       "      <th>first</th>\n",
       "      <th>last</th>\n",
       "      <th>email</th>\n",
       "    </tr>\n",
       "  </thead>\n",
       "  <tbody>\n",
       "    <tr>\n",
       "      <th>0</th>\n",
       "      <td>Andres</td>\n",
       "      <td>Galarraga</td>\n",
       "      <td>andres@gmail.com</td>\n",
       "    </tr>\n",
       "    <tr>\n",
       "      <th>1</th>\n",
       "      <td>Omar</td>\n",
       "      <td>Vizquel</td>\n",
       "      <td>omar@email.com</td>\n",
       "    </tr>\n",
       "    <tr>\n",
       "      <th>2</th>\n",
       "      <td>Miguel</td>\n",
       "      <td>Cabrera</td>\n",
       "      <td>bobabreu@email.com</td>\n",
       "    </tr>\n",
       "  </tbody>\n",
       "</table>\n",
       "</div>"
      ],
      "text/plain": [
       "    first       last               email\n",
       "0  Andres  Galarraga    andres@gmail.com\n",
       "1    Omar    Vizquel      omar@email.com\n",
       "2  Miguel    Cabrera  bobabreu@email.com"
      ]
     },
     "execution_count": 42,
     "metadata": {},
     "output_type": "execute_result"
    }
   ],
   "source": [
    "df"
   ]
  },
  {
   "cell_type": "markdown",
   "id": "f37fccee",
   "metadata": {},
   "source": [
    "### 3. Cambiar un solo valor de una fila con .loc"
   ]
  },
  {
   "cell_type": "code",
   "execution_count": 47,
   "id": "ad410938",
   "metadata": {},
   "outputs": [],
   "source": [
    "#Seleccionamos la fila y la columna con df.loc [fila, columna]\n",
    "df.loc[2, 'email'] = 'miguel@email.com' \n",
    "\n",
    "# Para cambiar un solo valor tambien podemos utilizar el metodo \"df.at\", pero el resultado y la sintaxis son identicas\n",
    "# df.at[2, 'email'] = 'miguel@email.com' "
   ]
  },
  {
   "cell_type": "code",
   "execution_count": 46,
   "id": "02df6f5b",
   "metadata": {},
   "outputs": [
    {
     "data": {
      "text/html": [
       "<div>\n",
       "<style scoped>\n",
       "    .dataframe tbody tr th:only-of-type {\n",
       "        vertical-align: middle;\n",
       "    }\n",
       "\n",
       "    .dataframe tbody tr th {\n",
       "        vertical-align: top;\n",
       "    }\n",
       "\n",
       "    .dataframe thead th {\n",
       "        text-align: right;\n",
       "    }\n",
       "</style>\n",
       "<table border=\"1\" class=\"dataframe\">\n",
       "  <thead>\n",
       "    <tr style=\"text-align: right;\">\n",
       "      <th></th>\n",
       "      <th>first</th>\n",
       "      <th>last</th>\n",
       "      <th>email</th>\n",
       "    </tr>\n",
       "  </thead>\n",
       "  <tbody>\n",
       "    <tr>\n",
       "      <th>0</th>\n",
       "      <td>Andres</td>\n",
       "      <td>Galarraga</td>\n",
       "      <td>andres@gmail.com</td>\n",
       "    </tr>\n",
       "    <tr>\n",
       "      <th>1</th>\n",
       "      <td>Omar</td>\n",
       "      <td>Vizquel</td>\n",
       "      <td>omar@email.com</td>\n",
       "    </tr>\n",
       "    <tr>\n",
       "      <th>2</th>\n",
       "      <td>Miguel</td>\n",
       "      <td>Cabrera</td>\n",
       "      <td>miguel@email.com</td>\n",
       "    </tr>\n",
       "  </tbody>\n",
       "</table>\n",
       "</div>"
      ],
      "text/plain": [
       "    first       last             email\n",
       "0  Andres  Galarraga  andres@gmail.com\n",
       "1    Omar    Vizquel    omar@email.com\n",
       "2  Miguel    Cabrera  miguel@email.com"
      ]
     },
     "execution_count": 46,
     "metadata": {},
     "output_type": "execute_result"
    }
   ],
   "source": [
    "df"
   ]
  },
  {
   "cell_type": "markdown",
   "id": "216ef60f",
   "metadata": {},
   "source": [
    "### 4. Cambiar los valores de varias filas al mismo tiempo"
   ]
  },
  {
   "cell_type": "code",
   "execution_count": 50,
   "id": "ac2edae6",
   "metadata": {},
   "outputs": [],
   "source": [
    "# Para hacer cambios en varias filas, podemos utilizar metodos de \"str\"\n",
    "# Primero seleccionamos la columna, y luego aplicamos los cambios a todas las filas\n",
    "# Vamos a poner los apellidos en minuscula\n",
    "\n",
    "df['last'] = df['last'].str.lower()"
   ]
  },
  {
   "cell_type": "code",
   "execution_count": 51,
   "id": "7a130c52",
   "metadata": {},
   "outputs": [
    {
     "data": {
      "text/html": [
       "<div>\n",
       "<style scoped>\n",
       "    .dataframe tbody tr th:only-of-type {\n",
       "        vertical-align: middle;\n",
       "    }\n",
       "\n",
       "    .dataframe tbody tr th {\n",
       "        vertical-align: top;\n",
       "    }\n",
       "\n",
       "    .dataframe thead th {\n",
       "        text-align: right;\n",
       "    }\n",
       "</style>\n",
       "<table border=\"1\" class=\"dataframe\">\n",
       "  <thead>\n",
       "    <tr style=\"text-align: right;\">\n",
       "      <th></th>\n",
       "      <th>first</th>\n",
       "      <th>last</th>\n",
       "      <th>email</th>\n",
       "    </tr>\n",
       "  </thead>\n",
       "  <tbody>\n",
       "    <tr>\n",
       "      <th>0</th>\n",
       "      <td>Andres</td>\n",
       "      <td>galarraga</td>\n",
       "      <td>andres@gmail.com</td>\n",
       "    </tr>\n",
       "    <tr>\n",
       "      <th>1</th>\n",
       "      <td>Omar</td>\n",
       "      <td>vizquel</td>\n",
       "      <td>omar@email.com</td>\n",
       "    </tr>\n",
       "    <tr>\n",
       "      <th>2</th>\n",
       "      <td>Miguel</td>\n",
       "      <td>cabrera</td>\n",
       "      <td>miguel@email.com</td>\n",
       "    </tr>\n",
       "  </tbody>\n",
       "</table>\n",
       "</div>"
      ],
      "text/plain": [
       "    first       last             email\n",
       "0  Andres  galarraga  andres@gmail.com\n",
       "1    Omar    vizquel    omar@email.com\n",
       "2  Miguel    cabrera  miguel@email.com"
      ]
     },
     "execution_count": 51,
     "metadata": {},
     "output_type": "execute_result"
    }
   ],
   "source": [
    "df"
   ]
  },
  {
   "cell_type": "markdown",
   "id": "b9f50338",
   "metadata": {},
   "source": [
    "### 5. Metodos para realizar cambios a multiples filas en pandas\n",
    "\n",
    "#### 5.1 apply (funciona en Series/columnas)\n",
    "#### 5.2 applymap (funciona solo Data Frame)\n",
    "#### 5.3 map (funciona solo para Series)\n",
    "#### 5.4 replace"
   ]
  },
  {
   "cell_type": "markdown",
   "id": "737ffa11",
   "metadata": {},
   "source": [
    "### 5.1 apply()"
   ]
  },
  {
   "cell_type": "markdown",
   "id": "696a029e",
   "metadata": {},
   "source": [
    "#### Se utiliza para aplicar una funcion a todos los valores (filas), puede utilizarse en Series y Data Frame"
   ]
  },
  {
   "cell_type": "code",
   "execution_count": 53,
   "id": "87064d3c",
   "metadata": {},
   "outputs": [
    {
     "data": {
      "text/plain": [
       "0    16\n",
       "1    14\n",
       "2    16\n",
       "Name: email, dtype: int64"
      ]
     },
     "execution_count": 53,
     "metadata": {},
     "output_type": "execute_result"
    }
   ],
   "source": [
    "# apply() en Series\n",
    "# Podemos utilizar apply() para contar la cantidad de letras que tiene la direccion de email de cada registro (metodo \"len\")\n",
    "# df[columna].apply(metodo)\n",
    "df['email'].apply(len)"
   ]
  },
  {
   "cell_type": "code",
   "execution_count": 54,
   "id": "cb9a044c",
   "metadata": {},
   "outputs": [],
   "source": [
    "# Podemos escribir una funcion y luego pasarla con apply() a toda la columna\n",
    "# Crearemos una funcion para poner el email en mayuscula\n",
    "def update_email (email):\n",
    "    return email.upper()"
   ]
  },
  {
   "cell_type": "code",
   "execution_count": 55,
   "id": "58664aac",
   "metadata": {},
   "outputs": [
    {
     "data": {
      "text/plain": [
       "0    ANDRES@GMAIL.COM\n",
       "1      OMAR@EMAIL.COM\n",
       "2    MIGUEL@EMAIL.COM\n",
       "Name: email, dtype: object"
      ]
     },
     "execution_count": 55,
     "metadata": {},
     "output_type": "execute_result"
    }
   ],
   "source": [
    "df['email'].apply(update_email)"
   ]
  },
  {
   "cell_type": "code",
   "execution_count": 56,
   "id": "a2d81952",
   "metadata": {},
   "outputs": [],
   "source": [
    "# Para que la funcion se aplique al Data Frame, debemos sobrescribir la columna\n",
    "df['email'] = df['email'].apply(update_email)"
   ]
  },
  {
   "cell_type": "code",
   "execution_count": 57,
   "id": "4d9c1cb2",
   "metadata": {},
   "outputs": [
    {
     "data": {
      "text/html": [
       "<div>\n",
       "<style scoped>\n",
       "    .dataframe tbody tr th:only-of-type {\n",
       "        vertical-align: middle;\n",
       "    }\n",
       "\n",
       "    .dataframe tbody tr th {\n",
       "        vertical-align: top;\n",
       "    }\n",
       "\n",
       "    .dataframe thead th {\n",
       "        text-align: right;\n",
       "    }\n",
       "</style>\n",
       "<table border=\"1\" class=\"dataframe\">\n",
       "  <thead>\n",
       "    <tr style=\"text-align: right;\">\n",
       "      <th></th>\n",
       "      <th>first</th>\n",
       "      <th>last</th>\n",
       "      <th>email</th>\n",
       "    </tr>\n",
       "  </thead>\n",
       "  <tbody>\n",
       "    <tr>\n",
       "      <th>0</th>\n",
       "      <td>Andres</td>\n",
       "      <td>galarraga</td>\n",
       "      <td>ANDRES@GMAIL.COM</td>\n",
       "    </tr>\n",
       "    <tr>\n",
       "      <th>1</th>\n",
       "      <td>Omar</td>\n",
       "      <td>vizquel</td>\n",
       "      <td>OMAR@EMAIL.COM</td>\n",
       "    </tr>\n",
       "    <tr>\n",
       "      <th>2</th>\n",
       "      <td>Miguel</td>\n",
       "      <td>cabrera</td>\n",
       "      <td>MIGUEL@EMAIL.COM</td>\n",
       "    </tr>\n",
       "  </tbody>\n",
       "</table>\n",
       "</div>"
      ],
      "text/plain": [
       "    first       last             email\n",
       "0  Andres  galarraga  ANDRES@GMAIL.COM\n",
       "1    Omar    vizquel    OMAR@EMAIL.COM\n",
       "2  Miguel    cabrera  MIGUEL@EMAIL.COM"
      ]
     },
     "execution_count": 57,
     "metadata": {},
     "output_type": "execute_result"
    }
   ],
   "source": [
    "df"
   ]
  },
  {
   "cell_type": "code",
   "execution_count": 58,
   "id": "19680cb1",
   "metadata": {},
   "outputs": [],
   "source": [
    "# Otra forma de hacerlo, es aplicando funciones lambda\n",
    "# Podemos convertir los email de nuevo a minuscula con una funcion lambda\n",
    "df['email'] = df['email'].apply(lambda x: x.lower())"
   ]
  },
  {
   "cell_type": "code",
   "execution_count": 59,
   "id": "2978ecb6",
   "metadata": {},
   "outputs": [
    {
     "data": {
      "text/html": [
       "<div>\n",
       "<style scoped>\n",
       "    .dataframe tbody tr th:only-of-type {\n",
       "        vertical-align: middle;\n",
       "    }\n",
       "\n",
       "    .dataframe tbody tr th {\n",
       "        vertical-align: top;\n",
       "    }\n",
       "\n",
       "    .dataframe thead th {\n",
       "        text-align: right;\n",
       "    }\n",
       "</style>\n",
       "<table border=\"1\" class=\"dataframe\">\n",
       "  <thead>\n",
       "    <tr style=\"text-align: right;\">\n",
       "      <th></th>\n",
       "      <th>first</th>\n",
       "      <th>last</th>\n",
       "      <th>email</th>\n",
       "    </tr>\n",
       "  </thead>\n",
       "  <tbody>\n",
       "    <tr>\n",
       "      <th>0</th>\n",
       "      <td>Andres</td>\n",
       "      <td>galarraga</td>\n",
       "      <td>andres@gmail.com</td>\n",
       "    </tr>\n",
       "    <tr>\n",
       "      <th>1</th>\n",
       "      <td>Omar</td>\n",
       "      <td>vizquel</td>\n",
       "      <td>omar@email.com</td>\n",
       "    </tr>\n",
       "    <tr>\n",
       "      <th>2</th>\n",
       "      <td>Miguel</td>\n",
       "      <td>cabrera</td>\n",
       "      <td>miguel@email.com</td>\n",
       "    </tr>\n",
       "  </tbody>\n",
       "</table>\n",
       "</div>"
      ],
      "text/plain": [
       "    first       last             email\n",
       "0  Andres  galarraga  andres@gmail.com\n",
       "1    Omar    vizquel    omar@email.com\n",
       "2  Miguel    cabrera  miguel@email.com"
      ]
     },
     "execution_count": 59,
     "metadata": {},
     "output_type": "execute_result"
    }
   ],
   "source": [
    "df"
   ]
  },
  {
   "cell_type": "markdown",
   "id": "741d5a2c",
   "metadata": {},
   "source": [
    "### 5.2 applymap()"
   ]
  },
  {
   "cell_type": "markdown",
   "id": "e9055603",
   "metadata": {},
   "source": [
    "#### Se utiliza para aplicar operaciones o funciones, a todos los valores del Data Frame"
   ]
  },
  {
   "cell_type": "code",
   "execution_count": 60,
   "id": "5f37e614",
   "metadata": {},
   "outputs": [
    {
     "data": {
      "text/html": [
       "<div>\n",
       "<style scoped>\n",
       "    .dataframe tbody tr th:only-of-type {\n",
       "        vertical-align: middle;\n",
       "    }\n",
       "\n",
       "    .dataframe tbody tr th {\n",
       "        vertical-align: top;\n",
       "    }\n",
       "\n",
       "    .dataframe thead th {\n",
       "        text-align: right;\n",
       "    }\n",
       "</style>\n",
       "<table border=\"1\" class=\"dataframe\">\n",
       "  <thead>\n",
       "    <tr style=\"text-align: right;\">\n",
       "      <th></th>\n",
       "      <th>first</th>\n",
       "      <th>last</th>\n",
       "      <th>email</th>\n",
       "    </tr>\n",
       "  </thead>\n",
       "  <tbody>\n",
       "    <tr>\n",
       "      <th>0</th>\n",
       "      <td>6</td>\n",
       "      <td>9</td>\n",
       "      <td>16</td>\n",
       "    </tr>\n",
       "    <tr>\n",
       "      <th>1</th>\n",
       "      <td>4</td>\n",
       "      <td>7</td>\n",
       "      <td>14</td>\n",
       "    </tr>\n",
       "    <tr>\n",
       "      <th>2</th>\n",
       "      <td>6</td>\n",
       "      <td>7</td>\n",
       "      <td>16</td>\n",
       "    </tr>\n",
       "  </tbody>\n",
       "</table>\n",
       "</div>"
      ],
      "text/plain": [
       "   first  last  email\n",
       "0      6     9     16\n",
       "1      4     7     14\n",
       "2      6     7     16"
      ]
     },
     "execution_count": 60,
     "metadata": {},
     "output_type": "execute_result"
    }
   ],
   "source": [
    "# Por ejemplo, podemos aplicar la funcion \"len\" a todo el Data Frame y saber la longitud de todas las palabras\n",
    "df.applymap(len)"
   ]
  },
  {
   "cell_type": "code",
   "execution_count": 61,
   "id": "236a4684",
   "metadata": {},
   "outputs": [
    {
     "data": {
      "text/html": [
       "<div>\n",
       "<style scoped>\n",
       "    .dataframe tbody tr th:only-of-type {\n",
       "        vertical-align: middle;\n",
       "    }\n",
       "\n",
       "    .dataframe tbody tr th {\n",
       "        vertical-align: top;\n",
       "    }\n",
       "\n",
       "    .dataframe thead th {\n",
       "        text-align: right;\n",
       "    }\n",
       "</style>\n",
       "<table border=\"1\" class=\"dataframe\">\n",
       "  <thead>\n",
       "    <tr style=\"text-align: right;\">\n",
       "      <th></th>\n",
       "      <th>first</th>\n",
       "      <th>last</th>\n",
       "      <th>email</th>\n",
       "    </tr>\n",
       "  </thead>\n",
       "  <tbody>\n",
       "    <tr>\n",
       "      <th>0</th>\n",
       "      <td>andres</td>\n",
       "      <td>galarraga</td>\n",
       "      <td>andres@gmail.com</td>\n",
       "    </tr>\n",
       "    <tr>\n",
       "      <th>1</th>\n",
       "      <td>omar</td>\n",
       "      <td>vizquel</td>\n",
       "      <td>omar@email.com</td>\n",
       "    </tr>\n",
       "    <tr>\n",
       "      <th>2</th>\n",
       "      <td>miguel</td>\n",
       "      <td>cabrera</td>\n",
       "      <td>miguel@email.com</td>\n",
       "    </tr>\n",
       "  </tbody>\n",
       "</table>\n",
       "</div>"
      ],
      "text/plain": [
       "    first       last             email\n",
       "0  andres  galarraga  andres@gmail.com\n",
       "1    omar    vizquel    omar@email.com\n",
       "2  miguel    cabrera  miguel@email.com"
      ]
     },
     "execution_count": 61,
     "metadata": {},
     "output_type": "execute_result"
    }
   ],
   "source": [
    "# Tambien podemos, aplicar un metodo de str, para poner todos los textos en minusculas\n",
    "df.applymap(str.lower)"
   ]
  },
  {
   "cell_type": "markdown",
   "id": "94c2488c",
   "metadata": {},
   "source": [
    "### 5.3 map()"
   ]
  },
  {
   "cell_type": "markdown",
   "id": "0d86c131",
   "metadata": {},
   "source": [
    "#### El metodo sustituye un valor en la serie, con un nuevo valor"
   ]
  },
  {
   "cell_type": "code",
   "execution_count": 64,
   "id": "65275fde",
   "metadata": {},
   "outputs": [
    {
     "data": {
      "text/plain": [
       "0    NaN\n",
       "1    NaN\n",
       "2    NaN\n",
       "Name: last, dtype: object"
      ]
     },
     "execution_count": 64,
     "metadata": {},
     "output_type": "execute_result"
    }
   ],
   "source": [
    "# Para aplicar la funcion map() debemos utilizar un diccionario: key (valor nuevo): values (valor viejo)\n",
    "# df['columna'].map({key:value, key1:value1})\n",
    "df['last'].map({'altuve':'galarraga', 'amarista':'vizquel'})\n",
    "\n",
    "# Los valores que no se agreguen quedaran representados como \"NaN\""
   ]
  },
  {
   "cell_type": "code",
   "execution_count": 65,
   "id": "d476809f",
   "metadata": {},
   "outputs": [
    {
     "data": {
      "text/html": [
       "<div>\n",
       "<style scoped>\n",
       "    .dataframe tbody tr th:only-of-type {\n",
       "        vertical-align: middle;\n",
       "    }\n",
       "\n",
       "    .dataframe tbody tr th {\n",
       "        vertical-align: top;\n",
       "    }\n",
       "\n",
       "    .dataframe thead th {\n",
       "        text-align: right;\n",
       "    }\n",
       "</style>\n",
       "<table border=\"1\" class=\"dataframe\">\n",
       "  <thead>\n",
       "    <tr style=\"text-align: right;\">\n",
       "      <th></th>\n",
       "      <th>first</th>\n",
       "      <th>last</th>\n",
       "      <th>email</th>\n",
       "    </tr>\n",
       "  </thead>\n",
       "  <tbody>\n",
       "    <tr>\n",
       "      <th>0</th>\n",
       "      <td>Andres</td>\n",
       "      <td>galarraga</td>\n",
       "      <td>andres@gmail.com</td>\n",
       "    </tr>\n",
       "    <tr>\n",
       "      <th>1</th>\n",
       "      <td>Omar</td>\n",
       "      <td>vizquel</td>\n",
       "      <td>omar@email.com</td>\n",
       "    </tr>\n",
       "    <tr>\n",
       "      <th>2</th>\n",
       "      <td>Miguel</td>\n",
       "      <td>cabrera</td>\n",
       "      <td>miguel@email.com</td>\n",
       "    </tr>\n",
       "  </tbody>\n",
       "</table>\n",
       "</div>"
      ],
      "text/plain": [
       "    first       last             email\n",
       "0  Andres  galarraga  andres@gmail.com\n",
       "1    Omar    vizquel    omar@email.com\n",
       "2  Miguel    cabrera  miguel@email.com"
      ]
     },
     "execution_count": 65,
     "metadata": {},
     "output_type": "execute_result"
    }
   ],
   "source": [
    "df"
   ]
  },
  {
   "cell_type": "code",
   "execution_count": 67,
   "id": "eaf6be1e",
   "metadata": {},
   "outputs": [
    {
     "data": {
      "text/plain": [
       "0    NaN\n",
       "1    NaN\n",
       "2    NaN\n",
       "Name: first, dtype: object"
      ]
     },
     "execution_count": 67,
     "metadata": {},
     "output_type": "execute_result"
    }
   ],
   "source": [
    "df['first'].map({'altuve':'Andres', 'amarista':'Omar'})"
   ]
  },
  {
   "cell_type": "markdown",
   "id": "7b0e52f9",
   "metadata": {},
   "source": [
    "### 5.4 replace()"
   ]
  },
  {
   "cell_type": "markdown",
   "id": "1a2d6e33",
   "metadata": {},
   "source": [
    "#### A diferencia de map(), con la funcion replace() se conservan los valores y no se convierten en NaN"
   ]
  },
  {
   "cell_type": "code",
   "execution_count": 69,
   "id": "acf43c0b",
   "metadata": {},
   "outputs": [
    {
     "data": {
      "text/plain": [
       "0    Andres\n",
       "1      Omar\n",
       "2    Miguel\n",
       "Name: first, dtype: object"
      ]
     },
     "execution_count": 69,
     "metadata": {},
     "output_type": "execute_result"
    }
   ],
   "source": [
    "df['first'].replace({'altuve':'Andres', 'amarista':'Omar'})"
   ]
  }
 ],
 "metadata": {
  "kernelspec": {
   "display_name": "Python 3 (ipykernel)",
   "language": "python",
   "name": "python3"
  },
  "language_info": {
   "codemirror_mode": {
    "name": "ipython",
    "version": 3
   },
   "file_extension": ".py",
   "mimetype": "text/x-python",
   "name": "python",
   "nbconvert_exporter": "python",
   "pygments_lexer": "ipython3",
   "version": "3.9.12"
  }
 },
 "nbformat": 4,
 "nbformat_minor": 5
}
