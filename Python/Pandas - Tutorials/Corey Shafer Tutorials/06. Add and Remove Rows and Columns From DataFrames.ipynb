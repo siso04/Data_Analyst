{
 "cells": [
  {
   "cell_type": "markdown",
   "id": "a703de05",
   "metadata": {},
   "source": [
    "# Agregar y eliminar filas y columnas de un data frame, combinar información de varias columnas en una sola"
   ]
  },
  {
   "cell_type": "code",
   "execution_count": 1,
   "id": "1661f931",
   "metadata": {},
   "outputs": [],
   "source": [
    "import numpy as np\n",
    "import pandas as pd"
   ]
  },
  {
   "cell_type": "code",
   "execution_count": 2,
   "id": "d251063d",
   "metadata": {},
   "outputs": [],
   "source": [
    "# Vamos a crear un diccionario para utilizarlo como ejemplo\n",
    "people = {\n",
    "    \"first\":[\"Andres\", \"Omar\", \"Miguel\"],\n",
    "    \"last\":[\"Galarraga\", \"Vizquel\", \"Cabrera\"],\n",
    "    \"email\":[\"andres@gmail.com\", \"omar@email.com\", \"miguel@email.com\"]\n",
    "}"
   ]
  },
  {
   "cell_type": "code",
   "execution_count": 3,
   "id": "38b7fe6c",
   "metadata": {},
   "outputs": [],
   "source": [
    "df = pd.DataFrame(people)"
   ]
  },
  {
   "cell_type": "code",
   "execution_count": 4,
   "id": "378b1608",
   "metadata": {},
   "outputs": [
    {
     "data": {
      "text/html": [
       "<div>\n",
       "<style scoped>\n",
       "    .dataframe tbody tr th:only-of-type {\n",
       "        vertical-align: middle;\n",
       "    }\n",
       "\n",
       "    .dataframe tbody tr th {\n",
       "        vertical-align: top;\n",
       "    }\n",
       "\n",
       "    .dataframe thead th {\n",
       "        text-align: right;\n",
       "    }\n",
       "</style>\n",
       "<table border=\"1\" class=\"dataframe\">\n",
       "  <thead>\n",
       "    <tr style=\"text-align: right;\">\n",
       "      <th></th>\n",
       "      <th>first</th>\n",
       "      <th>last</th>\n",
       "      <th>email</th>\n",
       "    </tr>\n",
       "  </thead>\n",
       "  <tbody>\n",
       "    <tr>\n",
       "      <th>0</th>\n",
       "      <td>Andres</td>\n",
       "      <td>Galarraga</td>\n",
       "      <td>andres@gmail.com</td>\n",
       "    </tr>\n",
       "    <tr>\n",
       "      <th>1</th>\n",
       "      <td>Omar</td>\n",
       "      <td>Vizquel</td>\n",
       "      <td>omar@email.com</td>\n",
       "    </tr>\n",
       "    <tr>\n",
       "      <th>2</th>\n",
       "      <td>Miguel</td>\n",
       "      <td>Cabrera</td>\n",
       "      <td>miguel@email.com</td>\n",
       "    </tr>\n",
       "  </tbody>\n",
       "</table>\n",
       "</div>"
      ],
      "text/plain": [
       "    first       last             email\n",
       "0  Andres  Galarraga  andres@gmail.com\n",
       "1    Omar    Vizquel    omar@email.com\n",
       "2  Miguel    Cabrera  miguel@email.com"
      ]
     },
     "execution_count": 4,
     "metadata": {},
     "output_type": "execute_result"
    }
   ],
   "source": [
    "df"
   ]
  },
  {
   "cell_type": "markdown",
   "id": "33ffbdaa",
   "metadata": {},
   "source": [
    "# Columnas"
   ]
  },
  {
   "cell_type": "markdown",
   "id": "b6e5bead",
   "metadata": {},
   "source": [
    "## 1. Agregar una columna"
   ]
  },
  {
   "cell_type": "code",
   "execution_count": 5,
   "id": "d93b6c76",
   "metadata": {},
   "outputs": [
    {
     "data": {
      "text/plain": [
       "0    Andres Galarraga\n",
       "1        Omar Vizquel\n",
       "2      Miguel Cabrera\n",
       "dtype: object"
      ]
     },
     "execution_count": 5,
     "metadata": {},
     "output_type": "execute_result"
    }
   ],
   "source": [
    "# Primero vamos a unir las columnas de first y last para obtener la columna \"full_name\"\n",
    "df['first'] + \" \" + df['last']"
   ]
  },
  {
   "cell_type": "code",
   "execution_count": 6,
   "id": "3c8b05ff",
   "metadata": {},
   "outputs": [],
   "source": [
    "# Ahora asignamos la formulario anterior a nuestra nueva columna 'full_name'\n",
    "df['full_name'] = df['first'] + \" \" + df['last']"
   ]
  },
  {
   "cell_type": "code",
   "execution_count": 7,
   "id": "c8aa5960",
   "metadata": {},
   "outputs": [
    {
     "data": {
      "text/html": [
       "<div>\n",
       "<style scoped>\n",
       "    .dataframe tbody tr th:only-of-type {\n",
       "        vertical-align: middle;\n",
       "    }\n",
       "\n",
       "    .dataframe tbody tr th {\n",
       "        vertical-align: top;\n",
       "    }\n",
       "\n",
       "    .dataframe thead th {\n",
       "        text-align: right;\n",
       "    }\n",
       "</style>\n",
       "<table border=\"1\" class=\"dataframe\">\n",
       "  <thead>\n",
       "    <tr style=\"text-align: right;\">\n",
       "      <th></th>\n",
       "      <th>first</th>\n",
       "      <th>last</th>\n",
       "      <th>email</th>\n",
       "      <th>full_name</th>\n",
       "    </tr>\n",
       "  </thead>\n",
       "  <tbody>\n",
       "    <tr>\n",
       "      <th>0</th>\n",
       "      <td>Andres</td>\n",
       "      <td>Galarraga</td>\n",
       "      <td>andres@gmail.com</td>\n",
       "      <td>Andres Galarraga</td>\n",
       "    </tr>\n",
       "    <tr>\n",
       "      <th>1</th>\n",
       "      <td>Omar</td>\n",
       "      <td>Vizquel</td>\n",
       "      <td>omar@email.com</td>\n",
       "      <td>Omar Vizquel</td>\n",
       "    </tr>\n",
       "    <tr>\n",
       "      <th>2</th>\n",
       "      <td>Miguel</td>\n",
       "      <td>Cabrera</td>\n",
       "      <td>miguel@email.com</td>\n",
       "      <td>Miguel Cabrera</td>\n",
       "    </tr>\n",
       "  </tbody>\n",
       "</table>\n",
       "</div>"
      ],
      "text/plain": [
       "    first       last             email         full_name\n",
       "0  Andres  Galarraga  andres@gmail.com  Andres Galarraga\n",
       "1    Omar    Vizquel    omar@email.com      Omar Vizquel\n",
       "2  Miguel    Cabrera  miguel@email.com    Miguel Cabrera"
      ]
     },
     "execution_count": 7,
     "metadata": {},
     "output_type": "execute_result"
    }
   ],
   "source": [
    "# Si vemos nuevamente el Data Frame aparece la nueva columna al final\n",
    "df"
   ]
  },
  {
   "cell_type": "markdown",
   "id": "8993faf1",
   "metadata": {},
   "source": [
    "## 2. Eliminar una columna - df.drop()"
   ]
  },
  {
   "cell_type": "code",
   "execution_count": 8,
   "id": "f6b3ce2d",
   "metadata": {},
   "outputs": [],
   "source": [
    "# Para eliminar una columna utilizamos la funcion \"drop() y el argumento 'columns'\"\n",
    "# Utilizamos inplace = True, para que se aplique directo al Data Frame\n",
    "df.drop(columns = ['first', 'last'], inplace = True)"
   ]
  },
  {
   "cell_type": "code",
   "execution_count": 9,
   "id": "0e3cad02",
   "metadata": {},
   "outputs": [
    {
     "data": {
      "text/html": [
       "<div>\n",
       "<style scoped>\n",
       "    .dataframe tbody tr th:only-of-type {\n",
       "        vertical-align: middle;\n",
       "    }\n",
       "\n",
       "    .dataframe tbody tr th {\n",
       "        vertical-align: top;\n",
       "    }\n",
       "\n",
       "    .dataframe thead th {\n",
       "        text-align: right;\n",
       "    }\n",
       "</style>\n",
       "<table border=\"1\" class=\"dataframe\">\n",
       "  <thead>\n",
       "    <tr style=\"text-align: right;\">\n",
       "      <th></th>\n",
       "      <th>email</th>\n",
       "      <th>full_name</th>\n",
       "    </tr>\n",
       "  </thead>\n",
       "  <tbody>\n",
       "    <tr>\n",
       "      <th>0</th>\n",
       "      <td>andres@gmail.com</td>\n",
       "      <td>Andres Galarraga</td>\n",
       "    </tr>\n",
       "    <tr>\n",
       "      <th>1</th>\n",
       "      <td>omar@email.com</td>\n",
       "      <td>Omar Vizquel</td>\n",
       "    </tr>\n",
       "    <tr>\n",
       "      <th>2</th>\n",
       "      <td>miguel@email.com</td>\n",
       "      <td>Miguel Cabrera</td>\n",
       "    </tr>\n",
       "  </tbody>\n",
       "</table>\n",
       "</div>"
      ],
      "text/plain": [
       "              email         full_name\n",
       "0  andres@gmail.com  Andres Galarraga\n",
       "1    omar@email.com      Omar Vizquel\n",
       "2  miguel@email.com    Miguel Cabrera"
      ]
     },
     "execution_count": 9,
     "metadata": {},
     "output_type": "execute_result"
    }
   ],
   "source": [
    "df"
   ]
  },
  {
   "cell_type": "markdown",
   "id": "ef2748d6",
   "metadata": {},
   "source": [
    "## 3. Separar valores de una columna de string con \"split\" y expand=True"
   ]
  },
  {
   "cell_type": "code",
   "execution_count": 10,
   "id": "861bb72c",
   "metadata": {},
   "outputs": [
    {
     "data": {
      "text/html": [
       "<div>\n",
       "<style scoped>\n",
       "    .dataframe tbody tr th:only-of-type {\n",
       "        vertical-align: middle;\n",
       "    }\n",
       "\n",
       "    .dataframe tbody tr th {\n",
       "        vertical-align: top;\n",
       "    }\n",
       "\n",
       "    .dataframe thead th {\n",
       "        text-align: right;\n",
       "    }\n",
       "</style>\n",
       "<table border=\"1\" class=\"dataframe\">\n",
       "  <thead>\n",
       "    <tr style=\"text-align: right;\">\n",
       "      <th></th>\n",
       "      <th>0</th>\n",
       "      <th>1</th>\n",
       "    </tr>\n",
       "  </thead>\n",
       "  <tbody>\n",
       "    <tr>\n",
       "      <th>0</th>\n",
       "      <td>Andres</td>\n",
       "      <td>Galarraga</td>\n",
       "    </tr>\n",
       "    <tr>\n",
       "      <th>1</th>\n",
       "      <td>Omar</td>\n",
       "      <td>Vizquel</td>\n",
       "    </tr>\n",
       "    <tr>\n",
       "      <th>2</th>\n",
       "      <td>Miguel</td>\n",
       "      <td>Cabrera</td>\n",
       "    </tr>\n",
       "  </tbody>\n",
       "</table>\n",
       "</div>"
      ],
      "text/plain": [
       "        0          1\n",
       "0  Andres  Galarraga\n",
       "1    Omar    Vizquel\n",
       "2  Miguel    Cabrera"
      ]
     },
     "execution_count": 10,
     "metadata": {},
     "output_type": "execute_result"
    }
   ],
   "source": [
    "# Vamos a realizar primero la operacion, para comprobar que se ejecutar de manera correcta\n",
    "df['full_name'].str.split(' ', expand = True)"
   ]
  },
  {
   "cell_type": "code",
   "execution_count": 11,
   "id": "37eb1dfe",
   "metadata": {},
   "outputs": [],
   "source": [
    "# Ahora como sabemos que se ejecuta de forma correcta, vamos a crear las dos columnas y asignarle esa operacion\n",
    "df[['first', 'last']] = df['full_name'].str.split(' ', expand = True)"
   ]
  },
  {
   "cell_type": "code",
   "execution_count": 12,
   "id": "0cdbbca7",
   "metadata": {},
   "outputs": [
    {
     "data": {
      "text/html": [
       "<div>\n",
       "<style scoped>\n",
       "    .dataframe tbody tr th:only-of-type {\n",
       "        vertical-align: middle;\n",
       "    }\n",
       "\n",
       "    .dataframe tbody tr th {\n",
       "        vertical-align: top;\n",
       "    }\n",
       "\n",
       "    .dataframe thead th {\n",
       "        text-align: right;\n",
       "    }\n",
       "</style>\n",
       "<table border=\"1\" class=\"dataframe\">\n",
       "  <thead>\n",
       "    <tr style=\"text-align: right;\">\n",
       "      <th></th>\n",
       "      <th>email</th>\n",
       "      <th>full_name</th>\n",
       "      <th>first</th>\n",
       "      <th>last</th>\n",
       "    </tr>\n",
       "  </thead>\n",
       "  <tbody>\n",
       "    <tr>\n",
       "      <th>0</th>\n",
       "      <td>andres@gmail.com</td>\n",
       "      <td>Andres Galarraga</td>\n",
       "      <td>Andres</td>\n",
       "      <td>Galarraga</td>\n",
       "    </tr>\n",
       "    <tr>\n",
       "      <th>1</th>\n",
       "      <td>omar@email.com</td>\n",
       "      <td>Omar Vizquel</td>\n",
       "      <td>Omar</td>\n",
       "      <td>Vizquel</td>\n",
       "    </tr>\n",
       "    <tr>\n",
       "      <th>2</th>\n",
       "      <td>miguel@email.com</td>\n",
       "      <td>Miguel Cabrera</td>\n",
       "      <td>Miguel</td>\n",
       "      <td>Cabrera</td>\n",
       "    </tr>\n",
       "  </tbody>\n",
       "</table>\n",
       "</div>"
      ],
      "text/plain": [
       "              email         full_name   first       last\n",
       "0  andres@gmail.com  Andres Galarraga  Andres  Galarraga\n",
       "1    omar@email.com      Omar Vizquel    Omar    Vizquel\n",
       "2  miguel@email.com    Miguel Cabrera  Miguel    Cabrera"
      ]
     },
     "execution_count": 12,
     "metadata": {},
     "output_type": "execute_result"
    }
   ],
   "source": [
    "df"
   ]
  },
  {
   "cell_type": "markdown",
   "id": "40b37480",
   "metadata": {},
   "source": [
    "# Filas"
   ]
  },
  {
   "cell_type": "markdown",
   "id": "3b81a0b2",
   "metadata": {},
   "source": [
    "## 1. Agregar solo una fila de valores - df.append()"
   ]
  },
  {
   "cell_type": "code",
   "execution_count": 13,
   "id": "76e7dc3f",
   "metadata": {},
   "outputs": [
    {
     "name": "stderr",
     "output_type": "stream",
     "text": [
      "C:\\Users\\equipo\\AppData\\Local\\Temp\\ipykernel_792\\4212772383.py:2: FutureWarning: The frame.append method is deprecated and will be removed from pandas in a future version. Use pandas.concat instead.\n",
      "  df.append({'first':'Bob', 'last':'Abreu', 'full_name':'Bob Abreu', 'email':'bob@email.com'}, ignore_index = True)\n"
     ]
    },
    {
     "data": {
      "text/html": [
       "<div>\n",
       "<style scoped>\n",
       "    .dataframe tbody tr th:only-of-type {\n",
       "        vertical-align: middle;\n",
       "    }\n",
       "\n",
       "    .dataframe tbody tr th {\n",
       "        vertical-align: top;\n",
       "    }\n",
       "\n",
       "    .dataframe thead th {\n",
       "        text-align: right;\n",
       "    }\n",
       "</style>\n",
       "<table border=\"1\" class=\"dataframe\">\n",
       "  <thead>\n",
       "    <tr style=\"text-align: right;\">\n",
       "      <th></th>\n",
       "      <th>email</th>\n",
       "      <th>full_name</th>\n",
       "      <th>first</th>\n",
       "      <th>last</th>\n",
       "    </tr>\n",
       "  </thead>\n",
       "  <tbody>\n",
       "    <tr>\n",
       "      <th>0</th>\n",
       "      <td>andres@gmail.com</td>\n",
       "      <td>Andres Galarraga</td>\n",
       "      <td>Andres</td>\n",
       "      <td>Galarraga</td>\n",
       "    </tr>\n",
       "    <tr>\n",
       "      <th>1</th>\n",
       "      <td>omar@email.com</td>\n",
       "      <td>Omar Vizquel</td>\n",
       "      <td>Omar</td>\n",
       "      <td>Vizquel</td>\n",
       "    </tr>\n",
       "    <tr>\n",
       "      <th>2</th>\n",
       "      <td>miguel@email.com</td>\n",
       "      <td>Miguel Cabrera</td>\n",
       "      <td>Miguel</td>\n",
       "      <td>Cabrera</td>\n",
       "    </tr>\n",
       "    <tr>\n",
       "      <th>3</th>\n",
       "      <td>bob@email.com</td>\n",
       "      <td>Bob Abreu</td>\n",
       "      <td>Bob</td>\n",
       "      <td>Abreu</td>\n",
       "    </tr>\n",
       "  </tbody>\n",
       "</table>\n",
       "</div>"
      ],
      "text/plain": [
       "              email         full_name   first       last\n",
       "0  andres@gmail.com  Andres Galarraga  Andres  Galarraga\n",
       "1    omar@email.com      Omar Vizquel    Omar    Vizquel\n",
       "2  miguel@email.com    Miguel Cabrera  Miguel    Cabrera\n",
       "3     bob@email.com         Bob Abreu     Bob      Abreu"
      ]
     },
     "execution_count": 13,
     "metadata": {},
     "output_type": "execute_result"
    }
   ],
   "source": [
    "# Para agregar solo una fila de valores, podemos utilizar un diccionario \n",
    "df.append({'first':'Bob', 'last':'Abreu', 'full_name':'Bob Abreu', 'email':'bob@email.com'}, ignore_index = True)"
   ]
  },
  {
   "cell_type": "code",
   "execution_count": 14,
   "id": "8ae85319",
   "metadata": {},
   "outputs": [
    {
     "data": {
      "text/html": [
       "<div>\n",
       "<style scoped>\n",
       "    .dataframe tbody tr th:only-of-type {\n",
       "        vertical-align: middle;\n",
       "    }\n",
       "\n",
       "    .dataframe tbody tr th {\n",
       "        vertical-align: top;\n",
       "    }\n",
       "\n",
       "    .dataframe thead th {\n",
       "        text-align: right;\n",
       "    }\n",
       "</style>\n",
       "<table border=\"1\" class=\"dataframe\">\n",
       "  <thead>\n",
       "    <tr style=\"text-align: right;\">\n",
       "      <th></th>\n",
       "      <th>email</th>\n",
       "      <th>full_name</th>\n",
       "      <th>first</th>\n",
       "      <th>last</th>\n",
       "    </tr>\n",
       "  </thead>\n",
       "  <tbody>\n",
       "    <tr>\n",
       "      <th>0</th>\n",
       "      <td>andres@gmail.com</td>\n",
       "      <td>Andres Galarraga</td>\n",
       "      <td>Andres</td>\n",
       "      <td>Galarraga</td>\n",
       "    </tr>\n",
       "    <tr>\n",
       "      <th>1</th>\n",
       "      <td>omar@email.com</td>\n",
       "      <td>Omar Vizquel</td>\n",
       "      <td>Omar</td>\n",
       "      <td>Vizquel</td>\n",
       "    </tr>\n",
       "    <tr>\n",
       "      <th>2</th>\n",
       "      <td>miguel@email.com</td>\n",
       "      <td>Miguel Cabrera</td>\n",
       "      <td>Miguel</td>\n",
       "      <td>Cabrera</td>\n",
       "    </tr>\n",
       "  </tbody>\n",
       "</table>\n",
       "</div>"
      ],
      "text/plain": [
       "              email         full_name   first       last\n",
       "0  andres@gmail.com  Andres Galarraga  Andres  Galarraga\n",
       "1    omar@email.com      Omar Vizquel    Omar    Vizquel\n",
       "2  miguel@email.com    Miguel Cabrera  Miguel    Cabrera"
      ]
     },
     "execution_count": 14,
     "metadata": {},
     "output_type": "execute_result"
    }
   ],
   "source": [
    "df"
   ]
  },
  {
   "cell_type": "markdown",
   "id": "538c5c4c",
   "metadata": {},
   "source": [
    "## 2. Agregar valores desde otra tabla de datos"
   ]
  },
  {
   "cell_type": "code",
   "execution_count": 15,
   "id": "e27359cb",
   "metadata": {},
   "outputs": [],
   "source": [
    "# Primero creamos una tabla nueva \n",
    "people = {\n",
    "    \"first\":[\"Jose\", \"Bob\", \"Alexis\"],\n",
    "    \"last\":[\"Altuve\", \"Abreu\", \"Amarista\"],\n",
    "    \"email\":[\"jose@gmail.com\", \"bob@email.com\", \"alexis@email.com\"]\n",
    "}\n",
    "\n",
    "df2 = pd.DataFrame(people)"
   ]
  },
  {
   "cell_type": "code",
   "execution_count": 16,
   "id": "d4098c52",
   "metadata": {},
   "outputs": [
    {
     "data": {
      "text/html": [
       "<div>\n",
       "<style scoped>\n",
       "    .dataframe tbody tr th:only-of-type {\n",
       "        vertical-align: middle;\n",
       "    }\n",
       "\n",
       "    .dataframe tbody tr th {\n",
       "        vertical-align: top;\n",
       "    }\n",
       "\n",
       "    .dataframe thead th {\n",
       "        text-align: right;\n",
       "    }\n",
       "</style>\n",
       "<table border=\"1\" class=\"dataframe\">\n",
       "  <thead>\n",
       "    <tr style=\"text-align: right;\">\n",
       "      <th></th>\n",
       "      <th>first</th>\n",
       "      <th>last</th>\n",
       "      <th>email</th>\n",
       "    </tr>\n",
       "  </thead>\n",
       "  <tbody>\n",
       "    <tr>\n",
       "      <th>0</th>\n",
       "      <td>Jose</td>\n",
       "      <td>Altuve</td>\n",
       "      <td>jose@gmail.com</td>\n",
       "    </tr>\n",
       "    <tr>\n",
       "      <th>1</th>\n",
       "      <td>Bob</td>\n",
       "      <td>Abreu</td>\n",
       "      <td>bob@email.com</td>\n",
       "    </tr>\n",
       "    <tr>\n",
       "      <th>2</th>\n",
       "      <td>Alexis</td>\n",
       "      <td>Amarista</td>\n",
       "      <td>alexis@email.com</td>\n",
       "    </tr>\n",
       "  </tbody>\n",
       "</table>\n",
       "</div>"
      ],
      "text/plain": [
       "    first      last             email\n",
       "0    Jose    Altuve    jose@gmail.com\n",
       "1     Bob     Abreu     bob@email.com\n",
       "2  Alexis  Amarista  alexis@email.com"
      ]
     },
     "execution_count": 16,
     "metadata": {},
     "output_type": "execute_result"
    }
   ],
   "source": [
    "df2"
   ]
  },
  {
   "cell_type": "code",
   "execution_count": 17,
   "id": "de32167d",
   "metadata": {},
   "outputs": [
    {
     "name": "stderr",
     "output_type": "stream",
     "text": [
      "C:\\Users\\equipo\\AppData\\Local\\Temp\\ipykernel_792\\3829768107.py:2: FutureWarning: The frame.append method is deprecated and will be removed from pandas in a future version. Use pandas.concat instead.\n",
      "  df.append(df2, ignore_index=True, sort=False)\n"
     ]
    },
    {
     "data": {
      "text/html": [
       "<div>\n",
       "<style scoped>\n",
       "    .dataframe tbody tr th:only-of-type {\n",
       "        vertical-align: middle;\n",
       "    }\n",
       "\n",
       "    .dataframe tbody tr th {\n",
       "        vertical-align: top;\n",
       "    }\n",
       "\n",
       "    .dataframe thead th {\n",
       "        text-align: right;\n",
       "    }\n",
       "</style>\n",
       "<table border=\"1\" class=\"dataframe\">\n",
       "  <thead>\n",
       "    <tr style=\"text-align: right;\">\n",
       "      <th></th>\n",
       "      <th>email</th>\n",
       "      <th>full_name</th>\n",
       "      <th>first</th>\n",
       "      <th>last</th>\n",
       "    </tr>\n",
       "  </thead>\n",
       "  <tbody>\n",
       "    <tr>\n",
       "      <th>0</th>\n",
       "      <td>andres@gmail.com</td>\n",
       "      <td>Andres Galarraga</td>\n",
       "      <td>Andres</td>\n",
       "      <td>Galarraga</td>\n",
       "    </tr>\n",
       "    <tr>\n",
       "      <th>1</th>\n",
       "      <td>omar@email.com</td>\n",
       "      <td>Omar Vizquel</td>\n",
       "      <td>Omar</td>\n",
       "      <td>Vizquel</td>\n",
       "    </tr>\n",
       "    <tr>\n",
       "      <th>2</th>\n",
       "      <td>miguel@email.com</td>\n",
       "      <td>Miguel Cabrera</td>\n",
       "      <td>Miguel</td>\n",
       "      <td>Cabrera</td>\n",
       "    </tr>\n",
       "    <tr>\n",
       "      <th>3</th>\n",
       "      <td>jose@gmail.com</td>\n",
       "      <td>NaN</td>\n",
       "      <td>Jose</td>\n",
       "      <td>Altuve</td>\n",
       "    </tr>\n",
       "    <tr>\n",
       "      <th>4</th>\n",
       "      <td>bob@email.com</td>\n",
       "      <td>NaN</td>\n",
       "      <td>Bob</td>\n",
       "      <td>Abreu</td>\n",
       "    </tr>\n",
       "    <tr>\n",
       "      <th>5</th>\n",
       "      <td>alexis@email.com</td>\n",
       "      <td>NaN</td>\n",
       "      <td>Alexis</td>\n",
       "      <td>Amarista</td>\n",
       "    </tr>\n",
       "  </tbody>\n",
       "</table>\n",
       "</div>"
      ],
      "text/plain": [
       "              email         full_name   first       last\n",
       "0  andres@gmail.com  Andres Galarraga  Andres  Galarraga\n",
       "1    omar@email.com      Omar Vizquel    Omar    Vizquel\n",
       "2  miguel@email.com    Miguel Cabrera  Miguel    Cabrera\n",
       "3    jose@gmail.com               NaN    Jose     Altuve\n",
       "4     bob@email.com               NaN     Bob      Abreu\n",
       "5  alexis@email.com               NaN  Alexis   Amarista"
      ]
     },
     "execution_count": 17,
     "metadata": {},
     "output_type": "execute_result"
    }
   ],
   "source": [
    "# Ahora lo que hacemos es agregar la tabla nueva \"df2\" a la primera tabla\n",
    "df.append(df2, ignore_index=True, sort=False)\n",
    "# Debemos colocar \"ignore_index=True\", porque las columnas no estan en el mismo orden"
   ]
  },
  {
   "cell_type": "code",
   "execution_count": 18,
   "id": "6f0f65fb",
   "metadata": {},
   "outputs": [
    {
     "name": "stderr",
     "output_type": "stream",
     "text": [
      "C:\\Users\\equipo\\AppData\\Local\\Temp\\ipykernel_792\\344555859.py:2: FutureWarning: The frame.append method is deprecated and will be removed from pandas in a future version. Use pandas.concat instead.\n",
      "  df = df.append(df2, ignore_index=True, sort=False)\n"
     ]
    }
   ],
   "source": [
    "# Para aplicarse la operacion, debemos sobreescribir el data frame\n",
    "df = df.append(df2, ignore_index=True, sort=False)"
   ]
  },
  {
   "cell_type": "code",
   "execution_count": 19,
   "id": "52fc2086",
   "metadata": {},
   "outputs": [
    {
     "data": {
      "text/html": [
       "<div>\n",
       "<style scoped>\n",
       "    .dataframe tbody tr th:only-of-type {\n",
       "        vertical-align: middle;\n",
       "    }\n",
       "\n",
       "    .dataframe tbody tr th {\n",
       "        vertical-align: top;\n",
       "    }\n",
       "\n",
       "    .dataframe thead th {\n",
       "        text-align: right;\n",
       "    }\n",
       "</style>\n",
       "<table border=\"1\" class=\"dataframe\">\n",
       "  <thead>\n",
       "    <tr style=\"text-align: right;\">\n",
       "      <th></th>\n",
       "      <th>email</th>\n",
       "      <th>full_name</th>\n",
       "      <th>first</th>\n",
       "      <th>last</th>\n",
       "    </tr>\n",
       "  </thead>\n",
       "  <tbody>\n",
       "    <tr>\n",
       "      <th>0</th>\n",
       "      <td>andres@gmail.com</td>\n",
       "      <td>Andres Galarraga</td>\n",
       "      <td>Andres</td>\n",
       "      <td>Galarraga</td>\n",
       "    </tr>\n",
       "    <tr>\n",
       "      <th>1</th>\n",
       "      <td>omar@email.com</td>\n",
       "      <td>Omar Vizquel</td>\n",
       "      <td>Omar</td>\n",
       "      <td>Vizquel</td>\n",
       "    </tr>\n",
       "    <tr>\n",
       "      <th>2</th>\n",
       "      <td>miguel@email.com</td>\n",
       "      <td>Miguel Cabrera</td>\n",
       "      <td>Miguel</td>\n",
       "      <td>Cabrera</td>\n",
       "    </tr>\n",
       "    <tr>\n",
       "      <th>3</th>\n",
       "      <td>jose@gmail.com</td>\n",
       "      <td>NaN</td>\n",
       "      <td>Jose</td>\n",
       "      <td>Altuve</td>\n",
       "    </tr>\n",
       "    <tr>\n",
       "      <th>4</th>\n",
       "      <td>bob@email.com</td>\n",
       "      <td>NaN</td>\n",
       "      <td>Bob</td>\n",
       "      <td>Abreu</td>\n",
       "    </tr>\n",
       "    <tr>\n",
       "      <th>5</th>\n",
       "      <td>alexis@email.com</td>\n",
       "      <td>NaN</td>\n",
       "      <td>Alexis</td>\n",
       "      <td>Amarista</td>\n",
       "    </tr>\n",
       "  </tbody>\n",
       "</table>\n",
       "</div>"
      ],
      "text/plain": [
       "              email         full_name   first       last\n",
       "0  andres@gmail.com  Andres Galarraga  Andres  Galarraga\n",
       "1    omar@email.com      Omar Vizquel    Omar    Vizquel\n",
       "2  miguel@email.com    Miguel Cabrera  Miguel    Cabrera\n",
       "3    jose@gmail.com               NaN    Jose     Altuve\n",
       "4     bob@email.com               NaN     Bob      Abreu\n",
       "5  alexis@email.com               NaN  Alexis   Amarista"
      ]
     },
     "execution_count": 19,
     "metadata": {},
     "output_type": "execute_result"
    }
   ],
   "source": [
    "df"
   ]
  },
  {
   "cell_type": "markdown",
   "id": "54b01077",
   "metadata": {},
   "source": [
    "## 3. Eliminar valores de una fila con drop() - Seleccion por indice"
   ]
  },
  {
   "cell_type": "code",
   "execution_count": 20,
   "id": "3ed287b7",
   "metadata": {},
   "outputs": [
    {
     "data": {
      "text/html": [
       "<div>\n",
       "<style scoped>\n",
       "    .dataframe tbody tr th:only-of-type {\n",
       "        vertical-align: middle;\n",
       "    }\n",
       "\n",
       "    .dataframe tbody tr th {\n",
       "        vertical-align: top;\n",
       "    }\n",
       "\n",
       "    .dataframe thead th {\n",
       "        text-align: right;\n",
       "    }\n",
       "</style>\n",
       "<table border=\"1\" class=\"dataframe\">\n",
       "  <thead>\n",
       "    <tr style=\"text-align: right;\">\n",
       "      <th></th>\n",
       "      <th>email</th>\n",
       "      <th>full_name</th>\n",
       "      <th>first</th>\n",
       "      <th>last</th>\n",
       "    </tr>\n",
       "  </thead>\n",
       "  <tbody>\n",
       "    <tr>\n",
       "      <th>0</th>\n",
       "      <td>andres@gmail.com</td>\n",
       "      <td>Andres Galarraga</td>\n",
       "      <td>Andres</td>\n",
       "      <td>Galarraga</td>\n",
       "    </tr>\n",
       "    <tr>\n",
       "      <th>1</th>\n",
       "      <td>omar@email.com</td>\n",
       "      <td>Omar Vizquel</td>\n",
       "      <td>Omar</td>\n",
       "      <td>Vizquel</td>\n",
       "    </tr>\n",
       "    <tr>\n",
       "      <th>2</th>\n",
       "      <td>miguel@email.com</td>\n",
       "      <td>Miguel Cabrera</td>\n",
       "      <td>Miguel</td>\n",
       "      <td>Cabrera</td>\n",
       "    </tr>\n",
       "    <tr>\n",
       "      <th>3</th>\n",
       "      <td>jose@gmail.com</td>\n",
       "      <td>NaN</td>\n",
       "      <td>Jose</td>\n",
       "      <td>Altuve</td>\n",
       "    </tr>\n",
       "    <tr>\n",
       "      <th>4</th>\n",
       "      <td>bob@email.com</td>\n",
       "      <td>NaN</td>\n",
       "      <td>Bob</td>\n",
       "      <td>Abreu</td>\n",
       "    </tr>\n",
       "  </tbody>\n",
       "</table>\n",
       "</div>"
      ],
      "text/plain": [
       "              email         full_name   first       last\n",
       "0  andres@gmail.com  Andres Galarraga  Andres  Galarraga\n",
       "1    omar@email.com      Omar Vizquel    Omar    Vizquel\n",
       "2  miguel@email.com    Miguel Cabrera  Miguel    Cabrera\n",
       "3    jose@gmail.com               NaN    Jose     Altuve\n",
       "4     bob@email.com               NaN     Bob      Abreu"
      ]
     },
     "execution_count": 20,
     "metadata": {},
     "output_type": "execute_result"
    }
   ],
   "source": [
    "df.drop(index = 5)"
   ]
  },
  {
   "cell_type": "markdown",
   "id": "916eac95",
   "metadata": {},
   "source": [
    "## 4. Eliminar valores de una o varias filas con un condicional"
   ]
  },
  {
   "cell_type": "code",
   "execution_count": 21,
   "id": "1f4dcb0b",
   "metadata": {},
   "outputs": [],
   "source": [
    "# Para hacerlo creamos una variable filtro\n",
    "filt = df['last'] == 'Abreu'"
   ]
  },
  {
   "cell_type": "code",
   "execution_count": 22,
   "id": "db156f00",
   "metadata": {},
   "outputs": [
    {
     "data": {
      "text/html": [
       "<div>\n",
       "<style scoped>\n",
       "    .dataframe tbody tr th:only-of-type {\n",
       "        vertical-align: middle;\n",
       "    }\n",
       "\n",
       "    .dataframe tbody tr th {\n",
       "        vertical-align: top;\n",
       "    }\n",
       "\n",
       "    .dataframe thead th {\n",
       "        text-align: right;\n",
       "    }\n",
       "</style>\n",
       "<table border=\"1\" class=\"dataframe\">\n",
       "  <thead>\n",
       "    <tr style=\"text-align: right;\">\n",
       "      <th></th>\n",
       "      <th>email</th>\n",
       "      <th>full_name</th>\n",
       "      <th>first</th>\n",
       "      <th>last</th>\n",
       "    </tr>\n",
       "  </thead>\n",
       "  <tbody>\n",
       "    <tr>\n",
       "      <th>0</th>\n",
       "      <td>andres@gmail.com</td>\n",
       "      <td>Andres Galarraga</td>\n",
       "      <td>Andres</td>\n",
       "      <td>Galarraga</td>\n",
       "    </tr>\n",
       "    <tr>\n",
       "      <th>1</th>\n",
       "      <td>omar@email.com</td>\n",
       "      <td>Omar Vizquel</td>\n",
       "      <td>Omar</td>\n",
       "      <td>Vizquel</td>\n",
       "    </tr>\n",
       "    <tr>\n",
       "      <th>2</th>\n",
       "      <td>miguel@email.com</td>\n",
       "      <td>Miguel Cabrera</td>\n",
       "      <td>Miguel</td>\n",
       "      <td>Cabrera</td>\n",
       "    </tr>\n",
       "    <tr>\n",
       "      <th>3</th>\n",
       "      <td>jose@gmail.com</td>\n",
       "      <td>NaN</td>\n",
       "      <td>Jose</td>\n",
       "      <td>Altuve</td>\n",
       "    </tr>\n",
       "    <tr>\n",
       "      <th>5</th>\n",
       "      <td>alexis@email.com</td>\n",
       "      <td>NaN</td>\n",
       "      <td>Alexis</td>\n",
       "      <td>Amarista</td>\n",
       "    </tr>\n",
       "  </tbody>\n",
       "</table>\n",
       "</div>"
      ],
      "text/plain": [
       "              email         full_name   first       last\n",
       "0  andres@gmail.com  Andres Galarraga  Andres  Galarraga\n",
       "1    omar@email.com      Omar Vizquel    Omar    Vizquel\n",
       "2  miguel@email.com    Miguel Cabrera  Miguel    Cabrera\n",
       "3    jose@gmail.com               NaN    Jose     Altuve\n",
       "5  alexis@email.com               NaN  Alexis   Amarista"
      ]
     },
     "execution_count": 22,
     "metadata": {},
     "output_type": "execute_result"
    }
   ],
   "source": [
    "# Luego eliminamos aplicando el mismo metodo de \"index\"\n",
    "df.drop(index = df[filt].index)"
   ]
  }
 ],
 "metadata": {
  "kernelspec": {
   "display_name": "Python 3 (ipykernel)",
   "language": "python",
   "name": "python3"
  },
  "language_info": {
   "codemirror_mode": {
    "name": "ipython",
    "version": 3
   },
   "file_extension": ".py",
   "mimetype": "text/x-python",
   "name": "python",
   "nbconvert_exporter": "python",
   "pygments_lexer": "ipython3",
   "version": "3.9.12"
  }
 },
 "nbformat": 4,
 "nbformat_minor": 5
}
