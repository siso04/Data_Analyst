{
 "cells": [
  {
   "cell_type": "code",
   "execution_count": 1,
   "id": "8ffda744",
   "metadata": {},
   "outputs": [],
   "source": [
    "# Primero importamos numpy y pandas\n",
    "import numpy as np\n",
    "import pandas as pd"
   ]
  },
  {
   "cell_type": "code",
   "execution_count": 7,
   "id": "a6fbf9ad",
   "metadata": {},
   "outputs": [],
   "source": [
    "person = {\n",
    "    \"first\":\"Andres\",\n",
    "    \"last\":\"Gallarraga\",\n",
    "    \"email\":\"andres@gmail.com\"\n",
    "}"
   ]
  },
  {
   "cell_type": "code",
   "execution_count": 8,
   "id": "6d2fd2b6",
   "metadata": {},
   "outputs": [
    {
     "data": {
      "text/plain": [
       "{'first': 'Andres', 'last': 'Gallarraga', 'email': 'andres@gmail.com'}"
      ]
     },
     "execution_count": 8,
     "metadata": {},
     "output_type": "execute_result"
    }
   ],
   "source": [
    "person"
   ]
  },
  {
   "cell_type": "code",
   "execution_count": 9,
   "id": "121a8db3",
   "metadata": {},
   "outputs": [],
   "source": [
    "people = {\n",
    "    \"first\":[\"Andres\"],\n",
    "    \"last\":[\"Gallaraga\"],\n",
    "    \"email\":[\"andres@gmail.com\"]\n",
    "}"
   ]
  },
  {
   "cell_type": "code",
   "execution_count": 10,
   "id": "8030b51d",
   "metadata": {},
   "outputs": [
    {
     "data": {
      "text/plain": [
       "{'first': ['Andres'], 'last': ['Gallaraga'], 'email': ['andres@gmail.com']}"
      ]
     },
     "execution_count": 10,
     "metadata": {},
     "output_type": "execute_result"
    }
   ],
   "source": [
    "people"
   ]
  },
  {
   "cell_type": "code",
   "execution_count": 16,
   "id": "725ddd89",
   "metadata": {},
   "outputs": [],
   "source": [
    "people = {\n",
    "    \"first\":[\"Andres\", \"Omar\", \"Miguel\"],\n",
    "    \"last\":[\"Galarraga\", \"Vizquel\", \"Cabrera\"],\n",
    "    \"email\":[\"andres@gmail.com\", \"omar@email.com\", \"miguel@email.com\"]\n",
    "}"
   ]
  },
  {
   "cell_type": "code",
   "execution_count": 17,
   "id": "1c29c2c7",
   "metadata": {},
   "outputs": [
    {
     "data": {
      "text/plain": [
       "{'first': ['Andres', 'Omar', 'Miguel'],\n",
       " 'last': ['Galarraga', 'Vizquel', 'Cabrera'],\n",
       " 'email': ['andres@gmail.com', 'omar@email.com', 'miguel@email.com']}"
      ]
     },
     "execution_count": 17,
     "metadata": {},
     "output_type": "execute_result"
    }
   ],
   "source": [
    "people"
   ]
  },
  {
   "cell_type": "code",
   "execution_count": 18,
   "id": "eaddcdc9",
   "metadata": {},
   "outputs": [],
   "source": [
    "# Para crear un data frame, solo debemos utilizar un diccionario, donde las keys son el nombre de las columnas\n",
    "# y el contenido de las columnas sea una lista\n",
    "# La funcion es pd.DataFrame\n",
    "\n",
    "df = pd.DataFrame(people)"
   ]
  },
  {
   "cell_type": "code",
   "execution_count": 19,
   "id": "0ec05f0f",
   "metadata": {
    "scrolled": true
   },
   "outputs": [
    {
     "data": {
      "text/html": [
       "<div>\n",
       "<style scoped>\n",
       "    .dataframe tbody tr th:only-of-type {\n",
       "        vertical-align: middle;\n",
       "    }\n",
       "\n",
       "    .dataframe tbody tr th {\n",
       "        vertical-align: top;\n",
       "    }\n",
       "\n",
       "    .dataframe thead th {\n",
       "        text-align: right;\n",
       "    }\n",
       "</style>\n",
       "<table border=\"1\" class=\"dataframe\">\n",
       "  <thead>\n",
       "    <tr style=\"text-align: right;\">\n",
       "      <th></th>\n",
       "      <th>first</th>\n",
       "      <th>last</th>\n",
       "      <th>email</th>\n",
       "    </tr>\n",
       "  </thead>\n",
       "  <tbody>\n",
       "    <tr>\n",
       "      <th>0</th>\n",
       "      <td>Andres</td>\n",
       "      <td>Galarraga</td>\n",
       "      <td>andres@gmail.com</td>\n",
       "    </tr>\n",
       "    <tr>\n",
       "      <th>1</th>\n",
       "      <td>Omar</td>\n",
       "      <td>Vizquel</td>\n",
       "      <td>omar@email.com</td>\n",
       "    </tr>\n",
       "    <tr>\n",
       "      <th>2</th>\n",
       "      <td>Miguel</td>\n",
       "      <td>Cabrera</td>\n",
       "      <td>miguel@email.com</td>\n",
       "    </tr>\n",
       "  </tbody>\n",
       "</table>\n",
       "</div>"
      ],
      "text/plain": [
       "    first       last             email\n",
       "0  Andres  Galarraga  andres@gmail.com\n",
       "1    Omar    Vizquel    omar@email.com\n",
       "2  Miguel    Cabrera  miguel@email.com"
      ]
     },
     "execution_count": 19,
     "metadata": {},
     "output_type": "execute_result"
    }
   ],
   "source": [
    "df"
   ]
  },
  {
   "cell_type": "code",
   "execution_count": 23,
   "id": "fbb55a7c",
   "metadata": {},
   "outputs": [
    {
     "data": {
      "text/plain": [
       "Index(['first', 'last', 'email'], dtype='object')"
      ]
     },
     "execution_count": 23,
     "metadata": {},
     "output_type": "execute_result"
    }
   ],
   "source": [
    "# Para saber los nombres de las columnas, debemos utilizar df.columns\n",
    "df.columns"
   ]
  },
  {
   "cell_type": "code",
   "execution_count": 20,
   "id": "ec3f4cad",
   "metadata": {},
   "outputs": [
    {
     "data": {
      "text/plain": [
       "0    andres@gmail.com\n",
       "1      omar@email.com\n",
       "2    miguel@email.com\n",
       "Name: email, dtype: object"
      ]
     },
     "execution_count": 20,
     "metadata": {},
     "output_type": "execute_result"
    }
   ],
   "source": [
    "# Para acceder a los datos de una columna, solo utilizamos su nombre df['nombre_columna']\n",
    "df['email']"
   ]
  },
  {
   "cell_type": "code",
   "execution_count": 22,
   "id": "33ef00c1",
   "metadata": {},
   "outputs": [
    {
     "data": {
      "text/html": [
       "<div>\n",
       "<style scoped>\n",
       "    .dataframe tbody tr th:only-of-type {\n",
       "        vertical-align: middle;\n",
       "    }\n",
       "\n",
       "    .dataframe tbody tr th {\n",
       "        vertical-align: top;\n",
       "    }\n",
       "\n",
       "    .dataframe thead th {\n",
       "        text-align: right;\n",
       "    }\n",
       "</style>\n",
       "<table border=\"1\" class=\"dataframe\">\n",
       "  <thead>\n",
       "    <tr style=\"text-align: right;\">\n",
       "      <th></th>\n",
       "      <th>first</th>\n",
       "      <th>last</th>\n",
       "    </tr>\n",
       "  </thead>\n",
       "  <tbody>\n",
       "    <tr>\n",
       "      <th>0</th>\n",
       "      <td>Andres</td>\n",
       "      <td>Galarraga</td>\n",
       "    </tr>\n",
       "    <tr>\n",
       "      <th>1</th>\n",
       "      <td>Omar</td>\n",
       "      <td>Vizquel</td>\n",
       "    </tr>\n",
       "    <tr>\n",
       "      <th>2</th>\n",
       "      <td>Miguel</td>\n",
       "      <td>Cabrera</td>\n",
       "    </tr>\n",
       "  </tbody>\n",
       "</table>\n",
       "</div>"
      ],
      "text/plain": [
       "    first       last\n",
       "0  Andres  Galarraga\n",
       "1    Omar    Vizquel\n",
       "2  Miguel    Cabrera"
      ]
     },
     "execution_count": 22,
     "metadata": {},
     "output_type": "execute_result"
    }
   ],
   "source": [
    "# Para seleccionar dos columnas debemos utilizar corchetes dobles[[]]\n",
    "df[['first', 'last']]"
   ]
  },
  {
   "cell_type": "markdown",
   "id": "6b1a212c",
   "metadata": {},
   "source": [
    "### Para seleccionar filas, se uilizan \".loc\" (etiquetas/texto) y \".iloc\" (numeros)"
   ]
  },
  {
   "cell_type": "code",
   "execution_count": 25,
   "id": "e874c346",
   "metadata": {},
   "outputs": [
    {
     "data": {
      "text/plain": [
       "first              Andres\n",
       "last            Galarraga\n",
       "email    andres@gmail.com\n",
       "Name: 0, dtype: object"
      ]
     },
     "execution_count": 25,
     "metadata": {},
     "output_type": "execute_result"
    }
   ],
   "source": [
    "# Para selecionar una fila por su indice numerico, solo debemos colocar el numero en corchetes\n",
    "# Vamos a seleccionar, todos los datos de la primera fila\n",
    "df.iloc[0]"
   ]
  },
  {
   "cell_type": "code",
   "execution_count": 31,
   "id": "7da17807",
   "metadata": {},
   "outputs": [
    {
     "data": {
      "text/plain": [
       "first              Andres\n",
       "last            Galarraga\n",
       "email    andres@gmail.com\n",
       "Name: 0, dtype: object"
      ]
     },
     "execution_count": 31,
     "metadata": {},
     "output_type": "execute_result"
    }
   ],
   "source": [
    "# Utilizando .loc podemos hacer lo mismo\n",
    "df.loc[0]"
   ]
  },
  {
   "cell_type": "code",
   "execution_count": 26,
   "id": "5d698d0e",
   "metadata": {},
   "outputs": [
    {
     "data": {
      "text/html": [
       "<div>\n",
       "<style scoped>\n",
       "    .dataframe tbody tr th:only-of-type {\n",
       "        vertical-align: middle;\n",
       "    }\n",
       "\n",
       "    .dataframe tbody tr th {\n",
       "        vertical-align: top;\n",
       "    }\n",
       "\n",
       "    .dataframe thead th {\n",
       "        text-align: right;\n",
       "    }\n",
       "</style>\n",
       "<table border=\"1\" class=\"dataframe\">\n",
       "  <thead>\n",
       "    <tr style=\"text-align: right;\">\n",
       "      <th></th>\n",
       "      <th>first</th>\n",
       "      <th>last</th>\n",
       "      <th>email</th>\n",
       "    </tr>\n",
       "  </thead>\n",
       "  <tbody>\n",
       "    <tr>\n",
       "      <th>0</th>\n",
       "      <td>Andres</td>\n",
       "      <td>Galarraga</td>\n",
       "      <td>andres@gmail.com</td>\n",
       "    </tr>\n",
       "    <tr>\n",
       "      <th>1</th>\n",
       "      <td>Omar</td>\n",
       "      <td>Vizquel</td>\n",
       "      <td>omar@email.com</td>\n",
       "    </tr>\n",
       "  </tbody>\n",
       "</table>\n",
       "</div>"
      ],
      "text/plain": [
       "    first       last             email\n",
       "0  Andres  Galarraga  andres@gmail.com\n",
       "1    Omar    Vizquel    omar@email.com"
      ]
     },
     "execution_count": 26,
     "metadata": {},
     "output_type": "execute_result"
    }
   ],
   "source": [
    "# Para seleccionar dos filas, utilizamos tambien dobles corchetes [[]]\n",
    "df.iloc[[0, 1]]"
   ]
  },
  {
   "cell_type": "markdown",
   "id": "5f526960",
   "metadata": {},
   "source": [
    "### Pero .loc y .iloc, tambien permiten seleccionar filas y columnas a la vez [filas, columas]"
   ]
  },
  {
   "cell_type": "code",
   "execution_count": 30,
   "id": "ffec1f93",
   "metadata": {},
   "outputs": [
    {
     "data": {
      "text/html": [
       "<div>\n",
       "<style scoped>\n",
       "    .dataframe tbody tr th:only-of-type {\n",
       "        vertical-align: middle;\n",
       "    }\n",
       "\n",
       "    .dataframe tbody tr th {\n",
       "        vertical-align: top;\n",
       "    }\n",
       "\n",
       "    .dataframe thead th {\n",
       "        text-align: right;\n",
       "    }\n",
       "</style>\n",
       "<table border=\"1\" class=\"dataframe\">\n",
       "  <thead>\n",
       "    <tr style=\"text-align: right;\">\n",
       "      <th></th>\n",
       "      <th>first</th>\n",
       "      <th>last</th>\n",
       "    </tr>\n",
       "  </thead>\n",
       "  <tbody>\n",
       "    <tr>\n",
       "      <th>0</th>\n",
       "      <td>Andres</td>\n",
       "      <td>Galarraga</td>\n",
       "    </tr>\n",
       "    <tr>\n",
       "      <th>1</th>\n",
       "      <td>Omar</td>\n",
       "      <td>Vizquel</td>\n",
       "    </tr>\n",
       "  </tbody>\n",
       "</table>\n",
       "</div>"
      ],
      "text/plain": [
       "    first       last\n",
       "0  Andres  Galarraga\n",
       "1    Omar    Vizquel"
      ]
     },
     "execution_count": 30,
     "metadata": {},
     "output_type": "execute_result"
    }
   ],
   "source": [
    "# Si utiliamos iloc, debemos recordar, que tanto filas como columnas deben ser seleccionadas por numeros\n",
    "df.iloc[[0, 1], [0, 1]]"
   ]
  },
  {
   "cell_type": "code",
   "execution_count": 32,
   "id": "a7063e76",
   "metadata": {},
   "outputs": [
    {
     "data": {
      "text/html": [
       "<div>\n",
       "<style scoped>\n",
       "    .dataframe tbody tr th:only-of-type {\n",
       "        vertical-align: middle;\n",
       "    }\n",
       "\n",
       "    .dataframe tbody tr th {\n",
       "        vertical-align: top;\n",
       "    }\n",
       "\n",
       "    .dataframe thead th {\n",
       "        text-align: right;\n",
       "    }\n",
       "</style>\n",
       "<table border=\"1\" class=\"dataframe\">\n",
       "  <thead>\n",
       "    <tr style=\"text-align: right;\">\n",
       "      <th></th>\n",
       "      <th>last</th>\n",
       "      <th>first</th>\n",
       "    </tr>\n",
       "  </thead>\n",
       "  <tbody>\n",
       "    <tr>\n",
       "      <th>0</th>\n",
       "      <td>Galarraga</td>\n",
       "      <td>Andres</td>\n",
       "    </tr>\n",
       "    <tr>\n",
       "      <th>1</th>\n",
       "      <td>Vizquel</td>\n",
       "      <td>Omar</td>\n",
       "    </tr>\n",
       "  </tbody>\n",
       "</table>\n",
       "</div>"
      ],
      "text/plain": [
       "        last   first\n",
       "0  Galarraga  Andres\n",
       "1    Vizquel    Omar"
      ]
     },
     "execution_count": 32,
     "metadata": {},
     "output_type": "execute_result"
    }
   ],
   "source": [
    "# Al momento de utilizar \".loc\" podemos utilizar numeros para las filas, pero las columnas se colocan en texto\n",
    "df.loc[[0,1], ['last', 'first']]"
   ]
  },
  {
   "cell_type": "code",
   "execution_count": null,
   "id": "642b8e94",
   "metadata": {},
   "outputs": [],
   "source": []
  }
 ],
 "metadata": {
  "kernelspec": {
   "display_name": "Python 3 (ipykernel)",
   "language": "python",
   "name": "python3"
  },
  "language_info": {
   "codemirror_mode": {
    "name": "ipython",
    "version": 3
   },
   "file_extension": ".py",
   "mimetype": "text/x-python",
   "name": "python",
   "nbconvert_exporter": "python",
   "pygments_lexer": "ipython3",
   "version": "3.9.12"
  }
 },
 "nbformat": 4,
 "nbformat_minor": 5
}
