{
 "cells": [
  {
   "cell_type": "markdown",
   "id": "6bc77d8c",
   "metadata": {},
   "source": [
    "## Los índices son los elementos (número o letras) que indican el contenido de las filas de la tabla"
   ]
  },
  {
   "cell_type": "code",
   "execution_count": 1,
   "id": "8aa3b72b",
   "metadata": {},
   "outputs": [],
   "source": [
    "import numpy as np\n",
    "import pandas as pd"
   ]
  },
  {
   "cell_type": "code",
   "execution_count": 2,
   "id": "e44a6e22",
   "metadata": {},
   "outputs": [],
   "source": [
    "# Vamos a crear un diccionario para utilizarlo como ejemplo\n",
    "people = {\n",
    "    \"first\":[\"Andres\", \"Omar\", \"Miguel\"],\n",
    "    \"last\":[\"Galarraga\", \"Vizquel\", \"Cabrera\"],\n",
    "    \"email\":[\"andres@gmail.com\", \"omar@email.com\", \"miguel@email.com\"]\n",
    "}"
   ]
  },
  {
   "cell_type": "code",
   "execution_count": 3,
   "id": "37a7bc50",
   "metadata": {},
   "outputs": [
    {
     "data": {
      "text/plain": [
       "{'first': ['Andres', 'Omar', 'Miguel'],\n",
       " 'last': ['Galarraga', 'Vizquel', 'Cabrera'],\n",
       " 'email': ['andres@gmail.com', 'omar@email.com', 'miguel@email.com']}"
      ]
     },
     "execution_count": 3,
     "metadata": {},
     "output_type": "execute_result"
    }
   ],
   "source": [
    "people"
   ]
  },
  {
   "cell_type": "code",
   "execution_count": 4,
   "id": "b1e6e253",
   "metadata": {},
   "outputs": [],
   "source": [
    "df = pd.DataFrame(people)"
   ]
  },
  {
   "cell_type": "code",
   "execution_count": 5,
   "id": "cc4764dd",
   "metadata": {},
   "outputs": [
    {
     "data": {
      "text/html": [
       "<div>\n",
       "<style scoped>\n",
       "    .dataframe tbody tr th:only-of-type {\n",
       "        vertical-align: middle;\n",
       "    }\n",
       "\n",
       "    .dataframe tbody tr th {\n",
       "        vertical-align: top;\n",
       "    }\n",
       "\n",
       "    .dataframe thead th {\n",
       "        text-align: right;\n",
       "    }\n",
       "</style>\n",
       "<table border=\"1\" class=\"dataframe\">\n",
       "  <thead>\n",
       "    <tr style=\"text-align: right;\">\n",
       "      <th></th>\n",
       "      <th>first</th>\n",
       "      <th>last</th>\n",
       "      <th>email</th>\n",
       "    </tr>\n",
       "  </thead>\n",
       "  <tbody>\n",
       "    <tr>\n",
       "      <th>0</th>\n",
       "      <td>Andres</td>\n",
       "      <td>Galarraga</td>\n",
       "      <td>andres@gmail.com</td>\n",
       "    </tr>\n",
       "    <tr>\n",
       "      <th>1</th>\n",
       "      <td>Omar</td>\n",
       "      <td>Vizquel</td>\n",
       "      <td>omar@email.com</td>\n",
       "    </tr>\n",
       "    <tr>\n",
       "      <th>2</th>\n",
       "      <td>Miguel</td>\n",
       "      <td>Cabrera</td>\n",
       "      <td>miguel@email.com</td>\n",
       "    </tr>\n",
       "  </tbody>\n",
       "</table>\n",
       "</div>"
      ],
      "text/plain": [
       "    first       last             email\n",
       "0  Andres  Galarraga  andres@gmail.com\n",
       "1    Omar    Vizquel    omar@email.com\n",
       "2  Miguel    Cabrera  miguel@email.com"
      ]
     },
     "execution_count": 5,
     "metadata": {},
     "output_type": "execute_result"
    }
   ],
   "source": [
    "df"
   ]
  },
  {
   "cell_type": "code",
   "execution_count": 6,
   "id": "9ce2fb1e",
   "metadata": {
    "scrolled": true
   },
   "outputs": [
    {
     "data": {
      "text/plain": [
       "0    andres@gmail.com\n",
       "1      omar@email.com\n",
       "2    miguel@email.com\n",
       "Name: email, dtype: object"
      ]
     },
     "execution_count": 6,
     "metadata": {},
     "output_type": "execute_result"
    }
   ],
   "source": [
    "df['email']"
   ]
  },
  {
   "cell_type": "markdown",
   "id": "9843479c",
   "metadata": {},
   "source": [
    "### Colocar una de nuestras columnas como indice de la tabla: df.set_index()"
   ]
  },
  {
   "cell_type": "code",
   "execution_count": 7,
   "id": "3d851287",
   "metadata": {},
   "outputs": [
    {
     "data": {
      "text/html": [
       "<div>\n",
       "<style scoped>\n",
       "    .dataframe tbody tr th:only-of-type {\n",
       "        vertical-align: middle;\n",
       "    }\n",
       "\n",
       "    .dataframe tbody tr th {\n",
       "        vertical-align: top;\n",
       "    }\n",
       "\n",
       "    .dataframe thead th {\n",
       "        text-align: right;\n",
       "    }\n",
       "</style>\n",
       "<table border=\"1\" class=\"dataframe\">\n",
       "  <thead>\n",
       "    <tr style=\"text-align: right;\">\n",
       "      <th></th>\n",
       "      <th>first</th>\n",
       "      <th>last</th>\n",
       "    </tr>\n",
       "    <tr>\n",
       "      <th>email</th>\n",
       "      <th></th>\n",
       "      <th></th>\n",
       "    </tr>\n",
       "  </thead>\n",
       "  <tbody>\n",
       "    <tr>\n",
       "      <th>andres@gmail.com</th>\n",
       "      <td>Andres</td>\n",
       "      <td>Galarraga</td>\n",
       "    </tr>\n",
       "    <tr>\n",
       "      <th>omar@email.com</th>\n",
       "      <td>Omar</td>\n",
       "      <td>Vizquel</td>\n",
       "    </tr>\n",
       "    <tr>\n",
       "      <th>miguel@email.com</th>\n",
       "      <td>Miguel</td>\n",
       "      <td>Cabrera</td>\n",
       "    </tr>\n",
       "  </tbody>\n",
       "</table>\n",
       "</div>"
      ],
      "text/plain": [
       "                   first       last\n",
       "email                              \n",
       "andres@gmail.com  Andres  Galarraga\n",
       "omar@email.com      Omar    Vizquel\n",
       "miguel@email.com  Miguel    Cabrera"
      ]
     },
     "execution_count": 7,
     "metadata": {},
     "output_type": "execute_result"
    }
   ],
   "source": [
    "# En pandas podemos utilizar el indice por defecto, o volver una de nuestras columnas el indice con df.set_index()\n",
    "df.set_index('email')"
   ]
  },
  {
   "cell_type": "code",
   "execution_count": 8,
   "id": "71c2b8fc",
   "metadata": {},
   "outputs": [
    {
     "data": {
      "text/html": [
       "<div>\n",
       "<style scoped>\n",
       "    .dataframe tbody tr th:only-of-type {\n",
       "        vertical-align: middle;\n",
       "    }\n",
       "\n",
       "    .dataframe tbody tr th {\n",
       "        vertical-align: top;\n",
       "    }\n",
       "\n",
       "    .dataframe thead th {\n",
       "        text-align: right;\n",
       "    }\n",
       "</style>\n",
       "<table border=\"1\" class=\"dataframe\">\n",
       "  <thead>\n",
       "    <tr style=\"text-align: right;\">\n",
       "      <th></th>\n",
       "      <th>first</th>\n",
       "      <th>last</th>\n",
       "      <th>email</th>\n",
       "    </tr>\n",
       "  </thead>\n",
       "  <tbody>\n",
       "    <tr>\n",
       "      <th>0</th>\n",
       "      <td>Andres</td>\n",
       "      <td>Galarraga</td>\n",
       "      <td>andres@gmail.com</td>\n",
       "    </tr>\n",
       "    <tr>\n",
       "      <th>1</th>\n",
       "      <td>Omar</td>\n",
       "      <td>Vizquel</td>\n",
       "      <td>omar@email.com</td>\n",
       "    </tr>\n",
       "    <tr>\n",
       "      <th>2</th>\n",
       "      <td>Miguel</td>\n",
       "      <td>Cabrera</td>\n",
       "      <td>miguel@email.com</td>\n",
       "    </tr>\n",
       "  </tbody>\n",
       "</table>\n",
       "</div>"
      ],
      "text/plain": [
       "    first       last             email\n",
       "0  Andres  Galarraga  andres@gmail.com\n",
       "1    Omar    Vizquel    omar@email.com\n",
       "2  Miguel    Cabrera  miguel@email.com"
      ]
     },
     "execution_count": 8,
     "metadata": {},
     "output_type": "execute_result"
    }
   ],
   "source": [
    "# Por defecto, pandas no modifica la tabla original, si la vemos aparecera exactamente igual\n",
    "df"
   ]
  },
  {
   "cell_type": "code",
   "execution_count": 9,
   "id": "7720b7c8",
   "metadata": {},
   "outputs": [],
   "source": [
    "# Para poder cambiar el indice de la tabla, debemos utilizar el argumento \"inplace = True\"\n",
    "df.set_index('email', inplace = True)"
   ]
  },
  {
   "cell_type": "code",
   "execution_count": 11,
   "id": "edbbe964",
   "metadata": {},
   "outputs": [
    {
     "data": {
      "text/html": [
       "<div>\n",
       "<style scoped>\n",
       "    .dataframe tbody tr th:only-of-type {\n",
       "        vertical-align: middle;\n",
       "    }\n",
       "\n",
       "    .dataframe tbody tr th {\n",
       "        vertical-align: top;\n",
       "    }\n",
       "\n",
       "    .dataframe thead th {\n",
       "        text-align: right;\n",
       "    }\n",
       "</style>\n",
       "<table border=\"1\" class=\"dataframe\">\n",
       "  <thead>\n",
       "    <tr style=\"text-align: right;\">\n",
       "      <th></th>\n",
       "      <th>first</th>\n",
       "      <th>last</th>\n",
       "    </tr>\n",
       "    <tr>\n",
       "      <th>email</th>\n",
       "      <th></th>\n",
       "      <th></th>\n",
       "    </tr>\n",
       "  </thead>\n",
       "  <tbody>\n",
       "    <tr>\n",
       "      <th>andres@gmail.com</th>\n",
       "      <td>Andres</td>\n",
       "      <td>Galarraga</td>\n",
       "    </tr>\n",
       "    <tr>\n",
       "      <th>omar@email.com</th>\n",
       "      <td>Omar</td>\n",
       "      <td>Vizquel</td>\n",
       "    </tr>\n",
       "    <tr>\n",
       "      <th>miguel@email.com</th>\n",
       "      <td>Miguel</td>\n",
       "      <td>Cabrera</td>\n",
       "    </tr>\n",
       "  </tbody>\n",
       "</table>\n",
       "</div>"
      ],
      "text/plain": [
       "                   first       last\n",
       "email                              \n",
       "andres@gmail.com  Andres  Galarraga\n",
       "omar@email.com      Omar    Vizquel\n",
       "miguel@email.com  Miguel    Cabrera"
      ]
     },
     "execution_count": 11,
     "metadata": {},
     "output_type": "execute_result"
    }
   ],
   "source": [
    "# Ahora el data frame si aparece con la columna de email como indice\n",
    "df"
   ]
  },
  {
   "cell_type": "code",
   "execution_count": 13,
   "id": "8f2b17b0",
   "metadata": {},
   "outputs": [
    {
     "data": {
      "text/plain": [
       "Index(['andres@gmail.com', 'omar@email.com', 'miguel@email.com'], dtype='object', name='email')"
      ]
     },
     "execution_count": 13,
     "metadata": {},
     "output_type": "execute_result"
    }
   ],
   "source": [
    "df.index"
   ]
  },
  {
   "cell_type": "code",
   "execution_count": 16,
   "id": "ec44de0a",
   "metadata": {},
   "outputs": [
    {
     "data": {
      "text/plain": [
       "first       Omar\n",
       "last     Vizquel\n",
       "Name: omar@email.com, dtype: object"
      ]
     },
     "execution_count": 16,
     "metadata": {},
     "output_type": "execute_result"
    }
   ],
   "source": [
    "# Ahora podemos utilizar \".loc\" para hacer busquedas con el nuevo indice, que es el email\n",
    "df.loc['omar@email.com']"
   ]
  },
  {
   "cell_type": "code",
   "execution_count": 17,
   "id": "f8e798bf",
   "metadata": {},
   "outputs": [
    {
     "data": {
      "text/html": [
       "<div>\n",
       "<style scoped>\n",
       "    .dataframe tbody tr th:only-of-type {\n",
       "        vertical-align: middle;\n",
       "    }\n",
       "\n",
       "    .dataframe tbody tr th {\n",
       "        vertical-align: top;\n",
       "    }\n",
       "\n",
       "    .dataframe thead th {\n",
       "        text-align: right;\n",
       "    }\n",
       "</style>\n",
       "<table border=\"1\" class=\"dataframe\">\n",
       "  <thead>\n",
       "    <tr style=\"text-align: right;\">\n",
       "      <th></th>\n",
       "      <th>first</th>\n",
       "      <th>last</th>\n",
       "    </tr>\n",
       "    <tr>\n",
       "      <th>email</th>\n",
       "      <th></th>\n",
       "      <th></th>\n",
       "    </tr>\n",
       "  </thead>\n",
       "  <tbody>\n",
       "    <tr>\n",
       "      <th>omar@email.com</th>\n",
       "      <td>Omar</td>\n",
       "      <td>Vizquel</td>\n",
       "    </tr>\n",
       "    <tr>\n",
       "      <th>miguel@email.com</th>\n",
       "      <td>Miguel</td>\n",
       "      <td>Cabrera</td>\n",
       "    </tr>\n",
       "  </tbody>\n",
       "</table>\n",
       "</div>"
      ],
      "text/plain": [
       "                   first     last\n",
       "email                            \n",
       "omar@email.com      Omar  Vizquel\n",
       "miguel@email.com  Miguel  Cabrera"
      ]
     },
     "execution_count": 17,
     "metadata": {},
     "output_type": "execute_result"
    }
   ],
   "source": [
    "df.loc[['omar@email.com', 'miguel@email.com']]"
   ]
  },
  {
   "cell_type": "markdown",
   "id": "68df1da8",
   "metadata": {},
   "source": [
    "### Para eliminar el indice, utilizaremos df.reset_index(inplace = True)"
   ]
  },
  {
   "cell_type": "code",
   "execution_count": 19,
   "id": "3961cc0c",
   "metadata": {},
   "outputs": [
    {
     "data": {
      "text/html": [
       "<div>\n",
       "<style scoped>\n",
       "    .dataframe tbody tr th:only-of-type {\n",
       "        vertical-align: middle;\n",
       "    }\n",
       "\n",
       "    .dataframe tbody tr th {\n",
       "        vertical-align: top;\n",
       "    }\n",
       "\n",
       "    .dataframe thead th {\n",
       "        text-align: right;\n",
       "    }\n",
       "</style>\n",
       "<table border=\"1\" class=\"dataframe\">\n",
       "  <thead>\n",
       "    <tr style=\"text-align: right;\">\n",
       "      <th></th>\n",
       "      <th>index</th>\n",
       "      <th>email</th>\n",
       "      <th>first</th>\n",
       "      <th>last</th>\n",
       "    </tr>\n",
       "  </thead>\n",
       "  <tbody>\n",
       "    <tr>\n",
       "      <th>0</th>\n",
       "      <td>0</td>\n",
       "      <td>andres@gmail.com</td>\n",
       "      <td>Andres</td>\n",
       "      <td>Galarraga</td>\n",
       "    </tr>\n",
       "    <tr>\n",
       "      <th>1</th>\n",
       "      <td>1</td>\n",
       "      <td>omar@email.com</td>\n",
       "      <td>Omar</td>\n",
       "      <td>Vizquel</td>\n",
       "    </tr>\n",
       "    <tr>\n",
       "      <th>2</th>\n",
       "      <td>2</td>\n",
       "      <td>miguel@email.com</td>\n",
       "      <td>Miguel</td>\n",
       "      <td>Cabrera</td>\n",
       "    </tr>\n",
       "  </tbody>\n",
       "</table>\n",
       "</div>"
      ],
      "text/plain": [
       "   index             email   first       last\n",
       "0      0  andres@gmail.com  Andres  Galarraga\n",
       "1      1    omar@email.com    Omar    Vizquel\n",
       "2      2  miguel@email.com  Miguel    Cabrera"
      ]
     },
     "execution_count": 19,
     "metadata": {},
     "output_type": "execute_result"
    }
   ],
   "source": [
    "# Haciendo esto, volveremos a tener nuestro indice por defecto\n",
    "df.reset_index(inplace = True)\n",
    "df"
   ]
  },
  {
   "cell_type": "code",
   "execution_count": null,
   "id": "5d3d11a2",
   "metadata": {},
   "outputs": [],
   "source": []
  }
 ],
 "metadata": {
  "kernelspec": {
   "display_name": "Python 3 (ipykernel)",
   "language": "python",
   "name": "python3"
  },
  "language_info": {
   "codemirror_mode": {
    "name": "ipython",
    "version": 3
   },
   "file_extension": ".py",
   "mimetype": "text/x-python",
   "name": "python",
   "nbconvert_exporter": "python",
   "pygments_lexer": "ipython3",
   "version": "3.9.12"
  }
 },
 "nbformat": 4,
 "nbformat_minor": 5
}
