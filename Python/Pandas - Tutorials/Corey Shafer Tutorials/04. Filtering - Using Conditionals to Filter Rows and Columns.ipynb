{
 "cells": [
  {
   "cell_type": "markdown",
   "id": "751a25fd",
   "metadata": {},
   "source": [
    "# Uso de condicionales para filtrar filas y columnas"
   ]
  },
  {
   "cell_type": "code",
   "execution_count": 1,
   "id": "e9dec893",
   "metadata": {},
   "outputs": [],
   "source": [
    "import numpy as np\n",
    "import pandas as pd"
   ]
  },
  {
   "cell_type": "code",
   "execution_count": 7,
   "id": "320aa538",
   "metadata": {},
   "outputs": [],
   "source": [
    "# Los condicionales más comunes en python son los siguientes:\n",
    "\n",
    "# Equals: a == b\n",
    "# Not Equals: a != b\n",
    "# Less than: a < b\n",
    "# Less than or equal to: a <= b\n",
    "# Greater than: a > b\n",
    "# Greater than or equal to: a >= b"
   ]
  },
  {
   "cell_type": "code",
   "execution_count": 2,
   "id": "509bb386",
   "metadata": {},
   "outputs": [],
   "source": [
    "# Vamos a crear un diccionario para utilizarlo como ejemplo\n",
    "people = {\n",
    "    \"first\":[\"Andres\", \"Omar\", \"Miguel\"],\n",
    "    \"last\":[\"Galarraga\", \"Vizquel\", \"Cabrera\"],\n",
    "    \"email\":[\"andres@gmail.com\", \"omar@email.com\", \"miguel@email.com\"]\n",
    "}"
   ]
  },
  {
   "cell_type": "code",
   "execution_count": 3,
   "id": "b4271f18",
   "metadata": {},
   "outputs": [
    {
     "data": {
      "text/plain": [
       "{'first': ['Andres', 'Omar', 'Miguel'],\n",
       " 'last': ['Galarraga', 'Vizquel', 'Cabrera'],\n",
       " 'email': ['andres@gmail.com', 'omar@email.com', 'miguel@email.com']}"
      ]
     },
     "execution_count": 3,
     "metadata": {},
     "output_type": "execute_result"
    }
   ],
   "source": [
    "people"
   ]
  },
  {
   "cell_type": "code",
   "execution_count": 5,
   "id": "8567caae",
   "metadata": {},
   "outputs": [],
   "source": [
    "df = pd.DataFrame(people)"
   ]
  },
  {
   "cell_type": "code",
   "execution_count": 6,
   "id": "c63ea2df",
   "metadata": {},
   "outputs": [
    {
     "data": {
      "text/html": [
       "<div>\n",
       "<style scoped>\n",
       "    .dataframe tbody tr th:only-of-type {\n",
       "        vertical-align: middle;\n",
       "    }\n",
       "\n",
       "    .dataframe tbody tr th {\n",
       "        vertical-align: top;\n",
       "    }\n",
       "\n",
       "    .dataframe thead th {\n",
       "        text-align: right;\n",
       "    }\n",
       "</style>\n",
       "<table border=\"1\" class=\"dataframe\">\n",
       "  <thead>\n",
       "    <tr style=\"text-align: right;\">\n",
       "      <th></th>\n",
       "      <th>first</th>\n",
       "      <th>last</th>\n",
       "      <th>email</th>\n",
       "    </tr>\n",
       "  </thead>\n",
       "  <tbody>\n",
       "    <tr>\n",
       "      <th>0</th>\n",
       "      <td>Andres</td>\n",
       "      <td>Galarraga</td>\n",
       "      <td>andres@gmail.com</td>\n",
       "    </tr>\n",
       "    <tr>\n",
       "      <th>1</th>\n",
       "      <td>Omar</td>\n",
       "      <td>Vizquel</td>\n",
       "      <td>omar@email.com</td>\n",
       "    </tr>\n",
       "    <tr>\n",
       "      <th>2</th>\n",
       "      <td>Miguel</td>\n",
       "      <td>Cabrera</td>\n",
       "      <td>miguel@email.com</td>\n",
       "    </tr>\n",
       "  </tbody>\n",
       "</table>\n",
       "</div>"
      ],
      "text/plain": [
       "    first       last             email\n",
       "0  Andres  Galarraga  andres@gmail.com\n",
       "1    Omar    Vizquel    omar@email.com\n",
       "2  Miguel    Cabrera  miguel@email.com"
      ]
     },
     "execution_count": 6,
     "metadata": {},
     "output_type": "execute_result"
    }
   ],
   "source": [
    "df"
   ]
  },
  {
   "cell_type": "markdown",
   "id": "bb0bf52e",
   "metadata": {},
   "source": [
    "## ¿ Cómo filtrar?"
   ]
  },
  {
   "cell_type": "code",
   "execution_count": 9,
   "id": "fde4b170",
   "metadata": {
    "scrolled": true
   },
   "outputs": [
    {
     "data": {
      "text/plain": [
       "0    False\n",
       "1     True\n",
       "2    False\n",
       "Name: last, dtype: bool"
      ]
     },
     "execution_count": 9,
     "metadata": {},
     "output_type": "execute_result"
    }
   ],
   "source": [
    "# Para filtrar solo debemos selecionar un columna df['columna'] y luego especificar la condicion: df['columna'] >= x. \n",
    "# El resultado del filtro es un valor booleano\n",
    "# Ejemplo:\n",
    "df['last'] == 'Vizquel'"
   ]
  },
  {
   "cell_type": "markdown",
   "id": "4bd2324d",
   "metadata": {},
   "source": [
    "### 1. Crear una variable para filtrar"
   ]
  },
  {
   "cell_type": "code",
   "execution_count": 10,
   "id": "4087e69d",
   "metadata": {},
   "outputs": [],
   "source": [
    "# Para que no aparezca el booleano, debemos crear una variable que nos ayude a filtrar\n",
    "# Se recomienda colocar el filtro en parentesis\n",
    "filtro1 = (df['last'] == 'Vizquel')"
   ]
  },
  {
   "cell_type": "code",
   "execution_count": 12,
   "id": "3c9733e1",
   "metadata": {},
   "outputs": [
    {
     "data": {
      "text/html": [
       "<div>\n",
       "<style scoped>\n",
       "    .dataframe tbody tr th:only-of-type {\n",
       "        vertical-align: middle;\n",
       "    }\n",
       "\n",
       "    .dataframe tbody tr th {\n",
       "        vertical-align: top;\n",
       "    }\n",
       "\n",
       "    .dataframe thead th {\n",
       "        text-align: right;\n",
       "    }\n",
       "</style>\n",
       "<table border=\"1\" class=\"dataframe\">\n",
       "  <thead>\n",
       "    <tr style=\"text-align: right;\">\n",
       "      <th></th>\n",
       "      <th>first</th>\n",
       "      <th>last</th>\n",
       "      <th>email</th>\n",
       "    </tr>\n",
       "  </thead>\n",
       "  <tbody>\n",
       "    <tr>\n",
       "      <th>1</th>\n",
       "      <td>Omar</td>\n",
       "      <td>Vizquel</td>\n",
       "      <td>omar@email.com</td>\n",
       "    </tr>\n",
       "  </tbody>\n",
       "</table>\n",
       "</div>"
      ],
      "text/plain": [
       "  first     last           email\n",
       "1  Omar  Vizquel  omar@email.com"
      ]
     },
     "execution_count": 12,
     "metadata": {},
     "output_type": "execute_result"
    }
   ],
   "source": [
    "df[filtro1]"
   ]
  },
  {
   "cell_type": "code",
   "execution_count": 14,
   "id": "d45ad112",
   "metadata": {},
   "outputs": [
    {
     "data": {
      "text/html": [
       "<div>\n",
       "<style scoped>\n",
       "    .dataframe tbody tr th:only-of-type {\n",
       "        vertical-align: middle;\n",
       "    }\n",
       "\n",
       "    .dataframe tbody tr th {\n",
       "        vertical-align: top;\n",
       "    }\n",
       "\n",
       "    .dataframe thead th {\n",
       "        text-align: right;\n",
       "    }\n",
       "</style>\n",
       "<table border=\"1\" class=\"dataframe\">\n",
       "  <thead>\n",
       "    <tr style=\"text-align: right;\">\n",
       "      <th></th>\n",
       "      <th>first</th>\n",
       "      <th>last</th>\n",
       "      <th>email</th>\n",
       "    </tr>\n",
       "  </thead>\n",
       "  <tbody>\n",
       "    <tr>\n",
       "      <th>1</th>\n",
       "      <td>Omar</td>\n",
       "      <td>Vizquel</td>\n",
       "      <td>omar@email.com</td>\n",
       "    </tr>\n",
       "  </tbody>\n",
       "</table>\n",
       "</div>"
      ],
      "text/plain": [
       "  first     last           email\n",
       "1  Omar  Vizquel  omar@email.com"
      ]
     },
     "execution_count": 14,
     "metadata": {},
     "output_type": "execute_result"
    }
   ],
   "source": [
    "# Una forma alternativa de filtrar, seria colocar toda la operacion de filtrado en corchetes [ ]\n",
    "# Pero es mucho mas confuso para leer, por eso se recomienda crear una variable\n",
    "df [df['last'] == 'Vizquel']"
   ]
  },
  {
   "cell_type": "markdown",
   "id": "6833330f",
   "metadata": {},
   "source": [
    "### 2. Filtrar utilizando .loc"
   ]
  },
  {
   "cell_type": "code",
   "execution_count": 15,
   "id": "d99f41f0",
   "metadata": {},
   "outputs": [
    {
     "data": {
      "text/html": [
       "<div>\n",
       "<style scoped>\n",
       "    .dataframe tbody tr th:only-of-type {\n",
       "        vertical-align: middle;\n",
       "    }\n",
       "\n",
       "    .dataframe tbody tr th {\n",
       "        vertical-align: top;\n",
       "    }\n",
       "\n",
       "    .dataframe thead th {\n",
       "        text-align: right;\n",
       "    }\n",
       "</style>\n",
       "<table border=\"1\" class=\"dataframe\">\n",
       "  <thead>\n",
       "    <tr style=\"text-align: right;\">\n",
       "      <th></th>\n",
       "      <th>first</th>\n",
       "      <th>last</th>\n",
       "      <th>email</th>\n",
       "    </tr>\n",
       "  </thead>\n",
       "  <tbody>\n",
       "    <tr>\n",
       "      <th>1</th>\n",
       "      <td>Omar</td>\n",
       "      <td>Vizquel</td>\n",
       "      <td>omar@email.com</td>\n",
       "    </tr>\n",
       "  </tbody>\n",
       "</table>\n",
       "</div>"
      ],
      "text/plain": [
       "  first     last           email\n",
       "1  Omar  Vizquel  omar@email.com"
      ]
     },
     "execution_count": 15,
     "metadata": {},
     "output_type": "execute_result"
    }
   ],
   "source": [
    "# Tambien podemos aplicar nuestra variable \"filtro\" a la funcion \".loc\"\n",
    "df.loc[filtro1]"
   ]
  },
  {
   "cell_type": "code",
   "execution_count": 16,
   "id": "a811c0ff",
   "metadata": {},
   "outputs": [
    {
     "data": {
      "text/plain": [
       "1    omar@email.com\n",
       "Name: email, dtype: object"
      ]
     },
     "execution_count": 16,
     "metadata": {},
     "output_type": "execute_result"
    }
   ],
   "source": [
    "# Utilizar \".loc\", permite agregar al filtro una o varias columnas\n",
    "df.loc[filtro1, 'email']"
   ]
  },
  {
   "cell_type": "code",
   "execution_count": 17,
   "id": "5f42be1c",
   "metadata": {},
   "outputs": [
    {
     "data": {
      "text/html": [
       "<div>\n",
       "<style scoped>\n",
       "    .dataframe tbody tr th:only-of-type {\n",
       "        vertical-align: middle;\n",
       "    }\n",
       "\n",
       "    .dataframe tbody tr th {\n",
       "        vertical-align: top;\n",
       "    }\n",
       "\n",
       "    .dataframe thead th {\n",
       "        text-align: right;\n",
       "    }\n",
       "</style>\n",
       "<table border=\"1\" class=\"dataframe\">\n",
       "  <thead>\n",
       "    <tr style=\"text-align: right;\">\n",
       "      <th></th>\n",
       "      <th>email</th>\n",
       "      <th>last</th>\n",
       "    </tr>\n",
       "  </thead>\n",
       "  <tbody>\n",
       "    <tr>\n",
       "      <th>1</th>\n",
       "      <td>omar@email.com</td>\n",
       "      <td>Vizquel</td>\n",
       "    </tr>\n",
       "  </tbody>\n",
       "</table>\n",
       "</div>"
      ],
      "text/plain": [
       "            email     last\n",
       "1  omar@email.com  Vizquel"
      ]
     },
     "execution_count": 17,
     "metadata": {},
     "output_type": "execute_result"
    }
   ],
   "source": [
    "df.loc[filtro1, ['email', 'last']]"
   ]
  },
  {
   "cell_type": "markdown",
   "id": "6679dfce",
   "metadata": {},
   "source": [
    "### 3. Filtrar con operadores AND (&) y OR (|) "
   ]
  },
  {
   "cell_type": "code",
   "execution_count": 28,
   "id": "5a76fb60",
   "metadata": {},
   "outputs": [],
   "source": [
    "# Vamos a crear un filtro con dos condiciones\n",
    "filtro2 = (df['last'] == 'Vizquel') & (df['email'] == 'omar@email.com')\n",
    "\n",
    "# Ejemplo con AND: filtro = (df ['last'] == 'Doe') & (df ['first] == 'John')\n",
    "# Ejemplo con OR:  filtro = (df ['last'] == 'Schafer') | (df ['first] == 'John')"
   ]
  },
  {
   "cell_type": "code",
   "execution_count": 27,
   "id": "52960ab3",
   "metadata": {},
   "outputs": [
    {
     "data": {
      "text/html": [
       "<div>\n",
       "<style scoped>\n",
       "    .dataframe tbody tr th:only-of-type {\n",
       "        vertical-align: middle;\n",
       "    }\n",
       "\n",
       "    .dataframe tbody tr th {\n",
       "        vertical-align: top;\n",
       "    }\n",
       "\n",
       "    .dataframe thead th {\n",
       "        text-align: right;\n",
       "    }\n",
       "</style>\n",
       "<table border=\"1\" class=\"dataframe\">\n",
       "  <thead>\n",
       "    <tr style=\"text-align: right;\">\n",
       "      <th></th>\n",
       "      <th>first</th>\n",
       "      <th>last</th>\n",
       "      <th>email</th>\n",
       "    </tr>\n",
       "  </thead>\n",
       "  <tbody>\n",
       "    <tr>\n",
       "      <th>1</th>\n",
       "      <td>Omar</td>\n",
       "      <td>Vizquel</td>\n",
       "      <td>omar@email.com</td>\n",
       "    </tr>\n",
       "  </tbody>\n",
       "</table>\n",
       "</div>"
      ],
      "text/plain": [
       "  first     last           email\n",
       "1  Omar  Vizquel  omar@email.com"
      ]
     },
     "execution_count": 27,
     "metadata": {},
     "output_type": "execute_result"
    }
   ],
   "source": [
    "df[filtro2]"
   ]
  },
  {
   "cell_type": "code",
   "execution_count": 32,
   "id": "ca3e17f1",
   "metadata": {},
   "outputs": [
    {
     "data": {
      "text/plain": [
       "1    Vizquel\n",
       "Name: last, dtype: object"
      ]
     },
     "execution_count": 32,
     "metadata": {},
     "output_type": "execute_result"
    }
   ],
   "source": [
    "# Podemos aplicar .loc de nuevo, para ver el resultado de una sola columna\n",
    "df.loc[filtro2, 'last']"
   ]
  },
  {
   "cell_type": "markdown",
   "id": "e8243756",
   "metadata": {},
   "source": [
    "### 4. Negar un filtro con \"~\""
   ]
  },
  {
   "cell_type": "code",
   "execution_count": 33,
   "id": "0aaa7358",
   "metadata": {},
   "outputs": [
    {
     "data": {
      "text/html": [
       "<div>\n",
       "<style scoped>\n",
       "    .dataframe tbody tr th:only-of-type {\n",
       "        vertical-align: middle;\n",
       "    }\n",
       "\n",
       "    .dataframe tbody tr th {\n",
       "        vertical-align: top;\n",
       "    }\n",
       "\n",
       "    .dataframe thead th {\n",
       "        text-align: right;\n",
       "    }\n",
       "</style>\n",
       "<table border=\"1\" class=\"dataframe\">\n",
       "  <thead>\n",
       "    <tr style=\"text-align: right;\">\n",
       "      <th></th>\n",
       "      <th>first</th>\n",
       "      <th>last</th>\n",
       "      <th>email</th>\n",
       "    </tr>\n",
       "  </thead>\n",
       "  <tbody>\n",
       "    <tr>\n",
       "      <th>0</th>\n",
       "      <td>Andres</td>\n",
       "      <td>Galarraga</td>\n",
       "      <td>andres@gmail.com</td>\n",
       "    </tr>\n",
       "    <tr>\n",
       "      <th>2</th>\n",
       "      <td>Miguel</td>\n",
       "      <td>Cabrera</td>\n",
       "      <td>miguel@email.com</td>\n",
       "    </tr>\n",
       "  </tbody>\n",
       "</table>\n",
       "</div>"
      ],
      "text/plain": [
       "    first       last             email\n",
       "0  Andres  Galarraga  andres@gmail.com\n",
       "2  Miguel    Cabrera  miguel@email.com"
      ]
     },
     "execution_count": 33,
     "metadata": {},
     "output_type": "execute_result"
    }
   ],
   "source": [
    "# Para negar un filtro, solo debemos colocar una virgulilla, delante de la variable de filtrado: ~filtro\n",
    "# Ejemplo: df.loc[~filtro1]\n",
    "df.loc[~filtro1]"
   ]
  }
 ],
 "metadata": {
  "kernelspec": {
   "display_name": "Python 3 (ipykernel)",
   "language": "python",
   "name": "python3"
  },
  "language_info": {
   "codemirror_mode": {
    "name": "ipython",
    "version": 3
   },
   "file_extension": ".py",
   "mimetype": "text/x-python",
   "name": "python",
   "nbconvert_exporter": "python",
   "pygments_lexer": "ipython3",
   "version": "3.9.12"
  }
 },
 "nbformat": 4,
 "nbformat_minor": 5
}
