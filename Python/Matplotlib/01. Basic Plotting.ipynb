{
 "cells": [
  {
   "cell_type": "code",
   "execution_count": 6,
   "id": "c15f0504",
   "metadata": {},
   "outputs": [],
   "source": [
    "# Primero importamos las librerias, la primera es la libreria basica, la segunda describe la arquitectura\n",
    "# por conveciones, solo se importa la segunda parte\n",
    "import matplotlib as mlp\n",
    "import matplotlib.pyplot as plt\n",
    "import numpy as np\n",
    "import pandas as pd"
   ]
  },
  {
   "cell_type": "code",
   "execution_count": 12,
   "id": "488de16c",
   "metadata": {},
   "outputs": [],
   "source": [
    "# Podemos ver todas las caracteristicas de la funcion plot con esta instruccion\n",
    "plt.plot?\n",
    "# plt.plot(*args, scalex=True, scaley=True, data=None, **kwargs)"
   ]
  },
  {
   "cell_type": "code",
   "execution_count": 13,
   "id": "99673bf0",
   "metadata": {},
   "outputs": [
    {
     "data": {
      "text/plain": [
       "[<matplotlib.lines.Line2D at 0x1f86ca67be0>]"
      ]
     },
     "execution_count": 13,
     "metadata": {},
     "output_type": "execute_result"
    },
    {
     "data": {
      "image/png": "[encoded data removed]",
      "text/plain": [
       "<Figure size 432x288 with 1 Axes>"
      ]
     },
     "metadata": {
      "needs_background": "light"
     },
     "output_type": "display_data"
    }
   ],
   "source": [
    "# Grafico con dos puntos\n",
    "plt.plot(3,2)"
   ]
  },
  {
   "cell_type": "markdown",
   "id": "8e11da1c",
   "metadata": {},
   "source": [
    "### Sin embargo, no vemos los puntos de datos, lo cual es un poco extraño. Resulta que el tercer argumento para trazar debe ser una cadena que indique cómo queremos que se represente ese punto de datos (puede ser por ejemplo un punto o una equis)."
   ]
  },
  {
   "cell_type": "code",
   "execution_count": 16,
   "id": "b625373d",
   "metadata": {},
   "outputs": [
    {
     "data": {
      "text/plain": [
       "[<matplotlib.lines.Line2D at 0x1f86cbc0070>]"
      ]
     },
     "execution_count": 16,
     "metadata": {},
     "output_type": "execute_result"
    },
    {
     "data": {
      "image/png": "[encoded data removed]",
      "text/plain": [
       "<Figure size 432x288 with 1 Axes>"
      ]
     },
     "metadata": {
      "needs_background": "light"
     },
     "output_type": "display_data"
    }
   ],
   "source": [
    "plt.plot(3,2, \"x\", color = \"red\")"
   ]
  },
  {
   "cell_type": "markdown",
   "id": "b7b4e935",
   "metadata": {},
   "source": [
    "### Utilización arcaica y poco practica de matplotlib"
   ]
  },
  {
   "cell_type": "code",
   "execution_count": 17,
   "id": "58c9ccc8",
   "metadata": {},
   "outputs": [],
   "source": [
    "# First, I'm going to import a new backend called FigureCanvasAgg.\n",
    "from matplotlib.backends.backend_agg import FigureCanvasAgg\n",
    "# Now we'll bring in the figure object\n",
    "from matplotlib.figure import Figure\n",
    "\n",
    "# I'll create a new empty figure\n",
    "fig = Figure()\n",
    "\n",
    "# And then associate this figure with the canvas backend\n",
    "canvas = FigureCanvasAgg(fig)\n",
    "\n",
    "# We can then add a subplot directly to this. We're going to talk more about subplots in a future \n",
    "# lecture, but this number 111 actually means that we just want one plot. The return value for the \n",
    "# subplot is the Axes object, which contains methods for plotting\n",
    "ax = fig.add_subplot(111)\n",
    "\n",
    "# Now we can plot on the Axes as per usual\n",
    "ax.plot(3, 2, '.')\n",
    "\n",
    "# We have a figure now, but out backend isn't able to render this directly inside of JupyterLab.\n",
    "# So here I'll just save the figure to a png file instead.\n",
    "canvas.print_png('test.png')"
   ]
  },
  {
   "cell_type": "code",
   "execution_count": 18,
   "id": "77ce38bc",
   "metadata": {},
   "outputs": [
    {
     "data": {
      "text/html": [
       "<img src='test.png' />\n"
      ],
      "text/plain": [
       "<IPython.core.display.HTML object>"
      ]
     },
     "metadata": {},
     "output_type": "display_data"
    }
   ],
   "source": [
    "%%html\n",
    "<img src='test.png' />"
   ]
  },
  {
   "cell_type": "markdown",
   "id": "28978b08",
   "metadata": {},
   "source": [
    "### Crear una figura sencilla - Definición del valor de los ejes"
   ]
  },
  {
   "cell_type": "code",
   "execution_count": 22,
   "id": "a6efcf52",
   "metadata": {},
   "outputs": [
    {
     "data": {
      "text/plain": [
       "(0.0, 6.0, 0.0, 10.0)"
      ]
     },
     "execution_count": 22,
     "metadata": {},
     "output_type": "execute_result"
    },
    {
     "data": {
      "image/png": "[encoded data removed]",
      "text/plain": [
       "<Figure size 432x288 with 1 Axes>"
      ]
     },
     "metadata": {
      "needs_background": "light"
     },
     "output_type": "display_data"
    }
   ],
   "source": [
    "plt.figure()\n",
    "plt.plot(3,2, \"o\")\n",
    "\n",
    "# La función \"gca()\" Toma como referencia los ejes para poder manipular su informacion.\n",
    "ax = plt.gca()\n",
    "\n",
    "# Ahora podemos establecer nuestras propiedades de eje, los valores limite de los puntos que serán representados\n",
    "# la funncion es \"ax.axis([])\"\n",
    "# Esta función toma cuatro parámetros: un valor mínimopara x que lo pondremos en cero, y un valor máximo para x \n",
    "# que lo pondremos en seis, y tambien debemos poner los valores mínimos y máximos de y\n",
    "ax.axis([0,6,0,10])"
   ]
  },
  {
   "cell_type": "markdown",
   "id": "30c4659b",
   "metadata": {},
   "source": [
    "### Hacer un grafico con varios puntos"
   ]
  },
  {
   "cell_type": "code",
   "execution_count": 26,
   "id": "9055055d",
   "metadata": {},
   "outputs": [
    {
     "data": {
      "text/plain": [
       "[<matplotlib.lines.Line2D at 0x1f86cf0adc0>]"
      ]
     },
     "execution_count": 26,
     "metadata": {},
     "output_type": "execute_result"
    },
    {
     "data": {
      "image/png": "[encoded data removed]",
      "text/plain": [
       "<Figure size 432x288 with 1 Axes>"
      ]
     },
     "metadata": {
      "needs_background": "light"
     },
     "output_type": "display_data"
    }
   ],
   "source": [
    "# Creamos la figura\n",
    "plt.figure()\n",
    "\n",
    "# Agregamos dos puntos utilizando un circulo\n",
    "plt.plot(1.5, 1.5, \"o\")\n",
    "\n",
    "# Ahora agregamos dos mas\n",
    "plt.plot(2,2, \"x\", color = \"red\")\n",
    "plt.plot(2.5,2.5, \"o\")"
   ]
  },
  {
   "cell_type": "markdown",
   "id": "1a779d55",
   "metadata": {},
   "source": [
    "Mucha complejidad está oculta para usted, pero podemos ir más allá con el objeto **Axes**, hasta el punto en que podemos obtener todos los objetos secundarios que contiene ese eje. Hacemos esto con la función **get_children** de los ejes. Echemos un vistazo a los niños que existen en los ejes actuales."
   ]
  },
  {
   "cell_type": "code",
   "execution_count": 27,
   "id": "d812f5bf",
   "metadata": {
    "scrolled": true
   },
   "outputs": [
    {
     "data": {
      "text/plain": [
       "[<matplotlib.lines.Line2D at 0x1f86cf67d00>,\n",
       " <matplotlib.spines.Spine at 0x1f86cf38730>,\n",
       " <matplotlib.spines.Spine at 0x1f86cf38760>,\n",
       " <matplotlib.spines.Spine at 0x1f86cf38ac0>,\n",
       " <matplotlib.spines.Spine at 0x1f86cf38be0>,\n",
       " <matplotlib.axis.XAxis at 0x1f86cf38610>,\n",
       " <matplotlib.axis.YAxis at 0x1f86cf41100>,\n",
       " Text(0.5, 1.0, ''),\n",
       " Text(0.0, 1.0, ''),\n",
       " Text(1.0, 1.0, ''),\n",
       " <matplotlib.patches.Rectangle at 0x1f86cf50a60>]"
      ]
     },
     "execution_count": 27,
     "metadata": {},
     "output_type": "execute_result"
    },
    {
     "data": {
      "image/png": "[encoded data removed]",
      "text/plain": [
       "<Figure size 432x288 with 1 Axes>"
      ]
     },
     "metadata": {
      "needs_background": "light"
     },
     "output_type": "display_data"
    }
   ],
   "source": [
    "# Get current axes - this will create a new figure since we're in a new cell\n",
    "ax = plt.gca()\n",
    "\n",
    "# Let's add a point\n",
    "plt.plot(1.5, 1.5, 'o')\n",
    "\n",
    "# And take a look at all of the children of the Axes object\n",
    "ax.get_children()"
   ]
  }
 ],
 "metadata": {
  "kernelspec": {
   "display_name": "Python 3 (ipykernel)",
   "language": "python",
   "name": "python3"
  },
  "language_info": {
   "codemirror_mode": {
    "name": "ipython",
    "version": 3
   },
   "file_extension": ".py",
   "mimetype": "text/x-python",
   "name": "python",
   "nbconvert_exporter": "python",
   "pygments_lexer": "ipython3",
   "version": "3.9.12"
  }
 },
 "nbformat": 4,
 "nbformat_minor": 5
}
