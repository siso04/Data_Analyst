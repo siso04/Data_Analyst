{
 "cells": [
  {
   "cell_type": "code",
   "execution_count": 2,
   "id": "0c0aec05",
   "metadata": {},
   "outputs": [],
   "source": [
    "import pandas as pd\n",
    "import numpy as np\n",
    "import matplotlib.pyplot as plt"
   ]
  },
  {
   "cell_type": "markdown",
   "id": "325d7225",
   "metadata": {},
   "source": [
    "El grafico de barra se realiza con la funcion **\"bar\"**"
   ]
  },
  {
   "cell_type": "code",
   "execution_count": 7,
   "id": "81d03024",
   "metadata": {},
   "outputs": [
    {
     "data": {
      "text/plain": [
       "<BarContainer object of 8 artists>"
      ]
     },
     "execution_count": 7,
     "metadata": {},
     "output_type": "execute_result"
    },
    {
     "data": {
      "image/png": "[encoded data removed]",
      "text/plain": [
       "<Figure size 432x288 with 1 Axes>"
      ]
     },
     "metadata": {
      "needs_background": "light"
     },
     "output_type": "display_data"
    }
   ],
   "source": [
    "# Crearemos unos datos de prueba\n",
    "linear_data = np.array([1,2,3,4,5,6,7,8])\n",
    "\n",
    "# Creareamos etiquetas para la variable X\n",
    "xvals = range(len(linear_data))\n",
    "\n",
    "# Y envíe esto junto con las alturas de barra de los datos lineales, a la función de barra.\n",
    "# Pasamos el ancho de la barra como 0.5.\n",
    "plt.bar(xvals, linear_data, width = 0.5, color = \"red\")"
   ]
  },
  {
   "cell_type": "markdown",
   "id": "feae59ab",
   "metadata": {},
   "source": [
    "**Para agregar una segunda barra y colocarla al lado de la primera, simplemente volvemos a llamar al gráfico de barras con nuevos datos**, teniendo en cuenta que necesitamos ajustar el componente x para compensar la primera barra que trazamos."
   ]
  },
  {
   "cell_type": "code",
   "execution_count": 11,
   "id": "9e8a0618",
   "metadata": {},
   "outputs": [
    {
     "data": {
      "text/plain": [
       "<BarContainer object of 8 artists>"
      ]
     },
     "execution_count": 11,
     "metadata": {},
     "output_type": "execute_result"
    },
    {
     "data": {
      "image/png": "[encoded data removed]",
      "text/plain": [
       "<Figure size 432x288 with 1 Axes>"
      ]
     },
     "metadata": {
      "needs_background": "light"
     },
     "output_type": "display_data"
    }
   ],
   "source": [
    "# Comparemos algunos datos exponenciales aquí\n",
    "new_xvals = []\n",
    "exponential_data = linear_data**2\n",
    "\n",
    "# Ahora queremos ajustar los valores del eje x para compensar el primer conjunto de barras trazadas\n",
    "for item in xvals:\n",
    "    new_xvals.append(item+0.3)\n",
    "    \n",
    "# Y ahora graficamos las dos barras\n",
    "plt.bar(xvals, linear_data, width=0.5, color=\"red\")\n",
    "plt.bar(new_xvals, exponential_data, width=0.5, color=\"gray\")"
   ]
  },
  {
   "cell_type": "markdown",
   "id": "2062679c",
   "metadata": {},
   "source": [
    "### Crear una barra de error con el argumento: yerr"
   ]
  },
  {
   "cell_type": "markdown",
   "id": "211512c7",
   "metadata": {},
   "source": [
    "También puede agregar barras de error a cada barra, usando el parámetro y-error. Por ejemplo, cada uno de nuestros datos en los datos lineales podría ser en realidad un valor medio, calculado a partir de muchas observaciones diferentes. Así que podríamos simplemente crear una lista de valores de error que también queremos representar y mostrarlos."
   ]
  },
  {
   "cell_type": "code",
   "execution_count": 13,
   "id": "b461c5f9",
   "metadata": {},
   "outputs": [
    {
     "data": {
      "text/plain": [
       "<BarContainer object of 8 artists>"
      ]
     },
     "execution_count": 13,
     "metadata": {},
     "output_type": "execute_result"
    },
    {
     "data": {
      "image/png": "[encoded data removed]",
      "text/plain": [
       "<Figure size 432x288 with 1 Axes>"
      ]
     },
     "metadata": {
      "needs_background": "light"
     },
     "output_type": "display_data"
    }
   ],
   "source": [
    "# Importaré desde una función aleatoria que puede generar algunos números enteros aleatorios, y luego usaré un\n",
    "# comprensión de lista para generar esta nueva lista.\n",
    "from random import randint\n",
    "linear_err = [randint(1,4) for x in range(len(linear_data))]\n",
    "\n",
    "# Esto trazará un nuevo conjunto de barras con barras de error usando la lista de valores de error aleatorios\n",
    "plt.bar(xvals, linear_data, width=0.5, color=\"red\", yerr=linear_err)"
   ]
  },
  {
   "cell_type": "markdown",
   "id": "e4a08866",
   "metadata": {},
   "source": [
    "### Grafico de barras apiladas"
   ]
  },
  {
   "cell_type": "markdown",
   "id": "2ac8cecb",
   "metadata": {},
   "source": [
    "También podemos hacer gráficos de barras apiladas. Por ejemplo, si quisiéramos mostrar valores acumulativos y al mismo tiempo mantener la serie independiente, podríamos hacerlo configurando el parámetro inferior y nuestra segunda gráfica para que sean iguales al primer conjunto de datos para graficar."
   ]
  },
  {
   "cell_type": "code",
   "execution_count": 19,
   "id": "1652fd9c",
   "metadata": {},
   "outputs": [
    {
     "data": {
      "text/plain": [
       "<BarContainer object of 8 artists>"
      ]
     },
     "execution_count": 19,
     "metadata": {},
     "output_type": "execute_result"
    },
    {
     "data": {
      "image/png": "[encoded data removed]",
      "text/plain": [
       "<Figure size 432x288 with 1 Axes>"
      ]
     },
     "metadata": {
      "needs_background": "light"
     },
     "output_type": "display_data"
    }
   ],
   "source": [
    "# Todo lo que tenemos que hacer aquí es establecer el parámetro inferior del segundo gráfico de barras\n",
    "# para ser las alturas de datos lineales\n",
    "xvals = range(len(linear_data))\n",
    "plt.bar(xvals, linear_data, width = 0.3, color='b')\n",
    "plt.bar(xvals, exponential_data, width = 0.3, bottom=linear_data, color='r')"
   ]
  },
  {
   "cell_type": "markdown",
   "id": "14f1cec0",
   "metadata": {},
   "source": [
    "### Grafico de barras horizontales con: \"barh\" y el parametro \"heights\""
   ]
  },
  {
   "cell_type": "code",
   "execution_count": 23,
   "id": "46b851e9",
   "metadata": {},
   "outputs": [
    {
     "data": {
      "text/plain": [
       "<BarContainer object of 8 artists>"
      ]
     },
     "execution_count": 23,
     "metadata": {},
     "output_type": "execute_result"
    },
    {
     "data": {
      "image/png": "[encoded data removed]",
      "text/plain": [
       "<Figure size 432x288 with 1 Axes>"
      ]
     },
     "metadata": {
      "needs_background": "light"
     },
     "output_type": "display_data"
    }
   ],
   "source": [
    "# Para cambiar a gráficos de barras horizontales, solo usamos barh como la función, y luego\n",
    "# cambiar el parámetro de ancho a una altura\n",
    "xvals = range(len(linear_data))\n",
    "plt.barh(xvals, linear_data, height = 0.1, color='b')\n",
    "plt.barh(xvals, exponential_data, height = 0.4, left=linear_data, color='r')"
   ]
  }
 ],
 "metadata": {
  "kernelspec": {
   "display_name": "Python 3 (ipykernel)",
   "language": "python",
   "name": "python3"
  },
  "language_info": {
   "codemirror_mode": {
    "name": "ipython",
    "version": 3
   },
   "file_extension": ".py",
   "mimetype": "text/x-python",
   "name": "python",
   "nbconvert_exporter": "python",
   "pygments_lexer": "ipython3",
   "version": "3.9.12"
  }
 },
 "nbformat": 4,
 "nbformat_minor": 5
}
