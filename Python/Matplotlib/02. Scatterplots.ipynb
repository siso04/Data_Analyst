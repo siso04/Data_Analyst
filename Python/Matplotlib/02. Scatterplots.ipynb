{
 "cells": [
  {
   "cell_type": "code",
   "execution_count": 2,
   "id": "32aa2396",
   "metadata": {},
   "outputs": [],
   "source": [
    "# Importamos la libreria\n",
    "import matplotlib.pyplot as plt\n",
    "import numpy as np"
   ]
  },
  {
   "cell_type": "code",
   "execution_count": 3,
   "id": "4e03b9f3",
   "metadata": {},
   "outputs": [],
   "source": [
    "# Vamos a crear datos de ejemplo \n",
    "\n",
    "x = np.array([1,2,3,4,5,6,7,8])\n",
    "y = x"
   ]
  },
  {
   "cell_type": "code",
   "execution_count": 5,
   "id": "fd5cc507",
   "metadata": {},
   "outputs": [
    {
     "data": {
      "text/plain": [
       "<matplotlib.collections.PathCollection at 0x241014b9520>"
      ]
     },
     "execution_count": 5,
     "metadata": {},
     "output_type": "execute_result"
    },
    {
     "data": {
      "image/png": "[encoded data removed]",
      "text/plain": [
       "<Figure size 432x288 with 1 Axes>"
      ]
     },
     "metadata": {
      "needs_background": "light"
     },
     "output_type": "display_data"
    }
   ],
   "source": [
    "# Creamos una figura, y utilizamos la funcion scatter para un diagrama de dispersion\n",
    "plt.figure()\n",
    "plt.scatter(x,y)"
   ]
  },
  {
   "cell_type": "markdown",
   "id": "e78de728",
   "metadata": {},
   "source": [
    "El argumento **s es para Size** y la **c** para abreviar la palabra color"
   ]
  },
  {
   "cell_type": "code",
   "execution_count": 7,
   "id": "247cd21a",
   "metadata": {},
   "outputs": [
    {
     "data": {
      "text/plain": [
       "<matplotlib.collections.PathCollection at 0x241015a4fa0>"
      ]
     },
     "execution_count": 7,
     "metadata": {},
     "output_type": "execute_result"
    },
    {
     "data": {
      "image/png": "[encoded data removed]",
      "text/plain": [
       "<Figure size 432x288 with 1 Axes>"
      ]
     },
     "metadata": {
      "needs_background": "light"
     },
     "output_type": "display_data"
    }
   ],
   "source": [
    "# Crear una lista de colores para que cada punto sea diferente\n",
    "# ['green', 'green', 'green', 'green', 'green', 'green', 'green', 'red']\n",
    "colors = ['green']*(len(x)-1)\n",
    "colors.append(\"red\")\n",
    "\n",
    "plt.figure()\n",
    "plt.scatter(x, y, s=100, c=colors)"
   ]
  },
  {
   "cell_type": "markdown",
   "id": "c48ac1b9",
   "metadata": {},
   "source": [
    "### Utilizacion del metodo \"zip\""
   ]
  },
  {
   "cell_type": "markdown",
   "id": "3df941ad",
   "metadata": {},
   "source": [
    "Recuerde que el **método zip toma una cantidad de iterables y crea tuplas a partir de ellos**, haciendo coincidir los elementos según el índice. Entonces, si tenemos dos listas de números, zip tomará el primero de cada uno y creará una tupla, luego el segundo de cada uno y creará una tupla, y así sucesivamente. También recuerde que zip tiene una evaluación perezosa porque en realidad es un generador en Python 3, lo que significa que **debemos usar la función de lista si queremos ver los resultados de iterar sobre zip**.\n",
    "\n",
    "Aquí crearemos un nuevo generador zip con una función zip pasando dos listas de números. Cuando convertimos este generador en una lista, **vemos que hay una lista de tuplas por pares**, el primero de una lista con el primero de la otra, y asi sucesivamente."
   ]
  },
  {
   "cell_type": "markdown",
   "id": "3544b7b9",
   "metadata": {},
   "source": [
    "#### El almacenamiento de datos de puntos como tuplas es común y debe estar familiarizado con la posibilidad de convertir datos hacia y desde este formulario. Si queremos volver a convertir los datos en dos listas, una con el componente x y otra con el componente y, podemos usar el desempaquetado de parámetros con zip"
   ]
  },
  {
   "cell_type": "code",
   "execution_count": 8,
   "id": "b1a692d4",
   "metadata": {},
   "outputs": [],
   "source": [
    "# Convertir las dos listas en una lista de tuplas por pares\n",
    "zip_generator = zip([1,2,3,4,5], [6,7,8,9,10])"
   ]
  },
  {
   "cell_type": "code",
   "execution_count": 9,
   "id": "751dce91",
   "metadata": {},
   "outputs": [
    {
     "name": "stdout",
     "output_type": "stream",
     "text": [
      "[(1, 6), (2, 7), (3, 8), (4, 9), (5, 10)]\n"
     ]
    }
   ],
   "source": [
    "# Esta es la lista del zip\n",
    "print(list(zip_generator))"
   ]
  },
  {
   "cell_type": "code",
   "execution_count": 11,
   "id": "6c63ae02",
   "metadata": {},
   "outputs": [],
   "source": [
    "# Hagámoslo de nuevo, pero esta vez usemos el desempaquetado en lugar de la lista.\n",
    "zip_generator = zip([1,2,3,4,5], [6,7,8,9,10])"
   ]
  },
  {
   "cell_type": "code",
   "execution_count": 12,
   "id": "d2c0603b",
   "metadata": {},
   "outputs": [
    {
     "name": "stdout",
     "output_type": "stream",
     "text": [
      "(1, 6) (2, 7) (3, 8) (4, 9) (5, 10)\n"
     ]
    }
   ],
   "source": [
    "# La estrella * descomprime una colección en argumentos posicionales\n",
    "print(*zip_generator)"
   ]
  },
  {
   "cell_type": "markdown",
   "id": "8e50c261",
   "metadata": {},
   "source": [
    "### Color y etiquetas del scatterplot"
   ]
  },
  {
   "cell_type": "markdown",
   "id": "4b55f1fe",
   "metadata": {},
   "source": [
    "Tomemos estas dos listas de arrib y grafiquémoslas en una nueva figura. En lugar de representarlas como una serie de datos, dividiremos las listas y las representaremos como dos series de datos. En lugar de establecer un color por punto de datos, podemos colorear cada serie con un solo valor si lo deseamos. También podemos hacer cosas como cambiar el color o la transparencia de toda una serie. También podemos agregar una etiqueta descriptiva."
   ]
  },
  {
   "cell_type": "code",
   "execution_count": 13,
   "id": "abc6fe4f",
   "metadata": {},
   "outputs": [
    {
     "data": {
      "text/plain": [
       "<matplotlib.collections.PathCollection at 0x24101617fd0>"
      ]
     },
     "execution_count": 13,
     "metadata": {},
     "output_type": "execute_result"
    },
    {
     "data": {
      "image/png": "[encoded data removed]",
      "text/plain": [
       "<Figure size 432x288 with 1 Axes>"
      ]
     },
     "metadata": {
      "needs_background": "light"
     },
     "output_type": "display_data"
    }
   ],
   "source": [
    "plt.figure()\n",
    "\n",
    "# Trazar una serie de datos 'Estudiantes altos' en rojo usando los dos primeros elementos de x e y\n",
    "plt.scatter(x[:2], y[:2], s=100, c=\"red\", label = \"Tall Students\")\n",
    "\n",
    "# graficar una segunda serie de datos 'Estudiantes cortos' en azul usando los últimos tres elementos de x e y\n",
    "plt.scatter(x[2:], y[2:], s=100, c=\"blue\", label = \"Short Students\")"
   ]
  },
  {
   "cell_type": "markdown",
   "id": "c0659800",
   "metadata": {},
   "source": [
    "La leyenda no aparece porque no la hemos llamado."
   ]
  },
  {
   "cell_type": "markdown",
   "id": "34e2c159",
   "metadata": {},
   "source": [
    "### Etiquetado de los ejes con xlabel y ylabel aplicar leyenda"
   ]
  },
  {
   "cell_type": "markdown",
   "id": "bda6380c",
   "metadata": {},
   "source": [
    "Los ejes generalmente tienen etiquetas para explicar lo que representan o las unidades que describen. Los gráficos también suelen tener títulos, así que pongamos esto en su lugar y, dado que pyplot refleja gran parte de la API de los objetos de los ejes, podemos realizar llamadas directamente con pyplot."
   ]
  },
  {
   "cell_type": "code",
   "execution_count": 14,
   "id": "a0b7f0c5",
   "metadata": {},
   "outputs": [
    {
     "data": {
      "image/png": "[encoded data removed]",
      "text/plain": [
       "<Figure size 432x288 with 1 Axes>"
      ]
     },
     "metadata": {
      "needs_background": "light"
     },
     "output_type": "display_data"
    }
   ],
   "source": [
    "plt.figure()\n",
    "\n",
    "# Trazar una serie de datos 'Estudiantes altos' en rojo usando los dos primeros elementos de x e y\n",
    "plt.scatter(x[:2], y[:2], s=100, c=\"red\", label = \"Tall Students\")\n",
    "\n",
    "# graficar una segunda serie de datos 'Estudiantes cortos' en azul usando los últimos tres elementos de x e y\n",
    "plt.scatter(x[2:], y[2:], s=100, c=\"blue\", label = \"Short Students\")\n",
    "\n",
    "# Agregar etiquteas a los ejes\n",
    "plt.xlabel(\"The number of times the child kick the ball\")\n",
    "plt.ylabel(\"The grade of students\")\n",
    "plt.title(\"Relationship between ball kicking and grade\")\n",
    "\n",
    "# Agrega una leyenda (usa las etiquetas de plt.scatter)\n",
    "plt.legend();"
   ]
  },
  {
   "cell_type": "markdown",
   "id": "f7603bde",
   "metadata": {},
   "source": [
    "### Posicionar la leyenda con el argumento \"loc\""
   ]
  },
  {
   "cell_type": "markdown",
   "id": "db7e5d19",
   "metadata": {},
   "source": [
    "Agregue la leyenda a loc=4 (la esquina inferior derecha), también se deshace del marco que la rodea y agrega un título"
   ]
  },
  {
   "cell_type": "code",
   "execution_count": 15,
   "id": "64569beb",
   "metadata": {},
   "outputs": [
    {
     "data": {
      "text/plain": [
       "<matplotlib.legend.Legend at 0x241016ed490>"
      ]
     },
     "execution_count": 15,
     "metadata": {},
     "output_type": "execute_result"
    },
    {
     "data": {
      "image/png": "[encoded data removed]",
      "text/plain": [
       "<Figure size 432x288 with 1 Axes>"
      ]
     },
     "metadata": {
      "needs_background": "light"
     },
     "output_type": "display_data"
    }
   ],
   "source": [
    "f=plt.figure()\n",
    "# plot a data series 'Tall students' in red using the first two elements of x and y\n",
    "plt.scatter(x[:2], y[:2], s=100, c='red', label='Tall students')\n",
    "# plot a second data series 'Short students' in blue using the last three elements of x and y \n",
    "plt.scatter(x[2:], y[2:], s=100, c='blue', label='Short students');\n",
    "\n",
    "# add a label to the x axis\n",
    "plt.xlabel('The number of times the child kicked a ball')\n",
    "# add a label to the y axis\n",
    "plt.ylabel('The grade of the student')\n",
    "# add a title\n",
    "plt.title('Relationship between ball kicking and grades');\n",
    "# agregue la leyenda a loc=4 (la esquina inferior derecha), también se deshace del marco que la rodea\n",
    "# y agrega un título\n",
    "plt.legend(loc=4, frameon=False, title=\"Legend\")"
   ]
  },
  {
   "cell_type": "code",
   "execution_count": 16,
   "id": "404d6f0c",
   "metadata": {},
   "outputs": [
    {
     "name": "stdout",
     "output_type": "stream",
     "text": [
      "Legend\n",
      "    <matplotlib.offsetbox.VPacker object at 0x000002410176B4C0>\n",
      "        <matplotlib.offsetbox.TextArea object at 0x000002410176B280>\n",
      "            Text(0, 0, '')\n",
      "        <matplotlib.offsetbox.HPacker object at 0x000002410176B130>\n",
      "            <matplotlib.offsetbox.VPacker object at 0x0000024101741490>\n",
      "                <matplotlib.offsetbox.HPacker object at 0x0000024101741550>\n",
      "                    <matplotlib.offsetbox.DrawingArea object at 0x000002410174FD30>\n",
      "                        <matplotlib.collections.PathCollection object at 0x000002410174FC10>\n",
      "                    <matplotlib.offsetbox.TextArea object at 0x000002410174FBE0>\n",
      "                        Text(0, 0, 'Tall students')\n",
      "                <matplotlib.offsetbox.HPacker object at 0x000002410176B040>\n",
      "                    <matplotlib.offsetbox.DrawingArea object at 0x000002410174F730>\n",
      "                        <matplotlib.collections.PathCollection object at 0x0000024101539BB0>\n",
      "                    <matplotlib.offsetbox.TextArea object at 0x000002410174F760>\n",
      "                        Text(0, 0, 'Short students')\n",
      "    FancyBboxPatch((0, 0), width=1, height=1)\n"
     ]
    }
   ],
   "source": [
    "# First, we'll import the artist class from matplotlib.\n",
    "from matplotlib.artist import Artist\n",
    "\n",
    "# Then we'll make a recursive function which takes in an artist and some depth parameter.\n",
    "def rec_gc(art, depth=0):\n",
    "    # Then checks if the object is an artist and if so, prints out its string name.\n",
    "    if isinstance(art, Artist):\n",
    "        # increase the depth for pretty printing\n",
    "        print(\"  \" * depth + str(art))\n",
    "        for child in art.get_children():\n",
    "            rec_gc(child, depth+2)\n",
    "\n",
    "# Call this function on the legend artist to see what the legend is made up of\n",
    "rec_gc(f.legend())"
   ]
  }
 ],
 "metadata": {
  "kernelspec": {
   "display_name": "Python 3 (ipykernel)",
   "language": "python",
   "name": "python3"
  },
  "language_info": {
   "codemirror_mode": {
    "name": "ipython",
    "version": 3
   },
   "file_extension": ".py",
   "mimetype": "text/x-python",
   "name": "python",
   "nbconvert_exporter": "python",
   "pygments_lexer": "ipython3",
   "version": "3.9.12"
  }
 },
 "nbformat": 4,
 "nbformat_minor": 5
}
