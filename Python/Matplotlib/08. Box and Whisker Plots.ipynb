{
 "cells": [
  {
   "cell_type": "code",
   "execution_count": 1,
   "id": "b0d8be03",
   "metadata": {},
   "outputs": [],
   "source": [
    "import pandas as pd\n",
    "import numpy as np\n",
    "import matplotlib.pyplot as plt"
   ]
  },
  {
   "cell_type": "markdown",
   "id": "91c59b30",
   "metadata": {},
   "source": [
    "Un diagrama de caja, a veces llamado diagrama de caja y bigotes, es un método para mostrar estadísticas agregadas de varias muestras de manera concisa. El objetivo del diagrama de caja es resumir la distribución de sus datos a través de una visualización de lo que se llama **el resumen de 5 números: los extremos, a menudo los valores mínimo y máximo, el centro, generalmente la mediana de los datos, y el primero y terceros cuartiles de sus datos**. Los cuartiles de sus datos los dividen en cuatro cubos de tamaño aproximadamente similar, por lo que los marcadores del primer y tercer cuartiles, a veces llamados bisagras, le muestran el 50% medio de sus datos. A través del diagrama de caja podemos tener una idea de la ponderación de los datos en una representación visual bastante compacta."
   ]
  },
  {
   "cell_type": "code",
   "execution_count": 2,
   "id": "e53ba6d3",
   "metadata": {},
   "outputs": [
    {
     "data": {
      "text/html": [
       "<div>\n",
       "<style scoped>\n",
       "    .dataframe tbody tr th:only-of-type {\n",
       "        vertical-align: middle;\n",
       "    }\n",
       "\n",
       "    .dataframe tbody tr th {\n",
       "        vertical-align: top;\n",
       "    }\n",
       "\n",
       "    .dataframe thead th {\n",
       "        text-align: right;\n",
       "    }\n",
       "</style>\n",
       "<table border=\"1\" class=\"dataframe\">\n",
       "  <thead>\n",
       "    <tr style=\"text-align: right;\">\n",
       "      <th></th>\n",
       "      <th>normal</th>\n",
       "      <th>random</th>\n",
       "      <th>gamma</th>\n",
       "    </tr>\n",
       "  </thead>\n",
       "  <tbody>\n",
       "    <tr>\n",
       "      <th>0</th>\n",
       "      <td>-0.504115</td>\n",
       "      <td>0.290746</td>\n",
       "      <td>1.903952</td>\n",
       "    </tr>\n",
       "    <tr>\n",
       "      <th>1</th>\n",
       "      <td>-0.187843</td>\n",
       "      <td>0.994383</td>\n",
       "      <td>2.096915</td>\n",
       "    </tr>\n",
       "    <tr>\n",
       "      <th>2</th>\n",
       "      <td>-0.902405</td>\n",
       "      <td>0.236427</td>\n",
       "      <td>1.550445</td>\n",
       "    </tr>\n",
       "    <tr>\n",
       "      <th>3</th>\n",
       "      <td>-0.026441</td>\n",
       "      <td>0.727042</td>\n",
       "      <td>1.714117</td>\n",
       "    </tr>\n",
       "    <tr>\n",
       "      <th>4</th>\n",
       "      <td>-1.957279</td>\n",
       "      <td>0.796949</td>\n",
       "      <td>0.794953</td>\n",
       "    </tr>\n",
       "    <tr>\n",
       "      <th>...</th>\n",
       "      <td>...</td>\n",
       "      <td>...</td>\n",
       "      <td>...</td>\n",
       "    </tr>\n",
       "    <tr>\n",
       "      <th>9995</th>\n",
       "      <td>0.743958</td>\n",
       "      <td>0.877305</td>\n",
       "      <td>3.758708</td>\n",
       "    </tr>\n",
       "    <tr>\n",
       "      <th>9996</th>\n",
       "      <td>-1.715300</td>\n",
       "      <td>0.616487</td>\n",
       "      <td>0.250654</td>\n",
       "    </tr>\n",
       "    <tr>\n",
       "      <th>9997</th>\n",
       "      <td>0.831785</td>\n",
       "      <td>0.354651</td>\n",
       "      <td>0.107147</td>\n",
       "    </tr>\n",
       "    <tr>\n",
       "      <th>9998</th>\n",
       "      <td>-0.988485</td>\n",
       "      <td>0.328162</td>\n",
       "      <td>0.149832</td>\n",
       "    </tr>\n",
       "    <tr>\n",
       "      <th>9999</th>\n",
       "      <td>1.419331</td>\n",
       "      <td>0.796052</td>\n",
       "      <td>4.088052</td>\n",
       "    </tr>\n",
       "  </tbody>\n",
       "</table>\n",
       "<p>10000 rows × 3 columns</p>\n",
       "</div>"
      ],
      "text/plain": [
       "        normal    random     gamma\n",
       "0    -0.504115  0.290746  1.903952\n",
       "1    -0.187843  0.994383  2.096915\n",
       "2    -0.902405  0.236427  1.550445\n",
       "3    -0.026441  0.727042  1.714117\n",
       "4    -1.957279  0.796949  0.794953\n",
       "...        ...       ...       ...\n",
       "9995  0.743958  0.877305  3.758708\n",
       "9996 -1.715300  0.616487  0.250654\n",
       "9997  0.831785  0.354651  0.107147\n",
       "9998 -0.988485  0.328162  0.149832\n",
       "9999  1.419331  0.796052  4.088052\n",
       "\n",
       "[10000 rows x 3 columns]"
      ]
     },
     "execution_count": 2,
     "metadata": {},
     "output_type": "execute_result"
    }
   ],
   "source": [
    "# Now let's create three different samples from NumPy - One for the normal distribution,\n",
    "# one for random, and one from a gamma distribution. \n",
    "\n",
    "normal_sample = np.random.normal(loc=0.0, scale=1.0, size=10000)\n",
    "random_sample = np.random.random(size=10000)\n",
    "gamma_sample = np.random.gamma(2, size=10000)\n",
    "\n",
    "# Next, let's put those in a pandas DataFrame.\n",
    "df = pd.DataFrame({'normal': normal_sample, \n",
    "                   'random': random_sample, \n",
    "                   'gamma': gamma_sample})\n",
    "df"
   ]
  },
  {
   "cell_type": "code",
   "execution_count": 3,
   "id": "ea695066",
   "metadata": {},
   "outputs": [
    {
     "data": {
      "text/html": [
       "<div>\n",
       "<style scoped>\n",
       "    .dataframe tbody tr th:only-of-type {\n",
       "        vertical-align: middle;\n",
       "    }\n",
       "\n",
       "    .dataframe tbody tr th {\n",
       "        vertical-align: top;\n",
       "    }\n",
       "\n",
       "    .dataframe thead th {\n",
       "        text-align: right;\n",
       "    }\n",
       "</style>\n",
       "<table border=\"1\" class=\"dataframe\">\n",
       "  <thead>\n",
       "    <tr style=\"text-align: right;\">\n",
       "      <th></th>\n",
       "      <th>normal</th>\n",
       "      <th>random</th>\n",
       "      <th>gamma</th>\n",
       "    </tr>\n",
       "  </thead>\n",
       "  <tbody>\n",
       "    <tr>\n",
       "      <th>count</th>\n",
       "      <td>10000.000000</td>\n",
       "      <td>10000.000000</td>\n",
       "      <td>10000.000000</td>\n",
       "    </tr>\n",
       "    <tr>\n",
       "      <th>mean</th>\n",
       "      <td>-0.006014</td>\n",
       "      <td>0.500474</td>\n",
       "      <td>2.002912</td>\n",
       "    </tr>\n",
       "    <tr>\n",
       "      <th>std</th>\n",
       "      <td>0.992080</td>\n",
       "      <td>0.289137</td>\n",
       "      <td>1.420637</td>\n",
       "    </tr>\n",
       "    <tr>\n",
       "      <th>min</th>\n",
       "      <td>-4.176927</td>\n",
       "      <td>0.000116</td>\n",
       "      <td>0.010817</td>\n",
       "    </tr>\n",
       "    <tr>\n",
       "      <th>25%</th>\n",
       "      <td>-0.670474</td>\n",
       "      <td>0.249671</td>\n",
       "      <td>0.952699</td>\n",
       "    </tr>\n",
       "    <tr>\n",
       "      <th>50%</th>\n",
       "      <td>0.003761</td>\n",
       "      <td>0.496047</td>\n",
       "      <td>1.684546</td>\n",
       "    </tr>\n",
       "    <tr>\n",
       "      <th>75%</th>\n",
       "      <td>0.666566</td>\n",
       "      <td>0.748864</td>\n",
       "      <td>2.715650</td>\n",
       "    </tr>\n",
       "    <tr>\n",
       "      <th>max</th>\n",
       "      <td>3.559092</td>\n",
       "      <td>0.999968</td>\n",
       "      <td>12.379281</td>\n",
       "    </tr>\n",
       "  </tbody>\n",
       "</table>\n",
       "</div>"
      ],
      "text/plain": [
       "             normal        random         gamma\n",
       "count  10000.000000  10000.000000  10000.000000\n",
       "mean      -0.006014      0.500474      2.002912\n",
       "std        0.992080      0.289137      1.420637\n",
       "min       -4.176927      0.000116      0.010817\n",
       "25%       -0.670474      0.249671      0.952699\n",
       "50%        0.003761      0.496047      1.684546\n",
       "75%        0.666566      0.748864      2.715650\n",
       "max        3.559092      0.999968     12.379281"
      ]
     },
     "execution_count": 3,
     "metadata": {},
     "output_type": "execute_result"
    }
   ],
   "source": [
    "# Utilizando la funcion describe() podemos ver datos que nos mostrara el boxplot\n",
    "df.describe()"
   ]
  },
  {
   "cell_type": "code",
   "execution_count": 5,
   "id": "6c4568e3",
   "metadata": {},
   "outputs": [
    {
     "data": {
      "text/plain": [
       "<AxesSubplot:>"
      ]
     },
     "execution_count": 5,
     "metadata": {},
     "output_type": "execute_result"
    },
    {
     "data": {
      "image/png": "[encoded data removed]",
      "text/plain": [
       "<Figure size 432x288 with 1 Axes>"
      ]
     },
     "metadata": {
      "needs_background": "light"
     },
     "output_type": "display_data"
    }
   ],
   "source": [
    "# Para ver un diagrama de caja, simplemente elegimos la columna del marco de datos que nos interesa y la pasamos\n",
    "# a la función boxplot de pyplot. matplotlib usa matrices numpy para datos, pero dado que pandas está construido\n",
    "# además de las cosas numpy funcionan con fluidez\n",
    "df.boxplot(['normal'], grid=False)"
   ]
  },
  {
   "cell_type": "code",
   "execution_count": 10,
   "id": "e322efbb",
   "metadata": {},
   "outputs": [
    {
     "data": {
      "image/png": "[encoded data removed]",
      "text/plain": [
       "<Figure size 432x288 with 1 Axes>"
      ]
     },
     "metadata": {
      "needs_background": "light"
     },
     "output_type": "display_data"
    }
   ],
   "source": [
    "# Desafortunadamente, no podemos simplemente pasar un marco de datos de pandas completo a matplotlib.\n",
    "# En su lugar, debemos sacar cada columna y enviarlas como una lista de valores.\n",
    "plt.boxplot([df['normal'], df['random'], df['gamma']], whis=[0,100]);"
   ]
  },
  {
   "cell_type": "code",
   "execution_count": 13,
   "id": "9c5f75eb",
   "metadata": {},
   "outputs": [
    {
     "data": {
      "image/png": "[encoded data removed]",
      "text/plain": [
       "<Figure size 432x288 with 1 Axes>"
      ]
     },
     "metadata": {
      "needs_background": "light"
     },
     "output_type": "display_data"
    }
   ],
   "source": [
    "# Veamos particularmente la distribicion gamma\n",
    "plt.hist(df['gamma'], bins=100);"
   ]
  },
  {
   "cell_type": "markdown",
   "id": "0e4633cd",
   "metadata": {},
   "source": [
    "### Sobreponer los ejes con \"inset_axes\" y colocar un grafico sobre otro"
   ]
  },
  {
   "cell_type": "markdown",
   "id": "b00cf170",
   "metadata": {},
   "source": [
    "Recall that we have one figure with one subplot. Since we didn't do anything fancy with subplots, that means we only have one axes object. We can actually overlay an axes on top of another within a figure. We do this by calling the **inset_axes function** on the figure and sending in details of the new axes that we want to create. The details we send are a position in x/y space and the width and height of the new plot."
   ]
  },
  {
   "cell_type": "code",
   "execution_count": 23,
   "id": "8f6aa988",
   "metadata": {},
   "outputs": [
    {
     "data": {
      "image/png": "[encoded data removed]",
      "text/plain": [
       "<Figure size 648x648 with 1 Axes>"
      ]
     },
     "metadata": {
      "needs_background": "light"
     },
     "output_type": "display_data"
    }
   ],
   "source": [
    "plt.figure(figsize=(9,9))\n",
    "plt.boxplot([df['normal'], df['random'], df['gamma']], whis=[0,100])\n",
    "\n",
    "# ¡Ahora grafiquemos en esos ejes un nuevo objeto de ejes! Esto se superpondrá \n",
    "# arriba, y proporcionamos un cuadro delimitador de (0,0.6) como la parte inferior izquierda, y\n",
    "# (0.6,0.4) como ancho y alto. Estas son proporciones del objeto de eje\n",
    "ax2 = plt.gca().inset_axes([0,0.6,0.6,0.4])\n",
    "\n",
    "# Ya que definimos las coordenadas, podemos plotear nuestro histograma\n",
    "ax2.hist(df['gamma'], bins=100, density=True, color='r')\n",
    "\n",
    "# Y dado que el histograma tendrá etiquetas de marca a la izquierda y chocará con\n",
    "# la figura principal, podemos voltearlas a la derecha\n",
    "ax2.yaxis.tick_right()\n",
    "ax2.set_title('Gamma Distribution', loc='left');"
   ]
  },
  {
   "cell_type": "markdown",
   "id": "721e2bb6",
   "metadata": {},
   "source": [
    "### Omitir el parametro whis, para ver facilmente los \"outliers\""
   ]
  },
  {
   "cell_type": "code",
   "execution_count": 24,
   "id": "8850ccbb",
   "metadata": {},
   "outputs": [
    {
     "data": {
      "image/png": "[encoded data removed]",
      "text/plain": [
       "<Figure size 720x720 with 1 Axes>"
      ]
     },
     "metadata": {
      "needs_background": "light"
     },
     "output_type": "display_data"
    }
   ],
   "source": [
    "# Nice big figure\n",
    "plt.figure(figsize=(10,10))\n",
    "# Now with outliers\n",
    "plt.boxplot([ df['normal'], df['random'], df['gamma'] ]);"
   ]
  }
 ],
 "metadata": {
  "kernelspec": {
   "display_name": "Python 3 (ipykernel)",
   "language": "python",
   "name": "python3"
  },
  "language_info": {
   "codemirror_mode": {
    "name": "ipython",
    "version": 3
   },
   "file_extension": ".py",
   "mimetype": "text/x-python",
   "name": "python",
   "nbconvert_exporter": "python",
   "pygments_lexer": "ipython3",
   "version": "3.9.12"
  }
 },
 "nbformat": 4,
 "nbformat_minor": 5
}
